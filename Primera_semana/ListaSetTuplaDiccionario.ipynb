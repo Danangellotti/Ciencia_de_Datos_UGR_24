{
  "nbformat": 4,
  "nbformat_minor": 0,
  "metadata": {
    "colab": {
      "provenance": [],
      "authorship_tag": "ABX9TyNwH1jTfo623U8zK97RDB0b",
      "include_colab_link": true
    },
    "kernelspec": {
      "name": "python3",
      "display_name": "Python 3"
    },
    "language_info": {
      "name": "python"
    }
  },
  "cells": [
    {
      "cell_type": "markdown",
      "metadata": {
        "id": "view-in-github",
        "colab_type": "text"
      },
      "source": [
        "<a href=\"https://colab.research.google.com/github/Danangellotti/Ciencia_de_Datos_UGR_24/blob/main/ListaSetTuplaDiccionario.ipynb\" target=\"_parent\"><img src=\"https://colab.research.google.com/assets/colab-badge.svg\" alt=\"Open In Colab\"/></a>"
      ]
    },
    {
      "cell_type": "markdown",
      "source": [
        "#Listas"
      ],
      "metadata": {
        "id": "WdUkfi2uLELu"
      }
    },
    {
      "cell_type": "code",
      "execution_count": null,
      "metadata": {
        "colab": {
          "base_uri": "https://localhost:8080/"
        },
        "id": "DpQp-tlBK3Zq",
        "outputId": "0fc5dd73-b4f5-4409-cea6-2ba159c8baaf"
      },
      "outputs": [
        {
          "output_type": "stream",
          "name": "stdout",
          "text": [
            "list_: [1, 2, 3, 4] - tipo: <class 'list'>\n"
          ]
        }
      ],
      "source": [
        "# list_:list=list(1,2,3,4) aqui estamos utilizando el constructor list\n",
        "list_:list = [1,2,3,4]\n",
        "print(f\"list_: {list_} - tipo: {type(list_)}\")"
      ]
    },
    {
      "cell_type": "markdown",
      "source": [
        "# Metodos/Funciones de listas"
      ],
      "metadata": {
        "id": "fPMi8FpdMVXr"
      }
    },
    {
      "cell_type": "code",
      "source": [
        "# append, que es para agregar un valor de la lista\n",
        "list_.append(5)\n",
        "print(f\"list_: {list_}\")"
      ],
      "metadata": {
        "colab": {
          "base_uri": "https://localhost:8080/"
        },
        "id": "IKEoug5FMpan",
        "outputId": "7757475a-0c78-492f-c425-1654772d0a2f"
      },
      "execution_count": null,
      "outputs": [
        {
          "output_type": "stream",
          "name": "stdout",
          "text": [
            "list_: [1, 2, 3, 4, 5]\n"
          ]
        }
      ]
    },
    {
      "cell_type": "code",
      "source": [
        "# insert, que agrego un valor\n",
        "list_.insert(0, 0)\n",
        "print(f\"list_: {list_}\")"
      ],
      "metadata": {
        "colab": {
          "base_uri": "https://localhost:8080/"
        },
        "id": "FMRbAFNHNB05",
        "outputId": "8985cd0c-a45f-4e9e-a477-2c65cd1f26e1"
      },
      "execution_count": null,
      "outputs": [
        {
          "output_type": "stream",
          "name": "stdout",
          "text": [
            "list_: [0, 1, 2, 3, 4, 5]\n"
          ]
        }
      ]
    },
    {
      "cell_type": "code",
      "source": [
        "# extend, me sirve para unir dos listas\n",
        "list_2 = [6, 7]\n",
        "# list_ = list_ + list_2\n",
        "list_.extend(list_2)\n",
        "print(f\"list_: {list_}\")"
      ],
      "metadata": {
        "colab": {
          "base_uri": "https://localhost:8080/"
        },
        "id": "kP8VbHVcNND4",
        "outputId": "a9c184d9-668a-4a15-f528-964dffd44ff3"
      },
      "execution_count": null,
      "outputs": [
        {
          "output_type": "stream",
          "name": "stdout",
          "text": [
            "list_: [0, 1, 2, 3, 4, 5, 6, 7]\n"
          ]
        }
      ]
    },
    {
      "cell_type": "code",
      "source": [
        "# count, para saber cuantas veces aparece 7\n",
        "list_.append(7)\n",
        "print(f\"list_: {list_}\")\n",
        "print(f\"count (7): {list_.count(7)}\")"
      ],
      "metadata": {
        "colab": {
          "base_uri": "https://localhost:8080/"
        },
        "id": "-MrXCAqoNZDM",
        "outputId": "4f654361-b20b-409a-f032-91fb7f258f75"
      },
      "execution_count": null,
      "outputs": [
        {
          "output_type": "stream",
          "name": "stdout",
          "text": [
            "list_: [0, 1, 2, 3, 4, 5, 6, 7, 7]\n",
            "count (7): 2\n"
          ]
        }
      ]
    },
    {
      "cell_type": "code",
      "source": [
        "# index, me devuelve la posicion de un valor\n",
        "print(f\"list_: {list_}\")\n",
        "print(f\"index(5): {list_.index(5)}\")\n",
        "print(f\"index(7): {list_.index(7)}\")"
      ],
      "metadata": {
        "colab": {
          "base_uri": "https://localhost:8080/"
        },
        "id": "R9H8OKTFNrwD",
        "outputId": "45ea9e4e-621a-41ed-af7e-6075dfe7674d"
      },
      "execution_count": null,
      "outputs": [
        {
          "output_type": "stream",
          "name": "stdout",
          "text": [
            "list_: [0, 1, 2, 3, 4, 5, 6, 7, 7]\n",
            "index(5): 5\n",
            "index(7): 7\n"
          ]
        }
      ]
    },
    {
      "cell_type": "code",
      "source": [
        "# remove\n",
        "list_.remove(6)\n",
        "print(f\"list_: {list_}\")"
      ],
      "metadata": {
        "colab": {
          "base_uri": "https://localhost:8080/"
        },
        "id": "ZUe-yuW9N5yc",
        "outputId": "65fce015-10a1-4a39-d389-fc681ac87845"
      },
      "execution_count": null,
      "outputs": [
        {
          "output_type": "stream",
          "name": "stdout",
          "text": [
            "list_: [0, 1, 2, 3, 4, 5, 7, 7]\n"
          ]
        }
      ]
    },
    {
      "cell_type": "code",
      "source": [
        "# pop, me elimina el ultimo valor y lo pone en una variable\n",
        "list_pop = list_.pop()\n",
        "print(f\"list_: {list_}\")\n",
        "print(f\"list_pop: {list_pop}\")"
      ],
      "metadata": {
        "colab": {
          "base_uri": "https://localhost:8080/"
        },
        "id": "P4yX__10OBxy",
        "outputId": "a9c1d78d-0370-45d5-e920-19766472967a"
      },
      "execution_count": null,
      "outputs": [
        {
          "output_type": "stream",
          "name": "stdout",
          "text": [
            "list_: [0, 1, 2, 3, 4, 5, 7]\n",
            "list_pop: 7\n"
          ]
        }
      ]
    },
    {
      "cell_type": "code",
      "source": [
        "# len, nos da la longitud\n",
        "print(f\"list_: {list_}\")\n",
        "print(f\"list_: {len(list_)}\")"
      ],
      "metadata": {
        "colab": {
          "base_uri": "https://localhost:8080/"
        },
        "id": "nHvoO5cxOO__",
        "outputId": "bbea8e97-b633-4537-94a2-07ec9a4609fe"
      },
      "execution_count": null,
      "outputs": [
        {
          "output_type": "stream",
          "name": "stdout",
          "text": [
            "list_: [0, 1, 2, 3, 4, 5, 7]\n",
            "list_: 7\n"
          ]
        }
      ]
    },
    {
      "cell_type": "code",
      "source": [
        "# clear\n",
        "list_.clear()\n",
        "print(f\"list_: {list_}\")\n",
        "print(f\"list_: {len(list_)}\")"
      ],
      "metadata": {
        "colab": {
          "base_uri": "https://localhost:8080/"
        },
        "id": "Q9PRPFi8Oa2l",
        "outputId": "bb523738-1c80-4957-e920-6a26d5cc26d5"
      },
      "execution_count": null,
      "outputs": [
        {
          "output_type": "stream",
          "name": "stdout",
          "text": [
            "list_: []\n",
            "list_: 0\n"
          ]
        }
      ]
    },
    {
      "cell_type": "markdown",
      "source": [
        "# Set"
      ],
      "metadata": {
        "id": "Ub96ZlVfOdxG"
      }
    },
    {
      "cell_type": "code",
      "source": [
        "# la diferencia con las listas es que no admite valores repetidos\n",
        "#set_:set=set([1,2,3,4])\n",
        "set_:set={1,2,3,4,3,4,5,3}\n",
        "print(f\"set_: {set_}\")"
      ],
      "metadata": {
        "colab": {
          "base_uri": "https://localhost:8080/"
        },
        "id": "oinxTBfIOuuF",
        "outputId": "3b4bba01-dcde-46f8-f2ac-138e2903bb53"
      },
      "execution_count": null,
      "outputs": [
        {
          "output_type": "stream",
          "name": "stdout",
          "text": [
            "set_: {1, 2, 3, 4, 5}\n"
          ]
        }
      ]
    },
    {
      "cell_type": "markdown",
      "source": [
        "# Funciones de set"
      ],
      "metadata": {
        "id": "YA-IyGUaPatE"
      }
    },
    {
      "cell_type": "code",
      "source": [
        "# add, para agregar valores\n",
        "set_.add(4)\n",
        "print(f\"set_: {set_}\")\n",
        "set_.add(6)\n",
        "print(f\"set_: {set_}\")"
      ],
      "metadata": {
        "colab": {
          "base_uri": "https://localhost:8080/"
        },
        "id": "90OraaAXPib9",
        "outputId": "750ce356-74b8-4bec-b109-b56f081c34ff"
      },
      "execution_count": null,
      "outputs": [
        {
          "output_type": "stream",
          "name": "stdout",
          "text": [
            "set_: {1, 2, 3, 4, 5}\n",
            "set_: {1, 2, 3, 4, 5, 6}\n"
          ]
        }
      ]
    },
    {
      "cell_type": "code",
      "source": [
        "# update, se utiliza para actualizar el set\n",
        "set_.update({1,2,7})\n",
        "print(f\"set_: {set_}\")"
      ],
      "metadata": {
        "colab": {
          "base_uri": "https://localhost:8080/"
        },
        "id": "7doo9i4lP46u",
        "outputId": "8747312d-2d94-4a44-c4de-77ea0463096b"
      },
      "execution_count": null,
      "outputs": [
        {
          "output_type": "stream",
          "name": "stdout",
          "text": [
            "set_: {1, 2, 3, 4, 5, 6, 7}\n"
          ]
        }
      ]
    },
    {
      "cell_type": "code",
      "source": [
        "# remove\n",
        "set_.remove(6)\n",
        "print(f\"set_: {set_}\")"
      ],
      "metadata": {
        "colab": {
          "base_uri": "https://localhost:8080/"
        },
        "id": "Tb1zFwQQQHqy",
        "outputId": "1c6e4273-4331-45e9-c77d-94741df6aba8"
      },
      "execution_count": null,
      "outputs": [
        {
          "output_type": "stream",
          "name": "stdout",
          "text": [
            "set_: {1, 2, 3, 4, 5, 7}\n"
          ]
        }
      ]
    },
    {
      "cell_type": "code",
      "source": [
        "# pop\n",
        "set_valor=set_.pop()\n",
        "print(f\"set_: {set_}\")\n",
        "print(f\"set_valor: {set_valor}\")"
      ],
      "metadata": {
        "colab": {
          "base_uri": "https://localhost:8080/"
        },
        "id": "HWnlGQLqQOBR",
        "outputId": "60df1e6c-38fb-49f5-fd83-7ac89b7354e8"
      },
      "execution_count": null,
      "outputs": [
        {
          "output_type": "stream",
          "name": "stdout",
          "text": [
            "set_: {2, 3, 4, 5, 7}\n",
            "set_valor: 1\n"
          ]
        }
      ]
    },
    {
      "cell_type": "code",
      "source": [
        "# len\n",
        "print(f\"set_: {set_}\")\n",
        "print(f\"set_: {len(set_)}\")"
      ],
      "metadata": {
        "colab": {
          "base_uri": "https://localhost:8080/"
        },
        "id": "SlgSiKWeQTeb",
        "outputId": "a2f895cd-ce25-4cd0-e7a0-7d46831bc5f7"
      },
      "execution_count": null,
      "outputs": [
        {
          "output_type": "stream",
          "name": "stdout",
          "text": [
            "set_: {2, 3, 4, 5, 7}\n",
            "set_: 5\n"
          ]
        }
      ]
    },
    {
      "cell_type": "code",
      "source": [
        "# clear\n",
        "set_.clear()\n",
        "print(f\"set_: {set_}\")\n",
        "print(f\"set_: {len(set_)}\")"
      ],
      "metadata": {
        "colab": {
          "base_uri": "https://localhost:8080/"
        },
        "id": "WWAvYzguQY33",
        "outputId": "ab96c01b-f107-4a75-8564-7dca4dca1c3f"
      },
      "execution_count": null,
      "outputs": [
        {
          "output_type": "stream",
          "name": "stdout",
          "text": [
            "set_: set()\n",
            "set_: 0\n"
          ]
        }
      ]
    },
    {
      "cell_type": "markdown",
      "source": [
        "#Tuplas"
      ],
      "metadata": {
        "id": "qJGTnfHpQdoz"
      }
    },
    {
      "cell_type": "code",
      "source": [
        "# la tupla puede tener valores repetidos (parecido a la lista) , pero no se puede modificar.\n",
        "# NO LE PUEDO AGREGAR VALORES , ELIMINAR NI BORRA TODOS VALORES\n",
        "# GENERALMENTE SE UTILIZA EN LOS RETORNOS DE FUNCIONES.\n",
        "tuple_:tuple=(1,2,3,1)\n",
        "print(f\"tuple_: {tuple_} - tipo: {type(tuple_)}\")"
      ],
      "metadata": {
        "colab": {
          "base_uri": "https://localhost:8080/"
        },
        "id": "1102tnb2Qoqr",
        "outputId": "dd885f81-e1e8-45fa-bffe-412de11928c9"
      },
      "execution_count": null,
      "outputs": [
        {
          "output_type": "stream",
          "name": "stdout",
          "text": [
            "tuple_: (1, 2, 3, 1) - tipo: <class 'tuple'>\n"
          ]
        }
      ]
    },
    {
      "cell_type": "markdown",
      "source": [
        "# Funciones/ Metodo de tupla\n",
        "\n"
      ],
      "metadata": {
        "id": "VbY2mCJXRH_B"
      }
    },
    {
      "cell_type": "code",
      "source": [
        "# index, me muestra la posicion del elemento\n",
        "print(f\"tuple_: {tuple_}\")\n",
        "print(f\"index(1): {tuple_.index(1)}\")\n",
        "print(f\"index(3): {tuple_.index(3)}\")"
      ],
      "metadata": {
        "colab": {
          "base_uri": "https://localhost:8080/"
        },
        "id": "faknHQ3NRMqC",
        "outputId": "ba5d7a54-8269-453f-e418-1824fdacb1ca"
      },
      "execution_count": null,
      "outputs": [
        {
          "output_type": "stream",
          "name": "stdout",
          "text": [
            "tuple_: (1, 2, 3, 1)\n",
            "index(1): 0\n",
            "index(3): 2\n"
          ]
        }
      ]
    },
    {
      "cell_type": "code",
      "source": [
        "# count, me permite contar la cantidad de veces que aparece un valor\n",
        "print(f\"tuple_: {tuple_}\")\n",
        "print(f\"count(1): {tuple_.count(1)}\")"
      ],
      "metadata": {
        "colab": {
          "base_uri": "https://localhost:8080/"
        },
        "id": "xS6k4XBlRnQK",
        "outputId": "411ef196-f4bf-47e6-9000-dd694ec1fefb"
      },
      "execution_count": null,
      "outputs": [
        {
          "output_type": "stream",
          "name": "stdout",
          "text": [
            "tuple_: (1, 2, 3, 1)\n",
            "count(1): 2\n"
          ]
        }
      ]
    },
    {
      "cell_type": "code",
      "source": [
        "# len, me da la longitud de la tupla\n",
        "print(f\"tuple_: {tuple_}\")\n",
        "print(f\"tuple_: {len(tuple_)}\")"
      ],
      "metadata": {
        "colab": {
          "base_uri": "https://localhost:8080/"
        },
        "id": "GOD9y7VRRuPs",
        "outputId": "eb30c6ee-8e8e-4595-e92b-83f7b743d13f"
      },
      "execution_count": null,
      "outputs": [
        {
          "output_type": "stream",
          "name": "stdout",
          "text": [
            "tuple_: (1, 2, 3, 1)\n",
            "tuple_: 4\n"
          ]
        }
      ]
    },
    {
      "cell_type": "code",
      "source": [
        "print(f\"tuple_: {tuple_}\")\n",
        "print(f\"index(3): {tuple_.index(3)}\")\n",
        "print(f\"tuple_[2]: {tuple_[2]}\")"
      ],
      "metadata": {
        "colab": {
          "base_uri": "https://localhost:8080/"
        },
        "id": "dUo56b5gR2PT",
        "outputId": "ab154a66-df39-402e-fc6d-ff251b4cf756"
      },
      "execution_count": null,
      "outputs": [
        {
          "output_type": "stream",
          "name": "stdout",
          "text": [
            "tuple_: (1, 2, 3, 1)\n",
            "index(3): 2\n",
            "tuple_[2]: 3\n"
          ]
        }
      ]
    },
    {
      "cell_type": "markdown",
      "source": [
        "#Diccionarios"
      ],
      "metadata": {
        "id": "6k1pUrlTwGdX"
      }
    },
    {
      "cell_type": "code",
      "source": [
        "#dict_:dict=dict()\n",
        "dict_:dict={\"1\": \"a\",\"2\": \"b\",\"3\": \"c\"}\n",
        "print(f\"dict_: {dict_}\")"
      ],
      "metadata": {
        "colab": {
          "base_uri": "https://localhost:8080/"
        },
        "id": "Xk6UYs9BwLBF",
        "outputId": "98a1668c-9481-4c0c-c183-405770cdbbfc"
      },
      "execution_count": 1,
      "outputs": [
        {
          "output_type": "stream",
          "name": "stdout",
          "text": [
            "dict_: {'1': 'a', '2': 'b', '3': 'c'}\n"
          ]
        }
      ]
    },
    {
      "cell_type": "code",
      "source": [
        "# [] Agregado de valor y modificar\n",
        "dict_[\"4\"] = \"d\"\n",
        "print(f\"dict_: {dict_}\")\n",
        "dict_[\"3\"] = \"cd\"\n",
        "print(f\"dict_: {dict_}\")\n",
        "dict_[\"3\"] = \"c\"\n",
        "print(f\"dict_: {dict_}\")"
      ],
      "metadata": {
        "colab": {
          "base_uri": "https://localhost:8080/"
        },
        "id": "Ag-o1hhJwZaK",
        "outputId": "3422b3b8-776f-4e5d-86aa-dc2551742fb1"
      },
      "execution_count": 2,
      "outputs": [
        {
          "output_type": "stream",
          "name": "stdout",
          "text": [
            "dict_: {'1': 'a', '2': 'b', '3': 'c', '4': 'd'}\n",
            "dict_: {'1': 'a', '2': 'b', '3': 'cd', '4': 'd'}\n",
            "dict_: {'1': 'a', '2': 'b', '3': 'c', '4': 'd'}\n"
          ]
        }
      ]
    },
    {
      "cell_type": "markdown",
      "source": [
        "#Funciones/ metodos de diccionarios"
      ],
      "metadata": {
        "id": "WkyDpGDHwfkW"
      }
    },
    {
      "cell_type": "code",
      "source": [
        "# update, necesita de un diccionario para actualizarce\n",
        "print(f\"dict_: {dict_}\")\n",
        "dict_.update({\"4\": \"df\", \"5\": \"f\"})\n",
        "print(f\"dict_: {dict_}\")\n",
        "dict_[\"4\"] = \"d\"\n",
        "print(f\"dict_: {dict_}\")"
      ],
      "metadata": {
        "colab": {
          "base_uri": "https://localhost:8080/"
        },
        "id": "44fAmcULwyXa",
        "outputId": "1d9e5d18-8959-4254-95de-1bdf6c77f359"
      },
      "execution_count": 3,
      "outputs": [
        {
          "output_type": "stream",
          "name": "stdout",
          "text": [
            "dict_: {'1': 'a', '2': 'b', '3': 'c', '4': 'd'}\n",
            "dict_: {'1': 'a', '2': 'b', '3': 'c', '4': 'df', '5': 'f'}\n",
            "dict_: {'1': 'a', '2': 'b', '3': 'c', '4': 'd', '5': 'f'}\n"
          ]
        }
      ]
    },
    {
      "cell_type": "code",
      "source": [
        "# pop remuevo quita el valor que deseo\n",
        "print(f\"dict_: {dict_}\")\n",
        "print(f\"pop: {dict_.pop('5')}\")\n",
        "print(f\"dict_: {dict_}\")"
      ],
      "metadata": {
        "colab": {
          "base_uri": "https://localhost:8080/"
        },
        "id": "Izej7Htvw2YM",
        "outputId": "47482ae0-bb49-41d8-9133-50a3a8af3220"
      },
      "execution_count": 4,
      "outputs": [
        {
          "output_type": "stream",
          "name": "stdout",
          "text": [
            "dict_: {'1': 'a', '2': 'b', '3': 'c', '4': 'd', '5': 'f'}\n",
            "pop: f\n",
            "dict_: {'1': 'a', '2': 'b', '3': 'c', '4': 'd'}\n"
          ]
        }
      ]
    },
    {
      "cell_type": "code",
      "source": [
        "# keys, devuelve un iterador sobre todas las claves\n",
        "print(f\"keys: {list(dict_.keys())}\")"
      ],
      "metadata": {
        "colab": {
          "base_uri": "https://localhost:8080/"
        },
        "id": "74r2B_nJw8Ja",
        "outputId": "bea99444-afba-401b-ef09-4f4f27ea1b2d"
      },
      "execution_count": 5,
      "outputs": [
        {
          "output_type": "stream",
          "name": "stdout",
          "text": [
            "keys: ['1', '2', '3', '4']\n"
          ]
        }
      ]
    },
    {
      "cell_type": "code",
      "source": [
        "# values, me muestra todos los valores\n",
        "print(f\"keys: {list(dict_.values())}\")"
      ],
      "metadata": {
        "colab": {
          "base_uri": "https://localhost:8080/"
        },
        "id": "XKkmK-TVxAdx",
        "outputId": "89ecaf75-ddf7-46f6-cfc3-b20e079905c3"
      },
      "execution_count": 6,
      "outputs": [
        {
          "output_type": "stream",
          "name": "stdout",
          "text": [
            "keys: ['a', 'b', 'c', 'd']\n"
          ]
        }
      ]
    },
    {
      "cell_type": "code",
      "source": [
        "# items, me muestra tuplas de key value\n",
        "for key,value in dict_.items():\n",
        "  print(f\"key: {key} - value: {value}\")"
      ],
      "metadata": {
        "colab": {
          "base_uri": "https://localhost:8080/"
        },
        "id": "YXlLW8EqxHT8",
        "outputId": "aa7de35b-afc2-45bd-976c-390100ffd417"
      },
      "execution_count": 7,
      "outputs": [
        {
          "output_type": "stream",
          "name": "stdout",
          "text": [
            "key: 1 - value: a\n",
            "key: 2 - value: b\n",
            "key: 3 - value: c\n",
            "key: 4 - value: d\n"
          ]
        }
      ]
    },
    {
      "cell_type": "code",
      "source": [
        "# len, podemos saber la longitud\n",
        "print(f\"dict_: {dict_}\")\n",
        "print(f\"len: {len(dict_)}\")"
      ],
      "metadata": {
        "colab": {
          "base_uri": "https://localhost:8080/"
        },
        "id": "AytnYyZdxPLT",
        "outputId": "8b8aa46e-1e5e-4cd8-c778-32c1f9f9aea2"
      },
      "execution_count": 8,
      "outputs": [
        {
          "output_type": "stream",
          "name": "stdout",
          "text": [
            "dict_: {'1': 'a', '2': 'b', '3': 'c', '4': 'd'}\n",
            "len: 4\n"
          ]
        }
      ]
    },
    {
      "cell_type": "code",
      "source": [
        "# clear\n",
        "dict_.clear()\n",
        "print(f\"dict_: {dict_}\")\n",
        "print(f\"len: {len(dict_)}\")"
      ],
      "metadata": {
        "colab": {
          "base_uri": "https://localhost:8080/"
        },
        "id": "2o1SLINRxTbH",
        "outputId": "04360f9a-1076-4306-f762-d9912b71212a"
      },
      "execution_count": 9,
      "outputs": [
        {
          "output_type": "stream",
          "name": "stdout",
          "text": [
            "dict_: {}\n",
            "len: 0\n"
          ]
        }
      ]
    }
  ]
}