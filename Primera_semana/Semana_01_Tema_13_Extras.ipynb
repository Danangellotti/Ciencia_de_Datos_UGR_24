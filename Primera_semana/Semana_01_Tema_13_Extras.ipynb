{
  "nbformat": 4,
  "nbformat_minor": 0,
  "metadata": {
    "colab": {
      "provenance": [],
      "include_colab_link": true
    },
    "kernelspec": {
      "name": "python3",
      "display_name": "Python 3"
    },
    "language_info": {
      "name": "python"
    }
  },
  "cells": [
    {
      "cell_type": "markdown",
      "metadata": {
        "id": "view-in-github",
        "colab_type": "text"
      },
      "source": [
        "<a href=\"https://colab.research.google.com/github/Danangellotti/Ciencia_de_Datos_UGR_24/blob/main/Semana_01_Tema_13_Extras.ipynb\" target=\"_parent\"><img src=\"https://colab.research.google.com/assets/colab-badge.svg\" alt=\"Open In Colab\"/></a>"
      ]
    },
    {
      "cell_type": "markdown",
      "source": [
        "# Extras\n",
        "\n",
        "* Evitar desconexión del colab\n",
        "* Utilizar un módulo propio\n",
        "* Medir tiempo de ejecución\n",
        "* Variables locales\n",
        "* Variables globales\n",
        "* Pip install\n",
        "* Pip install desde github, gitlab, bitbucket, etc.\n",
        "* Mostrando tablas\n"
      ],
      "metadata": {
        "id": "SLIwkVEsldQw"
      }
    },
    {
      "cell_type": "markdown",
      "source": [
        "## Evitar desconexión del colab"
      ],
      "metadata": {
        "id": "cw28VjJrm9Zv"
      }
    },
    {
      "cell_type": "code",
      "source": [
        "# Abrir la consola de desarrolador del navegador, generalmente se hace\n",
        "# presionando F12 or ctrl+shift+i\n",
        "# Luego abrir la consola y pegar el siguiente código javascript\n",
        "\n",
        "function KeepClicking(){\n",
        " console.log(\"Clicking\");\n",
        " document.querySelector(\"colab-connect-button\").click()\n",
        "}\n",
        "setInterval(KeepClicking,60000);"
      ],
      "metadata": {
        "id": "o1x4zItlK9Ew"
      },
      "execution_count": null,
      "outputs": []
    },
    {
      "cell_type": "markdown",
      "source": [
        "## Utilizar un módulo propio"
      ],
      "metadata": {
        "id": "3bV0yfpUme11"
      }
    },
    {
      "cell_type": "code",
      "source": [
        "from google.colab import drive\n",
        "\n",
        "drive.mount(\"/content/drive\")"
      ],
      "metadata": {
        "id": "AKfgBAwvzt8b",
        "colab": {
          "base_uri": "https://localhost:8080/"
        },
        "outputId": "6939773c-bcdd-4aac-c1b9-e42d79ce4357"
      },
      "execution_count": null,
      "outputs": [
        {
          "output_type": "stream",
          "name": "stdout",
          "text": [
            "Mounted at /content/drive\n"
          ]
        }
      ]
    },
    {
      "cell_type": "code",
      "execution_count": null,
      "metadata": {
        "id": "RuD8Nh6gxbFg"
      },
      "outputs": [],
      "source": [
        "import sys\n",
        "\n",
        "sys.path.insert(0,\"/content/drive/MyDrive/python\")"
      ]
    },
    {
      "cell_type": "code",
      "source": [
        "from utils import my_print\n",
        "\n",
        "my_print(text=\"Hola MUNDO!\")"
      ],
      "metadata": {
        "id": "_qdn14XjHP9N",
        "colab": {
          "base_uri": "https://localhost:8080/"
        },
        "outputId": "764ad613-3a84-4395-cd9d-2cead7a93d92"
      },
      "execution_count": null,
      "outputs": [
        {
          "output_type": "stream",
          "name": "stdout",
          "text": [
            "Hola MUNDO!\n"
          ]
        }
      ]
    },
    {
      "cell_type": "code",
      "source": [
        "print(sys.path)"
      ],
      "metadata": {
        "id": "RCh26bm4y12M",
        "colab": {
          "base_uri": "https://localhost:8080/"
        },
        "outputId": "d26263d7-042e-46c2-9adf-274a31569ee8"
      },
      "execution_count": null,
      "outputs": [
        {
          "output_type": "stream",
          "name": "stdout",
          "text": [
            "['/content/drive/MyDrive/python', '/content', '/env/python', '/usr/lib/python38.zip', '/usr/lib/python3.8', '/usr/lib/python3.8/lib-dynload', '', '/usr/local/lib/python3.8/dist-packages', '/usr/lib/python3/dist-packages', '/usr/local/lib/python3.8/dist-packages/IPython/extensions', '/root/.ipython']\n"
          ]
        }
      ]
    },
    {
      "cell_type": "markdown",
      "source": [
        "## Medir tiempo de ejecución\n",
        "\n",
        "Explicación de los valores obtenidos:\n",
        "- **CPU times**:  es el tiempo que tarda la CPU en ejecutar la instrucción y se divide en:\n",
        "  - **user**: tiempo que la CPU tarda en ejecutar el código.\n",
        "  - **sys**:  tiempo que la CPU tarda en ejecutar el código en el sistema.\n",
        "- **Wall time**: tiempo total que tarda en ejecutarse una instrucción, incluido el tiempo que se tarda en realizar operaciones de entrada/salida (I/O)."
      ],
      "metadata": {
        "id": "Tt09qJkRmiTa"
      }
    },
    {
      "cell_type": "code",
      "source": [
        "def iteracion():\n",
        "  for i in range(1000):\n",
        "    pass\n",
        "\n",
        "%time print(\"Hola MUNDO!\")\n",
        "print()\n",
        "%time iteracion()"
      ],
      "metadata": {
        "id": "v1ig68QGxsT6",
        "colab": {
          "base_uri": "https://localhost:8080/"
        },
        "outputId": "a2aae9d1-6068-4e8d-b763-50a8a34badc6"
      },
      "execution_count": null,
      "outputs": [
        {
          "output_type": "stream",
          "name": "stdout",
          "text": [
            "Hola MUNDO!\n",
            "CPU times: user 893 µs, sys: 0 ns, total: 893 µs\n",
            "Wall time: 901 µs\n",
            "\n",
            "CPU times: user 41 µs, sys: 0 ns, total: 41 µs\n",
            "Wall time: 44.3 µs\n"
          ]
        }
      ]
    },
    {
      "cell_type": "markdown",
      "source": [
        "## Variables locales\n",
        "\n",
        "Muestra variables en el ambito local que puede ser una función o un script."
      ],
      "metadata": {
        "id": "GdDg31OlmmJ6"
      }
    },
    {
      "cell_type": "code",
      "source": [
        "vars()"
      ],
      "metadata": {
        "id": "sBoDYY2Txzda",
        "colab": {
          "base_uri": "https://localhost:8080/"
        },
        "outputId": "d0492e17-f228-490f-92ef-ae25af479275"
      },
      "execution_count": null,
      "outputs": [
        {
          "output_type": "execute_result",
          "data": {
            "text/plain": [
              "{'__name__': '__main__',\n",
              " '__doc__': 'Automatically created module for IPython interactive environment',\n",
              " '__package__': None,\n",
              " '__loader__': None,\n",
              " '__spec__': None,\n",
              " '__builtin__': <module 'builtins' (built-in)>,\n",
              " '__builtins__': <module 'builtins' (built-in)>,\n",
              " '_ih': ['',\n",
              "  'from google.colab import drive\\n\\ndrive.mount(\"/content/drive\")',\n",
              "  'import sys\\n\\nsys.path.insert(0,\"/content/drive/MyDrive/python\")',\n",
              "  'from utils import my_print\\n\\nmy_print(text=\"Hola MUNDO!\")',\n",
              "  'print(sys.path)',\n",
              "  'def iteracion():\\n  for i in range(1000):\\n    pass\\n\\nget_ipython().run_line_magic(\\'time\\', \\'print(\"Hola MUNDO!\")\\')\\nprint()\\nget_ipython().run_line_magic(\\'time\\', \\'iteracion()\\')',\n",
              "  'vars()'],\n",
              " '_oh': {},\n",
              " '_dh': ['/content'],\n",
              " 'In': ['',\n",
              "  'from google.colab import drive\\n\\ndrive.mount(\"/content/drive\")',\n",
              "  'import sys\\n\\nsys.path.insert(0,\"/content/drive/MyDrive/python\")',\n",
              "  'from utils import my_print\\n\\nmy_print(text=\"Hola MUNDO!\")',\n",
              "  'print(sys.path)',\n",
              "  'def iteracion():\\n  for i in range(1000):\\n    pass\\n\\nget_ipython().run_line_magic(\\'time\\', \\'print(\"Hola MUNDO!\")\\')\\nprint()\\nget_ipython().run_line_magic(\\'time\\', \\'iteracion()\\')',\n",
              "  'vars()'],\n",
              " 'Out': {},\n",
              " 'get_ipython': <bound method InteractiveShell.get_ipython of <google.colab._shell.Shell object at 0x7ff1ead67940>>,\n",
              " 'exit': <IPython.core.autocall.ZMQExitAutocall at 0x7ff1e84c9d30>,\n",
              " 'quit': <IPython.core.autocall.ZMQExitAutocall at 0x7ff1e84c9d30>,\n",
              " '_': '',\n",
              " '__': '',\n",
              " '___': '',\n",
              " '_i': 'def iteracion():\\n  for i in range(1000):\\n    pass\\n\\n%time print(\"Hola MUNDO!\")\\nprint()\\n%time iteracion()',\n",
              " '_ii': 'print(sys.path)',\n",
              " '_iii': 'from utils import my_print\\n\\nmy_print(text=\"Hola MUNDO!\")',\n",
              " '_i1': 'from google.colab import drive\\n\\ndrive.mount(\"/content/drive\")',\n",
              " 'drive': <module 'google.colab.drive' from '/usr/local/lib/python3.8/dist-packages/google/colab/drive.py'>,\n",
              " '_i2': 'import sys\\n\\nsys.path.insert(0,\"/content/drive/MyDrive/python\")',\n",
              " 'sys': <module 'sys' (built-in)>,\n",
              " '_i3': 'from utils import my_print\\n\\nmy_print(text=\"Hola MUNDO!\")',\n",
              " 'my_print': <function utils.my_print(text: str)>,\n",
              " '_i4': 'print(sys.path)',\n",
              " '_i5': 'def iteracion():\\n  for i in range(1000):\\n    pass\\n\\n%time print(\"Hola MUNDO!\")\\nprint()\\n%time iteracion()',\n",
              " 'iteracion': <function __main__.iteracion()>,\n",
              " '_i6': 'vars()'}"
            ]
          },
          "metadata": {},
          "execution_count": 6
        }
      ]
    },
    {
      "cell_type": "markdown",
      "source": [
        "## Variables globales\n",
        "\n",
        "Muestra las variables globales que siempre van a poder ser accedidas desde cualquier módulo o función."
      ],
      "metadata": {
        "id": "Uf8tKGjlmobU"
      }
    },
    {
      "cell_type": "code",
      "source": [
        "globals()"
      ],
      "metadata": {
        "id": "ou3WLLb8x5VR",
        "colab": {
          "base_uri": "https://localhost:8080/"
        },
        "outputId": "55e4af87-e4c6-42bb-d0d4-1cc348ac8588"
      },
      "execution_count": null,
      "outputs": [
        {
          "output_type": "execute_result",
          "data": {
            "text/plain": [
              "{'__name__': '__main__',\n",
              " '__doc__': 'Automatically created module for IPython interactive environment',\n",
              " '__package__': None,\n",
              " '__loader__': None,\n",
              " '__spec__': None,\n",
              " '__builtin__': <module 'builtins' (built-in)>,\n",
              " '__builtins__': <module 'builtins' (built-in)>,\n",
              " '_ih': ['',\n",
              "  'from google.colab import drive\\n\\ndrive.mount(\"/content/drive\")',\n",
              "  'import sys\\n\\nsys.path.insert(0,\"/content/drive/MyDrive/python\")',\n",
              "  'from utils import my_print\\n\\nmy_print(text=\"Hola MUNDO!\")',\n",
              "  'print(sys.path)',\n",
              "  'def iteracion():\\n  for i in range(1000):\\n    pass\\n\\nget_ipython().run_line_magic(\\'time\\', \\'print(\"Hola MUNDO!\")\\')\\nprint()\\nget_ipython().run_line_magic(\\'time\\', \\'iteracion()\\')',\n",
              "  'vars()',\n",
              "  'globals()'],\n",
              " '_oh': {6: {...}},\n",
              " '_dh': ['/content'],\n",
              " 'In': ['',\n",
              "  'from google.colab import drive\\n\\ndrive.mount(\"/content/drive\")',\n",
              "  'import sys\\n\\nsys.path.insert(0,\"/content/drive/MyDrive/python\")',\n",
              "  'from utils import my_print\\n\\nmy_print(text=\"Hola MUNDO!\")',\n",
              "  'print(sys.path)',\n",
              "  'def iteracion():\\n  for i in range(1000):\\n    pass\\n\\nget_ipython().run_line_magic(\\'time\\', \\'print(\"Hola MUNDO!\")\\')\\nprint()\\nget_ipython().run_line_magic(\\'time\\', \\'iteracion()\\')',\n",
              "  'vars()',\n",
              "  'globals()'],\n",
              " 'Out': {6: {...}},\n",
              " 'get_ipython': <bound method InteractiveShell.get_ipython of <google.colab._shell.Shell object at 0x7ff1ead67940>>,\n",
              " 'exit': <IPython.core.autocall.ZMQExitAutocall at 0x7ff1e84c9d30>,\n",
              " 'quit': <IPython.core.autocall.ZMQExitAutocall at 0x7ff1e84c9d30>,\n",
              " '_': {...},\n",
              " '__': '',\n",
              " '___': '',\n",
              " '_i': 'vars()',\n",
              " '_ii': 'def iteracion():\\n  for i in range(1000):\\n    pass\\n\\n%time print(\"Hola MUNDO!\")\\nprint()\\n%time iteracion()',\n",
              " '_iii': 'print(sys.path)',\n",
              " '_i1': 'from google.colab import drive\\n\\ndrive.mount(\"/content/drive\")',\n",
              " 'drive': <module 'google.colab.drive' from '/usr/local/lib/python3.8/dist-packages/google/colab/drive.py'>,\n",
              " '_i2': 'import sys\\n\\nsys.path.insert(0,\"/content/drive/MyDrive/python\")',\n",
              " 'sys': <module 'sys' (built-in)>,\n",
              " '_i3': 'from utils import my_print\\n\\nmy_print(text=\"Hola MUNDO!\")',\n",
              " 'my_print': <function utils.my_print(text: str)>,\n",
              " '_i4': 'print(sys.path)',\n",
              " '_i5': 'def iteracion():\\n  for i in range(1000):\\n    pass\\n\\n%time print(\"Hola MUNDO!\")\\nprint()\\n%time iteracion()',\n",
              " 'iteracion': <function __main__.iteracion()>,\n",
              " '_i6': 'vars()',\n",
              " '_6': {...},\n",
              " '_i7': 'globals()'}"
            ]
          },
          "metadata": {},
          "execution_count": 7
        }
      ]
    },
    {
      "cell_type": "code",
      "source": [
        "variable_global = 1\n",
        "\n",
        "def mi_funcion():\n",
        "  global variable_global\n",
        "  variable_global = 2\n",
        "\n",
        "print(f\"variable_global: {variable_global}\")\n",
        "mi_funcion()\n",
        "print(f\"variable_global: {variable_global}\")"
      ],
      "metadata": {
        "id": "4GSBpazX5ReU",
        "colab": {
          "base_uri": "https://localhost:8080/"
        },
        "outputId": "1563ae3e-ca4b-462a-ba66-c99f7c04c630"
      },
      "execution_count": null,
      "outputs": [
        {
          "output_type": "stream",
          "name": "stdout",
          "text": [
            "variable_global: 1\n",
            "variable_global: 2\n"
          ]
        }
      ]
    },
    {
      "cell_type": "markdown",
      "source": [
        "## Pip install\n",
        "\n",
        "Se pueden instalar las librerías del repositorio de [pypi](https://pypi.org/)"
      ],
      "metadata": {
        "id": "Ifma54F1mtP5"
      }
    },
    {
      "cell_type": "code",
      "source": [
        "!pip install tabulate"
      ],
      "metadata": {
        "id": "i-GNGQbrICaa",
        "colab": {
          "base_uri": "https://localhost:8080/"
        },
        "outputId": "a61b0422-28c8-46a0-86c2-b1acf59e4224"
      },
      "execution_count": null,
      "outputs": [
        {
          "output_type": "stream",
          "name": "stdout",
          "text": [
            "Looking in indexes: https://pypi.org/simple, https://us-python.pkg.dev/colab-wheels/public/simple/\n",
            "Requirement already satisfied: tabulate in /usr/local/lib/python3.8/dist-packages (0.8.10)\n"
          ]
        }
      ]
    },
    {
      "cell_type": "code",
      "source": [
        " from tabulate import tabulate\n",
        "\n",
        "table = [[\"Sun\",696000,1989100000],[\"Earth\",6371,5973.6], [\"Moon\",1737,73.5],[\"Mars\",3390,641.85]]\n",
        "print(tabulate(table))"
      ],
      "metadata": {
        "id": "4d20SgQWILKQ",
        "colab": {
          "base_uri": "https://localhost:8080/"
        },
        "outputId": "b8e1349f-87ad-4467-e0df-35b6538933ec"
      },
      "execution_count": null,
      "outputs": [
        {
          "output_type": "stream",
          "name": "stdout",
          "text": [
            "-----  ------  -------------\n",
            "Sun    696000     1.9891e+09\n",
            "Earth    6371  5973.6\n",
            "Moon     1737    73.5\n",
            "Mars     3390   641.85\n",
            "-----  ------  -------------\n"
          ]
        }
      ]
    },
    {
      "cell_type": "markdown",
      "source": [
        "## Pip install desde github, gitlab, bitbucket, etc."
      ],
      "metadata": {
        "id": "biTFZoi6myfY"
      }
    },
    {
      "cell_type": "code",
      "source": [
        "!pip install git+https://github.com/tmarktaylor/monotable.git"
      ],
      "metadata": {
        "id": "V2_ZrnxnIlG6",
        "colab": {
          "base_uri": "https://localhost:8080/"
        },
        "outputId": "8e682346-f33d-473f-afe3-e8479a35afaa"
      },
      "execution_count": null,
      "outputs": [
        {
          "output_type": "stream",
          "name": "stdout",
          "text": [
            "Looking in indexes: https://pypi.org/simple, https://us-python.pkg.dev/colab-wheels/public/simple/\n",
            "Collecting git+https://github.com/tmarktaylor/monotable.git\n",
            "  Cloning https://github.com/tmarktaylor/monotable.git to /tmp/pip-req-build-sr_yj15r\n",
            "  Running command git clone --filter=blob:none --quiet https://github.com/tmarktaylor/monotable.git /tmp/pip-req-build-sr_yj15r\n",
            "  Resolved https://github.com/tmarktaylor/monotable.git to commit 0cd1cc0337ff15b5acf0a339bf10680349670efd\n",
            "  Preparing metadata (setup.py) ... \u001b[?25l\u001b[?25hdone\n",
            "Building wheels for collected packages: monotable\n",
            "  Building wheel for monotable (setup.py) ... \u001b[?25l\u001b[?25hdone\n",
            "  Created wheel for monotable: filename=monotable-3.1.0-py3-none-any.whl size=41672 sha256=689fee0cabdb27f2658a09d0fde288fe8f3e237c89a0353db9b260f9d933eb92\n",
            "  Stored in directory: /tmp/pip-ephem-wheel-cache-5nopmrs3/wheels/51/77/8f/99c9b1df3dadc701b9b6c0454fc6997cce364066d88b8d0c00\n",
            "Successfully built monotable\n",
            "Installing collected packages: monotable\n",
            "Successfully installed monotable-3.1.0\n"
          ]
        }
      ]
    },
    {
      "cell_type": "code",
      "source": [
        "from monotable import mono\n",
        "headings = ['comma', 'percent']\n",
        "formats = [',', '.1%']\n",
        "cells = [[123456789, 0.33], [2345678, 0.995]]\n",
        "print(mono(\n",
        "    headings, formats, cells, title=\"',' and '%' formats.\"))"
      ],
      "metadata": {
        "id": "LEQ_T3W1I8xO",
        "colab": {
          "base_uri": "https://localhost:8080/"
        },
        "outputId": "13508148-2f31-487e-9d04-4b1b71574106"
      },
      "execution_count": null,
      "outputs": [
        {
          "output_type": "stream",
          "name": "stdout",
          "text": [
            "',' and '%' formats.\n",
            "--------------------\n",
            "      comma  percent\n",
            "--------------------\n",
            "123,456,789    33.0%\n",
            "  2,345,678    99.5%\n",
            "--------------------\n"
          ]
        }
      ]
    },
    {
      "cell_type": "markdown",
      "source": [
        "## Mostrando tablas"
      ],
      "metadata": {
        "id": "MvTRL68Rm3zw"
      }
    },
    {
      "cell_type": "code",
      "source": [
        "%load_ext google.colab.data_table\n",
        "import pandas as pd\n",
        "\n",
        "p = pd.read_csv(\"./sample_data/mnist_test.csv\")\n",
        "p"
      ],
      "metadata": {
        "id": "E6x3_BdALi5w",
        "colab": {
          "base_uri": "https://localhost:8080/",
          "height": 1040
        },
        "outputId": "56ff51f7-7611-4363-d7a9-834e3bc25178"
      },
      "execution_count": null,
      "outputs": [
        {
          "output_type": "stream",
          "name": "stdout",
          "text": [
            "Warning: Total number of columns (785) exceeds max_columns (20). Falling back to pandas display.\n"
          ]
        },
        {
          "output_type": "execute_result",
          "data": {
            "text/plain": [
              "      7  0  0.1  0.2  0.3  0.4  0.5  0.6  0.7  0.8  ...  0.658  0.659  0.660  \\\n",
              "0     2  0    0    0    0    0    0    0    0    0  ...      0      0      0   \n",
              "1     1  0    0    0    0    0    0    0    0    0  ...      0      0      0   \n",
              "2     0  0    0    0    0    0    0    0    0    0  ...      0      0      0   \n",
              "3     4  0    0    0    0    0    0    0    0    0  ...      0      0      0   \n",
              "4     1  0    0    0    0    0    0    0    0    0  ...      0      0      0   \n",
              "...  .. ..  ...  ...  ...  ...  ...  ...  ...  ...  ...    ...    ...    ...   \n",
              "9994  2  0    0    0    0    0    0    0    0    0  ...      0      0      0   \n",
              "9995  3  0    0    0    0    0    0    0    0    0  ...      0      0      0   \n",
              "9996  4  0    0    0    0    0    0    0    0    0  ...      0      0      0   \n",
              "9997  5  0    0    0    0    0    0    0    0    0  ...      0      0      0   \n",
              "9998  6  0    0    0    0    0    0    0    0    0  ...      0      0      0   \n",
              "\n",
              "      0.661  0.662  0.663  0.664  0.665  0.666  0.667  \n",
              "0         0      0      0      0      0      0      0  \n",
              "1         0      0      0      0      0      0      0  \n",
              "2         0      0      0      0      0      0      0  \n",
              "3         0      0      0      0      0      0      0  \n",
              "4         0      0      0      0      0      0      0  \n",
              "...     ...    ...    ...    ...    ...    ...    ...  \n",
              "9994      0      0      0      0      0      0      0  \n",
              "9995      0      0      0      0      0      0      0  \n",
              "9996      0      0      0      0      0      0      0  \n",
              "9997      0      0      0      0      0      0      0  \n",
              "9998      0      0      0      0      0      0      0  \n",
              "\n",
              "[9999 rows x 785 columns]"
            ],
            "text/html": [
              "\n",
              "  <div id=\"df-795b7e89-42dc-49c9-95e5-30faa75f297c\">\n",
              "    <div class=\"colab-df-container\">\n",
              "      <div>\n",
              "<style scoped>\n",
              "    .dataframe tbody tr th:only-of-type {\n",
              "        vertical-align: middle;\n",
              "    }\n",
              "\n",
              "    .dataframe tbody tr th {\n",
              "        vertical-align: top;\n",
              "    }\n",
              "\n",
              "    .dataframe thead th {\n",
              "        text-align: right;\n",
              "    }\n",
              "</style>\n",
              "<table border=\"1\" class=\"dataframe\">\n",
              "  <thead>\n",
              "    <tr style=\"text-align: right;\">\n",
              "      <th></th>\n",
              "      <th>7</th>\n",
              "      <th>0</th>\n",
              "      <th>0.1</th>\n",
              "      <th>0.2</th>\n",
              "      <th>0.3</th>\n",
              "      <th>0.4</th>\n",
              "      <th>0.5</th>\n",
              "      <th>0.6</th>\n",
              "      <th>0.7</th>\n",
              "      <th>0.8</th>\n",
              "      <th>...</th>\n",
              "      <th>0.658</th>\n",
              "      <th>0.659</th>\n",
              "      <th>0.660</th>\n",
              "      <th>0.661</th>\n",
              "      <th>0.662</th>\n",
              "      <th>0.663</th>\n",
              "      <th>0.664</th>\n",
              "      <th>0.665</th>\n",
              "      <th>0.666</th>\n",
              "      <th>0.667</th>\n",
              "    </tr>\n",
              "  </thead>\n",
              "  <tbody>\n",
              "    <tr>\n",
              "      <th>0</th>\n",
              "      <td>2</td>\n",
              "      <td>0</td>\n",
              "      <td>0</td>\n",
              "      <td>0</td>\n",
              "      <td>0</td>\n",
              "      <td>0</td>\n",
              "      <td>0</td>\n",
              "      <td>0</td>\n",
              "      <td>0</td>\n",
              "      <td>0</td>\n",
              "      <td>...</td>\n",
              "      <td>0</td>\n",
              "      <td>0</td>\n",
              "      <td>0</td>\n",
              "      <td>0</td>\n",
              "      <td>0</td>\n",
              "      <td>0</td>\n",
              "      <td>0</td>\n",
              "      <td>0</td>\n",
              "      <td>0</td>\n",
              "      <td>0</td>\n",
              "    </tr>\n",
              "    <tr>\n",
              "      <th>1</th>\n",
              "      <td>1</td>\n",
              "      <td>0</td>\n",
              "      <td>0</td>\n",
              "      <td>0</td>\n",
              "      <td>0</td>\n",
              "      <td>0</td>\n",
              "      <td>0</td>\n",
              "      <td>0</td>\n",
              "      <td>0</td>\n",
              "      <td>0</td>\n",
              "      <td>...</td>\n",
              "      <td>0</td>\n",
              "      <td>0</td>\n",
              "      <td>0</td>\n",
              "      <td>0</td>\n",
              "      <td>0</td>\n",
              "      <td>0</td>\n",
              "      <td>0</td>\n",
              "      <td>0</td>\n",
              "      <td>0</td>\n",
              "      <td>0</td>\n",
              "    </tr>\n",
              "    <tr>\n",
              "      <th>2</th>\n",
              "      <td>0</td>\n",
              "      <td>0</td>\n",
              "      <td>0</td>\n",
              "      <td>0</td>\n",
              "      <td>0</td>\n",
              "      <td>0</td>\n",
              "      <td>0</td>\n",
              "      <td>0</td>\n",
              "      <td>0</td>\n",
              "      <td>0</td>\n",
              "      <td>...</td>\n",
              "      <td>0</td>\n",
              "      <td>0</td>\n",
              "      <td>0</td>\n",
              "      <td>0</td>\n",
              "      <td>0</td>\n",
              "      <td>0</td>\n",
              "      <td>0</td>\n",
              "      <td>0</td>\n",
              "      <td>0</td>\n",
              "      <td>0</td>\n",
              "    </tr>\n",
              "    <tr>\n",
              "      <th>3</th>\n",
              "      <td>4</td>\n",
              "      <td>0</td>\n",
              "      <td>0</td>\n",
              "      <td>0</td>\n",
              "      <td>0</td>\n",
              "      <td>0</td>\n",
              "      <td>0</td>\n",
              "      <td>0</td>\n",
              "      <td>0</td>\n",
              "      <td>0</td>\n",
              "      <td>...</td>\n",
              "      <td>0</td>\n",
              "      <td>0</td>\n",
              "      <td>0</td>\n",
              "      <td>0</td>\n",
              "      <td>0</td>\n",
              "      <td>0</td>\n",
              "      <td>0</td>\n",
              "      <td>0</td>\n",
              "      <td>0</td>\n",
              "      <td>0</td>\n",
              "    </tr>\n",
              "    <tr>\n",
              "      <th>4</th>\n",
              "      <td>1</td>\n",
              "      <td>0</td>\n",
              "      <td>0</td>\n",
              "      <td>0</td>\n",
              "      <td>0</td>\n",
              "      <td>0</td>\n",
              "      <td>0</td>\n",
              "      <td>0</td>\n",
              "      <td>0</td>\n",
              "      <td>0</td>\n",
              "      <td>...</td>\n",
              "      <td>0</td>\n",
              "      <td>0</td>\n",
              "      <td>0</td>\n",
              "      <td>0</td>\n",
              "      <td>0</td>\n",
              "      <td>0</td>\n",
              "      <td>0</td>\n",
              "      <td>0</td>\n",
              "      <td>0</td>\n",
              "      <td>0</td>\n",
              "    </tr>\n",
              "    <tr>\n",
              "      <th>...</th>\n",
              "      <td>...</td>\n",
              "      <td>...</td>\n",
              "      <td>...</td>\n",
              "      <td>...</td>\n",
              "      <td>...</td>\n",
              "      <td>...</td>\n",
              "      <td>...</td>\n",
              "      <td>...</td>\n",
              "      <td>...</td>\n",
              "      <td>...</td>\n",
              "      <td>...</td>\n",
              "      <td>...</td>\n",
              "      <td>...</td>\n",
              "      <td>...</td>\n",
              "      <td>...</td>\n",
              "      <td>...</td>\n",
              "      <td>...</td>\n",
              "      <td>...</td>\n",
              "      <td>...</td>\n",
              "      <td>...</td>\n",
              "      <td>...</td>\n",
              "    </tr>\n",
              "    <tr>\n",
              "      <th>9994</th>\n",
              "      <td>2</td>\n",
              "      <td>0</td>\n",
              "      <td>0</td>\n",
              "      <td>0</td>\n",
              "      <td>0</td>\n",
              "      <td>0</td>\n",
              "      <td>0</td>\n",
              "      <td>0</td>\n",
              "      <td>0</td>\n",
              "      <td>0</td>\n",
              "      <td>...</td>\n",
              "      <td>0</td>\n",
              "      <td>0</td>\n",
              "      <td>0</td>\n",
              "      <td>0</td>\n",
              "      <td>0</td>\n",
              "      <td>0</td>\n",
              "      <td>0</td>\n",
              "      <td>0</td>\n",
              "      <td>0</td>\n",
              "      <td>0</td>\n",
              "    </tr>\n",
              "    <tr>\n",
              "      <th>9995</th>\n",
              "      <td>3</td>\n",
              "      <td>0</td>\n",
              "      <td>0</td>\n",
              "      <td>0</td>\n",
              "      <td>0</td>\n",
              "      <td>0</td>\n",
              "      <td>0</td>\n",
              "      <td>0</td>\n",
              "      <td>0</td>\n",
              "      <td>0</td>\n",
              "      <td>...</td>\n",
              "      <td>0</td>\n",
              "      <td>0</td>\n",
              "      <td>0</td>\n",
              "      <td>0</td>\n",
              "      <td>0</td>\n",
              "      <td>0</td>\n",
              "      <td>0</td>\n",
              "      <td>0</td>\n",
              "      <td>0</td>\n",
              "      <td>0</td>\n",
              "    </tr>\n",
              "    <tr>\n",
              "      <th>9996</th>\n",
              "      <td>4</td>\n",
              "      <td>0</td>\n",
              "      <td>0</td>\n",
              "      <td>0</td>\n",
              "      <td>0</td>\n",
              "      <td>0</td>\n",
              "      <td>0</td>\n",
              "      <td>0</td>\n",
              "      <td>0</td>\n",
              "      <td>0</td>\n",
              "      <td>...</td>\n",
              "      <td>0</td>\n",
              "      <td>0</td>\n",
              "      <td>0</td>\n",
              "      <td>0</td>\n",
              "      <td>0</td>\n",
              "      <td>0</td>\n",
              "      <td>0</td>\n",
              "      <td>0</td>\n",
              "      <td>0</td>\n",
              "      <td>0</td>\n",
              "    </tr>\n",
              "    <tr>\n",
              "      <th>9997</th>\n",
              "      <td>5</td>\n",
              "      <td>0</td>\n",
              "      <td>0</td>\n",
              "      <td>0</td>\n",
              "      <td>0</td>\n",
              "      <td>0</td>\n",
              "      <td>0</td>\n",
              "      <td>0</td>\n",
              "      <td>0</td>\n",
              "      <td>0</td>\n",
              "      <td>...</td>\n",
              "      <td>0</td>\n",
              "      <td>0</td>\n",
              "      <td>0</td>\n",
              "      <td>0</td>\n",
              "      <td>0</td>\n",
              "      <td>0</td>\n",
              "      <td>0</td>\n",
              "      <td>0</td>\n",
              "      <td>0</td>\n",
              "      <td>0</td>\n",
              "    </tr>\n",
              "    <tr>\n",
              "      <th>9998</th>\n",
              "      <td>6</td>\n",
              "      <td>0</td>\n",
              "      <td>0</td>\n",
              "      <td>0</td>\n",
              "      <td>0</td>\n",
              "      <td>0</td>\n",
              "      <td>0</td>\n",
              "      <td>0</td>\n",
              "      <td>0</td>\n",
              "      <td>0</td>\n",
              "      <td>...</td>\n",
              "      <td>0</td>\n",
              "      <td>0</td>\n",
              "      <td>0</td>\n",
              "      <td>0</td>\n",
              "      <td>0</td>\n",
              "      <td>0</td>\n",
              "      <td>0</td>\n",
              "      <td>0</td>\n",
              "      <td>0</td>\n",
              "      <td>0</td>\n",
              "    </tr>\n",
              "  </tbody>\n",
              "</table>\n",
              "<p>9999 rows × 785 columns</p>\n",
              "</div>\n",
              "      <button class=\"colab-df-convert\" onclick=\"convertToInteractive('df-795b7e89-42dc-49c9-95e5-30faa75f297c')\"\n",
              "              title=\"Convert this dataframe to an interactive table.\"\n",
              "              style=\"display:none;\">\n",
              "        \n",
              "  <svg xmlns=\"http://www.w3.org/2000/svg\" height=\"24px\"viewBox=\"0 0 24 24\"\n",
              "       width=\"24px\">\n",
              "    <path d=\"M0 0h24v24H0V0z\" fill=\"none\"/>\n",
              "    <path d=\"M18.56 5.44l.94 2.06.94-2.06 2.06-.94-2.06-.94-.94-2.06-.94 2.06-2.06.94zm-11 1L8.5 8.5l.94-2.06 2.06-.94-2.06-.94L8.5 2.5l-.94 2.06-2.06.94zm10 10l.94 2.06.94-2.06 2.06-.94-2.06-.94-.94-2.06-.94 2.06-2.06.94z\"/><path d=\"M17.41 7.96l-1.37-1.37c-.4-.4-.92-.59-1.43-.59-.52 0-1.04.2-1.43.59L10.3 9.45l-7.72 7.72c-.78.78-.78 2.05 0 2.83L4 21.41c.39.39.9.59 1.41.59.51 0 1.02-.2 1.41-.59l7.78-7.78 2.81-2.81c.8-.78.8-2.07 0-2.86zM5.41 20L4 18.59l7.72-7.72 1.47 1.35L5.41 20z\"/>\n",
              "  </svg>\n",
              "      </button>\n",
              "      \n",
              "  <style>\n",
              "    .colab-df-container {\n",
              "      display:flex;\n",
              "      flex-wrap:wrap;\n",
              "      gap: 12px;\n",
              "    }\n",
              "\n",
              "    .colab-df-convert {\n",
              "      background-color: #E8F0FE;\n",
              "      border: none;\n",
              "      border-radius: 50%;\n",
              "      cursor: pointer;\n",
              "      display: none;\n",
              "      fill: #1967D2;\n",
              "      height: 32px;\n",
              "      padding: 0 0 0 0;\n",
              "      width: 32px;\n",
              "    }\n",
              "\n",
              "    .colab-df-convert:hover {\n",
              "      background-color: #E2EBFA;\n",
              "      box-shadow: 0px 1px 2px rgba(60, 64, 67, 0.3), 0px 1px 3px 1px rgba(60, 64, 67, 0.15);\n",
              "      fill: #174EA6;\n",
              "    }\n",
              "\n",
              "    [theme=dark] .colab-df-convert {\n",
              "      background-color: #3B4455;\n",
              "      fill: #D2E3FC;\n",
              "    }\n",
              "\n",
              "    [theme=dark] .colab-df-convert:hover {\n",
              "      background-color: #434B5C;\n",
              "      box-shadow: 0px 1px 3px 1px rgba(0, 0, 0, 0.15);\n",
              "      filter: drop-shadow(0px 1px 2px rgba(0, 0, 0, 0.3));\n",
              "      fill: #FFFFFF;\n",
              "    }\n",
              "  </style>\n",
              "\n",
              "      <script>\n",
              "        const buttonEl =\n",
              "          document.querySelector('#df-795b7e89-42dc-49c9-95e5-30faa75f297c button.colab-df-convert');\n",
              "        buttonEl.style.display =\n",
              "          google.colab.kernel.accessAllowed ? 'block' : 'none';\n",
              "\n",
              "        async function convertToInteractive(key) {\n",
              "          const element = document.querySelector('#df-795b7e89-42dc-49c9-95e5-30faa75f297c');\n",
              "          const dataTable =\n",
              "            await google.colab.kernel.invokeFunction('convertToInteractive',\n",
              "                                                     [key], {});\n",
              "          if (!dataTable) return;\n",
              "\n",
              "          const docLinkHtml = 'Like what you see? Visit the ' +\n",
              "            '<a target=\"_blank\" href=https://colab.research.google.com/notebooks/data_table.ipynb>data table notebook</a>'\n",
              "            + ' to learn more about interactive tables.';\n",
              "          element.innerHTML = '';\n",
              "          dataTable['output_type'] = 'display_data';\n",
              "          await google.colab.output.renderOutput(dataTable, element);\n",
              "          const docLink = document.createElement('div');\n",
              "          docLink.innerHTML = docLinkHtml;\n",
              "          element.appendChild(docLink);\n",
              "        }\n",
              "      </script>\n",
              "    </div>\n",
              "  </div>\n",
              "  "
            ]
          },
          "metadata": {},
          "execution_count": 13
        },
        {
          "output_type": "stream",
          "name": "stdout",
          "text": [
            "Warning: Total number of columns (785) exceeds max_columns (20) limiting to first (20) columns.\n"
          ]
        }
      ]
    }
  ]
}