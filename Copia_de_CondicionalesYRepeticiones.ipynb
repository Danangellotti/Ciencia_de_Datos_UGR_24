{
  "nbformat": 4,
  "nbformat_minor": 0,
  "metadata": {
    "colab": {
      "provenance": [],
      "authorship_tag": "ABX9TyMnpi93HvsiS6h2P/EE12sS",
      "include_colab_link": true
    },
    "kernelspec": {
      "name": "python3",
      "display_name": "Python 3"
    },
    "language_info": {
      "name": "python"
    }
  },
  "cells": [
    {
      "cell_type": "markdown",
      "metadata": {
        "id": "view-in-github",
        "colab_type": "text"
      },
      "source": [
        "<a href=\"https://colab.research.google.com/github/Danangellotti/Ciencia_de_Datos_UGR_24/blob/main/Copia_de_CondicionalesYRepeticiones.ipynb\" target=\"_parent\"><img src=\"https://colab.research.google.com/assets/colab-badge.svg\" alt=\"Open In Colab\"/></a>"
      ]
    },
    {
      "cell_type": "markdown",
      "source": [
        "# if\n",
        "\n",
        "## Condición simple\n",
        "\n",
        "```\n",
        "if condición booleana (True o False):\n",
        "  # Ejecución de sentencias por condición verdadera\n",
        "else:\n",
        "  # Ejecución de sentencias por condición false\n",
        "```\n",
        "## Condición múltiple\n",
        "\n",
        "* Opción if anidado\n",
        "\n",
        "```\n",
        "if condición booleana (True o False):\n",
        "  # Ejecución de sentencias por condición verdadera\n",
        "else:\n",
        "    if condición booleana (True o False):\n",
        "      # Ejecución de sentencias por condición verdadera\n",
        "    else:\n",
        "      if condición booleana (True o False):\n",
        "        # Ejecución de sentencias por condición verdadera\n",
        "      else:\n",
        "        # Ejecución de sentencias por condición falsa\n",
        "```\n",
        "* Opción else if\n",
        "\n",
        "```\n",
        "if condición booleana (True o False):\n",
        "  # Ejecución de sentencias por condición verdadera\n",
        "else if condición booleana (True o False):\n",
        "  # Ejecución de sentencias por condición verdadera\n",
        "else if condición booleana (True o False):\n",
        "  # Ejecución de sentencias por condición verdadera\n",
        "else:\n",
        "  # Ejecución de sentencias por condición falsa\n",
        "```\n",
        "\n",
        "* Opción elif\n",
        "\n",
        "```\n",
        "if condición booleana (True o False):\n",
        "  # Ejecución de sentencias por condición verdadera\n",
        "elif condición booleana (True o False):\n",
        "  # Ejecución de sentencias por condición verdadera\n",
        "elif condición booleana (True o False):\n",
        "  # Ejecución de sentencias por condición verdadera\n",
        "else:\n",
        "  # Ejecución de sentencias por condición falsa\n",
        "```\n",
        "\n",
        "## Condición asignación\n",
        "\n",
        " ```\n",
        " <valor_verdadero> if condición booleana (True o False) else <valor_false>\n",
        " ```\n"
      ],
      "metadata": {
        "id": "QVPVO3V11xif"
      }
    },
    {
      "cell_type": "code",
      "execution_count": 2,
      "metadata": {
        "colab": {
          "base_uri": "https://localhost:8080/"
        },
        "id": "YVZtcxKe0oyR",
        "outputId": "b3bd1840-06fa-4d06-9b3e-7d38c0385e7c"
      },
      "outputs": [
        {
          "output_type": "stream",
          "name": "stdout",
          "text": [
            "asignación: True - condicion: True - tipo: <class 'bool'>\n",
            "evaluación: Verdadero\n"
          ]
        }
      ],
      "source": [
        "condicion = True\n",
        "print(f\"asignación: {True} - condicion: {condicion} - tipo: {type(condicion)}\")\n",
        "if condicion:\n",
        "  print(\"evaluación: Verdadero\")\n",
        "else:\n",
        "  print(\"evaluación: Falso\")"
      ]
    },
    {
      "cell_type": "code",
      "source": [
        "condicion = 5 < 6\n",
        "print(f\"asignación: 5 < 6 - condicion: {condicion} - tipo: {type(condicion)}\")\n",
        "if condicion:\n",
        "  print(\"evaluación: Verdadero\")\n",
        "else:\n",
        "  print(\"evaluación: Falso\")"
      ],
      "metadata": {
        "colab": {
          "base_uri": "https://localhost:8080/"
        },
        "id": "EVzyGAb0756o",
        "outputId": "8a2c2e01-8d56-47e4-ede7-15f5c3ef609f"
      },
      "execution_count": 3,
      "outputs": [
        {
          "output_type": "stream",
          "name": "stdout",
          "text": [
            "asignación: 5 < 6 - condicion: True - tipo: <class 'bool'>\n",
            "evaluación: Verdadero\n"
          ]
        }
      ]
    },
    {
      "cell_type": "code",
      "source": [
        "condicion = 'hola mundo'.startswith('ha')# se usa la funcion empieza con ...\n",
        "print(f\"asignación: 'hola mundo'.startswith('ha') - condicion: {condicion} - tipo: {type(condicion)}\")\n",
        "if condicion:\n",
        "  print(\"evaluación: Verdadero\")\n",
        "else:\n",
        "  print(\"evaluación: Falso\")"
      ],
      "metadata": {
        "colab": {
          "base_uri": "https://localhost:8080/"
        },
        "id": "XtZLTos_8G1Q",
        "outputId": "7bee0d08-e54d-4646-8b78-d605c201705f"
      },
      "execution_count": 4,
      "outputs": [
        {
          "output_type": "stream",
          "name": "stdout",
          "text": [
            "asignación: 'hola mundo'.startswith('ha') - condicion: False - tipo: <class 'bool'>\n",
            "evaluación: Falso\n"
          ]
        }
      ]
    },
    {
      "cell_type": "code",
      "source": [
        "condicion = len([]) > 0\n",
        "print(f\"asignación: len([]) > 0 - condicion: {condicion} - tipo: {type(condicion)}\")\n",
        "if condicion:\n",
        "  print(\"evaluación: Verdadero\")\n",
        "else:\n",
        "  print(\"evaluación: Falso\")"
      ],
      "metadata": {
        "colab": {
          "base_uri": "https://localhost:8080/"
        },
        "id": "CEtqZSAB8Ng8",
        "outputId": "d44df09d-3242-4e09-92c0-19827919b2bd"
      },
      "execution_count": 5,
      "outputs": [
        {
          "output_type": "stream",
          "name": "stdout",
          "text": [
            "asignación: len([]) > 0 - condicion: False - tipo: <class 'bool'>\n",
            "evaluación: Falso\n"
          ]
        }
      ]
    },
    {
      "cell_type": "code",
      "source": [
        "# in | not in , que significa que esta\n",
        "condicion = 1 in [2,3,4,5]\n",
        "print(f\"asignación: 1 in [2,3,4,5] - condicion: {condicion} - tipo: {type(condicion)}\")\n",
        "if condicion:\n",
        "  print(\"evaluación: Verdadero\")\n",
        "else:\n",
        "  print(\"evaluación: Falso\")"
      ],
      "metadata": {
        "colab": {
          "base_uri": "https://localhost:8080/"
        },
        "id": "ylIulqz18Tpf",
        "outputId": "1680fe02-8553-4b62-c573-624f6e36d148"
      },
      "execution_count": 6,
      "outputs": [
        {
          "output_type": "stream",
          "name": "stdout",
          "text": [
            "asignación: 1 in [2,3,4,5] - condicion: False - tipo: <class 'bool'>\n",
            "evaluación: Falso\n"
          ]
        }
      ]
    },
    {
      "cell_type": "code",
      "source": [
        "condicion = 1 not in {2,3,4,5} # que significa que no esta\n",
        "print(f\"asignación: 1 not in {2,3,4,5} - condicion: {condicion} - tipo: {type(condicion)}\")\n",
        "if condicion:\n",
        "  print(\"evaluación: Verdadero\")\n",
        "else:\n",
        "  print(\"evaluación: Falso\")"
      ],
      "metadata": {
        "colab": {
          "base_uri": "https://localhost:8080/"
        },
        "id": "0vTFTlq48Yp6",
        "outputId": "16495aeb-47f2-4b17-e3c7-536a4805f8ef"
      },
      "execution_count": 7,
      "outputs": [
        {
          "output_type": "stream",
          "name": "stdout",
          "text": [
            "asignación: 1 not in (2, 3, 4, 5) - condicion: True - tipo: <class 'bool'>\n",
            "evaluación: Verdadero\n"
          ]
        }
      ]
    },
    {
      "cell_type": "code",
      "source": [
        "condicion = 1 not in {2: 'b', 3: 'c', 4: 'd', 5: 'e'}.keys()\n",
        "print(\"asignación: 1 not in {2:\\'b\\',3:\\'c\\',4:\\'d\\',5: \\'e\\'}.keys() - condicion: %s - tipo: %s\"%(condicion,type(condicion)))\n",
        "if condicion:\n",
        "  print(\"evaluación: Verdadero\")\n",
        "else:\n",
        "  print(\"evaluación: Falso\")"
      ],
      "metadata": {
        "colab": {
          "base_uri": "https://localhost:8080/"
        },
        "id": "EKPaVzIf8dlp",
        "outputId": "0fa31451-36ec-4b7e-d627-db7462644737"
      },
      "execution_count": 8,
      "outputs": [
        {
          "output_type": "stream",
          "name": "stdout",
          "text": [
            "asignación: 1 not in {2:'b',3:'c',4:'d',5: 'e'}.keys() - condicion: True - tipo: <class 'bool'>\n",
            "evaluación: Verdadero\n"
          ]
        }
      ]
    },
    {
      "cell_type": "code",
      "source": [
        "# not | and | or en base a la tabla de valor\n",
        "key = 1\n",
        "condicion = key in {2: 'b', 3: 'c', 4: 'd', 5: 'e'}.keys() and 0 < key\n",
        "print(\"asignación: 1 in {2:\\'b\\',3:\\'c\\',4:\\'d\\',5: \\'e\\'}.keys() and 0 < 1 - condicion: %s - tipo: %s\"%(condicion,type(condicion)))\n",
        "print(\"            False                                  and True\")\n",
        "print(\"            False\")\n",
        "if condicion:\n",
        "  print(\"evaluación: Verdadero\")\n",
        "else:\n",
        "  print(\"evaluación: Falso\")"
      ],
      "metadata": {
        "colab": {
          "base_uri": "https://localhost:8080/"
        },
        "id": "es7Nbl_v8izQ",
        "outputId": "8f089c16-6ce0-4ee5-99d5-eb3414034892"
      },
      "execution_count": 9,
      "outputs": [
        {
          "output_type": "stream",
          "name": "stdout",
          "text": [
            "asignación: 1 in {2:'b',3:'c',4:'d',5: 'e'}.keys() and 0 < 1 - condicion: False - tipo: <class 'bool'>\n",
            "            False                                  and True\n",
            "            False\n",
            "evaluación: Falso\n"
          ]
        }
      ]
    },
    {
      "cell_type": "code",
      "source": [
        "# Tema del if y la asignacion\n",
        "valor_1 = 5\n",
        "valor_2 = 2\n",
        "resultado = valor_1 if (valor_1 < valor_2) and (valor_1 - valor_2 > 0) else valor_2\n",
        "print(f\"valor_1: {valor_1} - valor_2: {valor_2}\")\n",
        "print(f\"resultado = valor_1 if (valor_1 < valor_2) and (valor_1 - valor_2 > 0) else valor_2\")\n",
        "print(f\"resultado = {valor_1}       if ({valor_1}       < {valor_2})       and ({valor_1}       - {valor_2}       > 0) else {valor_2}\")\n",
        "print(f\"resultado = {valor_1}       if ( False )           and ( True )                else {valor_2}\")\n",
        "print(f\"resultado = {valor_1}       if   False                                         else {valor_2}\")\n",
        "print(f\"resultado: {resultado}\")"
      ],
      "metadata": {
        "colab": {
          "base_uri": "https://localhost:8080/"
        },
        "id": "binuj_Sd8osw",
        "outputId": "d9387cc7-2e58-433a-c68b-afe9c291e8da"
      },
      "execution_count": 10,
      "outputs": [
        {
          "output_type": "stream",
          "name": "stdout",
          "text": [
            "valor_1: 5 - valor_2: 2\n",
            "resultado = valor_1 if (valor_1 < valor_2) and (valor_1 - valor_2 > 0) else valor_2\n",
            "resultado = 5       if (5       < 2)       and (5       - 2       > 0) else 2\n",
            "resultado = 5       if ( False )           and ( True )                else 2\n",
            "resultado = 5       if   False                                         else 2\n",
            "resultado: 2\n"
          ]
        }
      ]
    },
    {
      "cell_type": "markdown",
      "source": [
        "#Repeticiones\n",
        "\n",
        "## for\n",
        "\n",
        "Se utilizan cuando se de antemano las veces que tengo que iterar o la cantidad\n",
        "de elementos.\n",
        "\n",
        "```\n",
        "for variable/s in conjunto_de_iteracion:\n",
        "  # Ejecición de sentencias\n",
        "```"
      ],
      "metadata": {
        "id": "BaYunrsgDOG0"
      }
    },
    {
      "cell_type": "code",
      "source": [
        "# itero sobre una lista\n",
        "dict_:dict = {1:'a', 2:'b', 3:'c', 4: 'd'}\n",
        "print(f\"dict_: {dict_}\")\n",
        "for clave in dict_.keys():\n",
        "  print(f\"clave: {clave}\")"
      ],
      "metadata": {
        "colab": {
          "base_uri": "https://localhost:8080/"
        },
        "id": "cS8CoCnz_3IC",
        "outputId": "c8b3db8b-cf69-4e86-ccc4-8490d363a6a7"
      },
      "execution_count": 11,
      "outputs": [
        {
          "output_type": "stream",
          "name": "stdout",
          "text": [
            "dict_: {1: 'a', 2: 'b', 3: 'c', 4: 'd'}\n",
            "clave: 1\n",
            "clave: 2\n",
            "clave: 3\n",
            "clave: 4\n"
          ]
        }
      ]
    },
    {
      "cell_type": "code",
      "source": [
        "# itero sobre una tupla\n",
        "dict_:dict = {1:'a', 2:'b', 3:'c', 4: 'd'}\n",
        "print(f\"dict_: {dict_}\")\n",
        "for clave,valor in dict_.items():\n",
        "  print(f\"clave: {clave} - valor: {valor}\")"
      ],
      "metadata": {
        "colab": {
          "base_uri": "https://localhost:8080/"
        },
        "id": "GRWUsJ3uEvJk",
        "outputId": "e317e26a-de47-4744-dfbf-f662a96bea0d"
      },
      "execution_count": 12,
      "outputs": [
        {
          "output_type": "stream",
          "name": "stdout",
          "text": [
            "dict_: {1: 'a', 2: 'b', 3: 'c', 4: 'd'}\n",
            "clave: 1 - valor: a\n",
            "clave: 2 - valor: b\n",
            "clave: 3 - valor: c\n",
            "clave: 4 - valor: d\n"
          ]
        }
      ]
    },
    {
      "cell_type": "code",
      "source": [
        "# zip, une listas\n",
        "list_claves:list = list(dict_.keys())\n",
        "list_valores:list = list(dict_.values())\n",
        "print(f\"list_claves: {list_claves}\")\n",
        "print(f\"list_valores: {list_valores}\")\n",
        "for clave,valor in zip(list_claves, list_valores):\n",
        "  print(f\"clave: {clave} - valor: {valor}\")"
      ],
      "metadata": {
        "colab": {
          "base_uri": "https://localhost:8080/"
        },
        "id": "XAkPT6DZE1xe",
        "outputId": "8c64d658-4c8a-42bf-a645-3c3926241a17"
      },
      "execution_count": 13,
      "outputs": [
        {
          "output_type": "stream",
          "name": "stdout",
          "text": [
            "list_claves: [1, 2, 3, 4]\n",
            "list_valores: ['a', 'b', 'c', 'd']\n",
            "clave: 1 - valor: a\n",
            "clave: 2 - valor: b\n",
            "clave: 3 - valor: c\n",
            "clave: 4 - valor: d\n"
          ]
        }
      ]
    },
    {
      "cell_type": "code",
      "source": [
        "# enumerate, itera utilizando posiciones\n",
        "list_claves:list = list(dict_.keys())\n",
        "print(f\"list_claves: {list_claves}\")\n",
        "for posicion,clave in enumerate(list_claves):\n",
        "  print(f\"posición: {posicion} - clave: {clave}\")\n",
        "\n",
        "print(\"----\")\n",
        "list_valores:list = list(dict_.values())\n",
        "print(f\"list_valores: {list_valores}\")\n",
        "for posicion,valor in enumerate(list_valores):\n",
        "  print(f\"posición: {posicion} - valor: {valor}\")"
      ],
      "metadata": {
        "colab": {
          "base_uri": "https://localhost:8080/"
        },
        "id": "I5CRIjD_FETR",
        "outputId": "17710447-a749-42a4-93c2-a9e841ccbc2a"
      },
      "execution_count": 14,
      "outputs": [
        {
          "output_type": "stream",
          "name": "stdout",
          "text": [
            "list_claves: [1, 2, 3, 4]\n",
            "posición: 0 - clave: 1\n",
            "posición: 1 - clave: 2\n",
            "posición: 2 - clave: 3\n",
            "posición: 3 - clave: 4\n",
            "----\n",
            "list_valores: ['a', 'b', 'c', 'd']\n",
            "posición: 0 - valor: a\n",
            "posición: 1 - valor: b\n",
            "posición: 2 - valor: c\n",
            "posición: 3 - valor: d\n"
          ]
        }
      ]
    },
    {
      "cell_type": "markdown",
      "source": [
        "## while\n",
        "\n",
        "Se utilizan cuando la detención de las iteraciones tiene que ser una condición booleana.\n",
        "\n",
        "```\n",
        "while condicion_booleana:\n",
        "  # Ejecición de sentencias\n",
        "```\n",
        "\n",
        "o\n",
        "\n",
        "```\n",
        "while True:\n",
        "  # Ejecición de sentencias\n",
        "  if condicion_booleana:\n",
        "    break\n",
        "```"
      ],
      "metadata": {
        "id": "mc39Ue_dFNiy"
      }
    },
    {
      "cell_type": "code",
      "source": [
        "# itero sobre una lista\n",
        "print(f\"dict_: {dict_}\") #\n",
        "list_claves:list = list(dict_.keys())# creamos la lista de claves\n",
        "longuitud_claves = len(list_claves) # optenemos la longitud\n",
        "posicion = 0 # variable axiliar\n",
        "while posicion != longuitud_claves:\n",
        "  print(f\"clave: {list_claves[posicion]}\")\n",
        "  posicion +=1"
      ],
      "metadata": {
        "colab": {
          "base_uri": "https://localhost:8080/"
        },
        "id": "-pz0n2oQFT6m",
        "outputId": "a0f3cbb7-3817-48c6-d465-08b69fd4be6c"
      },
      "execution_count": 15,
      "outputs": [
        {
          "output_type": "stream",
          "name": "stdout",
          "text": [
            "dict_: {1: 'a', 2: 'b', 3: 'c', 4: 'd'}\n",
            "clave: 1\n",
            "clave: 2\n",
            "clave: 3\n",
            "clave: 4\n"
          ]
        }
      ]
    },
    {
      "cell_type": "code",
      "source": [
        "# itero sobre una lista\n",
        "print(f\"dict_: {dict_}\")\n",
        "list_claves:list = list(dict_.keys())\n",
        "longuitud_claves = len(list_claves)\n",
        "posicion = 0\n",
        "while True:\n",
        "  print(f\"clave: {list_claves[posicion]}\")\n",
        "  posicion +=1\n",
        "  if posicion == longuitud_claves:\n",
        "    break"
      ],
      "metadata": {
        "colab": {
          "base_uri": "https://localhost:8080/"
        },
        "id": "ljFr1VTfFagk",
        "outputId": "d3c47a51-317c-4d9f-d547-e38ff82d9c2b"
      },
      "execution_count": 16,
      "outputs": [
        {
          "output_type": "stream",
          "name": "stdout",
          "text": [
            "dict_: {1: 'a', 2: 'b', 3: 'c', 4: 'd'}\n",
            "clave: 1\n",
            "clave: 2\n",
            "clave: 3\n",
            "clave: 4\n"
          ]
        }
      ]
    },
    {
      "cell_type": "code",
      "source": [
        "# itero sobre una lista\n",
        "print(f\"dict_: {dict_}\")\n",
        "list_claves:list = list(dict_.keys())\n",
        "longuitud_claves = len(list_claves)\n",
        "posicion = -1\n",
        "while True:\n",
        "  posicion +=1\n",
        "  if posicion % 2 == 0:\n",
        "    continue\n",
        "  if posicion > longuitud_claves:\n",
        "    break\n",
        "  print(f\"posicion: {posicion} -clave: {list_claves[posicion]}\")"
      ],
      "metadata": {
        "colab": {
          "base_uri": "https://localhost:8080/"
        },
        "id": "1hh9dJJlFgmk",
        "outputId": "473baa99-3ab9-4a32-8d9b-5f9a209ec2c4"
      },
      "execution_count": 17,
      "outputs": [
        {
          "output_type": "stream",
          "name": "stdout",
          "text": [
            "dict_: {1: 'a', 2: 'b', 3: 'c', 4: 'd'}\n",
            "posicion: 1 -clave: 2\n",
            "posicion: 3 -clave: 4\n"
          ]
        }
      ]
    },
    {
      "cell_type": "code",
      "source": [
        "# repetición en línea ( se utilizan para generar nuevas listas , sets)\n",
        "print(f\"dict_: {dict_}\")\n",
        "print(f\"keys: {dict_.keys()}\")\n",
        "lista_al_cuadrado = [ key**2 for key in dict_.keys()] # el valor que se va a retornar\n",
        "print(f\"lista_al_cuadrado: {lista_al_cuadrado}\")"
      ],
      "metadata": {
        "colab": {
          "base_uri": "https://localhost:8080/"
        },
        "id": "Ia6kwd3KFmyO",
        "outputId": "20ebaeb6-01ff-46f1-ac7f-62f78fbf7428"
      },
      "execution_count": 18,
      "outputs": [
        {
          "output_type": "stream",
          "name": "stdout",
          "text": [
            "dict_: {1: 'a', 2: 'b', 3: 'c', 4: 'd'}\n",
            "keys: dict_keys([1, 2, 3, 4])\n",
            "lista_al_cuadrado: [1, 4, 9, 16]\n"
          ]
        }
      ]
    },
    {
      "cell_type": "code",
      "source": [
        "# repetición en línea con if\n",
        "print(f\"dict_: {dict_}\")\n",
        "print(f\"keys: {dict_.keys()}\")\n",
        "lista_al_cuadrado = [ key**2 for key in dict_.keys() if key % 2 == 0]\n",
        "print(f\"lista_al_cuadrado: {lista_al_cuadrado}\")"
      ],
      "metadata": {
        "colab": {
          "base_uri": "https://localhost:8080/"
        },
        "id": "GMgLvq4vFs2s",
        "outputId": "c560d6b6-87ef-4430-f856-02507b14b2df"
      },
      "execution_count": 19,
      "outputs": [
        {
          "output_type": "stream",
          "name": "stdout",
          "text": [
            "dict_: {1: 'a', 2: 'b', 3: 'c', 4: 'd'}\n",
            "keys: dict_keys([1, 2, 3, 4])\n",
            "lista_al_cuadrado: [4, 16]\n"
          ]
        }
      ]
    },
    {
      "cell_type": "code",
      "source": [
        "# repetición en línea con if\n",
        "print(f\"dict_: {dict_}\")\n",
        "print(f\"keys: {dict_.keys()}\")\n",
        "lista_al_cuadrado = [ key**2 if key % 2 == 0 else -1 for key in dict_.keys() ]\n",
        "print(f\"lista_al_cuadrado: {lista_al_cuadrado}\")"
      ],
      "metadata": {
        "colab": {
          "base_uri": "https://localhost:8080/"
        },
        "id": "o8DlV3A6FyXI",
        "outputId": "46ae327d-7118-45ae-ff24-4713f190452e"
      },
      "execution_count": 20,
      "outputs": [
        {
          "output_type": "stream",
          "name": "stdout",
          "text": [
            "dict_: {1: 'a', 2: 'b', 3: 'c', 4: 'd'}\n",
            "keys: dict_keys([1, 2, 3, 4])\n",
            "lista_al_cuadrado: [-1, 4, -1, 16]\n"
          ]
        }
      ]
    },
    {
      "cell_type": "code",
      "source": [
        "# cambio las claves a valores y los valores a claves , se invierte el diccionario.\n",
        "print(f\"dict_: {dict_}\")\n",
        "cambio_valores = { value:key for key,value in dict_.items()}\n",
        "print(f\"cambio_valores: {cambio_valores}\")"
      ],
      "metadata": {
        "colab": {
          "base_uri": "https://localhost:8080/"
        },
        "id": "VxAyacwuF24V",
        "outputId": "33fa0315-e80d-4695-879b-944fef6ce109"
      },
      "execution_count": 21,
      "outputs": [
        {
          "output_type": "stream",
          "name": "stdout",
          "text": [
            "dict_: {1: 'a', 2: 'b', 3: 'c', 4: 'd'}\n",
            "cambio_valores: {'a': 1, 'b': 2, 'c': 3, 'd': 4}\n"
          ]
        }
      ]
    }
  ]
}