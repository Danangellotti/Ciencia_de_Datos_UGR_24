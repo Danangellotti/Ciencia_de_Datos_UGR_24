{
  "nbformat": 4,
  "nbformat_minor": 0,
  "metadata": {
    "colab": {
      "provenance": [],
      "authorship_tag": "ABX9TyNiK+bFYl76iPfU7RUvtOV9",
      "include_colab_link": true
    },
    "kernelspec": {
      "name": "python3",
      "display_name": "Python 3"
    },
    "language_info": {
      "name": "python"
    }
  },
  "cells": [
    {
      "cell_type": "markdown",
      "metadata": {
        "id": "view-in-github",
        "colab_type": "text"
      },
      "source": [
        "<a href=\"https://colab.research.google.com/github/Danangellotti/Ciencia_de_Datos_UGR_24/blob/main/Clases_Y_Objetos.ipynb\" target=\"_parent\"><img src=\"https://colab.research.google.com/assets/colab-badge.svg\" alt=\"Open In Colab\"/></a>"
      ]
    },
    {
      "cell_type": "markdown",
      "source": [
        "# Clases y Objetos\n",
        "\n",
        "* Una clase es una combinación específica de atributos y métodos, es decir, es una especie de plantilla.\n",
        "* Un objeto es una clase en memoria durante la ejecución de un programa."
      ],
      "metadata": {
        "id": "o1UVeFL5Vbea"
      }
    },
    {
      "cell_type": "code",
      "source": [
        "class Persona():\n",
        "#              cls\n",
        "  def __init__(self, nombre:str, apellido:str, edad:int): # constructor:, (self es una referencia al objeto) y luego continuan los atributos\n",
        "    \"\"\" Constructor de la clase Persona.\n",
        "\n",
        "    Args:(atributos)\n",
        "      nombre (str): Nombre de la persona.\n",
        "      apellido (str): Apellido de la persona.\n",
        "      edad (int): Edad de la persona.\n",
        "    \"\"\"\n",
        "    self.nombre = nombre\n",
        "    self.apellido = apellido\n",
        "    self.edad = edad\n",
        "\n",
        "  def obtener_nombre_completo(self) -> str:# creacion de metodo para unir nobre y apellido\n",
        "    return f\"{self.nombre} {self.apellido}\"\n",
        "\n",
        "  def __str__(self) -> str:\n",
        "    \"\"\" Sobrecarga de la función para transformalo a un string.\n",
        "    \"\"\"\n",
        "    return f\"Nombre y Apellido: {self.nombre} {self.apellido}\\n\" \\\n",
        "      + f\"Edad: {self.edad}\""
      ],
      "metadata": {
        "id": "Wub0XNvPVkoW"
      },
      "execution_count": 7,
      "outputs": []
    },
    {
      "cell_type": "code",
      "source": [
        "persona = Persona(nombre=\"Pepe\", apellido=\"Grillo\", edad=19) # creacion de variable persona\n",
        "print(persona)"
      ],
      "metadata": {
        "colab": {
          "base_uri": "https://localhost:8080/"
        },
        "id": "F1rdR9jRVvlE",
        "outputId": "a0095dd9-3c44-40b3-988c-19a9b408e08d"
      },
      "execution_count": 8,
      "outputs": [
        {
          "output_type": "stream",
          "name": "stdout",
          "text": [
            "Nombre y Apellido: Pepe Grillo\n",
            "Edad: 19\n"
          ]
        }
      ]
    },
    {
      "cell_type": "code",
      "source": [
        "persona.edad = 21\n",
        "print(persona)"
      ],
      "metadata": {
        "colab": {
          "base_uri": "https://localhost:8080/"
        },
        "id": "fEx4s-piV1Hn",
        "outputId": "4dd02c1a-3404-482c-fb68-1bb94af83ffb"
      },
      "execution_count": 9,
      "outputs": [
        {
          "output_type": "stream",
          "name": "stdout",
          "text": [
            "Nombre y Apellido: Pepe Grillo\n",
            "Edad: 21\n"
          ]
        }
      ]
    },
    {
      "cell_type": "code",
      "source": [
        "# herencia de clases\n",
        "class Estudiante(Persona):\n",
        "\n",
        "  def __init__(self, nombre:str, apellido:str, edad:int, universidad:str):# constructor\n",
        "    \"\"\" Constructor de la clase Persona.\n",
        "\n",
        "    Args:\n",
        "      nombre (str): Nombre de la persona.\n",
        "      apellido (str): Apellido de la persona.\n",
        "      edad (int): Edad de la persona.\n",
        "      universidad (str): Nombre de la universidad.\n",
        "    \"\"\"\n",
        "    super().__init__(nombre=nombre, apellido=apellido, edad=edad)\n",
        "    self.universidad:str=universidad\n",
        "\n",
        "  def __str__(self) -> str:\n",
        "    \"\"\" Sobrecarga de la función para transformalo a un string.\n",
        "    \"\"\"\n",
        "    return super().__str__() + \"\\n\" \\\n",
        "      + f\"Universidad: {self.universidad}\""
      ],
      "metadata": {
        "id": "5rymelHxV5k2"
      },
      "execution_count": 10,
      "outputs": []
    },
    {
      "cell_type": "code",
      "source": [
        "estudiante = Estudiante(nombre=\"Pepe\", apellido=\"Grillo\", edad=19, universidad=\"UGR\")\n",
        "print(estudiante)"
      ],
      "metadata": {
        "colab": {
          "base_uri": "https://localhost:8080/"
        },
        "id": "zXR_tfbNV-c-",
        "outputId": "c7161eab-d9da-4270-ae8c-0d04daf2329a"
      },
      "execution_count": 11,
      "outputs": [
        {
          "output_type": "stream",
          "name": "stdout",
          "text": [
            "Nombre y Apellido: Pepe Grillo\n",
            "Edad: 19\n",
            "Universidad: UGR\n"
          ]
        }
      ]
    },
    {
      "cell_type": "code",
      "source": [
        "from typing import Union\n",
        "from datetime import datetime\n",
        "# propiedades privadas\n",
        "class Licenciado(Estudiante):\n",
        "  anio_egreso:Union[int,None]=None\n",
        "  __hora_creacion:datetime=datetime.now() # __ significa privado\n",
        "\n",
        "  def obtener_hora_creacion(self)->datetime:\n",
        "    \"\"\" Devuelve la hora de creación\n",
        "\n",
        "    Returns:\n",
        "      datetime: Hora de creación del objeto.\n",
        "    \"\"\"\n",
        "    return self.__hora_creacion\n",
        "\n",
        "  def __str__(self) -> str:\n",
        "    \"\"\" Sobrecarga de la función para transformalo a un string.\n",
        "    \"\"\"\n",
        "    return super().__str__() + \"\\n\" \\\n",
        "      + f\"Año Egreso: {self.anio_egreso}\\n\" \\\n",
        "      + f\"Hora Creación Objeto: {self.__hora_creacion}\""
      ],
      "metadata": {
        "id": "6DXEAb4kZfoa"
      },
      "execution_count": 12,
      "outputs": []
    },
    {
      "cell_type": "code",
      "source": [
        "licenciado = Licenciado(nombre=\"Pepe\", apellido=\"Grillo\", edad=19, universidad=\"UGR\")# se crea el objeto\n",
        "licenciado.anio_egreso=2023\n",
        "print(licenciado)\n",
        "print(\"---\")\n",
        "print(f\"Muestra hora de creación del objeto: {licenciado.obtener_hora_creacion()}\")"
      ],
      "metadata": {
        "colab": {
          "base_uri": "https://localhost:8080/"
        },
        "id": "an_3pQSrZphe",
        "outputId": "d85a9782-caf6-4caf-b769-ba7b0450dede"
      },
      "execution_count": 13,
      "outputs": [
        {
          "output_type": "stream",
          "name": "stdout",
          "text": [
            "Nombre y Apellido: Pepe Grillo\n",
            "Edad: 19\n",
            "Universidad: UGR\n",
            "Año Egreso: 2023\n",
            "Hora Creación Objeto: 2024-08-28 14:33:18.151685\n",
            "---\n",
            "Muestra hora de creación del objeto: 2024-08-28 14:33:18.151685\n"
          ]
        }
      ]
    },
    {
      "cell_type": "code",
      "source": [
        "print(f\"hora creación: {licenciado.__hora_creacion}\")# tira error porque es privado"
      ],
      "metadata": {
        "colab": {
          "base_uri": "https://localhost:8080/",
          "height": 141
        },
        "id": "Msjs6gcLWFwQ",
        "outputId": "40340d89-e313-464d-d34e-11f81e338e33"
      },
      "execution_count": 14,
      "outputs": [
        {
          "output_type": "error",
          "ename": "AttributeError",
          "evalue": "'Licenciado' object has no attribute '__hora_creacion'",
          "traceback": [
            "\u001b[0;31m---------------------------------------------------------------------------\u001b[0m",
            "\u001b[0;31mAttributeError\u001b[0m                            Traceback (most recent call last)",
            "\u001b[0;32m<ipython-input-14-2c7b4a557df1>\u001b[0m in \u001b[0;36m<cell line: 1>\u001b[0;34m()\u001b[0m\n\u001b[0;32m----> 1\u001b[0;31m \u001b[0mprint\u001b[0m\u001b[0;34m(\u001b[0m\u001b[0;34mf\"hora creación: {licenciado.__hora_creacion}\"\u001b[0m\u001b[0;34m)\u001b[0m\u001b[0;34m\u001b[0m\u001b[0;34m\u001b[0m\u001b[0m\n\u001b[0m",
            "\u001b[0;31mAttributeError\u001b[0m: 'Licenciado' object has no attribute '__hora_creacion'"
          ]
        }
      ]
    },
    {
      "cell_type": "code",
      "source": [
        "print(f\"propiedades del objeto: {list(licenciado.__dict__.keys())}\") # agregamos propiedades dinamica en tiempo de ejecucion ,sin el constructor y estar dentro de la clase (propiedad promedio)\n",
        "print(\"---\")\n",
        "licenciado.promedio = 8.95\n",
        "print(licenciado)\n",
        "print(f\"promedio: {licenciado.promedio}\")\n",
        "print(\"---\")\n",
        "print(f\"propiedades del objeto: {list(licenciado.__dict__.keys())}\")"
      ],
      "metadata": {
        "colab": {
          "base_uri": "https://localhost:8080/"
        },
        "id": "mnPrwTmDWLqc",
        "outputId": "b33e2a25-204d-4330-feab-a01163c61d22"
      },
      "execution_count": 15,
      "outputs": [
        {
          "output_type": "stream",
          "name": "stdout",
          "text": [
            "propiedades del objeto: ['nombre', 'apellido', 'edad', 'universidad', 'anio_egreso']\n",
            "---\n",
            "Nombre y Apellido: Pepe Grillo\n",
            "Edad: 19\n",
            "Universidad: UGR\n",
            "Año Egreso: 2023\n",
            "Hora Creación Objeto: 2024-08-28 14:33:18.151685\n",
            "promedio: 8.95\n",
            "---\n",
            "propiedades del objeto: ['nombre', 'apellido', 'edad', 'universidad', 'anio_egreso', 'promedio']\n"
          ]
        }
      ]
    },
    {
      "cell_type": "code",
      "source": [
        "del licenciado.anio_egreso # borramos propiedades"
      ],
      "metadata": {
        "id": "wCE82NgXWQvT"
      },
      "execution_count": 17,
      "outputs": []
    },
    {
      "cell_type": "code",
      "source": [
        "print(f\"propiedades del objeto: {list(licenciado.__dict__.keys())}\")\n",
        "print(\"---\")\n",
        "print(licenciado)"
      ],
      "metadata": {
        "colab": {
          "base_uri": "https://localhost:8080/"
        },
        "id": "nAAf_rsKWVeg",
        "outputId": "5d6d0f73-84e2-4a3c-bb54-19c448764ae2"
      },
      "execution_count": 18,
      "outputs": [
        {
          "output_type": "stream",
          "name": "stdout",
          "text": [
            "propiedades del objeto: ['nombre', 'apellido', 'edad', 'universidad', 'promedio']\n",
            "---\n",
            "Nombre y Apellido: Pepe Grillo\n",
            "Edad: 19\n",
            "Universidad: UGR\n",
            "Año Egreso: None\n",
            "Hora Creación Objeto: 2024-08-28 14:33:18.151685\n"
          ]
        }
      ]
    }
  ]
}