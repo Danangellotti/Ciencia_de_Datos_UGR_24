{
  "nbformat": 4,
  "nbformat_minor": 0,
  "metadata": {
    "colab": {
      "provenance": [],
      "authorship_tag": "ABX9TyO7t17py9IEaz6Wg0kq0Mze",
      "include_colab_link": true
    },
    "kernelspec": {
      "name": "python3",
      "display_name": "Python 3"
    },
    "language_info": {
      "name": "python"
    }
  },
  "cells": [
    {
      "cell_type": "markdown",
      "metadata": {
        "id": "view-in-github",
        "colab_type": "text"
      },
      "source": [
        "<a href=\"https://colab.research.google.com/github/Danangellotti/Ciencia_de_Datos_UGR_24/blob/main/PythonTipoDeDatos.ipynb\" target=\"_parent\"><img src=\"https://colab.research.google.com/assets/colab-badge.svg\" alt=\"Open In Colab\"/></a>"
      ]
    },
    {
      "cell_type": "markdown",
      "source": [
        "#Str\n"
      ],
      "metadata": {
        "id": "NgcOaYol9evb"
      }
    },
    {
      "cell_type": "code",
      "execution_count": 2,
      "metadata": {
        "colab": {
          "base_uri": "https://localhost:8080/"
        },
        "id": "TcjvI40j8nwI",
        "outputId": "3c7de84f-0da0-4add-9415-366772f5f030"
      },
      "outputs": [
        {
          "output_type": "stream",
          "name": "stdout",
          "text": [
            "str : Hola mundo - tipo <class 'str'>\n"
          ]
        }
      ],
      "source": [
        "str_:str=\"Hola mundo\"\n",
        "print (f\"str : {str_} - tipo {type(str_)}\")"
      ]
    },
    {
      "cell_type": "markdown",
      "source": [
        "#Concatenación"
      ],
      "metadata": {
        "id": "8EtJMWN8_QPL"
      }
    },
    {
      "cell_type": "code",
      "source": [
        "a=\" hola \"\n",
        "b=\"MUNDo! \"\n",
        "c= a+b\n",
        "print(f\"a=#{a}# - b=#{b}#\")\n",
        "print(\"-----\")\n",
        "\n",
        "print(\"a+b=#\", c, \"#\")\n",
        "print(\"-----\")\n",
        "\n",
        "c=\"%s%s\" % (a,b)\n",
        "print('\"%s%s\" % (a,b)=#', c, \"#\")\n",
        "print(\"-----\")\n",
        "\n",
        "c=\"{}{}\".format(a,b)\n",
        "print('\"{}{}\".format(a,b)=#', c, \"#\")\n",
        "print(\"-----\")\n",
        "\n",
        "c=f\"{a+b}\"\n",
        "print('f\"{a+b}\"=#',c, \"#\")\n",
        "print(\"-----\")\n",
        "\n",
        "c=f\"{a}{b}\"\n",
        "print('f\"{a}{b}\"=#',c, \"#\")"
      ],
      "metadata": {
        "colab": {
          "base_uri": "https://localhost:8080/"
        },
        "id": "JkwDBzJe_A3D",
        "outputId": "39bb05aa-118e-4f74-fd88-264b215bd0ed"
      },
      "execution_count": 3,
      "outputs": [
        {
          "output_type": "stream",
          "name": "stdout",
          "text": [
            "a=# hola # - b=#MUNDo! #\n",
            "-----\n",
            "a+b=#  hola MUNDo!  #\n",
            "-----\n",
            "\"%s%s\" % (a,b)=#  hola MUNDo!  #\n",
            "-----\n",
            "\"{}{}\".format(a,b)=#  hola MUNDo!  #\n",
            "-----\n",
            "f\"{a+b}\"=#  hola MUNDo!  #\n",
            "-----\n",
            "f\"{a}{b}\"=#  hola MUNDo!  #\n"
          ]
        }
      ]
    },
    {
      "cell_type": "markdown",
      "source": [
        "#Funciones"
      ],
      "metadata": {
        "id": "JYjEHxIyAbDs"
      }
    },
    {
      "cell_type": "code",
      "source": [
        "print(f\"original: #{c}#\")\n",
        "# lower, que trasforma a minuscula\n",
        "print(f\"lower: #{c.lower()}#\")\n",
        "# upper, pasa el str a mayuscula\n",
        "print(f\"upper: #{c.upper()}#\")\n",
        "# capitalize, pasar la primer letra del str a mayuscula\n",
        "print(f\"capitalize: #{c.strip().capitalize()}#\")\n",
        "# startswith, verifica si una cadena de caracteres cominza con una letra o un grupo de letras\n",
        "print(f\"startswith ( ho): {c.startswith(' ho')}\")\n",
        "print(f\"startswith ( ha): {c.startswith(' ha')}\")\n",
        "# endswith, significa termina en .....\n",
        "print(f\"endswith (! ): {c.endswith('! ')}\")\n",
        "print(f\"endswith (  ): {c.endswith('  ')}\")\n",
        "# strip, lstrip, rstrip, elimina caracteres de espacio\n",
        "print(f\"strip: #{c.strip()}#\")\n",
        "print(f\"lstrip: #{c.lstrip()}#\")\n",
        "print(f\"rstrip: #{c.rstrip()}#\")\n",
        "# split, separa un str en una lista de str\n",
        "print(f\"split (o): #{c.split('o')}#\")"
      ],
      "metadata": {
        "colab": {
          "base_uri": "https://localhost:8080/"
        },
        "id": "kHP_-86D_1Pr",
        "outputId": "4746644f-1396-4d85-c4e9-8c5b84a5aafa"
      },
      "execution_count": 4,
      "outputs": [
        {
          "output_type": "stream",
          "name": "stdout",
          "text": [
            "original: # hola MUNDo! #\n",
            "lower: # hola mundo! #\n",
            "upper: # HOLA MUNDO! #\n",
            "capitalize: #Hola mundo!#\n",
            "startswith ( ho): True\n",
            "startswith ( ha): False\n",
            "endswith (! ): True\n",
            "endswith (  ): False\n",
            "strip: #hola MUNDo!#\n",
            "lstrip: #hola MUNDo! #\n",
            "rstrip: # hola MUNDo!#\n",
            "split (o): #[' h', 'la MUND', '! ']#\n"
          ]
        }
      ]
    },
    {
      "cell_type": "markdown",
      "source": [
        "#bool"
      ],
      "metadata": {
        "id": "NHB3wnKECXOH"
      }
    },
    {
      "cell_type": "code",
      "source": [
        "bool_:bool = True # False\n",
        "print(f\"bool_: {bool_} - tipo: {type(bool_)}\")"
      ],
      "metadata": {
        "colab": {
          "base_uri": "https://localhost:8080/"
        },
        "id": "e8JNH2m4CaBg",
        "outputId": "a1f5815d-5eb8-480e-d6c6-e68d55ac638f"
      },
      "execution_count": 5,
      "outputs": [
        {
          "output_type": "stream",
          "name": "stdout",
          "text": [
            "bool_: True - tipo: <class 'bool'>\n"
          ]
        }
      ]
    },
    {
      "cell_type": "code",
      "source": [
        "print(\"NOT\")\n",
        "print(f\"bool_: {bool_} - not bool_: {not bool_}\")\n",
        "print()\n",
        "print(\"AND\")\n",
        "print(f\"bool_1 and bool_2 = resultado\")\n",
        "print(f\"True   and True   = {True  and True}\")\n",
        "print(f\"True   and False  = {True  and False}\")\n",
        "print(f\"False  and True   = {False and True}\")\n",
        "print(f\"False  and False  = {False and False}\")\n",
        "print()\n",
        "print(\"OR\")\n",
        "print(f\"bool_1 or bool_2 = resultado\")\n",
        "print(f\"True   or True   = {True  or True}\")\n",
        "print(f\"True   or False  = {True  or False}\")\n",
        "print(f\"False  or True   = {False or True}\")\n",
        "print(f\"False  or False  = {False or False}\")"
      ],
      "metadata": {
        "colab": {
          "base_uri": "https://localhost:8080/"
        },
        "id": "WnF6m7hPCy_4",
        "outputId": "546fc841-c384-408c-d438-1d327d41eac0"
      },
      "execution_count": 6,
      "outputs": [
        {
          "output_type": "stream",
          "name": "stdout",
          "text": [
            "NOT\n",
            "bool_: True - not bool_: False\n",
            "\n",
            "AND\n",
            "bool_1 and bool_2 = resultado\n",
            "True   and True   = True\n",
            "True   and False  = False\n",
            "False  and True   = False\n",
            "False  and False  = False\n",
            "\n",
            "OR\n",
            "bool_1 or bool_2 = resultado\n",
            "True   or True   = True\n",
            "True   or False  = True\n",
            "False  or True   = True\n",
            "False  or False  = False\n"
          ]
        }
      ]
    },
    {
      "cell_type": "markdown",
      "source": [
        "# int / float"
      ],
      "metadata": {
        "id": "CiD3QOOWEUK3"
      }
    },
    {
      "cell_type": "code",
      "source": [
        "int_:int = 10\n",
        "float_:float = 10.5\n",
        "print(f\"int_: {int_} - tipo: {type(int_)}\")\n",
        "print(f\"float_: {float_} - tipo: {type(float_)}\")"
      ],
      "metadata": {
        "colab": {
          "base_uri": "https://localhost:8080/"
        },
        "id": "JhLHi6v6EX9L",
        "outputId": "07f72dcb-ce68-49f7-c362-fc50d4e32b4d"
      },
      "execution_count": 7,
      "outputs": [
        {
          "output_type": "stream",
          "name": "stdout",
          "text": [
            "int_: 10 - tipo: <class 'int'>\n",
            "float_: 10.5 - tipo: <class 'float'>\n"
          ]
        }
      ]
    },
    {
      "cell_type": "markdown",
      "source": [
        "#operaciones"
      ],
      "metadata": {
        "id": "-SNHcP1PEwYx"
      }
    },
    {
      "cell_type": "code",
      "source": [
        "int_1:int=5\n",
        "int_2:int=2\n",
        "# + suma\n",
        "print(f\"suma: {int_1} + {int_2} = {int_1 + int_2}\")\n",
        "# - resta\n",
        "print(f\"resta: {int_1} - {int_2} = {int_1 - int_2}\")\n",
        "# * multiplicación\n",
        "print(f\"multiplicación: {int_1} * {int_2} = {int_1 * int_2}\")\n",
        "# / división\n",
        "print(f\"división: {int_1} / {int_2} = {int_1 / int_2}\")\n",
        "# // división entera\n",
        "print(f\"división entera: {int_1} // {int_2} = {int_1 // int_2}\")\n",
        "# ** potencia\n",
        "print(f\"potencia: {int_1} ** {int_2} = {int_1 ** int_2}\")\n",
        "# % módulo o resto de la división\n",
        "print(f\"módulo o resto de la división: {int_1} % {int_2} = {int_1 % int_2}\")"
      ],
      "metadata": {
        "colab": {
          "base_uri": "https://localhost:8080/"
        },
        "id": "aWHWcvTIEsHR",
        "outputId": "166772aa-ed35-41ac-f759-8b021075149f"
      },
      "execution_count": 8,
      "outputs": [
        {
          "output_type": "stream",
          "name": "stdout",
          "text": [
            "suma: 5 + 2 = 7\n",
            "resta: 5 - 2 = 3\n",
            "multiplicación: 5 * 2 = 10\n",
            "división: 5 / 2 = 2.5\n",
            "división entera: 5 // 2 = 2\n",
            "potencia: 5 ** 2 = 25\n",
            "módulo o resto de la división: 5 % 2 = 1\n"
          ]
        }
      ]
    },
    {
      "cell_type": "markdown",
      "source": [
        "#date / datetime"
      ],
      "metadata": {
        "id": "uQZpISunE85i"
      }
    },
    {
      "cell_type": "code",
      "source": [
        "# importamos el modulo date, datetime\n",
        "from datetime import date, datetime\n",
        "# aca llamamos al constructor pasandole año, mes, dia\n",
        "date_:date=date(1990,1,1)\n",
        "print(f\"date_: {date_} - tipo: {type(date_)}\")"
      ],
      "metadata": {
        "colab": {
          "base_uri": "https://localhost:8080/"
        },
        "id": "vhkVtEqgFAn3",
        "outputId": "36c18a93-67b4-4457-ffb4-4c7b0d3e150c"
      },
      "execution_count": 15,
      "outputs": [
        {
          "output_type": "stream",
          "name": "stdout",
          "text": [
            "date_: 1990-01-01 - tipo: <class 'datetime.date'>\n"
          ]
        }
      ]
    },
    {
      "cell_type": "code",
      "source": [
        "datetime_:datetime=datetime(1990,1,1, 2,55,36)\n",
        "print(f\"datetime_: {datetime_} - tipo: {type(datetime_)}\")"
      ],
      "metadata": {
        "colab": {
          "base_uri": "https://localhost:8080/"
        },
        "id": "O2qg8-vLFN5g",
        "outputId": "46075f0b-cffd-4412-ef73-3bcc790b8e24"
      },
      "execution_count": 10,
      "outputs": [
        {
          "output_type": "stream",
          "name": "stdout",
          "text": [
            "datetime_: 1990-01-01 02:55:36 - tipo: <class 'datetime.datetime'>\n"
          ]
        }
      ]
    },
    {
      "cell_type": "code",
      "source": [
        "#strftime, se pasa de un datetime a un str usando la funcion .strftime\n",
        "datetime_to_str:str=datetime_.strftime(\"%d/%m/%Y %H:%M:%S\")\n",
        "print(f\"datetime_to_str: {datetime_to_str} - tipo: {type(datetime_to_str)}\")"
      ],
      "metadata": {
        "colab": {
          "base_uri": "https://localhost:8080/"
        },
        "id": "TsOwWjnPFUYw",
        "outputId": "5d6f678e-c27c-4d10-923a-edcec97e836c"
      },
      "execution_count": 11,
      "outputs": [
        {
          "output_type": "stream",
          "name": "stdout",
          "text": [
            "datetime_to_str: 01/01/1990 02:55:36 - tipo: <class 'str'>\n"
          ]
        }
      ]
    },
    {
      "cell_type": "code",
      "source": [
        "#strptime, a la inversa del anterior\n",
        "str_to_datetime:datetime=datetime.strptime(datetime_to_str,\"%d/%m/%Y %H:%M:%S\")\n",
        "print(f\"str_to_datetime: {str_to_datetime} - tipo: {type(str_to_datetime)}\")"
      ],
      "metadata": {
        "colab": {
          "base_uri": "https://localhost:8080/"
        },
        "id": "58-fSqfFFbpG",
        "outputId": "ce9f7cdf-b0be-447c-9d41-110ff63af584"
      },
      "execution_count": 12,
      "outputs": [
        {
          "output_type": "stream",
          "name": "stdout",
          "text": [
            "str_to_datetime: 1990-01-01 02:55:36 - tipo: <class 'datetime.datetime'>\n"
          ]
        }
      ]
    },
    {
      "cell_type": "code",
      "source": [
        "# nos permite sumar dias, meses, años o restarlos\n",
        "from datetime import timedelta\n",
        "\n",
        "datetime_add_10:datetime=datetime_+timedelta(days=10)\n",
        "print(f\"datetime_: {datetime_} - tipo: {type(datetime_)}\")\n",
        "print(f\"datetime_add_10: {datetime_add_10} - tipo: {type(datetime_add_10)}\")"
      ],
      "metadata": {
        "colab": {
          "base_uri": "https://localhost:8080/"
        },
        "id": "Z4aeQloCFqVr",
        "outputId": "efa7767f-27f1-4e38-e654-fc8d4be60e1a"
      },
      "execution_count": 16,
      "outputs": [
        {
          "output_type": "stream",
          "name": "stdout",
          "text": [
            "datetime_: 1990-01-01 02:55:36 - tipo: <class 'datetime.datetime'>\n",
            "datetime_add_10: 1990-01-11 02:55:36 - tipo: <class 'datetime.datetime'>\n"
          ]
        }
      ]
    },
    {
      "cell_type": "code",
      "source": [
        "datetime_sub_10:datetime=datetime_-timedelta(days=10)\n",
        "print(f\"datetime_: {datetime_} - tipo: {type(datetime_)}\")\n",
        "print(f\"datetime_sub_10: {datetime_sub_10} - tipo: {type(datetime_sub_10)}\")"
      ],
      "metadata": {
        "colab": {
          "base_uri": "https://localhost:8080/"
        },
        "id": "HPp9PAtqFw51",
        "outputId": "2ad474fd-11ae-4ff7-bee0-ebef537cd3ec"
      },
      "execution_count": 17,
      "outputs": [
        {
          "output_type": "stream",
          "name": "stdout",
          "text": [
            "datetime_: 1990-01-01 02:55:36 - tipo: <class 'datetime.datetime'>\n",
            "datetime_sub_10: 1989-12-22 02:55:36 - tipo: <class 'datetime.datetime'>\n"
          ]
        }
      ]
    }
  ]
}