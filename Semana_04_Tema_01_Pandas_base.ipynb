{
  "nbformat": 4,
  "nbformat_minor": 0,
  "metadata": {
    "colab": {
      "provenance": [],
      "include_colab_link": true
    },
    "kernelspec": {
      "name": "python3",
      "display_name": "Python 3"
    },
    "language_info": {
      "name": "python"
    }
  },
  "cells": [
    {
      "cell_type": "markdown",
      "metadata": {
        "id": "view-in-github",
        "colab_type": "text"
      },
      "source": [
        "<a href=\"https://colab.research.google.com/github/Danangellotti/Ciencia_de_Datos_UGR_24/blob/main/Semana_04_Tema_01_Pandas_base.ipynb\" target=\"_parent\"><img src=\"https://colab.research.google.com/assets/colab-badge.svg\" alt=\"Open In Colab\"/></a>"
      ]
    },
    {
      "cell_type": "markdown",
      "source": [
        "# ¿Qué es Pandas?\n",
        "Pandas es una librería de código abierto para la manipulación y tratamiento de datos.\n",
        "\n",
        "Incluye herramientas para cargar datos, modelar, analizar, manipular y prepararlos.\n",
        "\n",
        "Las dos estructuras de datos principales son:\n",
        "\n",
        "**Series**: array unidimensional capaz de almacenar cualquier tipo de dato pero toda la serie debe tener el mismo tipo.\n",
        "\n",
        "**DataFrame**: estructura bidimensional con columnas que pueden ser también de cualquier tipo. Estas columnas son a su vez Series.\n"
      ],
      "metadata": {
        "id": "_hCihqALPmEg"
      }
    },
    {
      "cell_type": "markdown",
      "source": [
        "## Instalación\n",
        "\n",
        "```bash\n",
        "$ !pip install pandas\n",
        "```"
      ],
      "metadata": {
        "id": "8shC41GlQhHR"
      }
    },
    {
      "cell_type": "markdown",
      "source": [
        "## Versión de la librería"
      ],
      "metadata": {
        "id": "XIcc0ZfLQktS"
      }
    },
    {
      "cell_type": "code",
      "source": [
        "import numpy as np\n",
        "from matplotlib import pyplot as plt\n",
        "\n",
        "import pandas as pd\n",
        "pd.__version__"
      ],
      "metadata": {
        "colab": {
          "base_uri": "https://localhost:8080/",
          "height": 36
        },
        "id": "5P66r0YsMrvg",
        "outputId": "1670782b-686c-4e26-a067-7777c0525b28"
      },
      "execution_count": null,
      "outputs": [
        {
          "output_type": "execute_result",
          "data": {
            "text/plain": [
              "'1.5.3'"
            ],
            "application/vnd.google.colaboratory.intrinsic+json": {
              "type": "string"
            }
          },
          "metadata": {},
          "execution_count": 1
        }
      ]
    },
    {
      "cell_type": "markdown",
      "source": [
        "## Series\n",
        "\n",
        "Las series son una columna de datos que poseen un índice que se crea de forma automática con valores numéricos o con valores que nosotros le indiquemos. Cada serie tiene un nombre."
      ],
      "metadata": {
        "id": "QitlNIiWT549"
      }
    },
    {
      "cell_type": "markdown",
      "source": [
        "### Desde una lista"
      ],
      "metadata": {
        "id": "llbblXepT537"
      }
    },
    {
      "cell_type": "code",
      "source": [
        "# Toma la lista de materias y crea los índices de forma automática\n",
        "lista_materias = [\"Matemáticas\", \"Lengua\", \"Historia\", \"Geografía\", \"Inglés\", \"Programación\"]\n",
        "fila_desde_lis = pd.Series(data=lista_materias)\n",
        "print(\"Lista de materias (lista_materias): \\n\", lista_materias)\n",
        "print()\n",
        "print('Sentencia: pd.Series(data=lista_materias)')\n",
        "print(\"La serie es: \", fila_desde_lis, sep=\"\\n\")"
      ],
      "metadata": {
        "colab": {
          "base_uri": "https://localhost:8080/"
        },
        "id": "yWq-XiERRqv9",
        "outputId": "5627a052-ae90-43f0-8091-e380f73fb2a0"
      },
      "execution_count": null,
      "outputs": [
        {
          "output_type": "stream",
          "name": "stdout",
          "text": [
            "Lista de materias (lista_materias): \n",
            " ['Matemáticas', 'Lengua', 'Historia', 'Geografía', 'Inglés', 'Programación']\n",
            "\n",
            "Sentencia: pd.Series(data=lista_materias)\n",
            "La serie es: \n",
            "0     Matemáticas\n",
            "1          Lengua\n",
            "2        Historia\n",
            "3       Geografía\n",
            "4          Inglés\n",
            "5    Programación\n",
            "dtype: object\n"
          ]
        }
      ]
    },
    {
      "cell_type": "code",
      "source": [
        "# Mismo ejemplo que el anterior pero ahora creamos los índices de acuerdo\n",
        "# a la posición de la lista elevado al cuadrado\n",
        "lista_de_indices = [i**2 for i,_ in enumerate(lista_materias)]\n",
        "fila_desde_lis = pd.Series(data=lista_materias, index=lista_de_indices, name=\"Materias\")\n",
        "print(\"Lista de materias (lista_materias): \\n\", lista_materias)\n",
        "print(\"Lista de indices (lista_de_indices): \\n\", lista_de_indices)\n",
        "print()\n",
        "print('Sentencia: pd.Series(data=lista_materias, index=lista_de_indices, name=\"Materias\")')\n",
        "print(\"La serie es: \", fila_desde_lis, sep=\"\\n\")"
      ],
      "metadata": {
        "colab": {
          "base_uri": "https://localhost:8080/"
        },
        "id": "CDPSAxFZS6Tf",
        "outputId": "ca008df1-9565-4933-d730-216a3222b45e"
      },
      "execution_count": null,
      "outputs": [
        {
          "output_type": "stream",
          "name": "stdout",
          "text": [
            "Lista de materias (lista_materias): \n",
            " ['Matemáticas', 'Lengua', 'Historia', 'Geografía', 'Inglés', 'Programación']\n",
            "Lista de indices (lista_de_indices): \n",
            " [0, 1, 4, 9, 16, 25]\n",
            "\n",
            "Sentencia: pd.Series(data=lista_materias, index=lista_de_indices, name=\"Materias\")\n",
            "La serie es: \n",
            "0      Matemáticas\n",
            "1           Lengua\n",
            "4         Historia\n",
            "9        Geografía\n",
            "16          Inglés\n",
            "25    Programación\n",
            "Name: Materias, dtype: object\n"
          ]
        }
      ]
    },
    {
      "cell_type": "markdown",
      "source": [
        "### Desde un diccionario"
      ],
      "metadata": {
        "id": "mJc9x_OJUIKl"
      }
    },
    {
      "cell_type": "code",
      "source": [
        "# Toma las keys del diccionario como indices y como valor la nota.\n",
        "lista_notas_x_materias = {\"Matemáticas\": 9, \"Lengua\": 7.5, \"Historia\": 7, \"Geografía\": 8, \"Inglés\": 10, \"Programación\": 3}\n",
        "fila_desde_dic = pd.Series(data=lista_notas_x_materias, name=\"Notas y Materias\")\n",
        "print(\"Diccionario con datos (lista_notas_x_materias): \\n\", lista_notas_x_materias)\n",
        "print()\n",
        "print('Sentencia: pd.Series(data=lista_notas_x_materias, name=\"Notas y Materias\")')\n",
        "print(\"La serie es (fila_desde_dic): \", fila_desde_dic, sep=\"\\n\")"
      ],
      "metadata": {
        "colab": {
          "base_uri": "https://localhost:8080/"
        },
        "id": "SqRFVPPyULIk",
        "outputId": "0fbb97cf-2607-463d-f617-7c32e4fe652c"
      },
      "execution_count": null,
      "outputs": [
        {
          "output_type": "stream",
          "name": "stdout",
          "text": [
            "Diccionario con datos (lista_notas_x_materias): \n",
            " {'Matemáticas': 9, 'Lengua': 7.5, 'Historia': 7, 'Geografía': 8, 'Inglés': 10, 'Programación': 3}\n",
            "\n",
            "Sentencia: pd.Series(data=lista_notas_x_materias, name=\"Notas y Materias\")\n",
            "La serie es (fila_desde_dic): \n",
            "Matemáticas      9.0\n",
            "Lengua           7.5\n",
            "Historia         7.0\n",
            "Geografía        8.0\n",
            "Inglés          10.0\n",
            "Programación     3.0\n",
            "Name: Notas y Materias, dtype: float64\n"
          ]
        }
      ]
    },
    {
      "cell_type": "markdown",
      "source": [
        "### Atributos de la serie"
      ],
      "metadata": {
        "id": "WxCfdLeMVrfj"
      }
    },
    {
      "cell_type": "code",
      "source": [
        "print(\"Las serie fila_desde_lis:\", fila_desde_lis, sep=\"\\n\")\n",
        "print()\n",
        "print(\"Las serie fila_desde_dic:\", fila_desde_dic, sep=\"\\n\")"
      ],
      "metadata": {
        "colab": {
          "base_uri": "https://localhost:8080/"
        },
        "id": "bx6zmlroNskW",
        "outputId": "7fa7133c-8436-4ebd-b842-e9a9ab381517"
      },
      "execution_count": null,
      "outputs": [
        {
          "output_type": "stream",
          "name": "stdout",
          "text": [
            "Las serie fila_desde_lis:\n",
            "0      Matemáticas\n",
            "1           Lengua\n",
            "4         Historia\n",
            "9        Geografía\n",
            "16          Inglés\n",
            "25    Programación\n",
            "Name: Materias, dtype: object\n",
            "\n",
            "Las serie fila_desde_dic:\n",
            "Matemáticas      9.0\n",
            "Lengua           7.5\n",
            "Historia         7.0\n",
            "Geografía        8.0\n",
            "Inglés          10.0\n",
            "Programación     3.0\n",
            "Name: Notas y Materias, dtype: float64\n"
          ]
        }
      ]
    },
    {
      "cell_type": "code",
      "source": [
        "# size = devuelve la cantidad de posiciones o longitud\n",
        "print('Sentencia: fila_desde_lis.size')\n",
        "print(\"Tamaño de la serie fila_desde_lis:\", fila_desde_lis.size)\n",
        "print()\n",
        "print('Sentencia: fila_desde_dic.size')\n",
        "print(\"Tamaño de la serie fila_desde_dic:\", fila_desde_dic.size)"
      ],
      "metadata": {
        "colab": {
          "base_uri": "https://localhost:8080/"
        },
        "id": "CDTMEBNFV5g6",
        "outputId": "6a2f65ec-7d8a-4feb-f1d3-7798f2f9452a"
      },
      "execution_count": null,
      "outputs": [
        {
          "output_type": "stream",
          "name": "stdout",
          "text": [
            "Sentencia: fila_desde_lis.size\n",
            "Tamaño de la serie fila_desde_lis: 6\n",
            "\n",
            "Sentencia: fila_desde_dic.size\n",
            "Tamaño de la serie fila_desde_dic: 6\n"
          ]
        }
      ]
    },
    {
      "cell_type": "code",
      "source": [
        "# type = devuelve el tipo de la serie\n",
        "print('Sentencia: fila_desde_lis.dype')\n",
        "print(\"Tipo de dato de la serie fila_desde_lis:\", fila_desde_lis.dtype)\n",
        "print()\n",
        "print('Sentencia: fila_desde_dic.dtype')\n",
        "print(\"Tipo de dato de la serie fila_desde_dic:\", fila_desde_dic.dtype)"
      ],
      "metadata": {
        "colab": {
          "base_uri": "https://localhost:8080/"
        },
        "id": "ntUt11j4VS-l",
        "outputId": "5c7790ca-2dbe-485a-a344-069b3d952e64"
      },
      "execution_count": null,
      "outputs": [
        {
          "output_type": "stream",
          "name": "stdout",
          "text": [
            "Sentencia: fila_desde_dic.dype\n",
            "Tipo de dato de la serie fila_desde_lis: object\n",
            "\n",
            "Sentencia: fila_desde_dic.dtype\n",
            "Tipo de dato de la serie fila_desde_dic: float64\n"
          ]
        }
      ]
    },
    {
      "cell_type": "code",
      "source": [
        "# index = lista con los nombres de la filas y el tipo\n",
        "print('Sentencia: fila_desde_lis.index')\n",
        "print(\"Indices de la serie fila_desde_lis:\", fila_desde_lis.index)\n",
        "print()\n",
        "print('Sentencia: fila_desde_dic.index')\n",
        "print(\"Indices de la serie fila_desde_dic:\", fila_desde_dic.index)"
      ],
      "metadata": {
        "colab": {
          "base_uri": "https://localhost:8080/"
        },
        "id": "aUC4WLo8V56q",
        "outputId": "16b5e733-eab5-4dff-9825-331b3820b1a4"
      },
      "execution_count": null,
      "outputs": [
        {
          "output_type": "stream",
          "name": "stdout",
          "text": [
            "Sentencia: fila_desde_dic.index\n",
            "Indices de la serie fila_desde_lis: Int64Index([0, 1, 4, 9, 16, 25], dtype='int64')\n",
            "\n",
            "Sentencia: fila_desde_dic.index\n",
            "Indices de la serie fila_desde_dic: Index(['Matemáticas', 'Lengua', 'Historia', 'Geografía', 'Inglés',\n",
            "       'Programación'],\n",
            "      dtype='object')\n"
          ]
        }
      ]
    },
    {
      "cell_type": "code",
      "source": [
        "# values = lista los valores de la serie\n",
        "print('Sentencia: fila_desde_lis.values')\n",
        "print(\"Indices de la serie fila_desde_lis:\", fila_desde_lis.values)\n",
        "print()\n",
        "print('Sentencia: fila_desde_dic.values')\n",
        "print(\"Indices de la serie fila_desde_dic:\", fila_desde_dic.values)"
      ],
      "metadata": {
        "colab": {
          "base_uri": "https://localhost:8080/"
        },
        "id": "kF2xpGk_PDFP",
        "outputId": "1ded8a51-c337-4c69-97be-75cad97d2c38"
      },
      "execution_count": null,
      "outputs": [
        {
          "output_type": "stream",
          "name": "stdout",
          "text": [
            "Sentencia: fila_desde_dic.values\n",
            "Indices de la serie fila_desde_lis: ['Matemáticas' 'Lengua' 'Historia' 'Geografía' 'Inglés' 'Programación']\n",
            "\n",
            "Sentencia: fila_desde_dic.values\n",
            "Indices de la serie fila_desde_dic: [ 9.   7.5  7.   8.  10.   3. ]\n"
          ]
        }
      ]
    },
    {
      "cell_type": "markdown",
      "source": [
        "## Dataframe\n",
        "\n",
        "Esta compuesto por una lista de Series y toma una forma de tabla."
      ],
      "metadata": {
        "id": "n9zorqP7xnPR"
      }
    },
    {
      "cell_type": "code",
      "source": [
        "# creamos listas con índices y notas\n",
        "lista_notas_x_materias_juan = {\"Matemáticas\": 9, \"Lengua\": 7.5, \"Historia\": 7, \"Geografía\": 8, \"Inglés\": 10, \"Programación\": 3}\n",
        "lista_notas_x_materias_pedro = {\"Matemáticas\": 7, \"Lengua\": 9.5, \"Historia\": 9, \"Geografía\": 8, \"Inglés\": 7, \"Programación\": 7}\n",
        "lista_notas_x_materias_alegra = {\"Matemáticas\": 9, \"Lengua\": 8.5, \"Historia\": 9, \"Geografía\": 6, \"Inglés\": 8, \"Programación\": 9}\n",
        "\n",
        "# creamos el DataFrame donde cada columna es el nombre de una persona y el nombre\n",
        "# de las filas son las materias\n",
        "df = pd.DataFrame({\n",
        "    \"Pedro\":lista_notas_x_materias_pedro,\n",
        "    \"Juan\": lista_notas_x_materias_juan,\n",
        "    \"Alegra\": lista_notas_x_materias_alegra,\n",
        "    })\n",
        "print(\"El DataFrame es:\\n\", df)"
      ],
      "metadata": {
        "colab": {
          "base_uri": "https://localhost:8080/"
        },
        "id": "RC9gDf5EQMq4",
        "outputId": "4701dfea-4d13-4cce-96e2-21a573c66390"
      },
      "execution_count": null,
      "outputs": [
        {
          "output_type": "stream",
          "name": "stdout",
          "text": [
            "El DataFrame es:\n",
            "               Pedro  Juan  Alegra\n",
            "Matemáticas     7.0   9.0     9.0\n",
            "Lengua          9.5   7.5     8.5\n",
            "Historia        9.0   7.0     9.0\n",
            "Geografía       8.0   8.0     6.0\n",
            "Inglés          7.0  10.0     8.0\n",
            "Programación    7.0   3.0     9.0\n"
          ]
        }
      ]
    },
    {
      "cell_type": "markdown",
      "source": [
        "### Atributos del DataFrame"
      ],
      "metadata": {
        "id": "cPZvlX23PlWE"
      }
    },
    {
      "cell_type": "code",
      "source": [
        "print('Sentencia: df.size')\n",
        "print(\"Tamaño del DataFrame o cantidad de valores: \", df.size)\n",
        "print()\n",
        "print('Sentencia: df.shape')\n",
        "print(\"Format del DataFrame: \", df.shape)\n",
        "print()\n",
        "print('Sentencia: df.ndim')\n",
        "print(\"Cantidad de dimensiones del DataFrame: \", df.ndim)\n",
        "print()\n",
        "print('Sentencia: df.index')\n",
        "print(\"Indices del DataFrame:\\n\", df.index)\n",
        "print()\n",
        "print('Sentencia: df.columns')\n",
        "print(\"Columnas del DataFrame:\\n\", df.columns)\n",
        "print()\n",
        "print('Sentencia: df.values')\n",
        "print(\"Valores del DataFrame:\\n\", df.values)"
      ],
      "metadata": {
        "colab": {
          "base_uri": "https://localhost:8080/"
        },
        "id": "pewFk7G6PsII",
        "outputId": "b93ce895-6311-4795-e376-9d892c031cd6"
      },
      "execution_count": null,
      "outputs": [
        {
          "output_type": "stream",
          "name": "stdout",
          "text": [
            "Sentencia: df.size\n",
            "Tamaño del DataFrame o cantidad de valores:  18\n",
            "\n",
            "Sentencia: df.shape\n",
            "Format del DataFrame:  (6, 3)\n",
            "\n",
            "Sentencia: df.ndim\n",
            "Cantidad de dimensiones del DataFrame:  2\n",
            "\n",
            "Sentencia: df.index\n",
            "Indices del DataFrame:\n",
            " Index(['Matemáticas', 'Lengua', 'Historia', 'Geografía', 'Inglés',\n",
            "       'Programación'],\n",
            "      dtype='object')\n",
            "\n",
            "Sentencia: df.columns\n",
            "Columnas del DataFrame:\n",
            " Index(['Pedro', 'Juan', 'Alegra'], dtype='object')\n",
            "\n",
            "Sentencia: df.values\n",
            "Valores del DataFrame:\n",
            " [[ 7.   9.   9. ]\n",
            " [ 9.5  7.5  8.5]\n",
            " [ 9.   7.   9. ]\n",
            " [ 8.   8.   6. ]\n",
            " [ 7.  10.   8. ]\n",
            " [ 7.   3.   9. ]]\n"
          ]
        }
      ]
    },
    {
      "cell_type": "markdown",
      "source": [
        "### Ordenamiento"
      ],
      "metadata": {
        "id": "xINl-yK8YaER"
      }
    },
    {
      "cell_type": "markdown",
      "source": [
        "#### Por columnas"
      ],
      "metadata": {
        "id": "qcxLJH7EWgYg"
      }
    },
    {
      "cell_type": "code",
      "source": [
        "print(\"DataFrame original: \\n\", df )\n",
        "print()\n",
        "# le decimos que ordene por nombre o valor del índice de las columnas\n",
        "df = df.sort_index(axis=1, ascending=True)\n",
        "print('Sentencia: df = df.sort_index(axis=1, ascending=True)')\n",
        "print(\"DataFrame ordenado: \\n\", df )"
      ],
      "metadata": {
        "colab": {
          "base_uri": "https://localhost:8080/"
        },
        "id": "WmGszw_YVUpY",
        "outputId": "b2846656-05c1-4dd2-c2e8-00b4809253ed"
      },
      "execution_count": null,
      "outputs": [
        {
          "output_type": "stream",
          "name": "stdout",
          "text": [
            "DataFrame original: \n",
            "               Pedro  Juan  Alegra\n",
            "Matemáticas     7.0   9.0     9.0\n",
            "Lengua          9.5   7.5     8.5\n",
            "Historia        9.0   7.0     9.0\n",
            "Geografía       8.0   8.0     6.0\n",
            "Inglés          7.0  10.0     8.0\n",
            "Programación    7.0   3.0     9.0\n",
            "\n",
            "Sentencia: df = df.sort_index(axis=1, ascending=True)\n",
            "DataFrame ordenado: \n",
            "               Alegra  Juan  Pedro\n",
            "Matemáticas      9.0   9.0    7.0\n",
            "Lengua           8.5   7.5    9.5\n",
            "Historia         9.0   7.0    9.0\n",
            "Geografía        6.0   8.0    8.0\n",
            "Inglés           8.0  10.0    7.0\n",
            "Programación     9.0   3.0    7.0\n"
          ]
        }
      ]
    },
    {
      "cell_type": "markdown",
      "source": [
        "#### Por el índice"
      ],
      "metadata": {
        "id": "aRZivW-IWuuH"
      }
    },
    {
      "cell_type": "code",
      "source": [
        "print(\"DataFrame original: \\n\", df )\n",
        "print()\n",
        "# le decimos que oredene por el nombre o valor del índice de las filas\n",
        "df = df.sort_index(axis=0, ascending=True)\n",
        "print('Sentencia: df = df.sort_index(axis=0, ascending=True)')\n",
        "print(\"DataFrame ordenado: \\n\", df )"
      ],
      "metadata": {
        "colab": {
          "base_uri": "https://localhost:8080/"
        },
        "id": "f-DckB-2WyGs",
        "outputId": "8a38a855-8e52-4a8e-a893-3d078c6c7b88"
      },
      "execution_count": null,
      "outputs": [
        {
          "output_type": "stream",
          "name": "stdout",
          "text": [
            "DataFrame original: \n",
            "               Alegra  Juan  Pedro\n",
            "Matemáticas      9.0   9.0    7.0\n",
            "Lengua           8.5   7.5    9.5\n",
            "Historia         9.0   7.0    9.0\n",
            "Geografía        6.0   8.0    8.0\n",
            "Inglés           8.0  10.0    7.0\n",
            "Programación     9.0   3.0    7.0\n",
            "\n",
            "Sentencia: df = df.sort_index(axis=0, ascending=True)\n",
            "DataFrame ordenado: \n",
            "               Alegra  Juan  Pedro\n",
            "Geografía        6.0   8.0    8.0\n",
            "Historia         9.0   7.0    9.0\n",
            "Inglés           8.0  10.0    7.0\n",
            "Lengua           8.5   7.5    9.5\n",
            "Matemáticas      9.0   9.0    7.0\n",
            "Programación     9.0   3.0    7.0\n"
          ]
        }
      ]
    },
    {
      "cell_type": "markdown",
      "source": [
        "#### Por valores"
      ],
      "metadata": {
        "id": "yFg29qAXXc0c"
      }
    },
    {
      "cell_type": "code",
      "source": [
        "print(\"DataFrame original: \\n\", df )\n",
        "print()\n",
        "# ordena por los valores de las series, primero ordena por la columna \"Juan\", luego\n",
        "# por la columna \"Pedro\" y por último por la columna \"Alegra\"\n",
        "df = df.sort_values(by=[\"Juan\", \"Pedro\", \"Alegra\"], ascending=False)\n",
        "print('Sentencia: df = df.sort_values(by=[\"Juan\", \"Pedro\", \"Alegra\"], ascending=False)')\n",
        "print(\"DataFrame ordenado: \\n\", df )"
      ],
      "metadata": {
        "colab": {
          "base_uri": "https://localhost:8080/"
        },
        "id": "hmGU-xL8Xej4",
        "outputId": "d81b2343-4fa5-4f2e-881b-99bec2ddae9a"
      },
      "execution_count": null,
      "outputs": [
        {
          "output_type": "stream",
          "name": "stdout",
          "text": [
            "DataFrame original: \n",
            "               Alegra  Juan  Pedro\n",
            "Geografía        6.0   8.0    8.0\n",
            "Historia         9.0   7.0    9.0\n",
            "Inglés           8.0  10.0    7.0\n",
            "Lengua           8.5   7.5    9.5\n",
            "Matemáticas      9.0   9.0    7.0\n",
            "Programación     9.0   3.0    7.0\n",
            "\n",
            "Sentencia: df = df.sort_values(by=[\"Juan\", \"Pedro\", \"Alegra\"], ascending=False)\n",
            "DataFrame ordenado: \n",
            "               Alegra  Juan  Pedro\n",
            "Inglés           8.0  10.0    7.0\n",
            "Matemáticas      9.0   9.0    7.0\n",
            "Geografía        6.0   8.0    8.0\n",
            "Lengua           8.5   7.5    9.5\n",
            "Historia         9.0   7.0    9.0\n",
            "Programación     9.0   3.0    7.0\n"
          ]
        }
      ]
    },
    {
      "cell_type": "markdown",
      "source": [
        "## Accediendo a los datos"
      ],
      "metadata": {
        "id": "NBWanP3RYghF"
      }
    },
    {
      "cell_type": "markdown",
      "source": [
        "#### Por columna"
      ],
      "metadata": {
        "id": "oDoTElbxY4qn"
      }
    },
    {
      "cell_type": "code",
      "source": [
        "print(\"DataFrame original (df):\", df, sep=\"\\n\")\n",
        "print()\n",
        "print('Sentencia: df[\"Pedro\"]')\n",
        "print(\"Accediendo a la columna Pedro con una key del diccionario: \\n\", df[\"Pedro\"])\n",
        "print()\n",
        "print('Sentencia: df.Pedro')\n",
        "print(\"Accediendo a la columna Pedro como una propiedad: \\n\", df.Pedro)\n",
        "print()\n",
        "print('Sentencia: df[[\"Alegra\", \"Pedro\"]]')\n",
        "print(\"Accediendo a multiples columnas: \\n\", df[[\"Alegra\", \"Pedro\"]])"
      ],
      "metadata": {
        "colab": {
          "base_uri": "https://localhost:8080/"
        },
        "id": "dwujD2nRYlKP",
        "outputId": "93732e93-b657-4d7b-ffb7-9b456bbb2dad"
      },
      "execution_count": null,
      "outputs": [
        {
          "output_type": "stream",
          "name": "stdout",
          "text": [
            "DataFrame original (df):\n",
            "              Alegra  Juan  Pedro\n",
            "Inglés           8.0  10.0    7.0\n",
            "Matemáticas      9.0   9.0    7.0\n",
            "Geografía        6.0   8.0    8.0\n",
            "Lengua           8.5   7.5    9.5\n",
            "Historia         9.0   7.0    9.0\n",
            "Programación     9.0   3.0    7.0\n",
            "\n",
            "Sentencia: df[\"Pedro\"]\n",
            "Accediendo a la columna Pedro con una key del diccionario: \n",
            " Inglés          7.0\n",
            "Matemáticas     7.0\n",
            "Geografía       8.0\n",
            "Lengua          9.5\n",
            "Historia        9.0\n",
            "Programación    7.0\n",
            "Name: Pedro, dtype: float64\n",
            "\n",
            "Sentencia: df.Pedro\n",
            "Accediendo a la columna Pedro como una propiedad: \n",
            " Inglés          7.0\n",
            "Matemáticas     7.0\n",
            "Geografía       8.0\n",
            "Lengua          9.5\n",
            "Historia        9.0\n",
            "Programación    7.0\n",
            "Name: Pedro, dtype: float64\n",
            "\n",
            "Sentencia: df[[\"Alegra\", \"Pedro\"]]\n",
            "Accediendo a multiples columnas: \n",
            "               Alegra  Pedro\n",
            "Inglés           8.0    7.0\n",
            "Matemáticas      9.0    7.0\n",
            "Geografía        6.0    8.0\n",
            "Lengua           8.5    9.5\n",
            "Historia         9.0    9.0\n",
            "Programación     9.0    7.0\n"
          ]
        }
      ]
    },
    {
      "cell_type": "markdown",
      "source": [
        "#### Valor específico"
      ],
      "metadata": {
        "id": "OWpD2aAqZwy0"
      }
    },
    {
      "cell_type": "code",
      "source": [
        "print(\"DataFrame original (df):\", df, sep=\"\\n\")\n",
        "print()\n",
        "print('Sentencia: df[\"Pedro\"][\"Lengua\"]')\n",
        "print(\"Accediendo a la columna Pedro y a la fila Lengua: \\n\",\n",
        "      df[\"Pedro\"][\"Lengua\"])\n",
        "print()\n",
        "print('Sentencia: df.Pedro[\"Lengua\"]')\n",
        "print(\"Accediendo a la columna Pedro y a la fila Lengua: \\n\",\n",
        "      df.Pedro[\"Lengua\"])\n",
        "print()\n",
        "print('Sentencia: df.Pedro.Lengua')\n",
        "print(\"Accediendo a la columna Pedro y a la fila Lengua: \\n\",\n",
        "      df.Pedro.Lengua)\n",
        "print()\n",
        "print('Sentencia: df[\"Pedro\"].Lengua')\n",
        "print(\"Accediendo a la columna Pedro y a la fila Lengua: \\n\",\n",
        "      df[\"Pedro\"].Lengua)\n",
        "print()\n",
        "print('Sentencia: df.loc[\"Lengua\", \"Pedro\"]')\n",
        "print(\"Accediendo a la columna Pedro y a la fila Lengua con la función loc: \\n\",\n",
        "      df.loc[\"Lengua\", \"Pedro\"])"
      ],
      "metadata": {
        "colab": {
          "base_uri": "https://localhost:8080/"
        },
        "id": "HyGwmi92ZzGd",
        "outputId": "f0f459f2-b696-4b81-d4fc-feb539a6d7f0"
      },
      "execution_count": null,
      "outputs": [
        {
          "output_type": "stream",
          "name": "stdout",
          "text": [
            "DataFrame original (df):\n",
            "              Alegra  Juan  Pedro\n",
            "Inglés           8.0  10.0    7.0\n",
            "Matemáticas      9.0   9.0    7.0\n",
            "Geografía        6.0   8.0    8.0\n",
            "Lengua           8.5   7.5    9.5\n",
            "Historia         9.0   7.0    9.0\n",
            "Programación     9.0   3.0    7.0\n",
            "\n",
            "Sentencia: df[\"Pedro\"][\"Lengua\"]\n",
            "Accediendo a la columna Pedro y a la fila Lengua: \n",
            " 9.5\n",
            "\n",
            "Sentencia: df.Pedro[\"Lengua\"]\n",
            "Accediendo a la columna Pedro y a la fila Lengua: \n",
            " 9.5\n",
            "\n",
            "Sentencia: df.Pedro.Lengua\n",
            "Accediendo a la columna Pedro y a la fila Lengua: \n",
            " 9.5\n",
            "\n",
            "Sentencia: df[\"Pedro\"].Lengua\n",
            "Accediendo a la columna Pedro y a la fila Lengua: \n",
            " 9.5\n",
            "\n",
            "Sentencia: df.loc[\"Lengua\", \"Pedro\"]\n",
            "Accediendo a la columna Pedro y a la fila Lengua con la función loc: \n",
            " 9.5\n"
          ]
        }
      ]
    },
    {
      "cell_type": "markdown",
      "source": [
        "### Por posición de la fila"
      ],
      "metadata": {
        "id": "JH9MVLNgFyMC"
      }
    },
    {
      "cell_type": "code",
      "source": [
        "print(\"DataFrame original (df): \\n\", df )\n",
        "print()\n",
        "# El valor 1 hace referencia a la primer fila\n",
        "print('Sentencia: df.iloc[1]')\n",
        "print(\"Mostramos la fila número 1\\n\", df.iloc[1])"
      ],
      "metadata": {
        "colab": {
          "base_uri": "https://localhost:8080/"
        },
        "id": "XIrGfJkFF2gR",
        "outputId": "ffeadf6f-14ae-473f-8f73-a20795653257"
      },
      "execution_count": null,
      "outputs": [
        {
          "output_type": "stream",
          "name": "stdout",
          "text": [
            "DataFrame original (df): \n",
            "               Alegra  Juan  Pedro\n",
            "Inglés           8.0  10.0    7.0\n",
            "Matemáticas      9.0   9.0    7.0\n",
            "Geografía        6.0   8.0    8.0\n",
            "Lengua           8.5   7.5    9.5\n",
            "Historia         9.0   7.0    9.0\n",
            "Programación     9.0   3.0    7.0\n",
            "\n",
            "Sentencia: df.iloc[1]\n",
            "Mostramos la fila número 1\n",
            " Alegra    9.0\n",
            "Juan      9.0\n",
            "Pedro     7.0\n",
            "Name: Matemáticas, dtype: float64\n"
          ]
        }
      ]
    },
    {
      "cell_type": "markdown",
      "source": [
        "### Por posición de la columnas"
      ],
      "metadata": {
        "id": "4-pHX0MmHm1p"
      }
    },
    {
      "cell_type": "code",
      "source": [
        "print(\"DataFrame original (df): \\n\", df )\n",
        "print()\n",
        "# El valor 1 hace referencia al número de columnas\n",
        "print('Sentencia: df.iloc[:,1]')\n",
        "print(\"Mostramos todas las filas y la columna 1 \\n\", df.iloc[:,1])"
      ],
      "metadata": {
        "colab": {
          "base_uri": "https://localhost:8080/"
        },
        "id": "ZOSb3GmzHocv",
        "outputId": "b2968c72-e518-4733-cfc4-21545dfc463d"
      },
      "execution_count": null,
      "outputs": [
        {
          "output_type": "stream",
          "name": "stdout",
          "text": [
            "DataFrame original (df): \n",
            "               Alegra  Juan  Pedro\n",
            "Inglés           8.0  10.0    7.0\n",
            "Matemáticas      9.0   9.0    7.0\n",
            "Geografía        6.0   8.0    8.0\n",
            "Lengua           8.5   7.5    9.5\n",
            "Historia         9.0   7.0    9.0\n",
            "Programación     9.0   3.0    7.0\n",
            "\n",
            "Sentencia: df.iloc[:,1]\n",
            "Mostramos todas las filas y la columna 1 \n",
            " Inglés          10.0\n",
            "Matemáticas      9.0\n",
            "Geografía        8.0\n",
            "Lengua           7.5\n",
            "Historia         7.0\n",
            "Programación     3.0\n",
            "Name: Juan, dtype: float64\n"
          ]
        }
      ]
    },
    {
      "cell_type": "markdown",
      "source": [
        "### Por posición como si fuese una matriz"
      ],
      "metadata": {
        "id": "_OGrhxeFHE1q"
      }
    },
    {
      "cell_type": "code",
      "source": [
        "print(\"DataFrame original (df): \\n\", df )\n",
        "print()\n",
        "# accede al valor de la fila 1 y columna 2 sin importar los nombres de las\n",
        "# filas o columnas\n",
        "print('Sentencia: df.iat[3,2]')\n",
        "print(\"Mostramos el valor de la fila 3 y la columna 2 \\n\", df.iat[3,2])"
      ],
      "metadata": {
        "colab": {
          "base_uri": "https://localhost:8080/"
        },
        "id": "bN9r-zUXHIu5",
        "outputId": "6d94ff62-1d97-4156-ad4f-c483e8640a35"
      },
      "execution_count": null,
      "outputs": [
        {
          "output_type": "stream",
          "name": "stdout",
          "text": [
            "DataFrame original (df): \n",
            "               Alegra  Juan  Pedro\n",
            "Inglés           8.0  10.0    7.0\n",
            "Matemáticas      9.0   9.0    7.0\n",
            "Geografía        6.0   8.0    8.0\n",
            "Lengua           8.5   7.5    9.5\n",
            "Historia         9.0   7.0    9.0\n",
            "Programación     9.0   3.0    7.0\n",
            "\n",
            "Sentencia: df.iat[3,2]\n",
            "Mostramos el valor de la fila 3 y la columna 2 \n",
            " 9.5\n"
          ]
        }
      ]
    },
    {
      "cell_type": "markdown",
      "source": [
        "## Agregando valores\n",
        "\n",
        "Agregando nuevos valores al DataFrame"
      ],
      "metadata": {
        "id": "scamQB1oaM09"
      }
    },
    {
      "cell_type": "markdown",
      "source": [
        "### Por columnas"
      ],
      "metadata": {
        "id": "uPTjh_R0f-yK"
      }
    },
    {
      "cell_type": "code",
      "source": [
        "print(\"DataFrame original (df): \\n\", df )\n",
        "print()\n",
        "# creo una serie con las notas de Angela y le pongo los mismos\n",
        "# índices de las series anteriores\n",
        "df[\"Angela\"] = pd.Series([3,8,5.5,9,6,6], index=df.index)\n",
        "print('Sentencia: df[\"Angela\"] = pd.Series([3,8,5.5,9,6,6], index=df.index)')\n",
        "print(\"DataFrame con el agregado de la columna Angela: \\n\", df )"
      ],
      "metadata": {
        "colab": {
          "base_uri": "https://localhost:8080/"
        },
        "id": "KVM57IdaaPLM",
        "outputId": "d3156827-3642-4313-96f7-433e33ffff6b"
      },
      "execution_count": null,
      "outputs": [
        {
          "output_type": "stream",
          "name": "stdout",
          "text": [
            "DataFrame original (df): \n",
            "               Alegra  Juan  Pedro\n",
            "Inglés           8.0  10.0    7.0\n",
            "Matemáticas      9.0   9.0    7.0\n",
            "Geografía        6.0   8.0    8.0\n",
            "Lengua           8.5   7.5    9.5\n",
            "Historia         9.0   7.0    9.0\n",
            "Programación     9.0   3.0    7.0\n",
            "\n",
            "Sentencia: df[\"Angela\"] = pd.Series([3,8,5.5,9,6,6], index=df.index)\n",
            "DataFrame con el agregado de la columna Angela: \n",
            "               Alegra  Juan  Pedro  Angela\n",
            "Inglés           8.0  10.0    7.0     3.0\n",
            "Matemáticas      9.0   9.0    7.0     8.0\n",
            "Geografía        6.0   8.0    8.0     5.5\n",
            "Lengua           8.5   7.5    9.5     9.0\n",
            "Historia         9.0   7.0    9.0     6.0\n",
            "Programación     9.0   3.0    7.0     6.0\n"
          ]
        }
      ]
    },
    {
      "cell_type": "markdown",
      "source": [
        "### Por filas"
      ],
      "metadata": {
        "id": "hoK7ewkPf3o8"
      }
    },
    {
      "cell_type": "code",
      "source": [
        "# creo un diccionario con el nombre de las columnas y el valor 0 por defecto\n",
        "diccionario_por_columnas = {k:0 for k in df.columns}\n",
        "# concateno 2 DataFrame el primero es el DataFrame original y el segundo\n",
        "# es un DataFrame nuevo que solo se cargó con los valores del diccionario anterior\n",
        "# y la concatenación la hago por filas (axis=0)\n",
        "df = pd.concat([df, pd.DataFrame(diccionario_por_columnas, index=[\"Total\"])], axis=0)\n",
        "print(\"DataFrame original (df): \\n\", df )\n",
        "print(\"Diccionario de columnas (diccionario_por_columnas): \\n\", diccionario_por_columnas )\n",
        "print()\n",
        "print('Sentencia: df = pd.concat([df, pd.DataFrame(diccionario_por_columnas, index=[\"Total\"])], axis=0)')\n",
        "print(\"DataFrame con el agregado de la columna Angela: \\n\", df )"
      ],
      "metadata": {
        "colab": {
          "base_uri": "https://localhost:8080/"
        },
        "id": "oODuRUXWd0aX",
        "outputId": "fa32c821-b556-4db9-a7ee-b6f0301955d4"
      },
      "execution_count": null,
      "outputs": [
        {
          "output_type": "stream",
          "name": "stdout",
          "text": [
            "DataFrame original (df): \n",
            "               Alegra  Juan  Pedro  Angela\n",
            "Inglés           8.0  10.0    7.0     3.0\n",
            "Matemáticas      9.0   9.0    7.0     8.0\n",
            "Geografía        6.0   8.0    8.0     5.5\n",
            "Lengua           8.5   7.5    9.5     9.0\n",
            "Historia         9.0   7.0    9.0     6.0\n",
            "Programación     9.0   3.0    7.0     6.0\n",
            "Total            0.0   0.0    0.0     0.0\n",
            "Diccionario de columnas (diccionario_por_columnas): \n",
            " {'Alegra': 0, 'Juan': 0, 'Pedro': 0, 'Angela': 0}\n",
            "\n",
            "Sentencia: df = pd.concat([df, pd.DataFrame(diccionario_por_columnas, index=[\"Total\"])], axis=0)\n",
            "DataFrame con el agregado de la columna Angela: \n",
            "               Alegra  Juan  Pedro  Angela\n",
            "Inglés           8.0  10.0    7.0     3.0\n",
            "Matemáticas      9.0   9.0    7.0     8.0\n",
            "Geografía        6.0   8.0    8.0     5.5\n",
            "Lengua           8.5   7.5    9.5     9.0\n",
            "Historia         9.0   7.0    9.0     6.0\n",
            "Programación     9.0   3.0    7.0     6.0\n",
            "Total            0.0   0.0    0.0     0.0\n"
          ]
        }
      ]
    },
    {
      "cell_type": "markdown",
      "source": [
        "## Operando en pandas\n",
        "\n",
        "En pandas podemos trabajar con los valores `None` o `NaN`. Donde None es un valor vacio o nulo y NaN me indica que no es un número y es un valor de NumPy. Pandas sabe como trabajar con cada uno de estos valores y realiza conversiones de forma automática según la siguientes tabla\n",
        "\n",
        "| Tipo de dato | Conversión cuando se almacena | Valor |\n",
        "| --- | --- | --- |\n",
        "| floating | No change | np.nan |\n",
        "| integer | Cast to float64 | np.nan |\n",
        "| boolean | Cast to object | None or np.nan |\n",
        "| object | No change | None or np.nan |\n",
        "\n"
      ],
      "metadata": {
        "id": "ixhEnlombO3U"
      }
    },
    {
      "cell_type": "code",
      "source": [
        "# creamos 2 DataFrame para realizar operaciones\n",
        "df_1 = pd.DataFrame(np.random.randint(0, 10, (3, 3)), columns=[\"A\", \"B\", \"C\"])\n",
        "df_2 = pd.DataFrame(np.random.randint(0, 10, (4, 4)), columns=[\"B\", \"C\", \"D\", \"E\"])\n",
        "\n",
        "print(\"DataFrame de 3 filas y 3 columnas (df_1): \\n\", df_1)\n",
        "print()\n",
        "print(\"DataFrame de 4 filas y 4 columnas (df_2): \\n\", df_2)"
      ],
      "metadata": {
        "colab": {
          "base_uri": "https://localhost:8080/"
        },
        "id": "EYbsJmcSi7eP",
        "outputId": "086e1b68-c3e7-4d83-bd0d-1be96970c494"
      },
      "execution_count": null,
      "outputs": [
        {
          "output_type": "stream",
          "name": "stdout",
          "text": [
            "DataFrame de 3 filas y 3 columnas (df_1): \n",
            "    A  B  C\n",
            "0  4  2  3\n",
            "1  8  3  8\n",
            "2  4  5  0\n",
            "\n",
            "DataFrame de 4 filas y 4 columnas (df_2): \n",
            "    B  C  D  E\n",
            "0  7  5  5  1\n",
            "1  4  1  7  4\n",
            "2  9  8  2  2\n",
            "3  5  3  6  6\n"
          ]
        }
      ]
    },
    {
      "cell_type": "markdown",
      "source": [
        "### Operaciones de NumPy\n",
        "\n",
        "En pandas podemos utilizar la funciones definidas en NumPy para operar con las columnas.\n",
        "\n",
        "Las operaciones las podemos aplicar sobre todo el DataFrame, sobre una Serie o sobre una Columna."
      ],
      "metadata": {
        "id": "DWV4SJKikdF1"
      }
    },
    {
      "cell_type": "code",
      "source": [
        "print(\"DataFrame original (df_1): \\n\", df_1 )\n",
        "print()\n",
        "print('Sentencia: np.cos(df_1)')\n",
        "print(\"Aplicamos la función coseno sobre todo el DataFrame: \\n\", np.cos(df_1))\n",
        "print()\n",
        "print('Sentencia: np.cos(df_1.iloc[1])')\n",
        "print(\"Aplicamos la función coseno sobre la serie o fila 1: \\n\", np.cos(df_1.iloc[1]))\n",
        "print()\n",
        "print('Sentencia: np.cos(df_1[\"A\"])')\n",
        "print(\"Aplicamos la función coseno sobre la column Pedro: \\n\", np.cos(df_1[\"A\"]))\n"
      ],
      "metadata": {
        "colab": {
          "base_uri": "https://localhost:8080/"
        },
        "id": "jXNf2uykbt-d",
        "outputId": "d98ac680-cd5c-4beb-d443-eafe9d82d244"
      },
      "execution_count": null,
      "outputs": [
        {
          "output_type": "stream",
          "name": "stdout",
          "text": [
            "DataFrame original (df_1): \n",
            "    A  B  C\n",
            "0  4  2  3\n",
            "1  8  3  8\n",
            "2  4  5  0\n",
            "\n",
            "Sentencia: np.cos(df_1)\n",
            "Aplicamos la función coseno sobre todo el DataFrame: \n",
            "           A         B         C\n",
            "0 -0.653644 -0.416147 -0.989992\n",
            "1 -0.145500 -0.989992 -0.145500\n",
            "2 -0.653644  0.283662  1.000000\n",
            "\n",
            "Sentencia: np.cos(df_1.iloc[1])\n",
            "Aplicamos la función coseno sobre la serie o fila 1: \n",
            " A   -0.145500\n",
            "B   -0.989992\n",
            "C   -0.145500\n",
            "Name: 1, dtype: float64\n",
            "\n",
            "Sentencia: np.cos(df_1[\"A\"])\n",
            "Aplicamos la función coseno sobre la column Pedro: \n",
            " 0   -0.653644\n",
            "1   -0.145500\n",
            "2   -0.653644\n",
            "Name: A, dtype: float64\n"
          ]
        }
      ]
    },
    {
      "cell_type": "markdown",
      "source": [
        "### Operando con DataFrames\n",
        "\n",
        "Las operaciones más comunes son:\n",
        "\n",
        "| Operado de python | Función en Pandas |\n",
        "| --- | --- |\n",
        "| + | add() |\n",
        "| - | sub(), subtract() |\n",
        "| * | mul(), multiply() |\n",
        "| / | truediv(), div(), divide() |\n",
        "| // | floordiv() |\n",
        "| % | mod() |\n",
        "| ** | pow() |"
      ],
      "metadata": {
        "id": "BwVY-yO1ko91"
      }
    },
    {
      "cell_type": "code",
      "source": [
        "df_1_copy = df_1.copy()\n",
        "print(\"DataFrame original (df_1_copy): \\n\", df_1_copy)\n",
        "print(\"DataFrame original (df_2): \\n\", df_2)\n",
        "print()\n",
        "print(\"Sentencia: df_1_copy + df_2\")\n",
        "# en en este caso podemos que solo se suman las filas y columnas que posee\n",
        "# el mismo nombre y el resto se pone el valor NaN (not a number)\n",
        "print(\"Suma de DataFrame: \\n\", df_1_copy + df_2)\n",
        "print()\n",
        "print(\"Sentencia: df_1_copy.add(df_2, fill_value=0)\")\n",
        "# en en este caso utilizamos una función del DataFrame y nos permite completar\n",
        "# los valores faltantes con un valor por defecto, en nuestro caso 0, y solo nos\n",
        "# muestra un valor NaN que es la posición que no existe en ambas matrices\n",
        "print(\"Suma de DataFrame: \\n\", df_1_copy.add(df_2, fill_value=0))\n"
      ],
      "metadata": {
        "colab": {
          "base_uri": "https://localhost:8080/"
        },
        "id": "KrWIxmoqktG0",
        "outputId": "9f1ecb36-a0db-4cc4-937f-34b8e9fc1933"
      },
      "execution_count": null,
      "outputs": [
        {
          "output_type": "stream",
          "name": "stdout",
          "text": [
            "DataFrame original (df_1_copy): \n",
            "    A  B  C\n",
            "0  4  2  3\n",
            "1  8  3  8\n",
            "2  4  5  0\n",
            "DataFrame original (df_2): \n",
            "    B  C  D  E\n",
            "0  7  5  5  1\n",
            "1  4  1  7  4\n",
            "2  9  8  2  2\n",
            "3  5  3  6  6\n",
            "\n",
            "Sentencia: df_1_copy + df_2\n",
            "Suma de DataFrame: \n",
            "     A     B    C   D   E\n",
            "0 NaN   9.0  8.0 NaN NaN\n",
            "1 NaN   7.0  9.0 NaN NaN\n",
            "2 NaN  14.0  8.0 NaN NaN\n",
            "3 NaN   NaN  NaN NaN NaN\n",
            "\n",
            "Sentencia: df_1_copy.add(df_2, fill_value=0)\n",
            "Suma de DataFrame: \n",
            "      A     B    C    D    E\n",
            "0  4.0   9.0  8.0  5.0  1.0\n",
            "1  8.0   7.0  9.0  7.0  4.0\n",
            "2  4.0  14.0  8.0  2.0  2.0\n",
            "3  NaN   5.0  3.0  6.0  6.0\n"
          ]
        }
      ]
    },
    {
      "cell_type": "markdown",
      "source": [
        "### Operando con nulos\n",
        "\n",
        "Las funciones más utilizadas para los DataFrame o Series son"
      ],
      "metadata": {
        "id": "yMQ8rmXTp64c"
      }
    },
    {
      "cell_type": "code",
      "source": [
        "# creamos un DataFrame de ejemplo\n",
        "df_none = pd.DataFrame({\n",
        "    \"Entero\":   {\"Fila_1\": None,      \"Fila_2\": 1,       \"Fila_3\": np.nan,\n",
        "                 \"Fila_4\": 5,         \"Fila_5\":8},\n",
        "    \"Flotante\": {\"Fila_1\": 1.5,       \"Fila_2\": None,    \"Fila_3\": np.nan,\n",
        "                 \"Fila_4\": 6.5,       \"Fila_5\":8.5},\n",
        "    \"Booleano\": {\"Fila_1\": np.nan,    \"Fila_2\": None,    \"Fila_3\": True,\n",
        "                 \"Fila_4\": False,     \"Fila_5\":True},\n",
        "    \"String\":   {\"Fila_1\": \"Hola\",    \"Fila_2\": \"Mundo\", \"Fila_3\": None,\n",
        "                 \"Fila_4\": np.nan,    \"Fila_5\":\"!!!\"},\n",
        "    \"Object\":   {\"Fila_1\": \"Columna\", \"Fila_2\": \"sin\",   \"Fila_3\": \"valores\",\n",
        "                 \"Fila_4\": \"vacios\",  \"Fila_5\": \".\"}\n",
        "  })"
      ],
      "metadata": {
        "id": "tFbELtEOrge2"
      },
      "execution_count": null,
      "outputs": []
    },
    {
      "cell_type": "markdown",
      "source": [
        "#### isnull\n",
        "\n",
        "Retorna una martiz de booleanos indicando que posición son valores son None o NaN."
      ],
      "metadata": {
        "id": "-CKSpPApT3a0"
      }
    },
    {
      "cell_type": "code",
      "source": [
        "print(\"DataFrame (df_none)\\n\", df_none)\n",
        "print()\n",
        "print(\"Sentencia: df_none.isnull()\")\n",
        "print(\"DataFrame mostrando que valores son vacios: \\n\",df_none.isnull())"
      ],
      "metadata": {
        "colab": {
          "base_uri": "https://localhost:8080/"
        },
        "id": "8T56-JZfvUOp",
        "outputId": "b7d18bb4-ae63-4031-bf9e-b0e3cf6e6579"
      },
      "execution_count": null,
      "outputs": [
        {
          "output_type": "stream",
          "name": "stdout",
          "text": [
            "DataFrame (df_none)\n",
            "         Entero  Flotante Booleano String   Object\n",
            "Fila_1     NaN       1.5      NaN   Hola  Columna\n",
            "Fila_2     1.0       NaN     None  Mundo      sin\n",
            "Fila_3     NaN       NaN     True   None  valores\n",
            "Fila_4     5.0       6.5    False    NaN   vacios\n",
            "Fila_5     8.0       8.5     True    !!!        .\n",
            "\n",
            "Sentencia: df_none.isnull()\n",
            "DataFrame mostrando que valores son vacios: \n",
            "         Entero  Flotante  Booleano  String  Object\n",
            "Fila_1    True     False      True   False   False\n",
            "Fila_2   False      True      True   False   False\n",
            "Fila_3    True      True     False    True   False\n",
            "Fila_4   False     False     False    True   False\n",
            "Fila_5   False     False     False   False   False\n"
          ]
        }
      ]
    },
    {
      "cell_type": "markdown",
      "source": [
        "#### notnull\n",
        "\n",
        "Retorna una martiz de booleanos indicando que posición son valores NO son None o NaN."
      ],
      "metadata": {
        "id": "2cJjAQ4RT8Lw"
      }
    },
    {
      "cell_type": "code",
      "source": [
        "print(\"DataFrame (df_none)\\n\", df_none)\n",
        "print()\n",
        "print(\"Sentencia: df_none.notnull()\")\n",
        "print(\"DataFrame mostrando que valores NO son vacios: \\n\",df_none.notnull())"
      ],
      "metadata": {
        "colab": {
          "base_uri": "https://localhost:8080/"
        },
        "id": "ezZcehSivuBA",
        "outputId": "2810958e-d566-4bf6-819c-1d158cff05f0"
      },
      "execution_count": null,
      "outputs": [
        {
          "output_type": "stream",
          "name": "stdout",
          "text": [
            "DataFrame (df_none)\n",
            "         Entero  Flotante Booleano String   Object\n",
            "Fila_1     NaN       1.5      NaN   Hola  Columna\n",
            "Fila_2     1.0       NaN     None  Mundo      sin\n",
            "Fila_3     NaN       NaN     True   None  valores\n",
            "Fila_4     5.0       6.5    False    NaN   vacios\n",
            "Fila_5     8.0       8.5     True    !!!        .\n",
            "\n",
            "Sentencia: df_none.notnull()\n",
            "DataFrame mostrando que valores NO son vacios: \n",
            "         Entero  Flotante  Booleano  String  Object\n",
            "Fila_1   False      True     False    True    True\n",
            "Fila_2    True     False     False    True    True\n",
            "Fila_3   False     False      True   False    True\n",
            "Fila_4    True      True      True   False    True\n",
            "Fila_5    True      True      True    True    True\n"
          ]
        }
      ]
    },
    {
      "cell_type": "markdown",
      "source": [
        "#### dropna\n",
        "\n",
        "Retorna una nueva versión filtrada o sin los valores None o NaN.\n"
      ],
      "metadata": {
        "id": "Tj5XaLt2T_nT"
      }
    },
    {
      "cell_type": "code",
      "source": [
        "print(\"DataFrame (df_none)\\n\", df_none)\n",
        "print()\n",
        "# la última fila no tiene valores nulos\n",
        "print(\"Sentencia: df_none.dropna()\")\n",
        "print(\"DataFrame filtrando nulos: \\n\", df_none.dropna())\n",
        "print()\n",
        "# todas las columnas tienen al menos 1 valores nulo\n",
        "print(\"Sentencia: df_none.dropna(axis=1)\")\n",
        "print(\"DataFrame filtrando nulos por columnas: \\n\",\n",
        "      df_none.dropna(axis=1))\n",
        "print()\n",
        "# todas las columnas tienen al menos 1 valores nulo\n",
        "print(\"Sentencia: df_none.dropna(axis=1, thresh=3)\")\n",
        "print(\"DataFrame filtrando nulos por columnas y deja las columnas con al menos 3 valores NO nulos: \\n\",\n",
        "      df_none.dropna(axis=1, thresh=3))\n",
        "print()\n",
        "print(\"Sentencia: df_none.dropna(axis=0)\")\n",
        "print(\"DataFrame filtrando nulos por filas: \\n\",\n",
        "      df_none.dropna(axis=0))\n",
        "print()\n",
        "print(\"Sentencia: df_none.dropna(axis=0, thresh=4)\")\n",
        "print(\"DataFrame filtrando nulos por filas y deja las filas con al menos 4 valores NO nulos: \\n\",\n",
        "      df_none.dropna(axis=0, thresh=4))\n",
        "print()\n",
        "print('Sentencia: df_none.dropna(subset=[\"Entero\", \"Flotante\"])')\n",
        "print(\"DataFrame filtrando nulos pero solo tomando en cuenta las columnas del subset: \\n\",\n",
        "      df_none.dropna(subset=[\"Entero\", \"Flotante\"]))"
      ],
      "metadata": {
        "colab": {
          "base_uri": "https://localhost:8080/"
        },
        "id": "WCFEjgWbv0sD",
        "outputId": "54e9914b-6f5c-42f1-80d2-ccd714f4088b"
      },
      "execution_count": null,
      "outputs": [
        {
          "output_type": "stream",
          "name": "stdout",
          "text": [
            "DataFrame (df_none)\n",
            "         Entero  Flotante Booleano String   Object\n",
            "Fila_1     NaN       1.5      NaN   Hola  Columna\n",
            "Fila_2     1.0       NaN     None  Mundo      sin\n",
            "Fila_3     NaN       NaN     True   None  valores\n",
            "Fila_4     5.0       6.5    False    NaN   vacios\n",
            "Fila_5     8.0       8.5     True    !!!        .\n",
            "\n",
            "Sentencia: df_none.dropna()\n",
            "DataFrame filtrando nulos: \n",
            "         Entero  Flotante Booleano String Object\n",
            "Fila_5     8.0       8.5     True    !!!      .\n",
            "\n",
            "Sentencia: df_none.dropna(axis=1)\n",
            "DataFrame filtrando nulos por columnas: \n",
            "          Object\n",
            "Fila_1  Columna\n",
            "Fila_2      sin\n",
            "Fila_3  valores\n",
            "Fila_4   vacios\n",
            "Fila_5        .\n",
            "\n",
            "Sentencia: df_none.dropna(axis=1, thresh=3)\n",
            "DataFrame filtrando nulos por columnas y deja las columnas con al menos 3 valores NO nulos: \n",
            "         Entero  Flotante Booleano String   Object\n",
            "Fila_1     NaN       1.5      NaN   Hola  Columna\n",
            "Fila_2     1.0       NaN     None  Mundo      sin\n",
            "Fila_3     NaN       NaN     True   None  valores\n",
            "Fila_4     5.0       6.5    False    NaN   vacios\n",
            "Fila_5     8.0       8.5     True    !!!        .\n",
            "\n",
            "Sentencia: df_none.dropna(axis=0)\n",
            "DataFrame filtrando nulos por filas: \n",
            "         Entero  Flotante Booleano String Object\n",
            "Fila_5     8.0       8.5     True    !!!      .\n",
            "\n",
            "Sentencia: df_none.dropna(axis=0, thresh=4)\n",
            "DataFrame filtrando nulos por filas y deja las filas con al menos 4 valores NO nulos: \n",
            "         Entero  Flotante Booleano String  Object\n",
            "Fila_4     5.0       6.5    False    NaN  vacios\n",
            "Fila_5     8.0       8.5     True    !!!       .\n",
            "\n",
            "Sentencia: df_none.dropna(subset=[\"Entero\", \"Flotante\"])\n",
            "DataFrame filtrando nulos pero solo tomando en cuenta las columnas del subset: \n",
            "         Entero  Flotante Booleano String  Object\n",
            "Fila_4     5.0       6.5    False    NaN  vacios\n",
            "Fila_5     8.0       8.5     True    !!!       .\n"
          ]
        }
      ]
    },
    {
      "cell_type": "markdown",
      "source": [
        "#### fillna\n",
        "\n",
        "Retorna una nueva versión con valores de relleno."
      ],
      "metadata": {
        "id": "pKHimi04UDJJ"
      }
    },
    {
      "cell_type": "code",
      "source": [
        "print(\"DataFrame (df_none)\\n\", df_none)\n",
        "print()\n",
        "print(\"Sentencia: df_none.fillna('SUSTITUTO')\")\n",
        "print(\"Sustituye los valores nulos por el sting 'SUSTITUTO': \\n\",\n",
        "      df_none.fillna('SUSTITUTO'))\n",
        "print()\n",
        "print(\"Sentencia: df_none.fillna('SUSTITUTO', axis=0)\")\n",
        "print(\"Sustituye los valores nulos por el sting 'SUSTITUTO' y lo hace por columnas: \\n\",\n",
        "      df_none.fillna('SUSTITUTO', axis=0))\n",
        "print()\n",
        "print(\"Sentencia: df_none.fillna('SUSTITUTO', axis=1)\")\n",
        "print(\"Sustituye los valores nulos por el sting 'SUSTITUTO' y lo hace por filas: \\n\",\n",
        "      df_none.fillna('SUSTITUTO', axis=1))\n",
        "print()\n",
        "print(\"Sentencia: df_none.fillna('SUSTITUTO', limit=1)\")\n",
        "print(\"Sustituye los valores nulos por el sting 'SUSTITUTO' pero se limita a cambiar\\n\"\\\n",
        "      \" no más de x valores consecutivos, en este caso 1 valor: \\n\",\n",
        "      df_none.fillna('SUSTITUTO', limit=1))\n",
        "print()\n",
        "print(\"Sentencia: df_none.fillna('SUSTITUTO', limit=1, axis=0)\")\n",
        "print(\"Sustituye los valores nulos por el sting 'SUSTITUTO' pero se limita a cambiar\\n\"\\\n",
        "      \" no más de x valores consecutivos, en este caso 1 valor, lo hace por columnas: \\n\",\n",
        "      df_none.fillna('SUSTITUTO', limit=1, axis=0))\n",
        "print()\n",
        "print(\"Sentencia: df_none.fillna('SUSTITUTO', limit=1, axis=1)\")\n",
        "print(\"Sustituye los valores nulos por el sting 'SUSTITUTO' pero se limita a cambiar\\n\"\\\n",
        "      \" no más de x valores consecutivos, en este caso 1 valor, lo hace por filas: \\n\",\n",
        "      df_none.fillna('SUSTITUTO', limit=1, axis=1))\n",
        "print()\n",
        "print(\"Sentencia: df_none.fillna(value={\\n'Entero': 10, 'Flotante': 10.5, 'Booleano': True, 'String': '***'})\")\n",
        "print(\"Sustituye los valores nulos por el el valor correspondiente en cada columna: \\n\",\n",
        "      df_none.fillna(value={\n",
        "          'Entero': 10, 'Flotante': 10.5, 'Booleano': True, 'String': '***'}))\n"
      ],
      "metadata": {
        "colab": {
          "base_uri": "https://localhost:8080/"
        },
        "id": "FqIXt47DwkJi",
        "outputId": "96b84014-772a-4b71-d7fc-ec211a27fe87"
      },
      "execution_count": null,
      "outputs": [
        {
          "output_type": "stream",
          "name": "stdout",
          "text": [
            "DataFrame (df_none)\n",
            "         Entero  Flotante Booleano String   Object\n",
            "Fila_1     NaN       1.5      NaN   Hola  Columna\n",
            "Fila_2     1.0       NaN     None  Mundo      sin\n",
            "Fila_3     NaN       NaN     True   None  valores\n",
            "Fila_4     5.0       6.5    False    NaN   vacios\n",
            "Fila_5     8.0       8.5     True    !!!        .\n",
            "\n",
            "Sentencia: df_none.fillna('SUSTITUTO')\n",
            "Sustituye los valores nulos por el sting 'SUSTITUTO': \n",
            "            Entero   Flotante   Booleano     String   Object\n",
            "Fila_1  SUSTITUTO        1.5  SUSTITUTO       Hola  Columna\n",
            "Fila_2        1.0  SUSTITUTO  SUSTITUTO      Mundo      sin\n",
            "Fila_3  SUSTITUTO  SUSTITUTO       True  SUSTITUTO  valores\n",
            "Fila_4        5.0        6.5      False  SUSTITUTO   vacios\n",
            "Fila_5        8.0        8.5       True        !!!        .\n",
            "\n",
            "Sentencia: df_none.fillna('SUSTITUTO', axis=0)\n",
            "Sustituye los valores nulos por el sting 'SUSTITUTO' y lo hace por columnas: \n",
            "            Entero   Flotante   Booleano     String   Object\n",
            "Fila_1  SUSTITUTO        1.5  SUSTITUTO       Hola  Columna\n",
            "Fila_2        1.0  SUSTITUTO  SUSTITUTO      Mundo      sin\n",
            "Fila_3  SUSTITUTO  SUSTITUTO       True  SUSTITUTO  valores\n",
            "Fila_4        5.0        6.5      False  SUSTITUTO   vacios\n",
            "Fila_5        8.0        8.5       True        !!!        .\n",
            "\n",
            "Sentencia: df_none.fillna('SUSTITUTO', axis=1)\n",
            "Sustituye los valores nulos por el sting 'SUSTITUTO' y lo hace por filas: \n",
            "            Entero   Flotante   Booleano     String   Object\n",
            "Fila_1  SUSTITUTO        1.5  SUSTITUTO       Hola  Columna\n",
            "Fila_2        1.0  SUSTITUTO  SUSTITUTO      Mundo      sin\n",
            "Fila_3  SUSTITUTO  SUSTITUTO       True  SUSTITUTO  valores\n",
            "Fila_4        5.0        6.5      False  SUSTITUTO   vacios\n",
            "Fila_5        8.0        8.5       True        !!!        .\n",
            "\n",
            "Sentencia: df_none.fillna('SUSTITUTO', limit=1)\n",
            "Sustituye los valores nulos por el sting 'SUSTITUTO' pero se limita a cambiar\n",
            " no más de x valores consecutivos, en este caso 1 valor: \n",
            "            Entero   Flotante   Booleano     String   Object\n",
            "Fila_1  SUSTITUTO        1.5  SUSTITUTO       Hola  Columna\n",
            "Fila_2        1.0  SUSTITUTO       None      Mundo      sin\n",
            "Fila_3        NaN        NaN       True  SUSTITUTO  valores\n",
            "Fila_4        5.0        6.5      False        NaN   vacios\n",
            "Fila_5        8.0        8.5       True        !!!        .\n",
            "\n",
            "Sentencia: df_none.fillna('SUSTITUTO', limit=1, axis=0)\n",
            "Sustituye los valores nulos por el sting 'SUSTITUTO' pero se limita a cambiar\n",
            " no más de x valores consecutivos, en este caso 1 valor, lo hace por columnas: \n",
            "            Entero   Flotante   Booleano     String   Object\n",
            "Fila_1  SUSTITUTO        1.5  SUSTITUTO       Hola  Columna\n",
            "Fila_2        1.0  SUSTITUTO       None      Mundo      sin\n",
            "Fila_3        NaN        NaN       True  SUSTITUTO  valores\n",
            "Fila_4        5.0        6.5      False        NaN   vacios\n",
            "Fila_5        8.0        8.5       True        !!!        .\n",
            "\n",
            "Sentencia: df_none.fillna('SUSTITUTO', limit=1, axis=1)\n",
            "Sustituye los valores nulos por el sting 'SUSTITUTO' pero se limita a cambiar\n",
            " no más de x valores consecutivos, en este caso 1 valor, lo hace por filas: \n",
            "            Entero   Flotante Booleano     String   Object\n",
            "Fila_1  SUSTITUTO        1.5      NaN       Hola  Columna\n",
            "Fila_2        1.0  SUSTITUTO     None      Mundo      sin\n",
            "Fila_3  SUSTITUTO        NaN     True       None  valores\n",
            "Fila_4        5.0        6.5    False  SUSTITUTO   vacios\n",
            "Fila_5        8.0        8.5     True        !!!        .\n",
            "\n",
            "Sentencia: df_none.fillna(value={\n",
            "'Entero': 10, 'Flotante': 10.5, 'Booleano': True, 'String': '***'})\n",
            "Sustituye los valores nulos por el el valor correspondiente en cada columna: \n",
            "         Entero  Flotante  Booleano String   Object\n",
            "Fila_1    10.0       1.5      True   Hola  Columna\n",
            "Fila_2     1.0      10.5      True  Mundo      sin\n",
            "Fila_3    10.0      10.5      True    ***  valores\n",
            "Fila_4     5.0       6.5     False    ***   vacios\n",
            "Fila_5     8.0       8.5      True    !!!        .\n"
          ]
        }
      ]
    },
    {
      "cell_type": "markdown",
      "source": [
        "## Filtros y query\n",
        "\n",
        "Los filtros se aplican mediante matrices de booleanos.\n",
        "\n",
        "Los query se arman como si fuese una consulta sql para una base de datos.\n",
        "\n",
        "`No todos los filtros se pueden representar en query`"
      ],
      "metadata": {
        "id": "GuvBrYrDNnpR"
      }
    },
    {
      "cell_type": "markdown",
      "source": [
        "### Filtros"
      ],
      "metadata": {
        "id": "4AeEKVeXuRc0"
      }
    },
    {
      "cell_type": "code",
      "source": [
        "print(\"DataFrame (df)\\n\", df)\n",
        "\n",
        "print()\n",
        "print('Sentencia: np.greater(df[\"Angela\"], 6)')\n",
        "print(\"Valores donde Angela tiene más de un 6:\\n\",\n",
        "      np.greater(df[\"Angela\"], 6))\n",
        "print()\n",
        "print('Sentencia: df[np.greater(df[\"Angela\"], 6)]')\n",
        "print(\"Aplicamos un filtro aplicando numpy para saber cuales son las filas\\n\"\\\n",
        "      \" en las que Angela posee una nota mayor a 6: \\n\",\n",
        "      df[np.greater(df[\"Angela\"], 6)])\n",
        "\n",
        "print()\n",
        "print('Sentencia: np.greater(df, 6)')\n",
        "print(\"Valores donde cualquier estudiante posea una nota mayor a 6:\\n\",\n",
        "      np.greater(df, 6))\n",
        "print()\n",
        "print('Sentencia: df[np.greater(df, 6)]')\n",
        "print(\"Aplicamos un filtro aplicando numpy para saber cuales son las filas\\n\"\\\n",
        "      \" en las se posee una nota mayor a 6, si posee un valor que no cumple\\n\"\\\n",
        "      \" con la condición se pone un valor NaN o None: \\n\",\n",
        "      df[np.greater(df, 6)])\n",
        "\n",
        "print()\n",
        "print('Sentencia: np.greater(df[\"Alegra\"], 6)')\n",
        "print(\"Valores donde Angela tiene más de un 6:\\n\",\n",
        "      np.greater(df[\"Alegra\"], 6))\n",
        "print()\n",
        "print('Sentencia: np.greater(df[\"Angela\"], 6)')\n",
        "print(\"Valores donde Angela tiene más de un 6:\\n\",\n",
        "      np.greater(df[\"Angela\"], 6))\n",
        "print()\n",
        "print('Sentencia: np.greater(df[\"Alegra\"], 6) & np.greater(df[\"Angela\"], 6)')\n",
        "print(\"Valores donde Alegra y Angela tienen más de un 6:\\n\",\n",
        "      np.greater(df[\"Alegra\"], 6) & np.greater(df[\"Angela\"], 6))\n",
        "print()\n",
        "print('Sentencia: df[np.greater(df[\"Alegra\"], 6) & np.greater(df[\"Angela\"], 6)]')\n",
        "print(\"Aplicamos un filtro aplicando numpy para saber cuales son las filas\\n\"\\\n",
        "      \" en las que Alegra y Angela poseen una nota mayor a 6: \\n\",\n",
        "      df[np.greater(df[\"Alegra\"], 6) & np.greater(df[\"Angela\"], 6)])\n",
        "print()\n",
        "print('Sentencia: np.greater(df[\"Alegra\"], 6) | np.greater(df[\"Angela\"], 6)')\n",
        "print(\"Valores donde Alegra o Angela tienen más de un 6:\\n\",\n",
        "      np.greater(df[\"Alegra\"], 6) | np.greater(df[\"Angela\"], 6))\n",
        "print()\n",
        "print('Sentencia: df[np.greater(df[\"Alegra\"], 6) | np.greater(df[\"Angela\"], 6)]')\n",
        "print(\"Aplicamos un filtro aplicando numpy para saber cuales son las filas\\n\"\\\n",
        "      \" en las que Alegra o Angela poseen una nota mayor a 6: \\n\",\n",
        "      df[np.greater(df[\"Alegra\"], 6) | np.greater(df[\"Angela\"], 6)])\n",
        "print()\n",
        "print('Sentencia: df[np.greater(df[[\"Alegra\", \"Angela\"]], 6)]')\n",
        "print(\"Aplicamos un filtro aplicando numpy para saber cuales son las filas\\n\"\\\n",
        "      \" en las que Alegra o Angela poseen una nota mayor a 6.\\n\"\\\n",
        "      \" La diferencia con el anterior es que me devuelve el mismo DataFrame\\n\"\\\n",
        "      \" completando con valores NaN o None: \\n\",\n",
        "      df[np.greater(df[[\"Alegra\", \"Angela\"]], 6)])"
      ],
      "metadata": {
        "colab": {
          "base_uri": "https://localhost:8080/"
        },
        "id": "9ZQ16D_8Nq9O",
        "outputId": "960affc2-dce6-42b3-92b6-158baddaca5c"
      },
      "execution_count": null,
      "outputs": [
        {
          "output_type": "stream",
          "name": "stdout",
          "text": [
            "DataFrame (df)\n",
            "               Alegra  Juan  Pedro  Angela\n",
            "Inglés           8.0  10.0    7.0     3.0\n",
            "Matemáticas      9.0   9.0    7.0     8.0\n",
            "Geografía        6.0   8.0    8.0     5.5\n",
            "Lengua           8.5   7.5    9.5     9.0\n",
            "Historia         9.0   7.0    9.0     6.0\n",
            "Programación     9.0   3.0    7.0     6.0\n",
            "Total            0.0   0.0    0.0     0.0\n",
            "\n",
            "Sentencia: np.greater(df[\"Angela\"], 6)\n",
            "Valores donde Angela tiene más de un 6:\n",
            " Inglés          False\n",
            "Matemáticas      True\n",
            "Geografía       False\n",
            "Lengua           True\n",
            "Historia        False\n",
            "Programación    False\n",
            "Total           False\n",
            "Name: Angela, dtype: bool\n",
            "\n",
            "Sentencia: df[np.greater(df[\"Angela\"], 6)]\n",
            "Aplicamos un filtro aplicando numpy para saber cuales son las filas\n",
            " en las que Angela posee una nota mayor a 6: \n",
            "              Alegra  Juan  Pedro  Angela\n",
            "Matemáticas     9.0   9.0    7.0     8.0\n",
            "Lengua          8.5   7.5    9.5     9.0\n",
            "\n",
            "Sentencia: np.greater(df, 6)\n",
            "Valores donde cualquier estudiante posea una nota mayor a 6:\n",
            "               Alegra   Juan  Pedro  Angela\n",
            "Inglés          True   True   True   False\n",
            "Matemáticas     True   True   True    True\n",
            "Geografía      False   True   True   False\n",
            "Lengua          True   True   True    True\n",
            "Historia        True   True   True   False\n",
            "Programación    True  False   True   False\n",
            "Total          False  False  False   False\n",
            "\n",
            "Sentencia: df[np.greater(df, 6)]\n",
            "Aplicamos un filtro aplicando numpy para saber cuales son las filas\n",
            " en las se posee una nota mayor a 6, si posee un valor que no cumple\n",
            " con la condición se pone un valor NaN o None: \n",
            "               Alegra  Juan  Pedro  Angela\n",
            "Inglés           8.0  10.0    7.0     NaN\n",
            "Matemáticas      9.0   9.0    7.0     8.0\n",
            "Geografía        NaN   8.0    8.0     NaN\n",
            "Lengua           8.5   7.5    9.5     9.0\n",
            "Historia         9.0   7.0    9.0     NaN\n",
            "Programación     9.0   NaN    7.0     NaN\n",
            "Total            NaN   NaN    NaN     NaN\n",
            "\n",
            "Sentencia: np.greater(df[\"Alegra\"], 6)\n",
            "Valores donde Angela tiene más de un 6:\n",
            " Inglés           True\n",
            "Matemáticas      True\n",
            "Geografía       False\n",
            "Lengua           True\n",
            "Historia         True\n",
            "Programación     True\n",
            "Total           False\n",
            "Name: Alegra, dtype: bool\n",
            "\n",
            "Sentencia: np.greater(df[\"Angela\"], 6)\n",
            "Valores donde Angela tiene más de un 6:\n",
            " Inglés          False\n",
            "Matemáticas      True\n",
            "Geografía       False\n",
            "Lengua           True\n",
            "Historia        False\n",
            "Programación    False\n",
            "Total           False\n",
            "Name: Angela, dtype: bool\n",
            "\n",
            "Sentencia: np.greater(df[\"Alegra\"], 6) & np.greater(df[\"Angela\"], 6)\n",
            "Valores donde Alegra y Angela tienen más de un 6:\n",
            " Inglés          False\n",
            "Matemáticas      True\n",
            "Geografía       False\n",
            "Lengua           True\n",
            "Historia        False\n",
            "Programación    False\n",
            "Total           False\n",
            "dtype: bool\n",
            "\n",
            "Sentencia: df[np.greater(df[\"Alegra\"], 6) & np.greater(df[\"Angela\"], 6)]\n",
            "Aplicamos un filtro aplicando numpy para saber cuales son las filas\n",
            " en las que Alegra y Angela poseen una nota mayor a 6: \n",
            "              Alegra  Juan  Pedro  Angela\n",
            "Matemáticas     9.0   9.0    7.0     8.0\n",
            "Lengua          8.5   7.5    9.5     9.0\n",
            "\n",
            "Sentencia: np.greater(df[\"Alegra\"], 6) | np.greater(df[\"Angela\"], 6)\n",
            "Valores donde Alegra o Angela tienen más de un 6:\n",
            " Inglés           True\n",
            "Matemáticas      True\n",
            "Geografía       False\n",
            "Lengua           True\n",
            "Historia         True\n",
            "Programación     True\n",
            "Total           False\n",
            "dtype: bool\n",
            "\n",
            "Sentencia: df[np.greater(df[\"Alegra\"], 6) | np.greater(df[\"Angela\"], 6)]\n",
            "Aplicamos un filtro aplicando numpy para saber cuales son las filas\n",
            " en las que Alegra o Angela poseen una nota mayor a 6: \n",
            "               Alegra  Juan  Pedro  Angela\n",
            "Inglés           8.0  10.0    7.0     3.0\n",
            "Matemáticas      9.0   9.0    7.0     8.0\n",
            "Lengua           8.5   7.5    9.5     9.0\n",
            "Historia         9.0   7.0    9.0     6.0\n",
            "Programación     9.0   3.0    7.0     6.0\n",
            "\n",
            "Sentencia: df[np.greater(df[[\"Alegra\", \"Angela\"]], 6)]\n",
            "Aplicamos un filtro aplicando numpy para saber cuales son las filas\n",
            " en las que Alegra o Angela poseen una nota mayor a 6.\n",
            " La diferencia con el anterior es que me devuelve el mismo DataFrame\n",
            " completando con valores NaN o None: \n",
            "               Alegra  Juan  Pedro  Angela\n",
            "Inglés           8.0   NaN    NaN     NaN\n",
            "Matemáticas      9.0   NaN    NaN     8.0\n",
            "Geografía        NaN   NaN    NaN     NaN\n",
            "Lengua           8.5   NaN    NaN     9.0\n",
            "Historia         9.0   NaN    NaN     NaN\n",
            "Programación     9.0   NaN    NaN     NaN\n",
            "Total            NaN   NaN    NaN     NaN\n"
          ]
        }
      ]
    },
    {
      "cell_type": "markdown",
      "source": [
        "### Query\n",
        "\n",
        "Vamos a transcribir algunos filtros."
      ],
      "metadata": {
        "id": "O-LfhIrP12eg"
      }
    },
    {
      "cell_type": "code",
      "source": [
        "print(\"DataFrame (df)\\n\", df)\n",
        "\n",
        "print()\n",
        "print('Sentencia: df.query(\"Angela > 6\")')\n",
        "print(\"Aplicamos un filtro aplicando numpy para saber cuales son las filas\\n\"\\\n",
        "      \" en las que Angela posee una nota mayor a 6: \\n\",\n",
        "      df.query(\"Angela > 6\"))\n",
        "\n",
        "print()\n",
        "print('Sentencia: df.query(\"Angela > 6 and Alegra > 6\")')\n",
        "print(\"Aplicamos un filtro aplicando numpy para saber cuales son las filas\\n\"\\\n",
        "      \" en las que Alegra y Angela poseen una nota mayor a 6: \\n\",\n",
        "      df.query(\"Angela > 6 and Alegra > 6\"))\n",
        "\n",
        "print()\n",
        "print('Sentencia: df.query(\"Angela > 6 or Alegra > 6\")')\n",
        "print(\"Aplicamos un filtro aplicando numpy para saber cuales son las filas\\n\"\\\n",
        "      \" en las que Alegra o Angela poseen una nota mayor a 6: \\n\",\n",
        "      df.query(\"Angela > 6 or Alegra > 6\"))"
      ],
      "metadata": {
        "colab": {
          "base_uri": "https://localhost:8080/"
        },
        "id": "c5l_qw_j15S1",
        "outputId": "ac355025-d7bd-44b8-c5e3-a305962b329a"
      },
      "execution_count": null,
      "outputs": [
        {
          "output_type": "stream",
          "name": "stdout",
          "text": [
            "DataFrame (df)\n",
            "               Alegra  Juan  Pedro  Angela\n",
            "Inglés           8.0  10.0    7.0     3.0\n",
            "Matemáticas      9.0   9.0    7.0     8.0\n",
            "Geografía        6.0   8.0    8.0     5.5\n",
            "Lengua           8.5   7.5    9.5     9.0\n",
            "Historia         9.0   7.0    9.0     6.0\n",
            "Programación     9.0   3.0    7.0     6.0\n",
            "Total            0.0   0.0    0.0     0.0\n",
            "\n",
            "Sentencia: df.query(\"Angela > 6\")\n",
            "Aplicamos un filtro aplicando numpy para saber cuales son las filas\n",
            " en las que Angela posee una nota mayor a 6: \n",
            "              Alegra  Juan  Pedro  Angela\n",
            "Matemáticas     9.0   9.0    7.0     8.0\n",
            "Lengua          8.5   7.5    9.5     9.0\n",
            "\n",
            "Sentencia: df.query(\"Angela > 6 and Alegra > 6\")\n",
            "Aplicamos un filtro aplicando numpy para saber cuales son las filas\n",
            " en las que Alegra y Angela poseen una nota mayor a 6: \n",
            "              Alegra  Juan  Pedro  Angela\n",
            "Matemáticas     9.0   9.0    7.0     8.0\n",
            "Lengua          8.5   7.5    9.5     9.0\n",
            "\n",
            "Sentencia: df.query(\"Angela > 6 or Alegra > 6\")\n",
            "Aplicamos un filtro aplicando numpy para saber cuales son las filas\n",
            " en las que Alegra o Angela poseen una nota mayor a 6: \n",
            "               Alegra  Juan  Pedro  Angela\n",
            "Inglés           8.0  10.0    7.0     3.0\n",
            "Matemáticas      9.0   9.0    7.0     8.0\n",
            "Lengua           8.5   7.5    9.5     9.0\n",
            "Historia         9.0   7.0    9.0     6.0\n",
            "Programación     9.0   3.0    7.0     6.0\n"
          ]
        }
      ]
    },
    {
      "cell_type": "markdown",
      "source": [
        "## Agregaciones\n",
        "Podemos utilizar el argumento `axis` para operar por columnas o filas, por defecto opera por columnas (axis=0).\n",
        "\n",
        "Las funciones de agregaciones son:\n",
        "\n",
        "| Función | Descripción |\n",
        "| --- | --- |\n",
        "| count() | Cuenta la cantidad de valores |\n",
        "| first() | Obtiene el primer valor. Se utiliza con valores de tiempos |\n",
        "| last() | Obtiene el último valor. Se utiliza con valores de tiempos |\n",
        "| mean() | Calcula el promedio |\n",
        "| median() | Calcula la mediana |\n",
        "| min() | Obtiene el mínimo |\n",
        "| max() | Obtiene el máximo |\n",
        "| std() | Calcula la desviación estandar |\n",
        "| var() | Calcula la varianza |\n",
        "| mad() | Calcula el promedio absoluto de la desviación |\n",
        "| prod() | Calcula el producto de todos los valores |\n",
        "| sum() | Calcula la suma de todos los valores |"
      ],
      "metadata": {
        "id": "TPBItu589MX2"
      }
    },
    {
      "cell_type": "code",
      "source": [
        "print(\"DataFrame (df)\\n\", df)\n",
        "\n",
        "print()\n",
        "print('Sentencia: df.sum()')\n",
        "print(\"Sumamos todos los valores por columnas: \\n\", df.sum())\n",
        "print()\n",
        "print('Sentencia: df.sum(axis=1)')\n",
        "print(\"Sumamos todos los valores por filas: \\n\", df.sum(axis=1))\n",
        "print()\n",
        "print('Sentencia: df.mean()')\n",
        "print(\"Promediamos todos los valores por columnas: \\n\", df.mean())\n",
        "print()\n",
        "print('Sentencia: df.mean(axis=1)')\n",
        "print(\"Promediamos todos los valores por filas: \\n\", df.mean(axis=1))\n"
      ],
      "metadata": {
        "colab": {
          "base_uri": "https://localhost:8080/"
        },
        "id": "SyEAQESd50dq",
        "outputId": "119197d0-5863-4859-8aab-81bebb7a90b1"
      },
      "execution_count": null,
      "outputs": [
        {
          "output_type": "stream",
          "name": "stdout",
          "text": [
            "DataFrame (df)\n",
            "               Alegra  Juan  Pedro  Angela\n",
            "Inglés           8.0  10.0    7.0     3.0\n",
            "Matemáticas      9.0   9.0    7.0     8.0\n",
            "Geografía        6.0   8.0    8.0     5.5\n",
            "Lengua           8.5   7.5    9.5     9.0\n",
            "Historia         9.0   7.0    9.0     6.0\n",
            "Programación     9.0   3.0    7.0     6.0\n",
            "Total            0.0   0.0    0.0     0.0\n",
            "\n",
            "Sentencia: df.sum()\n",
            "Sumamos todos los valores por columnas: \n",
            " Alegra    49.5\n",
            "Juan      44.5\n",
            "Pedro     47.5\n",
            "Angela    37.5\n",
            "dtype: float64\n",
            "\n",
            "Sentencia: df.sum(axis=1)\n",
            "Sumamos todos los valores por filas: \n",
            " Inglés          28.0\n",
            "Matemáticas     33.0\n",
            "Geografía       27.5\n",
            "Lengua          34.5\n",
            "Historia        31.0\n",
            "Programación    25.0\n",
            "Total            0.0\n",
            "dtype: float64\n",
            "\n",
            "Sentencia: df.mean()\n",
            "Promediamos todos los valores por columnas: \n",
            " Alegra    7.071429\n",
            "Juan      6.357143\n",
            "Pedro     6.785714\n",
            "Angela    5.357143\n",
            "dtype: float64\n",
            "\n",
            "Sentencia: df.mean(axis=1)\n",
            "Promediamos todos los valores por filas: \n",
            " Inglés          7.000\n",
            "Matemáticas     8.250\n",
            "Geografía       6.875\n",
            "Lengua          8.625\n",
            "Historia        7.750\n",
            "Programación    6.250\n",
            "Total           0.000\n",
            "dtype: float64\n"
          ]
        }
      ]
    },
    {
      "cell_type": "markdown",
      "source": [
        "## Agrupaciones\n",
        "\n",
        "Las agrupaciones devuelven un iterador, para poder mostrar su valor debemos iterarlo o llamas a la propiedad `groups` que me devuele un diccionario donde la **clave** es el valor por el que se agrupo y el **valor** son las filas que poseen dicha clave.\n",
        "\n",
        "`Tener en cuenta que las agrupaciones tienen `"
      ],
      "metadata": {
        "id": "_roLBLz09GGF"
      }
    },
    {
      "cell_type": "code",
      "source": [
        "print(\"DataFrame (df)\\n\", df)\n",
        "\n",
        "print()\n",
        "print('Sentencia: df.groupby(\"Pedro\").groups')\n",
        "print(\"Agrupamos por la columna Pedro: \\n\", df.groupby(\"Pedro\").groups)\n",
        "print()\n",
        "print('Sentencia: df.groupby(\"Pedro\")[\"Pedro\"].sum()')\n",
        "print(\"Agrupamos por la columna Pedro y sumanos los valores correspondientes a cada key: \\n\",\n",
        "      df.groupby(\"Pedro\")[\"Pedro\"].sum())\n",
        "print()\n",
        "print('Sentencia: df.groupby(\"Pedro\").sum()')\n",
        "print(\"Agrupamos por la columna Pedro y sumanos los valores correspondientes a cada key según Pedro: \\n\",\n",
        "      df.groupby(\"Pedro\").sum())\n",
        "print(\"Los valores de entrada son las key's de Pedro por lo tanto la columna de Alegra es:\")\n",
        "print(\"         Alegra\")\n",
        "print(\"Pedro\")\n",
        "print(\"0.0       0.0 (indice o fila 'Total' que es igual a 0)\")\n",
        "print(\"7.0      26.0 (indices o filas 'Inglés+Matemáticas+Programación' que es igual a 8+9+9=26)\")\n",
        "print(\"8.0       6.0 (indice o fila 'Geografía' que es igual a 6)\")\n",
        "print(\"9.0       9.0 (indice o fila 'Historia' que es igual a 9)\")\n",
        "print(\"9.5       8.5 (indice o fila 'Lengua' que es igual a 8.5)\")\n",
        "\n",
        "print()\n",
        "print('Sentencia: df.groupby(\"Pedro\").aggregate([min,np.sum,max])')\n",
        "print(\"Agrupamos por la columna Pedro y obtenemos el mínimo, luego sumamos y por\\n\"\\\n",
        "      \" obtenemos el máximo. A la función 'aggregate' le pasamos una lista de funciones: \\n\",\n",
        "      df.groupby(\"Pedro\").aggregate([min,np.sum,max]))\n",
        "print(\"Los valores de entrada son las key's de Pedro por lo tanto la columna de Alegra es\\n\"\\\n",
        "      \" ya analizamos la suma, por lo tanto solo queda analizar el mínimo y máximo:\")\n",
        "print(\"         Alegra\")\n",
        "print(\"         min   sum  max \")\n",
        "print(\"Pedro\")\n",
        "print(\"0.0      0.0   0.0  0.0 (el valor involucrado es 0)\")\n",
        "print(\"7.0      8.0  26.0  9.0 (los valores involucrados son 8,9,9)\")\n",
        "print(\"8.0      6.0   6.0  6.0 (el valor involucrado es 6)\")\n",
        "print(\"9.0      9.0   9.0  9.0 (el valor involucrado es 9)\")\n",
        "print(\"9.5      8.5   8.5  8.5 (el valor involucrado es 8.5)\")"
      ],
      "metadata": {
        "colab": {
          "base_uri": "https://localhost:8080/"
        },
        "id": "GJg1uT3C9Xc9",
        "outputId": "c410481a-1bdf-4260-aef3-7dbd2c0d7a59"
      },
      "execution_count": null,
      "outputs": [
        {
          "output_type": "stream",
          "name": "stdout",
          "text": [
            "DataFrame (df)\n",
            "               Alegra  Juan  Pedro  Angela\n",
            "Inglés           8.0  10.0    7.0     3.0\n",
            "Matemáticas      9.0   9.0    7.0     8.0\n",
            "Geografía        6.0   8.0    8.0     5.5\n",
            "Lengua           8.5   7.5    9.5     9.0\n",
            "Historia         9.0   7.0    9.0     6.0\n",
            "Programación     9.0   3.0    7.0     6.0\n",
            "Total            0.0   0.0    0.0     0.0\n",
            "\n",
            "Sentencia: df.groupby(\"Pedro\").groups\n",
            "Agrupamos por la columna Pedro: \n",
            " {0.0: ['Total'], 7.0: ['Inglés', 'Matemáticas', 'Programación'], 8.0: ['Geografía'], 9.0: ['Historia'], 9.5: ['Lengua']}\n",
            "\n",
            "Sentencia: df.groupby(\"Pedro\")[\"Pedro\"].sum()\n",
            "Agrupamos por la columna Pedro y sumanos los valores correspondientes a cada key: \n",
            " Pedro\n",
            "0.0     0.0\n",
            "7.0    21.0\n",
            "8.0     8.0\n",
            "9.0     9.0\n",
            "9.5     9.5\n",
            "Name: Pedro, dtype: float64\n",
            "\n",
            "Sentencia: df.groupby(\"Pedro\").sum()\n",
            "Agrupamos por la columna Pedro y sumanos los valores correspondientes a cada key según Pedro: \n",
            "        Alegra  Juan  Angela\n",
            "Pedro                      \n",
            "0.0       0.0   0.0     0.0\n",
            "7.0      26.0  22.0    17.0\n",
            "8.0       6.0   8.0     5.5\n",
            "9.0       9.0   7.0     6.0\n",
            "9.5       8.5   7.5     9.0\n",
            "Los valores de entrada son las key's de Pedro por lo tanto la columna de Alegra es:\n",
            "         Alegra\n",
            "Pedro\n",
            "0.0       0.0 (indice o fila 'Total' que es igual a 0)\n",
            "7.0      26.0 (indices o filas 'Inglés+Matemáticas+Programación' que es igual a 8+9+9=26)\n",
            "8.0       6.0 (indice o fila 'Geografía' que es igual a 6)\n",
            "9.0       9.0 (indice o fila 'Historia' que es igual a 9)\n",
            "9.5       8.5 (indice o fila 'Lengua' que es igual a 8.5)\n",
            "\n",
            "Sentencia: df.groupby(\"Pedro\").aggregate([min,np.sum,max])\n",
            "Agrupamos por la columna Pedro y obtenemos el mínimo, luego sumamos y por\n",
            " obtenemos el máximo. A la función 'aggregate' le pasamos una lista de funciones: \n",
            "       Alegra            Juan             Angela           \n",
            "         min   sum  max  min   sum   max    min   sum  max\n",
            "Pedro                                                     \n",
            "0.0      0.0   0.0  0.0  0.0   0.0   0.0    0.0   0.0  0.0\n",
            "7.0      8.0  26.0  9.0  3.0  22.0  10.0    3.0  17.0  8.0\n",
            "8.0      6.0   6.0  6.0  8.0   8.0   8.0    5.5   5.5  5.5\n",
            "9.0      9.0   9.0  9.0  7.0   7.0   7.0    6.0   6.0  6.0\n",
            "9.5      8.5   8.5  8.5  7.5   7.5   7.5    9.0   9.0  9.0\n",
            "Los valores de entrada son las key's de Pedro por lo tanto la columna de Alegra es\n",
            " ya analizamos la suma, por lo tanto solo queda analizar el mínimo y máximo:\n",
            "         Alegra\n",
            "         min   sum  max \n",
            "Pedro\n",
            "0.0      0.0   0.0  0.0 (el valor involucrado es 0)\n",
            "7.0      8.0  26.0  9.0 (los valores involucrados son 8,9,9)\n",
            "8.0      6.0   6.0  6.0 (el valor involucrado es 6)\n",
            "9.0      9.0   9.0  9.0 (el valor involucrado es 9)\n",
            "9.5      8.5   8.5  8.5 (el valor involucrado es 8.5)\n"
          ]
        }
      ]
    },
    {
      "cell_type": "code",
      "source": [
        "print(df)\n",
        "print()\n",
        "print(df.groupby(\"Pedro\").sum())\n",
        "l = [[\"a\", 12, 12], [None, 12.3, 33.], [\"b\", 12.3, 123], [\"a\", 1, 1]]\n",
        "df_tuto = pd.DataFrame(l, columns=[\"a\", \"b\", \"c\"])\n",
        "print(df_tuto)\n",
        "print()\n",
        "print(df_tuto.groupby(by=\"a\"))\n",
        "print()\n",
        "print(df_tuto.groupby(by=\"a\").sum())\n",
        "print()\n",
        "print(df_tuto.groupby(by=\"a\", dropna=False).sum())"
      ],
      "metadata": {
        "colab": {
          "base_uri": "https://localhost:8080/"
        },
        "id": "KOt_kNuwBc_H",
        "outputId": "15e97950-ab6a-4aba-bbe9-9956662f8b3d"
      },
      "execution_count": null,
      "outputs": [
        {
          "output_type": "stream",
          "name": "stdout",
          "text": [
            "              Alegra  Juan  Pedro  Angela\n",
            "Inglés           8.0  10.0    7.0     3.0\n",
            "Matemáticas      9.0   9.0    7.0     8.0\n",
            "Geografía        6.0   8.0    8.0     5.5\n",
            "Lengua           8.5   7.5    9.5     9.0\n",
            "Historia         9.0   7.0    9.0     6.0\n",
            "Programación     9.0   3.0    7.0     6.0\n",
            "Total            0.0   0.0    0.0     0.0\n",
            "\n",
            "       Alegra  Juan  Angela\n",
            "Pedro                      \n",
            "0.0       0.0   0.0     0.0\n",
            "7.0      26.0  22.0    17.0\n",
            "8.0       6.0   8.0     5.5\n",
            "9.0       9.0   7.0     6.0\n",
            "9.5       8.5   7.5     9.0\n",
            "      a     b      c\n",
            "0     a  12.0   12.0\n",
            "1  None  12.3   33.0\n",
            "2     b  12.3  123.0\n",
            "3     a   1.0    1.0\n",
            "\n",
            "<pandas.core.groupby.generic.DataFrameGroupBy object at 0x7fdbfb0978b0>\n",
            "\n",
            "      b      c\n",
            "a             \n",
            "a  13.0   13.0\n",
            "b  12.3  123.0\n",
            "\n",
            "        b      c\n",
            "a               \n",
            "a    13.0   13.0\n",
            "b    12.3  123.0\n",
            "NaN  12.3   33.0\n"
          ]
        }
      ]
    },
    {
      "cell_type": "markdown",
      "source": [
        "## Levantar un dataset\n",
        "\n",
        "Las funciones más importantes para levantar un dataset son:\n",
        "- read_csv\n",
        "- read_json\n",
        "- read_excel\n",
        "- read_xml\n"
      ],
      "metadata": {
        "id": "Rhg3RLcPxztv"
      }
    },
    {
      "cell_type": "code",
      "source": [
        "# levantamos el dataset de test para las casas de california\n",
        "# mas información del dataset en  https://developers.google.com/machine-learning/crash-course/california-housing-data-description\n",
        "df_load = pd.read_csv(\"/content/sample_data/california_housing_test.csv\")"
      ],
      "metadata": {
        "id": "U_S7Xozex4W2"
      },
      "execution_count": null,
      "outputs": []
    },
    {
      "cell_type": "code",
      "source": [
        "# Mostramos los primeros 10 valores\n",
        "print('Sentencia: df_load.head(10)')\n",
        "print(\"Primeros 10 valores del DataFrame (df_load):\\n\", df_load.head(10))"
      ],
      "metadata": {
        "colab": {
          "base_uri": "https://localhost:8080/"
        },
        "id": "6tr3tUZB0ngr",
        "outputId": "2eb17503-01c8-4a6d-ae1d-ae60b8c9af57"
      },
      "execution_count": null,
      "outputs": [
        {
          "output_type": "stream",
          "name": "stdout",
          "text": [
            "Sentencia: df.head(10)\n",
            "Primeros 10 valores del DataFrame (df):\n",
            "    longitude  latitude  housing_median_age  total_rooms  total_bedrooms  \\\n",
            "0    -122.05     37.37                27.0       3885.0           661.0   \n",
            "1    -118.30     34.26                43.0       1510.0           310.0   \n",
            "2    -117.81     33.78                27.0       3589.0           507.0   \n",
            "3    -118.36     33.82                28.0         67.0            15.0   \n",
            "4    -119.67     36.33                19.0       1241.0           244.0   \n",
            "5    -119.56     36.51                37.0       1018.0           213.0   \n",
            "6    -121.43     38.63                43.0       1009.0           225.0   \n",
            "7    -120.65     35.48                19.0       2310.0           471.0   \n",
            "8    -122.84     38.40                15.0       3080.0           617.0   \n",
            "9    -118.02     34.08                31.0       2402.0           632.0   \n",
            "\n",
            "   population  households  median_income  median_house_value  \n",
            "0      1537.0       606.0         6.6085            344700.0  \n",
            "1       809.0       277.0         3.5990            176500.0  \n",
            "2      1484.0       495.0         5.7934            270500.0  \n",
            "3        49.0        11.0         6.1359            330000.0  \n",
            "4       850.0       237.0         2.9375             81700.0  \n",
            "5       663.0       204.0         1.6635             67000.0  \n",
            "6       604.0       218.0         1.6641             67000.0  \n",
            "7      1341.0       441.0         3.2250            166900.0  \n",
            "8      1446.0       599.0         3.6696            194400.0  \n",
            "9      2830.0       603.0         2.3333            164200.0  \n"
          ]
        }
      ]
    },
    {
      "cell_type": "code",
      "source": [
        "# Mostramos los últimos 10 valores\n",
        "print('Sentencia: df_load.tail(10)')\n",
        "print(\"Últimos 10 valores del DataFrame (df_load):\\n\", df_load.tail(10))\n"
      ],
      "metadata": {
        "colab": {
          "base_uri": "https://localhost:8080/"
        },
        "id": "qMLVethx0yax",
        "outputId": "ea00cd2c-6884-44c6-8873-4ebad763e279"
      },
      "execution_count": null,
      "outputs": [
        {
          "output_type": "stream",
          "name": "stdout",
          "text": [
            "Sentencia: df.tail(10)\n",
            "Últimos 10 valores del DataFrame (df):\n",
            "       longitude  latitude  housing_median_age  total_rooms  total_bedrooms  \\\n",
            "2990    -118.23     34.09                49.0       1638.0           456.0   \n",
            "2991    -117.17     34.28                13.0       4867.0           718.0   \n",
            "2992    -122.33     37.39                52.0        573.0           102.0   \n",
            "2993    -117.91     33.60                37.0       2088.0           510.0   \n",
            "2994    -117.93     33.86                35.0        931.0           181.0   \n",
            "2995    -119.86     34.42                23.0       1450.0           642.0   \n",
            "2996    -118.14     34.06                27.0       5257.0          1082.0   \n",
            "2997    -119.70     36.30                10.0        956.0           201.0   \n",
            "2998    -117.12     34.10                40.0         96.0            14.0   \n",
            "2999    -119.63     34.42                42.0       1765.0           263.0   \n",
            "\n",
            "      population  households  median_income  median_house_value  \n",
            "2990      1500.0       430.0         2.6923            150000.0  \n",
            "2991       780.0       250.0         7.1997            253800.0  \n",
            "2992       232.0        92.0         6.2263            500001.0  \n",
            "2993       673.0       390.0         5.1048            500001.0  \n",
            "2994       516.0       174.0         5.5867            182500.0  \n",
            "2995      1258.0       607.0         1.1790            225000.0  \n",
            "2996      3496.0      1036.0         3.3906            237200.0  \n",
            "2997       693.0       220.0         2.2895             62000.0  \n",
            "2998        46.0        14.0         3.2708            162500.0  \n",
            "2999       753.0       260.0         8.5608            500001.0  \n"
          ]
        }
      ]
    },
    {
      "cell_type": "code",
      "source": [
        "# Generamos una estadística (para este caso algunos de los valores no tienen sentido)\n",
        "# count = la cantidad\n",
        "# mean = promedio\n",
        "# std = desviación estandar\n",
        "# min = valor mínimo\n",
        "# max = valor máximo\n",
        "# 25% = el percentil 25 es el valor bajo el cual se encuentran el 25% de los valores, y el 75% restante son mayores.\n",
        "# 50% = mediana\n",
        "# 75% = el percentil 75 es el valor bajo el cual se encuentran el 75% de los valores, y el 25% restante son mayores.\n",
        "\n",
        "print('Sentencia: df_load.describe()')\n",
        "print(\"Estadísticas (df_load):\\n\", df_load.describe())\n"
      ],
      "metadata": {
        "colab": {
          "base_uri": "https://localhost:8080/"
        },
        "id": "25WoH6oR06G4",
        "outputId": "61f4b4d3-5a1c-4f3b-c503-f99dc5fd64df"
      },
      "execution_count": null,
      "outputs": [
        {
          "output_type": "stream",
          "name": "stdout",
          "text": [
            "Sentencia: df.describe()\n",
            "Estadísticas (df):\n",
            "          longitude    latitude  housing_median_age   total_rooms  \\\n",
            "count  3000.000000  3000.00000         3000.000000   3000.000000   \n",
            "mean   -119.589200    35.63539           28.845333   2599.578667   \n",
            "std       1.994936     2.12967           12.555396   2155.593332   \n",
            "min    -124.180000    32.56000            1.000000      6.000000   \n",
            "25%    -121.810000    33.93000           18.000000   1401.000000   \n",
            "50%    -118.485000    34.27000           29.000000   2106.000000   \n",
            "75%    -118.020000    37.69000           37.000000   3129.000000   \n",
            "max    -114.490000    41.92000           52.000000  30450.000000   \n",
            "\n",
            "       total_bedrooms    population  households  median_income  \\\n",
            "count     3000.000000   3000.000000  3000.00000    3000.000000   \n",
            "mean       529.950667   1402.798667   489.91200       3.807272   \n",
            "std        415.654368   1030.543012   365.42271       1.854512   \n",
            "min          2.000000      5.000000     2.00000       0.499900   \n",
            "25%        291.000000    780.000000   273.00000       2.544000   \n",
            "50%        437.000000   1155.000000   409.50000       3.487150   \n",
            "75%        636.000000   1742.750000   597.25000       4.656475   \n",
            "max       5419.000000  11935.000000  4930.00000      15.000100   \n",
            "\n",
            "       median_house_value  \n",
            "count          3000.00000  \n",
            "mean         205846.27500  \n",
            "std          113119.68747  \n",
            "min           22500.00000  \n",
            "25%          121200.00000  \n",
            "50%          177650.00000  \n",
            "75%          263975.00000  \n",
            "max          500001.00000  \n"
          ]
        }
      ]
    },
    {
      "cell_type": "code",
      "source": [
        "# Mostramos los últimos 5 del índice y la columna \"longitude\"\n",
        "print('Sentencia: df_load[\"longitude\"].tail()')\n",
        "print(\"Mostramos las últimas 5 filas de la columna longitude \\n\",\n",
        "      df_load[\"longitude\"].tail())"
      ],
      "metadata": {
        "colab": {
          "base_uri": "https://localhost:8080/"
        },
        "id": "EPkoTQNl3tu8",
        "outputId": "7a21a200-f6c0-4664-a5e5-27443ac99774"
      },
      "execution_count": null,
      "outputs": [
        {
          "output_type": "stream",
          "name": "stdout",
          "text": [
            "Sentencia: df[\"longitude\"].tail()\n",
            "Mostramos las últimas 5 filas de la columna longitude \n",
            " 2995   -119.86\n",
            "2996   -118.14\n",
            "2997   -119.70\n",
            "2998   -117.12\n",
            "2999   -119.63\n",
            "Name: longitude, dtype: float64\n"
          ]
        }
      ]
    },
    {
      "cell_type": "markdown",
      "source": [
        "## [Plot](https://pandas.pydata.org/pandas-docs/stable/user_guide/visualization.html)\n",
        "\n",
        "En pandas tenemos acceso a una función para realizar gráficos. Vamos ver como utilizarla.\n",
        "\n",
        "Por defecto utiliza `matplotlib`.\n",
        "\n",
        "Las gráficas son:\n",
        "\n",
        "| Funciones o valores que puede tomar el argumento kind de plot|\n",
        "| --- |\n",
        "| area |\n",
        "| bar |\n",
        "| barh |\n",
        "| box |\n",
        "| density |\n",
        "| hexbin |\n",
        "| hist |\n",
        "| kde |\n",
        "| line |\n",
        "| pie |\n",
        "| scatter |\n"
      ],
      "metadata": {
        "id": "uuOt6LfpKx_7"
      }
    },
    {
      "cell_type": "code",
      "source": [
        "# mostramos la columna \"total_rooms\" contra el índice del DataFrame y agregamos\n",
        "# el título, y los labels\n",
        "df_load[\"total_rooms\"].plot(kind=\"line\", title=\"Gráfica de línea\", xlabel=\"Número de fila\", ylabel=\"Valor de columna (total_rooms)\")"
      ],
      "metadata": {
        "colab": {
          "base_uri": "https://localhost:8080/",
          "height": 490
        },
        "id": "COlj2ITqK8Sn",
        "outputId": "e254f733-ec40-4a83-bce4-5e68728f22a4"
      },
      "execution_count": null,
      "outputs": [
        {
          "output_type": "execute_result",
          "data": {
            "text/plain": [
              "<Axes: title={'center': 'Gráfica de línea'}, xlabel='Número de fila', ylabel='Valor de columna (total_rooms)'>"
            ]
          },
          "metadata": {},
          "execution_count": 246
        },
        {
          "output_type": "display_data",
          "data": {
            "text/plain": [
              "<Figure size 640x480 with 1 Axes>"
            ],
            "image/png": "[encoded data removed]"
          },
          "metadata": {}
        }
      ]
    },
    {
      "cell_type": "code",
      "source": [
        "# mostramos la columna \"total_rooms\" contra el índice del DataFrame\n",
        "df_load[\"total_rooms\"].plot.line(title=\"Gráfica de línea\", xlabel=\"Número de fila\", ylabel=\"Valor de columna (total_rooms)\")"
      ],
      "metadata": {
        "colab": {
          "base_uri": "https://localhost:8080/",
          "height": 490
        },
        "id": "vQZKsH9pddnq",
        "outputId": "1b2a10f5-6d9d-44ec-c2ee-101fb39aa593"
      },
      "execution_count": null,
      "outputs": [
        {
          "output_type": "execute_result",
          "data": {
            "text/plain": [
              "<Axes: title={'center': 'Gráfica de línea'}, xlabel='Número de fila', ylabel='Valor de columna (total_rooms)'>"
            ]
          },
          "metadata": {},
          "execution_count": 247
        },
        {
          "output_type": "display_data",
          "data": {
            "text/plain": [
              "<Figure size 640x480 with 1 Axes>"
            ],
            "image/png": "[encoded data removed]"
          },
          "metadata": {}
        }
      ]
    },
    {
      "cell_type": "code",
      "source": [
        "# mostramos las columnas \"total_rooms\",\"median_house_value\" en un mismo plot\n",
        "df_load[[\"total_rooms\",\"median_house_value\"]].plot\\\n",
        "  .line(title=\"Gráfica de línea\", xlabel=\"Número de fila\", ylabel=\"Valor de columna (total_rooms and median_house_value)\")"
      ],
      "metadata": {
        "colab": {
          "base_uri": "https://localhost:8080/",
          "height": 490
        },
        "id": "plwkW46udrfw",
        "outputId": "c5a50f3e-49ec-446a-9067-3028dfd2270b"
      },
      "execution_count": null,
      "outputs": [
        {
          "output_type": "execute_result",
          "data": {
            "text/plain": [
              "<Axes: title={'center': 'Gráfica de línea'}, xlabel='Número de fila', ylabel='Valor de columna (total_rooms and median_house_value)'>"
            ]
          },
          "metadata": {},
          "execution_count": 283
        },
        {
          "output_type": "display_data",
          "data": {
            "text/plain": [
              "<Figure size 640x480 with 1 Axes>"
            ],
            "image/png": "[encoded data removed]"
          },
          "metadata": {}
        }
      ]
    },
    {
      "cell_type": "code",
      "source": [
        "# mostramos las columnas \"total_rooms\",\"median_house_value\" en plots separados\n",
        "df_load[[\"total_rooms\",\"median_house_value\"]].plot.line(subplots=True, layout=(2,1), title=\"Gráfica de línea\", xlabel=\"Número de fila\")"
      ],
      "metadata": {
        "colab": {
          "base_uri": "https://localhost:8080/",
          "height": 533
        },
        "id": "4raGIXNFfu3k",
        "outputId": "e7581fea-1e61-4d68-81e8-6bb1a46786d6"
      },
      "execution_count": null,
      "outputs": [
        {
          "output_type": "execute_result",
          "data": {
            "text/plain": [
              "array([[<Axes: xlabel='Número de fila'>],\n",
              "       [<Axes: xlabel='Número de fila'>]], dtype=object)"
            ]
          },
          "metadata": {},
          "execution_count": 260
        },
        {
          "output_type": "display_data",
          "data": {
            "text/plain": [
              "<Figure size 640x480 with 2 Axes>"
            ],
            "image/png": "[encoded data removed]"
          },
          "metadata": {}
        }
      ]
    },
    {
      "cell_type": "code",
      "source": [
        "# el DataFrame tiene 9 columnas, por lo tanto hacemos una matriz de 3 x 3\n",
        "# para mostrar todas las columnas\n",
        "total_filas = 3\n",
        "total_columnas = 3\n",
        "# creamos el subplot\n",
        "fig, axes = plt.subplots(nrows=total_filas, ncols=total_columnas)\n",
        "plt.subplots_adjust(wspace=1, hspace=1)\n",
        "# recorremos las filas/columnas\n",
        "for fila in range(0, total_filas):\n",
        "  columna_plot = 0\n",
        "  for columna in range(fila*total_columnas-fila,fila*total_columnas+total_columnas-fila):\n",
        "    # creamos el plot desde el DataFrame\n",
        "    df[df.columns[fila+columna]].plot(ax=axes[fila, columna_plot])\n",
        "    # Agregamos un títulos al plot\n",
        "    axes[fila, columna_plot].set_title(f\"{fila}-{columna_plot}-{df.columns[fila+columna]}\")\n",
        "    columna_plot += 1\n"
      ],
      "metadata": {
        "colab": {
          "base_uri": "https://localhost:8080/",
          "height": 525
        },
        "id": "X077rS1OhyOf",
        "outputId": "fbba26d8-3bb3-48ce-c589-692fca537eea"
      },
      "execution_count": null,
      "outputs": [
        {
          "output_type": "stream",
          "name": "stdout",
          "text": [
            "Index(['longitude', 'latitude', 'housing_median_age', 'total_rooms',\n",
            "       'total_bedrooms', 'population', 'households', 'median_income',\n",
            "       'median_house_value'],\n",
            "      dtype='object')\n"
          ]
        },
        {
          "output_type": "display_data",
          "data": {
            "text/plain": [
              "<Figure size 640x480 with 9 Axes>"
            ],
            "image/png": "[encoded data removed]"
          },
          "metadata": {}
        }
      ]
    }
  ]
}