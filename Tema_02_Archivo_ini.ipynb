{
  "nbformat": 4,
  "nbformat_minor": 0,
  "metadata": {
    "colab": {
      "provenance": [],
      "include_colab_link": true
    },
    "kernelspec": {
      "name": "python3",
      "display_name": "Python 3"
    },
    "language_info": {
      "name": "python"
    }
  },
  "cells": [
    {
      "cell_type": "markdown",
      "metadata": {
        "id": "view-in-github",
        "colab_type": "text"
      },
      "source": [
        "<a href=\"https://colab.research.google.com/github/Danangellotti/Ciencia_de_Datos_UGR_24/blob/main/Tema_02_Archivo_ini.ipynb\" target=\"_parent\"><img src=\"https://colab.research.google.com/assets/colab-badge.svg\" alt=\"Open In Colab\"/></a>"
      ]
    },
    {
      "cell_type": "markdown",
      "source": [
        "# Archivo ini\n",
        "\n",
        "Un archivo INI es un archivo de configuración utilizado por los programas de Windows para inicializar la configuración del programa. Contiene secciones para la configuración y las preferencias (delimitadas por una cadena entre corchetes) con cada sección que contiene uno o más parámetros de nombre y valor.\n",
        "\n",
        "\n"
      ],
      "metadata": {
        "id": "gvE1m6x1bPI7"
      }
    },
    {
      "cell_type": "markdown",
      "source": [
        "\n",
        "## Estructura esperada\n",
        "\n",
        "```\n",
        "[pais_1]\n",
        "nombre = Uruguay\n",
        "anio = 2008\n",
        "vecinos = [{'nombre': 'Argentina', 'direccion': 'Oeste'}, {'nombre': 'Brazil', 'direccion': 'Norte'}]\n",
        "\n",
        "[pais_2]\n",
        "nombre = Honduras\n",
        "anio = 2011\n",
        "vecinos = [{'nombre': 'Guatemala', 'direccion': 'Norte'}, {'nombre': 'Nicaragua', 'direccion': 'Sur'}]\n",
        "\n",
        "```\n"
      ],
      "metadata": {
        "id": "2IExMzxgzT0M"
      }
    },
    {
      "cell_type": "markdown",
      "source": [
        "# Importaciones"
      ],
      "metadata": {
        "id": "w85-p4xwdeN9"
      }
    },
    {
      "cell_type": "code",
      "source": [
        "from configparser import ConfigParser"
      ],
      "metadata": {
        "id": "d78ElDlYdUKT"
      },
      "execution_count": 5,
      "outputs": []
    },
    {
      "cell_type": "code",
      "source": [
        "#@title Definición de variables\n",
        "\n",
        "archivo = \"./27_archivo.ini\" #@param {type:\"string\"}"
      ],
      "metadata": {
        "cellView": "form",
        "id": "UkHYBsFvgslI"
      },
      "execution_count": 6,
      "outputs": []
    },
    {
      "cell_type": "markdown",
      "source": [
        "## Dato\n",
        "\n",
        "Vamos a definir una función que me devuelva el contenido que deseamos guardar en el archivo.\n"
      ],
      "metadata": {
        "id": "8cPwMIGxcJM5"
      }
    },
    {
      "cell_type": "code",
      "source": [
        "def obtener_datos() -> dict:\n",
        "  \"\"\" Función que retorna el contenido que será guardado en un archivo.\n",
        "\n",
        "  Returns:\n",
        "      dict: Retorna un diccionario con la estructura del archivo ini.\n",
        "  \"\"\"\n",
        "  dato = {\n",
        "      \"pais_1\": {\n",
        "          \"nombre\": \"Uruguay\",\n",
        "          \"anio\": 2008,\n",
        "          \"vecinos\": [{\n",
        "              \"nombre\": \"Argentina\",\n",
        "              \"direccion\": \"Oeste\"\n",
        "          }, {\n",
        "              \"nombre\": \"Brazil\",\n",
        "              \"direccion\": \"Norte\"\n",
        "          }]\n",
        "      },\n",
        "      \"pais_2\": {\n",
        "          \"nombre\": \"Honduras\",\n",
        "          \"anio\": 2011,\n",
        "          \"vecinos\": [{\n",
        "              \"nombre\": \"Guatemala\",\n",
        "              \"direccion\": \"Norte\"\n",
        "          }, {\n",
        "              \"nombre\": \"Nicaragua\",\n",
        "              \"direccion\": \"Sur\"\n",
        "          }]\n",
        "      }\n",
        "  }\n",
        "\n",
        "  return dato"
      ],
      "metadata": {
        "id": "VOXa_p4QcW0B"
      },
      "execution_count": 7,
      "outputs": []
    },
    {
      "cell_type": "markdown",
      "source": [
        "## Escritura\n",
        "\n",
        "Vamos a escribir una función para guardar crear el archivo."
      ],
      "metadata": {
        "id": "fCBWdWAhc3co"
      }
    },
    {
      "cell_type": "code",
      "source": [
        "def escribir_archivo(archivo:str):\n",
        "  \"\"\" Función que escribe un archivo.\n",
        "\n",
        "  Args:\n",
        "    archivo (str): Carpeta y nombre del arhivo que deseamos escribir.\n",
        "  \"\"\"\n",
        "  ini = ConfigParser()\n",
        "  ini.read_dict(obtener_datos())\n",
        "  with open(archivo, \"wt\") as w:\n",
        "      ini.write(w)\n"
      ],
      "metadata": {
        "id": "Ox_4ck3zdJuJ"
      },
      "execution_count": 8,
      "outputs": []
    },
    {
      "cell_type": "markdown",
      "source": [
        "## Lectura\n",
        "\n",
        "Vamos a crear una función para leer el archivo."
      ],
      "metadata": {
        "id": "yFJR7v_LjLfC"
      }
    },
    {
      "cell_type": "code",
      "source": [
        "def leer_archivo(archivo:str):\n",
        "  \"\"\" Función que lee un archio.\n",
        "\n",
        "  Args:\n",
        "    archivo (str): Carpeta y nombre del arhivo que deseamos escribir.\n",
        "  \"\"\"\n",
        "  ini = ConfigParser()\n",
        "  ini.read(archivo)\n",
        "  for seccion_nombre, seccion_valores in ini.items():\n",
        "      if len(seccion_valores) > 0:\n",
        "        # solo se muestran las secciones con valores de configuración\n",
        "        print(f\"[{seccion_nombre}]\")\n",
        "        for valores_nombre, valores_valores in seccion_valores.items():\n",
        "            print(f\"{valores_nombre} = {valores_valores}\")\n",
        "        print()\n"
      ],
      "metadata": {
        "id": "3d1iSexjjSz5"
      },
      "execution_count": 9,
      "outputs": []
    },
    {
      "cell_type": "markdown",
      "source": [
        "## Ejecución"
      ],
      "metadata": {
        "id": "vmdizVRojkEs"
      }
    },
    {
      "cell_type": "code",
      "source": [
        "# escritura\n",
        "escribir_archivo(archivo=archivo)"
      ],
      "metadata": {
        "id": "BVAO7m_xjnHX"
      },
      "execution_count": 10,
      "outputs": []
    },
    {
      "cell_type": "code",
      "source": [
        "# lectura\n",
        "leer_archivo(archivo=archivo)"
      ],
      "metadata": {
        "id": "CUYRp5ndj8r9",
        "colab": {
          "base_uri": "https://localhost:8080/"
        },
        "outputId": "c1b54823-5b56-4dc5-9c4e-ec6f7455f779"
      },
      "execution_count": 11,
      "outputs": [
        {
          "output_type": "stream",
          "name": "stdout",
          "text": [
            "[pais_1]\n",
            "nombre = Uruguay\n",
            "anio = 2008\n",
            "vecinos = [{'nombre': 'Argentina', 'direccion': 'Oeste'}, {'nombre': 'Brazil', 'direccion': 'Norte'}]\n",
            "\n",
            "[pais_2]\n",
            "nombre = Honduras\n",
            "anio = 2011\n",
            "vecinos = [{'nombre': 'Guatemala', 'direccion': 'Norte'}, {'nombre': 'Nicaragua', 'direccion': 'Sur'}]\n",
            "\n"
          ]
        }
      ]
    }
  ]
}