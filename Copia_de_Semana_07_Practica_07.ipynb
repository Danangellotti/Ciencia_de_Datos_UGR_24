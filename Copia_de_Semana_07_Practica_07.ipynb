{
  "nbformat": 4,
  "nbformat_minor": 0,
  "metadata": {
    "colab": {
      "provenance": [],
      "include_colab_link": true
    },
    "kernelspec": {
      "name": "python3",
      "display_name": "Python 3"
    },
    "language_info": {
      "name": "python"
    }
  },
  "cells": [
    {
      "cell_type": "markdown",
      "metadata": {
        "id": "view-in-github",
        "colab_type": "text"
      },
      "source": [
        "<a href=\"https://colab.research.google.com/github/Danangellotti/Ciencia_de_Datos_UGR_24/blob/main/Copia_de_Semana_07_Practica_07.ipynb\" target=\"_parent\"><img src=\"https://colab.research.google.com/assets/colab-badge.svg\" alt=\"Open In Colab\"/></a>"
      ]
    },
    {
      "cell_type": "markdown",
      "source": [
        "# Práctica 007\n",
        "\n",
        "Opencv."
      ],
      "metadata": {
        "id": "Tzen0CM6-IeB"
      }
    },
    {
      "cell_type": "markdown",
      "source": [
        "# Ejercicio 01\n",
        "\n",
        "Descargar la siguiente [imagen](https://drive.google.com/file/d/125-ObI3n4zEOj3zu0Nz5jgce2Se5DZ11/view?usp=share_link), mostrarla y mostrar su tamaño de pixels (width, height).\n",
        "\n",
        "El id de la imagen es: 125-ObI3n4zEOj3zu0Nz5jgce2Se5DZ11"
      ],
      "metadata": {
        "id": "FYehCoBkFALp"
      }
    },
    {
      "cell_type": "code",
      "source": [],
      "metadata": {
        "id": "MTEwi81oyvd-"
      },
      "execution_count": null,
      "outputs": []
    },
    {
      "cell_type": "markdown",
      "source": [
        "# Ejercicio 02\n",
        "\n",
        "Recortar la sección de la cara y aplicar una función negativa para la región. Mostrar la imagen completa con la región modificada."
      ],
      "metadata": {
        "id": "_0Vrqv4R_V0X"
      }
    },
    {
      "cell_type": "code",
      "source": [],
      "metadata": {
        "id": "VK8-aKYpy1Rb"
      },
      "execution_count": null,
      "outputs": []
    },
    {
      "cell_type": "markdown",
      "source": [
        "## Ejercicio 03\n",
        "\n",
        "Recortar la imagen original haciendo que quede una imagen cuadrada de 1500x1500.\n",
        "Para recortar se debe tomar el centro de la imagen."
      ],
      "metadata": {
        "id": "l-wSBVPERAT6"
      }
    },
    {
      "cell_type": "code",
      "source": [],
      "metadata": {
        "id": "OPY-kgSGy2au"
      },
      "execution_count": null,
      "outputs": []
    },
    {
      "cell_type": "markdown",
      "source": [
        "# Ejercicio 04\n",
        "\n",
        "Tomar la imagen del ejercicio 3, cortarla en 4 sub imágenes y reensamblarla de la siguiente forma.\n",
        "\n",
        "Imagen original\n",
        "\n",
        "| | |\n",
        "| --- | --- |\n",
        "| arriba izquierda | arriba derecha |\n",
        "| abajo izquierda | abajo derecha |\n",
        "\n",
        "\n",
        "Imagen ensamblada\n",
        "\n",
        "| | |\n",
        "| --- | --- |\n",
        "| abajo derecha | abajo izquierda |\n",
        "| arriba derecha | arriba izquierda |\n",
        "\n"
      ],
      "metadata": {
        "id": "G6p4JC9PAtBY"
      }
    },
    {
      "cell_type": "code",
      "source": [],
      "metadata": {
        "id": "qZF2IA3hy5Cq"
      },
      "execution_count": null,
      "outputs": []
    },
    {
      "cell_type": "markdown",
      "source": [
        "# Ejercicio 05\n",
        "\n",
        "Tomar la imagen original y generar la transparencia a partir del compomente rojo.\n",
        "\n",
        "Utilizar un threshold de 100, un maxval de 255, y un tipo THRESH_BINARY.\n"
      ],
      "metadata": {
        "id": "nR_OQtsxErx4"
      }
    },
    {
      "cell_type": "code",
      "source": [],
      "metadata": {
        "id": "YZSc7PE4y6PH"
      },
      "execution_count": null,
      "outputs": []
    }
  ]
}