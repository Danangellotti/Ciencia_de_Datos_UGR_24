{
  "nbformat": 4,
  "nbformat_minor": 0,
  "metadata": {
    "colab": {
      "provenance": [],
      "include_colab_link": true
    },
    "kernelspec": {
      "name": "python3",
      "display_name": "Python 3"
    },
    "language_info": {
      "name": "python"
    }
  },
  "cells": [
    {
      "cell_type": "markdown",
      "metadata": {
        "id": "view-in-github",
        "colab_type": "text"
      },
      "source": [
        "<a href=\"https://colab.research.google.com/github/Danangellotti/Ciencia_de_Datos_UGR_24/blob/main/Copia_de_trabajo_practico_03_Probando_Nombre.ipynb\" target=\"_parent\"><img src=\"https://colab.research.google.com/assets/colab-badge.svg\" alt=\"Open In Colab\"/></a>"
      ]
    },
    {
      "cell_type": "markdown",
      "source": [
        "# Trabajo Práctico 3\n"
      ],
      "metadata": {
        "id": "GZ3I6tMKimmf"
      }
    },
    {
      "cell_type": "markdown",
      "metadata": {
        "id": "WI7TRxkc3gW4"
      },
      "source": [
        "# Ejercicio 1\n",
        "\n",
        "Vamos a trabajar con el dataset [chessman.zip](https://drive.google.com/file/d/125hRx0C9Yin9P5PRmRVbfvNCgY4iVKZC/view?usp=sharing) desde Google Drive.\n",
        "\n",
        "Para más información ver [kaggle](https://www.kaggle.com/datasets/niteshfre/chessman-image-dataset)."
      ]
    },
    {
      "cell_type": "code",
      "source": [],
      "metadata": {
        "id": "tCWOmB4mG5eW"
      },
      "execution_count": null,
      "outputs": []
    },
    {
      "cell_type": "markdown",
      "source": [
        "## Punto 1\n",
        "\n",
        "Descargar y descomprimirlo."
      ],
      "metadata": {
        "id": "5C1qxZkP7uSi"
      }
    },
    {
      "cell_type": "code",
      "source": [
        "!wget -O /content/chessman.zip \"https://drive.google.com/uc?id=125hRx0C9Yin9P5PRmRVbfvNCgY4iVKZC\"\n",
        "# Crear la carpeta para descomprimir las imágenes\n",
        "!mkdir -p /content/dataset/raw\n",
        "\n",
        "# Descomprimir el archivo descargado en el directorio /content/dataset/raw\n",
        "!unzip /content/chessman.zip -d /content/dataset/raw"
      ],
      "metadata": {
        "id": "IUw8iWa2MCkP",
        "colab": {
          "base_uri": "https://localhost:8080/"
        },
        "outputId": "d942d5c3-bf8d-406e-fcc3-1c9166ed0cfa"
      },
      "execution_count": 2,
      "outputs": [
        {
          "output_type": "stream",
          "name": "stdout",
          "text": [
            "--2024-11-13 14:40:41--  https://drive.google.com/uc?id=125hRx0C9Yin9P5PRmRVbfvNCgY4iVKZC\n",
            "Resolving drive.google.com (drive.google.com)... 172.253.122.102, 172.253.122.101, 172.253.122.113, ...\n",
            "Connecting to drive.google.com (drive.google.com)|172.253.122.102|:443... connected.\n",
            "HTTP request sent, awaiting response... 303 See Other\n",
            "Location: https://drive.usercontent.google.com/download?id=125hRx0C9Yin9P5PRmRVbfvNCgY4iVKZC [following]\n",
            "--2024-11-13 14:40:41--  https://drive.usercontent.google.com/download?id=125hRx0C9Yin9P5PRmRVbfvNCgY4iVKZC\n",
            "Resolving drive.usercontent.google.com (drive.usercontent.google.com)... 64.233.180.132, 2607:f8b0:4004:c21::84\n",
            "Connecting to drive.usercontent.google.com (drive.usercontent.google.com)|64.233.180.132|:443... connected.\n",
            "HTTP request sent, awaiting response... 200 OK\n",
            "Length: 8820432 (8.4M) [application/octet-stream]\n",
            "Saving to: ‘/content/chessman.zip’\n",
            "\n",
            "/content/chessman.z 100%[===================>]   8.41M  26.9MB/s    in 0.3s    \n",
            "\n",
            "2024-11-13 14:40:46 (26.9 MB/s) - ‘/content/chessman.zip’ saved [8820432/8820432]\n",
            "\n",
            "Archive:  /content/chessman.zip\n",
            "   creating: /content/dataset/raw/Chessman-image-dataset-Bishop/\n",
            "   creating: /content/dataset/raw/Chessman-image-dataset-Bishop/Chess/\n",
            "   creating: /content/dataset/raw/Chessman-image-dataset-Bishop/Chess/Bishop/\n",
            "  inflating: /content/dataset/raw/Chessman-image-dataset-Bishop/Chess/Bishop/00000175.jpg  \n",
            "  inflating: /content/dataset/raw/Chessman-image-dataset-Bishop/Chess/Bishop/00000121.jpg  \n",
            "  inflating: /content/dataset/raw/Chessman-image-dataset-Bishop/Chess/Bishop/00000109.jpg  \n",
            "  inflating: /content/dataset/raw/Chessman-image-dataset-Bishop/Chess/Bishop/00000012.jpg  \n",
            "  inflating: /content/dataset/raw/Chessman-image-dataset-Bishop/Chess/Bishop/00000026.jpg  \n",
            "  inflating: /content/dataset/raw/Chessman-image-dataset-Bishop/Chess/Bishop/00000049.jpg  \n",
            "  inflating: /content/dataset/raw/Chessman-image-dataset-Bishop/Chess/Bishop/00000115.jpg  \n",
            "  inflating: /content/dataset/raw/Chessman-image-dataset-Bishop/Chess/Bishop/00000114.jpg  \n",
            "  inflating: /content/dataset/raw/Chessman-image-dataset-Bishop/Chess/Bishop/00000044.png  \n",
            "  inflating: /content/dataset/raw/Chessman-image-dataset-Bishop/Chess/Bishop/00000025.jpg  \n",
            "  inflating: /content/dataset/raw/Chessman-image-dataset-Bishop/Chess/Bishop/00000078.jpg  \n",
            "  inflating: /content/dataset/raw/Chessman-image-dataset-Bishop/Chess/Bishop/00000129.jpg  \n",
            "  inflating: /content/dataset/raw/Chessman-image-dataset-Bishop/Chess/Bishop/00000192.jpg  \n",
            "  inflating: /content/dataset/raw/Chessman-image-dataset-Bishop/Chess/Bishop/00000177.jpg  \n",
            "  inflating: /content/dataset/raw/Chessman-image-dataset-Bishop/Chess/Bishop/00000167.jpg  \n",
            "  inflating: /content/dataset/raw/Chessman-image-dataset-Bishop/Chess/Bishop/00000149.jpg  \n",
            "  inflating: /content/dataset/raw/Chessman-image-dataset-Bishop/Chess/Bishop/00000010.jpg  \n",
            "  inflating: /content/dataset/raw/Chessman-image-dataset-Bishop/Chess/Bishop/00000113.png  \n",
            "  inflating: /content/dataset/raw/Chessman-image-dataset-Bishop/Chess/Bishop/00000138.jpg  \n",
            "  inflating: /content/dataset/raw/Chessman-image-dataset-Bishop/Chess/Bishop/00000016.jpg  \n",
            "  inflating: /content/dataset/raw/Chessman-image-dataset-Bishop/Chess/Bishop/00000110.jpg  \n",
            "  inflating: /content/dataset/raw/Chessman-image-dataset-Bishop/Chess/Bishop/00000168.jpg  \n",
            "  inflating: /content/dataset/raw/Chessman-image-dataset-Bishop/Chess/Bishop/00000145.jpg  \n",
            "  inflating: /content/dataset/raw/Chessman-image-dataset-Bishop/Chess/Bishop/00000188.jpg  \n",
            "  inflating: /content/dataset/raw/Chessman-image-dataset-Bishop/Chess/Bishop/00000007.jpg  \n",
            "  inflating: /content/dataset/raw/Chessman-image-dataset-Bishop/Chess/Bishop/00000169.jpg  \n",
            "  inflating: /content/dataset/raw/Chessman-image-dataset-Bishop/Chess/Bishop/00000086.png  \n",
            "  inflating: /content/dataset/raw/Chessman-image-dataset-Bishop/Chess/Bishop/00000092.jpg  \n",
            "  inflating: /content/dataset/raw/Chessman-image-dataset-Bishop/Chess/Bishop/00000102.jpg  \n",
            "  inflating: /content/dataset/raw/Chessman-image-dataset-Bishop/Chess/Bishop/00000062.jpg  \n",
            "  inflating: /content/dataset/raw/Chessman-image-dataset-Bishop/Chess/Bishop/00000082.jpg  \n",
            "  inflating: /content/dataset/raw/Chessman-image-dataset-Bishop/Chess/Bishop/00000011.jpg  \n",
            "  inflating: /content/dataset/raw/Chessman-image-dataset-Bishop/Chess/Bishop/00000002.JPG  \n",
            "  inflating: /content/dataset/raw/Chessman-image-dataset-Bishop/Chess/Bishop/00000074.jpg  \n",
            "  inflating: /content/dataset/raw/Chessman-image-dataset-Bishop/Chess/Bishop/00000061.jpg  \n",
            "  inflating: /content/dataset/raw/Chessman-image-dataset-Bishop/Chess/Bishop/00000088.jpg  \n",
            "  inflating: /content/dataset/raw/Chessman-image-dataset-Bishop/Chess/Bishop/00000039.jpg  \n",
            "  inflating: /content/dataset/raw/Chessman-image-dataset-Bishop/Chess/Bishop/00000195.jpg  \n",
            "  inflating: /content/dataset/raw/Chessman-image-dataset-Bishop/Chess/Bishop/00000194.jpg  \n",
            "  inflating: /content/dataset/raw/Chessman-image-dataset-Bishop/Chess/Bishop/00000178.jpg  \n",
            "  inflating: /content/dataset/raw/Chessman-image-dataset-Bishop/Chess/Bishop/00000028.jpg  \n",
            "  inflating: /content/dataset/raw/Chessman-image-dataset-Bishop/Chess/Bishop/00000004.jpg  \n",
            "  inflating: /content/dataset/raw/Chessman-image-dataset-Bishop/Chess/Bishop/00000130.png  \n",
            "  inflating: /content/dataset/raw/Chessman-image-dataset-Bishop/Chess/Bishop/00000127.jpg  \n",
            "  inflating: /content/dataset/raw/Chessman-image-dataset-Bishop/Chess/Bishop/00000095.gif  \n",
            "  inflating: /content/dataset/raw/Chessman-image-dataset-Bishop/Chess/Bishop/00000136.png  \n",
            "  inflating: /content/dataset/raw/Chessman-image-dataset-Bishop/Chess/Bishop/00000199.jpg  \n",
            "  inflating: /content/dataset/raw/Chessman-image-dataset-Bishop/Chess/Bishop/00000031.jpg  \n",
            "  inflating: /content/dataset/raw/Chessman-image-dataset-Bishop/Chess/Bishop/00000019.jpg  \n",
            "  inflating: /content/dataset/raw/Chessman-image-dataset-Bishop/Chess/Bishop/00000066.jpg  \n",
            "  inflating: /content/dataset/raw/Chessman-image-dataset-Bishop/Chess/Bishop/00000189.jpg  \n",
            "  inflating: /content/dataset/raw/Chessman-image-dataset-Bishop/Chess/Bishop/00000089.jpg  \n",
            "  inflating: /content/dataset/raw/Chessman-image-dataset-Bishop/Chess/Bishop/00000068.png  \n",
            "  inflating: /content/dataset/raw/Chessman-image-dataset-Bishop/Chess/Bishop/00000070.jpg  \n",
            "  inflating: /content/dataset/raw/Chessman-image-dataset-Bishop/Chess/Bishop/00000112.jpg  \n",
            "  inflating: /content/dataset/raw/Chessman-image-dataset-Bishop/Chess/Bishop/00000126.jpg  \n",
            "  inflating: /content/dataset/raw/Chessman-image-dataset-Bishop/Chess/Bishop/00000006.jpg  \n",
            "  inflating: /content/dataset/raw/Chessman-image-dataset-Bishop/Chess/Bishop/00000186.jpg  \n",
            "  inflating: /content/dataset/raw/Chessman-image-dataset-Bishop/Chess/Bishop/00000015.png  \n",
            "  inflating: /content/dataset/raw/Chessman-image-dataset-Bishop/Chess/Bishop/00000018.jpg  \n",
            "  inflating: /content/dataset/raw/Chessman-image-dataset-Bishop/Chess/Bishop/00000020.jpg  \n",
            "  inflating: /content/dataset/raw/Chessman-image-dataset-Bishop/Chess/Bishop/00000034.jpg  \n",
            "  inflating: /content/dataset/raw/Chessman-image-dataset-Bishop/Chess/Bishop/00000003.png  \n",
            "  inflating: /content/dataset/raw/Chessman-image-dataset-Bishop/Chess/Bishop/00000103.jpg  \n",
            "  inflating: /content/dataset/raw/Chessman-image-dataset-Bishop/Chess/Bishop/00000075.jpg  \n",
            "  inflating: /content/dataset/raw/Chessman-image-dataset-Bishop/Chess/Bishop/00000182.jpg  \n",
            "  inflating: /content/dataset/raw/Chessman-image-dataset-Bishop/Chess/Bishop/00000193.jpg  \n",
            "  inflating: /content/dataset/raw/Chessman-image-dataset-Bishop/Chess/Bishop/00000001.jpg  \n",
            "  inflating: /content/dataset/raw/Chessman-image-dataset-Bishop/Chess/Bishop/00000081.jpg  \n",
            "  inflating: /content/dataset/raw/Chessman-image-dataset-Bishop/Chess/Bishop/00000150.png  \n",
            "  inflating: /content/dataset/raw/Chessman-image-dataset-Bishop/Chess/Bishop/00000013.jpg  \n",
            "  inflating: /content/dataset/raw/Chessman-image-dataset-Bishop/Chess/Bishop/00000117.jpg  \n",
            "  inflating: /content/dataset/raw/Chessman-image-dataset-Bishop/Chess/Bishop/00000151.png  \n",
            "  inflating: /content/dataset/raw/Chessman-image-dataset-Bishop/Chess/Bishop/00000120.jpg  \n",
            "  inflating: /content/dataset/raw/Chessman-image-dataset-Bishop/Chess/Bishop/00000094.jpg  \n",
            "  inflating: /content/dataset/raw/Chessman-image-dataset-Bishop/Chess/Bishop/00000054.jpeg  \n",
            "  inflating: /content/dataset/raw/Chessman-image-dataset-Bishop/Chess/Bishop/00000009.png  \n",
            "  inflating: /content/dataset/raw/Chessman-image-dataset-Bishop/Chess/Bishop/00000024.jpg  \n",
            "  inflating: /content/dataset/raw/Chessman-image-dataset-Bishop/Chess/Bishop/00000017.jpg  \n",
            "  inflating: /content/dataset/raw/Chessman-image-dataset-Bishop/Chess/Bishop/00000079.jpg  \n",
            "  inflating: /content/dataset/raw/Chessman-image-dataset-Bishop/Chess/Bishop/00000000.JPG  \n",
            "  inflating: /content/dataset/raw/Chessman-image-dataset-Bishop/Chess/Bishop/00000174.jpg  \n",
            "  inflating: /content/dataset/raw/Chessman-image-dataset-Bishop/Chess/Bishop/00000158.jpg  \n",
            "  inflating: /content/dataset/raw/Chessman-image-dataset-Bishop/Chess/Bishop/00000037.jpg  \n",
            "  inflating: /content/dataset/raw/Chessman-image-dataset-Bishop/Chess/Bishop/00000042.jpg  \n",
            "  inflating: /content/dataset/raw/Chessman-image-dataset-Bishop/Chess/Bishop/00000008.jpg  \n",
            "  inflating: /content/dataset/raw/Chessman-image-dataset-Bishop/Chess/Bishop/00000071.png  \n"
          ]
        }
      ]
    },
    {
      "cell_type": "markdown",
      "source": [
        "## Punto 2\n",
        "\n",
        "Crear un repositorio para dvc que contenga la siguiente estructura:\n",
        "- dataset\n",
        "- dataset/raw: copiar las imágenes del dataset. Debe ser traceado por dvc.\n",
        "\n",
        "Escribir los pasos necesarios para el traceo del dataset y hacer los commit correspondientes y pushear dvc."
      ],
      "metadata": {
        "id": "tLWlUqGF7XiY"
      }
    },
    {
      "cell_type": "code",
      "source": [
        "# Instala DVC\n",
        "!pip install dvc"
      ],
      "metadata": {
        "id": "vf9IzBKJMDXm",
        "colab": {
          "base_uri": "https://localhost:8080/"
        },
        "outputId": "3aefd1f3-8611-480b-baa1-3707804eb67c"
      },
      "execution_count": 1,
      "outputs": [
        {
          "output_type": "stream",
          "name": "stdout",
          "text": [
            "Requirement already satisfied: dvc in /usr/local/lib/python3.10/dist-packages (3.56.0)\n",
            "Requirement already satisfied: attrs>=22.2.0 in /usr/local/lib/python3.10/dist-packages (from dvc) (24.2.0)\n",
            "Requirement already satisfied: celery in /usr/local/lib/python3.10/dist-packages (from dvc) (5.4.0)\n",
            "Requirement already satisfied: colorama>=0.3.9 in /usr/local/lib/python3.10/dist-packages (from dvc) (0.4.6)\n",
            "Requirement already satisfied: configobj>=5.0.6 in /usr/local/lib/python3.10/dist-packages (from dvc) (5.0.9)\n",
            "Requirement already satisfied: distro>=1.3 in /usr/local/lib/python3.10/dist-packages (from dvc) (1.9.0)\n",
            "Requirement already satisfied: dpath<3,>=2.1.0 in /usr/local/lib/python3.10/dist-packages (from dvc) (2.2.0)\n",
            "Requirement already satisfied: dulwich in /usr/local/lib/python3.10/dist-packages (from dvc) (0.22.5)\n",
            "Requirement already satisfied: dvc-data<3.17,>=3.16.2 in /usr/local/lib/python3.10/dist-packages (from dvc) (3.16.7)\n",
            "Requirement already satisfied: dvc-http>=2.29.0 in /usr/local/lib/python3.10/dist-packages (from dvc) (2.32.0)\n",
            "Requirement already satisfied: dvc-objects in /usr/local/lib/python3.10/dist-packages (from dvc) (5.1.0)\n",
            "Requirement already satisfied: dvc-render<2,>=1.0.1 in /usr/local/lib/python3.10/dist-packages (from dvc) (1.0.2)\n",
            "Requirement already satisfied: dvc-studio-client<1,>=0.21 in /usr/local/lib/python3.10/dist-packages (from dvc) (0.21.0)\n",
            "Requirement already satisfied: dvc-task<1,>=0.3.0 in /usr/local/lib/python3.10/dist-packages (from dvc) (0.40.2)\n",
            "Requirement already satisfied: flatten-dict<1,>=0.4.1 in /usr/local/lib/python3.10/dist-packages (from dvc) (0.4.2)\n",
            "Requirement already satisfied: flufl.lock<9,>=8.1.0 in /usr/local/lib/python3.10/dist-packages (from dvc) (8.1.0)\n",
            "Requirement already satisfied: fsspec>=2024.2.0 in /usr/local/lib/python3.10/dist-packages (from dvc) (2024.10.0)\n",
            "Requirement already satisfied: funcy>=1.14 in /usr/local/lib/python3.10/dist-packages (from dvc) (2.0)\n",
            "Requirement already satisfied: grandalf<1,>=0.7 in /usr/local/lib/python3.10/dist-packages (from dvc) (0.8)\n",
            "Requirement already satisfied: gto<2,>=1.6.0 in /usr/local/lib/python3.10/dist-packages (from dvc) (1.7.1)\n",
            "Requirement already satisfied: hydra-core>=1.1 in /usr/local/lib/python3.10/dist-packages (from dvc) (1.3.2)\n",
            "Requirement already satisfied: iterative-telemetry>=0.0.7 in /usr/local/lib/python3.10/dist-packages (from dvc) (0.0.9)\n",
            "Requirement already satisfied: kombu in /usr/local/lib/python3.10/dist-packages (from dvc) (5.4.2)\n",
            "Requirement already satisfied: networkx>=2.5 in /usr/local/lib/python3.10/dist-packages (from dvc) (3.4.2)\n",
            "Requirement already satisfied: omegaconf in /usr/local/lib/python3.10/dist-packages (from dvc) (2.3.0)\n",
            "Requirement already satisfied: packaging>=19 in /usr/local/lib/python3.10/dist-packages (from dvc) (24.2)\n",
            "Requirement already satisfied: pathspec>=0.10.3 in /usr/local/lib/python3.10/dist-packages (from dvc) (0.12.1)\n",
            "Requirement already satisfied: platformdirs<4,>=3.1.1 in /usr/local/lib/python3.10/dist-packages (from dvc) (3.11.0)\n",
            "Requirement already satisfied: psutil>=5.8 in /usr/local/lib/python3.10/dist-packages (from dvc) (5.9.5)\n",
            "Requirement already satisfied: pydot>=1.2.4 in /usr/local/lib/python3.10/dist-packages (from dvc) (3.0.2)\n",
            "Requirement already satisfied: pygtrie>=2.3.2 in /usr/local/lib/python3.10/dist-packages (from dvc) (2.5.0)\n",
            "Requirement already satisfied: pyparsing>=2.4.7 in /usr/local/lib/python3.10/dist-packages (from dvc) (3.2.0)\n",
            "Requirement already satisfied: requests>=2.22 in /usr/local/lib/python3.10/dist-packages (from dvc) (2.32.3)\n",
            "Requirement already satisfied: rich>=12 in /usr/local/lib/python3.10/dist-packages (from dvc) (13.9.4)\n",
            "Requirement already satisfied: ruamel.yaml>=0.17.11 in /usr/local/lib/python3.10/dist-packages (from dvc) (0.18.6)\n",
            "Requirement already satisfied: scmrepo<4,>=3.3.8 in /usr/local/lib/python3.10/dist-packages (from dvc) (3.3.8)\n",
            "Requirement already satisfied: shortuuid>=0.5 in /usr/local/lib/python3.10/dist-packages (from dvc) (1.0.13)\n",
            "Requirement already satisfied: shtab<2,>=1.3.4 in /usr/local/lib/python3.10/dist-packages (from dvc) (1.7.1)\n",
            "Requirement already satisfied: tabulate>=0.8.7 in /usr/local/lib/python3.10/dist-packages (from dvc) (0.9.0)\n",
            "Requirement already satisfied: tomlkit>=0.11.1 in /usr/local/lib/python3.10/dist-packages (from dvc) (0.13.2)\n",
            "Requirement already satisfied: tqdm<5,>=4.63.1 in /usr/local/lib/python3.10/dist-packages (from dvc) (4.66.6)\n",
            "Requirement already satisfied: voluptuous>=0.11.7 in /usr/local/lib/python3.10/dist-packages (from dvc) (0.15.2)\n",
            "Requirement already satisfied: zc.lockfile>=1.2.1 in /usr/local/lib/python3.10/dist-packages (from dvc) (3.0.post1)\n",
            "Requirement already satisfied: dictdiffer>=0.8.1 in /usr/local/lib/python3.10/dist-packages (from dvc-data<3.17,>=3.16.2->dvc) (0.9.0)\n",
            "Requirement already satisfied: diskcache>=5.2.1 in /usr/local/lib/python3.10/dist-packages (from dvc-data<3.17,>=3.16.2->dvc) (5.6.3)\n",
            "Requirement already satisfied: sqltrie<1,>=0.11.0 in /usr/local/lib/python3.10/dist-packages (from dvc-data<3.17,>=3.16.2->dvc) (0.11.1)\n",
            "Requirement already satisfied: orjson<4,>=3 in /usr/local/lib/python3.10/dist-packages (from dvc-data<3.17,>=3.16.2->dvc) (3.10.11)\n",
            "Requirement already satisfied: aiohttp-retry>=2.5.0 in /usr/local/lib/python3.10/dist-packages (from dvc-http>=2.29.0->dvc) (2.9.1)\n",
            "Requirement already satisfied: billiard<5.0,>=4.2.0 in /usr/local/lib/python3.10/dist-packages (from celery->dvc) (4.2.1)\n",
            "Requirement already satisfied: vine<6.0,>=5.1.0 in /usr/local/lib/python3.10/dist-packages (from celery->dvc) (5.1.0)\n",
            "Requirement already satisfied: click<9.0,>=8.1.2 in /usr/local/lib/python3.10/dist-packages (from celery->dvc) (8.1.7)\n",
            "Requirement already satisfied: click-didyoumean>=0.3.0 in /usr/local/lib/python3.10/dist-packages (from celery->dvc) (0.3.1)\n",
            "Requirement already satisfied: click-repl>=0.2.0 in /usr/local/lib/python3.10/dist-packages (from celery->dvc) (0.3.0)\n",
            "Requirement already satisfied: click-plugins>=1.1.1 in /usr/local/lib/python3.10/dist-packages (from celery->dvc) (1.1.1)\n",
            "Requirement already satisfied: tzdata>=2022.7 in /usr/local/lib/python3.10/dist-packages (from celery->dvc) (2024.2)\n",
            "Requirement already satisfied: python-dateutil>=2.8.2 in /usr/local/lib/python3.10/dist-packages (from celery->dvc) (2.8.2)\n",
            "Requirement already satisfied: six<2.0,>=1.12 in /usr/local/lib/python3.10/dist-packages (from flatten-dict<1,>=0.4.1->dvc) (1.16.0)\n",
            "Requirement already satisfied: atpublic in /usr/local/lib/python3.10/dist-packages (from flufl.lock<9,>=8.1.0->dvc) (4.1.0)\n",
            "Requirement already satisfied: typer>=0.4.1 in /usr/local/lib/python3.10/dist-packages (from gto<2,>=1.6.0->dvc) (0.13.0)\n",
            "Requirement already satisfied: pydantic!=2.0.0,<3,>=1.9.0 in /usr/local/lib/python3.10/dist-packages (from gto<2,>=1.6.0->dvc) (2.9.2)\n",
            "Requirement already satisfied: semver>=2.13.0 in /usr/local/lib/python3.10/dist-packages (from gto<2,>=1.6.0->dvc) (3.0.2)\n",
            "Requirement already satisfied: entrypoints in /usr/local/lib/python3.10/dist-packages (from gto<2,>=1.6.0->dvc) (0.4)\n",
            "Requirement already satisfied: antlr4-python3-runtime==4.9.* in /usr/local/lib/python3.10/dist-packages (from hydra-core>=1.1->dvc) (4.9.3)\n",
            "Requirement already satisfied: appdirs in /usr/local/lib/python3.10/dist-packages (from iterative-telemetry>=0.0.7->dvc) (1.4.4)\n",
            "Requirement already satisfied: filelock in /usr/local/lib/python3.10/dist-packages (from iterative-telemetry>=0.0.7->dvc) (3.16.1)\n",
            "Requirement already satisfied: amqp<6.0.0,>=5.1.1 in /usr/local/lib/python3.10/dist-packages (from kombu->dvc) (5.3.1)\n",
            "Requirement already satisfied: PyYAML>=5.1.0 in /usr/local/lib/python3.10/dist-packages (from omegaconf->dvc) (6.0.2)\n",
            "Requirement already satisfied: charset-normalizer<4,>=2 in /usr/local/lib/python3.10/dist-packages (from requests>=2.22->dvc) (3.4.0)\n",
            "Requirement already satisfied: idna<4,>=2.5 in /usr/local/lib/python3.10/dist-packages (from requests>=2.22->dvc) (3.10)\n",
            "Requirement already satisfied: urllib3<3,>=1.21.1 in /usr/local/lib/python3.10/dist-packages (from requests>=2.22->dvc) (2.2.3)\n",
            "Requirement already satisfied: certifi>=2017.4.17 in /usr/local/lib/python3.10/dist-packages (from requests>=2.22->dvc) (2024.8.30)\n",
            "Requirement already satisfied: markdown-it-py>=2.2.0 in /usr/local/lib/python3.10/dist-packages (from rich>=12->dvc) (3.0.0)\n",
            "Requirement already satisfied: pygments<3.0.0,>=2.13.0 in /usr/local/lib/python3.10/dist-packages (from rich>=12->dvc) (2.18.0)\n",
            "Requirement already satisfied: typing-extensions<5.0,>=4.0.0 in /usr/local/lib/python3.10/dist-packages (from rich>=12->dvc) (4.12.2)\n",
            "Requirement already satisfied: ruamel.yaml.clib>=0.2.7 in /usr/local/lib/python3.10/dist-packages (from ruamel.yaml>=0.17.11->dvc) (0.2.12)\n",
            "Requirement already satisfied: gitpython>3 in /usr/local/lib/python3.10/dist-packages (from scmrepo<4,>=3.3.8->dvc) (3.1.43)\n",
            "Requirement already satisfied: pygit2>=1.14.0 in /usr/local/lib/python3.10/dist-packages (from scmrepo<4,>=3.3.8->dvc) (1.16.0)\n",
            "Requirement already satisfied: asyncssh<3,>=2.13.1 in /usr/local/lib/python3.10/dist-packages (from scmrepo<4,>=3.3.8->dvc) (2.18.0)\n",
            "Requirement already satisfied: setuptools in /usr/local/lib/python3.10/dist-packages (from zc.lockfile>=1.2.1->dvc) (75.1.0)\n",
            "Requirement already satisfied: aiohttp in /usr/local/lib/python3.10/dist-packages (from aiohttp-retry>=2.5.0->dvc-http>=2.29.0->dvc) (3.10.10)\n",
            "Requirement already satisfied: cryptography>=39.0 in /usr/local/lib/python3.10/dist-packages (from asyncssh<3,>=2.13.1->scmrepo<4,>=3.3.8->dvc) (43.0.3)\n",
            "Requirement already satisfied: prompt-toolkit>=3.0.36 in /usr/local/lib/python3.10/dist-packages (from click-repl>=0.2.0->celery->dvc) (3.0.48)\n",
            "Requirement already satisfied: gitdb<5,>=4.0.1 in /usr/local/lib/python3.10/dist-packages (from gitpython>3->scmrepo<4,>=3.3.8->dvc) (4.0.11)\n",
            "Requirement already satisfied: mdurl~=0.1 in /usr/local/lib/python3.10/dist-packages (from markdown-it-py>=2.2.0->rich>=12->dvc) (0.1.2)\n",
            "Requirement already satisfied: annotated-types>=0.6.0 in /usr/local/lib/python3.10/dist-packages (from pydantic!=2.0.0,<3,>=1.9.0->gto<2,>=1.6.0->dvc) (0.7.0)\n",
            "Requirement already satisfied: pydantic-core==2.23.4 in /usr/local/lib/python3.10/dist-packages (from pydantic!=2.0.0,<3,>=1.9.0->gto<2,>=1.6.0->dvc) (2.23.4)\n",
            "Requirement already satisfied: cffi>=1.17.0 in /usr/local/lib/python3.10/dist-packages (from pygit2>=1.14.0->scmrepo<4,>=3.3.8->dvc) (1.17.1)\n",
            "Requirement already satisfied: shellingham>=1.3.0 in /usr/local/lib/python3.10/dist-packages (from typer>=0.4.1->gto<2,>=1.6.0->dvc) (1.5.4)\n",
            "Requirement already satisfied: aiohappyeyeballs>=2.3.0 in /usr/local/lib/python3.10/dist-packages (from aiohttp->aiohttp-retry>=2.5.0->dvc-http>=2.29.0->dvc) (2.4.3)\n",
            "Requirement already satisfied: aiosignal>=1.1.2 in /usr/local/lib/python3.10/dist-packages (from aiohttp->aiohttp-retry>=2.5.0->dvc-http>=2.29.0->dvc) (1.3.1)\n",
            "Requirement already satisfied: frozenlist>=1.1.1 in /usr/local/lib/python3.10/dist-packages (from aiohttp->aiohttp-retry>=2.5.0->dvc-http>=2.29.0->dvc) (1.5.0)\n",
            "Requirement already satisfied: multidict<7.0,>=4.5 in /usr/local/lib/python3.10/dist-packages (from aiohttp->aiohttp-retry>=2.5.0->dvc-http>=2.29.0->dvc) (6.1.0)\n",
            "Requirement already satisfied: yarl<2.0,>=1.12.0 in /usr/local/lib/python3.10/dist-packages (from aiohttp->aiohttp-retry>=2.5.0->dvc-http>=2.29.0->dvc) (1.17.1)\n",
            "Requirement already satisfied: async-timeout<5.0,>=4.0 in /usr/local/lib/python3.10/dist-packages (from aiohttp->aiohttp-retry>=2.5.0->dvc-http>=2.29.0->dvc) (4.0.3)\n",
            "Requirement already satisfied: pycparser in /usr/local/lib/python3.10/dist-packages (from cffi>=1.17.0->pygit2>=1.14.0->scmrepo<4,>=3.3.8->dvc) (2.22)\n",
            "Requirement already satisfied: smmap<6,>=3.0.1 in /usr/local/lib/python3.10/dist-packages (from gitdb<5,>=4.0.1->gitpython>3->scmrepo<4,>=3.3.8->dvc) (5.0.1)\n",
            "Requirement already satisfied: wcwidth in /usr/local/lib/python3.10/dist-packages (from prompt-toolkit>=3.0.36->click-repl>=0.2.0->celery->dvc) (0.2.13)\n",
            "Requirement already satisfied: propcache>=0.2.0 in /usr/local/lib/python3.10/dist-packages (from yarl<2.0,>=1.12.0->aiohttp->aiohttp-retry>=2.5.0->dvc-http>=2.29.0->dvc) (0.2.0)\n"
          ]
        }
      ]
    },
    {
      "cell_type": "code",
      "source": [
        "# Inicializar Git y DVC en el entorno de Colab\n",
        "!git init\n",
        "!dvc init"
      ],
      "metadata": {
        "colab": {
          "base_uri": "https://localhost:8080/"
        },
        "id": "3gVBqcbr-wLZ",
        "outputId": "c0421722-75a8-41e5-9689-9905792cb1a5"
      },
      "execution_count": 2,
      "outputs": [
        {
          "output_type": "stream",
          "name": "stdout",
          "text": [
            "\u001b[33mhint: Using 'master' as the name for the initial branch. This default branch name\u001b[m\n",
            "\u001b[33mhint: is subject to change. To configure the initial branch name to use in all\u001b[m\n",
            "\u001b[33mhint: of your new repositories, which will suppress this warning, call:\u001b[m\n",
            "\u001b[33mhint: \u001b[m\n",
            "\u001b[33mhint: \tgit config --global init.defaultBranch <name>\u001b[m\n",
            "\u001b[33mhint: \u001b[m\n",
            "\u001b[33mhint: Names commonly chosen instead of 'master' are 'main', 'trunk' and\u001b[m\n",
            "\u001b[33mhint: 'development'. The just-created branch can be renamed via this command:\u001b[m\n",
            "\u001b[33mhint: \u001b[m\n",
            "\u001b[33mhint: \tgit branch -m <name>\u001b[m\n",
            "Initialized empty Git repository in /content/.git/\n",
            "Initialized DVC repository.\n",
            "\n",
            "You can now commit the changes to git.\n",
            "\n",
            "\u001b[31m+---------------------------------------------------------------------+\n",
            "\u001b[0m\u001b[31m|\u001b[0m                                                                     \u001b[31m|\u001b[0m\n",
            "\u001b[31m|\u001b[0m        DVC has enabled anonymous aggregate usage analytics.         \u001b[31m|\u001b[0m\n",
            "\u001b[31m|\u001b[0m     Read the analytics documentation (and how to opt-out) here:     \u001b[31m|\u001b[0m\n",
            "\u001b[31m|\u001b[0m             <\u001b[36mhttps://dvc.org/doc/user-guide/analytics\u001b[39m>              \u001b[31m|\u001b[0m\n",
            "\u001b[31m|\u001b[0m                                                                     \u001b[31m|\u001b[0m\n",
            "\u001b[31m+---------------------------------------------------------------------+\n",
            "\u001b[0m\n",
            "\u001b[33mWhat's next?\u001b[39m\n",
            "\u001b[33m------------\u001b[39m\n",
            "- Check out the documentation: <\u001b[36mhttps://dvc.org/doc\u001b[39m>\n",
            "- Get help and share ideas: <\u001b[36mhttps://dvc.org/chat\u001b[39m>\n",
            "- Star us on GitHub: <\u001b[36mhttps://github.com/iterative/dvc\u001b[39m>\n",
            "\u001b[0m"
          ]
        }
      ]
    },
    {
      "cell_type": "code",
      "source": [
        "# Configuro usuario de Git (solo necesario para los commits locales)\n",
        "!git config --global user.email \"angellottidana@gmail.com\"\n",
        "!git config --global user.name \"Danangellotti\""
      ],
      "metadata": {
        "id": "-ULLGQzm_Era"
      },
      "execution_count": 3,
      "outputs": []
    },
    {
      "cell_type": "code",
      "source": [
        " #Agrege dataset/raw a DVC y el commit\n",
        "!dvc add /content/dataset/raw\n",
        "!git add dataset/raw.dvc .dvc/config .dvc/.gitignore\n",
        "!git commit -m \"Add raw dataset to DVC\""
      ],
      "metadata": {
        "colab": {
          "base_uri": "https://localhost:8080/"
        },
        "id": "r4n-AWccAOyb",
        "outputId": "7f5260d9-e878-4729-8245-a8136ee8228f"
      },
      "execution_count": 5,
      "outputs": [
        {
          "output_type": "stream",
          "name": "stdout",
          "text": [
            "\u001b[?25l\u001b[32m⠋\u001b[0m Checking graph\n",
            "Adding...:   0% 0/1 [00:00<?, ?file/s{'info': ''}]\n",
            "!\u001b[A\n",
            "          |0.00 [00:00,     ?file/s]\u001b[A\n",
            "                                    \u001b[A\n",
            "!\u001b[A\n",
            "  0% |          |0/? [00:00<?,    ?files/s]\u001b[A\n",
            "                                           \u001b[A\n",
            "Adding dataset/raw to cache:   0% 0/87 [00:00<?, ?file/s]\u001b[A\n",
            "Adding dataset/raw to cache:   0% 0/87 [00:00<?, ?file/s{'info': ''}]\u001b[A\n",
            "                                                                     \u001b[A\n",
            "!\u001b[A\n",
            "Checking out /content/dataset/raw          |0.00 [00:00,    ?files/s]\u001b[A\n",
            "Adding...: 100% 1/1 [00:00<00:00,  8.76file/s{'info': ''}]\n",
            "\n",
            "To track the changes with git, run:\n",
            "\n",
            "\tgit add dataset/raw.dvc dataset/.gitignore\n",
            "\n",
            "To enable auto staging, run:\n",
            "\n",
            "\tdvc config core.autostage true\n",
            "\u001b[0m[master (root-commit) e573174] Add raw dataset to DVC\n",
            " 4 files changed, 12 insertions(+)\n",
            " create mode 100644 .dvc/.gitignore\n",
            " create mode 100644 .dvc/config\n",
            " create mode 100644 .dvcignore\n",
            " create mode 100644 dataset/raw.dvc\n"
          ]
        }
      ]
    },
    {
      "cell_type": "markdown",
      "source": [
        "\n",
        "## Punto 3\n",
        "\n",
        "Tomar las imágenes del directorio `dataset/raw` y unificar la resolución de las imágenes para que sea `800x600`. Las nuevas imágenes deben quedar almacenadar en `dataset/resize`. Solo tomar las imágenes válidas. El directorio `resize` debe ser traceado por dvc.\n",
        "\n",
        "Escribir los pasos necesarios para el traceo del dataset y hacer los commit correspondientes y pushear dvc.\n"
      ],
      "metadata": {
        "id": "9b9-F7m2DeHP"
      }
    },
    {
      "cell_type": "code",
      "source": [
        "from PIL import Image\n",
        "import os\n",
        "# Directorios de entrada y salida\n",
        "resize_dir = '/content/dataset/resize'\n",
        "os.makedirs(resize_dir, exist_ok=True)\n",
        "\n",
        "for root, dirs, files in os.walk('/content/dataset/raw'):\n",
        "    for file in files:\n",
        "        if file.lower().endswith(('.jpg', '.jpeg', '.png')):\n",
        "            img_path = os.path.join(root, file)\n",
        "            try:\n",
        "                with Image.open(img_path) as img:\n",
        "                    img_resized = img.resize((800, 600))\n",
        "                    relative_path = os.path.relpath(root, '/content/dataset/raw')\n",
        "                    save_dir = os.path.join(resize_dir, relative_path)\n",
        "                    os.makedirs(save_dir, exist_ok=True)\n",
        "                    img_resized.save(os.path.join(save_dir, file))\n",
        "            except Exception as e:\n",
        "                print(f\"Error processing {img_path}: {e}\")\n",
        "\n",
        "# Agregar dataset/resize a DVC y hacer commit\n",
        "!dvc add /content/dataset/resize\n",
        "!git add dataset/resize.dvc\n",
        "!git commit -m \"Add resized images to DVC\""
      ],
      "metadata": {
        "id": "1zz7dkiDMGxD",
        "colab": {
          "base_uri": "https://localhost:8080/"
        },
        "outputId": "52fe7f00-6470-42cb-a698-3cf36a5b2da7"
      },
      "execution_count": 7,
      "outputs": [
        {
          "output_type": "stream",
          "name": "stdout",
          "text": [
            "\u001b[?25l\u001b[32m⠋\u001b[0m Checking graph\n",
            "Adding...:   0% 0/1 [00:00<?, ?file/s{'info': ''}]\n",
            "!\u001b[A\n",
            "          |0.00 [00:00,     ?file/s]\u001b[A\n",
            "                                    \u001b[A\n",
            "!\u001b[A\n",
            "  0% |          |0/? [00:00<?,    ?files/s]\u001b[A\n",
            "                                           \u001b[A\n",
            "Adding dataset/resize to cache:   0% 0/86 [00:00<?, ?file/s]\u001b[A\n",
            "Adding dataset/resize to cache:   0% 0/86 [00:00<?, ?file/s{'info': ''}]\u001b[A\n",
            "                                                                        \u001b[A\n",
            "!\u001b[A\n",
            "Checking out /content/dataset/resize          |0.00 [00:00,    ?files/s]\u001b[A\n",
            "Adding...: 100% 1/1 [00:00<00:00,  7.86file/s{'info': ''}]\n",
            "\n",
            "To track the changes with git, run:\n",
            "\n",
            "\tgit add dataset/.gitignore dataset/resize.dvc\n",
            "\n",
            "To enable auto staging, run:\n",
            "\n",
            "\tdvc config core.autostage true\n",
            "\u001b[0m[master 029163e] Add resized images to DVC\n",
            " 1 file changed, 6 insertions(+)\n",
            " create mode 100644 dataset/resize.dvc\n"
          ]
        }
      ]
    },
    {
      "cell_type": "markdown",
      "source": [
        "## Punto 4\n",
        "\n",
        "Tomar las imágenes del directorio `dataset/resize` y realizar 4 cortes iguales de forma vertical. Las nuevas imágenes deben quedar almacenadar en `dataset/cut`. El directorio `cut` debe ser traceado por dvc.\n",
        "\n",
        "Las nuevas imágenes se deberán nombrar con un número ascendente, por ejemplo,\n",
        "`00000001.jpg` es el nombre de la imagen original, las nuevas imágenes se llamarán `00000001_1.jpg`, `00000001_2.jpg`, `00000001_3.jpg` y `00000001_4.jpg`\n",
        "\n",
        "Escribir los pasos necesarios para el traceo del dataset y hacer los commit correspondientes y pushear dvc."
      ],
      "metadata": {
        "id": "V25Yoo7oFyKC"
      }
    },
    {
      "cell_type": "code",
      "source": [
        "from PIL import Image\n",
        "\n",
        "resize_dir = '/content/dataset/resize'\n",
        "os.makedirs(resize_dir, exist_ok=True)\n",
        "\n",
        "for root, dirs, files in os.walk('/content/dataset/raw'):\n",
        "    for file in files:\n",
        "        if file.lower().endswith(('.jpg', '.jpeg', '.png')):\n",
        "            img_path = os.path.join(root, file)\n",
        "            try:\n",
        "                with Image.open(img_path) as img:\n",
        "                    img_resized = img.resize((800, 600))\n",
        "                    relative_path = os.path.relpath(root, '/content/dataset/raw')\n",
        "                    save_dir = os.path.join(resize_dir, relative_path)\n",
        "                    os.makedirs(save_dir, exist_ok=True)\n",
        "                    img_resized.save(os.path.join(save_dir, file))\n",
        "            except Exception as e:\n",
        "                print(f\"Error processing {img_path}: {e}\")\n",
        "\n",
        "# Agregar dataset/resize a DVC y hacer commit\n",
        "!dvc add /content/dataset/resize\n",
        "!git add dataset/resize.dvc\n",
        "!git commit -m \"Add resized images to DVC\""
      ],
      "metadata": {
        "colab": {
          "base_uri": "https://localhost:8080/"
        },
        "id": "xLGA9p5nExtV",
        "outputId": "8092f942-44fe-4617-814c-f0282b0ea658"
      },
      "execution_count": 8,
      "outputs": [
        {
          "output_type": "stream",
          "name": "stdout",
          "text": [
            "\u001b[?25l\u001b[32m⠋\u001b[0m Checking graph\n",
            "Adding...:   0% 0/1 [00:00<?, ?file/s{'info': ''}]\n",
            "!\u001b[A\n",
            "          |0.00 [00:00,     ?file/s]\u001b[A\n",
            "                                    \u001b[A\n",
            "!\u001b[A\n",
            "  0% |          |0/? [00:00<?,    ?files/s]\u001b[A\n",
            "                                           \u001b[A\n",
            "!\u001b[A\n",
            "Checking out /content/dataset/resize          |0.00 [00:00,    ?files/s]\u001b[A\n",
            "Adding...: 100% 1/1 [00:00<00:00, 17.16file/s{'info': ''}]\n",
            "\n",
            "To track the changes with git, run:\n",
            "\n",
            "\tgit add dataset/resize.dvc\n",
            "\n",
            "To enable auto staging, run:\n",
            "\n",
            "\tdvc config core.autostage true\n",
            "\u001b[0mOn branch master\n",
            "Untracked files:\n",
            "  (use \"git add <file>...\" to include in what will be committed)\n",
            "\t\u001b[31m.config/\u001b[m\n",
            "\t\u001b[31mchessman.zip\u001b[m\n",
            "\t\u001b[31mdataset/.gitignore\u001b[m\n",
            "\t\u001b[31msample_data/\u001b[m\n",
            "\n",
            "nothing added to commit but untracked files present (use \"git add\" to track)\n"
          ]
        }
      ]
    },
    {
      "cell_type": "markdown",
      "source": [
        "## Punto 5\n",
        "\n",
        "Tomar las imágenes del directorio `dataset/cut` y eliminar las imágenes que no posean variaciones de colores, es decir, donde todos los pixeles sean idénticos. Las nuevas imágenes deben quedar almacenadar en `dataset/selection`.\n",
        "\n",
        "Mostrar la cantidad y los nombres de los archivos borrados en orden alfabético.\n",
        "\n",
        "Escribir los pasos necesarios para el traceo del dataset y hacer los commit correspondientes y pushear dvc."
      ],
      "metadata": {
        "id": "cGGoqxjjvhum"
      }
    },
    {
      "cell_type": "code",
      "source": [
        "cut_dir = '/content/dataset/cut'\n",
        "os.makedirs(cut_dir, exist_ok=True)\n",
        "\n",
        "for root, dirs, files in os.walk(resize_dir):\n",
        "    for file in files:\n",
        "        if file.lower().endswith(('.jpg', '.jpeg', '.png')):\n",
        "            img_path = os.path.join(root, file)\n",
        "            try:\n",
        "                with Image.open(img_path) as img:\n",
        "                    width, height = img.size\n",
        "                    slice_width = width // 4\n",
        "                    base_name = os.path.splitext(file)[0]\n",
        "                    relative_path = os.path.relpath(root, resize_dir)\n",
        "                    save_dir = os.path.join(cut_dir, relative_path)\n",
        "                    os.makedirs(save_dir, exist_ok=True)\n",
        "                    for i in range(4):\n",
        "                        left = i * slice_width\n",
        "                        right = (i + 1) * slice_width if i < 3 else width\n",
        "                        img_slice = img.crop((left, 0, right, height))\n",
        "                        img_slice.save(os.path.join(save_dir, f\"{base_name}_{i+1}.jpg\"))\n",
        "            except Exception as e:\n",
        "                print(f\"Error processing {img_path}: {e}\")\n",
        "\n",
        "# Agregar dataset/cut a DVC y hacer commit\n",
        "!dvc add /content/dataset/cut\n",
        "!git add dataset/cut.dvc\n",
        "!git commit -m \"Add cut images to DVC\""
      ],
      "metadata": {
        "id": "vO72F-HqMMX0",
        "colab": {
          "base_uri": "https://localhost:8080/"
        },
        "outputId": "68355fd8-8ac4-4f5d-d5a8-fdc7ad428a98"
      },
      "execution_count": 9,
      "outputs": [
        {
          "output_type": "stream",
          "name": "stdout",
          "text": [
            "\u001b[?25l\u001b[32m⠋\u001b[0m Checking graph\n",
            "Adding...:   0% 0/1 [00:00<?, ?file/s{'info': ''}]\n",
            "!\u001b[A\n",
            "          |0.00 [00:00,     ?file/s]\u001b[A\n",
            "                                    \u001b[A\n",
            "!\u001b[A\n",
            "  0% |          |0/? [00:00<?,    ?files/s]\u001b[A\n",
            "                                           \u001b[A\n",
            "Adding dataset/cut to cache:   0% 0/329 [00:00<?, ?file/s]\u001b[A\n",
            "Adding dataset/cut to cache:   0% 0/329 [00:00<?, ?file/s{'info': ''}]\u001b[A\n",
            "                                                                      \u001b[A\n",
            "!\u001b[A\n",
            "Checking out /content/dataset/cut          |0.00 [00:00,    ?files/s]\u001b[A\n",
            "Adding...: 100% 1/1 [00:00<00:00,  5.62file/s{'info': ''}]\n",
            "\n",
            "To track the changes with git, run:\n",
            "\n",
            "\tgit add dataset/.gitignore dataset/cut.dvc\n",
            "\n",
            "To enable auto staging, run:\n",
            "\n",
            "\tdvc config core.autostage true\n",
            "\u001b[0m[master 27fef64] Add cut images to DVC\n",
            " 1 file changed, 6 insertions(+)\n",
            " create mode 100644 dataset/cut.dvc\n"
          ]
        }
      ]
    },
    {
      "cell_type": "code",
      "source": [
        "from PIL import ImageStat\n",
        "\n",
        "selection_dir = '/content/dataset/selection'\n",
        "os.makedirs(selection_dir, exist_ok=True)\n",
        "deleted_files = []\n",
        "\n",
        "for root, dirs, files in os.walk(cut_dir):\n",
        "    for file in files:\n",
        "        if file.lower().endswith(('.jpg', '.jpeg', '.png')):\n",
        "            img_path = os.path.join(root, file)\n",
        "            try:\n",
        "                with Image.open(img_path) as img:\n",
        "                    stat = ImageStat.Stat(img)\n",
        "                    if all(v == stat.mean[0] for v in stat.mean):\n",
        "                        deleted_files.append(file)\n",
        "                    else:\n",
        "                        relative_path = os.path.relpath(root, cut_dir)\n",
        "                        save_dir = os.path.join(selection_dir, relative_path)\n",
        "                        os.makedirs(save_dir, exist_ok=True)\n",
        "                        img.save(os.path.join(save_dir, file))\n",
        "            except Exception as e:\n",
        "                print(f\"Error processing {img_path}: {e}\")\n",
        "\n",
        "# Mostrar cantidad y nombres de archivos borrados\n",
        "deleted_files.sort()\n",
        "print(f\"Cantidad de archivos borrados: {len(deleted_files)}\")\n",
        "print(\"Nombres de los archivos borrados en orden alfabético:\")\n",
        "for fname in deleted_files:\n",
        "    print(fname)\n",
        "\n",
        "# Agregar dataset/selection a DVC y hacer commit\n",
        "!dvc add /content/dataset/selection\n",
        "!git add dataset/selection.dvc\n",
        "!git commit -m \"Add selected images to DVC\"\n",
        "\n",
        "# FINAL: Empaquetar los Resultados para Descargar\n",
        "import shutil\n",
        "shutil.make_archive('/content/dataset_resultados', 'zip', '/content/dataset')\n",
        "\n",
        "# Descargar el archivo ZIP con los resultados\n",
        "from google.colab import files\n",
        "files.download('/content/dataset_resultados.zip')"
      ],
      "metadata": {
        "colab": {
          "base_uri": "https://localhost:8080/",
          "height": 1000
        },
        "id": "P2uR3TfDFXzj",
        "outputId": "238df51f-a4ec-4321-ef69-7178daea0053"
      },
      "execution_count": 11,
      "outputs": [
        {
          "output_type": "stream",
          "name": "stdout",
          "text": [
            "Cantidad de archivos borrados: 83\n",
            "Nombres de los archivos borrados en orden alfabético:\n",
            "00000003_1.jpg\n",
            "00000003_4.jpg\n",
            "00000008_1.jpg\n",
            "00000008_4.jpg\n",
            "00000011_1.jpg\n",
            "00000011_4.jpg\n",
            "00000024_1.jpg\n",
            "00000024_4.jpg\n",
            "00000025_1.jpg\n",
            "00000025_2.jpg\n",
            "00000025_3.jpg\n",
            "00000025_4.jpg\n",
            "00000028_1.jpg\n",
            "00000028_4.jpg\n",
            "00000031_1.jpg\n",
            "00000031_4.jpg\n",
            "00000034_1.jpg\n",
            "00000034_4.jpg\n",
            "00000044_1.jpg\n",
            "00000044_2.jpg\n",
            "00000044_3.jpg\n",
            "00000044_4.jpg\n",
            "00000062_1.jpg\n",
            "00000062_2.jpg\n",
            "00000062_4.jpg\n",
            "00000068_1.jpg\n",
            "00000068_2.jpg\n",
            "00000068_3.jpg\n",
            "00000068_4.jpg\n",
            "00000070_1.jpg\n",
            "00000070_4.jpg\n",
            "00000071_1.jpg\n",
            "00000071_2.jpg\n",
            "00000071_3.jpg\n",
            "00000071_4.jpg\n",
            "00000074_1.jpg\n",
            "00000074_2.jpg\n",
            "00000074_3.jpg\n",
            "00000074_4.jpg\n",
            "00000078_1.jpg\n",
            "00000078_4.jpg\n",
            "00000079_1.jpg\n",
            "00000079_4.jpg\n",
            "00000088_1.jpg\n",
            "00000088_4.jpg\n",
            "00000109_1.jpg\n",
            "00000109_4.jpg\n",
            "00000113_1.jpg\n",
            "00000113_2.jpg\n",
            "00000113_3.jpg\n",
            "00000113_4.jpg\n",
            "00000114_4.jpg\n",
            "00000115_4.jpg\n",
            "00000117_1.jpg\n",
            "00000117_4.jpg\n",
            "00000120_1.jpg\n",
            "00000120_4.jpg\n",
            "00000130_1.jpg\n",
            "00000130_4.jpg\n",
            "00000136_1.jpg\n",
            "00000136_4.jpg\n",
            "00000150_1.jpg\n",
            "00000150_2.jpg\n",
            "00000150_3.jpg\n",
            "00000150_4.jpg\n",
            "00000151_1.jpg\n",
            "00000151_2.jpg\n",
            "00000151_3.jpg\n",
            "00000151_4.jpg\n",
            "00000158_1.jpg\n",
            "00000158_4.jpg\n",
            "00000177_1.jpg\n",
            "00000177_4.jpg\n",
            "00000178_1.jpg\n",
            "00000178_4.jpg\n",
            "00000189_1.jpg\n",
            "00000189_2.jpg\n",
            "00000189_3.jpg\n",
            "00000189_4.jpg\n",
            "00000193_1.jpg\n",
            "00000193_2.jpg\n",
            "00000195_1.jpg\n",
            "00000195_4.jpg\n",
            "\u001b[?25l\u001b[32m⠋\u001b[0m Checking graph\n",
            "Adding...:   0% 0/1 [00:00<?, ?file/s{'info': ''}]\n",
            "!\u001b[A\n",
            "          |0.00 [00:00,     ?file/s]\u001b[A\n",
            "                                    \u001b[A\n",
            "!\u001b[A\n",
            "  0% |          |0/? [00:00<?,    ?files/s]\u001b[A\n",
            "                                           \u001b[A\n",
            "Adding dataset/selection to cache:   0% 0/219 [00:00<?, ?file/s]\u001b[A\n",
            "Adding dataset/selection to cache:   0% 0/219 [00:00<?, ?file/s{'info': ''}]\u001b[A\n",
            "                                                                            \u001b[A\n",
            "!\u001b[A\n",
            "Checking out /content/dataset/selection          |0.00 [00:00,    ?files/s]\u001b[A\n",
            "Adding...: 100% 1/1 [00:00<00:00,  7.25file/s{'info': ''}]\n",
            "\n",
            "To track the changes with git, run:\n",
            "\n",
            "\tgit add dataset/selection.dvc dataset/.gitignore\n",
            "\n",
            "To enable auto staging, run:\n",
            "\n",
            "\tdvc config core.autostage true\n",
            "\u001b[0m[master 429a0e4] Add selected images to DVC\n",
            " 1 file changed, 6 insertions(+)\n",
            " create mode 100644 dataset/selection.dvc\n"
          ]
        },
        {
          "output_type": "display_data",
          "data": {
            "text/plain": [
              "<IPython.core.display.Javascript object>"
            ],
            "application/javascript": [
              "\n",
              "    async function download(id, filename, size) {\n",
              "      if (!google.colab.kernel.accessAllowed) {\n",
              "        return;\n",
              "      }\n",
              "      const div = document.createElement('div');\n",
              "      const label = document.createElement('label');\n",
              "      label.textContent = `Downloading \"${filename}\": `;\n",
              "      div.appendChild(label);\n",
              "      const progress = document.createElement('progress');\n",
              "      progress.max = size;\n",
              "      div.appendChild(progress);\n",
              "      document.body.appendChild(div);\n",
              "\n",
              "      const buffers = [];\n",
              "      let downloaded = 0;\n",
              "\n",
              "      const channel = await google.colab.kernel.comms.open(id);\n",
              "      // Send a message to notify the kernel that we're ready.\n",
              "      channel.send({})\n",
              "\n",
              "      for await (const message of channel.messages) {\n",
              "        // Send a message to notify the kernel that we're ready.\n",
              "        channel.send({})\n",
              "        if (message.buffers) {\n",
              "          for (const buffer of message.buffers) {\n",
              "            buffers.push(buffer);\n",
              "            downloaded += buffer.byteLength;\n",
              "            progress.value = downloaded;\n",
              "          }\n",
              "        }\n",
              "      }\n",
              "      const blob = new Blob(buffers, {type: 'application/binary'});\n",
              "      const a = document.createElement('a');\n",
              "      a.href = window.URL.createObjectURL(blob);\n",
              "      a.download = filename;\n",
              "      div.appendChild(a);\n",
              "      a.click();\n",
              "      div.remove();\n",
              "    }\n",
              "  "
            ]
          },
          "metadata": {}
        },
        {
          "output_type": "display_data",
          "data": {
            "text/plain": [
              "<IPython.core.display.Javascript object>"
            ],
            "application/javascript": [
              "download(\"download_69db55db-e511-4f0a-994e-90299293c9fa\", \"dataset_resultados.zip\", 16410568)"
            ]
          },
          "metadata": {}
        }
      ]
    }
  ]
}