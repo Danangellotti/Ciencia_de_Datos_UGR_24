{
  "nbformat": 4,
  "nbformat_minor": 0,
  "metadata": {
    "colab": {
      "provenance": [],
      "authorship_tag": "ABX9TyMhGs4qzKQtDTdHllatFcEP",
      "include_colab_link": true
    },
    "kernelspec": {
      "name": "python3",
      "display_name": "Python 3"
    },
    "language_info": {
      "name": "python"
    }
  },
  "cells": [
    {
      "cell_type": "markdown",
      "metadata": {
        "id": "view-in-github",
        "colab_type": "text"
      },
      "source": [
        "<a href=\"https://colab.research.google.com/github/Danangellotti/Ciencia_de_Datos_UGR_24/blob/main/Interfaz.ipynb\" target=\"_parent\"><img src=\"https://colab.research.google.com/assets/colab-badge.svg\" alt=\"Open In Colab\"/></a>"
      ]
    },
    {
      "cell_type": "code",
      "execution_count": null,
      "metadata": {
        "id": "NqF5W9wCQt4D"
      },
      "outputs": [],
      "source": []
    },
    {
      "cell_type": "code",
      "source": [
        "# @title Carga de datos\n",
        "#@markdown #Formulario para la carga de Datos\n",
        "#@markdown ---\n",
        "\n",
        "raw_ = \"vacio\" #@param {type: \"raw\"}\n",
        "str_ = \"str\" #@param {type: \"string\"}\n",
        "int_ = 102 #@param {type: \"integer\"}\n",
        "float_ = 3.14 #@param {type: \"number\"}\n",
        "boolean_ = True #@param {type: \"boolean\"}\n",
        "date_ = '2010-11-05' #@param {type: \"date\"}\n",
        "\n",
        "#@markdown ---\n",
        "slider = 0.5 #@param {type: \"slider\", min: 0, max: 1, step: 0.01}\n",
        "dropdown = \"2 años\" #@param [\"1 año\", \"2 años\", \"3 años\"]\n",
        "dropdown_input = \"1 año\" #@param [\"\", \"1 año\", \"2 años\", \"3 años\"]"
      ],
      "metadata": {
        "cellView": "form",
        "id": "SPFsF9pLlVze"
      },
      "execution_count": null,
      "outputs": []
    },
    {
      "cell_type": "markdown",
      "source": [
        "\n",
        "\n",
        "*   ***Diferencia entre % y !***\n",
        "\n",
        "   % (Magic Commands): Son comandos especiales que te ayudan a hacer cosas rápidas dentro de Google Colab, como medir el tiempo que tarda en ejecutarse una línea de código.\n",
        "\n",
        "Ejemplo: %timeit x + y mide cuánto tarda en ejecutarse esa suma.\n",
        "\n",
        "  ! (Comandos del sistema): Esto te permite escribir y ejecutar comandos como si estuvieras usando la terminal de tu computadora, como listar archivos o instalar programas.\n",
        "\n",
        "Ejemplo: !ls muestra los archivos en la carpeta actual.\n",
        "\n",
        "En resumen:\n",
        "\n",
        "Usa % para comandos rápidos y específicos de Colab.\n",
        "Usa ! para comandos de la terminal, como si estuvieras en la consola de tu computadora\n",
        "\n",
        "\n",
        "\n"
      ],
      "metadata": {
        "id": "K6EWk3oTU94p"
      }
    },
    {
      "cell_type": "markdown",
      "source": [
        "*  *** Montar y desmontar Google Drive***"
      ],
      "metadata": {
        "id": "sFSx0ZafuKdj"
      }
    },
    {
      "cell_type": "code",
      "source": [
        "from google.colab import drive\n",
        "drive.mount('/content/drive')"
      ],
      "metadata": {
        "id": "3dUKKwZlqIZn",
        "colab": {
          "base_uri": "https://localhost:8080/"
        },
        "outputId": "e1ec99c1-356b-49eb-9480-1b6a323d9424"
      },
      "execution_count": 4,
      "outputs": [
        {
          "output_type": "stream",
          "name": "stdout",
          "text": [
            "Drive already mounted at /content/drive; to attempt to forcibly remount, call drive.mount(\"/content/drive\", force_remount=True).\n"
          ]
        }
      ]
    },
    {
      "cell_type": "code",
      "source": [
        "drive.flush_and_unmount()"
      ],
      "metadata": {
        "id": "8OyTlzu8u5Dv"
      },
      "execution_count": 5,
      "outputs": []
    },
    {
      "cell_type": "code",
      "source": [
        "drive.mount('/content/drive')"
      ],
      "metadata": {
        "colab": {
          "base_uri": "https://localhost:8080/"
        },
        "id": "UFhVd35vvXwm",
        "outputId": "fbf39731-a822-4033-d6d2-f1e19385be1e"
      },
      "execution_count": 6,
      "outputs": [
        {
          "output_type": "stream",
          "name": "stdout",
          "text": [
            "Mounted at /content/drive\n"
          ]
        }
      ]
    },
    {
      "cell_type": "markdown",
      "source": [
        "*  ***Comandos tipicos para la creacion de carpetas***"
      ],
      "metadata": {
        "id": "m4qg41V_wR5s"
      }
    },
    {
      "cell_type": "code",
      "source": [
        "# !mkdir del linux\n",
        "# %mkdir del interprete\n",
        "# utilizando el modulo de sistema operativo\n",
        "import os\n",
        "os.makedirs('/content/drive/MyDrive/test', exist_ok=True)"
      ],
      "metadata": {
        "id": "28JwypJlv1TF"
      },
      "execution_count": 7,
      "outputs": []
    },
    {
      "cell_type": "code",
      "source": [
        "with open('/content/drive/MyDrive/test/holamundo.txt', 'w') as w:\n",
        "  w.write('Hola mundo')"
      ],
      "metadata": {
        "id": "30en5iAoyMvK"
      },
      "execution_count": 8,
      "outputs": []
    },
    {
      "cell_type": "code",
      "source": [
        "with open('/content/drive/MyDrive/test/holamundo.txt') as r:\n",
        "  print(r.read())"
      ],
      "metadata": {
        "colab": {
          "base_uri": "https://localhost:8080/"
        },
        "id": "dnlzwD_7y0A5",
        "outputId": "af7dd39b-35bf-442c-d642-cc5e80e0f4a8"
      },
      "execution_count": 9,
      "outputs": [
        {
          "output_type": "stream",
          "name": "stdout",
          "text": [
            "Hola mundo\n"
          ]
        }
      ]
    },
    {
      "cell_type": "markdown",
      "source": [
        "***Creacion de carpeta de descarga***\n",
        "\n",
        "\n"
      ],
      "metadata": {
        "id": "gEKvvaewzyVL"
      }
    },
    {
      "cell_type": "code",
      "source": [
        "os.makedirs('/content/drive/MyDrive/python', exist_ok=True)\n",
        "!wget -O /content/drive/MyDrive/python/ejemplo.py https://filesamples.com/samples/code/py/sample3.py"
      ],
      "metadata": {
        "colab": {
          "base_uri": "https://localhost:8080/"
        },
        "id": "bibFMx55zpkD",
        "outputId": "b942849b-3ed8-4408-f7c0-7a216df60b28"
      },
      "execution_count": 10,
      "outputs": [
        {
          "output_type": "stream",
          "name": "stdout",
          "text": [
            "--2024-08-23 15:31:38--  https://filesamples.com/samples/code/py/sample3.py\n",
            "Resolving filesamples.com (filesamples.com)... 172.67.178.244, 104.21.17.252, 2606:4700:3035::6815:11fc, ...\n",
            "Connecting to filesamples.com (filesamples.com)|172.67.178.244|:443... connected.\n",
            "HTTP request sent, awaiting response... 200 OK\n",
            "Length: unspecified [application/octet-stream]\n",
            "Saving to: ‘/content/drive/MyDrive/python/ejemplo.py’\n",
            "\n",
            "/content/drive/MyDr     [ <=>                ]     338  --.-KB/s    in 0s      \n",
            "\n",
            "2024-08-23 15:31:39 (38.7 MB/s) - ‘/content/drive/MyDrive/python/ejemplo.py’ saved [338]\n",
            "\n"
          ]
        }
      ]
    },
    {
      "cell_type": "code",
      "source": [
        "drive.flush_and_unmount()"
      ],
      "metadata": {
        "id": "qWiAJQiz4Xra"
      },
      "execution_count": 11,
      "outputs": []
    }
  ]
}