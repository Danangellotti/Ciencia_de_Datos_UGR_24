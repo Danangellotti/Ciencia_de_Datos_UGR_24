{
  "nbformat": 4,
  "nbformat_minor": 0,
  "metadata": {
    "colab": {
      "provenance": [],
      "include_colab_link": true
    },
    "kernelspec": {
      "name": "python3",
      "display_name": "Python 3"
    },
    "language_info": {
      "name": "python"
    }
  },
  "cells": [
    {
      "cell_type": "markdown",
      "metadata": {
        "id": "view-in-github",
        "colab_type": "text"
      },
      "source": [
        "<a href=\"https://colab.research.google.com/github/Danangellotti/Ciencia_de_Datos_UGR_24/blob/main/Encuentro2_Analisis_ExploratorioParte2_ConRespuestas.ipynb\" target=\"_parent\"><img src=\"https://colab.research.google.com/assets/colab-badge.svg\" alt=\"Open In Colab\"/></a>"
      ]
    },
    {
      "cell_type": "markdown",
      "metadata": {
        "id": "xI5go49EMlPc"
      },
      "source": [
        "# **MeTCaMPDatos**\n",
        "\n",
        "\n",
        "**Edición 2021**\n",
        "\n",
        "<img src=\"https://i.imgur.com/HnKHks1.png\" height=\"150\" />"
      ]
    },
    {
      "cell_type": "markdown",
      "metadata": {
        "id": "DS6341qGMnkf"
      },
      "source": [
        "## Aventurándonos en el mundo de los **datos**\n",
        "En éste Notebook profundizaremos en los diferentes tipos de análisis que podemos realizar en un set de datos:\n",
        "- Medidas de estadística descriptiva.\n",
        "- Visualizaciones.\n",
        "- Probabilidades.\n",
        "\n",
        "## Objetivos\n",
        "- Introducir funciones necesarias para una exploración inicial del dataset.\n",
        "- Brindar nociones básicas de diferentes medidas de estadística descriptiva aplicadas.\n",
        "- Pensar preguntas o problemas y definir las variables de interés.\n",
        "- Descubrir un primer insight que aporte valor al análisis.\n"
      ]
    },
    {
      "cell_type": "markdown",
      "metadata": {
        "id": "BoCccxiZMniI"
      },
      "source": [
        "## Herramientas de trabajo\n",
        "En esta oportunidad vamos a utilizar el lenguaje de programación \"Python\" junto con la herramienta web \"Google Colab\" para realizar nuestro primer análisis de la encuesta de sueldos. Recorda que Colab es un servicio cloud basado en los Notebooks de Jupyter, por lo tanto no es necesario descargar nada. A su vez, nos iniciaremos en un primer uso de herramientas de software libre, es decir no necesitas una licencia para porder utilizarlas.\n",
        "\n",
        "<center>\n",
        "<img src=\"https://i.imgur.com/Cq52LcH.png\" height=\"150\" />\n",
        "</center>"
      ]
    },
    {
      "cell_type": "markdown",
      "metadata": {
        "id": "Ydb76XaXMngF"
      },
      "source": [
        "## Explorando algunos datos\n",
        "Vamos a trabajar con un set de datos obtenido de **SysArmy** que se denomina **\"Encuesta de Sueldos\"** y se puede consultar en: [este sitio](https://sysarmy.com/blog/posts/resultados-de-la-encuesta-de-sueldos-2020-2/).\n",
        "\n",
        "<center>\n",
        "<img src=\"https://i.imgur.com/ivxTHhG.png\" height=\"150\" />\n",
        "</center>\n",
        "\n",
        "Sysarmy es una organización internacional perteneciente a la comunidad de sistemas que nuclea a profesionales del área para favorecer el contacto y el intercambio de conocimiento de manera informal. Anualmente desarrollan una encuesta de sueldos con el objetivo de obtener información sobre la situación laboral actual en tecnología, evalúan el máximo nivel educativo alcanzado de los encuestados y brindan información sobre diferentes empresas."
      ]
    },
    {
      "cell_type": "markdown",
      "metadata": {
        "id": "d9jSJd7SM79N"
      },
      "source": [
        "## ¿Que es \"EDA\"?\n",
        "\n",
        "En sus siglas en inglés hace referencia al **Análisis Exploratorio de Datos**. Este es el primer paso que debemos realizar como Data Scientists y consta de una primera revisión del estado de los datos y los consecuentes pasos necesarios para una correcta transformación.\n",
        "\n",
        "La ciencia de datos es una disciplina que te permite convertir datos crudos en entendimiento, comprensión y conocimiento.\n",
        "\n",
        "<center>\n",
        "<img src=\"https://i.imgur.com/jclXnDS.png\" height=\"200\" />\n",
        "</center>\n",
        "\n",
        "\n",
        "En este sentido, el primer objetivo radica en preguntarnos **¿De qué se trata este dataset?**"
      ]
    },
    {
      "cell_type": "markdown",
      "metadata": {
        "id": "anWy3jroM76y"
      },
      "source": [
        "## Importación de librerías\n",
        "\n",
        "El concepto correcto en español es \"biblioteca\". Una biblioteca es básicamente un componente de software que nos brinda acceso a distintas funcionalidades.\n",
        "Existen librerías con funciones para leer un archivo excel o csv y trabajar los datos como tablas (librería Pandas, por ejemplo), otras con funciones para graficar nuestros datos (como Seaborn), para trabajar con cálculo numérico (como Numpy).\n",
        "Cualquiera sea el lenguaje con el que se decida programar, será útil conocer mediante la página oficial del lenguaje cuáles son las librerías disponibles, que nos facilitarán, en éste caso, el análisis de datos."
      ]
    },
    {
      "cell_type": "code",
      "metadata": {
        "id": "b55PQY8xNSBJ"
      },
      "source": [
        "import matplotlib\n",
        "import matplotlib.pyplot as plt\n",
        "import numpy as np\n",
        "import pandas as pd\n",
        "import seaborn as sns\n",
        "\n",
        "sns.set(rc={'figure.figsize':(10,6)})"
      ],
      "execution_count": null,
      "outputs": []
    },
    {
      "cell_type": "markdown",
      "metadata": {
        "id": "SrJnK_U-M74h"
      },
      "source": [
        "## Lectura del dataset\n",
        "\n",
        "Vamos a trabajar con el dataset de encuesta de sueldos de Sysarmy, con las columnas renombradas (sin espacios, ni acentos, ni preguntas largas), que se realizó en el primer encuentro.\n",
        "Éste archivo \"renombrado\" en formato csv, ya se encuentra en el repositorio GitHub de MET.\n",
        "No es necesario descargarlo, se puede \"leer\" en éste notebook directamente desde el link de GitHub.\n",
        "\n",
        "Los datos que leamos desde el archivo en formato [csv](https://es.wikipedia.org/wiki/Valores_separados_por_comas), se guardarán en una variable llamada `df` que es un objeto del tipo `DataFrame`.\n",
        "\n",
        "Un `DataFrame` es una estructura de datos con dos dimensiones en la cual se puede guardar datos de distintos tipos (como caractéres, enteros, valores de punto flotante y más) en columnas. Es similar a una hoja de cálculo o una tabla de SQL. Un DataFrame siempre tiene un índice (con inicio en 0). El índice refiere a la posición de un elemento en la estructura de datos.\n",
        "\n",
        "<center>\n",
        "<img src=\"https://media.geeksforgeeks.org/wp-content/uploads/finallpandas.png\n",
        "\" height=\"350\" />\n",
        "</center>\n"
      ]
    },
    {
      "cell_type": "code",
      "metadata": {
        "colab": {
          "base_uri": "https://localhost:8080/",
          "height": 246
        },
        "id": "817_eWHpNboj",
        "outputId": "11664fe7-0315-4407-d6ff-4fdf1353b94c"
      },
      "source": [
        "url = 'https://raw.githubusercontent.com/MeT2021/MeTCamp-Data-Science/main/Encuentro2/Dataset/sysarmy_2020_renamed.csv'\n",
        "df = pd.read_csv(url, index_col=0)\n",
        "df[:3] # Es otra manera de ver las primeras filas, similar a .head()"
      ],
      "execution_count": null,
      "outputs": [
        {
          "output_type": "execute_result",
          "data": {
            "text/html": [
              "<div>\n",
              "<style scoped>\n",
              "    .dataframe tbody tr th:only-of-type {\n",
              "        vertical-align: middle;\n",
              "    }\n",
              "\n",
              "    .dataframe tbody tr th {\n",
              "        vertical-align: top;\n",
              "    }\n",
              "\n",
              "    .dataframe thead th {\n",
              "        text-align: right;\n",
              "    }\n",
              "</style>\n",
              "<table border=\"1\" class=\"dataframe\">\n",
              "  <thead>\n",
              "    <tr style=\"text-align: right;\">\n",
              "      <th></th>\n",
              "      <th>perfil_genero</th>\n",
              "      <th>perfil_edad</th>\n",
              "      <th>trabajo_pais</th>\n",
              "      <th>trabajo_provincia</th>\n",
              "      <th>perfil_anos_experiencia</th>\n",
              "      <th>trabajo_anios_empresa_actual</th>\n",
              "      <th>trabajo_anios_puesto_actual</th>\n",
              "      <th>trabajo_personas_a_cargo</th>\n",
              "      <th>perfil_nivel_estudios</th>\n",
              "      <th>perfil_estado_estudios</th>\n",
              "      <th>perfil_carrera</th>\n",
              "      <th>perfil_universidad</th>\n",
              "      <th>perfil_cursos_especializacion</th>\n",
              "      <th>perfil_contribuciones_open_source</th>\n",
              "      <th>perfil_programa_como_hobbie</th>\n",
              "      <th>trabajo_rol</th>\n",
              "      <th>herramientas_plataforma</th>\n",
              "      <th>herramientas_languagjs_programacion</th>\n",
              "      <th>herramientas_frameworks</th>\n",
              "      <th>herramientas_data_bases</th>\n",
              "      <th>herramientas_qa_testing</th>\n",
              "      <th>herramientas_IDEs</th>\n",
              "      <th>herramientas_sistema_operativo_pc</th>\n",
              "      <th>herramientas_sistema_operativo_cel</th>\n",
              "      <th>trabajo_guardias</th>\n",
              "      <th>salario_guardias_pago</th>\n",
              "      <th>trabajo_guardias_tipo_pago</th>\n",
              "      <th>trabajo_tipo_contrato</th>\n",
              "      <th>salario_mensual_BRUTO</th>\n",
              "      <th>salario_mensual_NETO</th>\n",
              "      <th>salario_salario_dolares</th>\n",
              "      <th>salario_conformidad_sueldo</th>\n",
              "      <th>salario_comparacion_sueldo_semestre_anterior</th>\n",
              "      <th>salario_bonos</th>\n",
              "      <th>salario_bono_atado_a</th>\n",
              "      <th>salario_ajustes_inflacion_2020</th>\n",
              "      <th>salario_porcentaje_inflacion_ajuste_2020</th>\n",
              "      <th>salario_mes_ultimo_ajuste_inflacion</th>\n",
              "      <th>trabajo_violencia_laboral</th>\n",
              "      <th>perfil_orientacion_sexual</th>\n",
              "      <th>perfil_discapacidad</th>\n",
              "      <th>perfil_dificultad_ser_contratada_discapacidad</th>\n",
              "      <th>compania_cantidad_empleadxs</th>\n",
              "      <th>compania_actividad_princiapl</th>\n",
              "      <th>compania_recomendacion_lugar_trabajo</th>\n",
              "      <th>compania_politicas_inclusion</th>\n",
              "      <th>compania_beneficios_extra</th>\n",
              "      <th>compania_mejor_compania_ciudad</th>\n",
              "    </tr>\n",
              "  </thead>\n",
              "  <tbody>\n",
              "    <tr>\n",
              "      <th>0</th>\n",
              "      <td>Mujer</td>\n",
              "      <td>26</td>\n",
              "      <td>Argentina</td>\n",
              "      <td>Ciudad Autónoma de Buenos Aires</td>\n",
              "      <td>3.0</td>\n",
              "      <td>3.0</td>\n",
              "      <td>3.0</td>\n",
              "      <td>0</td>\n",
              "      <td>Universitario</td>\n",
              "      <td>En curso</td>\n",
              "      <td>Ingeniería en Sistemas de Información</td>\n",
              "      <td>UTN - Universidad Tecnológica Nacional</td>\n",
              "      <td>Sí, los pagó un empleador</td>\n",
              "      <td>No</td>\n",
              "      <td>Sí</td>\n",
              "      <td>Consultant</td>\n",
              "      <td>Ninguna</td>\n",
              "      <td>Ninguno</td>\n",
              "      <td>Ninguno</td>\n",
              "      <td>Ninguna</td>\n",
              "      <td>Ninguna</td>\n",
              "      <td>Ninguno</td>\n",
              "      <td>GNU/Linux</td>\n",
              "      <td>Android</td>\n",
              "      <td>No</td>\n",
              "      <td>0.0</td>\n",
              "      <td>Bruto</td>\n",
              "      <td>Full-Time</td>\n",
              "      <td>53000.0</td>\n",
              "      <td>43000.0</td>\n",
              "      <td>NaN</td>\n",
              "      <td>1</td>\n",
              "      <td>1</td>\n",
              "      <td>No</td>\n",
              "      <td>No recibo bono</td>\n",
              "      <td>No</td>\n",
              "      <td>0.0</td>\n",
              "      <td>0</td>\n",
              "      <td>En mi trabajo actual</td>\n",
              "      <td>Homosexual</td>\n",
              "      <td>NaN</td>\n",
              "      <td>NaN</td>\n",
              "      <td>501-1000</td>\n",
              "      <td>Servicios / Consultoría de Software / Digital</td>\n",
              "      <td>7</td>\n",
              "      <td>2</td>\n",
              "      <td>Capacitaciones y/o cursos, Comidas pagas / sub...</td>\n",
              "      <td>NaN</td>\n",
              "    </tr>\n",
              "    <tr>\n",
              "      <th>1</th>\n",
              "      <td>Hombre</td>\n",
              "      <td>29</td>\n",
              "      <td>Argentina</td>\n",
              "      <td>Corrientes</td>\n",
              "      <td>5.0</td>\n",
              "      <td>2.0</td>\n",
              "      <td>2.0</td>\n",
              "      <td>4</td>\n",
              "      <td>Universitario</td>\n",
              "      <td>En curso</td>\n",
              "      <td>Ingeniería en Sistemas de Información</td>\n",
              "      <td>UTN - Universidad Tecnológica Nacional</td>\n",
              "      <td>Sí, de forma particular, Sí, los pagó un emple...</td>\n",
              "      <td>No</td>\n",
              "      <td>Sí</td>\n",
              "      <td>Developer</td>\n",
              "      <td>Docker, Google Cloud Platform/App Engine</td>\n",
              "      <td>HTML, Javascript, Python</td>\n",
              "      <td>Django, jQuery</td>\n",
              "      <td>Informix, MySQL, PostgreSQL</td>\n",
              "      <td>Ninguna</td>\n",
              "      <td>IPython / Jupyter, Sublime Text, Visual Studio...</td>\n",
              "      <td>GNU/Linux</td>\n",
              "      <td>Android</td>\n",
              "      <td>No</td>\n",
              "      <td>0.0</td>\n",
              "      <td>Bruto</td>\n",
              "      <td>Full-Time</td>\n",
              "      <td>79000.0</td>\n",
              "      <td>63000.0</td>\n",
              "      <td>NaN</td>\n",
              "      <td>2</td>\n",
              "      <td>2</td>\n",
              "      <td>Menos de un sueldo</td>\n",
              "      <td>Performance de la compañía</td>\n",
              "      <td>Uno</td>\n",
              "      <td>10.0</td>\n",
              "      <td>1</td>\n",
              "      <td>Jamás</td>\n",
              "      <td>Heterosexual</td>\n",
              "      <td>Visual</td>\n",
              "      <td>No</td>\n",
              "      <td>201-500</td>\n",
              "      <td>Otras industrias</td>\n",
              "      <td>8</td>\n",
              "      <td>9</td>\n",
              "      <td>Horarios flexibles, Stock options / RSUs, Viát...</td>\n",
              "      <td>NaN</td>\n",
              "    </tr>\n",
              "    <tr>\n",
              "      <th>2</th>\n",
              "      <td>Mujer</td>\n",
              "      <td>22</td>\n",
              "      <td>Argentina</td>\n",
              "      <td>Ciudad Autónoma de Buenos Aires</td>\n",
              "      <td>2.0</td>\n",
              "      <td>0.0</td>\n",
              "      <td>0.0</td>\n",
              "      <td>0</td>\n",
              "      <td>Secundario</td>\n",
              "      <td>Completado</td>\n",
              "      <td>NaN</td>\n",
              "      <td>NaN</td>\n",
              "      <td>Sí, de forma particular, Sí, los pagó un emple...</td>\n",
              "      <td>No</td>\n",
              "      <td>Sí</td>\n",
              "      <td>Infosec</td>\n",
              "      <td>Linux, VMWare</td>\n",
              "      <td>Ninguno</td>\n",
              "      <td>Ninguno</td>\n",
              "      <td>Ninguna</td>\n",
              "      <td>Ninguna</td>\n",
              "      <td>Ninguno</td>\n",
              "      <td>Windows</td>\n",
              "      <td>iOS</td>\n",
              "      <td>No</td>\n",
              "      <td>0.0</td>\n",
              "      <td>Porcentaje de mi sueldo</td>\n",
              "      <td>Full-Time</td>\n",
              "      <td>160000.0</td>\n",
              "      <td>127000.0</td>\n",
              "      <td>NaN</td>\n",
              "      <td>3</td>\n",
              "      <td>3</td>\n",
              "      <td>Un sueldo</td>\n",
              "      <td>Performance individual</td>\n",
              "      <td>No</td>\n",
              "      <td>0.0</td>\n",
              "      <td>0</td>\n",
              "      <td>En un trabajo anterior</td>\n",
              "      <td>Bisexual o queer</td>\n",
              "      <td>NaN</td>\n",
              "      <td>No</td>\n",
              "      <td>2001-5000</td>\n",
              "      <td>Otras industrias</td>\n",
              "      <td>6</td>\n",
              "      <td>9</td>\n",
              "      <td>Clases de gimnasia online, Comidas pagas / sub...</td>\n",
              "      <td>NaN</td>\n",
              "    </tr>\n",
              "  </tbody>\n",
              "</table>\n",
              "</div>"
            ],
            "text/plain": [
              "  perfil_genero  ...  compania_mejor_compania_ciudad\n",
              "0         Mujer  ...                             NaN\n",
              "1        Hombre  ...                             NaN\n",
              "2         Mujer  ...                             NaN\n",
              "\n",
              "[3 rows x 48 columns]"
            ]
          },
          "metadata": {
            "tags": []
          },
          "execution_count": 2
        }
      ]
    },
    {
      "cell_type": "markdown",
      "metadata": {
        "id": "tLuKVLYZx8QR"
      },
      "source": [
        "**Importante:** este dataframe ya tiene las transformaciones que realizaron en el encuentro pasado (ejemplo: años -> anos)."
      ]
    },
    {
      "cell_type": "markdown",
      "metadata": {
        "id": "VgEj5uaaM7za"
      },
      "source": [
        "La función `.shape`, nos devuelve la cantidad de **filas** de nuestro conjunto de datos, y el segundo valor hace referencia a la cantidad de **columnas**."
      ]
    },
    {
      "cell_type": "code",
      "metadata": {
        "colab": {
          "base_uri": "https://localhost:8080/"
        },
        "id": "4prr60hrM7R8",
        "outputId": "9dac2717-e7cb-4143-c41a-2e5011413cf1"
      },
      "source": [
        "df.shape"
      ],
      "execution_count": null,
      "outputs": [
        {
          "output_type": "execute_result",
          "data": {
            "text/plain": [
              "(6095, 48)"
            ]
          },
          "metadata": {
            "tags": []
          },
          "execution_count": 3
        }
      ]
    },
    {
      "cell_type": "markdown",
      "metadata": {
        "id": "WhxNhUe4Nv7y"
      },
      "source": [
        "La función `.columns`, nos devuelve un listado de los nombres de cada una de las columnas de **dataframe**. Saber el nombre de las columnas nos permitirá trabajar con los datos de las/s columna/s de nuestro interés, y aplicarle diferentes análisis para obtener conclusiones."
      ]
    },
    {
      "cell_type": "code",
      "metadata": {
        "colab": {
          "base_uri": "https://localhost:8080/"
        },
        "id": "m6B5VncoNvRI",
        "outputId": "2e06a4cb-583e-43e6-a27f-f09db99b110d"
      },
      "source": [
        "df.columns"
      ],
      "execution_count": null,
      "outputs": [
        {
          "output_type": "execute_result",
          "data": {
            "text/plain": [
              "Index(['perfil_genero', 'perfil_edad', 'trabajo_pais', 'trabajo_provincia',\n",
              "       'perfil_anos_experiencia', 'trabajo_anios_empresa_actual',\n",
              "       'trabajo_anios_puesto_actual', 'trabajo_personas_a_cargo',\n",
              "       'perfil_nivel_estudios', 'perfil_estado_estudios', 'perfil_carrera',\n",
              "       'perfil_universidad', 'perfil_cursos_especializacion',\n",
              "       'perfil_contribuciones_open_source', 'perfil_programa_como_hobbie',\n",
              "       'trabajo_rol', 'herramientas_plataforma',\n",
              "       'herramientas_languagjs_programacion', 'herramientas_frameworks',\n",
              "       'herramientas_data_bases', 'herramientas_qa_testing',\n",
              "       'herramientas_IDEs', 'herramientas_sistema_operativo_pc',\n",
              "       'herramientas_sistema_operativo_cel', 'trabajo_guardias ',\n",
              "       'salario_guardias_pago', 'trabajo_guardias_tipo_pago ',\n",
              "       'trabajo_tipo_contrato', 'salario_mensual_BRUTO',\n",
              "       'salario_mensual_NETO', 'salario_salario_dolares',\n",
              "       'salario_conformidad_sueldo',\n",
              "       'salario_comparacion_sueldo_semestre_anterior ', 'salario_bonos',\n",
              "       'salario_bono_atado_a ', 'salario_ajustes_inflacion_2020 ',\n",
              "       'salario_porcentaje_inflacion_ajuste_2020',\n",
              "       'salario_mes_ultimo_ajuste_inflacion ', 'trabajo_violencia_laboral',\n",
              "       'perfil_orientacion_sexual', 'perfil_discapacidad',\n",
              "       'perfil_dificultad_ser_contratada_discapacidad',\n",
              "       'compania_cantidad_empleadxs', 'compania_actividad_princiapl',\n",
              "       'compania_recomendacion_lugar_trabajo', 'compania_politicas_inclusion',\n",
              "       'compania_beneficios_extra', 'compania_mejor_compania_ciudad'],\n",
              "      dtype='object')"
            ]
          },
          "metadata": {
            "tags": []
          },
          "execution_count": 4
        }
      ]
    },
    {
      "cell_type": "markdown",
      "metadata": {
        "id": "c468D0mJQjP3"
      },
      "source": [
        "## Variables aleatorias y sus tipos\n",
        "\n",
        "En base a la definición de variable aleatoria visto en la teoría, se puede hablar de que cada columna de nuestro dataset es un **variable aleatoria**, y que el valor de esa variable obtenido de cada respuesta es una **realización** de dicha variable. Pero, ¿qué tipo tienen esas variables?\n",
        "\n",
        "Conocer el tipo de datos de la o las variables de interés a analizar nos llevará a una elección correcta del tipo de gráfico a utilizar.\n",
        "\n",
        "<center>\n",
        "<img src=\"http://segasi.com.mx/clases/cide/recursos/tipo_variables_11.png\" height=\"400\" />\n",
        "</center>"
      ]
    },
    {
      "cell_type": "markdown",
      "metadata": {
        "id": "457mfNyEOSDX"
      },
      "source": [
        "Una buena forma de comenzar una exploración es a través de la **visualización**."
      ]
    },
    {
      "cell_type": "markdown",
      "metadata": {
        "id": "sRmiZRLoO4RQ"
      },
      "source": [
        "# Gráficos simples\n",
        "\n",
        "En esta notebook recorremos distintos tipos básicos de grafícos que pueden utilizarse en el análisis de datos, con aplicaciones prácticas. Nos centraremos no sólo el código para generarlos, sino también en algunos pequeños trucos para lograr gráficos más legibles.\n",
        "\n",
        "Es importante recordar que, a pesar de que esta notebook utiliza los datos para ejemplificar los gráficos, en la aplicación real de la ciencia de datos ocurre lo contrario. Debemos pensar primero en la pregunta a responder, y luego diseñar la visualización. Esto incluye:\n",
        "\n",
        "* Encontrar el gráfico adecuado para los datos\n",
        "* Agrupar los datos de manera que resalten el patrón que ayuda a responder la pregunta inicial.\n",
        "* Encontrar los encodings visuales más efectivos para comunicar este patrón (aunque no vamos a hablar tanto de eso en esta notebook).\n"
      ]
    },
    {
      "cell_type": "markdown",
      "metadata": {
        "id": "nql6v0PQPI0d"
      },
      "source": [
        "## Tablas\n",
        "\n",
        "Las tablas, como todas las que hemos estado usando hasta ahora, son muchas veces dejadas de lado en las visualizaciones. Sin embargo, son una de las formas de representación más poderosa. Usualmente partimos de una tabla para generar visualizaciones más complejas, pero esto no significa que generar buenas tablas no sea útil en el proceso de comunicación.\n",
        "\n",
        "* Muestran cantidades exactas\n",
        "* Representan cualquier tipo de datos\n",
        "* Son de acceso universal\n",
        "* Son fáciles de crear\n",
        "* Permiten visualizar muchas variables\n",
        "\n",
        "También pandas nos permite otras operaciones simples de estadística descriptiva. En la siguiente celda, estamos describiendo la distribución de la columna de salario neto, para distintos niveles de estudios.\n",
        "\n",
        "[Documentación \"Groupby\"](https://pandas.pydata.org/pandas-docs/stable/reference/api/pandas.DataFrame.groupby.html)\n",
        "\n"
      ]
    },
    {
      "cell_type": "code",
      "metadata": {
        "colab": {
          "base_uri": "https://localhost:8080/",
          "height": 295
        },
        "id": "D_nh0IIKM7P8",
        "outputId": "d8eeff76-64c7-4665-b724-7066db106f68"
      },
      "source": [
        "df[[\"perfil_nivel_estudios\", \"salario_mensual_NETO\"]].groupby(\"perfil_nivel_estudios\").mean() #sum()"
      ],
      "execution_count": null,
      "outputs": [
        {
          "output_type": "execute_result",
          "data": {
            "text/html": [
              "<div>\n",
              "<style scoped>\n",
              "    .dataframe tbody tr th:only-of-type {\n",
              "        vertical-align: middle;\n",
              "    }\n",
              "\n",
              "    .dataframe tbody tr th {\n",
              "        vertical-align: top;\n",
              "    }\n",
              "\n",
              "    .dataframe thead th {\n",
              "        text-align: right;\n",
              "    }\n",
              "</style>\n",
              "<table border=\"1\" class=\"dataframe\">\n",
              "  <thead>\n",
              "    <tr style=\"text-align: right;\">\n",
              "      <th></th>\n",
              "      <th>salario_mensual_NETO</th>\n",
              "    </tr>\n",
              "    <tr>\n",
              "      <th>perfil_nivel_estudios</th>\n",
              "      <th></th>\n",
              "    </tr>\n",
              "  </thead>\n",
              "  <tbody>\n",
              "    <tr>\n",
              "      <th>Doctorado</th>\n",
              "      <td>91629.115517</td>\n",
              "    </tr>\n",
              "    <tr>\n",
              "      <th>Posdoctorado</th>\n",
              "      <td>529875.000000</td>\n",
              "    </tr>\n",
              "    <tr>\n",
              "      <th>Posgrado</th>\n",
              "      <td>124166.795300</td>\n",
              "    </tr>\n",
              "    <tr>\n",
              "      <th>Primario</th>\n",
              "      <td>87500.000000</td>\n",
              "    </tr>\n",
              "    <tr>\n",
              "      <th>Secundario</th>\n",
              "      <td>82686.351857</td>\n",
              "    </tr>\n",
              "    <tr>\n",
              "      <th>Terciario</th>\n",
              "      <td>80814.433784</td>\n",
              "    </tr>\n",
              "    <tr>\n",
              "      <th>Universitario</th>\n",
              "      <td>97410.224414</td>\n",
              "    </tr>\n",
              "  </tbody>\n",
              "</table>\n",
              "</div>"
            ],
            "text/plain": [
              "                       salario_mensual_NETO\n",
              "perfil_nivel_estudios                      \n",
              "Doctorado                      91629.115517\n",
              "Posdoctorado                  529875.000000\n",
              "Posgrado                      124166.795300\n",
              "Primario                       87500.000000\n",
              "Secundario                     82686.351857\n",
              "Terciario                      80814.433784\n",
              "Universitario                  97410.224414"
            ]
          },
          "metadata": {
            "tags": []
          },
          "execution_count": 5
        }
      ]
    },
    {
      "cell_type": "markdown",
      "metadata": {
        "id": "ZYzKgdNkQOS4"
      },
      "source": [
        "## Gráficos de barras/columnas\n",
        "\n",
        "¿Si quisiera saber cuántas respuestas hay en el set de datos por nivel de estudio, qué tipo de gráficos puedo utilizar, teniendo en cuenta que una variable es categórica (nivel de estudio) y la otra numérica (cantidad de respuestas)?\n",
        "\n",
        "* Eje x: variable categórica\n",
        "* Eje y: variable numérica\n",
        "(Se puede hacer \"acostado\" también invirtiendo el orden)\n",
        "\n",
        "Comparan cantidades numéricas entre variables categóricas. Son uno de los encodings más fieles y fáciles de percibir, es decir, que podemos leer las cantidades represetadas con más exactitud que en otros tipos de gráficos."
      ]
    },
    {
      "cell_type": "code",
      "metadata": {
        "id": "RMIoR95aUIW3",
        "colab": {
          "base_uri": "https://localhost:8080/"
        },
        "outputId": "d5e2f619-4114-48cd-e639-db4bacb4e4ff"
      },
      "source": [
        "df[\"perfil_nivel_estudios\"].value_counts()"
      ],
      "execution_count": null,
      "outputs": [
        {
          "output_type": "execute_result",
          "data": {
            "text/plain": [
              "Universitario    4133\n",
              "Terciario        1135\n",
              "Secundario        449\n",
              "Posgrado          342\n",
              "Doctorado          30\n",
              "Posdoctorado        4\n",
              "Primario            2\n",
              "Name: perfil_nivel_estudios, dtype: int64"
            ]
          },
          "metadata": {
            "tags": []
          },
          "execution_count": 6
        }
      ]
    },
    {
      "cell_type": "code",
      "metadata": {
        "id": "-HN0Fj4qRdbg",
        "colab": {
          "base_uri": "https://localhost:8080/",
          "height": 444
        },
        "outputId": "80a80879-aea0-464b-b119-5cbb661927d3"
      },
      "source": [
        "sns.set(rc={'figure.figsize':(10,6)})\n",
        "sns.countplot(data=df, x='perfil_nivel_estudios')\n",
        "plt.xticks(rotation=45);"
      ],
      "execution_count": null,
      "outputs": [
        {
          "output_type": "display_data",
          "data": {
            "image/png": "[encoded data removed]",
            "text/plain": [
              "<Figure size 720x432 with 1 Axes>"
            ]
          },
          "metadata": {
            "tags": []
          }
        }
      ]
    },
    {
      "cell_type": "markdown",
      "metadata": {
        "id": "oazrx8HqSNpL"
      },
      "source": [
        "¿Y si quiero ver el promedio de salarios por nivel de estudio?\n",
        "\n",
        "Son gráficos muy versátiles, pero no siempre son adecuados. Mientras más barras se grafican, menos atención se pone en la variación entre una barra y otra, y más evidente es la distribución total. Los gráficos de barra también son muy sensibles al ordenamiento, ya que mientras más alejadas están las barras más difícil es compararlas. Por otra parte, la diferencia en el tamaño de cada barra puede codificar sólo cierta cantidad de información. Por ejemplo, si las barras son grandes en alto, una pequeña diferencia entre ellas pasará desapercibida, mientras que si las barras son pequeñas, la misma diferencia será más evidente.\n",
        "\n",
        "Los gráficos de barra son lo más adecuados para ver las variables categóricas, por ejemplo, el nivel de estudios, y alguna función de agregación sobre las categorías como la media de la v.a. *media del salario neto*. Para eso, podemos muy fácilmente pasarle a `seaborn` una función para calcular sobre la columna de salario usando el parámetro `estimator`.\n",
        "\n",
        "Nota: El valor del `estimator` es por defecto la media, pero ahora lo hacemos explícito. Podríamos haber seleccionado otra función, como `numpy.median`, o haber definido una nueva."
      ]
    },
    {
      "cell_type": "code",
      "metadata": {
        "id": "n5jqJZtgRdXE",
        "colab": {
          "base_uri": "https://localhost:8080/",
          "height": 444
        },
        "outputId": "e43f2165-127e-43a6-a7ac-92923ffdd4fc"
      },
      "source": [
        "# Salarios promedios por nivel de estudio\n",
        "fig = plt.figure(figsize=(8,6))\n",
        "sns.barplot(data=df,\n",
        "                y=\"salario_mensual_NETO\", x='perfil_nivel_estudios',\n",
        "                estimator=np.mean, ci=None)\n",
        "plt.xticks(rotation=45);"
      ],
      "execution_count": null,
      "outputs": [
        {
          "output_type": "display_data",
          "data": {
            "image/png": "[encoded data removed]",
            "text/plain": [
              "<Figure size 576x432 with 1 Axes>"
            ]
          },
          "metadata": {
            "tags": []
          }
        }
      ]
    },
    {
      "cell_type": "markdown",
      "metadata": {
        "id": "XXNeVAXmTAM3"
      },
      "source": [
        "En este gráfico estamos usando la altura de las barras para representar el promedio de las estimaciones de salario para cada uno de los grupos. Sin embargo, esto no es evidente a primera vista. El usuario no tiene suficiente información para inferir el significado del eje vertical. Hay que tener en cuenta que muchas veces, el nombre original de la columna no representa la información agregada.\n",
        "\n",
        "Este estadísico suele ser difícil de interpretar para quienes no son expertos en estadística.\n",
        "\n",
        "Por último, algunas de las categorías tienen muy pocos valores para ser útiles por lo cual suele ser conveniente reagrupar y obtener un gráfico más representativo."
      ]
    },
    {
      "cell_type": "markdown",
      "metadata": {
        "id": "TUgWafFWXJE9"
      },
      "source": [
        "### Agrupaciones\n",
        "\n",
        "Cuando queremos comparar distintos grupos, podemos usar el parámetro `hue`. Esto equivale a sumar otra v.a. al gráfico, que debe ser categórica.\n",
        "\n",
        "Por ejemplo la variable `'perfil_estado_estudios'`."
      ]
    },
    {
      "cell_type": "code",
      "metadata": {
        "id": "pD6bs-65RdTR",
        "colab": {
          "base_uri": "https://localhost:8080/"
        },
        "outputId": "52d737c5-8ac4-4a14-d88a-4b185762430c"
      },
      "source": [
        "df[\"perfil_estado_estudios\"].unique()"
      ],
      "execution_count": null,
      "outputs": [
        {
          "output_type": "execute_result",
          "data": {
            "text/plain": [
              "array(['En curso', 'Completado', 'Incompleto'], dtype=object)"
            ]
          },
          "metadata": {
            "tags": []
          },
          "execution_count": 9
        }
      ]
    },
    {
      "cell_type": "code",
      "metadata": {
        "id": "krs5U-D7QOE2",
        "colab": {
          "base_uri": "https://localhost:8080/",
          "height": 444
        },
        "outputId": "ad199077-c007-42d4-fa28-5a1a66f9e043"
      },
      "source": [
        "sns.set(rc={'figure.figsize':(10,6)})\n",
        "orden = ['Primario', 'Secundario', 'Terciario',\n",
        "         'Universitario', 'Posgrado',  'Doctorado', 'Posdoctorado']\n",
        "hue_orden = ['Incompleto', 'En curso', 'Completado']\n",
        "sns.barplot(y=df[\"salario_mensual_NETO\"], x=df['perfil_nivel_estudios'],\n",
        "                estimator=np.mean, ci=None,\n",
        "                hue=df[\"perfil_estado_estudios\"],\n",
        "                order=orden, hue_order=hue_orden\n",
        "                )\n",
        "plt.xticks(rotation=45)\n",
        "plt.ylabel(\"Media de salario mensual NETO\")\n",
        "plt.xlabel(\"Nivel de estudio\")\n",
        "plt.ticklabel_format(style='plain', axis='y')"
      ],
      "execution_count": null,
      "outputs": [
        {
          "output_type": "display_data",
          "data": {
            "image/png": "[encoded data removed]",
            "text/plain": [
              "<Figure size 720x432 with 1 Axes>"
            ]
          },
          "metadata": {
            "tags": []
          }
        }
      ]
    },
    {
      "cell_type": "markdown",
      "metadata": {
        "id": "GI0Us7JJYz8y"
      },
      "source": [
        "## Gráficos de línea\n",
        "\n",
        "Es útil por ejemplo si se quiere graficar el salario neto en relación a la edad.\n",
        "\n",
        "* Eje y: variable numérica\n",
        "* Eje x: variable numérica continua\n",
        "\n",
        "Es efectivo para comparar *cantidades numéricas*. Si lo comparamos con un gráfico de barras, tienen ventajas y desventajas. En primer lugar, sugiere una relación más fuerte entre los datos del eje horizontal, que deben ser secuenciales. Además de ello, pueden representar más valores ya que el peso visual de cada punto es mucho menor que una barra.\n",
        "\n",
        "Por otra parte, un gráfico de líneas con pocos puntos puede ser indicativo de una tendencia que no existe (o que no tenemos suficientes datos como para mostrarla)."
      ]
    },
    {
      "cell_type": "code",
      "metadata": {
        "id": "If33OTvRYxXr",
        "colab": {
          "base_uri": "https://localhost:8080/",
          "height": 394
        },
        "outputId": "7aa36324-f97a-464c-dbf6-eeff49b6e331"
      },
      "source": [
        "sns.set(rc={'figure.figsize':(10,6)})\n",
        "sns.lineplot(data=df[df['perfil_edad'] < 100],\n",
        "                 x='perfil_edad', y='salario_mensual_NETO');"
      ],
      "execution_count": null,
      "outputs": [
        {
          "output_type": "display_data",
          "data": {
            "image/png": "[encoded data removed]",
            "text/plain": [
              "<Figure size 720x432 with 1 Axes>"
            ]
          },
          "metadata": {
            "tags": []
          }
        }
      ]
    },
    {
      "cell_type": "code",
      "metadata": {
        "id": "PwggaN1xcHgw",
        "colab": {
          "base_uri": "https://localhost:8080/"
        },
        "outputId": "43837a49-666c-4065-bace-9f292f0a0f0f"
      },
      "source": [
        "df['perfil_edad'].describe()"
      ],
      "execution_count": null,
      "outputs": [
        {
          "output_type": "execute_result",
          "data": {
            "text/plain": [
              "count     6095.000000\n",
              "mean        41.181952\n",
              "std        665.721175\n",
              "min         18.000000\n",
              "25%         27.000000\n",
              "50%         31.000000\n",
              "75%         37.000000\n",
              "max      52000.000000\n",
              "Name: perfil_edad, dtype: float64"
            ]
          },
          "metadata": {
            "tags": []
          },
          "execution_count": 12
        }
      ]
    },
    {
      "cell_type": "markdown",
      "metadata": {
        "id": "5vhWxG_PgYF9"
      },
      "source": [
        "### Filtrando los valores de una columna del dataframe\n",
        "\n",
        "Existen dos formas de filtrar los valores de una columna numérica del Dataframe:\n",
        "\n",
        "```\n",
        "df[df['perfil_edad'] < 100]\n",
        "```\n",
        "o\n",
        "```\n",
        "df.query('perfil_edad < 100')\n",
        "```"
      ]
    },
    {
      "cell_type": "markdown",
      "metadata": {
        "id": "I06wnxpugr79"
      },
      "source": [
        "Vayamos al código:"
      ]
    },
    {
      "cell_type": "code",
      "metadata": {
        "id": "ne3GTRfoguMO",
        "colab": {
          "base_uri": "https://localhost:8080/",
          "height": 706
        },
        "outputId": "d1043051-8c8d-4f5a-f43c-7fcfe75b5f20"
      },
      "source": [
        "df[df['perfil_edad'] < 100]\n",
        "# Sólo se visualizan los datos donde la edad es menor a 100.\n",
        "# No se ha modificado el dataset completo \"df\""
      ],
      "execution_count": null,
      "outputs": [
        {
          "output_type": "execute_result",
          "data": {
            "text/html": [
              "<div>\n",
              "<style scoped>\n",
              "    .dataframe tbody tr th:only-of-type {\n",
              "        vertical-align: middle;\n",
              "    }\n",
              "\n",
              "    .dataframe tbody tr th {\n",
              "        vertical-align: top;\n",
              "    }\n",
              "\n",
              "    .dataframe thead th {\n",
              "        text-align: right;\n",
              "    }\n",
              "</style>\n",
              "<table border=\"1\" class=\"dataframe\">\n",
              "  <thead>\n",
              "    <tr style=\"text-align: right;\">\n",
              "      <th></th>\n",
              "      <th>perfil_genero</th>\n",
              "      <th>perfil_edad</th>\n",
              "      <th>trabajo_pais</th>\n",
              "      <th>trabajo_provincia</th>\n",
              "      <th>perfil_anos_experiencia</th>\n",
              "      <th>trabajo_anios_empresa_actual</th>\n",
              "      <th>trabajo_anios_puesto_actual</th>\n",
              "      <th>trabajo_personas_a_cargo</th>\n",
              "      <th>perfil_nivel_estudios</th>\n",
              "      <th>perfil_estado_estudios</th>\n",
              "      <th>perfil_carrera</th>\n",
              "      <th>perfil_universidad</th>\n",
              "      <th>perfil_cursos_especializacion</th>\n",
              "      <th>perfil_contribuciones_open_source</th>\n",
              "      <th>perfil_programa_como_hobbie</th>\n",
              "      <th>trabajo_rol</th>\n",
              "      <th>herramientas_plataforma</th>\n",
              "      <th>herramientas_languagjs_programacion</th>\n",
              "      <th>herramientas_frameworks</th>\n",
              "      <th>herramientas_data_bases</th>\n",
              "      <th>herramientas_qa_testing</th>\n",
              "      <th>herramientas_IDEs</th>\n",
              "      <th>herramientas_sistema_operativo_pc</th>\n",
              "      <th>herramientas_sistema_operativo_cel</th>\n",
              "      <th>trabajo_guardias</th>\n",
              "      <th>salario_guardias_pago</th>\n",
              "      <th>trabajo_guardias_tipo_pago</th>\n",
              "      <th>trabajo_tipo_contrato</th>\n",
              "      <th>salario_mensual_BRUTO</th>\n",
              "      <th>salario_mensual_NETO</th>\n",
              "      <th>salario_salario_dolares</th>\n",
              "      <th>salario_conformidad_sueldo</th>\n",
              "      <th>salario_comparacion_sueldo_semestre_anterior</th>\n",
              "      <th>salario_bonos</th>\n",
              "      <th>salario_bono_atado_a</th>\n",
              "      <th>salario_ajustes_inflacion_2020</th>\n",
              "      <th>salario_porcentaje_inflacion_ajuste_2020</th>\n",
              "      <th>salario_mes_ultimo_ajuste_inflacion</th>\n",
              "      <th>trabajo_violencia_laboral</th>\n",
              "      <th>perfil_orientacion_sexual</th>\n",
              "      <th>perfil_discapacidad</th>\n",
              "      <th>perfil_dificultad_ser_contratada_discapacidad</th>\n",
              "      <th>compania_cantidad_empleadxs</th>\n",
              "      <th>compania_actividad_princiapl</th>\n",
              "      <th>compania_recomendacion_lugar_trabajo</th>\n",
              "      <th>compania_politicas_inclusion</th>\n",
              "      <th>compania_beneficios_extra</th>\n",
              "      <th>compania_mejor_compania_ciudad</th>\n",
              "    </tr>\n",
              "  </thead>\n",
              "  <tbody>\n",
              "    <tr>\n",
              "      <th>0</th>\n",
              "      <td>Mujer</td>\n",
              "      <td>26</td>\n",
              "      <td>Argentina</td>\n",
              "      <td>Ciudad Autónoma de Buenos Aires</td>\n",
              "      <td>3.0</td>\n",
              "      <td>3.0</td>\n",
              "      <td>3.0</td>\n",
              "      <td>0</td>\n",
              "      <td>Universitario</td>\n",
              "      <td>En curso</td>\n",
              "      <td>Ingeniería en Sistemas de Información</td>\n",
              "      <td>UTN - Universidad Tecnológica Nacional</td>\n",
              "      <td>Sí, los pagó un empleador</td>\n",
              "      <td>No</td>\n",
              "      <td>Sí</td>\n",
              "      <td>Consultant</td>\n",
              "      <td>Ninguna</td>\n",
              "      <td>Ninguno</td>\n",
              "      <td>Ninguno</td>\n",
              "      <td>Ninguna</td>\n",
              "      <td>Ninguna</td>\n",
              "      <td>Ninguno</td>\n",
              "      <td>GNU/Linux</td>\n",
              "      <td>Android</td>\n",
              "      <td>No</td>\n",
              "      <td>0.0</td>\n",
              "      <td>Bruto</td>\n",
              "      <td>Full-Time</td>\n",
              "      <td>53000.0</td>\n",
              "      <td>43000.000</td>\n",
              "      <td>NaN</td>\n",
              "      <td>1</td>\n",
              "      <td>1</td>\n",
              "      <td>No</td>\n",
              "      <td>No recibo bono</td>\n",
              "      <td>No</td>\n",
              "      <td>0.0</td>\n",
              "      <td>0</td>\n",
              "      <td>En mi trabajo actual</td>\n",
              "      <td>Homosexual</td>\n",
              "      <td>NaN</td>\n",
              "      <td>NaN</td>\n",
              "      <td>501-1000</td>\n",
              "      <td>Servicios / Consultoría de Software / Digital</td>\n",
              "      <td>7</td>\n",
              "      <td>2</td>\n",
              "      <td>Capacitaciones y/o cursos, Comidas pagas / sub...</td>\n",
              "      <td>NaN</td>\n",
              "    </tr>\n",
              "    <tr>\n",
              "      <th>1</th>\n",
              "      <td>Hombre</td>\n",
              "      <td>29</td>\n",
              "      <td>Argentina</td>\n",
              "      <td>Corrientes</td>\n",
              "      <td>5.0</td>\n",
              "      <td>2.0</td>\n",
              "      <td>2.0</td>\n",
              "      <td>4</td>\n",
              "      <td>Universitario</td>\n",
              "      <td>En curso</td>\n",
              "      <td>Ingeniería en Sistemas de Información</td>\n",
              "      <td>UTN - Universidad Tecnológica Nacional</td>\n",
              "      <td>Sí, de forma particular, Sí, los pagó un emple...</td>\n",
              "      <td>No</td>\n",
              "      <td>Sí</td>\n",
              "      <td>Developer</td>\n",
              "      <td>Docker, Google Cloud Platform/App Engine</td>\n",
              "      <td>HTML, Javascript, Python</td>\n",
              "      <td>Django, jQuery</td>\n",
              "      <td>Informix, MySQL, PostgreSQL</td>\n",
              "      <td>Ninguna</td>\n",
              "      <td>IPython / Jupyter, Sublime Text, Visual Studio...</td>\n",
              "      <td>GNU/Linux</td>\n",
              "      <td>Android</td>\n",
              "      <td>No</td>\n",
              "      <td>0.0</td>\n",
              "      <td>Bruto</td>\n",
              "      <td>Full-Time</td>\n",
              "      <td>79000.0</td>\n",
              "      <td>63000.000</td>\n",
              "      <td>NaN</td>\n",
              "      <td>2</td>\n",
              "      <td>2</td>\n",
              "      <td>Menos de un sueldo</td>\n",
              "      <td>Performance de la compañía</td>\n",
              "      <td>Uno</td>\n",
              "      <td>10.0</td>\n",
              "      <td>1</td>\n",
              "      <td>Jamás</td>\n",
              "      <td>Heterosexual</td>\n",
              "      <td>Visual</td>\n",
              "      <td>No</td>\n",
              "      <td>201-500</td>\n",
              "      <td>Otras industrias</td>\n",
              "      <td>8</td>\n",
              "      <td>9</td>\n",
              "      <td>Horarios flexibles, Stock options / RSUs, Viát...</td>\n",
              "      <td>NaN</td>\n",
              "    </tr>\n",
              "    <tr>\n",
              "      <th>2</th>\n",
              "      <td>Mujer</td>\n",
              "      <td>22</td>\n",
              "      <td>Argentina</td>\n",
              "      <td>Ciudad Autónoma de Buenos Aires</td>\n",
              "      <td>2.0</td>\n",
              "      <td>0.0</td>\n",
              "      <td>0.0</td>\n",
              "      <td>0</td>\n",
              "      <td>Secundario</td>\n",
              "      <td>Completado</td>\n",
              "      <td>NaN</td>\n",
              "      <td>NaN</td>\n",
              "      <td>Sí, de forma particular, Sí, los pagó un emple...</td>\n",
              "      <td>No</td>\n",
              "      <td>Sí</td>\n",
              "      <td>Infosec</td>\n",
              "      <td>Linux, VMWare</td>\n",
              "      <td>Ninguno</td>\n",
              "      <td>Ninguno</td>\n",
              "      <td>Ninguna</td>\n",
              "      <td>Ninguna</td>\n",
              "      <td>Ninguno</td>\n",
              "      <td>Windows</td>\n",
              "      <td>iOS</td>\n",
              "      <td>No</td>\n",
              "      <td>0.0</td>\n",
              "      <td>Porcentaje de mi sueldo</td>\n",
              "      <td>Full-Time</td>\n",
              "      <td>160000.0</td>\n",
              "      <td>127000.000</td>\n",
              "      <td>NaN</td>\n",
              "      <td>3</td>\n",
              "      <td>3</td>\n",
              "      <td>Un sueldo</td>\n",
              "      <td>Performance individual</td>\n",
              "      <td>No</td>\n",
              "      <td>0.0</td>\n",
              "      <td>0</td>\n",
              "      <td>En un trabajo anterior</td>\n",
              "      <td>Bisexual o queer</td>\n",
              "      <td>NaN</td>\n",
              "      <td>No</td>\n",
              "      <td>2001-5000</td>\n",
              "      <td>Otras industrias</td>\n",
              "      <td>6</td>\n",
              "      <td>9</td>\n",
              "      <td>Clases de gimnasia online, Comidas pagas / sub...</td>\n",
              "      <td>NaN</td>\n",
              "    </tr>\n",
              "    <tr>\n",
              "      <th>3</th>\n",
              "      <td>Hombre</td>\n",
              "      <td>39</td>\n",
              "      <td>Argentina</td>\n",
              "      <td>Corrientes</td>\n",
              "      <td>15.0</td>\n",
              "      <td>15.0</td>\n",
              "      <td>13.0</td>\n",
              "      <td>5</td>\n",
              "      <td>Posgrado</td>\n",
              "      <td>Incompleto</td>\n",
              "      <td>Licenciatura en Sistemas</td>\n",
              "      <td>UNNE Universidad Nacional del Nordeste</td>\n",
              "      <td>Sí, de forma particular, Sí, los pagó un emple...</td>\n",
              "      <td>Sí</td>\n",
              "      <td>Sí</td>\n",
              "      <td>SysAdmin / DevOps / SRE</td>\n",
              "      <td>Docker, Linux, OpenStack, VMWare, Windows Server</td>\n",
              "      <td>Bash/Shell, C, CSS, HTML, Java, Javascript, PH...</td>\n",
              "      <td>jQuery, WordPress</td>\n",
              "      <td>Microsoft SQL Server, MySQL</td>\n",
              "      <td>PHPUnit</td>\n",
              "      <td>Eclipse, Visual Studio Code</td>\n",
              "      <td>GNU/Linux</td>\n",
              "      <td>Android</td>\n",
              "      <td>Sí, pasiva</td>\n",
              "      <td>0.0</td>\n",
              "      <td>Bruto</td>\n",
              "      <td>Full-Time</td>\n",
              "      <td>130000.0</td>\n",
              "      <td>102000.000</td>\n",
              "      <td>NaN</td>\n",
              "      <td>3</td>\n",
              "      <td>1</td>\n",
              "      <td>No</td>\n",
              "      <td>No recibo bono</td>\n",
              "      <td>No</td>\n",
              "      <td>0.0</td>\n",
              "      <td>0</td>\n",
              "      <td>En mi trabajo actual</td>\n",
              "      <td>Heterosexual</td>\n",
              "      <td>NaN</td>\n",
              "      <td>NaN</td>\n",
              "      <td>501-1000</td>\n",
              "      <td>Otras industrias</td>\n",
              "      <td>7</td>\n",
              "      <td>6</td>\n",
              "      <td>Abono de celular, Capacitaciones y/o cursos, C...</td>\n",
              "      <td>NaN</td>\n",
              "    </tr>\n",
              "    <tr>\n",
              "      <th>4</th>\n",
              "      <td>Hombre</td>\n",
              "      <td>32</td>\n",
              "      <td>Argentina</td>\n",
              "      <td>Ciudad Autónoma de Buenos Aires</td>\n",
              "      <td>9.0</td>\n",
              "      <td>6.0</td>\n",
              "      <td>6.0</td>\n",
              "      <td>0</td>\n",
              "      <td>Universitario</td>\n",
              "      <td>En curso</td>\n",
              "      <td>Licenciatura en Ciencias dela Computación</td>\n",
              "      <td>UBA - Universidad de Buenos Aires</td>\n",
              "      <td>No</td>\n",
              "      <td>No</td>\n",
              "      <td>Sí</td>\n",
              "      <td>Developer</td>\n",
              "      <td>Amazon Web Services</td>\n",
              "      <td>CSS, HTML, Javascript, SQL, TypeScript</td>\n",
              "      <td>Angular, Node.js</td>\n",
              "      <td>Amazon DynamoDB, MongoDB, MySQL</td>\n",
              "      <td>Jest</td>\n",
              "      <td>Vim</td>\n",
              "      <td>macOS</td>\n",
              "      <td>Android</td>\n",
              "      <td>No</td>\n",
              "      <td>0.0</td>\n",
              "      <td>Porcentaje de mi sueldo</td>\n",
              "      <td>Full-Time</td>\n",
              "      <td>140000.0</td>\n",
              "      <td>106000.000</td>\n",
              "      <td>NaN</td>\n",
              "      <td>1</td>\n",
              "      <td>1</td>\n",
              "      <td>Menos de un sueldo</td>\n",
              "      <td>Performance individual</td>\n",
              "      <td>No</td>\n",
              "      <td>0.0</td>\n",
              "      <td>0</td>\n",
              "      <td>Jamás</td>\n",
              "      <td>Heterosexual</td>\n",
              "      <td>NaN</td>\n",
              "      <td>NaN</td>\n",
              "      <td>11-50</td>\n",
              "      <td>Servicios / Consultoría de Software / Digital</td>\n",
              "      <td>6</td>\n",
              "      <td>6</td>\n",
              "      <td>Clases de idiomas, Horarios flexibles, Vacacio...</td>\n",
              "      <td>NaN</td>\n",
              "    </tr>\n",
              "    <tr>\n",
              "      <th>...</th>\n",
              "      <td>...</td>\n",
              "      <td>...</td>\n",
              "      <td>...</td>\n",
              "      <td>...</td>\n",
              "      <td>...</td>\n",
              "      <td>...</td>\n",
              "      <td>...</td>\n",
              "      <td>...</td>\n",
              "      <td>...</td>\n",
              "      <td>...</td>\n",
              "      <td>...</td>\n",
              "      <td>...</td>\n",
              "      <td>...</td>\n",
              "      <td>...</td>\n",
              "      <td>...</td>\n",
              "      <td>...</td>\n",
              "      <td>...</td>\n",
              "      <td>...</td>\n",
              "      <td>...</td>\n",
              "      <td>...</td>\n",
              "      <td>...</td>\n",
              "      <td>...</td>\n",
              "      <td>...</td>\n",
              "      <td>...</td>\n",
              "      <td>...</td>\n",
              "      <td>...</td>\n",
              "      <td>...</td>\n",
              "      <td>...</td>\n",
              "      <td>...</td>\n",
              "      <td>...</td>\n",
              "      <td>...</td>\n",
              "      <td>...</td>\n",
              "      <td>...</td>\n",
              "      <td>...</td>\n",
              "      <td>...</td>\n",
              "      <td>...</td>\n",
              "      <td>...</td>\n",
              "      <td>...</td>\n",
              "      <td>...</td>\n",
              "      <td>...</td>\n",
              "      <td>...</td>\n",
              "      <td>...</td>\n",
              "      <td>...</td>\n",
              "      <td>...</td>\n",
              "      <td>...</td>\n",
              "      <td>...</td>\n",
              "      <td>...</td>\n",
              "      <td>...</td>\n",
              "    </tr>\n",
              "    <tr>\n",
              "      <th>6090</th>\n",
              "      <td>Hombre</td>\n",
              "      <td>37</td>\n",
              "      <td>Argentina</td>\n",
              "      <td>Ciudad Autónoma de Buenos Aires</td>\n",
              "      <td>13.0</td>\n",
              "      <td>6.0</td>\n",
              "      <td>6.0</td>\n",
              "      <td>0</td>\n",
              "      <td>Terciario</td>\n",
              "      <td>Completado</td>\n",
              "      <td>Analista de Sistemas</td>\n",
              "      <td>IFTS (ex CENT) nro 5</td>\n",
              "      <td>No</td>\n",
              "      <td>No</td>\n",
              "      <td>Sí</td>\n",
              "      <td>Developer</td>\n",
              "      <td>Docker, Google Cloud Platform/App Engine, Linu...</td>\n",
              "      <td>.NET, C#, COBOL, CSS, HTML, Javascript, PHP, S...</td>\n",
              "      <td>Bootstrap, Drupal, jQuery, Symfony, WordPress</td>\n",
              "      <td>MariaDB, Microsoft SQL Server, MySQL</td>\n",
              "      <td>PHPUnit, SoapUI</td>\n",
              "      <td>Eclipse, NetBeans, Notepad++, Sublime Text, Vi...</td>\n",
              "      <td>Windows</td>\n",
              "      <td>Android</td>\n",
              "      <td>No</td>\n",
              "      <td>0.0</td>\n",
              "      <td>Porcentaje de mi sueldo</td>\n",
              "      <td>Full-Time</td>\n",
              "      <td>99000.0</td>\n",
              "      <td>97000.000</td>\n",
              "      <td>NaN</td>\n",
              "      <td>3</td>\n",
              "      <td>2</td>\n",
              "      <td>No</td>\n",
              "      <td>No recibo bono</td>\n",
              "      <td>No</td>\n",
              "      <td>0.0</td>\n",
              "      <td>0</td>\n",
              "      <td>En mi trabajo actual</td>\n",
              "      <td>Heterosexual</td>\n",
              "      <td>NaN</td>\n",
              "      <td>No</td>\n",
              "      <td>501-1000</td>\n",
              "      <td>Otras industrias</td>\n",
              "      <td>7</td>\n",
              "      <td>8</td>\n",
              "      <td>Viáticos</td>\n",
              "      <td>NaN</td>\n",
              "    </tr>\n",
              "    <tr>\n",
              "      <th>6091</th>\n",
              "      <td>Hombre</td>\n",
              "      <td>38</td>\n",
              "      <td>Argentina</td>\n",
              "      <td>Ciudad Autónoma de Buenos Aires</td>\n",
              "      <td>12.0</td>\n",
              "      <td>5.0</td>\n",
              "      <td>5.0</td>\n",
              "      <td>0</td>\n",
              "      <td>Universitario</td>\n",
              "      <td>En curso</td>\n",
              "      <td>Ingeniería en Sistemas de Información</td>\n",
              "      <td>UTN - Universidad Tecnológica Nacional</td>\n",
              "      <td>Sí, de forma particular, Sí, los pagó un emple...</td>\n",
              "      <td>No</td>\n",
              "      <td>No</td>\n",
              "      <td>SysAdmin / DevOps / SRE</td>\n",
              "      <td>Linux, OpenStack, VMWare, Windows Server</td>\n",
              "      <td>Ninguno de los anteriores</td>\n",
              "      <td>Ninguno de los anteriores</td>\n",
              "      <td>Microsoft SQL Server, MySQL, Oracle, PostgreSQL</td>\n",
              "      <td>Ninguna de las anteriores</td>\n",
              "      <td>Vi, Vim</td>\n",
              "      <td>Windows</td>\n",
              "      <td>Android</td>\n",
              "      <td>Sí, pasiva</td>\n",
              "      <td>10000.0</td>\n",
              "      <td>Porcentaje de mi sueldo</td>\n",
              "      <td>Full-Time</td>\n",
              "      <td>85000.0</td>\n",
              "      <td>71000.000</td>\n",
              "      <td>NaN</td>\n",
              "      <td>3</td>\n",
              "      <td>3</td>\n",
              "      <td>Un sueldo</td>\n",
              "      <td>Mix de las anteriores</td>\n",
              "      <td>Uno</td>\n",
              "      <td>14.0</td>\n",
              "      <td>6</td>\n",
              "      <td>Jamás</td>\n",
              "      <td>Heterosexual</td>\n",
              "      <td>NaN</td>\n",
              "      <td>NaN</td>\n",
              "      <td>2001-5000</td>\n",
              "      <td>Otras industrias</td>\n",
              "      <td>8</td>\n",
              "      <td>10</td>\n",
              "      <td>Abono de celular, Capacitaciones y/o cursos, D...</td>\n",
              "      <td>NaN</td>\n",
              "    </tr>\n",
              "    <tr>\n",
              "      <th>6092</th>\n",
              "      <td>Hombre</td>\n",
              "      <td>24</td>\n",
              "      <td>Argentina</td>\n",
              "      <td>Ciudad Autónoma de Buenos Aires</td>\n",
              "      <td>2.0</td>\n",
              "      <td>2.0</td>\n",
              "      <td>2.0</td>\n",
              "      <td>0</td>\n",
              "      <td>Terciario</td>\n",
              "      <td>En curso</td>\n",
              "      <td>Analista de Sistemas</td>\n",
              "      <td>ORT</td>\n",
              "      <td>Sí, de forma particular</td>\n",
              "      <td>No</td>\n",
              "      <td>Sí</td>\n",
              "      <td>QA / Tester</td>\n",
              "      <td>Ninguna de las anteriores</td>\n",
              "      <td>Ninguno de los anteriores</td>\n",
              "      <td>Ninguno de los anteriores</td>\n",
              "      <td>Ninguna de las anteriores</td>\n",
              "      <td>Ninguna de las anteriores</td>\n",
              "      <td>Ninguno de los anteriores</td>\n",
              "      <td>Windows</td>\n",
              "      <td>Android</td>\n",
              "      <td>No</td>\n",
              "      <td>0.0</td>\n",
              "      <td>Porcentaje de mi sueldo</td>\n",
              "      <td>Full-Time</td>\n",
              "      <td>47250.0</td>\n",
              "      <td>45.753</td>\n",
              "      <td>NaN</td>\n",
              "      <td>3</td>\n",
              "      <td>2</td>\n",
              "      <td>Menos de un sueldo</td>\n",
              "      <td>La situacion con el coronavirus</td>\n",
              "      <td>Uno</td>\n",
              "      <td>10.0</td>\n",
              "      <td>4</td>\n",
              "      <td>Jamás</td>\n",
              "      <td>Heterosexual</td>\n",
              "      <td>NaN</td>\n",
              "      <td>NaN</td>\n",
              "      <td>201-500</td>\n",
              "      <td>Producto basado en Software</td>\n",
              "      <td>7</td>\n",
              "      <td>9</td>\n",
              "      <td>Capacitaciones y/o cursos, Clases de idiomas, ...</td>\n",
              "      <td>Mercado Libre</td>\n",
              "    </tr>\n",
              "    <tr>\n",
              "      <th>6093</th>\n",
              "      <td>Hombre</td>\n",
              "      <td>28</td>\n",
              "      <td>Argentina</td>\n",
              "      <td>La Pampa</td>\n",
              "      <td>5.0</td>\n",
              "      <td>3.0</td>\n",
              "      <td>2.0</td>\n",
              "      <td>0</td>\n",
              "      <td>Terciario</td>\n",
              "      <td>En curso</td>\n",
              "      <td>Ingeniería en Sistemas de Información</td>\n",
              "      <td>UNLPAM</td>\n",
              "      <td>Sí, los pagó un empleador</td>\n",
              "      <td>No</td>\n",
              "      <td>Sí</td>\n",
              "      <td>SysAdmin / DevOps / SRE</td>\n",
              "      <td>Amazon Web Services, Docker, Kubernetes, Linux</td>\n",
              "      <td>C, C++, HTML, Java, Javascript, PHP, Python, SQL</td>\n",
              "      <td>Symfony</td>\n",
              "      <td>MariaDB, MongoDB, MySQL, Neo4j, PostgreSQL, Redis</td>\n",
              "      <td>PHPUnit, Postman</td>\n",
              "      <td>Nano, PHPStorm, PyCharm, Vim, Visual Studio Code</td>\n",
              "      <td>GNU/Linux</td>\n",
              "      <td>Android</td>\n",
              "      <td>Sí, pasiva</td>\n",
              "      <td>10.0</td>\n",
              "      <td>Neto</td>\n",
              "      <td>Full-Time</td>\n",
              "      <td>86000.0</td>\n",
              "      <td>72.000</td>\n",
              "      <td>NaN</td>\n",
              "      <td>2</td>\n",
              "      <td>1</td>\n",
              "      <td>No</td>\n",
              "      <td>No recibo bono</td>\n",
              "      <td>Uno</td>\n",
              "      <td>20.0</td>\n",
              "      <td>3</td>\n",
              "      <td>Jamás</td>\n",
              "      <td>Heterosexual</td>\n",
              "      <td>NaN</td>\n",
              "      <td>No</td>\n",
              "      <td>51-100</td>\n",
              "      <td>Servicios / Consultoría de Software / Digital</td>\n",
              "      <td>5</td>\n",
              "      <td>7</td>\n",
              "      <td>Capacitaciones y/o cursos</td>\n",
              "      <td>Solo Nubity</td>\n",
              "    </tr>\n",
              "    <tr>\n",
              "      <th>6094</th>\n",
              "      <td>Hombre</td>\n",
              "      <td>33</td>\n",
              "      <td>Argentina</td>\n",
              "      <td>GBA</td>\n",
              "      <td>5.0</td>\n",
              "      <td>5.0</td>\n",
              "      <td>3.0</td>\n",
              "      <td>0</td>\n",
              "      <td>Terciario</td>\n",
              "      <td>Incompleto</td>\n",
              "      <td>Analista de Sistemas</td>\n",
              "      <td>UAI - Universidad Abierta Interamericana</td>\n",
              "      <td>Sí, de forma particular</td>\n",
              "      <td>No</td>\n",
              "      <td>No</td>\n",
              "      <td>SysAdmin / DevOps / SRE</td>\n",
              "      <td>Linux, OpenStack, VMWare, Windows Server</td>\n",
              "      <td>Ninguno de los anteriores</td>\n",
              "      <td>Ninguno de los anteriores</td>\n",
              "      <td>Ninguna de las anteriores</td>\n",
              "      <td>Ninguna de las anteriores</td>\n",
              "      <td>Ninguno de los anteriores</td>\n",
              "      <td>Windows</td>\n",
              "      <td>iOS</td>\n",
              "      <td>No</td>\n",
              "      <td>0.0</td>\n",
              "      <td>Neto</td>\n",
              "      <td>Full-Time</td>\n",
              "      <td>85000.0</td>\n",
              "      <td>65000.000</td>\n",
              "      <td>NaN</td>\n",
              "      <td>3</td>\n",
              "      <td>3</td>\n",
              "      <td>No</td>\n",
              "      <td>No recibo bono</td>\n",
              "      <td>Dos</td>\n",
              "      <td>4.0</td>\n",
              "      <td>7</td>\n",
              "      <td>Jamás</td>\n",
              "      <td>Heterosexual</td>\n",
              "      <td>no</td>\n",
              "      <td>No</td>\n",
              "      <td>501-1000</td>\n",
              "      <td>Otras industrias</td>\n",
              "      <td>9</td>\n",
              "      <td>7</td>\n",
              "      <td>Abono de celular, Comidas pagas / subvencionadas</td>\n",
              "      <td>NaN</td>\n",
              "    </tr>\n",
              "  </tbody>\n",
              "</table>\n",
              "<p>6093 rows × 48 columns</p>\n",
              "</div>"
            ],
            "text/plain": [
              "     perfil_genero  ...  compania_mejor_compania_ciudad\n",
              "0            Mujer  ...                             NaN\n",
              "1           Hombre  ...                             NaN\n",
              "2            Mujer  ...                             NaN\n",
              "3           Hombre  ...                             NaN\n",
              "4           Hombre  ...                             NaN\n",
              "...            ...  ...                             ...\n",
              "6090        Hombre  ...                             NaN\n",
              "6091        Hombre  ...                             NaN\n",
              "6092        Hombre  ...                   Mercado Libre\n",
              "6093        Hombre  ...                     Solo Nubity\n",
              "6094        Hombre  ...                             NaN\n",
              "\n",
              "[6093 rows x 48 columns]"
            ]
          },
          "metadata": {
            "tags": []
          },
          "execution_count": 13
        }
      ]
    },
    {
      "cell_type": "code",
      "metadata": {
        "id": "LfZk4jprgraY",
        "colab": {
          "base_uri": "https://localhost:8080/",
          "height": 706
        },
        "outputId": "8fa2246d-04d0-4c98-94a9-95aa604942ca"
      },
      "source": [
        "df.query('perfil_edad < 100')"
      ],
      "execution_count": null,
      "outputs": [
        {
          "output_type": "execute_result",
          "data": {
            "text/html": [
              "<div>\n",
              "<style scoped>\n",
              "    .dataframe tbody tr th:only-of-type {\n",
              "        vertical-align: middle;\n",
              "    }\n",
              "\n",
              "    .dataframe tbody tr th {\n",
              "        vertical-align: top;\n",
              "    }\n",
              "\n",
              "    .dataframe thead th {\n",
              "        text-align: right;\n",
              "    }\n",
              "</style>\n",
              "<table border=\"1\" class=\"dataframe\">\n",
              "  <thead>\n",
              "    <tr style=\"text-align: right;\">\n",
              "      <th></th>\n",
              "      <th>perfil_genero</th>\n",
              "      <th>perfil_edad</th>\n",
              "      <th>trabajo_pais</th>\n",
              "      <th>trabajo_provincia</th>\n",
              "      <th>perfil_anos_experiencia</th>\n",
              "      <th>trabajo_anios_empresa_actual</th>\n",
              "      <th>trabajo_anios_puesto_actual</th>\n",
              "      <th>trabajo_personas_a_cargo</th>\n",
              "      <th>perfil_nivel_estudios</th>\n",
              "      <th>perfil_estado_estudios</th>\n",
              "      <th>perfil_carrera</th>\n",
              "      <th>perfil_universidad</th>\n",
              "      <th>perfil_cursos_especializacion</th>\n",
              "      <th>perfil_contribuciones_open_source</th>\n",
              "      <th>perfil_programa_como_hobbie</th>\n",
              "      <th>trabajo_rol</th>\n",
              "      <th>herramientas_plataforma</th>\n",
              "      <th>herramientas_languagjs_programacion</th>\n",
              "      <th>herramientas_frameworks</th>\n",
              "      <th>herramientas_data_bases</th>\n",
              "      <th>herramientas_qa_testing</th>\n",
              "      <th>herramientas_IDEs</th>\n",
              "      <th>herramientas_sistema_operativo_pc</th>\n",
              "      <th>herramientas_sistema_operativo_cel</th>\n",
              "      <th>trabajo_guardias</th>\n",
              "      <th>salario_guardias_pago</th>\n",
              "      <th>trabajo_guardias_tipo_pago</th>\n",
              "      <th>trabajo_tipo_contrato</th>\n",
              "      <th>salario_mensual_BRUTO</th>\n",
              "      <th>salario_mensual_NETO</th>\n",
              "      <th>salario_salario_dolares</th>\n",
              "      <th>salario_conformidad_sueldo</th>\n",
              "      <th>salario_comparacion_sueldo_semestre_anterior</th>\n",
              "      <th>salario_bonos</th>\n",
              "      <th>salario_bono_atado_a</th>\n",
              "      <th>salario_ajustes_inflacion_2020</th>\n",
              "      <th>salario_porcentaje_inflacion_ajuste_2020</th>\n",
              "      <th>salario_mes_ultimo_ajuste_inflacion</th>\n",
              "      <th>trabajo_violencia_laboral</th>\n",
              "      <th>perfil_orientacion_sexual</th>\n",
              "      <th>perfil_discapacidad</th>\n",
              "      <th>perfil_dificultad_ser_contratada_discapacidad</th>\n",
              "      <th>compania_cantidad_empleadxs</th>\n",
              "      <th>compania_actividad_princiapl</th>\n",
              "      <th>compania_recomendacion_lugar_trabajo</th>\n",
              "      <th>compania_politicas_inclusion</th>\n",
              "      <th>compania_beneficios_extra</th>\n",
              "      <th>compania_mejor_compania_ciudad</th>\n",
              "    </tr>\n",
              "  </thead>\n",
              "  <tbody>\n",
              "    <tr>\n",
              "      <th>0</th>\n",
              "      <td>Mujer</td>\n",
              "      <td>26</td>\n",
              "      <td>Argentina</td>\n",
              "      <td>Ciudad Autónoma de Buenos Aires</td>\n",
              "      <td>3.0</td>\n",
              "      <td>3.0</td>\n",
              "      <td>3.0</td>\n",
              "      <td>0</td>\n",
              "      <td>Universitario</td>\n",
              "      <td>En curso</td>\n",
              "      <td>Ingeniería en Sistemas de Información</td>\n",
              "      <td>UTN - Universidad Tecnológica Nacional</td>\n",
              "      <td>Sí, los pagó un empleador</td>\n",
              "      <td>No</td>\n",
              "      <td>Sí</td>\n",
              "      <td>Consultant</td>\n",
              "      <td>Ninguna</td>\n",
              "      <td>Ninguno</td>\n",
              "      <td>Ninguno</td>\n",
              "      <td>Ninguna</td>\n",
              "      <td>Ninguna</td>\n",
              "      <td>Ninguno</td>\n",
              "      <td>GNU/Linux</td>\n",
              "      <td>Android</td>\n",
              "      <td>No</td>\n",
              "      <td>0.0</td>\n",
              "      <td>Bruto</td>\n",
              "      <td>Full-Time</td>\n",
              "      <td>53000.0</td>\n",
              "      <td>43000.000</td>\n",
              "      <td>NaN</td>\n",
              "      <td>1</td>\n",
              "      <td>1</td>\n",
              "      <td>No</td>\n",
              "      <td>No recibo bono</td>\n",
              "      <td>No</td>\n",
              "      <td>0.0</td>\n",
              "      <td>0</td>\n",
              "      <td>En mi trabajo actual</td>\n",
              "      <td>Homosexual</td>\n",
              "      <td>NaN</td>\n",
              "      <td>NaN</td>\n",
              "      <td>501-1000</td>\n",
              "      <td>Servicios / Consultoría de Software / Digital</td>\n",
              "      <td>7</td>\n",
              "      <td>2</td>\n",
              "      <td>Capacitaciones y/o cursos, Comidas pagas / sub...</td>\n",
              "      <td>NaN</td>\n",
              "    </tr>\n",
              "    <tr>\n",
              "      <th>1</th>\n",
              "      <td>Hombre</td>\n",
              "      <td>29</td>\n",
              "      <td>Argentina</td>\n",
              "      <td>Corrientes</td>\n",
              "      <td>5.0</td>\n",
              "      <td>2.0</td>\n",
              "      <td>2.0</td>\n",
              "      <td>4</td>\n",
              "      <td>Universitario</td>\n",
              "      <td>En curso</td>\n",
              "      <td>Ingeniería en Sistemas de Información</td>\n",
              "      <td>UTN - Universidad Tecnológica Nacional</td>\n",
              "      <td>Sí, de forma particular, Sí, los pagó un emple...</td>\n",
              "      <td>No</td>\n",
              "      <td>Sí</td>\n",
              "      <td>Developer</td>\n",
              "      <td>Docker, Google Cloud Platform/App Engine</td>\n",
              "      <td>HTML, Javascript, Python</td>\n",
              "      <td>Django, jQuery</td>\n",
              "      <td>Informix, MySQL, PostgreSQL</td>\n",
              "      <td>Ninguna</td>\n",
              "      <td>IPython / Jupyter, Sublime Text, Visual Studio...</td>\n",
              "      <td>GNU/Linux</td>\n",
              "      <td>Android</td>\n",
              "      <td>No</td>\n",
              "      <td>0.0</td>\n",
              "      <td>Bruto</td>\n",
              "      <td>Full-Time</td>\n",
              "      <td>79000.0</td>\n",
              "      <td>63000.000</td>\n",
              "      <td>NaN</td>\n",
              "      <td>2</td>\n",
              "      <td>2</td>\n",
              "      <td>Menos de un sueldo</td>\n",
              "      <td>Performance de la compañía</td>\n",
              "      <td>Uno</td>\n",
              "      <td>10.0</td>\n",
              "      <td>1</td>\n",
              "      <td>Jamás</td>\n",
              "      <td>Heterosexual</td>\n",
              "      <td>Visual</td>\n",
              "      <td>No</td>\n",
              "      <td>201-500</td>\n",
              "      <td>Otras industrias</td>\n",
              "      <td>8</td>\n",
              "      <td>9</td>\n",
              "      <td>Horarios flexibles, Stock options / RSUs, Viát...</td>\n",
              "      <td>NaN</td>\n",
              "    </tr>\n",
              "    <tr>\n",
              "      <th>2</th>\n",
              "      <td>Mujer</td>\n",
              "      <td>22</td>\n",
              "      <td>Argentina</td>\n",
              "      <td>Ciudad Autónoma de Buenos Aires</td>\n",
              "      <td>2.0</td>\n",
              "      <td>0.0</td>\n",
              "      <td>0.0</td>\n",
              "      <td>0</td>\n",
              "      <td>Secundario</td>\n",
              "      <td>Completado</td>\n",
              "      <td>NaN</td>\n",
              "      <td>NaN</td>\n",
              "      <td>Sí, de forma particular, Sí, los pagó un emple...</td>\n",
              "      <td>No</td>\n",
              "      <td>Sí</td>\n",
              "      <td>Infosec</td>\n",
              "      <td>Linux, VMWare</td>\n",
              "      <td>Ninguno</td>\n",
              "      <td>Ninguno</td>\n",
              "      <td>Ninguna</td>\n",
              "      <td>Ninguna</td>\n",
              "      <td>Ninguno</td>\n",
              "      <td>Windows</td>\n",
              "      <td>iOS</td>\n",
              "      <td>No</td>\n",
              "      <td>0.0</td>\n",
              "      <td>Porcentaje de mi sueldo</td>\n",
              "      <td>Full-Time</td>\n",
              "      <td>160000.0</td>\n",
              "      <td>127000.000</td>\n",
              "      <td>NaN</td>\n",
              "      <td>3</td>\n",
              "      <td>3</td>\n",
              "      <td>Un sueldo</td>\n",
              "      <td>Performance individual</td>\n",
              "      <td>No</td>\n",
              "      <td>0.0</td>\n",
              "      <td>0</td>\n",
              "      <td>En un trabajo anterior</td>\n",
              "      <td>Bisexual o queer</td>\n",
              "      <td>NaN</td>\n",
              "      <td>No</td>\n",
              "      <td>2001-5000</td>\n",
              "      <td>Otras industrias</td>\n",
              "      <td>6</td>\n",
              "      <td>9</td>\n",
              "      <td>Clases de gimnasia online, Comidas pagas / sub...</td>\n",
              "      <td>NaN</td>\n",
              "    </tr>\n",
              "    <tr>\n",
              "      <th>3</th>\n",
              "      <td>Hombre</td>\n",
              "      <td>39</td>\n",
              "      <td>Argentina</td>\n",
              "      <td>Corrientes</td>\n",
              "      <td>15.0</td>\n",
              "      <td>15.0</td>\n",
              "      <td>13.0</td>\n",
              "      <td>5</td>\n",
              "      <td>Posgrado</td>\n",
              "      <td>Incompleto</td>\n",
              "      <td>Licenciatura en Sistemas</td>\n",
              "      <td>UNNE Universidad Nacional del Nordeste</td>\n",
              "      <td>Sí, de forma particular, Sí, los pagó un emple...</td>\n",
              "      <td>Sí</td>\n",
              "      <td>Sí</td>\n",
              "      <td>SysAdmin / DevOps / SRE</td>\n",
              "      <td>Docker, Linux, OpenStack, VMWare, Windows Server</td>\n",
              "      <td>Bash/Shell, C, CSS, HTML, Java, Javascript, PH...</td>\n",
              "      <td>jQuery, WordPress</td>\n",
              "      <td>Microsoft SQL Server, MySQL</td>\n",
              "      <td>PHPUnit</td>\n",
              "      <td>Eclipse, Visual Studio Code</td>\n",
              "      <td>GNU/Linux</td>\n",
              "      <td>Android</td>\n",
              "      <td>Sí, pasiva</td>\n",
              "      <td>0.0</td>\n",
              "      <td>Bruto</td>\n",
              "      <td>Full-Time</td>\n",
              "      <td>130000.0</td>\n",
              "      <td>102000.000</td>\n",
              "      <td>NaN</td>\n",
              "      <td>3</td>\n",
              "      <td>1</td>\n",
              "      <td>No</td>\n",
              "      <td>No recibo bono</td>\n",
              "      <td>No</td>\n",
              "      <td>0.0</td>\n",
              "      <td>0</td>\n",
              "      <td>En mi trabajo actual</td>\n",
              "      <td>Heterosexual</td>\n",
              "      <td>NaN</td>\n",
              "      <td>NaN</td>\n",
              "      <td>501-1000</td>\n",
              "      <td>Otras industrias</td>\n",
              "      <td>7</td>\n",
              "      <td>6</td>\n",
              "      <td>Abono de celular, Capacitaciones y/o cursos, C...</td>\n",
              "      <td>NaN</td>\n",
              "    </tr>\n",
              "    <tr>\n",
              "      <th>4</th>\n",
              "      <td>Hombre</td>\n",
              "      <td>32</td>\n",
              "      <td>Argentina</td>\n",
              "      <td>Ciudad Autónoma de Buenos Aires</td>\n",
              "      <td>9.0</td>\n",
              "      <td>6.0</td>\n",
              "      <td>6.0</td>\n",
              "      <td>0</td>\n",
              "      <td>Universitario</td>\n",
              "      <td>En curso</td>\n",
              "      <td>Licenciatura en Ciencias dela Computación</td>\n",
              "      <td>UBA - Universidad de Buenos Aires</td>\n",
              "      <td>No</td>\n",
              "      <td>No</td>\n",
              "      <td>Sí</td>\n",
              "      <td>Developer</td>\n",
              "      <td>Amazon Web Services</td>\n",
              "      <td>CSS, HTML, Javascript, SQL, TypeScript</td>\n",
              "      <td>Angular, Node.js</td>\n",
              "      <td>Amazon DynamoDB, MongoDB, MySQL</td>\n",
              "      <td>Jest</td>\n",
              "      <td>Vim</td>\n",
              "      <td>macOS</td>\n",
              "      <td>Android</td>\n",
              "      <td>No</td>\n",
              "      <td>0.0</td>\n",
              "      <td>Porcentaje de mi sueldo</td>\n",
              "      <td>Full-Time</td>\n",
              "      <td>140000.0</td>\n",
              "      <td>106000.000</td>\n",
              "      <td>NaN</td>\n",
              "      <td>1</td>\n",
              "      <td>1</td>\n",
              "      <td>Menos de un sueldo</td>\n",
              "      <td>Performance individual</td>\n",
              "      <td>No</td>\n",
              "      <td>0.0</td>\n",
              "      <td>0</td>\n",
              "      <td>Jamás</td>\n",
              "      <td>Heterosexual</td>\n",
              "      <td>NaN</td>\n",
              "      <td>NaN</td>\n",
              "      <td>11-50</td>\n",
              "      <td>Servicios / Consultoría de Software / Digital</td>\n",
              "      <td>6</td>\n",
              "      <td>6</td>\n",
              "      <td>Clases de idiomas, Horarios flexibles, Vacacio...</td>\n",
              "      <td>NaN</td>\n",
              "    </tr>\n",
              "    <tr>\n",
              "      <th>...</th>\n",
              "      <td>...</td>\n",
              "      <td>...</td>\n",
              "      <td>...</td>\n",
              "      <td>...</td>\n",
              "      <td>...</td>\n",
              "      <td>...</td>\n",
              "      <td>...</td>\n",
              "      <td>...</td>\n",
              "      <td>...</td>\n",
              "      <td>...</td>\n",
              "      <td>...</td>\n",
              "      <td>...</td>\n",
              "      <td>...</td>\n",
              "      <td>...</td>\n",
              "      <td>...</td>\n",
              "      <td>...</td>\n",
              "      <td>...</td>\n",
              "      <td>...</td>\n",
              "      <td>...</td>\n",
              "      <td>...</td>\n",
              "      <td>...</td>\n",
              "      <td>...</td>\n",
              "      <td>...</td>\n",
              "      <td>...</td>\n",
              "      <td>...</td>\n",
              "      <td>...</td>\n",
              "      <td>...</td>\n",
              "      <td>...</td>\n",
              "      <td>...</td>\n",
              "      <td>...</td>\n",
              "      <td>...</td>\n",
              "      <td>...</td>\n",
              "      <td>...</td>\n",
              "      <td>...</td>\n",
              "      <td>...</td>\n",
              "      <td>...</td>\n",
              "      <td>...</td>\n",
              "      <td>...</td>\n",
              "      <td>...</td>\n",
              "      <td>...</td>\n",
              "      <td>...</td>\n",
              "      <td>...</td>\n",
              "      <td>...</td>\n",
              "      <td>...</td>\n",
              "      <td>...</td>\n",
              "      <td>...</td>\n",
              "      <td>...</td>\n",
              "      <td>...</td>\n",
              "    </tr>\n",
              "    <tr>\n",
              "      <th>6090</th>\n",
              "      <td>Hombre</td>\n",
              "      <td>37</td>\n",
              "      <td>Argentina</td>\n",
              "      <td>Ciudad Autónoma de Buenos Aires</td>\n",
              "      <td>13.0</td>\n",
              "      <td>6.0</td>\n",
              "      <td>6.0</td>\n",
              "      <td>0</td>\n",
              "      <td>Terciario</td>\n",
              "      <td>Completado</td>\n",
              "      <td>Analista de Sistemas</td>\n",
              "      <td>IFTS (ex CENT) nro 5</td>\n",
              "      <td>No</td>\n",
              "      <td>No</td>\n",
              "      <td>Sí</td>\n",
              "      <td>Developer</td>\n",
              "      <td>Docker, Google Cloud Platform/App Engine, Linu...</td>\n",
              "      <td>.NET, C#, COBOL, CSS, HTML, Javascript, PHP, S...</td>\n",
              "      <td>Bootstrap, Drupal, jQuery, Symfony, WordPress</td>\n",
              "      <td>MariaDB, Microsoft SQL Server, MySQL</td>\n",
              "      <td>PHPUnit, SoapUI</td>\n",
              "      <td>Eclipse, NetBeans, Notepad++, Sublime Text, Vi...</td>\n",
              "      <td>Windows</td>\n",
              "      <td>Android</td>\n",
              "      <td>No</td>\n",
              "      <td>0.0</td>\n",
              "      <td>Porcentaje de mi sueldo</td>\n",
              "      <td>Full-Time</td>\n",
              "      <td>99000.0</td>\n",
              "      <td>97000.000</td>\n",
              "      <td>NaN</td>\n",
              "      <td>3</td>\n",
              "      <td>2</td>\n",
              "      <td>No</td>\n",
              "      <td>No recibo bono</td>\n",
              "      <td>No</td>\n",
              "      <td>0.0</td>\n",
              "      <td>0</td>\n",
              "      <td>En mi trabajo actual</td>\n",
              "      <td>Heterosexual</td>\n",
              "      <td>NaN</td>\n",
              "      <td>No</td>\n",
              "      <td>501-1000</td>\n",
              "      <td>Otras industrias</td>\n",
              "      <td>7</td>\n",
              "      <td>8</td>\n",
              "      <td>Viáticos</td>\n",
              "      <td>NaN</td>\n",
              "    </tr>\n",
              "    <tr>\n",
              "      <th>6091</th>\n",
              "      <td>Hombre</td>\n",
              "      <td>38</td>\n",
              "      <td>Argentina</td>\n",
              "      <td>Ciudad Autónoma de Buenos Aires</td>\n",
              "      <td>12.0</td>\n",
              "      <td>5.0</td>\n",
              "      <td>5.0</td>\n",
              "      <td>0</td>\n",
              "      <td>Universitario</td>\n",
              "      <td>En curso</td>\n",
              "      <td>Ingeniería en Sistemas de Información</td>\n",
              "      <td>UTN - Universidad Tecnológica Nacional</td>\n",
              "      <td>Sí, de forma particular, Sí, los pagó un emple...</td>\n",
              "      <td>No</td>\n",
              "      <td>No</td>\n",
              "      <td>SysAdmin / DevOps / SRE</td>\n",
              "      <td>Linux, OpenStack, VMWare, Windows Server</td>\n",
              "      <td>Ninguno de los anteriores</td>\n",
              "      <td>Ninguno de los anteriores</td>\n",
              "      <td>Microsoft SQL Server, MySQL, Oracle, PostgreSQL</td>\n",
              "      <td>Ninguna de las anteriores</td>\n",
              "      <td>Vi, Vim</td>\n",
              "      <td>Windows</td>\n",
              "      <td>Android</td>\n",
              "      <td>Sí, pasiva</td>\n",
              "      <td>10000.0</td>\n",
              "      <td>Porcentaje de mi sueldo</td>\n",
              "      <td>Full-Time</td>\n",
              "      <td>85000.0</td>\n",
              "      <td>71000.000</td>\n",
              "      <td>NaN</td>\n",
              "      <td>3</td>\n",
              "      <td>3</td>\n",
              "      <td>Un sueldo</td>\n",
              "      <td>Mix de las anteriores</td>\n",
              "      <td>Uno</td>\n",
              "      <td>14.0</td>\n",
              "      <td>6</td>\n",
              "      <td>Jamás</td>\n",
              "      <td>Heterosexual</td>\n",
              "      <td>NaN</td>\n",
              "      <td>NaN</td>\n",
              "      <td>2001-5000</td>\n",
              "      <td>Otras industrias</td>\n",
              "      <td>8</td>\n",
              "      <td>10</td>\n",
              "      <td>Abono de celular, Capacitaciones y/o cursos, D...</td>\n",
              "      <td>NaN</td>\n",
              "    </tr>\n",
              "    <tr>\n",
              "      <th>6092</th>\n",
              "      <td>Hombre</td>\n",
              "      <td>24</td>\n",
              "      <td>Argentina</td>\n",
              "      <td>Ciudad Autónoma de Buenos Aires</td>\n",
              "      <td>2.0</td>\n",
              "      <td>2.0</td>\n",
              "      <td>2.0</td>\n",
              "      <td>0</td>\n",
              "      <td>Terciario</td>\n",
              "      <td>En curso</td>\n",
              "      <td>Analista de Sistemas</td>\n",
              "      <td>ORT</td>\n",
              "      <td>Sí, de forma particular</td>\n",
              "      <td>No</td>\n",
              "      <td>Sí</td>\n",
              "      <td>QA / Tester</td>\n",
              "      <td>Ninguna de las anteriores</td>\n",
              "      <td>Ninguno de los anteriores</td>\n",
              "      <td>Ninguno de los anteriores</td>\n",
              "      <td>Ninguna de las anteriores</td>\n",
              "      <td>Ninguna de las anteriores</td>\n",
              "      <td>Ninguno de los anteriores</td>\n",
              "      <td>Windows</td>\n",
              "      <td>Android</td>\n",
              "      <td>No</td>\n",
              "      <td>0.0</td>\n",
              "      <td>Porcentaje de mi sueldo</td>\n",
              "      <td>Full-Time</td>\n",
              "      <td>47250.0</td>\n",
              "      <td>45.753</td>\n",
              "      <td>NaN</td>\n",
              "      <td>3</td>\n",
              "      <td>2</td>\n",
              "      <td>Menos de un sueldo</td>\n",
              "      <td>La situacion con el coronavirus</td>\n",
              "      <td>Uno</td>\n",
              "      <td>10.0</td>\n",
              "      <td>4</td>\n",
              "      <td>Jamás</td>\n",
              "      <td>Heterosexual</td>\n",
              "      <td>NaN</td>\n",
              "      <td>NaN</td>\n",
              "      <td>201-500</td>\n",
              "      <td>Producto basado en Software</td>\n",
              "      <td>7</td>\n",
              "      <td>9</td>\n",
              "      <td>Capacitaciones y/o cursos, Clases de idiomas, ...</td>\n",
              "      <td>Mercado Libre</td>\n",
              "    </tr>\n",
              "    <tr>\n",
              "      <th>6093</th>\n",
              "      <td>Hombre</td>\n",
              "      <td>28</td>\n",
              "      <td>Argentina</td>\n",
              "      <td>La Pampa</td>\n",
              "      <td>5.0</td>\n",
              "      <td>3.0</td>\n",
              "      <td>2.0</td>\n",
              "      <td>0</td>\n",
              "      <td>Terciario</td>\n",
              "      <td>En curso</td>\n",
              "      <td>Ingeniería en Sistemas de Información</td>\n",
              "      <td>UNLPAM</td>\n",
              "      <td>Sí, los pagó un empleador</td>\n",
              "      <td>No</td>\n",
              "      <td>Sí</td>\n",
              "      <td>SysAdmin / DevOps / SRE</td>\n",
              "      <td>Amazon Web Services, Docker, Kubernetes, Linux</td>\n",
              "      <td>C, C++, HTML, Java, Javascript, PHP, Python, SQL</td>\n",
              "      <td>Symfony</td>\n",
              "      <td>MariaDB, MongoDB, MySQL, Neo4j, PostgreSQL, Redis</td>\n",
              "      <td>PHPUnit, Postman</td>\n",
              "      <td>Nano, PHPStorm, PyCharm, Vim, Visual Studio Code</td>\n",
              "      <td>GNU/Linux</td>\n",
              "      <td>Android</td>\n",
              "      <td>Sí, pasiva</td>\n",
              "      <td>10.0</td>\n",
              "      <td>Neto</td>\n",
              "      <td>Full-Time</td>\n",
              "      <td>86000.0</td>\n",
              "      <td>72.000</td>\n",
              "      <td>NaN</td>\n",
              "      <td>2</td>\n",
              "      <td>1</td>\n",
              "      <td>No</td>\n",
              "      <td>No recibo bono</td>\n",
              "      <td>Uno</td>\n",
              "      <td>20.0</td>\n",
              "      <td>3</td>\n",
              "      <td>Jamás</td>\n",
              "      <td>Heterosexual</td>\n",
              "      <td>NaN</td>\n",
              "      <td>No</td>\n",
              "      <td>51-100</td>\n",
              "      <td>Servicios / Consultoría de Software / Digital</td>\n",
              "      <td>5</td>\n",
              "      <td>7</td>\n",
              "      <td>Capacitaciones y/o cursos</td>\n",
              "      <td>Solo Nubity</td>\n",
              "    </tr>\n",
              "    <tr>\n",
              "      <th>6094</th>\n",
              "      <td>Hombre</td>\n",
              "      <td>33</td>\n",
              "      <td>Argentina</td>\n",
              "      <td>GBA</td>\n",
              "      <td>5.0</td>\n",
              "      <td>5.0</td>\n",
              "      <td>3.0</td>\n",
              "      <td>0</td>\n",
              "      <td>Terciario</td>\n",
              "      <td>Incompleto</td>\n",
              "      <td>Analista de Sistemas</td>\n",
              "      <td>UAI - Universidad Abierta Interamericana</td>\n",
              "      <td>Sí, de forma particular</td>\n",
              "      <td>No</td>\n",
              "      <td>No</td>\n",
              "      <td>SysAdmin / DevOps / SRE</td>\n",
              "      <td>Linux, OpenStack, VMWare, Windows Server</td>\n",
              "      <td>Ninguno de los anteriores</td>\n",
              "      <td>Ninguno de los anteriores</td>\n",
              "      <td>Ninguna de las anteriores</td>\n",
              "      <td>Ninguna de las anteriores</td>\n",
              "      <td>Ninguno de los anteriores</td>\n",
              "      <td>Windows</td>\n",
              "      <td>iOS</td>\n",
              "      <td>No</td>\n",
              "      <td>0.0</td>\n",
              "      <td>Neto</td>\n",
              "      <td>Full-Time</td>\n",
              "      <td>85000.0</td>\n",
              "      <td>65000.000</td>\n",
              "      <td>NaN</td>\n",
              "      <td>3</td>\n",
              "      <td>3</td>\n",
              "      <td>No</td>\n",
              "      <td>No recibo bono</td>\n",
              "      <td>Dos</td>\n",
              "      <td>4.0</td>\n",
              "      <td>7</td>\n",
              "      <td>Jamás</td>\n",
              "      <td>Heterosexual</td>\n",
              "      <td>no</td>\n",
              "      <td>No</td>\n",
              "      <td>501-1000</td>\n",
              "      <td>Otras industrias</td>\n",
              "      <td>9</td>\n",
              "      <td>7</td>\n",
              "      <td>Abono de celular, Comidas pagas / subvencionadas</td>\n",
              "      <td>NaN</td>\n",
              "    </tr>\n",
              "  </tbody>\n",
              "</table>\n",
              "<p>6093 rows × 48 columns</p>\n",
              "</div>"
            ],
            "text/plain": [
              "     perfil_genero  ...  compania_mejor_compania_ciudad\n",
              "0            Mujer  ...                             NaN\n",
              "1           Hombre  ...                             NaN\n",
              "2            Mujer  ...                             NaN\n",
              "3           Hombre  ...                             NaN\n",
              "4           Hombre  ...                             NaN\n",
              "...            ...  ...                             ...\n",
              "6090        Hombre  ...                             NaN\n",
              "6091        Hombre  ...                             NaN\n",
              "6092        Hombre  ...                   Mercado Libre\n",
              "6093        Hombre  ...                     Solo Nubity\n",
              "6094        Hombre  ...                             NaN\n",
              "\n",
              "[6093 rows x 48 columns]"
            ]
          },
          "metadata": {
            "tags": []
          },
          "execution_count": 14
        }
      ]
    },
    {
      "cell_type": "markdown",
      "metadata": {
        "id": "P_g80Yk8fWZ3"
      },
      "source": [
        "## Gráficos de frecuencias (histogramas)\n",
        "\n",
        "Es útil en casos donde queremos ver cómo se distribuyen nuestros datos en una variable numérica continua, cuántas ocurrencias hay por rango de valores (ya que al ser continua, si no se toman rangos, graficar una barra por cada valor sería ilegible y/ costoso computacionalmente).\n",
        "\n",
        "* Eje x: variable numérica continua\n",
        "* Eje y: conteo de ocurrencias de valores en cada intervalo\n",
        "\n",
        "El gráfico generado es un histograma de frecuencias. En el eje x se grafican los valores que toma la columna, divididos en intervalos o bins. En el eje y se grafica el conteo de ocurrencias de valores en cada intervalo."
      ]
    },
    {
      "cell_type": "code",
      "metadata": {
        "id": "_rNKoWaOfWNg",
        "colab": {
          "base_uri": "https://localhost:8080/",
          "height": 365
        },
        "outputId": "4829a37c-baec-49e2-80ea-a5a3b29b1329"
      },
      "source": [
        "sns.displot(df[\"salario_mensual_NETO\"], aspect=3)\n",
        "plt.ticklabel_format(style='plain', axis='x') # Para evitar la notación científica en las etiquetas"
      ],
      "execution_count": null,
      "outputs": [
        {
          "output_type": "display_data",
          "data": {
            "image/png": "[encoded data removed]",
            "text/plain": [
              "<Figure size 1080x360 with 1 Axes>"
            ]
          },
          "metadata": {
            "tags": []
          }
        }
      ]
    },
    {
      "cell_type": "markdown",
      "metadata": {
        "id": "jTLC6QDBf7vu"
      },
      "source": [
        "**¿Qué está pasando con ésta visualización?**\n",
        "\n",
        "**¡Tip! **Antes de graficar, controlar el rango (ya que seaborn intentará crear miles de segmentos si el rango es muy grande) y remover los valores nulos."
      ]
    },
    {
      "cell_type": "code",
      "metadata": {
        "id": "k3wqI8-zfWKo",
        "colab": {
          "base_uri": "https://localhost:8080/"
        },
        "outputId": "f175c179-b09a-48ce-e911-338d185da41e"
      },
      "source": [
        "print(\"Rango: \", df[\"salario_mensual_NETO\"].min(), df[\"salario_mensual_NETO\"].max())"
      ],
      "execution_count": null,
      "outputs": [
        {
          "output_type": "stream",
          "text": [
            "Rango:  1.0 2080000.0\n"
          ],
          "name": "stdout"
        }
      ]
    },
    {
      "cell_type": "code",
      "metadata": {
        "id": "P2xq7zrEgHzc",
        "colab": {
          "base_uri": "https://localhost:8080/",
          "height": 365
        },
        "outputId": "ed675391-b93a-4721-e15b-5ee2b3d6306a"
      },
      "source": [
        "# Volvemos a graficar limitando los valores de la columna 'salary_monthly_NETO'\n",
        "sns.displot(df[df[\"salario_mensual_NETO\"]<=500000][\"salario_mensual_NETO\"], aspect=3)\n",
        "plt.ticklabel_format(style='plain', axis='x') # Para evitar la notación científica en las etiquetas"
      ],
      "execution_count": null,
      "outputs": [
        {
          "output_type": "display_data",
          "data": {
            "image/png": "[encoded data removed]",
            "text/plain": [
              "<Figure size 1080x360 with 1 Axes>"
            ]
          },
          "metadata": {
            "tags": []
          }
        }
      ]
    },
    {
      "cell_type": "markdown",
      "metadata": {
        "id": "STetnaWjhVmM"
      },
      "source": [
        "Podemos ver que los \"valores atípicos\" u \"outliers\", tiene impacto también en las visualizaciones y por ello es necesario analizar éstos casos extremos y darle un tratamiento adecuado al problema en análisis. Veremos en mayor profundidad ésto más adelante."
      ]
    },
    {
      "cell_type": "markdown",
      "metadata": {
        "id": "rWsO9F6WNJT_"
      },
      "source": [
        "## Mapa de calor (Heatmap)\n",
        "\n",
        "Podemos crear un gráfico que nos compare las frecuencias de dos variables categóricas, por ejemplo, “perfil_genero” y \"perfil_nivel_estudios\", donde el color de cada \"cuadrante\" será más oscuro donde hay mayor frecuencia de casos."
      ]
    },
    {
      "cell_type": "code",
      "metadata": {
        "colab": {
          "base_uri": "https://localhost:8080/",
          "height": 458
        },
        "id": "WNaU-Cc8wjau",
        "outputId": "603f7f3b-7c54-4766-d3a6-058d5aed07aa"
      },
      "source": [
        "orden = ['Primario', 'Secundario', 'Terciario',\n",
        "         'Universitario', 'Posgrado',  'Doctorado', 'Posdoctorado']\n",
        "exp = pd.crosstab(df[\"perfil_genero\"],\n",
        "                  df[\"perfil_nivel_estudios\"])[orden]\n",
        "sns.heatmap(exp, annot=True, fmt=\"d\", cmap=\"rocket_r\");"
      ],
      "execution_count": null,
      "outputs": [
        {
          "output_type": "display_data",
          "data": {
            "image/png": "[encoded data removed]",
            "text/plain": [
              "<Figure size 720x432 with 2 Axes>"
            ]
          },
          "metadata": {
            "tags": []
          }
        }
      ]
    },
    {
      "cell_type": "code",
      "metadata": {
        "colab": {
          "base_uri": "https://localhost:8080/",
          "height": 172
        },
        "id": "nOH60gLoQyQ4",
        "outputId": "ede93ee4-77b5-4fe1-b879-8888d705caa3"
      },
      "source": [
        "# Se ha graficado la siguiente información conocida como \"Tabla cruzada\"\n",
        "pd.crosstab(df[\"perfil_genero\"],\n",
        "                  df[\"perfil_nivel_estudios\"])[orden]"
      ],
      "execution_count": null,
      "outputs": [
        {
          "output_type": "execute_result",
          "data": {
            "text/html": [
              "<div>\n",
              "<style scoped>\n",
              "    .dataframe tbody tr th:only-of-type {\n",
              "        vertical-align: middle;\n",
              "    }\n",
              "\n",
              "    .dataframe tbody tr th {\n",
              "        vertical-align: top;\n",
              "    }\n",
              "\n",
              "    .dataframe thead th {\n",
              "        text-align: right;\n",
              "    }\n",
              "</style>\n",
              "<table border=\"1\" class=\"dataframe\">\n",
              "  <thead>\n",
              "    <tr style=\"text-align: right;\">\n",
              "      <th>perfil_nivel_estudios</th>\n",
              "      <th>Primario</th>\n",
              "      <th>Secundario</th>\n",
              "      <th>Terciario</th>\n",
              "      <th>Universitario</th>\n",
              "      <th>Posgrado</th>\n",
              "      <th>Doctorado</th>\n",
              "      <th>Posdoctorado</th>\n",
              "    </tr>\n",
              "    <tr>\n",
              "      <th>perfil_genero</th>\n",
              "      <th></th>\n",
              "      <th></th>\n",
              "      <th></th>\n",
              "      <th></th>\n",
              "      <th></th>\n",
              "      <th></th>\n",
              "      <th></th>\n",
              "    </tr>\n",
              "  </thead>\n",
              "  <tbody>\n",
              "    <tr>\n",
              "      <th>Hombre</th>\n",
              "      <td>2</td>\n",
              "      <td>424</td>\n",
              "      <td>970</td>\n",
              "      <td>3447</td>\n",
              "      <td>256</td>\n",
              "      <td>19</td>\n",
              "      <td>4</td>\n",
              "    </tr>\n",
              "    <tr>\n",
              "      <th>Mujer</th>\n",
              "      <td>0</td>\n",
              "      <td>24</td>\n",
              "      <td>158</td>\n",
              "      <td>667</td>\n",
              "      <td>85</td>\n",
              "      <td>8</td>\n",
              "      <td>0</td>\n",
              "    </tr>\n",
              "    <tr>\n",
              "      <th>Otros</th>\n",
              "      <td>0</td>\n",
              "      <td>1</td>\n",
              "      <td>7</td>\n",
              "      <td>19</td>\n",
              "      <td>1</td>\n",
              "      <td>3</td>\n",
              "      <td>0</td>\n",
              "    </tr>\n",
              "  </tbody>\n",
              "</table>\n",
              "</div>"
            ],
            "text/plain": [
              "perfil_nivel_estudios  Primario  Secundario  ...  Doctorado  Posdoctorado\n",
              "perfil_genero                                ...                         \n",
              "Hombre                        2         424  ...         19             4\n",
              "Mujer                         0          24  ...          8             0\n",
              "Otros                         0           1  ...          3             0\n",
              "\n",
              "[3 rows x 7 columns]"
            ]
          },
          "metadata": {
            "tags": []
          },
          "execution_count": 19
        }
      ]
    },
    {
      "cell_type": "markdown",
      "metadata": {
        "id": "aQaSHczShz8u"
      },
      "source": [
        "## Ejercicio 1 - Histograma\n",
        "\n",
        "\n",
        "a) Realizar un histograma que muestre la cantidad de personas de acuerdo a la variable `perfil_edad`.\n",
        "\n",
        "**¡Tip!** Antes de graficar, controlar el rango (ya que seaborn intentará crear miles de segmentos si el rango es muy grande). Usar las funciones `.min()` y `.max()`. De ser necesario filtrar el conjunto de datos para graficar sólo valores menores a cierta edad.\n",
        "\n",
        "b) ¿La variable edad tiene valores extremos?"
      ]
    },
    {
      "cell_type": "code",
      "metadata": {
        "id": "xzVzZZK4gHvj",
        "colab": {
          "base_uri": "https://localhost:8080/"
        },
        "outputId": "812560ca-98c0-4dc7-bbbe-02b6ba5c43e8"
      },
      "source": [
        "# Responder acá. Cálculo del rango.\n",
        "print(\"Rango: \", df[\"perfil_edad\"].min(), df[\"perfil_edad\"].max())\n",
        "# Vemos que la variable edad tiene valores extremos, como el '52000'"
      ],
      "execution_count": null,
      "outputs": [
        {
          "output_type": "stream",
          "text": [
            "Rango:  18 52000\n"
          ],
          "name": "stdout"
        }
      ]
    },
    {
      "cell_type": "code",
      "metadata": {
        "id": "deUx7sWrgHsb",
        "colab": {
          "base_uri": "https://localhost:8080/",
          "height": 365
        },
        "outputId": "ec400a3d-debf-4454-8088-4a2e2561f435"
      },
      "source": [
        "# Responder acá. Gráfico del histograma de frecuencias.\n",
        "sns.displot(df[df[\"perfil_edad\"]<100][\"perfil_edad\"] , aspect=3)\n",
        "plt.ticklabel_format(style='plain', axis='x') # Para evitar la notación científica en las etiquetas"
      ],
      "execution_count": null,
      "outputs": [
        {
          "output_type": "display_data",
          "data": {
            "image/png": "[encoded data removed]",
            "text/plain": [
              "<Figure size 1080x360 with 1 Axes>"
            ]
          },
          "metadata": {
            "tags": []
          }
        }
      ]
    },
    {
      "cell_type": "markdown",
      "metadata": {
        "id": "ADrWm-9SM72C"
      },
      "source": [
        "# Conclusiones preliminares del análisis de salarios\n",
        "\n",
        "Las visualizaciones simples son prácticas para conocer la forma de los datos rápidamente, porque condensan mucha información.\n",
        "En base a las primeras visualizaciones de los datos se pueden realizar varias preguntas o hipótesis:\n",
        "\n",
        "1. ¿Cuál es la edad de la mayoría de los encuestados?\n",
        "La mayoría de los encuestados tiene entre X e Y años. (Reemplazar X e Y por los valores que se aprecian en el ejercicio 1).\n",
        "\n",
        "2. ¿Cuánto cobran de salario Neto la mayoría de los programadores en Argentina?\n",
        "- El rango de valores de salario neto va desde 0 hasta aproximadamente 2M.\n",
        "- La mayoría de los valores se concentra por debajo de los 250K, y pocos superan los 500K.\n",
        "- Los valores más frencuentes aparentan estar cerca de los 100K.\n",
        "- Hay un pico de ocurrencias cercano al valor 0, que brinda poco detalle.\n",
        "- Se verifica un salario promedio mayor entre quienes han realizado un Posdoctorado, pero al ser sólo 4 registros, ésta subpoblación no es representativa en el total de la muestra (6095 personas respondieron la encuesta).\n",
        "- Los salarios más altos son en su mayoría aquellos que están dolarizados (ver apartado \"Bonus Track\").\n",
        "\n",
        "3. ¿Existe una diferencia de salarios entre los hombres y otros géneros?\n",
        "- Existe una mayor cantidad de respuestas de la subpoblación \"Hombres Universitarios\".\n",
        "\n",
        "\n",
        "Este es un punto de partida para el análisis del conjunto de datos. El análisis exploratorio de datos es un proceso que generalmente requiere varias iteraciones de análisis: a medida que se obtengan conclusiones, se descrubrirán otros aspectos relevantes de los datos, lo cual disparará nuevas preguntas."
      ]
    },
    {
      "cell_type": "markdown",
      "metadata": {
        "id": "3fE7l03Iqagk"
      },
      "source": [
        "# Manejo de valores atípicos (Outliers)\n",
        "\n",
        "\n",
        "\n",
        "<center>\n",
        "<img src=\"https://miro.medium.com/max/695/1*N_C1Mhiz8hzZkKrUfjez3A.jpeg\" height=\"300\" />\n",
        "</center>\n",
        "\n",
        "¿Notan algo diferente en la imagen anterior?\n",
        "\n",
        "\n",
        "Todos los números están en el rango de los 30, excepto el número 3. Ese es nuestro valor atípico, porque no está cerca de los demás números.\n",
        "\n",
        "**¿De dónde provienen?**\n",
        "\n",
        "El proceso de Ciencia de Datos comienza con la recolección de datos y es entonces cuando los valores atípicos se introducen en la muestra. Sin embargo, en general no conocemos los valores atípicos en absoluto en la fase de recopilación. Los valores atípicos pueden ser el resultado de un error durante la recolección de datos o pueden ser simplemente una indicación de la varianza en los datos.\n",
        "\n",
        "**¿Cuál es el impacto de un valor atípico?**\n",
        "\n",
        "1. Causa graves problemas en el análisis estadístico, por ejemplo tiene un impacto significativo en la media.\n",
        "2. Sesga los datos.\n",
        "3. Impacto significativo en la desviación estándar.\n"
      ]
    },
    {
      "cell_type": "markdown",
      "metadata": {
        "id": "sPOuPdj9qq0e"
      },
      "source": [
        "## Percentiles y gráficos de caja o 'boxplot'\n",
        "\n",
        "Ahora que sabemos que los valores atípicos pueden ser un error o simplemente una varianza, ¿cómo decidir si son importantes o no? Bueno, es bastante sencillo si son el resultado de un error, entonces podemos ignorarlos o eliminarlos, pero si es sólo una varianza en los datos tendríamos que pensar un poco más. Antes de intentar comprender si hay que ignorar los valores atípicos o no, tenemos que conocer las formas de identificarlos.\n",
        "\n",
        "En estadística descriptiva, un gráfico de caja es un método para representar gráficamente grupos de datos numéricos a través de sus cuartiles. Los gráficos de caja también pueden tener líneas que se extienden verticalmente desde las cajas (bigotes) indicando la variabilidad fuera de los cuartiles superior e inferior. Los valores atípicos pueden representarse como puntos individuales.\n",
        "\n",
        "La definición anterior sugiere que, si hay un valor atípico, se representará como un punto en el diagrama de caja, mientras que el resto de los datos de la muestra se agrupará y se mostrará en forma de cajas. Intentemos verlo nosotros mismos.\n",
        "\n",
        "<center>\n",
        "<img src=\"https://miro.medium.com/max/1400/1*2c21SkzJMf3frPXPAR_gZA.png\" height=\"300\" />\n",
        "</center>"
      ]
    },
    {
      "cell_type": "code",
      "metadata": {
        "id": "kw43KZXCqaCm",
        "colab": {
          "base_uri": "https://localhost:8080/",
          "height": 394
        },
        "outputId": "caf2c6ae-9202-4df8-e0ec-656f6205b59d"
      },
      "source": [
        "sns.set(rc={'figure.figsize':(10,6)})\n",
        "sns.boxplot(x=df[\"salario_mensual_NETO\"])\n",
        "plt.ticklabel_format(style='plain', axis='x') # Para evitar la notación científica en las etiquetas"
      ],
      "execution_count": null,
      "outputs": [
        {
          "output_type": "display_data",
          "data": {
            "image/png": "[encoded data removed]",
            "text/plain": [
              "<Figure size 720x432 with 1 Axes>"
            ]
          },
          "metadata": {
            "tags": []
          }
        }
      ]
    },
    {
      "cell_type": "code",
      "metadata": {
        "id": "NB6aokCbQN_f",
        "colab": {
          "base_uri": "https://localhost:8080/",
          "height": 411
        },
        "outputId": "f990ca82-0591-4050-9bbc-8315af435d83"
      },
      "source": [
        "sns.set(rc={'figure.figsize':(10,6)})\n",
        "sns.boxplot(x=df[\"perfil_edad\"])"
      ],
      "execution_count": null,
      "outputs": [
        {
          "output_type": "execute_result",
          "data": {
            "text/plain": [
              "<matplotlib.axes._subplots.AxesSubplot at 0x7fbdaa908ad0>"
            ]
          },
          "metadata": {
            "tags": []
          },
          "execution_count": 23
        },
        {
          "output_type": "display_data",
          "data": {
            "image/png": "[encoded data removed]",
            "text/plain": [
              "<Figure size 720x432 with 1 Axes>"
            ]
          },
          "metadata": {
            "tags": []
          }
        }
      ]
    },
    {
      "cell_type": "markdown",
      "metadata": {
        "id": "hncBBOdwrYsn"
      },
      "source": [
        "Además de permitirnos visualizar valores atípicos, otro ejemplo de uso de los boxplots es el poder comparar la distribución de una variable numérica con respecto a otra categórica.\n",
        "\n",
        "Comparemos los salarios netos con respecto al nivel de estudios alcanzado."
      ]
    },
    {
      "cell_type": "code",
      "metadata": {
        "id": "OM27-iyYrrEr",
        "colab": {
          "base_uri": "https://localhost:8080/",
          "height": 394
        },
        "outputId": "9325719c-fea4-4dd1-a930-1211cb61b06d"
      },
      "source": [
        "sns.set(rc={'figure.figsize':(10,6)})\n",
        "sns.boxplot(data=df, x=\"salario_mensual_NETO\", y='perfil_nivel_estudios')\n",
        "plt.ticklabel_format(style='plain', axis='x') # Para evitar la notación científica en las etiquetas"
      ],
      "execution_count": null,
      "outputs": [
        {
          "output_type": "display_data",
          "data": {
            "image/png": "[encoded data removed]",
            "text/plain": [
              "<Figure size 720x432 with 1 Axes>"
            ]
          },
          "metadata": {
            "tags": []
          }
        }
      ]
    },
    {
      "cell_type": "markdown",
      "metadata": {
        "id": "i4uAMFM3x-US"
      },
      "source": [
        "**Si un valor atípico debe ser eliminado o no, debe ser analizado por el analista o científico de datos de acuerdo al problema en el que está trabajando.**\n",
        "\n",
        "Por ejemplo, en nuestro dataset de respuestas a encuesta de salarios IT podemos tomar algunas decisiones de curación como:\n",
        "- Respuestas con edades menores de 18 y mayores a 99 pueden ser eliminados.\n",
        "- Eliminar salarios mayores a un millón de pesos (pero conservamos salarios altos como 500mil por ejemplo).\n",
        "\n",
        "\n",
        "En otro dataset, de datos de propiedades en venta, que se usará para predecir el precio de venta:\n",
        "- Cantidad de baños cero: Parece un valor atípico, que se ingresó de forma errónea, ya que toda propiedad debe tener al menos un baño, en éste caso se puede reemplazar por uno, ya que todas las casas deberían tener al menos un baño. Observar que pueden existir valores atípicos en los extremos inferiores también.\n",
        "- Eliminar columna de dirección, ya que por sí sola no aporta nada y tendría gran variavilidad de valores posibles, es mejor contar con el Código Postal o Latitud/Longitud.\n",
        "- Cantidad de habitaciones, eliminar casos por encima de 20.\n"
      ]
    },
    {
      "cell_type": "markdown",
      "metadata": {
        "id": "jvjB0R1Druw1"
      },
      "source": [
        "###**Diferentes métodos de eliminación de outliers**\n",
        "\n",
        "####**Filtrado en un valor específico**\n",
        "\n",
        "Me quedo por ejemplo con edades mayores a 18 y menores a 99.\n",
        "\n",
        "\n",
        "####**Rango intercuartílico**\n",
        "\n",
        "Punto de datos que queda fuera de 1,5 veces de un rango intercuartil.\n",
        "Ver diagrama de caja.\n",
        "\n",
        "\n",
        "####**Desviación estándar**\n",
        "\n",
        "Punto de datos que cae fuera de 2,5 desviaciones estándar con respecto a la media, la desviación estándar nos dice \"cuánto nos alejamos de la media\".\n",
        "\n",
        "<center>\n",
        "<img src=\"https://help.highbond.com/helpdocs/analytics/141/user-guide/es/Content/images/an/outliers_2.png\" height=\"300\" />\n",
        "</center>\n",
        "\n",
        "No todos los métodos son útiles en todos los casos, depende la variable que estoy analizando y se pueden probar varios métodos para ver cuál se ajusta mejor a nuestro dominio de problema.\n"
      ]
    },
    {
      "cell_type": "markdown",
      "metadata": {
        "id": "BmirCeFdHRre"
      },
      "source": [
        "### Funciones Auxiliares\n",
        "¡Se debe correr al principio! Antes de la sección de Outliers.\n",
        "\n",
        "No es necesaria su comprensión linea a linea, porque puede haber muchas formas de escribirlas e incluso librerías que nos brinden otra función, pero sí comprender el impacto en nuestros datos."
      ]
    },
    {
      "cell_type": "code",
      "metadata": {
        "id": "NaHeeGJ8Hd9M"
      },
      "source": [
        "# Eliminación de valores atípicos por medio del Rango Intercuartílico\n",
        "def clean_outliers_q3(dataset, column_name, iqr_factor = 1.5):\n",
        "    \"\"\"Returns dataset removing the outlier rows from column @column_name.\"\"\"\n",
        "    interesting_col = dataset[column_name]\n",
        "    # Here we can remove the outliers from both ends, or even add more restrictions.\n",
        "    mask_outlier = (interesting_col <= (iqr_factor * interesting_col.quantile(.75)))\n",
        "    return dataset[mask_outlier]\n",
        "\n",
        "# Eliminación de valores atípicos por medio de la Desviación estándard\n",
        "def clean_outliers_sd(dataset, column_name):\n",
        "    \"\"\"Returns dataset removing the outlier rows from column @column_name.\"\"\"\n",
        "    interesting_col = dataset[column_name]\n",
        "    # Here we can remove the outliers from both ends, or even add more restrictions.\n",
        "    mask_outlier = (\n",
        "        np.abs(interesting_col - interesting_col.mean()) <=\n",
        "        (2.5 * interesting_col.std()))\n",
        "    return dataset[mask_outlier]"
      ],
      "execution_count": null,
      "outputs": []
    },
    {
      "cell_type": "code",
      "metadata": {
        "id": "vkrNO5VFsKQn",
        "colab": {
          "base_uri": "https://localhost:8080/",
          "height": 411
        },
        "outputId": "0aa6a474-0d9f-4a60-b206-aff647b61f60"
      },
      "source": [
        "data = clean_outliers_q3(df, 'salario_mensual_NETO', 1.5)['salario_mensual_NETO']\n",
        "sns.histplot(x=data)"
      ],
      "execution_count": null,
      "outputs": [
        {
          "output_type": "execute_result",
          "data": {
            "text/plain": [
              "<matplotlib.axes._subplots.AxesSubplot at 0x7fbdb3b62910>"
            ]
          },
          "metadata": {
            "tags": []
          },
          "execution_count": 26
        },
        {
          "output_type": "display_data",
          "data": {
            "image/png": "[encoded data removed]",
            "text/plain": [
              "<Figure size 720x432 with 1 Axes>"
            ]
          },
          "metadata": {
            "tags": []
          }
        }
      ]
    },
    {
      "cell_type": "code",
      "metadata": {
        "id": "NhDvCj7wsJne",
        "colab": {
          "base_uri": "https://localhost:8080/",
          "height": 411
        },
        "outputId": "36ff60f9-92ed-46b3-d8f3-33c2d45385f2"
      },
      "source": [
        "data2 = clean_outliers_sd(df, 'salario_mensual_NETO')['salario_mensual_NETO']\n",
        "sns.histplot(x=data2)"
      ],
      "execution_count": null,
      "outputs": [
        {
          "output_type": "execute_result",
          "data": {
            "text/plain": [
              "<matplotlib.axes._subplots.AxesSubplot at 0x7fbdaaa36610>"
            ]
          },
          "metadata": {
            "tags": []
          },
          "execution_count": 27
        },
        {
          "output_type": "display_data",
          "data": {
            "image/png": "[encoded data removed]",
            "text/plain": [
              "<Figure size 720x432 with 1 Axes>"
            ]
          },
          "metadata": {
            "tags": []
          }
        }
      ]
    },
    {
      "cell_type": "code",
      "metadata": {
        "id": "ng0nih-IuKJK",
        "colab": {
          "base_uri": "https://localhost:8080/",
          "height": 302
        },
        "outputId": "9bcfaa0f-8de2-4393-db6f-4ab376df1c20"
      },
      "source": [
        "# Filtrado por un valor constante\n",
        "df_filtrado = df[(df[\"salario_mensual_NETO\"]<500000) & (df[\"salario_mensual_NETO\"]>15000)] # Podría pensarse en un límite inferior como el salario mínimo\n",
        "fig = plt.figure(figsize=(12, 4))\n",
        "sns.histplot(x=df_filtrado['salario_mensual_NETO'])"
      ],
      "execution_count": null,
      "outputs": [
        {
          "output_type": "execute_result",
          "data": {
            "text/plain": [
              "<matplotlib.axes._subplots.AxesSubplot at 0x7fbdaa740dd0>"
            ]
          },
          "metadata": {
            "tags": []
          },
          "execution_count": 28
        },
        {
          "output_type": "display_data",
          "data": {
            "image/png": "[encoded data removed]",
            "text/plain": [
              "<Figure size 864x288 with 1 Axes>"
            ]
          },
          "metadata": {
            "tags": []
          }
        }
      ]
    },
    {
      "cell_type": "markdown",
      "metadata": {
        "id": "beLxryHsqf-h"
      },
      "source": [
        "## Manejo de valores faltantes"
      ]
    },
    {
      "cell_type": "markdown",
      "metadata": {
        "id": "kwCvezMcva6s"
      },
      "source": [
        "Los valores faltantes son un problema bastante común al cual nos enfrentamos a la hora de hacer ciencia de datos.\n",
        "\n",
        "Son un problema principalmente para el modelado de *machine learning* (que verán más adelante), pero también pueden serlo a la hora de graficar o buscar valores estadísticos.\n",
        "\n",
        "Normalmente los verán nombrados como: valores faltantes, nulos, missing values, NaN, NA o null."
      ]
    },
    {
      "cell_type": "markdown",
      "metadata": {
        "id": "zg7TU5GCB3Yc"
      },
      "source": [
        "Primero visualizamos la cantidad de respuestas con datos faltantes por cada variable, haciendo uso de la función `.isnull()`:"
      ]
    },
    {
      "cell_type": "code",
      "metadata": {
        "id": "ik9QJnpqM7NZ",
        "colab": {
          "base_uri": "https://localhost:8080/"
        },
        "outputId": "32793d59-751b-4add-9aab-d1e58e79b49a"
      },
      "source": [
        "df.isnull().sum()"
      ],
      "execution_count": null,
      "outputs": [
        {
          "output_type": "execute_result",
          "data": {
            "text/plain": [
              "perfil_genero                                       0\n",
              "perfil_edad                                         0\n",
              "trabajo_pais                                        0\n",
              "trabajo_provincia                                   0\n",
              "perfil_anos_experiencia                             0\n",
              "trabajo_anios_empresa_actual                        0\n",
              "trabajo_anios_puesto_actual                         0\n",
              "trabajo_personas_a_cargo                            0\n",
              "perfil_nivel_estudios                               0\n",
              "perfil_estado_estudios                              0\n",
              "perfil_carrera                                    299\n",
              "perfil_universidad                                534\n",
              "perfil_cursos_especializacion                       0\n",
              "perfil_contribuciones_open_source                   0\n",
              "perfil_programa_como_hobbie                         0\n",
              "trabajo_rol                                         0\n",
              "herramientas_plataforma                             2\n",
              "herramientas_languagjs_programacion                 1\n",
              "herramientas_frameworks                             1\n",
              "herramientas_data_bases                             2\n",
              "herramientas_qa_testing                             6\n",
              "herramientas_IDEs                                   1\n",
              "herramientas_sistema_operativo_pc                   0\n",
              "herramientas_sistema_operativo_cel                  0\n",
              "trabajo_guardias                                    0\n",
              "salario_guardias_pago                               0\n",
              "trabajo_guardias_tipo_pago                          0\n",
              "trabajo_tipo_contrato                               0\n",
              "salario_mensual_BRUTO                               0\n",
              "salario_mensual_NETO                              212\n",
              "salario_salario_dolares                          5419\n",
              "salario_conformidad_sueldo                          0\n",
              "salario_comparacion_sueldo_semestre_anterior        0\n",
              "salario_bonos                                       0\n",
              "salario_bono_atado_a                                0\n",
              "salario_ajustes_inflacion_2020                      0\n",
              "salario_porcentaje_inflacion_ajuste_2020            0\n",
              "salario_mes_ultimo_ajuste_inflacion                 0\n",
              "trabajo_violencia_laboral                         141\n",
              "perfil_orientacion_sexual                         183\n",
              "perfil_discapacidad                              5495\n",
              "perfil_dificultad_ser_contratada_discapacidad    3888\n",
              "compania_cantidad_empleadxs                         0\n",
              "compania_actividad_princiapl                        0\n",
              "compania_recomendacion_lugar_trabajo                0\n",
              "compania_politicas_inclusion                        0\n",
              "compania_beneficios_extra                           1\n",
              "compania_mejor_compania_ciudad                   4403\n",
              "dtype: int64"
            ]
          },
          "metadata": {
            "tags": []
          },
          "execution_count": 29
        }
      ]
    },
    {
      "cell_type": "code",
      "metadata": {
        "colab": {
          "base_uri": "https://localhost:8080/"
        },
        "id": "7pn2y4yw_ggU",
        "outputId": "876bc25a-f192-44a9-d07b-0eb9dc5d1365"
      },
      "source": [
        "# Total de valores nulos\n",
        "df.isnull().sum().sum()"
      ],
      "execution_count": null,
      "outputs": [
        {
          "output_type": "execute_result",
          "data": {
            "text/plain": [
              "20588"
            ]
          },
          "metadata": {
            "tags": []
          },
          "execution_count": 30
        }
      ]
    },
    {
      "cell_type": "code",
      "metadata": {
        "colab": {
          "base_uri": "https://localhost:8080/"
        },
        "id": "TLn5KPFb_s4w",
        "outputId": "b84965cd-25ac-4d01-a0df-75cf479c9a2e"
      },
      "source": [
        "df.shape # de 6095*49=298655 valores en total, un 6,89%."
      ],
      "execution_count": null,
      "outputs": [
        {
          "output_type": "execute_result",
          "data": {
            "text/plain": [
              "(6095, 48)"
            ]
          },
          "metadata": {
            "tags": []
          },
          "execution_count": 31
        }
      ]
    },
    {
      "cell_type": "markdown",
      "metadata": {
        "id": "ewI8GfW1B7km"
      },
      "source": [
        "Y después podemos hacer lo mismo pero con el porcentaje del total de respuestas:"
      ]
    },
    {
      "cell_type": "code",
      "metadata": {
        "id": "Awmm8U1dM7K-",
        "colab": {
          "base_uri": "https://localhost:8080/"
        },
        "outputId": "b1265ef8-83fa-49b8-a1ac-c6d3350960bd"
      },
      "source": [
        "df.isnull().sum()/len(df)*100"
      ],
      "execution_count": null,
      "outputs": [
        {
          "output_type": "execute_result",
          "data": {
            "text/plain": [
              "perfil_genero                                     0.000000\n",
              "perfil_edad                                       0.000000\n",
              "trabajo_pais                                      0.000000\n",
              "trabajo_provincia                                 0.000000\n",
              "perfil_anos_experiencia                           0.000000\n",
              "trabajo_anios_empresa_actual                      0.000000\n",
              "trabajo_anios_puesto_actual                       0.000000\n",
              "trabajo_personas_a_cargo                          0.000000\n",
              "perfil_nivel_estudios                             0.000000\n",
              "perfil_estado_estudios                            0.000000\n",
              "perfil_carrera                                    4.905660\n",
              "perfil_universidad                                8.761280\n",
              "perfil_cursos_especializacion                     0.000000\n",
              "perfil_contribuciones_open_source                 0.000000\n",
              "perfil_programa_como_hobbie                       0.000000\n",
              "trabajo_rol                                       0.000000\n",
              "herramientas_plataforma                           0.032814\n",
              "herramientas_languagjs_programacion               0.016407\n",
              "herramientas_frameworks                           0.016407\n",
              "herramientas_data_bases                           0.032814\n",
              "herramientas_qa_testing                           0.098441\n",
              "herramientas_IDEs                                 0.016407\n",
              "herramientas_sistema_operativo_pc                 0.000000\n",
              "herramientas_sistema_operativo_cel                0.000000\n",
              "trabajo_guardias                                  0.000000\n",
              "salario_guardias_pago                             0.000000\n",
              "trabajo_guardias_tipo_pago                        0.000000\n",
              "trabajo_tipo_contrato                             0.000000\n",
              "salario_mensual_BRUTO                             0.000000\n",
              "salario_mensual_NETO                              3.478261\n",
              "salario_salario_dolares                          88.908942\n",
              "salario_conformidad_sueldo                        0.000000\n",
              "salario_comparacion_sueldo_semestre_anterior      0.000000\n",
              "salario_bonos                                     0.000000\n",
              "salario_bono_atado_a                              0.000000\n",
              "salario_ajustes_inflacion_2020                    0.000000\n",
              "salario_porcentaje_inflacion_ajuste_2020          0.000000\n",
              "salario_mes_ultimo_ajuste_inflacion               0.000000\n",
              "trabajo_violencia_laboral                         2.313372\n",
              "perfil_orientacion_sexual                         3.002461\n",
              "perfil_discapacidad                              90.155865\n",
              "perfil_dificultad_ser_contratada_discapacidad    63.789992\n",
              "compania_cantidad_empleadxs                       0.000000\n",
              "compania_actividad_princiapl                      0.000000\n",
              "compania_recomendacion_lugar_trabajo              0.000000\n",
              "compania_politicas_inclusion                      0.000000\n",
              "compania_beneficios_extra                         0.016407\n",
              "compania_mejor_compania_ciudad                   72.239541\n",
              "dtype: float64"
            ]
          },
          "metadata": {
            "tags": []
          },
          "execution_count": 32
        }
      ]
    },
    {
      "cell_type": "markdown",
      "metadata": {
        "id": "PoQuHSPDChxQ"
      },
      "source": [
        "### **¿Qué se puede hacer con estos valores faltantes?**\n",
        "\n",
        "Bueno, hay varias opciones... Como todo, dependerá de la situación.\n",
        "\n",
        "#### **Eliminar los datos con valores faltantes**\n",
        "\n",
        "La primera y más simple sería realizar lo que se conoce como drop, que consta simplemente de deshacerse de todas las filas (o más raramente columnas) que contengan valores faltantes."
      ]
    },
    {
      "cell_type": "code",
      "metadata": {
        "id": "yWOlMx5DMkwN"
      },
      "source": [
        "df2 = df.copy() # hacemos una copia del df para mostrar esto sin modificar nuestro dataset original"
      ],
      "execution_count": null,
      "outputs": []
    },
    {
      "cell_type": "code",
      "metadata": {
        "id": "90VgdcV1MktF",
        "colab": {
          "base_uri": "https://localhost:8080/"
        },
        "outputId": "1049fcf3-6268-40ec-a03f-4f03952db629"
      },
      "source": [
        "df2.isnull().sum() # verificamos que la suma de nulos sea igual que en df"
      ],
      "execution_count": null,
      "outputs": [
        {
          "output_type": "execute_result",
          "data": {
            "text/plain": [
              "perfil_genero                                       0\n",
              "perfil_edad                                         0\n",
              "trabajo_pais                                        0\n",
              "trabajo_provincia                                   0\n",
              "perfil_anos_experiencia                             0\n",
              "trabajo_anios_empresa_actual                        0\n",
              "trabajo_anios_puesto_actual                         0\n",
              "trabajo_personas_a_cargo                            0\n",
              "perfil_nivel_estudios                               0\n",
              "perfil_estado_estudios                              0\n",
              "perfil_carrera                                    299\n",
              "perfil_universidad                                534\n",
              "perfil_cursos_especializacion                       0\n",
              "perfil_contribuciones_open_source                   0\n",
              "perfil_programa_como_hobbie                         0\n",
              "trabajo_rol                                         0\n",
              "herramientas_plataforma                             2\n",
              "herramientas_languagjs_programacion                 1\n",
              "herramientas_frameworks                             1\n",
              "herramientas_data_bases                             2\n",
              "herramientas_qa_testing                             6\n",
              "herramientas_IDEs                                   1\n",
              "herramientas_sistema_operativo_pc                   0\n",
              "herramientas_sistema_operativo_cel                  0\n",
              "trabajo_guardias                                    0\n",
              "salario_guardias_pago                               0\n",
              "trabajo_guardias_tipo_pago                          0\n",
              "trabajo_tipo_contrato                               0\n",
              "salario_mensual_BRUTO                               0\n",
              "salario_mensual_NETO                              212\n",
              "salario_salario_dolares                          5419\n",
              "salario_conformidad_sueldo                          0\n",
              "salario_comparacion_sueldo_semestre_anterior        0\n",
              "salario_bonos                                       0\n",
              "salario_bono_atado_a                                0\n",
              "salario_ajustes_inflacion_2020                      0\n",
              "salario_porcentaje_inflacion_ajuste_2020            0\n",
              "salario_mes_ultimo_ajuste_inflacion                 0\n",
              "trabajo_violencia_laboral                         141\n",
              "perfil_orientacion_sexual                         183\n",
              "perfil_discapacidad                              5495\n",
              "perfil_dificultad_ser_contratada_discapacidad    3888\n",
              "compania_cantidad_empleadxs                         0\n",
              "compania_actividad_princiapl                        0\n",
              "compania_recomendacion_lugar_trabajo                0\n",
              "compania_politicas_inclusion                        0\n",
              "compania_beneficios_extra                           1\n",
              "compania_mejor_compania_ciudad                   4403\n",
              "dtype: int64"
            ]
          },
          "metadata": {
            "tags": []
          },
          "execution_count": 34
        }
      ]
    },
    {
      "cell_type": "markdown",
      "metadata": {
        "id": "lPkt6Fg1DjV6"
      },
      "source": [
        "Ahora que ya tenemos la copia de nuestro df, ya podemos *dropear*:"
      ]
    },
    {
      "cell_type": "code",
      "metadata": {
        "id": "RrATU6xADi7I"
      },
      "source": [
        "df2.dropna(inplace = True)\n",
        "# Con \"inplace = True\", le indicamos que se borran los registros del df2, es decir, lo modificamos y ya no tendrá valores faltantes."
      ],
      "execution_count": null,
      "outputs": []
    },
    {
      "cell_type": "markdown",
      "metadata": {
        "id": "vXnxMdbkDxog"
      },
      "source": [
        "Y corroboramos:"
      ]
    },
    {
      "cell_type": "code",
      "metadata": {
        "id": "GZc2eNSAMkp4",
        "colab": {
          "base_uri": "https://localhost:8080/"
        },
        "outputId": "0de50745-04c8-4e21-cd46-203f22508e43"
      },
      "source": [
        "df2.isna().sum()"
      ],
      "execution_count": null,
      "outputs": [
        {
          "output_type": "execute_result",
          "data": {
            "text/plain": [
              "perfil_genero                                    0\n",
              "perfil_edad                                      0\n",
              "trabajo_pais                                     0\n",
              "trabajo_provincia                                0\n",
              "perfil_anos_experiencia                          0\n",
              "trabajo_anios_empresa_actual                     0\n",
              "trabajo_anios_puesto_actual                      0\n",
              "trabajo_personas_a_cargo                         0\n",
              "perfil_nivel_estudios                            0\n",
              "perfil_estado_estudios                           0\n",
              "perfil_carrera                                   0\n",
              "perfil_universidad                               0\n",
              "perfil_cursos_especializacion                    0\n",
              "perfil_contribuciones_open_source                0\n",
              "perfil_programa_como_hobbie                      0\n",
              "trabajo_rol                                      0\n",
              "herramientas_plataforma                          0\n",
              "herramientas_languagjs_programacion              0\n",
              "herramientas_frameworks                          0\n",
              "herramientas_data_bases                          0\n",
              "herramientas_qa_testing                          0\n",
              "herramientas_IDEs                                0\n",
              "herramientas_sistema_operativo_pc                0\n",
              "herramientas_sistema_operativo_cel               0\n",
              "trabajo_guardias                                 0\n",
              "salario_guardias_pago                            0\n",
              "trabajo_guardias_tipo_pago                       0\n",
              "trabajo_tipo_contrato                            0\n",
              "salario_mensual_BRUTO                            0\n",
              "salario_mensual_NETO                             0\n",
              "salario_salario_dolares                          0\n",
              "salario_conformidad_sueldo                       0\n",
              "salario_comparacion_sueldo_semestre_anterior     0\n",
              "salario_bonos                                    0\n",
              "salario_bono_atado_a                             0\n",
              "salario_ajustes_inflacion_2020                   0\n",
              "salario_porcentaje_inflacion_ajuste_2020         0\n",
              "salario_mes_ultimo_ajuste_inflacion              0\n",
              "trabajo_violencia_laboral                        0\n",
              "perfil_orientacion_sexual                        0\n",
              "perfil_discapacidad                              0\n",
              "perfil_dificultad_ser_contratada_discapacidad    0\n",
              "compania_cantidad_empleadxs                      0\n",
              "compania_actividad_princiapl                     0\n",
              "compania_recomendacion_lugar_trabajo             0\n",
              "compania_politicas_inclusion                     0\n",
              "compania_beneficios_extra                        0\n",
              "compania_mejor_compania_ciudad                   0\n",
              "dtype: int64"
            ]
          },
          "metadata": {
            "tags": []
          },
          "execution_count": 36
        }
      ]
    },
    {
      "cell_type": "markdown",
      "metadata": {
        "id": "hZBEovw0D2Gu"
      },
      "source": [
        "¡Genial! No tenemos más valores faltantes.\n",
        "\n",
        "Sin embargo, como ya se remarcó, esta no siempre es la mejor opción.\n",
        "\n",
        "Entonces, ¿qué otra cosa podríamos hacer?"
      ]
    },
    {
      "cell_type": "markdown",
      "metadata": {
        "id": "bu0cW1blEhyA"
      },
      "source": [
        "### **Imputar por la media o mediana**\n",
        "\n",
        "Otra opción es imputar ese valor por algún valor estadístico, como la media o la mediana...\n",
        "Las ventajas son que es fácil, rápido y refleja mejor la distribución de la variable.\n",
        "Pero también tiene desventajas: no tiene en cuenta las correlaciones entre características, es decir, solo funciona a nivel de columna. Tampoco es muy preciso, es sensible a valores extremos* y su uso no es útil en variables categóricas.\n",
        "\n",
        "*es conveniente primero hacer la limpieza de valores extremos y posteriormente realizar esta imputación."
      ]
    },
    {
      "cell_type": "code",
      "metadata": {
        "id": "FkXOkBsGGckE"
      },
      "source": [
        "df3 = df.copy() # nuevamente hacemos una copia para no modificar al original"
      ],
      "execution_count": null,
      "outputs": []
    },
    {
      "cell_type": "code",
      "metadata": {
        "id": "u2CHmDVeGVFe"
      },
      "source": [
        "df3.fillna(df3.mean(), inplace = True)"
      ],
      "execution_count": null,
      "outputs": []
    },
    {
      "cell_type": "code",
      "metadata": {
        "colab": {
          "base_uri": "https://localhost:8080/"
        },
        "id": "mBs_aysCGpsn",
        "outputId": "673636d9-a8e2-4a84-ddc1-fdceda8c2fd2"
      },
      "source": [
        "df3.isna().sum()"
      ],
      "execution_count": null,
      "outputs": [
        {
          "output_type": "execute_result",
          "data": {
            "text/plain": [
              "perfil_genero                                       0\n",
              "perfil_edad                                         0\n",
              "trabajo_pais                                        0\n",
              "trabajo_provincia                                   0\n",
              "perfil_anos_experiencia                             0\n",
              "trabajo_anios_empresa_actual                        0\n",
              "trabajo_anios_puesto_actual                         0\n",
              "trabajo_personas_a_cargo                            0\n",
              "perfil_nivel_estudios                               0\n",
              "perfil_estado_estudios                              0\n",
              "perfil_carrera                                    299\n",
              "perfil_universidad                                534\n",
              "perfil_cursos_especializacion                       0\n",
              "perfil_contribuciones_open_source                   0\n",
              "perfil_programa_como_hobbie                         0\n",
              "trabajo_rol                                         0\n",
              "herramientas_plataforma                             2\n",
              "herramientas_languagjs_programacion                 1\n",
              "herramientas_frameworks                             1\n",
              "herramientas_data_bases                             2\n",
              "herramientas_qa_testing                             6\n",
              "herramientas_IDEs                                   1\n",
              "herramientas_sistema_operativo_pc                   0\n",
              "herramientas_sistema_operativo_cel                  0\n",
              "trabajo_guardias                                    0\n",
              "salario_guardias_pago                               0\n",
              "trabajo_guardias_tipo_pago                          0\n",
              "trabajo_tipo_contrato                               0\n",
              "salario_mensual_BRUTO                               0\n",
              "salario_mensual_NETO                                0\n",
              "salario_salario_dolares                          5419\n",
              "salario_conformidad_sueldo                          0\n",
              "salario_comparacion_sueldo_semestre_anterior        0\n",
              "salario_bonos                                       0\n",
              "salario_bono_atado_a                                0\n",
              "salario_ajustes_inflacion_2020                      0\n",
              "salario_porcentaje_inflacion_ajuste_2020            0\n",
              "salario_mes_ultimo_ajuste_inflacion                 0\n",
              "trabajo_violencia_laboral                         141\n",
              "perfil_orientacion_sexual                         183\n",
              "perfil_discapacidad                              5495\n",
              "perfil_dificultad_ser_contratada_discapacidad    3888\n",
              "compania_cantidad_empleadxs                         0\n",
              "compania_actividad_princiapl                        0\n",
              "compania_recomendacion_lugar_trabajo                0\n",
              "compania_politicas_inclusion                        0\n",
              "compania_beneficios_extra                           1\n",
              "compania_mejor_compania_ciudad                   4403\n",
              "dtype: int64"
            ]
          },
          "metadata": {
            "tags": []
          },
          "execution_count": 39
        }
      ]
    },
    {
      "cell_type": "markdown",
      "metadata": {
        "id": "_RD6gfoKHqs8"
      },
      "source": [
        "¿Se les ocurre por qué algunas variables siguen teniendo valores faltantes?\n",
        "\n",
        "¡Exacto! Son variables categóricas, así que no tienen media. En este caso, podríamos imputar por la moda (valor más frecuente)."
      ]
    },
    {
      "cell_type": "markdown",
      "metadata": {
        "id": "jbRLdgPxAnyL"
      },
      "source": [
        "### **Imputar por la moda**"
      ]
    },
    {
      "cell_type": "code",
      "metadata": {
        "id": "IJgzhJc-H5Js"
      },
      "source": [
        "df3.fillna(df.mode().iloc[0], inplace = True) # .iloc[0] hace que la moda se calcule independientemente para cada columna."
      ],
      "execution_count": null,
      "outputs": []
    },
    {
      "cell_type": "code",
      "metadata": {
        "colab": {
          "base_uri": "https://localhost:8080/"
        },
        "id": "zA7Lwg3QH8Vu",
        "outputId": "14981b17-e67a-452d-b69a-50050299817b"
      },
      "source": [
        "df3.isna().sum()"
      ],
      "execution_count": null,
      "outputs": [
        {
          "output_type": "execute_result",
          "data": {
            "text/plain": [
              "perfil_genero                                    0\n",
              "perfil_edad                                      0\n",
              "trabajo_pais                                     0\n",
              "trabajo_provincia                                0\n",
              "perfil_anos_experiencia                          0\n",
              "trabajo_anios_empresa_actual                     0\n",
              "trabajo_anios_puesto_actual                      0\n",
              "trabajo_personas_a_cargo                         0\n",
              "perfil_nivel_estudios                            0\n",
              "perfil_estado_estudios                           0\n",
              "perfil_carrera                                   0\n",
              "perfil_universidad                               0\n",
              "perfil_cursos_especializacion                    0\n",
              "perfil_contribuciones_open_source                0\n",
              "perfil_programa_como_hobbie                      0\n",
              "trabajo_rol                                      0\n",
              "herramientas_plataforma                          0\n",
              "herramientas_languagjs_programacion              0\n",
              "herramientas_frameworks                          0\n",
              "herramientas_data_bases                          0\n",
              "herramientas_qa_testing                          0\n",
              "herramientas_IDEs                                0\n",
              "herramientas_sistema_operativo_pc                0\n",
              "herramientas_sistema_operativo_cel               0\n",
              "trabajo_guardias                                 0\n",
              "salario_guardias_pago                            0\n",
              "trabajo_guardias_tipo_pago                       0\n",
              "trabajo_tipo_contrato                            0\n",
              "salario_mensual_BRUTO                            0\n",
              "salario_mensual_NETO                             0\n",
              "salario_salario_dolares                          0\n",
              "salario_conformidad_sueldo                       0\n",
              "salario_comparacion_sueldo_semestre_anterior     0\n",
              "salario_bonos                                    0\n",
              "salario_bono_atado_a                             0\n",
              "salario_ajustes_inflacion_2020                   0\n",
              "salario_porcentaje_inflacion_ajuste_2020         0\n",
              "salario_mes_ultimo_ajuste_inflacion              0\n",
              "trabajo_violencia_laboral                        0\n",
              "perfil_orientacion_sexual                        0\n",
              "perfil_discapacidad                              0\n",
              "perfil_dificultad_ser_contratada_discapacidad    0\n",
              "compania_cantidad_empleadxs                      0\n",
              "compania_actividad_princiapl                     0\n",
              "compania_recomendacion_lugar_trabajo             0\n",
              "compania_politicas_inclusion                     0\n",
              "compania_beneficios_extra                        0\n",
              "compania_mejor_compania_ciudad                   0\n",
              "dtype: int64"
            ]
          },
          "metadata": {
            "tags": []
          },
          "execution_count": 41
        }
      ]
    },
    {
      "cell_type": "markdown",
      "metadata": {
        "id": "shtGWRftHIGe"
      },
      "source": [
        "Otras opciones:\n",
        "\n",
        "- **Imputar por un valor fijo**. Se debe ser cuidadoso porque los valores imputados modificarán la distrribución y estadísticas de nuestros datos. Por ejemplo reemplazar en un dataset de propiedades en venta, el valor faltante de baños por 1, ya que todas las propiedades debieran tener al menos 1 baño.\n",
        "- **Imputar por un valor al azar que esté en esa misma columna** (no muy utilizado). Es decir, para los valores faltantes en la edad, tomará algún valor al azar presente en la variable edad y lo colocará en lugar de ese valor faltante.\n",
        "- **Imputar utilizando métodos de predicción**: éstos métodos nos permiten utilizar para predecir los datos faltantes de una columna, no sólo los datos que si tenemos de esa variable, si no, utilizar datos de otras variables numéricas. Algunos de éstos métodos son \"K vecinos más próximos (KNN)\", \"Árboles de Decisión\". Aunque no vamos a verlos en éste encuentro, sepan que se puede ¡y vale la pena investigarlo una vez que terminen este bootcamp!"
      ]
    },
    {
      "cell_type": "markdown",
      "metadata": {
        "id": "5f5-YGjnBipZ"
      },
      "source": [
        "## Ejercicio 2 - Curación de datos\n",
        "\n",
        "Analizar la variable `'salario_mensual_NETO'` para detectar valores extremos\n",
        "Hints:\n",
        "- Analizar sus valores, con las funciones .describe().round(3) o su rango con .min() y .max()\n",
        "- Realizar un diagrama de caja (función sns.boxplot) que visualize los cuartiles de la variable y los posibles valores atípicos.\n",
        "- Decidir el rango de valores que queremos conservar (o eliminar) y crear un nuevo dataframe que tenga todos los mismos datos que el dataframe original (df), pero con los valores de salarios netos que no queremos, ya filtrados o eliminados."
      ]
    },
    {
      "cell_type": "code",
      "metadata": {
        "colab": {
          "base_uri": "https://localhost:8080/"
        },
        "id": "MTbYJ6NHE8Dd",
        "outputId": "5d0dc60e-d1e9-42e7-9c7a-cb64ac785765"
      },
      "source": [
        "# Responder acá, rangos de valores de la variable\n",
        "df[\"salario_mensual_NETO\"].describe().round(3)"
      ],
      "execution_count": null,
      "outputs": [
        {
          "output_type": "execute_result",
          "data": {
            "text/plain": [
              "count       5883.000\n",
              "mean       94907.949\n",
              "std        96862.258\n",
              "min            1.000\n",
              "25%        51480.000\n",
              "50%        78000.000\n",
              "75%       106000.000\n",
              "max      2080000.000\n",
              "Name: salario_mensual_NETO, dtype: float64"
            ]
          },
          "metadata": {
            "tags": []
          },
          "execution_count": 42
        }
      ]
    },
    {
      "cell_type": "code",
      "metadata": {
        "colab": {
          "base_uri": "https://localhost:8080/"
        },
        "id": "OXwRWZBhE8Ax",
        "outputId": "8e3c6323-1b33-43ff-fe61-46a14f3ed1b9"
      },
      "source": [
        "# Responder acá, rangos de valores de la variable\n",
        "print(\"Rango: \", df[\"salario_mensual_NETO\"].min(), df[\"salario_mensual_NETO\"].max())"
      ],
      "execution_count": null,
      "outputs": [
        {
          "output_type": "stream",
          "text": [
            "Rango:  1.0 2080000.0\n"
          ],
          "name": "stdout"
        }
      ]
    },
    {
      "cell_type": "code",
      "metadata": {
        "colab": {
          "base_uri": "https://localhost:8080/",
          "height": 394
        },
        "id": "76KEue_kFUis",
        "outputId": "9b697de1-f372-4c71-b0e2-c4f560801cb2"
      },
      "source": [
        "# Boxplot\n",
        "sns.set(rc={'figure.figsize':(10,6)})\n",
        "sns.boxplot(x=df[\"salario_mensual_NETO\"])\n",
        "plt.ticklabel_format(style='plain', axis='x') # Para evitar la notación científica en las etiquetas"
      ],
      "execution_count": null,
      "outputs": [
        {
          "output_type": "display_data",
          "data": {
            "image/png": "[encoded data removed]",
            "text/plain": [
              "<Figure size 720x432 with 1 Axes>"
            ]
          },
          "metadata": {
            "tags": []
          }
        }
      ]
    },
    {
      "cell_type": "code",
      "metadata": {
        "id": "cGRNk8XqE76S"
      },
      "source": [
        "# Filtro los salarios\n",
        "df_filtrado2 = df[(df[\"salario_mensual_NETO\"] < 500000) & (df[\"salario_mensual_NETO\"] > 17000)] # 6095-5583 = 512 filas eliminadas (8.4%)."
      ],
      "execution_count": null,
      "outputs": []
    },
    {
      "cell_type": "code",
      "metadata": {
        "id": "_IqnGGeoE73O"
      },
      "source": [],
      "execution_count": null,
      "outputs": []
    },
    {
      "cell_type": "code",
      "metadata": {
        "id": "S-guw6wiGEZJ"
      },
      "source": [],
      "execution_count": null,
      "outputs": []
    },
    {
      "cell_type": "code",
      "metadata": {
        "id": "nyX1tTIjGEWH"
      },
      "source": [],
      "execution_count": null,
      "outputs": []
    },
    {
      "cell_type": "code",
      "metadata": {
        "id": "0sbnMq6rGEIM"
      },
      "source": [],
      "execution_count": null,
      "outputs": []
    },
    {
      "cell_type": "code",
      "metadata": {
        "id": "oga3_IstGEE1"
      },
      "source": [],
      "execution_count": null,
      "outputs": []
    },
    {
      "cell_type": "code",
      "metadata": {
        "id": "BrdOZHOtGD9x"
      },
      "source": [],
      "execution_count": null,
      "outputs": []
    },
    {
      "cell_type": "markdown",
      "metadata": {
        "id": "7RfFYNPIa_sh"
      },
      "source": [
        "## Bonus track: gráficos de puntos (scatterplots)\n",
        "\n",
        "* Eje y: variable numérica continua\n",
        "* Eje x: variable numérica continua\n",
        "\n",
        "Muestra la relación entre 2 o 3 variables numéricas continuas. Adicionalmente, se puede usar el color y la forma de los puntos para variables categóricas, y el tamaño para una variable numérica extra."
      ]
    },
    {
      "cell_type": "markdown",
      "metadata": {
        "id": "cmXGJV7ebHqO"
      },
      "source": [
        "En el siguiente gráfico se ve como, a pesar de que la edad es una variable continua, el scatter plot no es una visualización que permite encontrar patrones en los datos ya que los puntos se superponen demasiado."
      ]
    },
    {
      "cell_type": "code",
      "metadata": {
        "id": "DYD51EadaJZP",
        "colab": {
          "base_uri": "https://localhost:8080/",
          "height": 394
        },
        "outputId": "e2ef1055-536a-40d0-a05b-0bbd2bad92e9"
      },
      "source": [
        "plt.figure(figsize=(10,6))\n",
        "edad_max = 100\n",
        "sns.scatterplot(data=df[df[\"perfil_edad\"] < edad_max],\n",
        "                    x='perfil_edad', y='salario_mensual_NETO')\n",
        "plt.ticklabel_format(style='plain', axis='y') # Para evitar la notación científica en las etiquetas"
      ],
      "execution_count": null,
      "outputs": [
        {
          "output_type": "display_data",
          "data": {
            "image/png": "[encoded data removed]",
            "text/plain": [
              "<Figure size 720x432 with 1 Axes>"
            ]
          },
          "metadata": {
            "tags": []
          }
        }
      ]
    },
    {
      "cell_type": "markdown",
      "metadata": {
        "id": "ExwwssmqbqZG"
      },
      "source": [
        "En este conjunto de datos en particular, el scatterplot no nos ayuda a esclarecer las distribuciones de las variables. Esto sucede por dos motivos:\n",
        "* Los valores se acumulan en algunos rangos y son muy esparsos en otros.\n",
        "* Hay demasiados datos como para que cada punto aporte información relevante."
      ]
    },
    {
      "cell_type": "code",
      "metadata": {
        "id": "7p6w_jgzaJWq",
        "colab": {
          "base_uri": "https://localhost:8080/",
          "height": 422
        },
        "outputId": "97156461-6368-4607-faea-b436c5822478"
      },
      "source": [
        "plt.figure(figsize=(10,6))\n",
        "sns.scatterplot(data=df, #df[(df[\"salario_mensual_NETO\"] < 500000) & (df[\"perfil_anos_experiencia\"] < 50)],\n",
        "                    x='perfil_anos_experiencia', y='salario_mensual_NETO'\n",
        "                    # marker=\".\",\n",
        "                    # s=10,  # marker size\n",
        "                )"
      ],
      "execution_count": null,
      "outputs": [
        {
          "output_type": "execute_result",
          "data": {
            "text/plain": [
              "<matplotlib.axes._subplots.AxesSubplot at 0x7fbdaa4c8310>"
            ]
          },
          "metadata": {
            "tags": []
          },
          "execution_count": 47
        },
        {
          "output_type": "display_data",
          "data": {
            "image/png": "[encoded data removed]",
            "text/plain": [
              "<Figure size 720x432 with 1 Axes>"
            ]
          },
          "metadata": {
            "tags": []
          }
        }
      ]
    },
    {
      "cell_type": "markdown",
      "metadata": {
        "id": "bv9JNjhXdBm3"
      },
      "source": [
        "Sin embargo, el poder de los scatterplots radica en que el elemento gráfico usado (el punto) tiene un peso visual muy bajo, y por lo tanto podemos codificar múltiples variables en una misma visualización."
      ]
    },
    {
      "cell_type": "code",
      "metadata": {
        "id": "8udgwWHddBEi",
        "colab": {
          "base_uri": "https://localhost:8080/",
          "height": 570
        },
        "outputId": "ceb3c839-e404-48d2-83d0-fddf446aea47"
      },
      "source": [
        "df['salario_en_usd_bool'] = ~df['salario_salario_dolares'].isna()\n",
        "print(df['salario_en_usd_bool'].value_counts())\n",
        "\n",
        "plt.figure(figsize=(12,8))\n",
        "mask = (df['perfil_anos_experiencia'] < 40) & (df['salario_mensual_NETO'] < 500000)\n",
        "sns.scatterplot(data=df[mask], #.sample(500),\n",
        "                    x='perfil_anos_experiencia', y='salario_mensual_NETO',\n",
        "                    marker='.',\n",
        "                    hue='salario_en_usd_bool',\n",
        "                    size='trabajo_anios_empresa_actual')\n",
        "plt.legend(bbox_to_anchor=(1.05, 1), loc=2, borderaxespad=0.)"
      ],
      "execution_count": null,
      "outputs": [
        {
          "output_type": "stream",
          "text": [
            "False    5419\n",
            "True      676\n",
            "Name: salario_en_usd_bool, dtype: int64\n"
          ],
          "name": "stdout"
        },
        {
          "output_type": "execute_result",
          "data": {
            "text/plain": [
              "<matplotlib.legend.Legend at 0x7fbdaa42f410>"
            ]
          },
          "metadata": {
            "tags": []
          },
          "execution_count": 48
        },
        {
          "output_type": "display_data",
          "data": {
            "image/png": "[encoded data removed]",
            "text/plain": [
              "<Figure size 864x576 with 1 Axes>"
            ]
          },
          "metadata": {
            "tags": []
          }
        }
      ]
    }
  ]
}