{
  "nbformat": 4,
  "nbformat_minor": 0,
  "metadata": {
    "colab": {
      "provenance": [],
      "include_colab_link": true
    },
    "kernelspec": {
      "name": "python3",
      "display_name": "Python 3"
    },
    "language_info": {
      "name": "python"
    }
  },
  "cells": [
    {
      "cell_type": "markdown",
      "metadata": {
        "id": "view-in-github",
        "colab_type": "text"
      },
      "source": [
        "<a href=\"https://colab.research.google.com/github/Danangellotti/Ciencia_de_Datos_UGR_24/blob/main/Copia_de_Semana_09_Tema_01_DVC.ipynb\" target=\"_parent\"><img src=\"https://colab.research.google.com/assets/colab-badge.svg\" alt=\"Open In Colab\"/></a>"
      ]
    },
    {
      "cell_type": "markdown",
      "source": [
        "# [DVC](https://dvc.org)\n",
        "\n",
        "Data Version Control (DVC) es una herramienta gratuita y de código abierto para la gestión de datos, la automatización de proyectos de machine learning (ML) y la gestión de experimentos. Esto ayuda a los equipos de ciencia de datos y al aprendizaje automático a gestionar grandes conjuntos de datos y hacer que los proyectos sean reproducibles.\n",
        "\n",
        "DVC aprovecha el conjunto de herramientas Git, su IDE, CI/CD, almacenamiento en la nube, etc.).\n",
        "\n",
        "Su diseño sigue este conjunto de principios:\n",
        "\n",
        "- Codificación: Define cualquier aspecto de tu proyecto de ML (versiones de datos y modelos, pipelines de ML y experimentos) en metaarchivos legibles por humanos. Esto permite utilizar las mejores prácticas y conjuntos de herramientas de ingeniería establecidos, reduciendo la brecha con la ciencia de datos.\n",
        "- Versionado: Utilice Git (o cualquier SCM) para versionar y compartir todo su proyecto de ML, incluido su código fuente y configuración, parámetros y métricas, así como activos de datos y procesos mediante la confirmación de metaarchivos DVC (como marcadores de posición).\n",
        "- Colaboración segura: Controla el acceso a todos los aspectos de tu proyecto y compártelos con las personas y equipos que elijas.\n",
        "\n",
        "A diferencia de Git me permite versionar archivo binarios o de gran tamaño. Git en sus inicios no fue pensado para versionar estos archivos, actualmente existe git-lfs (large file system) para tracearlos.\n",
        "\n",
        "Una de las ventajas actuales de DVC es que no solo permite el traceo de archivos sino que agrega el traceo y gestión de experimentos.\n",
        "\n",
        "DVC funciona si o si dentro de un repositorio git."
      ],
      "metadata": {
        "id": "O_n1nq7VKxko"
      }
    },
    {
      "cell_type": "markdown",
      "source": [
        "## [Instalación](https://dvc.org/doc/install)"
      ],
      "metadata": {
        "id": "_pWrMrNmxZZZ"
      }
    },
    {
      "cell_type": "code",
      "source": [
        "# eliminación de directorios para ejecutar varias veces sin reinicar el notebook\n",
        "# %cd /content\n",
        "# !rm -rf semana_09_teoria\n",
        "# !rm -rf semana_09_teoria_clone_get\n",
        "# !rm -rf semana_09_teoria_clone_pull"
      ],
      "metadata": {
        "colab": {
          "base_uri": "https://localhost:8080/"
        },
        "id": "yjKXz2rqLofn",
        "outputId": "9d480faf-40c0-47db-b449-05e403ab081f"
      },
      "execution_count": null,
      "outputs": [
        {
          "output_type": "stream",
          "name": "stdout",
          "text": [
            "/content\n"
          ]
        }
      ]
    },
    {
      "cell_type": "code",
      "source": [
        "# puede mostrar un warning donde se necesita recargar el notebook, es normal.\n",
        "!pip install -q dvc\n",
        "\n",
        "# otra forma de instalar dvc y no muestra el warning que se mencionó con el pip\n",
        "#! wget https://dvc.org/deb/dvc.list -O /etc/apt/sources.list.d/dvc.list\n",
        "#! wget -qO - https://dvc.org/deb/iterative.asc | gpg --dearmor > packages.iterative.gpg\n",
        "#! install -o root -g root -m 644 packages.iterative.gpg /etc/apt/trusted.gpg.d/\n",
        "#! rm -f packages.iterative.gpg\n",
        "#! apt update\n",
        "#! apt install dvc"
      ],
      "metadata": {
        "id": "RgBDdMtWwtU5",
        "colab": {
          "base_uri": "https://localhost:8080/"
        },
        "outputId": "0ecd999a-675d-4a00-fa26-f9e14e38f8a9"
      },
      "execution_count": null,
      "outputs": [
        {
          "output_type": "stream",
          "name": "stdout",
          "text": [
            "\u001b[2K     \u001b[90m━━━━━━━━━━━━━━━━━━━━━━━━━━━━━━━━━━━━━━━\u001b[0m \u001b[32m439.4/439.4 kB\u001b[0m \u001b[31m8.1 MB/s\u001b[0m eta \u001b[36m0:00:00\u001b[0m\n",
            "\u001b[2K     \u001b[90m━━━━━━━━━━━━━━━━━━━━━━━━━━━━━━━━━━━━━━━━\u001b[0m \u001b[32m61.5/61.5 kB\u001b[0m \u001b[31m6.8 MB/s\u001b[0m eta \u001b[36m0:00:00\u001b[0m\n",
            "\u001b[2K     \u001b[90m━━━━━━━━━━━━━━━━━━━━━━━━━━━━━━━━━━━━━━━━\u001b[0m \u001b[32m41.8/41.8 kB\u001b[0m \u001b[31m4.5 MB/s\u001b[0m eta \u001b[36m0:00:00\u001b[0m\n",
            "\u001b[2K     \u001b[90m━━━━━━━━━━━━━━━━━━━━━━━━━━━━━━━━━━━━━━\u001b[0m \u001b[32m154.5/154.5 kB\u001b[0m \u001b[31m16.0 MB/s\u001b[0m eta \u001b[36m0:00:00\u001b[0m\n",
            "\u001b[2K     \u001b[90m━━━━━━━━━━━━━━━━━━━━━━━━━━━━━━━━━━━━━━\u001b[0m \u001b[32m109.1/109.1 kB\u001b[0m \u001b[31m10.5 MB/s\u001b[0m eta \u001b[36m0:00:00\u001b[0m\n",
            "\u001b[2K     \u001b[90m━━━━━━━━━━━━━━━━━━━━━━━━━━━━━━━━━━━━━━━━\u001b[0m \u001b[32m54.7/54.7 kB\u001b[0m \u001b[31m6.2 MB/s\u001b[0m eta \u001b[36m0:00:00\u001b[0m\n",
            "\u001b[2K     \u001b[90m━━━━━━━━━━━━━━━━━━━━━━━━━━━━━━━━━━━━━━━━\u001b[0m \u001b[32m45.6/45.6 kB\u001b[0m \u001b[31m3.2 MB/s\u001b[0m eta \u001b[36m0:00:00\u001b[0m\n",
            "\u001b[?25h  Preparing metadata (setup.py) ... \u001b[?25l\u001b[?25hdone\n",
            "\u001b[2K     \u001b[90m━━━━━━━━━━━━━━━━━━━━━━━━━━━━━━━━━━━━━━\u001b[0m \u001b[32m510.1/510.1 kB\u001b[0m \u001b[31m30.5 MB/s\u001b[0m eta \u001b[36m0:00:00\u001b[0m\n",
            "\u001b[2K     \u001b[90m━━━━━━━━━━━━━━━━━━━━━━━━━━━━━━━━━━━━━━\u001b[0m \u001b[32m405.6/405.6 kB\u001b[0m \u001b[31m29.7 MB/s\u001b[0m eta \u001b[36m0:00:00\u001b[0m\n",
            "\u001b[2K     \u001b[90m━━━━━━━━━━━━━━━━━━━━━━━━━━━━━━━━━━━━━━\u001b[0m \u001b[32m189.2/189.2 kB\u001b[0m \u001b[31m18.6 MB/s\u001b[0m eta \u001b[36m0:00:00\u001b[0m\n",
            "\u001b[2K     \u001b[90m━━━━━━━━━━━━━━━━━━━━━━━━━━━━━━━━━━━━━━━━\u001b[0m \u001b[32m79.5/79.5 kB\u001b[0m \u001b[31m8.0 MB/s\u001b[0m eta \u001b[36m0:00:00\u001b[0m\n",
            "\u001b[2K     \u001b[90m━━━━━━━━━━━━━━━━━━━━━━━━━━━━━━━━━━━━━━\u001b[0m \u001b[32m117.0/117.0 kB\u001b[0m \u001b[31m13.1 MB/s\u001b[0m eta \u001b[36m0:00:00\u001b[0m\n",
            "\u001b[?25h  Preparing metadata (setup.py) ... \u001b[?25l\u001b[?25hdone\n",
            "\u001b[2K     \u001b[90m━━━━━━━━━━━━━━━━━━━━━━━━━━━━━━━━━━━━━━\u001b[0m \u001b[32m485.6/485.6 kB\u001b[0m \u001b[31m31.1 MB/s\u001b[0m eta \u001b[36m0:00:00\u001b[0m\n",
            "\u001b[2K     \u001b[90m━━━━━━━━━━━━━━━━━━━━━━━━━━━━━━━━━━━━━━\u001b[0m \u001b[32m184.3/184.3 kB\u001b[0m \u001b[31m20.7 MB/s\u001b[0m eta \u001b[36m0:00:00\u001b[0m\n",
            "\u001b[2K     \u001b[90m━━━━━━━━━━━━━━━━━━━━━━━━━━━━━━━━━━━━━━━━\u001b[0m \u001b[32m4.9/4.9 MB\u001b[0m \u001b[31m51.8 MB/s\u001b[0m eta \u001b[36m0:00:00\u001b[0m\n",
            "\u001b[2K     \u001b[90m━━━━━━━━━━━━━━━━━━━━━━━━━━━━━━━━━━━━━━\u001b[0m \u001b[32m348.5/348.5 kB\u001b[0m \u001b[31m32.5 MB/s\u001b[0m eta \u001b[36m0:00:00\u001b[0m\n",
            "\u001b[2K     \u001b[90m━━━━━━━━━━━━━━━━━━━━━━━━━━━━━━━━━━━━━━━━\u001b[0m \u001b[32m1.0/1.0 MB\u001b[0m \u001b[31m65.5 MB/s\u001b[0m eta \u001b[36m0:00:00\u001b[0m\n",
            "\u001b[2K     \u001b[90m━━━━━━━━━━━━━━━━━━━━━━━━━━━━━━━━━━━━━━━━\u001b[0m \u001b[32m89.5/89.5 kB\u001b[0m \u001b[31m10.0 MB/s\u001b[0m eta \u001b[36m0:00:00\u001b[0m\n",
            "\u001b[2K     \u001b[90m━━━━━━━━━━━━━━━━━━━━━━━━━━━━━━━━━━━━━━━━\u001b[0m \u001b[32m62.7/62.7 kB\u001b[0m \u001b[31m7.2 MB/s\u001b[0m eta \u001b[36m0:00:00\u001b[0m\n",
            "\u001b[2K     \u001b[90m━━━━━━━━━━━━━━━━━━━━━━━━━━━━━━━━━━━━━━━━\u001b[0m \u001b[32m50.8/50.8 kB\u001b[0m \u001b[31m5.3 MB/s\u001b[0m eta \u001b[36m0:00:00\u001b[0m\n",
            "\u001b[2K     \u001b[90m━━━━━━━━━━━━━━━━━━━━━━━━━━━━━━━━━━━━━━\u001b[0m \u001b[32m137.2/137.2 kB\u001b[0m \u001b[31m15.3 MB/s\u001b[0m eta \u001b[36m0:00:00\u001b[0m\n",
            "\u001b[2K     \u001b[90m━━━━━━━━━━━━━━━━━━━━━━━━━━━━━━━━━━━━━━\u001b[0m \u001b[32m114.5/114.5 kB\u001b[0m \u001b[31m13.0 MB/s\u001b[0m eta \u001b[36m0:00:00\u001b[0m\n",
            "\u001b[2K     \u001b[90m━━━━━━━━━━━━━━━━━━━━━━━━━━━━━━━━━━━━━━\u001b[0m \u001b[32m268.8/268.8 kB\u001b[0m \u001b[31m23.5 MB/s\u001b[0m eta \u001b[36m0:00:00\u001b[0m\n",
            "\u001b[2K     \u001b[90m━━━━━━━━━━━━━━━━━━━━━━━━━━━━━━━━━━━━━━\u001b[0m \u001b[32m149.6/149.6 kB\u001b[0m \u001b[31m15.3 MB/s\u001b[0m eta \u001b[36m0:00:00\u001b[0m\n",
            "\u001b[?25h  Building wheel for antlr4-python3-runtime (setup.py) ... \u001b[?25l\u001b[?25hdone\n",
            "  Building wheel for nanotime (setup.py) ... \u001b[?25l\u001b[?25hdone\n"
          ]
        }
      ]
    },
    {
      "cell_type": "markdown",
      "source": [
        "## Versión"
      ],
      "metadata": {
        "id": "_ZkLsQuKxgLA"
      }
    },
    {
      "cell_type": "code",
      "source": [
        "!dvc --version"
      ],
      "metadata": {
        "colab": {
          "base_uri": "https://localhost:8080/"
        },
        "id": "67_mt6PZxikX",
        "outputId": "84b2e082-a7e8-4998-f5ae-cb81a3749c10"
      },
      "execution_count": null,
      "outputs": [
        {
          "output_type": "stream",
          "name": "stdout",
          "text": [
            "2.56.0\n",
            "\u001b[0m"
          ]
        }
      ]
    },
    {
      "cell_type": "markdown",
      "source": [
        "## Inicializamos Git\n",
        "\n",
        "Como mencionamos anteriormente primero debemos crear un directorio de git."
      ],
      "metadata": {
        "id": "o-TM2eQ51acP"
      }
    },
    {
      "cell_type": "code",
      "source": [
        "git_folder = \"/content/semana_09_teoria\"\n",
        "# creamos un directorio\n",
        "!mkdir -p {git_folder}\n",
        "# entramos al directorio\n",
        "%cd {git_folder}\n",
        "# inicializamos git\n",
        "!git init\n",
        "# configuramos git\n",
        "!git config user.name \"HAD141\"\n",
        "!git config user.email \"lcd-had141@ugr.edu.ar\""
      ],
      "metadata": {
        "id": "x1GaGy0G1lIE",
        "colab": {
          "base_uri": "https://localhost:8080/"
        },
        "outputId": "92017d7d-64e4-4cb7-995f-074a3de62b51"
      },
      "execution_count": null,
      "outputs": [
        {
          "output_type": "stream",
          "name": "stdout",
          "text": [
            "/content/semana_09_teoria\n",
            "Initialized empty Git repository in /content/semana_09_teoria/.git/\n"
          ]
        }
      ]
    },
    {
      "cell_type": "code",
      "source": [
        "# creamos un repositorio en github y agegamos el remote\n",
        "TOKEN_GIT=\"YOUR_TOKEN\"\n",
        "\n",
        "!git remote add origin https://{TOKEN_GIT}@github.com/HAD141/semana_09_teoria.git"
      ],
      "metadata": {
        "id": "GUv43XDn6Zi0"
      },
      "execution_count": null,
      "outputs": []
    },
    {
      "cell_type": "markdown",
      "source": [
        "## Inicializamos dvc"
      ],
      "metadata": {
        "id": "60c4G5-o2Ejh"
      }
    },
    {
      "cell_type": "code",
      "source": [
        "!dvc init"
      ],
      "metadata": {
        "colab": {
          "base_uri": "https://localhost:8080/"
        },
        "id": "6EmMbUEh1-kB",
        "outputId": "d1b624e3-2de2-43b8-c33e-3a7b6bee10a2"
      },
      "execution_count": null,
      "outputs": [
        {
          "output_type": "stream",
          "name": "stdout",
          "text": [
            "Initialized DVC repository.\n",
            "\n",
            "You can now commit the changes to git.\n",
            "\n",
            "\u001b[31m+---------------------------------------------------------------------+\n",
            "\u001b[0m\u001b[31m|\u001b[0m                                                                     \u001b[31m|\u001b[0m\n",
            "\u001b[31m|\u001b[0m        DVC has enabled anonymous aggregate usage analytics.         \u001b[31m|\u001b[0m\n",
            "\u001b[31m|\u001b[0m     Read the analytics documentation (and how to opt-out) here:     \u001b[31m|\u001b[0m\n",
            "\u001b[31m|\u001b[0m             <\u001b[36mhttps://dvc.org/doc/user-guide/analytics\u001b[39m>              \u001b[31m|\u001b[0m\n",
            "\u001b[31m|\u001b[0m                                                                     \u001b[31m|\u001b[0m\n",
            "\u001b[31m+---------------------------------------------------------------------+\n",
            "\u001b[0m\n",
            "\u001b[33mWhat's next?\u001b[39m\n",
            "\u001b[33m------------\u001b[39m\n",
            "- Check out the documentation: <\u001b[36mhttps://dvc.org/doc\u001b[39m>\n",
            "- Get help and share ideas: <\u001b[36mhttps://dvc.org/chat\u001b[39m>\n",
            "- Star us on GitHub: <\u001b[36mhttps://github.com/iterative/dvc\u001b[39m>\n",
            "\u001b[0m"
          ]
        }
      ]
    },
    {
      "cell_type": "code",
      "source": [
        "# mostramos el contenido del directorio\n",
        "!ls -al\n",
        "# vemos que se agregó un directorio llamado \".dvc\" que contiene la configuración y la cache\n",
        "# y un archivo llamado \".dvcignore\" que funciona de forma analoga al archivo \".gitignore\""
      ],
      "metadata": {
        "colab": {
          "base_uri": "https://localhost:8080/"
        },
        "id": "xVqFNaQQvtPz",
        "outputId": "71ae9b89-5fc9-4062-8341-537b752bb995"
      },
      "execution_count": null,
      "outputs": [
        {
          "output_type": "stream",
          "name": "stdout",
          "text": [
            "total 20\n",
            "drwxr-xr-x 4 root root 4096 May  7 19:28 .\n",
            "drwxr-xr-x 1 root root 4096 May  7 19:28 ..\n",
            "drwxr-xr-x 3 root root 4096 May  7 19:28 .dvc\n",
            "-rw-r--r-- 1 root root  139 May  7 19:28 .dvcignore\n",
            "drwxr-xr-x 7 root root 4096 May  7 19:28 .git\n"
          ]
        }
      ]
    },
    {
      "cell_type": "code",
      "source": [
        "# estado del proyecto de git\n",
        "!git status"
      ],
      "metadata": {
        "colab": {
          "base_uri": "https://localhost:8080/"
        },
        "id": "zB_QJtAwzQYg",
        "outputId": "4f6071cb-9306-4d16-e44e-cb1034e08b27"
      },
      "execution_count": null,
      "outputs": [
        {
          "output_type": "stream",
          "name": "stdout",
          "text": [
            "On branch master\n",
            "\n",
            "No commits yet\n",
            "\n",
            "Changes to be committed:\n",
            "  (use \"git rm --cached <file>...\" to unstage)\n",
            "\t\u001b[32mnew file:   .dvc/.gitignore\u001b[m\n",
            "\t\u001b[32mnew file:   .dvc/config\u001b[m\n",
            "\t\u001b[32mnew file:   .dvcignore\u001b[m\n",
            "\n"
          ]
        }
      ]
    },
    {
      "cell_type": "code",
      "source": [
        "# agregamos la inicialización del dvc al git\n",
        "# como podemos ver dvc automáticamente pone sus archivos y directorios\n",
        "# en el estado de stage para que solo tenga que hacer el commit, es decir,\n",
        "# no es necesario hacer un \"git add\"\n",
        "!git commit -m \"Inicialización del repositorio de dvc\""
      ],
      "metadata": {
        "colab": {
          "base_uri": "https://localhost:8080/"
        },
        "id": "BOiWmKIbzdwP",
        "outputId": "8667a918-b216-464d-b23d-c245c35cbc49"
      },
      "execution_count": null,
      "outputs": [
        {
          "output_type": "stream",
          "name": "stdout",
          "text": [
            "[master (root-commit) 407e6a1] Inicialización del repositorio de dvc\n",
            " 3 files changed, 6 insertions(+)\n",
            " create mode 100644 .dvc/.gitignore\n",
            " create mode 100644 .dvc/config\n",
            " create mode 100644 .dvcignore\n"
          ]
        }
      ]
    },
    {
      "cell_type": "code",
      "source": [
        "# estado proyecto de git\n",
        "!git status"
      ],
      "metadata": {
        "colab": {
          "base_uri": "https://localhost:8080/"
        },
        "id": "B1B6Bj4y0CDW",
        "outputId": "f30e6cc5-d020-46a3-c55a-0c891e880740"
      },
      "execution_count": null,
      "outputs": [
        {
          "output_type": "stream",
          "name": "stdout",
          "text": [
            "On branch master\n",
            "nothing to commit, working tree clean\n"
          ]
        }
      ]
    },
    {
      "cell_type": "markdown",
      "source": [
        "## Agregando archivo para tracear\n",
        "\n",
        "`dvc add` es homólogo a `git add`\n",
        "\n",
        "Se pueden agregar archivos, directorios o enlaces simbólicos a otros archivos. No se soportan enlaces simbólicos a directorios.\n",
        "\n",
        "La forma de agregar cualquiera de ellos es igual para cada uno de los casos.\n"
      ],
      "metadata": {
        "id": "LJlprfOmvTBe"
      }
    },
    {
      "cell_type": "code",
      "source": [
        "data_folder = f\"{git_folder}/data\"\n",
        "file_ds = f\"{data_folder}/wc_matches.csv\"\n",
        "# vamos crear un directorio llamado \"data\"\n",
        "!mkdir -p {data_folder}\n",
        "# mostramos el contenido del directorio\n",
        "!ls -al"
      ],
      "metadata": {
        "colab": {
          "base_uri": "https://localhost:8080/"
        },
        "id": "dgW0GxRzvXOp",
        "outputId": "00380bee-aa83-46b1-d35c-ef98492751fb"
      },
      "execution_count": null,
      "outputs": [
        {
          "output_type": "stream",
          "name": "stdout",
          "text": [
            "total 24\n",
            "drwxr-xr-x 5 root root 4096 May  7 19:28 .\n",
            "drwxr-xr-x 1 root root 4096 May  7 19:28 ..\n",
            "drwxr-xr-x 2 root root 4096 May  7 19:28 data\n",
            "drwxr-xr-x 3 root root 4096 May  7 19:28 .dvc\n",
            "-rw-r--r-- 1 root root  139 May  7 19:28 .dvcignore\n",
            "drwxr-xr-x 8 root root 4096 May  7 19:28 .git\n"
          ]
        }
      ]
    },
    {
      "cell_type": "code",
      "source": [
        "# descargamos el archivo\n",
        "!wget https://projects.fivethirtyeight.com/soccer-api/international/2022/wc_matches.csv -O {file_ds}"
      ],
      "metadata": {
        "colab": {
          "base_uri": "https://localhost:8080/"
        },
        "id": "f7HhQNxQytiY",
        "outputId": "c068f29b-fdc6-46ad-c372-6b163aa0a4da"
      },
      "execution_count": null,
      "outputs": [
        {
          "output_type": "stream",
          "name": "stdout",
          "text": [
            "--2023-05-07 19:28:57--  https://projects.fivethirtyeight.com/soccer-api/international/2022/wc_matches.csv\n",
            "Resolving projects.fivethirtyeight.com (projects.fivethirtyeight.com)... 151.101.2.109, 151.101.66.109, 151.101.130.109, ...\n",
            "Connecting to projects.fivethirtyeight.com (projects.fivethirtyeight.com)|151.101.2.109|:443... connected.\n",
            "HTTP request sent, awaiting response... 200 OK\n",
            "Length: 7905 (7.7K) [text/csv]\n",
            "Saving to: ‘/content/semana_09_teoria/data/wc_matches.csv’\n",
            "\n",
            "/content/semana_09_ 100%[===================>]   7.72K  --.-KB/s    in 0s      \n",
            "\n",
            "2023-05-07 19:28:58 (33.9 MB/s) - ‘/content/semana_09_teoria/data/wc_matches.csv’ saved [7905/7905]\n",
            "\n"
          ]
        }
      ]
    },
    {
      "cell_type": "code",
      "source": [
        "# mostramos el contenido del directorio data\n",
        "!ls -al data"
      ],
      "metadata": {
        "colab": {
          "base_uri": "https://localhost:8080/"
        },
        "id": "nQe3dD0YywRp",
        "outputId": "c44376d0-930c-4b02-9810-55a235c8b1c4"
      },
      "execution_count": null,
      "outputs": [
        {
          "output_type": "stream",
          "name": "stdout",
          "text": [
            "total 16\n",
            "drwxr-xr-x 2 root root 4096 May  7 19:28 .\n",
            "drwxr-xr-x 5 root root 4096 May  7 19:28 ..\n",
            "-rw-r--r-- 1 root root 7905 Dec 18 17:56 wc_matches.csv\n"
          ]
        }
      ]
    },
    {
      "cell_type": "code",
      "source": [
        "# el del proyecto de git\n",
        "!git status\n",
        "# como podemos vemos que aparece como no traceada la carpeta \"data\""
      ],
      "metadata": {
        "colab": {
          "base_uri": "https://localhost:8080/"
        },
        "id": "ztPYM4nBzF3p",
        "outputId": "cd234431-47ee-4efe-c353-1e1bfed40045"
      },
      "execution_count": null,
      "outputs": [
        {
          "output_type": "stream",
          "name": "stdout",
          "text": [
            "On branch master\n",
            "Untracked files:\n",
            "  (use \"git add <file>...\" to include in what will be committed)\n",
            "\t\u001b[31mdata/\u001b[m\n",
            "\n",
            "nothing added to commit but untracked files present (use \"git add\" to track)\n"
          ]
        }
      ]
    },
    {
      "cell_type": "code",
      "source": [
        "# vamos a agregar el archivo \"data/wc_matches.csv\" al traceo de dvc\n",
        "!dvc add {file_ds}\n",
        "# en este caso dvc genera una cache con los archivos y al final me\n",
        "# muestra 2 líneas de comandos\n",
        "# segunda línea \"dvc config core.autostage true\" le dice a dvc\n",
        "# que cada vez que ejecute un comando de dvc automáticamente\n",
        "# me realice el \"git add\" de cada nuevo archivo (puedo perder el\n",
        "# control de los archivos o almacenando archivos innecesarios)"
      ],
      "metadata": {
        "colab": {
          "base_uri": "https://localhost:8080/"
        },
        "id": "heXH699SwzTp",
        "outputId": "72d8efb6-f437-4fe9-bfab-da20bac68ade"
      },
      "execution_count": null,
      "outputs": [
        {
          "output_type": "stream",
          "name": "stdout",
          "text": [
            "\u001b[2K\u001b[32m⠹\u001b[0m Checking graph\n",
            "Adding...:   0% 0/1 [00:00<?, ?file/s{'info': ''}]\n",
            "!\u001b[A\n",
            "  0% |          |0/? [00:00<?,    ?files/s]\u001b[A\n",
            "                                           \u001b[A\n",
            "!\u001b[A\n",
            "  0%|          |Transferring                          0/? [00:00<?,     ?file/s]\u001b[A\n",
            "Transferring:   0% 0/1 [00:00<?, ?file/s{'info': ''}]                           \u001b[A\n",
            "Adding...: 100% 1/1 [00:00<00:00, 17.59file/s{'info': ''}]\n",
            "\n",
            "To track the changes with git, run:\n",
            "\n",
            "\tgit add data/.gitignore data/wc_matches.csv.dvc\n",
            "\n",
            "To enable auto staging, run:\n",
            "\n",
            "\tdvc config core.autostage true\n",
            "\u001b[0m"
          ]
        }
      ]
    },
    {
      "cell_type": "code",
      "source": [
        "# la primer línea es agregar los archivos \"data/wc_matches.csv.dvc\" y\n",
        "# \"data/.gitignore\" que son generados por dvc al repositorio de git\n",
        "# el primero contiene información de dvc\n",
        "# el segundo es para decirle a git que no trace el archivo binario\n",
        "print(\"Contenido del archivo data/.gitignore\")\n",
        "!cat data/.gitignore\n",
        "print()\n",
        "print(\"Contenido del archivo data/wc_matches.csv.dvc\")\n",
        "!cat {file_ds}"
      ],
      "metadata": {
        "colab": {
          "base_uri": "https://localhost:8080/"
        },
        "id": "5Y4acgZA0nCI",
        "outputId": "08533bec-16cf-463e-9ce3-f328ab15910d"
      },
      "execution_count": null,
      "outputs": [
        {
          "output_type": "stream",
          "name": "stdout",
          "text": [
            "Contenido del archivo data/.gitignore\n",
            "/wc_matches.csv\n",
            "\n",
            "Contenido del archivo data/wc_matches.csv.dvc\n",
            "date,league_id,league,team1,team2,spi1,spi2,prob1,prob2,probtie,proj_score1,proj_score2,score1,score2,xg1,xg2,nsxg1,nsxg2,adj_score1,adj_score2\n",
            "2022-11-20,1908,FIFA World Cup,Qatar,Ecuador,51.0,72.74,0.2369,0.5045,0.2586,1.13,1.75,0,2,0.23,1.14,0.24,1.35,0.0,2.1\n",
            "2022-11-21,1908,FIFA World Cup,England,Iran,85.96,62.17,0.6274,0.1187,0.2539,1.7,0.58,6,2,1.04,1.45,1.5,0.32,5.78,2.1\n",
            "2022-11-21,1908,FIFA World Cup,Senegal,Netherlands,73.84,86.01,0.2235,0.5053,0.2712,0.99,1.63,0,2,0.7,0.68,1.22,1.83,0.0,1.58\n",
            "2022-11-21,1908,FIFA World Cup,USA,Wales,74.83,65.58,0.4489,0.2591,0.292,1.42,1.01,1,1,0.33,1.78,0.48,0.95,1.05,1.05\n",
            "2022-11-22,1908,FIFA World Cup,Argentina,Saudi Arabia,87.21,56.87,0.7228,0.0807,0.1966,2.11,0.54,1,2,1.63,0.15,2.4,0.53,1.05,2.1\n",
            "2022-11-22,1908,FIFA World Cup,Denmark,Tunisia,80.02,65.85,0.5001,0.2054,0.2945,1.44,0.82,0,0,0.66,1.16,1.33,0.69,0.0,0.0\n",
            "2022-11-22,1908,FIFA World Cup,Mexico,Poland,74.3,68.28,0.4238,0.2802,0.296,1.37,1.06,0,0,0.45,1.02,1.19,0.49,0.0,0.0\n",
            "2022-11-22,1908,FIFA World Cup,France,Australia,87.71,60.83,0.6921,0.1009,0.207,2.09,0.65,4,1,3.03,0.26,3.01,0.3,4.18,1.05\n",
            "2022-11-23,1908,FIFA World Cup,Morocco,Croatia,75.62,78.84,0.3176,0.3898,0.2926,1.18,1.34,0,0,0.28,0.88,0.54,0.64,0.0,0.0\n",
            "2022-11-23,1908,FIFA World Cup,Germany,Japan,88.77,71.44,0.6041,0.174,0.2219,2.14,1.06,1,2,3.1,1.2,3.1,0.85,1.05,2.1\n",
            "2022-11-23,1908,FIFA World Cup,Spain,Costa Rica,89.51,55.46,0.7623,0.0595,0.1781,2.19,0.44,7,0,2.39,0.0,1.71,0.15,6.22,0.0\n",
            "2022-11-23,1908,FIFA World Cup,Belgium,Canada,82.49,71.59,0.4888,0.2462,0.265,1.68,1.12,1,0,0.65,2.6,1.18,2.31,1.05,0.0\n",
            "2022-11-24,1908,FIFA World Cup,Switzerland,Cameroon,77.65,64.16,0.4991,0.2186,0.2823,1.53,0.92,1,0,1.0,0.61,1.16,0.9,1.05,0.0\n",
            "2022-11-24,1908,FIFA World Cup,Uruguay,South Korea,80.9,66.12,0.5256,0.1906,0.2838,1.52,0.8,0,0,0.48,0.4,0.89,0.74,0.0,0.0\n",
            "2022-11-24,1908,FIFA World Cup,Portugal,Ghana,87.77,58.63,0.6974,0.0912,0.2114,2.0,0.56,3,2,1.89,0.52,1.63,0.27,2.9,2.1\n",
            "2022-11-24,1908,FIFA World Cup,Brazil,Serbia,93.55,75.84,0.6787,0.1124,0.2089,2.11,0.72,2,0,1.48,0.18,1.4,0.36,2.02,0.0\n",
            "2022-11-25,1908,FIFA World Cup,Wales,Iran,67.64,63.33,0.3875,0.2969,0.3156,1.2,1.01,0,2,0.9,1.43,0.89,1.67,0.0,1.26\n",
            "2022-11-25,1908,FIFA World Cup,Qatar,Senegal,48.16,73.23,0.2098,0.5228,0.2674,0.96,1.66,1,3,0.94,0.75,1.06,1.28,1.05,2.81\n",
            "2022-11-25,1908,FIFA World Cup,Netherlands,Ecuador,86.07,74.37,0.4949,0.2248,0.2803,1.55,0.95,1,1,0.07,0.8,0.43,1.09,1.05,1.05\n",
            "2022-11-25,1908,FIFA World Cup,England,USA,86.26,72.63,0.5436,0.1965,0.2598,1.73,0.94,0,0,0.62,0.52,1.34,0.74,0.0,0.0\n",
            "2022-11-26,1908,FIFA World Cup,Tunisia,Australia,66.48,58.65,0.3883,0.2894,0.3223,1.16,0.96,0,1,0.89,0.5,1.3,0.65,0.0,1.05\n",
            "2022-11-26,1908,FIFA World Cup,Poland,Saudi Arabia,68.14,59.01,0.4061,0.2911,0.3029,1.3,1.05,2,0,1.73,2.17,1.6,1.16,1.8,0.0\n",
            "2022-11-26,1908,FIFA World Cup,France,Denmark,89.25,78.87,0.5064,0.2192,0.2744,1.6,0.96,2,1,2.06,0.5,2.3,0.7,2.1,1.05\n",
            "2022-11-26,1908,FIFA World Cup,Argentina,Mexico,86.09,73.48,0.5079,0.1993,0.2928,1.45,0.8,2,0,0.26,0.18,0.72,0.45,1.66,0.0\n",
            "2022-11-27,1908,FIFA World Cup,Japan,Costa Rica,71.98,51.99,0.5955,0.1498,0.2547,1.74,0.74,0,1,0.7,0.14,1.15,0.09,0.0,1.05\n",
            "2022-11-27,1908,FIFA World Cup,Belgium,Morocco,80.54,74.67,0.407,0.3057,0.2873,1.41,1.18,0,2,0.88,0.48,0.91,0.42,0.0,1.58\n",
            "2022-11-27,1908,FIFA World Cup,Croatia,Canada,78.46,73.84,0.4069,0.2893,0.3037,1.29,1.05,4,1,1.56,0.37,1.6,0.85,3.68,1.05\n",
            "2022-11-27,1908,FIFA World Cup,Spain,Germany,91.22,88.73,0.4619,0.2781,0.26,1.72,1.28,1,1,0.57,0.91,1.32,1.06,1.05,1.05\n",
            "2022-11-28,1908,FIFA World Cup,Cameroon,Serbia,63.62,74.55,0.2444,0.4575,0.2981,0.94,1.39,3,3,0.91,1.2,0.85,1.95,3.15,3.15\n",
            "2022-11-28,1908,FIFA World Cup,South Korea,Ghana,66.44,60.03,0.443,0.2348,0.3222,1.23,0.81,2,3,1.56,0.51,2.31,0.73,2.1,3.15\n",
            "2022-11-28,1908,FIFA World Cup,Brazil,Switzerland,93.66,77.52,0.6427,0.1202,0.2372,1.84,0.65,1,0,1.46,0.27,1.23,0.61,1.05,0.0\n",
            "2022-11-28,1908,FIFA World Cup,Portugal,Uruguay,87.3,79.7,0.4392,0.2628,0.298,1.37,1.0,2,0,1.42,1.18,1.28,1.36,1.58,0.0\n",
            "2022-11-29,1908,FIFA World Cup,Netherlands,Qatar,84.38,48.46,0.7768,0.0696,0.1536,2.6,0.65,2,0,1.36,0.19,1.06,0.45,2.1,0.0\n",
            "2022-11-29,1908,FIFA World Cup,Ecuador,Senegal,75.82,73.0,0.3668,0.2961,0.3371,1.06,0.92,1,2,0.61,1.73,0.77,1.14,1.05,2.1\n",
            "2022-11-29,1908,FIFA World Cup,Iran,USA,65.77,72.55,0.3082,0.3764,0.3154,1.04,1.18,0,1,0.75,0.92,1.1,1.17,0.0,1.05\n",
            "2022-11-29,1908,FIFA World Cup,Wales,England,65.17,85.41,0.1437,0.6,0.2564,0.7,1.72,0,3,0.28,1.8,0.32,1.93,0.0,3.15\n",
            "2022-11-30,1908,FIFA World Cup,Tunisia,France,65.92,90.15,0.1116,0.651,0.2374,0.6,1.82,1,0,0.29,0.43,0.61,1.21,1.05,0.0\n",
            "2022-11-30,1908,FIFA World Cup,Australia,Denmark,58.8,77.68,0.1985,0.522,0.2795,0.85,1.56,1,0,0.47,0.62,0.4,1.75,1.05,0.0\n",
            "2022-11-30,1908,FIFA World Cup,Poland,Argentina,68.95,86.03,0.1547,0.5784,0.2669,0.71,1.64,0,2,0.24,3.28,0.32,2.24,0.0,2.1\n",
            "2022-11-30,1908,FIFA World Cup,Saudi Arabia,Mexico,58.41,72.44,0.2307,0.4627,0.3066,0.86,1.34,1,2,0.62,1.81,0.71,2.27,1.05,2.1\n",
            "2022-12-01,1908,FIFA World Cup,Canada,Morocco,71.52,74.99,0.2898,0.3956,0.3147,0.99,1.21,1,2,0.98,0.37,0.68,0.24,1.05,2.1\n",
            "2022-12-01,1908,FIFA World Cup,Croatia,Belgium,80.87,79.44,0.3881,0.3253,0.2866,1.38,1.24,0,0,0.63,2.62,1.44,1.92,0.0,0.0\n",
            "2022-12-01,1908,FIFA World Cup,Costa Rica,Germany,52.9,88.86,0.0512,0.8045,0.1442,0.5,2.55,2,4,1.27,4.41,0.33,5.9,2.1,3.72\n",
            "2022-12-01,1908,FIFA World Cup,Japan,Spain,70.43,90.62,0.1391,0.6135,0.2474,0.71,1.79,2,1,0.53,0.79,0.81,1.1,2.1,1.05\n",
            "2022-12-02,1908,FIFA World Cup,Ghana,Uruguay,60.5,79.28,0.1564,0.5669,0.2766,0.68,1.57,0,2,1.35,1.12,0.73,1.44,0.0,2.1\n",
            "2022-12-02,1908,FIFA World Cup,South Korea,Portugal,66.93,87.55,0.1666,0.5866,0.2468,0.86,1.84,2,1,0.85,0.9,0.72,0.64,2.1,1.05\n",
            "2022-12-02,1908,FIFA World Cup,Serbia,Switzerland,74.72,77.0,0.3126,0.3965,0.2909,1.18,1.36,2,3,0.64,2.42,1.47,1.28,2.1,3.15\n",
            "2022-12-02,1908,FIFA World Cup,Cameroon,Brazil,64.48,93.48,0.0363,0.8112,0.1524,0.31,2.29,1,0,0.38,2.75,0.81,2.99,1.05,0.0\n",
            "2022-12-03,1908,FIFA World Cup,Netherlands,USA,83.97,73.07,0.6551,0.3449,0.0,1.42,0.88,3,1,1.16,1.43,1.4,1.08,2.87,1.05\n",
            "2022-12-03,1908,FIFA World Cup,Argentina,Australia,87.98,59.35,0.8261,0.1739,0.0,1.85,0.57,2,1,1.27,0.32,1.32,0.92,2.1,1.05\n",
            "2022-12-04,1908,FIFA World Cup,France,Poland,88.57,65.77,0.8133,0.1867,0.0,1.99,0.71,3,1,1.17,1.91,1.54,0.85,2.52,1.05\n",
            "2022-12-04,1908,FIFA World Cup,England,Senegal,86.97,75.47,0.6814,0.3186,0.0,1.47,0.83,3,0,0.87,1.09,0.97,0.62,3.15,0.0\n",
            "2022-12-05,1908,FIFA World Cup,Japan,Croatia,73.02,79.14,0.454,0.546,0.0,1.1,1.27,1,1,1.55,1.43,0.94,1.61,1.05,1.05\n",
            "2022-12-05,1908,FIFA World Cup,Brazil,South Korea,92.9,69.4,0.8261,0.1739,0.0,1.89,0.58,4,1,2.96,0.67,1.56,0.69,4.2,1.05\n",
            "2022-12-06,1908,FIFA World Cup,Morocco,Spain,74.42,89.2,0.2711,0.7289,0.0,0.65,1.44,0,0,0.69,1.01,0.67,1.58,0.0,0.0\n",
            "2022-12-06,1908,FIFA World Cup,Portugal,Switzerland,85.8,78.51,0.6158,0.3842,0.0,1.51,1.08,6,1,1.34,0.98,1.42,0.7,5.78,1.05\n",
            "2022-12-09,1908,FIFA World Cup,Croatia,Brazil,78.99,93.47,0.2264,0.7736,0.0,0.68,1.72,1,1,0.62,1.9,1.1,2.74,1.05,1.05\n",
            "2022-12-09,1908,FIFA World Cup,Netherlands,Argentina,84.19,87.32,0.4238,0.5762,0.0,1.04,1.31,2,2,0.43,1.52,1.29,1.79,2.1,2.03\n",
            "2022-12-10,1908,FIFA World Cup,Morocco,Portugal,74.45,87.92,0.3185,0.6815,0.0,0.83,1.46,1,0,0.57,1.11,0.67,1.32,1.05,0.0\n",
            "2022-12-10,1908,FIFA World Cup,England,France,87.59,87.53,0.516,0.484,0.0,1.29,1.23,1,2,2.42,0.97,1.4,1.53,1.05,2.1\n",
            "2022-12-13,1908,FIFA World Cup,Argentina,Croatia,87.46,79.37,0.6426,0.3574,0.0,1.33,0.84,3,0,1.69,0.53,1.3,1.16,3.15,0.0\n",
            "2022-12-14,1908,FIFA World Cup,France,Morocco,87.72,75.13,0.6646,0.3354,0.0,1.38,0.82,2,0,1.4,0.79,1.43,0.7,1.87,0.0\n",
            "2022-12-17,1908,FIFA World Cup,Croatia,Morocco,77.65,73.92,0.5325,0.4675,0.0,0.97,0.88,2,1,0.76,0.96,1.52,0.73,2.1,1.05\n",
            "2022-12-18,1908,FIFA World Cup,Argentina,France,88.86,88.41,0.5321,0.4679,0.0,1.3,1.18,3,3,2.81,2.25,2.36,0.76,3.15,3.15\n"
          ]
        }
      ]
    },
    {
      "cell_type": "code",
      "source": [
        "# agregamos los archivo\n",
        "!git add data/wc_matches.csv.dvc data/.gitignore\n",
        "# verificamos el estado del proyecto de git\n",
        "!git status\n",
        "# fijense que el archivo \"data/wc_matches.csv\" NO aparece dentro\n",
        "# del stage de git"
      ],
      "metadata": {
        "colab": {
          "base_uri": "https://localhost:8080/"
        },
        "id": "l1y_ffEx2AUb",
        "outputId": "9fd5df84-0ed1-4e6b-a847-d8cca2d1be30"
      },
      "execution_count": null,
      "outputs": [
        {
          "output_type": "stream",
          "name": "stdout",
          "text": [
            "On branch master\n",
            "Changes to be committed:\n",
            "  (use \"git restore --staged <file>...\" to unstage)\n",
            "\t\u001b[32mnew file:   data/.gitignore\u001b[m\n",
            "\t\u001b[32mnew file:   data/wc_matches.csv.dvc\u001b[m\n",
            "\n"
          ]
        }
      ]
    },
    {
      "cell_type": "code",
      "source": [
        "# realizamos el commit de git\n",
        "!git commit -m \"Se agregó el archivo wc_matches.csv\"\n",
        "# estado del proyecto de git\n",
        "!git status\n",
        "# en este punto ya tenemos en git el traceo de dvc, ahora\n",
        "# resta subir los archivo de dvc a un repositorio"
      ],
      "metadata": {
        "colab": {
          "base_uri": "https://localhost:8080/"
        },
        "id": "oI5vZDuS3ipt",
        "outputId": "f5b63fda-163c-4cfd-ed4a-f458f1a8f22c"
      },
      "execution_count": null,
      "outputs": [
        {
          "output_type": "stream",
          "name": "stdout",
          "text": [
            "[master ae31edc] Se agregó el archivo wc_matches.csv\n",
            " 2 files changed, 5 insertions(+)\n",
            " create mode 100644 data/.gitignore\n",
            " create mode 100644 data/wc_matches.csv.dvc\n",
            "On branch master\n",
            "nothing to commit, working tree clean\n"
          ]
        }
      ]
    },
    {
      "cell_type": "markdown",
      "source": [
        "## Estado de dvc\n",
        "\n",
        "`dvc status` es homólogo de `git status`\n",
        "\n",
        "Muestra los archivos que fueron modificados y las modificaciones de los pipelines (lo vemos más adelante)."
      ],
      "metadata": {
        "id": "jrAJpUW58ZAt"
      }
    },
    {
      "cell_type": "code",
      "source": [
        "!dvc status"
      ],
      "metadata": {
        "colab": {
          "base_uri": "https://localhost:8080/"
        },
        "id": "tFenEzTO8cjb",
        "outputId": "1b0edfa7-7a21-4321-ecdd-6a480aa172ee"
      },
      "execution_count": null,
      "outputs": [
        {
          "output_type": "stream",
          "name": "stdout",
          "text": [
            "\r!\rIf DVC froze, see `hardlink_lock` in <\u001b[36mhttps://man.dvc.org/config#core\u001b[39m>\r                                                                      \rData and pipelines are up to date.\n",
            "\u001b[0m"
          ]
        }
      ]
    },
    {
      "cell_type": "markdown",
      "source": [
        "## Agregando un servidor remoto de almacenamiento\n",
        "\n",
        "`dvc remote` homólogo a `git remote`\n",
        "\n",
        "Los [almacenamientos remotos](https://dvc.org/doc/user-guide/data-management/remote-storage) soportados son:\n",
        "\n",
        "En la nube:\n",
        "- Amazon S3 (AWS) and S3-compatible e.g. MinIO\n",
        "- Microsoft Azure Blob Storage\n",
        "- Google Cloud Storage (GCP)\n",
        "- Google Drive\n",
        "- Aliyun OSS\n",
        "\n",
        "Almacenamientos propios:\n",
        "- SSH & SFTP\n",
        "- HDFS & WebHDFS\n",
        "- HTTP\n",
        "- WebDAV\n",
        "\n",
        "Cada uno de estos almacenamientos requieren realizar pasos de autenticación y no se pueden reproducir desde un colab.\n",
        "\n",
        "Si se pueden utilizar desde un jupyter local o desde la línea de comandos local.\n",
        "\n",
        "Por estos motivos vamos a utilizar el almacenamiento interno ligado de Google drive."
      ],
      "metadata": {
        "id": "mVh-NsuZ9t5J"
      }
    },
    {
      "cell_type": "code",
      "source": [
        "#importamos las librerías necesarias\n",
        "from google.colab import drive"
      ],
      "metadata": {
        "id": "m4H467dJ9cNT"
      },
      "execution_count": null,
      "outputs": []
    },
    {
      "cell_type": "code",
      "source": [
        "# montamos nuestro drive\n",
        "drive.mount(\"/content/drive\")\n",
        "# creamos una carpeta/s\n",
        "# en mi caso voy a crear dvc/semana_09_teoria\n",
        "dvc_folder=\"/content/drive/MyDrive/dvc/semana_09_teoria\"\n",
        "#QUITAR\n",
        "!rm -rf {dvc_folder}\n",
        "#QUITAR\n",
        "!mkdir -p {dvc_folder}"
      ],
      "metadata": {
        "colab": {
          "base_uri": "https://localhost:8080/"
        },
        "id": "qOISxxbqDFyG",
        "outputId": "230900f3-5fa4-4e9c-a54a-18c38573ac8d"
      },
      "execution_count": null,
      "outputs": [
        {
          "output_type": "stream",
          "name": "stdout",
          "text": [
            "Mounted at /content/drive\n"
          ]
        }
      ]
    },
    {
      "cell_type": "code",
      "source": [
        "# listamos los servidores cargados, en este caso todavía no tenemos ninguno\n",
        "!dvc remote list"
      ],
      "metadata": {
        "colab": {
          "base_uri": "https://localhost:8080/"
        },
        "id": "u_moSBnJ5tfh",
        "outputId": "303e8e75-588f-45ef-9a50-7853c1fd4243"
      },
      "execution_count": null,
      "outputs": [
        {
          "output_type": "stream",
          "name": "stdout",
          "text": [
            "\u001b[0m"
          ]
        }
      ]
    },
    {
      "cell_type": "code",
      "source": [
        "# ejecutamos el comando para agregar el remote, el nombre de remote es \"origin_gdrive\"\n",
        "# y la carpeta donde vamos a almacenar los archivos\n",
        "!dvc remote add --force origin_local {dvc_folder}"
      ],
      "metadata": {
        "id": "sxy_3dsp94Yi",
        "colab": {
          "base_uri": "https://localhost:8080/"
        },
        "outputId": "85476e4b-06bd-4f41-8770-bd4a267bbdac"
      },
      "execution_count": null,
      "outputs": [
        {
          "output_type": "stream",
          "name": "stdout",
          "text": [
            "\u001b[0m"
          ]
        }
      ]
    },
    {
      "cell_type": "code",
      "source": [
        "# listamos los servidores cargados\n",
        "!dvc remote list"
      ],
      "metadata": {
        "colab": {
          "base_uri": "https://localhost:8080/"
        },
        "id": "bzSd9CXB6lLN",
        "outputId": "d00dfba5-6fe2-4253-f2ce-f18c58b8ec23"
      },
      "execution_count": null,
      "outputs": [
        {
          "output_type": "stream",
          "name": "stdout",
          "text": [
            "origin_local\t/content/drive/MyDrive/dvc/semana_09_teoria\n",
            "\u001b[0m"
          ]
        }
      ]
    },
    {
      "cell_type": "code",
      "source": [
        "# verificamos el estado de git\n",
        "!git status\n",
        "# como vemos se genero un cambio en el archivo de configuración de dvc\n",
        "# entonces debemos hacer un commit y un push para git"
      ],
      "metadata": {
        "colab": {
          "base_uri": "https://localhost:8080/"
        },
        "id": "Pqvs2FgB74Um",
        "outputId": "ab78ed06-8b7b-49bb-c793-5e8a899f589c"
      },
      "execution_count": null,
      "outputs": [
        {
          "output_type": "stream",
          "name": "stdout",
          "text": [
            "On branch master\n",
            "Changes not staged for commit:\n",
            "  (use \"git add <file>...\" to update what will be committed)\n",
            "  (use \"git restore <file>...\" to discard changes in working directory)\n",
            "\t\u001b[31mmodified:   .dvc/config\u001b[m\n",
            "\n",
            "no changes added to commit (use \"git add\" and/or \"git commit -a\")\n"
          ]
        }
      ]
    },
    {
      "cell_type": "code",
      "source": [
        "# agregamos el archivo\n",
        "!git add .dvc/config\n",
        "# realizamos el commit\n",
        "!git commit -m \"Se agregó el remote a dvc\""
      ],
      "metadata": {
        "colab": {
          "base_uri": "https://localhost:8080/"
        },
        "id": "IRoxpopl8EU8",
        "outputId": "b2a13782-bc9a-4d5c-d1be-3c24fff0936e"
      },
      "execution_count": null,
      "outputs": [
        {
          "output_type": "stream",
          "name": "stdout",
          "text": [
            "[master f35d40f] Se agregó el remote a dvc\n",
            " 1 file changed, 2 insertions(+)\n"
          ]
        }
      ]
    },
    {
      "cell_type": "markdown",
      "source": [
        "## Subiendo cambios\n",
        "\n",
        "`dvc push` homólogo a `git push`"
      ],
      "metadata": {
        "id": "qK93QW0l7d0p"
      }
    },
    {
      "cell_type": "code",
      "source": [
        "# ahora vamos a realizar el push de dvc y para esto le debemos\n",
        "# pasar como argumento el --remote de decimos el nombre del remote\n",
        "# tener en cuenta que podemos tener varios remotes\n",
        "!dvc push --remote origin_local"
      ],
      "metadata": {
        "colab": {
          "base_uri": "https://localhost:8080/"
        },
        "id": "ikWu8VvkxJaV",
        "outputId": "42182fa4-9337-4821-f7b2-98748fd98bb5"
      },
      "execution_count": null,
      "outputs": [
        {
          "output_type": "stream",
          "name": "stdout",
          "text": [
            "\r!\rIf DVC froze, see `hardlink_lock` in <\u001b[36mhttps://man.dvc.org/config#core\u001b[39m>\r                                                                      \r\r!\r  0% |          |0/? [00:00<?,    ?files/s]\r                                           \r\r!\r  0% |          |0/? [00:00<?,    ?files/s]\r                                           \r\r!\r  0% Transferring|          |0/? [00:00<?,     ?file/s]\rTransferring:   0% 0/1 [00:00<?, ?file/s{'info': ''}]  \n",
            "\r!\u001b[A\n",
            "  0%|          |/content/semana_09_teoria/.dvc/cach0.00/? [00:00<?,        ?B/s]\u001b[A\n",
            "  0% 0.00/7.72k [00:00<?, ?B/s{'info': ''}]                                     \u001b[A\n",
            "1 file pushed\n",
            "\u001b[0m"
          ]
        }
      ]
    },
    {
      "cell_type": "code",
      "source": [
        "# listamos para ver el/los archivos que genero dvc\n",
        "!ls -alR {dvc_folder}\n",
        "# como podemos observar creo un directorio y un archivo\n",
        "# que como nombre posee un hash"
      ],
      "metadata": {
        "colab": {
          "base_uri": "https://localhost:8080/"
        },
        "id": "2jN8lABPAbwm",
        "outputId": "33421323-8265-4aa9-ebc1-b16bc0160765"
      },
      "execution_count": null,
      "outputs": [
        {
          "output_type": "stream",
          "name": "stdout",
          "text": [
            "/content/drive/MyDrive/dvc/semana_09_teoria:\n",
            "total 4\n",
            "drwx------ 2 root root 4096 May  7 19:29 b9\n",
            "\n",
            "/content/drive/MyDrive/dvc/semana_09_teoria/b9:\n",
            "total 8\n",
            "-r-------- 1 root root 7905 May  7 19:29 c19d193daae7f57046736d169425ae\n"
          ]
        }
      ]
    },
    {
      "cell_type": "code",
      "source": [
        "# subimos los cambios al git\n",
        "!git push origin master"
      ],
      "metadata": {
        "colab": {
          "base_uri": "https://localhost:8080/"
        },
        "id": "zzdW2e_qHjHn",
        "outputId": "446204c0-29b7-440a-f84d-8e90cca1495b"
      },
      "execution_count": null,
      "outputs": [
        {
          "output_type": "stream",
          "name": "stdout",
          "text": [
            "Enumerating objects: 15, done.\n",
            "Counting objects:   6% (1/15)\rCounting objects:  13% (2/15)\rCounting objects:  20% (3/15)\rCounting objects:  26% (4/15)\rCounting objects:  33% (5/15)\rCounting objects:  40% (6/15)\rCounting objects:  46% (7/15)\rCounting objects:  53% (8/15)\rCounting objects:  60% (9/15)\rCounting objects:  66% (10/15)\rCounting objects:  73% (11/15)\rCounting objects:  80% (12/15)\rCounting objects:  86% (13/15)\rCounting objects:  93% (14/15)\rCounting objects: 100% (15/15)\rCounting objects: 100% (15/15), done.\n",
            "Delta compression using up to 2 threads\n",
            "Compressing objects:   8% (1/12)\rCompressing objects:  16% (2/12)\rCompressing objects:  25% (3/12)\rCompressing objects:  33% (4/12)\rCompressing objects:  41% (5/12)\rCompressing objects:  50% (6/12)\rCompressing objects:  58% (7/12)\rCompressing objects:  66% (8/12)\rCompressing objects:  75% (9/12)\rCompressing objects:  83% (10/12)\rCompressing objects:  91% (11/12)\rCompressing objects: 100% (12/12)\rCompressing objects: 100% (12/12), done.\n",
            "Writing objects:   6% (1/15)\rWriting objects:  13% (2/15)\rWriting objects:  20% (3/15)\rWriting objects:  26% (4/15)\rWriting objects:  33% (5/15)\rWriting objects:  40% (6/15)\rWriting objects:  46% (7/15)\rWriting objects:  53% (8/15)\rWriting objects:  60% (9/15)\rWriting objects:  66% (10/15)\rWriting objects:  73% (11/15)\rWriting objects:  80% (12/15)\rWriting objects:  86% (13/15)\rWriting objects:  93% (14/15)\rWriting objects: 100% (15/15)\rWriting objects: 100% (15/15), 1.33 KiB | 1.33 MiB/s, done.\n",
            "Total 15 (delta 1), reused 0 (delta 0)\n",
            "remote: Resolving deltas:   0% (0/1)\u001b[K\rremote: Resolving deltas: 100% (1/1)\u001b[K\rremote: Resolving deltas: 100% (1/1), done.\u001b[K\n",
            "To https://github.com/HAD141/semana_09_teoria.git\n",
            " * [new branch]      master -> master\n"
          ]
        }
      ]
    },
    {
      "cell_type": "code",
      "source": [
        "# estdo de git\n",
        "!git status"
      ],
      "metadata": {
        "colab": {
          "base_uri": "https://localhost:8080/"
        },
        "id": "jW-7mBoTGuo0",
        "outputId": "784b9da4-b52f-4bed-80a5-d2e9ffcf53f8"
      },
      "execution_count": null,
      "outputs": [
        {
          "output_type": "stream",
          "name": "stdout",
          "text": [
            "On branch master\n",
            "nothing to commit, working tree clean\n"
          ]
        }
      ]
    },
    {
      "cell_type": "code",
      "source": [
        "# estdo de dvc\n",
        "!dvc status\n",
        "# en este punto podemos decir que todos nuestros archivos están guardados y traceados"
      ],
      "metadata": {
        "colab": {
          "base_uri": "https://localhost:8080/"
        },
        "id": "hGIuY3umGyLS",
        "outputId": "a99c2860-e675-4575-90f3-0d653adf3efc"
      },
      "execution_count": null,
      "outputs": [
        {
          "output_type": "stream",
          "name": "stdout",
          "text": [
            "\r!\rIf DVC froze, see `hardlink_lock` in <\u001b[36mhttps://man.dvc.org/config#core\u001b[39m>\r                                                                      \rData and pipelines are up to date.\n",
            "\u001b[0m"
          ]
        }
      ]
    },
    {
      "cell_type": "markdown",
      "source": [
        "## Actualizando la cache\n",
        "\n",
        "`dvc commit`\n",
        "\n",
        "Registrar los cambios en los archivos o directorios rastreados por DVC.\n",
        "\n",
        "Almacena el contenido actual de los archivos y directorios traceados por DVC en la caché, y actualiza los archivos dvc.lock o .dvc si es necesario. Esto obliga a DVC a aceptar cualquier cambio en el contenido de los datos actualmente en el área de trabajo.\n",
        "\n",
        "Este comando es utilizado para la etapa de experimentación."
      ],
      "metadata": {
        "id": "4TQ-6BgkHddb"
      }
    },
    {
      "cell_type": "code",
      "source": [
        "# mostramos las últimas 4 líneas del archivo\n",
        "!tail -n 4 {file_ds}\n",
        "\n",
        "# vamos a modificar el archivo del dataset, en este caso vamos\n",
        "# a duplicar la línea con el partido de la final\n",
        "!echo \"2022-12-18,1908,FIFA World Cup,Argentina,France,88.86,88.41,0.5321,0.4679,0.0,1.3,1.18,3,3,2.81,2.25,2.36,0.76,3.15,3.15\" >> {file_ds}"
      ],
      "metadata": {
        "id": "TXRLzwyCEE9G",
        "colab": {
          "base_uri": "https://localhost:8080/"
        },
        "outputId": "e8e081eb-8f94-41a8-92f0-859009b69e5d"
      },
      "execution_count": null,
      "outputs": [
        {
          "output_type": "stream",
          "name": "stdout",
          "text": [
            "2022-12-13,1908,FIFA World Cup,Argentina,Croatia,87.46,79.37,0.6426,0.3574,0.0,1.33,0.84,3,0,1.69,0.53,1.3,1.16,3.15,0.0\n",
            "2022-12-14,1908,FIFA World Cup,France,Morocco,87.72,75.13,0.6646,0.3354,0.0,1.38,0.82,2,0,1.4,0.79,1.43,0.7,1.87,0.0\n",
            "2022-12-17,1908,FIFA World Cup,Croatia,Morocco,77.65,73.92,0.5325,0.4675,0.0,0.97,0.88,2,1,0.76,0.96,1.52,0.73,2.1,1.05\n",
            "2022-12-18,1908,FIFA World Cup,Argentina,France,88.86,88.41,0.5321,0.4679,0.0,1.3,1.18,3,3,2.81,2.25,2.36,0.76,3.15,3.15\n"
          ]
        }
      ]
    },
    {
      "cell_type": "code",
      "source": [
        "# mostramos las últimas 5 líneas del archivo para verificar que se duplicó la última\n",
        "!tail -n 5 {file_ds}"
      ],
      "metadata": {
        "colab": {
          "base_uri": "https://localhost:8080/"
        },
        "id": "j0FguYRQGhYj",
        "outputId": "ee4d5b8c-90c9-4e82-9d36-7c9dfec9fcba"
      },
      "execution_count": null,
      "outputs": [
        {
          "output_type": "stream",
          "name": "stdout",
          "text": [
            "2022-12-13,1908,FIFA World Cup,Argentina,Croatia,87.46,79.37,0.6426,0.3574,0.0,1.33,0.84,3,0,1.69,0.53,1.3,1.16,3.15,0.0\n",
            "2022-12-14,1908,FIFA World Cup,France,Morocco,87.72,75.13,0.6646,0.3354,0.0,1.38,0.82,2,0,1.4,0.79,1.43,0.7,1.87,0.0\n",
            "2022-12-17,1908,FIFA World Cup,Croatia,Morocco,77.65,73.92,0.5325,0.4675,0.0,0.97,0.88,2,1,0.76,0.96,1.52,0.73,2.1,1.05\n",
            "2022-12-18,1908,FIFA World Cup,Argentina,France,88.86,88.41,0.5321,0.4679,0.0,1.3,1.18,3,3,2.81,2.25,2.36,0.76,3.15,3.15\n",
            "2022-12-18,1908,FIFA World Cup,Argentina,France,88.86,88.41,0.5321,0.4679,0.0,1.3,1.18,3,3,2.81,2.25,2.36,0.76,3.15,3.15\n"
          ]
        }
      ]
    },
    {
      "cell_type": "code",
      "source": [
        "# estado de dvc\n",
        "!dvc status\n",
        "# como podemos ver nos muestra que el archivo data/wc_matches.csv\n",
        "# fue modificado"
      ],
      "metadata": {
        "colab": {
          "base_uri": "https://localhost:8080/"
        },
        "id": "2QvpETNFHfaB",
        "outputId": "22436d27-baa2-48a5-a2a6-1290f7594433"
      },
      "execution_count": null,
      "outputs": [
        {
          "output_type": "stream",
          "name": "stdout",
          "text": [
            "\r!\rIf DVC froze, see `hardlink_lock` in <\u001b[36mhttps://man.dvc.org/config#core\u001b[39m>\r                                                                      \rdata/wc_matches.csv.dvc:\n",
            "\tchanged outs:\n",
            "\t\tmodified:           data/wc_matches.csv\n",
            "\u001b[0m"
          ]
        }
      ]
    },
    {
      "cell_type": "code",
      "source": [
        "# estado de git\n",
        "!git status\n",
        "# mientras tanto git no presenta modificaciones"
      ],
      "metadata": {
        "colab": {
          "base_uri": "https://localhost:8080/"
        },
        "id": "bRx5dtstHwjC",
        "outputId": "45fd4017-67df-462a-bb69-e2e75fd9e9f2"
      },
      "execution_count": null,
      "outputs": [
        {
          "output_type": "stream",
          "name": "stdout",
          "text": [
            "On branch master\n",
            "nothing to commit, working tree clean\n"
          ]
        }
      ]
    },
    {
      "cell_type": "code",
      "source": [
        "# en este punto podemos hacer 2 cosas:\n",
        "# - un dvc commit para cambiar el stage\n",
        "# - un dvc add data/wc_matches.csv nuevamente\n",
        "# cualquiera de los 2 procesos hacen los mismo\n",
        "!yes|dvc commit\n",
        "# en este caso vemos una forma rara de ejecutar el dvc commit\n",
        "# esto debemos hacerlo de está forma porque el \"dvc commit\" nos pregunta\n",
        "# si estamos seguros de hacer la modificación, y está pregunta no la podemos\n",
        "# responder desde colab, por lo tanto utilizamos una tubería de linux para poder responderla"
      ],
      "metadata": {
        "colab": {
          "base_uri": "https://localhost:8080/"
        },
        "id": "thzkWBSUIb6Y",
        "outputId": "6240a09c-dc46-4047-ba11-873d1faa50cb"
      },
      "execution_count": null,
      "outputs": [
        {
          "output_type": "stream",
          "name": "stdout",
          "text": [
            "\r!\rIf DVC froze, see `hardlink_lock` in <\u001b[36mhttps://man.dvc.org/config#core\u001b[39m>\r                                                                      \routputs ['data/wc_matches.csv'] of stage: 'data/wc_matches.csv.dvc' changed. Are you sure you want to commit it? [y/n] \r!\r  0% |          |0/? [00:00<?,    ?files/s]\r                                           \r\r!\r  0% Transferring|          |0/? [00:00<?,     ?file/s]\rTransferring:   0% 0/1 [00:00<?, ?file/s{'info': ''}]  \r                                                     \r\u001b[0m"
          ]
        }
      ]
    },
    {
      "cell_type": "code",
      "source": [
        "# estado de dvc\n",
        "!dvc status\n",
        "# como podemos ver ya no vemos modificaciones en el proyecto"
      ],
      "metadata": {
        "colab": {
          "base_uri": "https://localhost:8080/"
        },
        "id": "cl32s2AxJAQw",
        "outputId": "57253047-e9f7-4d23-bb22-a9aca8a5a963"
      },
      "execution_count": null,
      "outputs": [
        {
          "output_type": "stream",
          "name": "stdout",
          "text": [
            "\r!\rIf DVC froze, see `hardlink_lock` in <\u001b[36mhttps://man.dvc.org/config#core\u001b[39m>\r                                                                      \rData and pipelines are up to date.\n",
            "\u001b[0m"
          ]
        }
      ]
    },
    {
      "cell_type": "code",
      "source": [
        "# estado de git\n",
        "!git status\n",
        "# como podemos ver hay cambios en el archivo data/wc_matches.csv.dvc"
      ],
      "metadata": {
        "colab": {
          "base_uri": "https://localhost:8080/"
        },
        "id": "Tv-s7qfnJqDr",
        "outputId": "8061eed8-9a0e-40c2-ae62-d1605caa3c89"
      },
      "execution_count": null,
      "outputs": [
        {
          "output_type": "stream",
          "name": "stdout",
          "text": [
            "On branch master\n",
            "Changes not staged for commit:\n",
            "  (use \"git add <file>...\" to update what will be committed)\n",
            "  (use \"git restore <file>...\" to discard changes in working directory)\n",
            "\t\u001b[31mmodified:   data/wc_matches.csv.dvc\u001b[m\n",
            "\n",
            "no changes added to commit (use \"git add\" and/or \"git commit -a\")\n"
          ]
        }
      ]
    },
    {
      "cell_type": "code",
      "source": [
        "# vamos a ver los cambios con git\n",
        "!git diff\n",
        "# vemos que cambio el md5 y el size, también se agregó el nombre del archivo"
      ],
      "metadata": {
        "colab": {
          "base_uri": "https://localhost:8080/"
        },
        "id": "9GODdOLXKURd",
        "outputId": "887be849-3411-4563-e5ad-9128d2ddfe13"
      },
      "execution_count": null,
      "outputs": [
        {
          "output_type": "stream",
          "name": "stdout",
          "text": [
            "\u001b[1mdiff --git a/data/wc_matches.csv.dvc b/data/wc_matches.csv.dvc\u001b[m\n",
            "\u001b[1mindex 99c5046..87f25c3 100644\u001b[m\n",
            "\u001b[1m--- a/data/wc_matches.csv.dvc\u001b[m\n",
            "\u001b[1m+++ b/data/wc_matches.csv.dvc\u001b[m\n",
            "\u001b[36m@@ -1,4 +1,4 @@\u001b[m\n",
            " outs:\u001b[m\n",
            "\u001b[31m-- md5: b9c19d193daae7f57046736d169425ae\u001b[m\n",
            "\u001b[31m-  size: 7905\u001b[m\n",
            "\u001b[32m+\u001b[m\u001b[32m- md5: 47825d155b1c5a7fcab5694a0a6bfd0c\u001b[m\n",
            "\u001b[32m+\u001b[m\u001b[32m  size: 8026\u001b[m\n",
            "   path: wc_matches.csv\u001b[m\n"
          ]
        }
      ]
    },
    {
      "cell_type": "code",
      "source": [
        "# vamos a hacer un push de dvc\n",
        "!dvc push -r origin_local {file_ds}"
      ],
      "metadata": {
        "colab": {
          "base_uri": "https://localhost:8080/"
        },
        "id": "UVBamLWDKp1p",
        "outputId": "23d18960-3e4e-4f37-d42f-b62e9b3bbf92"
      },
      "execution_count": null,
      "outputs": [
        {
          "output_type": "stream",
          "name": "stdout",
          "text": [
            "\r!\rIf DVC froze, see `hardlink_lock` in <\u001b[36mhttps://man.dvc.org/config#core\u001b[39m>\r                                                                      \r\r!\r  0% |          |0/? [00:00<?,    ?files/s]\r                                           \r\r!\r  0% |          |0/? [00:00<?,    ?files/s]\r                                           \r\r!\r  0% Transferring|          |0/? [00:00<?,     ?file/s]\rTransferring:   0% 0/1 [00:00<?, ?file/s{'info': ''}]  \n",
            "\r!\u001b[A\n",
            "\r  0%|          |/content/semana_09_teoria/.dvc/cach0.00/? [00:00<?,        ?B/s]\u001b[A\n",
            "\r  0% 0.00/7.84k [00:00<?, ?B/s{'info': ''}]                                     \u001b[A\n",
            "\r                                           \u001b[A\r                                                     \r1 file pushed\n",
            "\u001b[0m"
          ]
        }
      ]
    },
    {
      "cell_type": "code",
      "source": [
        "# vamos a realizar un add y luego un commit de git\n",
        "!git add data/wc_matches.csv.dvc\n",
        "!git commit -m \"Se duplicó la última línea del dataset\""
      ],
      "metadata": {
        "colab": {
          "base_uri": "https://localhost:8080/"
        },
        "id": "wFUoQAVnK1Tp",
        "outputId": "1530e59b-55fe-455f-a9e7-2b700b03eacc"
      },
      "execution_count": null,
      "outputs": [
        {
          "output_type": "stream",
          "name": "stdout",
          "text": [
            "[master 6f5f3b4] Se duplicó la última línea del dataset\n",
            " 1 file changed, 2 insertions(+), 2 deletions(-)\n"
          ]
        }
      ]
    },
    {
      "cell_type": "code",
      "source": [
        "# estado de dvc\n",
        "!dvc status"
      ],
      "metadata": {
        "colab": {
          "base_uri": "https://localhost:8080/"
        },
        "id": "osOChUuELKhK",
        "outputId": "cdae66e9-b627-4e2b-8f4f-0db76a0ecf76"
      },
      "execution_count": null,
      "outputs": [
        {
          "output_type": "stream",
          "name": "stdout",
          "text": [
            "\r!\rIf DVC froze, see `hardlink_lock` in <\u001b[36mhttps://man.dvc.org/config#core\u001b[39m>\r                                                                      \rData and pipelines are up to date.\n",
            "\u001b[0m"
          ]
        }
      ]
    },
    {
      "cell_type": "code",
      "source": [
        "# estado de git\n",
        "!git status"
      ],
      "metadata": {
        "colab": {
          "base_uri": "https://localhost:8080/"
        },
        "id": "abyPqf4-LOv5",
        "outputId": "ab39b6d5-da55-4df5-91dd-e3d658069294"
      },
      "execution_count": null,
      "outputs": [
        {
          "output_type": "stream",
          "name": "stdout",
          "text": [
            "On branch master\n",
            "nothing to commit, working tree clean\n"
          ]
        }
      ]
    },
    {
      "cell_type": "markdown",
      "source": [
        "## Mostrando diferencias\n",
        "\n",
        "`dvc diff` homólogo a `git diff`\n",
        "\n",
        "Muestra las diferencias entre 2 commits de git. Las diferencias que se muestran son cuantos archivos fueron agregado, modificados o eliminados. No muestra la diferencia entre archivos como lo hace git."
      ],
      "metadata": {
        "id": "n86VWX1ZMyc6"
      }
    },
    {
      "cell_type": "code",
      "source": [
        "# vamos a ver el log de git y guardar los 2 últimos commit\n",
        "!git log\n",
        "# vamos a guardar el checksum del último commit en un archivo dentro del directorio tmp\n",
        "!git log | grep commit | head -n 1 | awk '{print $2}' > /tmp/first_commit\n",
        "# vamos a guardar el checksum del ante penúltimo commit en un archivo dentro del directorio tmp\n",
        "!git log | grep commit | head -n 2 | tail -n 1 | awk '{print $2}' > /tmp/second_commit"
      ],
      "metadata": {
        "colab": {
          "base_uri": "https://localhost:8080/"
        },
        "id": "wzesG3LMMPPq",
        "outputId": "9987af31-67de-48bc-e70a-5c3239d332f5"
      },
      "execution_count": null,
      "outputs": [
        {
          "output_type": "stream",
          "name": "stdout",
          "text": [
            "\u001b[33mcommit 6f5f3b45044323a91cba772d8ff18ad6f475b94b\u001b[m\u001b[33m (\u001b[m\u001b[1;36mHEAD -> \u001b[m\u001b[1;32mmaster\u001b[m\u001b[33m)\u001b[m\n",
            "Author: HAD141 <lcd-had141@ugr.edu.ar>\n",
            "Date:   Sun May 7 19:29:33 2023 +0000\n",
            "\n",
            "    Se duplicó la última línea del dataset\n",
            "\n",
            "\u001b[33mcommit f35d40fc9b92ba2d203e20e28933d1a46b4c56c4\u001b[m\u001b[33m (\u001b[m\u001b[1;31morigin/master\u001b[m\u001b[33m)\u001b[m\n",
            "Author: HAD141 <lcd-had141@ugr.edu.ar>\n",
            "Date:   Sun May 7 19:29:24 2023 +0000\n",
            "\n",
            "    Se agregó el remote a dvc\n",
            "\n",
            "\u001b[33mcommit ae31edc1975beb2c0ed64e112f4d990a39d6af80\u001b[m\n",
            "Author: HAD141 <lcd-had141@ugr.edu.ar>\n",
            "Date:   Sun May 7 19:29:00 2023 +0000\n",
            "\n",
            "    Se agregó el archivo wc_matches.csv\n",
            "\n",
            "\u001b[33mcommit 407e6a19cdc3c603b99973da1d5c9945191ec44f\u001b[m\n",
            "Author: HAD141 <lcd-had141@ugr.edu.ar>\n",
            "Date:   Sun May 7 19:28:57 2023 +0000\n",
            "\n",
            "    Inicialización del repositorio de dvc\n"
          ]
        }
      ]
    },
    {
      "cell_type": "code",
      "source": [
        "# vamos a mostrar el contenido de los archivo que generamos\n",
        "!echo \"Archivo first_commit:\"\n",
        "!cat /tmp/first_commit\n",
        "!echo\n",
        "!echo \"Archivo second_commit:\"\n",
        "!cat /tmp/second_commit"
      ],
      "metadata": {
        "colab": {
          "base_uri": "https://localhost:8080/"
        },
        "id": "MO_tMQFANr69",
        "outputId": "36fd531b-05f7-4755-e948-03fb68dbe4a1"
      },
      "execution_count": null,
      "outputs": [
        {
          "output_type": "stream",
          "name": "stdout",
          "text": [
            "Archivo first_commit:\n",
            "6f5f3b45044323a91cba772d8ff18ad6f475b94b\n",
            "\n",
            "Archivo second_commit:\n",
            "f35d40fc9b92ba2d203e20e28933d1a46b4c56c4\n"
          ]
        }
      ]
    },
    {
      "cell_type": "code",
      "source": [
        "# mostramos las diferencias entre los checksum o commits\n",
        "!echo \"La sentencia ejecutada es:\"\n",
        "# los archivos contienen los checksum para que se pueda replicar en distintas\n",
        "# ejecuciones\n",
        "!echo \"!dvc diff -- $(cat /tmp/first_commit) $(cat /tmp/second_commit)\"\n",
        "!echo \"\"\n",
        "!echo \"\"\n",
        "\n",
        "!dvc diff -- $(cat /tmp/first_commit) $(cat /tmp/second_commit)\n",
        "# como podemos ver nos muestra que la diferencia entre ambos commits es la\n",
        "# modificación del archivo data/wc_matches.csv"
      ],
      "metadata": {
        "colab": {
          "base_uri": "https://localhost:8080/"
        },
        "id": "DIkuY_9FMIIi",
        "outputId": "77943812-3531-4421-8acc-d8aab885e58d"
      },
      "execution_count": null,
      "outputs": [
        {
          "output_type": "stream",
          "name": "stdout",
          "text": [
            "La sentencia ejecutada es:\n",
            "!dvc diff -- 6f5f3b45044323a91cba772d8ff18ad6f475b94b f35d40fc9b92ba2d203e20e28933d1a46b4c56c4\n",
            "\n",
            "\n",
            "\u001b[?25l\u001b[32m⠋\u001b[0m Calculating diff\n",
            "\u001b[1A\u001b[2K\u001b[33mModified\u001b[0m:\n",
            "    data/wc_matches.csv\n",
            "\n",
            "files summary: 1 modified\n",
            "\u001b[0m"
          ]
        }
      ]
    },
    {
      "cell_type": "markdown",
      "source": [
        "## Recuperando archivos viejos o borrados\n",
        "\n",
        "`dvc checkout` homólogo a `git checkout`\n",
        "\n",
        "Nos permite volver a versiones anteriores de los archivos."
      ],
      "metadata": {
        "id": "DRJGgLVHOsAp"
      }
    },
    {
      "cell_type": "code",
      "source": [
        "# vamos a ver el log de git y guardar los 2 últimos commit\n",
        "!git log\n",
        "# vamos a guardar el checksum del ante penúltimo commit en un archivo dentro del directorio tmp\n",
        "!git log | grep commit | head -n 2 | tail -n 1 | awk '{print $2}' > /tmp/second_commit"
      ],
      "metadata": {
        "colab": {
          "base_uri": "https://localhost:8080/"
        },
        "id": "Folqvo4GPLFk",
        "outputId": "599d31d9-1c62-4b45-c769-137837c4f426"
      },
      "execution_count": null,
      "outputs": [
        {
          "output_type": "stream",
          "name": "stdout",
          "text": [
            "\u001b[33mcommit 6f5f3b45044323a91cba772d8ff18ad6f475b94b\u001b[m\u001b[33m (\u001b[m\u001b[1;36mHEAD -> \u001b[m\u001b[1;32mmaster\u001b[m\u001b[33m)\u001b[m\n",
            "Author: HAD141 <lcd-had141@ugr.edu.ar>\n",
            "Date:   Sun May 7 19:29:33 2023 +0000\n",
            "\n",
            "    Se duplicó la última línea del dataset\n",
            "\n",
            "\u001b[33mcommit f35d40fc9b92ba2d203e20e28933d1a46b4c56c4\u001b[m\u001b[33m (\u001b[m\u001b[1;31morigin/master\u001b[m\u001b[33m)\u001b[m\n",
            "Author: HAD141 <lcd-had141@ugr.edu.ar>\n",
            "Date:   Sun May 7 19:29:24 2023 +0000\n",
            "\n",
            "    Se agregó el remote a dvc\n",
            "\n",
            "\u001b[33mcommit ae31edc1975beb2c0ed64e112f4d990a39d6af80\u001b[m\n",
            "Author: HAD141 <lcd-had141@ugr.edu.ar>\n",
            "Date:   Sun May 7 19:29:00 2023 +0000\n",
            "\n",
            "    Se agregó el archivo wc_matches.csv\n",
            "\n",
            "\u001b[33mcommit 407e6a19cdc3c603b99973da1d5c9945191ec44f\u001b[m\n",
            "Author: HAD141 <lcd-had141@ugr.edu.ar>\n",
            "Date:   Sun May 7 19:28:57 2023 +0000\n",
            "\n",
            "    Inicialización del repositorio de dvc\n"
          ]
        }
      ]
    },
    {
      "cell_type": "code",
      "source": [
        "# vamos a mostrar el contenido de los archivo que generamos\n",
        "!cat /tmp/second_commit"
      ],
      "metadata": {
        "colab": {
          "base_uri": "https://localhost:8080/"
        },
        "id": "DO1n3Y8nPQwN",
        "outputId": "68e6fa09-9e7d-43ce-a8a7-91d73a407610"
      },
      "execution_count": null,
      "outputs": [
        {
          "output_type": "stream",
          "name": "stdout",
          "text": [
            "f35d40fc9b92ba2d203e20e28933d1a46b4c56c4\n"
          ]
        }
      ]
    },
    {
      "cell_type": "code",
      "source": [
        "# primero hacemos un checkout de git\n",
        "!echo \"La sentencia ejecutada es:\"\n",
        "# los archivos contienen los checksum para que se pueda replicar en distintas\n",
        "# ejecuciones\n",
        "!echo \"!git checkout $(cat /tmp/second_commit)\"\n",
        "!echo \"\"\n",
        "!echo \"\"\n",
        "\n",
        "!git checkout $(cat /tmp/second_commit)"
      ],
      "metadata": {
        "colab": {
          "base_uri": "https://localhost:8080/"
        },
        "id": "e1uYvx9kP5in",
        "outputId": "7a2b0655-bee7-496e-fe84-44d35d81bc29"
      },
      "execution_count": null,
      "outputs": [
        {
          "output_type": "stream",
          "name": "stdout",
          "text": [
            "La sentencia ejecutada es:\n",
            "!git checkout f35d40fc9b92ba2d203e20e28933d1a46b4c56c4\n",
            "\n",
            "\n",
            "Note: switching to 'f35d40fc9b92ba2d203e20e28933d1a46b4c56c4'.\n",
            "\n",
            "You are in 'detached HEAD' state. You can look around, make experimental\n",
            "changes and commit them, and you can discard any commits you make in this\n",
            "state without impacting any branches by switching back to a branch.\n",
            "\n",
            "If you want to create a new branch to retain commits you create, you may\n",
            "do so (now or later) by using -c with the switch command. Example:\n",
            "\n",
            "  git switch -c <new-branch-name>\n",
            "\n",
            "Or undo this operation with:\n",
            "\n",
            "  git switch -\n",
            "\n",
            "Turn off this advice by setting config variable advice.detachedHead to false\n",
            "\n",
            "HEAD is now at f35d40f Se agregó el remote a dvc\n"
          ]
        }
      ]
    },
    {
      "cell_type": "code",
      "source": [
        "# estado del proyecto de git\n",
        "!git status\n",
        "# como podemos ver en este caso tenemos un detached porque el head se desplazó\n",
        "# del último commit"
      ],
      "metadata": {
        "colab": {
          "base_uri": "https://localhost:8080/"
        },
        "id": "J07YgniRQS82",
        "outputId": "bc22c469-bce0-4ab4-e0d5-15ec1893546b"
      },
      "execution_count": null,
      "outputs": [
        {
          "output_type": "stream",
          "name": "stdout",
          "text": [
            "\u001b[31mHEAD detached at \u001b[mf35d40f\n",
            "nothing to commit, working tree clean\n"
          ]
        }
      ]
    },
    {
      "cell_type": "code",
      "source": [
        "# mostramos las últimas 5 líneas del archivo data/wc_matches.csv\n",
        "!tail -n 5 {file_ds}"
      ],
      "metadata": {
        "colab": {
          "base_uri": "https://localhost:8080/"
        },
        "id": "nc3NhGTUQbQv",
        "outputId": "f4f436a8-dd74-4d67-ae84-12449cf7bb00"
      },
      "execution_count": null,
      "outputs": [
        {
          "output_type": "stream",
          "name": "stdout",
          "text": [
            "2022-12-13,1908,FIFA World Cup,Argentina,Croatia,87.46,79.37,0.6426,0.3574,0.0,1.33,0.84,3,0,1.69,0.53,1.3,1.16,3.15,0.0\n",
            "2022-12-14,1908,FIFA World Cup,France,Morocco,87.72,75.13,0.6646,0.3354,0.0,1.38,0.82,2,0,1.4,0.79,1.43,0.7,1.87,0.0\n",
            "2022-12-17,1908,FIFA World Cup,Croatia,Morocco,77.65,73.92,0.5325,0.4675,0.0,0.97,0.88,2,1,0.76,0.96,1.52,0.73,2.1,1.05\n",
            "2022-12-18,1908,FIFA World Cup,Argentina,France,88.86,88.41,0.5321,0.4679,0.0,1.3,1.18,3,3,2.81,2.25,2.36,0.76,3.15,3.15\n",
            "2022-12-18,1908,FIFA World Cup,Argentina,France,88.86,88.41,0.5321,0.4679,0.0,1.3,1.18,3,3,2.81,2.25,2.36,0.76,3.15,3.15\n"
          ]
        }
      ]
    },
    {
      "cell_type": "code",
      "source": [
        "# hacemos un checkout de dvc\n",
        "!dvc checkout\n",
        "# vemos que recuperamos el archivo con la versión anterior"
      ],
      "metadata": {
        "colab": {
          "base_uri": "https://localhost:8080/"
        },
        "id": "RCB4b3emQlq9",
        "outputId": "8220835d-68ac-47ec-8a75-530a134a53c2"
      },
      "execution_count": null,
      "outputs": [
        {
          "output_type": "stream",
          "name": "stdout",
          "text": [
            "\r!\rIf DVC froze, see `hardlink_lock` in <\u001b[36mhttps://man.dvc.org/config#core\u001b[39m>\r                                                                      \r\r!\r  0% Checkout|          |0/? [00:00<?,     ?file/s]\rCheckout:   0% 0/1 [00:00<?, ?file/s{'info': ''}]  \rCheckout:   0% 0/1 [00:00<?, ?file/s{'info': ''}]\n",
            "\r!\u001b[A\n",
            "\r  0%|          |/content/semana_09_teoria/.dvc/cach0.00/? [00:00<?,        ?B/s]\u001b[A\n",
            "\r  0% 0.00/7.72k [00:00<?, ?B/s{'info': ''}]                                     \u001b[A\n",
            "\r                                           \u001b[A\r                                                 \r\u001b[33mM\u001b[0m       data/wc_matches.csv\n",
            "\u001b[0m"
          ]
        }
      ]
    },
    {
      "cell_type": "code",
      "source": [
        "# mostramos las últimas 4 líneas del archivo data/wc_matches.csv\n",
        "!tail -n 4 {file_ds}\n",
        "# como podemos ver este archivo no posee la última línea duplicada"
      ],
      "metadata": {
        "colab": {
          "base_uri": "https://localhost:8080/"
        },
        "id": "sf8LtOEXQwB-",
        "outputId": "df2502ca-0cc0-46aa-81ea-cf57a07021c6"
      },
      "execution_count": null,
      "outputs": [
        {
          "output_type": "stream",
          "name": "stdout",
          "text": [
            "2022-12-13,1908,FIFA World Cup,Argentina,Croatia,87.46,79.37,0.6426,0.3574,0.0,1.33,0.84,3,0,1.69,0.53,1.3,1.16,3.15,0.0\n",
            "2022-12-14,1908,FIFA World Cup,France,Morocco,87.72,75.13,0.6646,0.3354,0.0,1.38,0.82,2,0,1.4,0.79,1.43,0.7,1.87,0.0\n",
            "2022-12-17,1908,FIFA World Cup,Croatia,Morocco,77.65,73.92,0.5325,0.4675,0.0,0.97,0.88,2,1,0.76,0.96,1.52,0.73,2.1,1.05\n",
            "2022-12-18,1908,FIFA World Cup,Argentina,France,88.86,88.41,0.5321,0.4679,0.0,1.3,1.18,3,3,2.81,2.25,2.36,0.76,3.15,3.15\n"
          ]
        }
      ]
    },
    {
      "cell_type": "code",
      "source": [
        "# estado del proyecto de dvc\n",
        "!dvc status\n",
        "# nos muestra que no hay cambios"
      ],
      "metadata": {
        "colab": {
          "base_uri": "https://localhost:8080/"
        },
        "id": "wAE5ILjMQ-0H",
        "outputId": "7acf3569-bdef-4a09-a334-d29b5d0cd928"
      },
      "execution_count": null,
      "outputs": [
        {
          "output_type": "stream",
          "name": "stdout",
          "text": [
            "\r!\rIf DVC froze, see `hardlink_lock` in <\u001b[36mhttps://man.dvc.org/config#core\u001b[39m>\r                                                                      \rData and pipelines are up to date.\n",
            "\u001b[0m"
          ]
        }
      ]
    },
    {
      "cell_type": "code",
      "source": [
        "# estado del proyecto de git\n",
        "!git status\n",
        "# seguimos con el desplazamiento"
      ],
      "metadata": {
        "id": "oNSVgGFURALA",
        "outputId": "1fc0ec92-818b-41d7-8c52-e4be4d2c61e0",
        "colab": {
          "base_uri": "https://localhost:8080/"
        }
      },
      "execution_count": null,
      "outputs": [
        {
          "output_type": "stream",
          "name": "stdout",
          "text": [
            "\u001b[31mHEAD detached at \u001b[mf35d40f\n",
            "nothing to commit, working tree clean\n"
          ]
        }
      ]
    },
    {
      "cell_type": "code",
      "source": [
        "# como queremos conservar los cambios vamos a crear un rama temporal\n",
        "!git branch temporal\n",
        "# nos movemos a la rama master\n",
        "!git checkout master\n",
        "# hacemos un merge entre la rama master y la temporal\n",
        "!git merge temporal\n",
        "# borramos la rama temporal\n",
        "!git branch -d temporal\n",
        "# estado del proyecto de git\n",
        "!git status"
      ],
      "metadata": {
        "colab": {
          "base_uri": "https://localhost:8080/"
        },
        "id": "p3od0vIOFXbh",
        "outputId": "810af87c-df61-41fa-bed6-509720b5b871"
      },
      "execution_count": null,
      "outputs": [
        {
          "output_type": "stream",
          "name": "stdout",
          "text": [
            "Previous HEAD position was f35d40f Se agregó el remote a dvc\n",
            "Switched to branch 'master'\n",
            "Already up to date.\n",
            "Deleted branch temporal (was f35d40f).\n",
            "On branch master\n",
            "nothing to commit, working tree clean\n"
          ]
        }
      ]
    },
    {
      "cell_type": "code",
      "source": [
        "# recuperamos el archivo y estamos sin el desplazamiento o detached\n",
        "!tail -n 4 {file_ds}"
      ],
      "metadata": {
        "colab": {
          "base_uri": "https://localhost:8080/"
        },
        "id": "LoARPIUwGkMT",
        "outputId": "1b53948d-38c5-4358-da8d-ae1a4d260f2f"
      },
      "execution_count": null,
      "outputs": [
        {
          "output_type": "stream",
          "name": "stdout",
          "text": [
            "2022-12-13,1908,FIFA World Cup,Argentina,Croatia,87.46,79.37,0.6426,0.3574,0.0,1.33,0.84,3,0,1.69,0.53,1.3,1.16,3.15,0.0\n",
            "2022-12-14,1908,FIFA World Cup,France,Morocco,87.72,75.13,0.6646,0.3354,0.0,1.38,0.82,2,0,1.4,0.79,1.43,0.7,1.87,0.0\n",
            "2022-12-17,1908,FIFA World Cup,Croatia,Morocco,77.65,73.92,0.5325,0.4675,0.0,0.97,0.88,2,1,0.76,0.96,1.52,0.73,2.1,1.05\n",
            "2022-12-18,1908,FIFA World Cup,Argentina,France,88.86,88.41,0.5321,0.4679,0.0,1.3,1.18,3,3,2.81,2.25,2.36,0.76,3.15,3.15\n"
          ]
        }
      ]
    },
    {
      "cell_type": "markdown",
      "source": [
        "## Obtención del código\n",
        "\n",
        "`dvc pull`\n",
        "\n",
        "Este comando lo utilizamos cuando clonamos un repositorio de git y necesitamos descargar los archivos traceados por dvc. Generalmente dentro de un proyecto de git podemos tener muchos archivos traceado por dvc y solo vamos a descargar los que necesitamos para trabajar, de esta forma optimizamos el espacio de nuestro espacio de trabajo (computadora)."
      ],
      "metadata": {
        "id": "mW_vcr93G5KK"
      }
    },
    {
      "cell_type": "code",
      "source": [
        "# nos movemos al directorio /content\n",
        "%cd /content\n",
        "# vamos a clonar el repositorio\n",
        "!git clone https://github.com/HAD141/semana_09_teoria.git semana_09_teoria_clone_pull\n",
        "# nos movemos al directorio /content/semana_09_teoria_clone_pull\n",
        "%cd /content/semana_09_teoria_clone_pull\n",
        "# mostramos el contenido del directorio\n",
        "!ls -Rl\n",
        "# vemos que tenemos el archivo wc_matches.csv.dvc"
      ],
      "metadata": {
        "colab": {
          "base_uri": "https://localhost:8080/"
        },
        "id": "8dfZCML2JN6W",
        "outputId": "034f9bd4-651e-418e-fffb-38abd673fbac"
      },
      "execution_count": null,
      "outputs": [
        {
          "output_type": "stream",
          "name": "stdout",
          "text": [
            "/content\n",
            "Cloning into 'semana_09_teoria_clone_pull'...\n",
            "remote: Enumerating objects: 15, done.\u001b[K\n",
            "remote: Counting objects: 100% (15/15), done.\u001b[K\n",
            "remote: Compressing objects: 100% (11/11), done.\u001b[K\n",
            "remote: Total 15 (delta 1), reused 15 (delta 1), pack-reused 0\u001b[K\n",
            "Unpacking objects: 100% (15/15), 1.31 KiB | 335.00 KiB/s, done.\n",
            "/content/semana_09_teoria_clone_pull\n",
            ".:\n",
            "total 4\n",
            "drwxr-xr-x 2 root root 4096 May  7 19:29 data\n",
            "\n",
            "./data:\n",
            "total 4\n",
            "-rw-r--r-- 1 root root 82 May  7 19:29 wc_matches.csv.dvc\n"
          ]
        }
      ]
    },
    {
      "cell_type": "code",
      "source": [
        "# vamor a descargar el archivo relacionado\n",
        "!dvc pull --remote origin_local data/wc_matches.csv.dvc"
      ],
      "metadata": {
        "colab": {
          "base_uri": "https://localhost:8080/"
        },
        "id": "3ELTgheIPFkw",
        "outputId": "bd5984ac-ad62-49df-884a-ae448126cda5"
      },
      "execution_count": null,
      "outputs": [
        {
          "output_type": "stream",
          "name": "stdout",
          "text": [
            "\r!\rIf DVC froze, see `hardlink_lock` in <\u001b[36mhttps://man.dvc.org/config#core\u001b[39m>\r                                                                      \r\r!\r  0% |          |0/? [00:00<?,    ?files/s]\r                                           \r\r!\r  0% |          |0/? [00:00<?,    ?files/s]\r                                           \r\r!\r  0% Transferring|          |0/? [00:00<?,     ?file/s]\rTransferring:   0% 0/1 [00:00<?, ?file/s{'info': ''}]  \n",
            "\r!\u001b[A\n",
            "\r  0%|          |/content/drive/MyDrive/dvc/semana_00.00/? [00:00<?,        ?B/s]\u001b[A\n",
            "\r  0% 0.00/7.72k [00:00<?, ?B/s{'info': ''}]                                     \u001b[A\n",
            "\r                                           \u001b[A\r                                                     \r\r!\r  0% Checkout|          |0/? [00:00<?,     ?file/s]\rCheckout:   0% 0/1 [00:00<?, ?file/s{'info': ''}]  \rCheckout:   0% 0/1 [00:00<?, ?file/s{'info': ''}]\n",
            "\r!\u001b[A\n",
            "\r  0%|          |/content/semana_09_teoria_clone_pul0.00/? [00:00<?,        ?B/s]\u001b[A\n",
            "  0% 0.00/7.72k [00:00<?, ?B/s{'info': ''}]                                     \u001b[A\n",
            "\u001b[32mA\u001b[0m       data/wc_matches.csv\n",
            "1 file added and 1 file fetched\n",
            "\u001b[0m"
          ]
        }
      ]
    },
    {
      "cell_type": "code",
      "source": [
        "# listamos el contenido del directrio data\n",
        "!ls -al data\n",
        "# vemos como nos descargó el archivo wc_matches.csv"
      ],
      "metadata": {
        "colab": {
          "base_uri": "https://localhost:8080/"
        },
        "id": "LynX43DZQZXj",
        "outputId": "d4e8c13a-e06c-47ef-9f81-770dabf0de27"
      },
      "execution_count": null,
      "outputs": [
        {
          "output_type": "stream",
          "name": "stdout",
          "text": [
            "total 24\n",
            "drwxr-xr-x 2 root root 4096 May  7 19:29 .\n",
            "drwxr-xr-x 5 root root 4096 May  7 19:29 ..\n",
            "-rw-r--r-- 1 root root   16 May  7 19:29 .gitignore\n",
            "-rw-r--r-- 1 root root 7905 May  7 19:29 wc_matches.csv\n",
            "-rw-r--r-- 1 root root   82 May  7 19:29 wc_matches.csv.dvc\n"
          ]
        }
      ]
    },
    {
      "cell_type": "code",
      "source": [
        "# estado del proyecto de status\n",
        "!dvc status"
      ],
      "metadata": {
        "colab": {
          "base_uri": "https://localhost:8080/"
        },
        "id": "BUqoRJ4eQlts",
        "outputId": "d5431691-f660-4d08-d642-5aa22de19115"
      },
      "execution_count": null,
      "outputs": [
        {
          "output_type": "stream",
          "name": "stdout",
          "text": [
            "\r!\rIf DVC froze, see `hardlink_lock` in <\u001b[36mhttps://man.dvc.org/config#core\u001b[39m>\r                                                                      \rData and pipelines are up to date.\n",
            "\u001b[0m"
          ]
        }
      ]
    },
    {
      "cell_type": "code",
      "source": [
        "# estado del proyecto de git\n",
        "!git status"
      ],
      "metadata": {
        "colab": {
          "base_uri": "https://localhost:8080/"
        },
        "id": "N1ORDSe9QqPN",
        "outputId": "7cfd2c8d-7304-4fea-90c4-9684f01a7db3"
      },
      "execution_count": null,
      "outputs": [
        {
          "output_type": "stream",
          "name": "stdout",
          "text": [
            "On branch master\n",
            "Your branch is up to date with 'origin/master'.\n",
            "\n",
            "nothing to commit, working tree clean\n"
          ]
        }
      ]
    },
    {
      "cell_type": "code",
      "source": [
        "!dvc remote list"
      ],
      "metadata": {
        "colab": {
          "base_uri": "https://localhost:8080/"
        },
        "id": "kMlV9CRtpeJ5",
        "outputId": "672e5a0f-f3fa-476c-d561-da9e19465760"
      },
      "execution_count": null,
      "outputs": [
        {
          "output_type": "stream",
          "name": "stdout",
          "text": [
            "origin_local\t/content/drive/MyDrive/dvc/semana_09_teoria\n",
            "\u001b[0m"
          ]
        }
      ]
    },
    {
      "cell_type": "markdown",
      "source": [
        "## Pipeline\n",
        "\n",
        "Vamos a crear un pipeline con un entrenamiento de un modelo de tiempo. No vamos a mejorar el modelo y tampoco vamos comprender su salida, solo nos enforcaremos en el flujo de trabajo de dvc.\n",
        "\n"
      ],
      "metadata": {
        "id": "4NPtc2l7hYz3"
      }
    },
    {
      "cell_type": "code",
      "source": [
        "# nos paramos en la carpeta content\n",
        "%cd /content\n",
        "#!rm -rf semana_09_pipeline_teoria\n",
        "# directorio local que usaremos para dvc (que local en la colab)\n",
        "!mkdir -p /content/dvc_local_semana_09_pipeline_teoria\n",
        "# clonamos el repositorio\n",
        "!git clone https://github.com/HAD141/semana_09_pipeline_teoria.git\n",
        "# entramos a la carpeta semana_09_pipeline_teoria\n",
        "%cd semana_09_pipeline_teoria\n",
        "# configuración de git\n",
        "!git config user.name \"HAD141\"\n",
        "!git config user.email \"lcd-had141@ugr.edu.ar\""
      ],
      "metadata": {
        "colab": {
          "base_uri": "https://localhost:8080/"
        },
        "id": "6zF67ZsPD-_k",
        "outputId": "805bf6b3-acbb-4447-db62-a4dc595883a3"
      },
      "execution_count": null,
      "outputs": [
        {
          "output_type": "stream",
          "name": "stdout",
          "text": [
            "/content\n",
            "Cloning into 'semana_09_pipeline_teoria'...\n",
            "remote: Enumerating objects: 56, done.\u001b[K\n",
            "remote: Counting objects: 100% (56/56), done.\u001b[K\n",
            "remote: Compressing objects: 100% (42/42), done.\u001b[K\n",
            "remote: Total 56 (delta 23), reused 30 (delta 11), pack-reused 0\u001b[K\n",
            "Unpacking objects: 100% (56/56), 10.77 KiB | 734.00 KiB/s, done.\n",
            "/content/semana_09_pipeline_teoria\n"
          ]
        }
      ]
    },
    {
      "cell_type": "code",
      "source": [
        "# instalamos los requerimientos\n",
        "!pip install -qr requirements"
      ],
      "metadata": {
        "colab": {
          "base_uri": "https://localhost:8080/"
        },
        "id": "1jGJiQgYrWLR",
        "outputId": "d00d48bc-20c1-4921-d7ed-e5fff9a1a9d6"
      },
      "execution_count": null,
      "outputs": [
        {
          "output_type": "stream",
          "name": "stdout",
          "text": [
            "\u001b[2K     \u001b[90m━━━━━━━━━━━━━━━━━━━━━━━━━━━━━━━━━━━━━━━\u001b[0m \u001b[32m343.8/343.8 kB\u001b[0m \u001b[31m6.8 MB/s\u001b[0m eta \u001b[36m0:00:00\u001b[0m\n",
            "\u001b[2K     \u001b[90m━━━━━━━━━━━━━━━━━━━━━━━━━━━━━━━━━━━━━━\u001b[0m \u001b[32m365.7/365.7 kB\u001b[0m \u001b[31m30.8 MB/s\u001b[0m eta \u001b[36m0:00:00\u001b[0m\n",
            "\u001b[2K     \u001b[90m━━━━━━━━━━━━━━━━━━━━━━━━━━━━━━━━━━━━━━━━\u001b[0m \u001b[32m78.5/78.5 kB\u001b[0m \u001b[31m9.4 MB/s\u001b[0m eta \u001b[36m0:00:00\u001b[0m\n",
            "\u001b[2K     \u001b[90m━━━━━━━━━━━━━━━━━━━━━━━━━━━━━━━━━━━━━━\u001b[0m \u001b[32m212.9/212.9 kB\u001b[0m \u001b[31m17.8 MB/s\u001b[0m eta \u001b[36m0:00:00\u001b[0m\n",
            "\u001b[2K     \u001b[90m━━━━━━━━━━━━━━━━━━━━━━━━━━━━━━━━━━━━━━━━\u001b[0m \u001b[32m78.7/78.7 kB\u001b[0m \u001b[31m2.3 MB/s\u001b[0m eta \u001b[36m0:00:00\u001b[0m\n",
            "\u001b[?25h"
          ]
        }
      ]
    },
    {
      "cell_type": "code",
      "source": [
        "# dentro del archivo \"dvc.yaml\" tenemos scripts que debemos\n",
        "# en orden para reproducir un experimento\n",
        "# dentro del archivo \"params.yaml\" tenemos los parámetros\n",
        "# que necesitamos para las distintas ejecuciones\n",
        "\n",
        "# ahora procedemos a ejecutar todos los scritps\n",
        "# esto nos va a generar carpetas y archivos\n",
        "!dvc experiments run"
      ],
      "metadata": {
        "colab": {
          "base_uri": "https://localhost:8080/"
        },
        "id": "5GeuwkrJEVqC",
        "outputId": "8f472867-9237-4bd1-f5c1-58b2ad80b1c2"
      },
      "execution_count": null,
      "outputs": [
        {
          "output_type": "stream",
          "name": "stdout",
          "text": [
            "Running stage 'step_get_data':\n",
            "> python src/run_get_raw_data.py\n",
            "Generating lock file 'dvc.lock'\n",
            "Updating lock file 'dvc.lock'\n",
            "\n",
            "Running stage 'step_prepare_data':\n",
            "> python src/run_prepare_data.py\n",
            "Updating lock file 'dvc.lock'\n",
            "\n",
            "Running stage 'step_train':\n",
            "> python src/run_train.py\n",
            "Updating lock file 'dvc.lock'\n",
            "\n",
            "Running stage 'step_evaluation':\n",
            "> python src/run_evaluation.py\n",
            "Updating lock file 'dvc.lock'\n",
            "\n",
            "To track the changes with git, run:\n",
            "\n",
            "\tgit add params.yaml src/run_train.py models/.gitignore dvc.yaml dvc.lock src/run_evaluation.py src/run_get_raw_data.py dataset/.gitignore src/run_prepare_data.py metrics.json\n",
            "\n",
            "To enable auto staging, run:\n",
            "\n",
            "\tdvc config core.autostage true\n",
            "                                                                      \n",
            "Ran experiment(s): gamer-sway\n",
            "Experiment results have been applied to your workspace.\n",
            "\n",
            "To promote an experiment to a Git branch run:\n",
            "\n",
            "\tdvc exp branch <exp> <branch>\n",
            "\n",
            "\u001b[0m"
          ]
        }
      ]
    },
    {
      "cell_type": "code",
      "source": [
        "# la ejecución anterior nos muestra que debemos realizar\n",
        "# el git add de varios archivos\n",
        "!git status\n",
        "# como mencionamos anteriormente el directorio \"dataset\" y \"models\"\n",
        "# se deberán almacenar en dvc"
      ],
      "metadata": {
        "colab": {
          "base_uri": "https://localhost:8080/"
        },
        "id": "vi1nyB96FBYJ",
        "outputId": "7011cedd-ec34-45a5-e652-cc58a469a450"
      },
      "execution_count": null,
      "outputs": [
        {
          "output_type": "stream",
          "name": "stdout",
          "text": [
            "On branch main\n",
            "Your branch is up to date with 'origin/main'.\n",
            "\n",
            "Untracked files:\n",
            "  (use \"git add <file>...\" to include in what will be committed)\n",
            "\t\u001b[31mdataset/\u001b[m\n",
            "\t\u001b[31mdvc.lock\u001b[m\n",
            "\t\u001b[31mmetrics.json\u001b[m\n",
            "\t\u001b[31mmodels/\u001b[m\n",
            "\n",
            "nothing added to commit but untracked files present (use \"git add\" to track)\n"
          ]
        }
      ]
    },
    {
      "cell_type": "code",
      "source": [
        "!dvc status"
      ],
      "metadata": {
        "colab": {
          "base_uri": "https://localhost:8080/"
        },
        "id": "Wt9I3QPkFfQD",
        "outputId": "ad9a1a9d-b4b3-4c25-fce9-f4125ce0da26"
      },
      "execution_count": null,
      "outputs": [
        {
          "output_type": "stream",
          "name": "stdout",
          "text": [
            "\r!\rIf DVC froze, see `hardlink_lock` in <\u001b[36mhttps://man.dvc.org/config#core\u001b[39m>\r                                                                      \rData and pipelines are up to date.\n",
            "\u001b[0m"
          ]
        }
      ]
    },
    {
      "cell_type": "code",
      "source": [
        "# vamos a ejecutar nuevamente los experimentos y en este caso vamos a cambiar\n",
        "# el parámetros \"train.steps\" que por defecto se encuentra dentro del archivos \"params.yaml\"\n",
        "!dvc experiments run --set-param train.steps=400\n",
        "# como podemos observar solo se ejecutan los pasos step_train y run_evaluation\n",
        "# esto se debe a que los pasos anteriores no utilizan este parámentro\n",
        "# en este punto nuevamente deberemos realizar el add en dvc y git para continuar\n",
        "# con el traceo de archivos"
      ],
      "metadata": {
        "colab": {
          "base_uri": "https://localhost:8080/"
        },
        "id": "Ca1GY2M-G1zt",
        "outputId": "b773afec-04a4-44df-8d1a-601e405110a8"
      },
      "execution_count": null,
      "outputs": [
        {
          "output_type": "stream",
          "name": "stdout",
          "text": [
            "Stage 'step_get_data' didn't change, skipping\n",
            "Stage 'step_prepare_data' didn't change, skipping\n",
            "Running stage 'step_train':\n",
            "> python src/run_train.py\n",
            "Updating lock file 'dvc.lock'\n",
            "\n",
            "Running stage 'step_evaluation':\n",
            "> python src/run_evaluation.py\n",
            "Updating lock file 'dvc.lock'\n",
            "\n",
            "To track the changes with git, run:\n",
            "\n",
            "\tgit add params.yaml src/run_evaluation.py dvc.lock src/run_train.py dvc.yaml metrics.json\n",
            "\n",
            "To enable auto staging, run:\n",
            "\n",
            "\tdvc config core.autostage true\n",
            "                                                                      \n",
            "Ran experiment(s): liege-flew\n",
            "Experiment results have been applied to your workspace.\n",
            "\n",
            "To promote an experiment to a Git branch run:\n",
            "\n",
            "\tdvc exp branch <exp> <branch>\n",
            "\n",
            "\u001b[0m"
          ]
        }
      ]
    }
  ]
}