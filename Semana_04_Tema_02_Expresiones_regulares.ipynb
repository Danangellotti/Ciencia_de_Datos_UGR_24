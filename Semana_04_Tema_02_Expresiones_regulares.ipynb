{
  "nbformat": 4,
  "nbformat_minor": 0,
  "metadata": {
    "colab": {
      "provenance": [],
      "include_colab_link": true
    },
    "kernelspec": {
      "name": "python3",
      "display_name": "Python 3"
    },
    "language_info": {
      "name": "python"
    }
  },
  "cells": [
    {
      "cell_type": "markdown",
      "metadata": {
        "id": "view-in-github",
        "colab_type": "text"
      },
      "source": [
        "<a href=\"https://colab.research.google.com/github/Danangellotti/Ciencia_de_Datos_UGR_24/blob/main/Semana_04_Tema_02_Expresiones_regulares.ipynb\" target=\"_parent\"><img src=\"https://colab.research.google.com/assets/colab-badge.svg\" alt=\"Open In Colab\"/></a>"
      ]
    },
    {
      "cell_type": "markdown",
      "source": [
        "# ¿Qué es una expresión regular?\n",
        "Una expresión regular es una secuencia de caracteres que conforma un patrón de búsqueda utilizado para encontrar coincidencias en cadenas de texto, es decir, es una herramienta que permite buscar y manipular texto de manera eficiente y flexible. Las expresiones regulares se utilizan en muchos lenguajes de programación y aplicaciones para buscar y manipular textos.\n",
        "\n",
        "En python las expresiones regulares poseen un módulo especial llamado `re` o hay funciones que permiten su uso anteponiendo a la cadena la letra `r`.\n",
        "\n",
        "#En caso de tener que usar una expresión muchas veces es aconsajeble compilarla previamente para no tener que hacerlo todo el tiempo."
      ],
      "metadata": {
        "id": "_hCihqALPmEg"
      }
    },
    {
      "cell_type": "markdown",
      "source": [
        "## Importación"
      ],
      "metadata": {
        "id": "haowV3irp4a4"
      }
    },
    {
      "cell_type": "code",
      "source": [
        "import re"
      ],
      "metadata": {
        "id": "v_ZHtpeIqfnU"
      },
      "execution_count": null,
      "outputs": []
    },
    {
      "cell_type": "markdown",
      "source": [
        "## Abreviaturas más importantes ([wiki](https://en.wikipedia.org/wiki/Regular_expression))\n",
        "\n",
        "\n",
        "| Expresiones Básicas | Descripción |\n",
        "| --- | --- |\n",
        "| . | Cualquier caracter excepto la nueva línea |\n",
        "| a | Caracter  a |\n",
        "| ab | Cadena de caracteres ab |\n",
        "| a\\|b | a or b |\n",
        "| a* | 0 o más a's |\n",
        "| \\\\ | Caracter de escape |\n",
        "\n",
        "<br>\n",
        "<br>\n",
        "\n",
        "| Cuantificadores | Descripción |\n",
        "| --- | --- |\n",
        "| * | 0 o más valores |\n",
        "| + | 1 o más valores |\n",
        "| ? | 0 o 1 valor |\n",
        "| {3} | Exactamente 3 valores |\n",
        "| {3,} | 3 valores o más |\n",
        "| {,3} | Hasta 3 valores |\n",
        "| {3,5} | 3, 4 o 5 valores |\n",
        "\n",
        "<br>\n",
        "<br>\n",
        "\n",
        "| Grupos y rangos | Descripción |\n",
        "| --- | --- |\n",
        "| . | Cualquier caracter excepto la nueva línea |\n",
        "| (a\\|b) | Valor a o valor b |\n",
        "| (...) | Grupo de valores |\n",
        "| [abcd] | Rango que contiene las letras a, b, c, d |\n",
        "| [^abcd] | Todo fuera del rango de letras a, b, c, d |\n",
        "| [a-d] | Rango en minúsculas que incluye a, b, c, d |\n",
        "| [A-D] | Rango en mayúsculas que incluye A, B, C, D |\n",
        "| [0-3] | Rango de números que incluye 0, 1, 2, 3 |\n",
        "\n",
        "<br>\n",
        "<br>\n",
        "\n",
        "| Abreviatura | Descripción |\n",
        "| --- | --- |\n",
        "| \\d | Es un dígito |\n",
        "| \\D | Todo lo que no sea un dígito |\n",
        "| \\w | Es un caracter, no incluye caracteres especiales o espacios, tabuladores, nuevas líneas, etc. |\n",
        "| \\W | Todo lo que no ss un caracter, no incluye caracteres especiales o espacios, tabuladores, nuevas líneas, etc. |\n",
        "| \\. | Es un caracter sin importar el tipo |\n",
        "| \\s | Es a un espacio, tabulador o nuevas líneas |\n",
        "| \\S | Todo lo que no es un espacio, tabulador o nuevas líneas |\n",
        "\n",
        "<br>\n",
        "<br>\n",
        "\n",
        "| Anclajes | Descripción |\n",
        "| --- | --- |\n",
        "| ^ | Comienzo del string (acento circunflejo o caret)|\n",
        "| $ | Fin del string |\n",
        "| \\\\b | Límites de la palabra |\n",
        "| \\\\B | Palabra sin límite  |\n",
        "\n",
        "<br>\n",
        "<br>\n",
        "\n",
        "| Banderas | Descripción |\n",
        "| --- | --- |\n",
        "| i | Hace el string key-insensitive |\n",
        "| m | ^ y $ machean al inicio y fin de la línea |\n",
        "| s | El punto . machea la nueva línea |\n",
        "| x | Permite comentarios |\n",
        "| L | Trabaja con el locale de la máquina |\n",
        "| u | Caracteres unicode |\n",
        "| (?iLmsux) | Como se setean las banderas |\n",
        "\n",
        "\n",
        "\n",
        "\n"
      ],
      "metadata": {
        "id": "3uO5k69jqg5J"
      }
    },
    {
      "cell_type": "code",
      "source": [
        "cadena = \"\"\"\n",
        "La  inteligencia artificial surge definitivamente a partir de algunos trabajos publicados en la década de 1940 que no tuvieron gran repercusión, pero a partir del influyente trabajo en 1950 de Alan Turing, matemático británico, se abre una nueva disciplina de las ciencias de la información.\n",
        "\n",
        "Si  bien las ideas esenciales se remontan a la lógica y algoritmos de los griegos, y a las matemáticas de los árabes, el concepto de obtener razonamiento artificial aparece en el siglo xiv. A finales del siglo xix se obtienen lógicas formales suficientemente poderosas y, a mediados del siglo xx, se obtienen máquinas capaces de hacer uso de tales lógicas y algoritmos de solución.\n",
        "\"\"\""
      ],
      "metadata": {
        "id": "gEyrdFjHrzGh"
      },
      "execution_count": null,
      "outputs": []
    },
    {
      "cell_type": "markdown",
      "source": [
        "## Funciones más  utilizadas del módulo de [re](https://docs.python.org/es/3/library/re.html)\n",
        "\n",
        "| Función | Descripción |\n",
        "| --- | --- |\n",
        "| compile | Compila un patrón de expresión regular en un objeto de expresión regular |\n",
        "| search | Examina un string buscando el primer lugar donde el patrón de la expresión regular produce una coincidencia, y <br>retorna un objeto match correspondiente. Retorna None si ninguna posición en la cadena coincide con el patrón |\n",
        "| split | Divide la cadena por el número de ocurrencias del patrón. Si se utilizan paréntesis de captura en pattern, <br>entonces el texto de todos los grupos en el patrón también se retornan como parte de la lista resultante.<br>Si maxsplit (máxima divisibilidad) es distinta de cero, como mucho se producen maxsplit divisiones, y <br>el resto de la cadena se retorna como elemento final de la lista |\n",
        "| findall | Retorna todas las coincidencias no superpuestas del patrón en la cadena, como una lista de strings o tuplas. <br>El string se escanea de izquierda a derecha y las coincidencias se retornan en el orden en que se encuentran. <br>Las coincidencias vacías se incluyen en el resultado |\n",
        "| finditer | Retorna un iterator que produce objetos de coincidencia sobre todas las coincidencias no superpuestas para el <br>patrón de RE en la cadena. La cadena es examinada de izquierda a derecha, y las coincidencias son retornadas en el <br>orden en que se encuentran. Las coincidencias vacías se incluyen en el resultado |\n",
        "| sub | Retorna la cadena original reemplazando las ocurrencias no superpuestas del patrón en la cadena |"
      ],
      "metadata": {
        "id": "c24xaNDxzGL3"
      }
    },
    {
      "cell_type": "code",
      "source": [
        "# buscando un dígito\n",
        "patron = r\"\\d\" # re.compile(\"\\d\")\n",
        "print(\"Sentencia: re.search(patron, cadena).span()\")\n",
        "span = re.search(patron, cadena).span()\n",
        "print(\"Retorna un span con la posición donde inicia y termina el patrón buscado:\",\n",
        "      span,\n",
        "      f\"Valor encontrado: {cadena[span[0]:span[1]]}\",\n",
        "      sep=\"\\n\")\n",
        "print()\n",
        "print(\"Sentencia: re.split(patron, cadena)\")\n",
        "print(\"Separa la cadena cada vez que encuentra el patrón:\",\n",
        "      re.split(patron, cadena),\n",
        "      \"En cada lugar donde se encuentra el patrón lo sustituye por un blanco.\",\n",
        "      sep=\"\\n\")\n",
        "print()\n",
        "print(\"Sentencia: re.findall(patron, cadena)\")\n",
        "print(\"Encuentra todas las ocurrencias del patrón:\",\n",
        "      re.findall(patron, cadena),\n",
        "      sep=\"\\n\")\n",
        "print()\n",
        "print(\"Sentencia: re.sub(patron, '--', cadena)\")\n",
        "print(\"Reemplaza el patrón por una nueva cadena de texto:\",\n",
        "      re.sub(patron, \"--\", cadena),\n",
        "      sep=\"\\n\")"
      ],
      "metadata": {
        "colab": {
          "base_uri": "https://localhost:8080/"
        },
        "id": "-FHir3F3yNSy",
        "outputId": "e71909cf-e010-4c17-f0fa-968ce3d35f6b"
      },
      "execution_count": null,
      "outputs": [
        {
          "output_type": "stream",
          "name": "stdout",
          "text": [
            "Sentencia: re.search(patron, cadena).span()\n",
            "Retorna un span con la posición donde inicia y termina el patrón buscado:\n",
            "(107, 108)\n",
            "Valor encontrado: 1\n",
            "\n",
            "Sentencia: re.split(patron, cadena)\n",
            "Separa la cadena cada vez que encuentra el patrón:\n",
            "['\\nLa  inteligencia artificial surge definitivamente a partir de algunos trabajos publicados en la década de ', '', '', '', ' que no tuvieron gran repercusión, pero a partir del influyente trabajo en ', '', '', '', ' de Alan Turing, matemático británico, se abre una nueva disciplina de las ciencias de la información.\\n\\nSi  bien las ideas esenciales se remontan a la lógica y algoritmos de los griegos, y a las matemáticas de los árabes, el concepto de obtener razonamiento artificial aparece en el siglo xiv. A finales del siglo xix se obtienen lógicas formales suficientemente poderosas y, a mediados del siglo xx, se obtienen máquinas capaces de hacer uso de tales lógicas y algoritmos de solución.\\n']\n",
            "En cada lugar donde se encuentra el patrón lo sustituye por un blanco.\n",
            "\n",
            "Sentencia: re.findall(patron, cadena)\n",
            "Encuentra todas las ocurrencias del patrón:\n",
            "['1', '9', '4', '0', '1', '9', '5', '0']\n",
            "\n",
            "Sentencia: re.sub(patron, '--', cadena)\n",
            "Reemplaza el patrón por una nueva cadena de texto:\n",
            "\n",
            "La  inteligencia artificial surge definitivamente a partir de algunos trabajos publicados en la década de -------- que no tuvieron gran repercusión, pero a partir del influyente trabajo en -------- de Alan Turing, matemático británico, se abre una nueva disciplina de las ciencias de la información.\n",
            "\n",
            "Si  bien las ideas esenciales se remontan a la lógica y algoritmos de los griegos, y a las matemáticas de los árabes, el concepto de obtener razonamiento artificial aparece en el siglo xiv. A finales del siglo xix se obtienen lógicas formales suficientemente poderosas y, a mediados del siglo xx, se obtienen máquinas capaces de hacer uso de tales lógicas y algoritmos de solución.\n",
            "\n"
          ]
        }
      ]
    },
    {
      "cell_type": "code",
      "source": [
        "# vamos a buscar números, en este caso son años y sabemos que tienen 4 dígitos\n",
        "patron = re.compile(r\"\\d\\d\\d\\d\")\n",
        "print(\"Sentencia: re.findall(patron, cadena)\")\n",
        "print(\"Patrón: \", patron.pattern)\n",
        "print(\"Busca solo cuatro dígitos seguidos.\")\n",
        "print(\"Encuentra todas las ocurrencias del patrón:\",\n",
        "      re.findall(patron, cadena),\n",
        "      sep=\"\\n\")\n",
        "print()\n",
        "patron = re.compile(r\"\\d*\")\n",
        "print(\"Sentencia: re.findall(patron, cadena)\")\n",
        "print(\"Patrón: \", patron.pattern)\n",
        "print(\"Busca 0 o más dígitos seguidos.\")\n",
        "print(\"Encuentra todas las ocurrencias del patrón:\",\n",
        "      re.findall(patron, cadena),\n",
        "      [a for a in re.findall(patron, cadena) if a != ''],\n",
        "      sep=\"\\n\")\n",
        "print()\n",
        "patron = re.compile(r\"\\d?\")\n",
        "print(\"Sentencia: re.findall(patron, cadena)\")\n",
        "print(\"Patrón: \", patron.pattern)\n",
        "print(\"Busca 0 o 1 dígito seguido.\")\n",
        "print(\"Encuentra todas las ocurrencias del patrón:\",\n",
        "      re.findall(patron, cadena),\n",
        "      [a for a in re.findall(patron, cadena) if a != ''],\n",
        "      sep=\"\\n\")\n",
        "print()\n",
        "patron = re.compile(r\"\\d+\")\n",
        "print(\"Sentencia: re.findall(patron, cadena)\")\n",
        "print(\"Patrón: \", patron.pattern)\n",
        "print(\"Busca 1 o más dígitos seguidos.\")\n",
        "print(\"Encuentra todas las ocurrencias del patrón:\",\n",
        "      re.findall(patron, cadena),\n",
        "      sep=\"\\n\")\n",
        "print()\n",
        "patron = re.compile(r\"\\d{4}\")\n",
        "print(\"Sentencia: re.findall(patron, cadena)\")\n",
        "print(\"Patrón: \", patron.pattern)\n",
        "print(\"Busca 4 dígitos seguidos.\")\n",
        "print(\"Encuentra todas las ocurrencias del patrón:\",\n",
        "      re.findall(patron, cadena),\n",
        "      sep=\"\\n\")\n",
        "print()\n",
        "patron = re.compile(r\"[0-9]{4}\")\n",
        "print(\"Sentencia: re.findall(patron, cadena)\")\n",
        "print(\"Patrón: \", patron.pattern)\n",
        "print(\"Busca 4 dígitos seguidos.\")\n",
        "print(\"Encuentra todas las ocurrencias del patrón:\",\n",
        "      re.findall(patron, cadena),\n",
        "      sep=\"\\n\")"
      ],
      "metadata": {
        "id": "0xvL411g-yAG",
        "colab": {
          "base_uri": "https://localhost:8080/"
        },
        "outputId": "0a75f66e-54ab-413a-b262-3fd583ae2fbf"
      },
      "execution_count": null,
      "outputs": [
        {
          "output_type": "stream",
          "name": "stdout",
          "text": [
            "Sentencia: re.findall(patron, cadena)\n",
            "Patrón:  \\d\\d\\d\\d\n",
            "Busca solo cuatro dígitos seguidos.\n",
            "Encuentra todas las ocurrencias del patrón:\n",
            "['1940', '1950']\n",
            "\n",
            "Sentencia: re.findall(patron, cadena)\n",
            "Patrón:  \\d*\n",
            "Busca 0 o más dígitos seguidos.\n",
            "Encuentra todas las ocurrencias del patrón:\n",
            "['', '', '', '', '', '', '', '', '', '', '', '', '', '', '', '', '', '', '', '', '', '', '', '', '', '', '', '', '', '', '', '', '', '', '', '', '', '', '', '', '', '', '', '', '', '', '', '', '', '', '', '', '', '', '', '', '', '', '', '', '', '', '', '', '', '', '', '', '', '', '', '', '', '', '', '', '', '', '', '', '', '', '', '', '', '', '', '', '', '', '', '', '', '', '', '', '', '', '', '', '', '', '', '', '', '', '', '1940', '', '', '', '', '', '', '', '', '', '', '', '', '', '', '', '', '', '', '', '', '', '', '', '', '', '', '', '', '', '', '', '', '', '', '', '', '', '', '', '', '', '', '', '', '', '', '', '', '', '', '', '', '', '', '', '', '', '', '', '', '', '', '', '', '', '', '', '', '', '', '', '', '', '', '', '1950', '', '', '', '', '', '', '', '', '', '', '', '', '', '', '', '', '', '', '', '', '', '', '', '', '', '', '', '', '', '', '', '', '', '', '', '', '', '', '', '', '', '', '', '', '', '', '', '', '', '', '', '', '', '', '', '', '', '', '', '', '', '', '', '', '', '', '', '', '', '', '', '', '', '', '', '', '', '', '', '', '', '', '', '', '', '', '', '', '', '', '', '', '', '', '', '', '', '', '', '', '', '', '', '', '', '', '', '', '', '', '', '', '', '', '', '', '', '', '', '', '', '', '', '', '', '', '', '', '', '', '', '', '', '', '', '', '', '', '', '', '', '', '', '', '', '', '', '', '', '', '', '', '', '', '', '', '', '', '', '', '', '', '', '', '', '', '', '', '', '', '', '', '', '', '', '', '', '', '', '', '', '', '', '', '', '', '', '', '', '', '', '', '', '', '', '', '', '', '', '', '', '', '', '', '', '', '', '', '', '', '', '', '', '', '', '', '', '', '', '', '', '', '', '', '', '', '', '', '', '', '', '', '', '', '', '', '', '', '', '', '', '', '', '', '', '', '', '', '', '', '', '', '', '', '', '', '', '', '', '', '', '', '', '', '', '', '', '', '', '', '', '', '', '', '', '', '', '', '', '', '', '', '', '', '', '', '', '', '', '', '', '', '', '', '', '', '', '', '', '', '', '', '', '', '', '', '', '', '', '', '', '', '', '', '', '', '', '', '', '', '', '', '', '', '', '', '', '', '', '', '', '', '', '', '', '', '', '', '', '', '', '', '', '', '', '', '', '', '', '', '', '', '', '', '', '', '', '', '', '', '', '', '', '', '', '', '', '', '', '', '', '', '', '', '', '', '', '', '', '', '', '', '', '', '', '', '', '', '', '', '', '', '', '', '', '', '', '', '', '', '', '', '', '', '', '', '', '', '', '', '', '', '', '', '', '', '', '', '', '', '', '', '', '', '', '', '', '', '', '', '', '', '', '', '', '', '', '', '', '', '', '', '', '', '', '', '', '', '', '', '', '', '', '', '', '', '', '', '', '', '', '', '', '', '', '', '', '', '', '', '', '', '', '', '', '', '', '', '', '', '', '', '', '', '', '', '']\n",
            "['1940', '1950']\n",
            "\n",
            "Sentencia: re.findall(patron, cadena)\n",
            "Patrón:  \\d?\n",
            "Busca 0 o 1 dígito seguido.\n",
            "Encuentra todas las ocurrencias del patrón:\n",
            "['', '', '', '', '', '', '', '', '', '', '', '', '', '', '', '', '', '', '', '', '', '', '', '', '', '', '', '', '', '', '', '', '', '', '', '', '', '', '', '', '', '', '', '', '', '', '', '', '', '', '', '', '', '', '', '', '', '', '', '', '', '', '', '', '', '', '', '', '', '', '', '', '', '', '', '', '', '', '', '', '', '', '', '', '', '', '', '', '', '', '', '', '', '', '', '', '', '', '', '', '', '', '', '', '', '', '', '1', '9', '4', '0', '', '', '', '', '', '', '', '', '', '', '', '', '', '', '', '', '', '', '', '', '', '', '', '', '', '', '', '', '', '', '', '', '', '', '', '', '', '', '', '', '', '', '', '', '', '', '', '', '', '', '', '', '', '', '', '', '', '', '', '', '', '', '', '', '', '', '', '', '', '', '', '', '', '', '', '1', '9', '5', '0', '', '', '', '', '', '', '', '', '', '', '', '', '', '', '', '', '', '', '', '', '', '', '', '', '', '', '', '', '', '', '', '', '', '', '', '', '', '', '', '', '', '', '', '', '', '', '', '', '', '', '', '', '', '', '', '', '', '', '', '', '', '', '', '', '', '', '', '', '', '', '', '', '', '', '', '', '', '', '', '', '', '', '', '', '', '', '', '', '', '', '', '', '', '', '', '', '', '', '', '', '', '', '', '', '', '', '', '', '', '', '', '', '', '', '', '', '', '', '', '', '', '', '', '', '', '', '', '', '', '', '', '', '', '', '', '', '', '', '', '', '', '', '', '', '', '', '', '', '', '', '', '', '', '', '', '', '', '', '', '', '', '', '', '', '', '', '', '', '', '', '', '', '', '', '', '', '', '', '', '', '', '', '', '', '', '', '', '', '', '', '', '', '', '', '', '', '', '', '', '', '', '', '', '', '', '', '', '', '', '', '', '', '', '', '', '', '', '', '', '', '', '', '', '', '', '', '', '', '', '', '', '', '', '', '', '', '', '', '', '', '', '', '', '', '', '', '', '', '', '', '', '', '', '', '', '', '', '', '', '', '', '', '', '', '', '', '', '', '', '', '', '', '', '', '', '', '', '', '', '', '', '', '', '', '', '', '', '', '', '', '', '', '', '', '', '', '', '', '', '', '', '', '', '', '', '', '', '', '', '', '', '', '', '', '', '', '', '', '', '', '', '', '', '', '', '', '', '', '', '', '', '', '', '', '', '', '', '', '', '', '', '', '', '', '', '', '', '', '', '', '', '', '', '', '', '', '', '', '', '', '', '', '', '', '', '', '', '', '', '', '', '', '', '', '', '', '', '', '', '', '', '', '', '', '', '', '', '', '', '', '', '', '', '', '', '', '', '', '', '', '', '', '', '', '', '', '', '', '', '', '', '', '', '', '', '', '', '', '', '', '', '', '', '', '', '', '', '', '', '', '', '', '', '', '', '', '', '', '', '', '', '', '', '', '', '', '', '', '', '', '', '', '', '', '', '', '', '', '', '', '', '', '', '', '', '', '', '', '', '', '', '', '', '', '', '', '', '', '', '', '', '', '', '', '', '', '']\n",
            "['1', '9', '4', '0', '1', '9', '5', '0']\n",
            "\n",
            "Sentencia: re.findall(patron, cadena)\n",
            "Patrón:  \\d+\n",
            "Busca 1 o más dígitos seguidos.\n",
            "Encuentra todas las ocurrencias del patrón:\n",
            "['1940', '1950']\n",
            "\n",
            "Sentencia: re.findall(patron, cadena)\n",
            "Patrón:  \\d{4}\n",
            "Busca 4 dígitos seguidos.\n",
            "Encuentra todas las ocurrencias del patrón:\n",
            "['1940', '1950']\n",
            "\n",
            "Sentencia: re.findall(patron, cadena)\n",
            "Patrón:  [0-9]{4}\n",
            "Busca 4 dígitos seguidos.\n",
            "Encuentra todas las ocurrencias del patrón:\n",
            "['1940', '1950']\n"
          ]
        }
      ]
    },
    {
      "cell_type": "code",
      "source": [
        "# vamos a partir el texto por los siguientes artículos\n",
        "print(\"Cadena:\\n\", cadena)\n",
        "\n",
        "print()\n",
        "patron = re.compile(r\"(el|la|lo|las|los)\")\n",
        "print(\"Sentencia: re.split(patron, cadena)\")\n",
        "print(\"Patrón: \", patron.pattern)\n",
        "print(\"El patrón me divide palabras.\")\n",
        "print(\"Encuentra todas las ocurrencias del patrón:\",\n",
        "      re.split(patron, cadena),\n",
        "      sep=\"\\n\")\n",
        "\n",
        "print()\n",
        "patron = re.compile(r\"\\s(el|la|lo|las|los)\\s\")\n",
        "print(\"Sentencia: re.split(patron, cadena)\")\n",
        "print(\"Patrón: \", patron.pattern)\n",
        "print(\"Si agregamos los espacios al inicio y al final cumple con la premisa.\")\n",
        "print(\"Encuentra todas las ocurrencias del patrón:\",\n",
        "      re.split(patron, cadena),\n",
        "      sep=\"\\n\")\n",
        "\n",
        "print()\n",
        "patron = re.compile(r\"\\s(el|l[ao]s?)\\s\")\n",
        "print(\"Sentencia: re.split(patron, cadena)\")\n",
        "print(\"Patrón: \", patron.pattern)\n",
        "print(\"Mismo resultado que el anterior pero usando el patrón de 'o', 'l' más el grupo de 'a/o' y la 's' puede o no estar\")\n",
        "print(\"Encuentra todas las ocurrencias del patrón:\",\n",
        "      re.split(patron, cadena),\n",
        "      sep=\"\\n\")\n",
        "\n",
        "print()\n",
        "patron = re.compile(r\"(?i)(el|l[ao]s?)\\s\")\n",
        "print(\"Sentencia: re.split(patron, cadena)\")\n",
        "print(\"Patrón: \", patron.pattern)\n",
        "print(\"En este caso con (?i) le estamos diciendo que lo que sigue es key-insensitive.\")\n",
        "print(\"Encuentra todas las ocurrencias del patrón:\",\n",
        "      re.split(patron, cadena.strip()),\n",
        "      sep=\"\\n\")\n",
        "\n",
        "print()\n",
        "patron = re.compile(r\"\\s(el|l[ao]s?)\\s\")\n",
        "print(\"Sentencia: re.finditer(patron, cadena)\")\n",
        "print(\"Patrón: \", patron.pattern)\n",
        "print(\"Mismo resultado que el anterior pero usando el patrón de 'o', 'l' más el grupo de 'a/o' y la 's' puede o no estar\")\n",
        "for span in re.finditer(patron, cadena):\n",
        "  print(span)"
      ],
      "metadata": {
        "colab": {
          "base_uri": "https://localhost:8080/"
        },
        "id": "fietZcDelieM",
        "outputId": "c4b90b11-4769-4ba9-a97e-fc6a17002acc"
      },
      "execution_count": null,
      "outputs": [
        {
          "output_type": "stream",
          "name": "stdout",
          "text": [
            "Cadena:\n",
            " \n",
            "La  inteligencia artificial surge definitivamente a partir de algunos trabajos publicados en la década de 1940 que no tuvieron gran repercusión, pero a partir del influyente trabajo en 1950 de Alan Turing, matemático británico, se abre una nueva disciplina de las ciencias de la información.\n",
            "\n",
            "Si  bien las ideas esenciales se remontan a la lógica y algoritmos de los griegos, y a las matemáticas de los árabes, el concepto de obtener razonamiento artificial aparece en el siglo xiv. A finales del siglo xix se obtienen lógicas formales suficientemente poderosas y, a mediados del siglo xx, se obtienen máquinas capaces de hacer uso de tales lógicas y algoritmos de solución.\n",
            "\n",
            "\n",
            "Sentencia: re.split(patron, cadena)\n",
            "Patrón:  (el|la|lo|las|los)\n",
            "El patrón me divide palabras.\n",
            "Encuentra todas las ocurrencias del patrón:\n",
            "['\\nLa  int', 'el', 'igencia artificial surge definitivamente a partir de algunos trabajos publicados en ', 'la', ' década de 1940 que no tuvieron gran repercusión, pero a partir d', 'el', ' influyente trabajo en 1950 de A', 'la', 'n Turing, matemático británico, se abre una nueva disciplina de ', 'la', 's ciencias de ', 'la', ' información.\\n\\nSi  bien ', 'la', 's ideas esenciales se remontan a ', 'la', ' lógica y algoritmos de ', 'lo', 's griegos, y a ', 'la', 's matemáticas de ', 'lo', 's árabes, ', 'el', ' concepto de obtener razonamiento artificial aparece en ', 'el', ' sig', 'lo', ' xiv. A finales d', 'el', ' sig', 'lo', ' xix se obtienen lógicas formales suficientemente poderosas y, a mediados d', 'el', ' sig', 'lo', ' xx, se obtienen máquinas capaces de hacer uso de tales lógicas y algoritmos de solución.\\n']\n",
            "\n",
            "Sentencia: re.split(patron, cadena)\n",
            "Patrón:  \\s(el|la|lo|las|los)\\s\n",
            "Si agregamos los espacios al inicio y al final cumple con la premisa.\n",
            "Encuentra todas las ocurrencias del patrón:\n",
            "['\\nLa  inteligencia artificial surge definitivamente a partir de algunos trabajos publicados en', 'la', 'década de 1940 que no tuvieron gran repercusión, pero a partir del influyente trabajo en 1950 de Alan Turing, matemático británico, se abre una nueva disciplina de', 'las', 'ciencias de', 'la', 'información.\\n\\nSi  bien', 'las', 'ideas esenciales se remontan a', 'la', 'lógica y algoritmos de', 'los', 'griegos, y a', 'las', 'matemáticas de', 'los', 'árabes,', 'el', 'concepto de obtener razonamiento artificial aparece en', 'el', 'siglo xiv. A finales del siglo xix se obtienen lógicas formales suficientemente poderosas y, a mediados del siglo xx, se obtienen máquinas capaces de hacer uso de tales lógicas y algoritmos de solución.\\n']\n",
            "\n",
            "Sentencia: re.split(patron, cadena)\n",
            "Patrón:  \\s(el|l[ao]s?)\\s\n",
            "Mismo resultado que el anterior pero usando el patrón de 'o', 'l' más el grupo de 'a/o' y la 's' puede o no estar\n",
            "Encuentra todas las ocurrencias del patrón:\n",
            "['\\nLa  inteligencia artificial surge definitivamente a partir de algunos trabajos publicados en', 'la', 'década de 1940 que no tuvieron gran repercusión, pero a partir del influyente trabajo en 1950 de Alan Turing, matemático británico, se abre una nueva disciplina de', 'las', 'ciencias de', 'la', 'información.\\n\\nSi  bien', 'las', 'ideas esenciales se remontan a', 'la', 'lógica y algoritmos de', 'los', 'griegos, y a', 'las', 'matemáticas de', 'los', 'árabes,', 'el', 'concepto de obtener razonamiento artificial aparece en', 'el', 'siglo xiv. A finales del siglo xix se obtienen lógicas formales suficientemente poderosas y, a mediados del siglo xx, se obtienen máquinas capaces de hacer uso de tales lógicas y algoritmos de solución.\\n']\n",
            "\n",
            "Sentencia: re.split(patron, cadena)\n",
            "Patrón:  (?i)(el|l[ao]s?)\\s\n",
            "En este caso con (?i) le estamos diciendo que lo que sigue es key-insensitive.\n",
            "Encuentra todas las ocurrencias del patrón:\n",
            "['', 'La', ' inteligencia artificial surge definitivamente a partir de algunos trabajos publicados en ', 'la', 'década de 1940 que no tuvieron gran repercusión, pero a partir d', 'el', 'influyente trabajo en 1950 de Alan Turing, matemático británico, se abre una nueva disciplina de ', 'las', 'ciencias de ', 'la', 'información.\\n\\nSi  bien ', 'las', 'ideas esenciales se remontan a ', 'la', 'lógica y algoritmos de ', 'los', 'griegos, y a ', 'las', 'matemáticas de ', 'los', 'árabes, ', 'el', 'concepto de obtener razonamiento artificial aparece en ', 'el', 'sig', 'lo', 'xiv. A finales d', 'el', 'sig', 'lo', 'xix se obtienen lógicas formales suficientemente poderosas y, a mediados d', 'el', 'sig', 'lo', 'xx, se obtienen máquinas capaces de hacer uso de tales lógicas y algoritmos de solución.']\n",
            "\n",
            "Sentencia: re.split(patron, cadena)\n",
            "Patrón:  \\s(el|l[ao]s?)\\s\n",
            "Mismo resultado que el anterior pero usando el patrón de 'o', 'l' más el grupo de 'a/o' y la 's' puede o no estar\n",
            "<re.Match object; span=(93, 97), match=' la '>\n",
            "<re.Match object; span=(260, 265), match=' las '>\n",
            "<re.Match object; span=(276, 280), match=' la '>\n",
            "<re.Match object; span=(302, 307), match=' las '>\n",
            "<re.Match object; span=(337, 341), match=' la '>\n",
            "<re.Match object; span=(363, 368), match=' los '>\n",
            "<re.Match object; span=(380, 385), match=' las '>\n",
            "<re.Match object; span=(399, 404), match=' los '>\n",
            "<re.Match object; span=(411, 415), match=' el '>\n",
            "<re.Match object; span=(469, 473), match=' el '>\n"
          ]
        }
      ]
    },
    {
      "cell_type": "code",
      "source": [
        "# vamos a verificar si el texto termina en ción\n",
        "print(\"Cadena:\\n\", cadena)\n",
        "print()\n",
        "patron = re.compile(r\"ción$\")\n",
        "print(\"Sentencia: re.search(patron, cadena)\")\n",
        "print(\"Patrón: \", patron.pattern)\n",
        "print(\"El patrón no se encuentra porque la cadena termina con un punto y un enter.\")\n",
        "print(\"Encuentra todas las ocurrencias del patrón:\",\n",
        "      re.search(patron, cadena),\n",
        "      sep=\"\\n\")\n",
        "print()\n",
        "patron = re.compile(r\"ción\\.*$\")\n",
        "print(\"Sentencia: re.search(patron, cadena)\")\n",
        "print(\"Patrón: \", patron.pattern)\n",
        "print(\"El patrón se encontro porque puede haber 0 o más caracteres.\")\n",
        "print(\"Encuentra todas las ocurrencias del patrón:\",\n",
        "      re.search(patron, cadena),\n",
        "      sep=\"\\n\")\n",
        "print()\n",
        "patron = re.compile(r\"ción\\.\\s$\")\n",
        "print(\"Sentencia: re.search(patron, cadena)\")\n",
        "print(\"Patrón: \", patron.pattern)\n",
        "print(\"Siendo más específicos buscamos que termine en ción con un punto y una nueva línea.\")\n",
        "print(\"Encuentra todas las ocurrencias del patrón:\",\n",
        "      re.search(patron, cadena),\n",
        "      sep=\"\\n\")"
      ],
      "metadata": {
        "colab": {
          "base_uri": "https://localhost:8080/"
        },
        "id": "aNOri1e8ptn4",
        "outputId": "6c4ab012-681f-4b38-e73a-0ce1882bdff5"
      },
      "execution_count": null,
      "outputs": [
        {
          "output_type": "stream",
          "name": "stdout",
          "text": [
            "Cadena:\n",
            " \n",
            "La  inteligencia artificial surge definitivamente a partir de algunos trabajos publicados en la década de 1940 que no tuvieron gran repercusión, pero a partir del influyente trabajo en 1950 de Alan Turing, matemático británico, se abre una nueva disciplina de las ciencias de la información.\n",
            "\n",
            "Si  bien las ideas esenciales se remontan a la lógica y algoritmos de los griegos, y a las matemáticas de los árabes, el concepto de obtener razonamiento artificial aparece en el siglo xiv. A finales del siglo xix se obtienen lógicas formales suficientemente poderosas y, a mediados del siglo xx, se obtienen máquinas capaces de hacer uso de tales lógicas y algoritmos de solución.\n",
            "\n",
            "\n",
            "Sentencia: re.search(patron, cadena)\n",
            "Patrón:  ción$\n",
            "El patrón no se encuentra porque la cadena termina con un punto y un enter.\n",
            "Encuentra todas las ocurrencias del patrón:\n",
            "None\n",
            "\n",
            "Sentencia: re.search(patron, cadena)\n",
            "Patrón:  ción\\.*$\n",
            "El patrón se encontro porque puede haber 0 o más caracteres.\n",
            "Encuentra todas las ocurrencias del patrón:\n",
            "<re.Match object; span=(670, 675), match='ción.'>\n",
            "\n",
            "Sentencia: re.search(patron, cadena)\n",
            "Patrón:  ción\\.\\s$\n",
            "Siendo más específicos buscamos que termine en ción con un punto y una nueva línea.\n",
            "Encuentra todas las ocurrencias del patrón:\n",
            "<re.Match object; span=(670, 676), match='ción.\\n'>\n"
          ]
        }
      ]
    },
    {
      "cell_type": "code",
      "source": [
        "print(\"Cadena:\\n\", cadena)\n",
        "print()\n",
        "patron = re.compile(r\"(\\.|,|;)\")\n",
        "print('Sentencia: re.sub(patron, \"#\", cadena2)')\n",
        "print(\"Patrón: \", patron.pattern)\n",
        "print(\"Reemplazo el punto, la coma y el punto y coma por el cardinal:\",\n",
        "      re.sub(patron, \"#\", cadena),\n",
        "      sep=\"\\n\")\n",
        "print()\n",
        "patron = re.compile(r\"[ao]s\\b\")\n",
        "print('Sentencia: re.sub(patron, \"#\", cadena2)')\n",
        "print(\"Patrón: \", patron.pattern)\n",
        "print(\"Reemplazo todas las palabras terminadas en 'as' o en 'os' por el cardinal:\",\n",
        "      re.sub(patron, \"#\", cadena),\n",
        "      sep=\"\\n\")"
      ],
      "metadata": {
        "id": "sksk8HKo7LHZ",
        "colab": {
          "base_uri": "https://localhost:8080/"
        },
        "outputId": "d96c363a-fcba-49b5-cbb1-22aa060cdd91"
      },
      "execution_count": null,
      "outputs": [
        {
          "output_type": "stream",
          "name": "stdout",
          "text": [
            "Cadena:\n",
            " \n",
            "La  inteligencia artificial surge definitivamente a partir de algunos trabajos publicados en la década de 1940 que no tuvieron gran repercusión, pero a partir del influyente trabajo en 1950 de Alan Turing, matemático británico, se abre una nueva disciplina de las ciencias de la información.\n",
            "\n",
            "Si  bien las ideas esenciales se remontan a la lógica y algoritmos de los griegos, y a las matemáticas de los árabes, el concepto de obtener razonamiento artificial aparece en el siglo xiv. A finales del siglo xix se obtienen lógicas formales suficientemente poderosas y, a mediados del siglo xx, se obtienen máquinas capaces de hacer uso de tales lógicas y algoritmos de solución.\n",
            "\n",
            "\n",
            "Sentencia: re.sub(patron, \"#\", cadena2)\n",
            "Patrón:  (\\.|,|;)\n",
            "Reemplazo el punto, la coma y el punto y coma por el cardinal:\n",
            "\n",
            "La  inteligencia artificial surge definitivamente a partir de algunos trabajos publicados en la década de 1940 que no tuvieron gran repercusión# pero a partir del influyente trabajo en 1950 de Alan Turing# matemático británico# se abre una nueva disciplina de las ciencias de la información#\n",
            "\n",
            "Si  bien las ideas esenciales se remontan a la lógica y algoritmos de los griegos# y a las matemáticas de los árabes# el concepto de obtener razonamiento artificial aparece en el siglo xiv# A finales del siglo xix se obtienen lógicas formales suficientemente poderosas y# a mediados del siglo xx# se obtienen máquinas capaces de hacer uso de tales lógicas y algoritmos de solución#\n",
            "\n",
            "\n",
            "Sentencia: re.sub(patron, \"#\", cadena2)\n",
            "Patrón:  [ao]s\\b\n",
            "Reemplazo todas las palabras terminadas en 'as' o en 'os' por el cardinal:\n",
            "\n",
            "La  inteligencia artificial surge definitivamente a partir de algun# trabaj# publicad# en la década de 1940 que no tuvieron gran repercusión, pero a partir del influyente trabajo en 1950 de Alan Turing, matemático británico, se abre una nueva disciplina de l# cienci# de la información.\n",
            "\n",
            "Si  bien l# ide# esenciales se remontan a la lógica y algoritm# de l# grieg#, y a l# matemátic# de l# árabes, el concepto de obtener razonamiento artificial aparece en el siglo xiv. A finales del siglo xix se obtienen lógic# formales suficientemente poderos# y, a mediad# del siglo xx, se obtienen máquin# capaces de hacer uso de tales lógic# y algoritm# de solución.\n",
            "\n"
          ]
        }
      ]
    },
    {
      "cell_type": "code",
      "source": [
        "print(\"Cadena:\\n\", cadena)\n",
        "print()\n",
        "patron = re.compile(r\"de\")\n",
        "print('Sentencia: re.sub(patron, \"#\", cadena2)')\n",
        "print(\"Patrón: \", patron.pattern)\n",
        "print(\"Reemplazo el punto, la coma y el punto y coma por el cardinal:\",\n",
        "      re.sub(patron, \"#\", cadena),\n",
        "      sep=\"\\n\")"
      ],
      "metadata": {
        "colab": {
          "base_uri": "https://localhost:8080/"
        },
        "id": "DlvTUWJhu32e",
        "outputId": "74540fc3-9750-4f67-cb39-c7c7ce7c3114"
      },
      "execution_count": null,
      "outputs": [
        {
          "output_type": "stream",
          "name": "stdout",
          "text": [
            "Cadena:\n",
            " \n",
            "La  inteligencia artificial surge definitivamente a partir de algunos trabajos publicados en la década de 1940 que no tuvieron gran repercusión, pero a partir del influyente trabajo en 1950 de Alan Turing, matemático británico, se abre una nueva disciplina de las ciencias de la información.\n",
            "\n",
            "Si  bien las ideas esenciales se remontan a la lógica y algoritmos de los griegos, y a las matemáticas de los árabes, el concepto de obtener razonamiento artificial aparece en el siglo xiv. A finales del siglo xix se obtienen lógicas formales suficientemente poderosas y, a mediados del siglo xx, se obtienen máquinas capaces de hacer uso de tales lógicas y algoritmos de solución.\n",
            "\n",
            "\n",
            "Sentencia: re.sub(patron, \"#\", cadena2)\n",
            "Patrón:  de\n",
            "Reemplazo el punto, la coma y el punto y coma por el cardinal:\n",
            "\n",
            "La  inteligencia artificial surge #finitivamente a partir # algunos trabajos publicados en la década # 1940 que no tuvieron gran repercusión, pero a partir #l influyente trabajo en 1950 # Alan Turing, matemático británico, se abre una nueva disciplina # las ciencias # la información.\n",
            "\n",
            "Si  bien las i#as esenciales se remontan a la lógica y algoritmos # los griegos, y a las matemáticas # los árabes, el concepto # obtener razonamiento artificial aparece en el siglo xiv. A finales #l siglo xix se obtienen lógicas formales suficientemente po#rosas y, a mediados #l siglo xx, se obtienen máquinas capaces # hacer uso # tales lógicas y algoritmos # solución.\n",
            "\n"
          ]
        }
      ]
    },
    {
      "cell_type": "code",
      "source": [
        "patron = re.compile(r\"(?i)(el|l[ao]s?)\\s\")\n",
        "print(\"Sentencia: re.split(patron, cadena)\")\n",
        "print(\"Patrón: \", patron.pattern)\n",
        "print(\"En este caso con (?i) le estamos diciendo que lo que sigue es key-insensitive.\")\n",
        "print(\"Encuentra todas las ocurrencias del patrón:\",\n",
        "      re.split(patron, cadena.strip()),\n",
        "      sep=\"\\n\")"
      ],
      "metadata": {
        "colab": {
          "base_uri": "https://localhost:8080/"
        },
        "id": "3L0iDfKux3dZ",
        "outputId": "0f5d6f96-45d9-4b37-ed61-dbc4da0918fb"
      },
      "execution_count": null,
      "outputs": [
        {
          "output_type": "stream",
          "name": "stdout",
          "text": [
            "Sentencia: re.split(patron, cadena)\n",
            "Patrón:  (?i)(el|l[ao]s?)\\s\n",
            "En este caso con (?i) le estamos diciendo que lo que sigue es key-insensitive.\n",
            "Encuentra todas las ocurrencias del patrón:\n",
            "['', 'La', ' inteligencia artificial surge definitivamente a partir de algunos trabajos publicados en ', 'la', 'década de 1940 que no tuvieron gran repercusión, pero a partir d', 'el', 'influyente trabajo en 1950 de Alan Turing, matemático británico, se abre una nueva disciplina de ', 'las', 'ciencias de ', 'la', 'información.\\n\\nSi  bien ', 'las', 'ideas esenciales se remontan a ', 'la', 'lógica y algoritmos de ', 'los', 'griegos, y a ', 'las', 'matemáticas de ', 'los', 'árabes, ', 'el', 'concepto de obtener razonamiento artificial aparece en ', 'el', 'sig', 'lo', 'xiv. A finales d', 'el', 'sig', 'lo', 'xix se obtienen lógicas formales suficientemente poderosas y, a mediados d', 'el', 'sig', 'lo', 'xx, se obtienen máquinas capaces de hacer uso de tales lógicas y algoritmos de solución.']\n"
          ]
        }
      ]
    },
    {
      "cell_type": "code",
      "source": [
        "# validar un email, pueder haber otras validaciones\n",
        "patron = re.compile(r\"^\\w+((\\.|-|_)?\\w+)*@\\w+((\\.|-)?\\w+)*(\\.\\w{2,4})+$\")\n",
        "# ^\\w+ = debe COMENZAR con una o más letras\n",
        "# ((\\.|-|_)?\\w+)* = puede tener un punto, un guión o un guión bajo y debe tener una o mas letras.\n",
        "#                Todo esto se puede repetir muchas veces o no estar, es por eso que lleva el asterisco.\n",
        "# @ = debe poseer el @\n",
        "# \\w+ = deben seguir una o más letras\n",
        "# ((\\.|-)?\\w+)* = puede tener un punto o un guión y debe tener una o mas letras.\n",
        "#                Todo esto se puede repetir muchas veces o no estar, es por eso que lleva el asterisco.\n",
        "# (\\.\\w{2,4})+$ = debe TERMINAR con un punto y debe tener 2,3 o 4 letras\n",
        "\n",
        "print(\"Sentencia: re.match(patron, cadena)\")\n",
        "print(\"Patrón: \", patron.pattern)\n",
        "print()\n",
        "email = \"lcd-had141@ugr.edu.ar\"\n",
        "print(f\"Validando el correo '{email}': \", \"OK!\" if re.match(patron, email) else \"ERROR :)\")\n",
        "email = \"lcd-@ugr.edu.ar\"\n",
        "print(f\"Validando el correo '{email}': \", \"OK!\" if re.match(patron, email) else \"ERROR :)\")\n",
        "email = \"lcd-had141@ugr.edu.\"\n",
        "print(f\"Validando el correo '{email}': \", \"OK!\" if re.match(patron, email) else \"ERROR :)\")\n",
        "email = \"lcd-had141@ugr\"\n",
        "print(f\"Validando el correo '{email}': \", \"OK!\" if re.match(patron, email) else \"ERROR :)\")\n",
        "email = \"lcd-had141@\"\n",
        "print(f\"Validando el correo '{email}': \", \"OK!\" if re.match(patron, email) else \"ERROR :)\")\n",
        "email = \"lcd-had141\"\n",
        "print(f\"Validando el correo '{email}': \", \"OK!\" if re.match(patron, email) else \"ERROR :)\")\n"
      ],
      "metadata": {
        "id": "65vE45Fc6ZUo",
        "colab": {
          "base_uri": "https://localhost:8080/"
        },
        "outputId": "22100e2f-bf41-43b4-f564-5d78bdf2a4b8"
      },
      "execution_count": null,
      "outputs": [
        {
          "output_type": "stream",
          "name": "stdout",
          "text": [
            "Sentencia: re.match(patron, cadena)\n",
            "Patrón:  ^\\w+((\\.|-|_)?\\w+)*@\\w+((\\.|-)?\\w+)*(\\.\\w{2,4})+$\n",
            "\n",
            "Validando el correo 'lcd-had141@ugr.edu.ar':  OK!\n",
            "Validando el correo 'lcd-@ugr.edu.ar':  ERROR :)\n",
            "Validando el correo 'lcd-had141@ugr.edu.':  ERROR :)\n",
            "Validando el correo 'lcd-had141@ugr':  ERROR :)\n",
            "Validando el correo 'lcd-had141@':  ERROR :)\n",
            "Validando el correo 'lcd-had141':  ERROR :)\n"
          ]
        }
      ]
    },
    {
      "cell_type": "code",
      "source": [
        "# validar una fecha con el formato yyyy-mm-dd\n",
        "patron = re.compile(r\"(\\d{4}|\\d{2})-(0[1-9]|1[0-2]|[1-9])-([1-9]|0[1-9]|[12]\\d|3[01])$\")\n",
        "# (\\d{2}|\\d{4}) = puedo ingresar el año con 2 dígitos o con 4 dígitos\n",
        "# - = va un guión\n",
        "# (\\d|0[1-9]|1[0-2]) = puedo tener un dígito o un 0 más un dígito o 1 más los dígitos 0,1,2\n",
        "# - = va un guión\n",
        "# (\\d|0[1-9]|[12]\\d|3[01])$ = debe TERMINAR con un dígito o un 0 más un dígito o 1/2 más un dígito o un 3 con los dígitos 0,1\n",
        "\n",
        "print(\"Sentencia: re.match(patron, cadena)\")\n",
        "print(\"Patrón: \", patron.pattern)\n",
        "print()\n",
        "fecha = \"1993-12-31\"\n",
        "print(f\"Validando la fecha '{fecha}': \", \"OK!\" if re.match(patron, fecha) else \"ERROR :)\")\n",
        "fecha = \"1993-12-32\"\n",
        "print(f\"Validando la fecha '{fecha}': \", \"OK!\" if re.match(patron, fecha) else \"ERROR :)\")\n",
        "fecha = \"1993-12-40\"\n",
        "print(f\"Validando la fecha '{fecha}': \", \"OK!\" if re.match(patron, fecha) else \"ERROR :)\")\n",
        "fecha = \"1993-12-1\"\n",
        "print(f\"Validando la fecha '{fecha}': \", \"OK!\" if re.match(patron, fecha) else \"ERROR :)\")\n",
        "fecha = \"1993-2-01\"\n",
        "print(f\"Validando la fecha '{fecha}': \", \"OK!\" if re.match(patron, fecha) else \"ERROR :)\")\n",
        "fecha = \"1993-2-1\"\n",
        "print(f\"Validando la fecha '{fecha}': \", \"OK!\" if re.match(patron, fecha) else \"ERROR :)\")\n",
        "fecha = \"199-12-31\"\n",
        "print(f\"Validando la fecha '{fecha}': \", \"OK!\" if re.match(patron, fecha) else \"ERROR :)\")\n",
        "fecha = \"93-12-31\"\n",
        "print(f\"Validando la fecha '{fecha}': \", \"OK!\" if re.match(patron, fecha) else \"ERROR :)\")"
      ],
      "metadata": {
        "id": "aNGp_eHe6cH_",
        "colab": {
          "base_uri": "https://localhost:8080/"
        },
        "outputId": "cc679d6c-39ba-40f2-8ecb-5e687ce164bb"
      },
      "execution_count": null,
      "outputs": [
        {
          "output_type": "stream",
          "name": "stdout",
          "text": [
            "Sentencia: re.match(patron, cadena)\n",
            "Patrón:  (\\d{4}|\\d{2})-(0[1-9]|1[0-2]|\\d)-(\\d|0[1-9]|[12]\\d|3[01])$\n",
            "\n",
            "Validando la fecha '1993-12-31':  OK!\n",
            "Validando la fecha '1993-12-32':  ERROR :)\n",
            "Validando la fecha '1993-12-40':  ERROR :)\n",
            "Validando la fecha '1993-12-1':  OK!\n",
            "Validando la fecha '1993-2-01':  OK!\n",
            "Validando la fecha '1993-2-1':  OK!\n",
            "Validando la fecha '199-12-31':  ERROR :)\n",
            "Validando la fecha '93-12-31':  OK!\n"
          ]
        }
      ]
    }
  ]
}