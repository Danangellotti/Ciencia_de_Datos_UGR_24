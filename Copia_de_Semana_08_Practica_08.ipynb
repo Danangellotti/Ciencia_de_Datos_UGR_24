{
  "nbformat": 4,
  "nbformat_minor": 0,
  "metadata": {
    "colab": {
      "provenance": [],
      "include_colab_link": true
    },
    "kernelspec": {
      "name": "python3",
      "display_name": "Python 3"
    },
    "language_info": {
      "name": "python"
    }
  },
  "cells": [
    {
      "cell_type": "markdown",
      "metadata": {
        "id": "view-in-github",
        "colab_type": "text"
      },
      "source": [
        "<a href=\"https://colab.research.google.com/github/Danangellotti/Ciencia_de_Datos_UGR_24/blob/main/Copia_de_Semana_08_Practica_08.ipynb\" target=\"_parent\"><img src=\"https://colab.research.google.com/assets/colab-badge.svg\" alt=\"Open In Colab\"/></a>"
      ]
    },
    {
      "cell_type": "markdown",
      "source": [
        "# Práctica 008\n",
        "\n",
        "Git."
      ],
      "metadata": {
        "id": "Tzen0CM6-IeB"
      }
    },
    {
      "cell_type": "markdown",
      "source": [
        "# Ejercicio 01\n",
        "\n",
        "Crear un repositorio en github llamado `practica_08`. Al crear el repositorio crearlo con el archivo `README.md` y el archivo `.gitignore` debe ser para los proyecto `python`.\n",
        "\n",
        "Luego realizar el clone del repositorio.\n",
        "\n",
        "`IMPORTANTE: recuerden crear el token de acceso.`"
      ],
      "metadata": {
        "id": "FYehCoBkFALp"
      }
    },
    {
      "cell_type": "code",
      "source": [],
      "metadata": {
        "id": "k-61cnLyKau0"
      },
      "execution_count": null,
      "outputs": []
    },
    {
      "cell_type": "markdown",
      "source": [
        "# Ejercicio 02\n",
        "\n",
        "Dentro del repositorio descargar el dataset de la práctica 5\n",
        "https://projects.fivethirtyeight.com/soccer-api/international/2022/wc_matches.csv.\n",
        "\n",
        "Agregarlo al repositorio, realizar un commit y hacer un push al repositorio."
      ],
      "metadata": {
        "id": "bwyGCzBjzVCf"
      }
    },
    {
      "cell_type": "code",
      "source": [],
      "metadata": {
        "id": "L9jdkcrlKbVH"
      },
      "execution_count": null,
      "outputs": []
    },
    {
      "cell_type": "markdown",
      "source": [
        "# Ejercicio 03\n",
        "\n",
        "Obtener la mayor cantidad de goles en un partido que hizo cada selección. Mostrar El nombre del país de la selección y la cantidad de goles. Guardar la tabla en un archivo con extensión csv. El nombre del nuevo archivo debe ser\n",
        "`goals.csv`.\n",
        "\n",
        "Agregarlo al repositorio, realizar un commit y hacer un push al repositorio."
      ],
      "metadata": {
        "id": "mm9EypMF4WYr"
      }
    },
    {
      "cell_type": "code",
      "source": [],
      "metadata": {
        "id": "oHqKnFr1Kd0L"
      },
      "execution_count": null,
      "outputs": []
    },
    {
      "cell_type": "markdown",
      "source": [
        "# Ejercicio 04\n",
        "\n",
        "Graficar el DataFrame del ejercicio 03 como un gráfico de barras.\n",
        "\n",
        "Agregarlo al repositorio, realizar un commit y hacer un push al repositorio."
      ],
      "metadata": {
        "id": "5zucJFR9ZS5L"
      }
    },
    {
      "cell_type": "code",
      "source": [],
      "metadata": {
        "id": "c5lSlZtPKfj8"
      },
      "execution_count": null,
      "outputs": []
    },
    {
      "cell_type": "markdown",
      "source": [
        "# Ejercicio 05\n",
        "\n",
        "Crear un script llamado `funcion.py` con el siguiente contenido\n",
        "```python\n",
        "def imprimir():\n",
        "  for i in range(10):\n",
        "    print(str(i) + \" = \" + (~i))\n",
        "```\n",
        "\n",
        "Importar el script y ejecutar la función\n",
        "\n",
        "Agregarlo al repositorio, realizar un commit y hacer un push al repositorio."
      ],
      "metadata": {
        "id": "MhJ7o_yKH90g"
      }
    },
    {
      "cell_type": "code",
      "source": [],
      "metadata": {
        "id": "AsiUj1w7Kim8"
      },
      "execution_count": null,
      "outputs": []
    }
  ]
}