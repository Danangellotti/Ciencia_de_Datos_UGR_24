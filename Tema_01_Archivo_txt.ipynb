{
  "nbformat": 4,
  "nbformat_minor": 0,
  "metadata": {
    "colab": {
      "provenance": [],
      "include_colab_link": true
    },
    "kernelspec": {
      "name": "python3",
      "display_name": "Python 3"
    },
    "language_info": {
      "name": "python"
    }
  },
  "cells": [
    {
      "cell_type": "markdown",
      "metadata": {
        "id": "view-in-github",
        "colab_type": "text"
      },
      "source": [
        "<a href=\"https://colab.research.google.com/github/Danangellotti/Ciencia_de_Datos_UGR_24/blob/main/Tema_01_Archivo_txt.ipynb\" target=\"_parent\"><img src=\"https://colab.research.google.com/assets/colab-badge.svg\" alt=\"Open In Colab\"/></a>"
      ]
    },
    {
      "cell_type": "markdown",
      "source": [
        "# Archivo de texto (txt)\n",
        "\n",
        "Un archivo de texto es un tipo de archivo digital no ejecutable que contiene letras, números, símbolos y/o una combinación. Permite la creación y el almacenamiento de texto sin formato especial. Los archivos de texto también se conocen como archivos planos o archivos ASCII."
      ],
      "metadata": {
        "id": "gvE1m6x1bPI7"
      }
    },
    {
      "cell_type": "markdown",
      "source": [
        "## Estructura esperada\n",
        "\n",
        "Lorem ipsum dolor sit amet, consectetur adipiscing elit. Praesent facilisis felis vitae velit pretium elementum. Morbi et dignissim dui. Nulla porta risus at odio vulputate viverra. Donec hendrerit eget ex sed congue. Aliquam volutpat varius vehicula. Vivamus fringilla interdum nunc, et dignissim massa faucibus id. Vestibulum ante ipsum primis in faucibus orci luctus et ultrices posuere cubilia curae; Etiam dignissim eros tempor, pretium ligula vitae, lobortis ipsum. Orci varius natoque penatibus et magnis dis parturient montes, nascetur ridiculus mus. Fusce egestas laoreet orci sit amet dapibus. Cras placerat a nunc quis elementum. Quisque porttitor nulla vel diam suscipit, a egestas velit gravida. Donec nec scelerisque odio, eu sollicitudin dolor. Etiam varius quam ut velit aliquet ullamcorper. Donec cursus feugiat convallis."
      ],
      "metadata": {
        "id": "PvGUqckszdsl"
      }
    },
    {
      "cell_type": "code",
      "source": [
        "#@title Definición de variables\n",
        "\n",
        "archivo = \"./26_archivo.txt\" #@param {type:\"string\"}"
      ],
      "metadata": {
        "id": "UkHYBsFvgslI"
      },
      "execution_count": 1,
      "outputs": []
    },
    {
      "cell_type": "markdown",
      "source": [
        "## Dato\n",
        "\n",
        "Vamos a definir una función que me devuelva el contenido que deseamos guardar en el archivo.\n"
      ],
      "metadata": {
        "id": "8cPwMIGxcJM5"
      }
    },
    {
      "cell_type": "code",
      "source": [
        "def obtener_datos() -> str:\n",
        "  \"\"\" Función que retorna el contenido que será guardado en un archivo.\n",
        "\n",
        "  Returns:\n",
        "    str: Retorna un string.\n",
        "  \"\"\"\n",
        "  dato = f\"Lorem ipsum dolor sit amet, consectetur adipiscing elit. \" \\\n",
        "            \"Praesent facilisis felis vitae velit pretium elementum. \" \\\n",
        "            \"Morbi et dignissim dui. Nulla porta risus at odio vulputate \" \\\n",
        "            \"viverra. Donec hendrerit eget ex sed congue. Aliquam volutpat \" \\\n",
        "            \"varius vehicula. Vivamus fringilla interdum nunc, et dignissim \" \\\n",
        "            \"massa faucibus id. Vestibulum ante ipsum primis in faucibus \" \\\n",
        "            \"orci luctus et ultrices posuere cubilia curae; Etiam dignissim \" \\\n",
        "            \"eros tempor, pretium ligula vitae, lobortis ipsum. Orci varius \" \\\n",
        "            \"natoque penatibus et magnis dis parturient montes, nascetur \" \\\n",
        "            \"ridiculus mus. Fusce egestas laoreet orci sit amet dapibus. \" \\\n",
        "            \"Cras placerat a nunc quis elementum. Quisque porttitor nulla \" \\\n",
        "            \"vel diam suscipit, a egestas velit gravida. Donec nec \" \\\n",
        "            \"scelerisque odio, eu sollicitudin dolor. Etiam varius quam \" \\\n",
        "            \"ut velit aliquet ullamcorper. Donec cursus feugiat convallis.\"\n",
        "  return dato"
      ],
      "metadata": {
        "id": "VOXa_p4QcW0B"
      },
      "execution_count": 2,
      "outputs": []
    },
    {
      "cell_type": "markdown",
      "source": [
        "## Escritura\n",
        "\n",
        "Vamos a escribir una función para guardar crear el archivo."
      ],
      "metadata": {
        "id": "fCBWdWAhc3co"
      }
    },
    {
      "cell_type": "code",
      "source": [
        "def escribir_archivo(archivo:str):\n",
        "  \"\"\" Función que escribe un archivo.\n",
        "\n",
        "  Args:\n",
        "    archivo (str): Carpeta y nombre del arhivo que deseamos escribir.\n",
        "  \"\"\"\n",
        "  with open(archivo, 'w') as w:\n",
        "    w.write(obtener_datos())\n"
      ],
      "metadata": {
        "id": "Ox_4ck3zdJuJ"
      },
      "execution_count": 3,
      "outputs": []
    },
    {
      "cell_type": "markdown",
      "source": [
        "## Lectura\n",
        "\n",
        "Vamos a crear una función para leer el archivo."
      ],
      "metadata": {
        "id": "yFJR7v_LjLfC"
      }
    },
    {
      "cell_type": "code",
      "source": [
        "def leer_archivo(archivo:str):\n",
        "  \"\"\" Función que lee un archio.\n",
        "\n",
        "  Args:\n",
        "    archivo (str): Carpeta y nombre del arhivo que deseamos escribir.\n",
        "  \"\"\"\n",
        "  with open(archivo) as r:\n",
        "    print(r.read())\n"
      ],
      "metadata": {
        "id": "3d1iSexjjSz5"
      },
      "execution_count": 4,
      "outputs": []
    },
    {
      "cell_type": "markdown",
      "source": [
        "## Ejecución"
      ],
      "metadata": {
        "id": "vmdizVRojkEs"
      }
    },
    {
      "cell_type": "code",
      "source": [
        "# escritura\n",
        "escribir_archivo(archivo=archivo)"
      ],
      "metadata": {
        "id": "BVAO7m_xjnHX"
      },
      "execution_count": 5,
      "outputs": []
    },
    {
      "cell_type": "code",
      "source": [
        "# lectura\n",
        "leer_archivo(archivo=archivo)"
      ],
      "metadata": {
        "id": "CUYRp5ndj8r9",
        "colab": {
          "base_uri": "https://localhost:8080/"
        },
        "outputId": "0fe28ea7-821d-47f9-b71c-766940cf3aad"
      },
      "execution_count": 6,
      "outputs": [
        {
          "output_type": "stream",
          "name": "stdout",
          "text": [
            "Lorem ipsum dolor sit amet, consectetur adipiscing elit. Praesent facilisis felis vitae velit pretium elementum. Morbi et dignissim dui. Nulla porta risus at odio vulputate viverra. Donec hendrerit eget ex sed congue. Aliquam volutpat varius vehicula. Vivamus fringilla interdum nunc, et dignissim massa faucibus id. Vestibulum ante ipsum primis in faucibus orci luctus et ultrices posuere cubilia curae; Etiam dignissim eros tempor, pretium ligula vitae, lobortis ipsum. Orci varius natoque penatibus et magnis dis parturient montes, nascetur ridiculus mus. Fusce egestas laoreet orci sit amet dapibus. Cras placerat a nunc quis elementum. Quisque porttitor nulla vel diam suscipit, a egestas velit gravida. Donec nec scelerisque odio, eu sollicitudin dolor. Etiam varius quam ut velit aliquet ullamcorper. Donec cursus feugiat convallis.\n"
          ]
        }
      ]
    },
    {
      "cell_type": "markdown",
      "source": [
        "# Sentencias"
      ],
      "metadata": {
        "id": "rIau-Wt2kDcE"
      }
    },
    {
      "cell_type": "markdown",
      "source": [
        "## open\n",
        "\n",
        "Se utiliza para trabajar con archivos, la función retorna un descriptor del archivo con el cual puedo leer/modificar o crear un archivo.\n",
        "\n",
        "Uno de los argumentos más importante es `mode` que me indica el modo de como se va a trabajar con dicho archivo.\n",
        "\n",
        "| Caracter | Descripción | Por defecto |\n",
        "| --- | --- | --- |\n",
        "| 'r' | Solo lectura | SI |\n",
        "| 'w' | Para escritura, cada vez que se abre borra o trunca el contenido del archivo | |\n",
        "| 'x' | Para escritura, pero falla si el archivo ya existe | |\n",
        "| 'a' |  Para escritura, agregando líneas al final del archivo | |\n",
        "| 'b' | Modo binario  | |\n",
        "| 't' | Modo texto  | SI |\n",
        "| '+' | Para modificaciones | |"
      ],
      "metadata": {
        "id": "SSWqXo3SlqVh"
      }
    },
    {
      "cell_type": "code",
      "source": [
        "descriptor = open(archivo, mode=\"rt\")\n",
        "try:\n",
        "  print(descriptor.read())\n",
        "finally:\n",
        "  descriptor.close()"
      ],
      "metadata": {
        "colab": {
          "base_uri": "https://localhost:8080/"
        },
        "id": "GI5O0twCkygh",
        "outputId": "51df982b-acde-4055-b284-37fa630b50ba"
      },
      "execution_count": 7,
      "outputs": [
        {
          "output_type": "stream",
          "name": "stdout",
          "text": [
            "Lorem ipsum dolor sit amet, consectetur adipiscing elit. Praesent facilisis felis vitae velit pretium elementum. Morbi et dignissim dui. Nulla porta risus at odio vulputate viverra. Donec hendrerit eget ex sed congue. Aliquam volutpat varius vehicula. Vivamus fringilla interdum nunc, et dignissim massa faucibus id. Vestibulum ante ipsum primis in faucibus orci luctus et ultrices posuere cubilia curae; Etiam dignissim eros tempor, pretium ligula vitae, lobortis ipsum. Orci varius natoque penatibus et magnis dis parturient montes, nascetur ridiculus mus. Fusce egestas laoreet orci sit amet dapibus. Cras placerat a nunc quis elementum. Quisque porttitor nulla vel diam suscipit, a egestas velit gravida. Donec nec scelerisque odio, eu sollicitudin dolor. Etiam varius quam ut velit aliquet ullamcorper. Donec cursus feugiat convallis.\n"
          ]
        }
      ]
    },
    {
      "cell_type": "markdown",
      "source": [
        "## with\n",
        "\n",
        "Se utiliza comunmente con `stream` o archivos y permite una mejor interpretación del código.\n",
        "\n",
        "Python realiza el close de forma implicita cuando utilizamos la sentencia `with` independientemente si se produce un error o no.\n"
      ],
      "metadata": {
        "id": "TGuTwFtHlbBi"
      }
    },
    {
      "cell_type": "code",
      "source": [
        "with open(archivo, mode=\"rt\") as descriptor:\n",
        "  print(descriptor.read())"
      ],
      "metadata": {
        "id": "LzZigsTBl0kN",
        "colab": {
          "base_uri": "https://localhost:8080/"
        },
        "outputId": "b65d856e-59fd-4ab8-acd4-2a24c8a222ef"
      },
      "execution_count": 8,
      "outputs": [
        {
          "output_type": "stream",
          "name": "stdout",
          "text": [
            "Lorem ipsum dolor sit amet, consectetur adipiscing elit. Praesent facilisis felis vitae velit pretium elementum. Morbi et dignissim dui. Nulla porta risus at odio vulputate viverra. Donec hendrerit eget ex sed congue. Aliquam volutpat varius vehicula. Vivamus fringilla interdum nunc, et dignissim massa faucibus id. Vestibulum ante ipsum primis in faucibus orci luctus et ultrices posuere cubilia curae; Etiam dignissim eros tempor, pretium ligula vitae, lobortis ipsum. Orci varius natoque penatibus et magnis dis parturient montes, nascetur ridiculus mus. Fusce egestas laoreet orci sit amet dapibus. Cras placerat a nunc quis elementum. Quisque porttitor nulla vel diam suscipit, a egestas velit gravida. Donec nec scelerisque odio, eu sollicitudin dolor. Etiam varius quam ut velit aliquet ullamcorper. Donec cursus feugiat convallis.\n"
          ]
        }
      ]
    }
  ]
}