{
  "nbformat": 4,
  "nbformat_minor": 0,
  "metadata": {
    "colab": {
      "provenance": [],
      "authorship_tag": "ABX9TyMESGCqOaO7sd5Bu1cYJn9H",
      "include_colab_link": true
    },
    "kernelspec": {
      "name": "python3",
      "display_name": "Python 3"
    },
    "language_info": {
      "name": "python"
    }
  },
  "cells": [
    {
      "cell_type": "markdown",
      "metadata": {
        "id": "view-in-github",
        "colab_type": "text"
      },
      "source": [
        "<a href=\"https://colab.research.google.com/github/Danangellotti/Ciencia_de_Datos_UGR_24/blob/main/Funciones.ipynb\" target=\"_parent\"><img src=\"https://colab.research.google.com/assets/colab-badge.svg\" alt=\"Open In Colab\"/></a>"
      ]
    },
    {
      "cell_type": "markdown",
      "source": [
        "# Funciones y procedimientos\n",
        "\n",
        "---\n",
        "\n",
        "\n",
        "\n",
        "* Los procediminetos NO retornan valores.\n",
        "\n",
        "* Las funciones retornan 1 valor.\n",
        "\n",
        "```\n",
        "def <nombre_de_funcion_o_procedimiento> (<parametro/s>):\n",
        "  # Sentencias python\n",
        "```"
      ],
      "metadata": {
        "id": "2RmipSweLSgX"
      }
    },
    {
      "cell_type": "code",
      "source": [
        "# procedimiento\n",
        "def suma_procedimiento(valor_1:float, valor_2:float):\n",
        "  \"\"\" Procedimiento que muestra la suma de 2 valores.\n",
        "\n",
        "  Args:\n",
        "    valor_1 (float): Sumando 1\n",
        "    valor_2 (float): Sumando 2\n",
        "  \"\"\"\n",
        "  print(f\"resultado de la suma por procedimiento: {valor_1+valor_2}\")"
      ],
      "metadata": {
        "id": "SbySglJMLj4n"
      },
      "execution_count": 1,
      "outputs": []
    },
    {
      "cell_type": "code",
      "source": [
        "# función\n",
        "def suma_funcion(valor_1:float, valor_2:float)->float:\n",
        "  \"\"\" Procedimiento que muestra la suma de 2 valores.\n",
        "\n",
        "  Args:\n",
        "    valor_1 (float): Sumando 1\n",
        "    valor_2 (float): Sumando 2\n",
        "\n",
        "  Return:\n",
        "    float: Retorna la suma de los valores.\n",
        "  \"\"\"\n",
        "  return valor_1 + valor_2"
      ],
      "metadata": {
        "id": "I5yHY3BiLnRF"
      },
      "execution_count": 2,
      "outputs": []
    },
    {
      "cell_type": "code",
      "source": [
        "valor1=10\n",
        "valor2=5"
      ],
      "metadata": {
        "id": "FdFJ2Y4BMZ_N"
      },
      "execution_count": 3,
      "outputs": []
    },
    {
      "cell_type": "code",
      "source": [
        "suma_procedimiento(valor_1=valor1, valor_2=valor2) # esto es muy recomendable de hacer con los parametros"
      ],
      "metadata": {
        "colab": {
          "base_uri": "https://localhost:8080/"
        },
        "id": "YC3v_U2YMnzN",
        "outputId": "78514a75-b75f-49b9-8555-36567d503075"
      },
      "execution_count": 4,
      "outputs": [
        {
          "output_type": "stream",
          "name": "stdout",
          "text": [
            "resultado de la suma por procedimiento: 15\n"
          ]
        }
      ]
    },
    {
      "cell_type": "code",
      "source": [
        "resultado = suma_funcion(valor1, valor2)\n",
        "#resultado = suma_funcion(valor_1=valor1, valor_2=valor2)\n",
        "print(f\"resultado de la suma por función: {resultado}\")"
      ],
      "metadata": {
        "colab": {
          "base_uri": "https://localhost:8080/"
        },
        "id": "2_j_ybJ4Lvlo",
        "outputId": "d2ba4459-4075-4d91-aa2a-dfedc40571c2"
      },
      "execution_count": 5,
      "outputs": [
        {
          "output_type": "stream",
          "name": "stdout",
          "text": [
            "resultado de la suma por función: 15\n"
          ]
        }
      ]
    }
  ]
}