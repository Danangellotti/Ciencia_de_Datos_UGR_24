{
  "nbformat": 4,
  "nbformat_minor": 0,
  "metadata": {
    "colab": {
      "provenance": [],
      "include_colab_link": true
    },
    "kernelspec": {
      "name": "python3",
      "display_name": "Python 3"
    },
    "language_info": {
      "name": "python"
    }
  },
  "cells": [
    {
      "cell_type": "markdown",
      "metadata": {
        "id": "view-in-github",
        "colab_type": "text"
      },
      "source": [
        "<a href=\"https://colab.research.google.com/github/Danangellotti/Ciencia_de_Datos_UGR_24/blob/main/Tema_05_Archivo_csv.ipynb\" target=\"_parent\"><img src=\"https://colab.research.google.com/assets/colab-badge.svg\" alt=\"Open In Colab\"/></a>"
      ]
    },
    {
      "cell_type": "markdown",
      "source": [
        "# Archivo csv\n",
        "\n",
        "Representación de tablas o archivos de tipo excel en texto plano sin formato.\n",
        "\n",
        "Este tipo toma la separación de columnas por el caracter `coma`, es decir, cada coma es una columna y cada fila es un renglón.\n",
        "\n",
        "Existen mucho separados para sustituir a la coma, los más comunes son el `punto y coma`, `tab`, `dos puntos`, etc.\n",
        "\n",
        "No tiene limitaciones en cuanto a la cantidad de filas.\n",
        "\n"
      ],
      "metadata": {
        "id": "gvE1m6x1bPI7"
      }
    },
    {
      "cell_type": "markdown",
      "source": [
        "\n",
        "## Estructura esperada\n",
        "\n",
        "```\n",
        "col_1,col_2,col_3,col_4,col_5,col_6\n",
        "A,B,C,D,E,\"texto,\"\n",
        "F,G,H,I,J,\"texto,\"\n",
        "K,L,M,N,O,\"texto,\"\n",
        "P,Q,R,S,T,\"texto,\"\n",
        "U,V,W,X,Y,\"texto,\"\n",
        "```\n"
      ],
      "metadata": {
        "id": "2IExMzxgzT0M"
      }
    },
    {
      "cell_type": "markdown",
      "source": [
        "# Importaciones"
      ],
      "metadata": {
        "id": "w85-p4xwdeN9"
      }
    },
    {
      "cell_type": "code",
      "source": [
        "from csv import reader, writer\n",
        "import os"
      ],
      "metadata": {
        "id": "d78ElDlYdUKT"
      },
      "execution_count": 1,
      "outputs": []
    },
    {
      "cell_type": "code",
      "source": [
        "#@title Definición de variables\n",
        "\n",
        "archivo = \"./30_archivo.csv\" #@param {type:\"string\"}"
      ],
      "metadata": {
        "cellView": "form",
        "id": "UkHYBsFvgslI"
      },
      "execution_count": 2,
      "outputs": []
    },
    {
      "cell_type": "markdown",
      "source": [
        "## Dato\n",
        "\n",
        "Vamos a definir una función que me devuelva el contenido que deseamos guardar en el archivo.\n"
      ],
      "metadata": {
        "id": "8cPwMIGxcJM5"
      }
    },
    {
      "cell_type": "code",
      "source": [
        "def obtener_datos() -> list:\n",
        "  \"\"\" Función que retorna el contenido que será guardado en un archivo.\n",
        "\n",
        "  Returns:\n",
        "      list: Retorna una matriz con la estructura del csv. En este caso\n",
        "          retorna una matriz con el siguiente contenido\n",
        "          [['col_1', 'col_2', 'col_3', 'col_4', 'col_5', 'col_6'],\n",
        "            ['A',     'B',     'C',     'D',     'E', 'texto,'],\n",
        "            ['F',     'G',     'H',     'I',     'J', 'texto,'],\n",
        "            ['K',     'L',     'M',     'N',     'O', 'texto,'],\n",
        "            ['P',     'Q',     'R',     'S',     'T', 'texto,'],\n",
        "            ['U',     'V',     'W',     'X',     'Y', 'texto,']]\n",
        "  \"\"\"\n",
        "  dato = [\n",
        "      [f\"col_{i}\" for i in range(1, 7)],\n",
        "      [chr(i) for i in range(65, 70)] + [\"texto,\"],\n",
        "      [chr(i) for i in range(70, 75)] + [\"texto,\"],\n",
        "      [chr(i) for i in range(75, 80)] + [\"texto,\"],\n",
        "      [chr(i) for i in range(80, 85)] + [\"texto,\"],\n",
        "      [chr(i) for i in range(85, 90)] + [\"texto,\"],\n",
        "  ]\n",
        "\n",
        "  return dato"
      ],
      "metadata": {
        "id": "VOXa_p4QcW0B"
      },
      "execution_count": 3,
      "outputs": []
    },
    {
      "cell_type": "markdown",
      "source": [
        "## Escritura\n",
        "\n",
        "Vamos a escribir una función para guardar crear el archivo."
      ],
      "metadata": {
        "id": "fCBWdWAhc3co"
      }
    },
    {
      "cell_type": "code",
      "source": [
        "def escribir_archivo(archivo:str):\n",
        "  \"\"\" Función que escribe un archivo.\n",
        "\n",
        "  Args:\n",
        "    archivo (str): Carpeta y nombre del arhivo que deseamos escribir.\n",
        "  \"\"\"\n",
        "  with open(archivo, \"wt\") as w:\n",
        "      write_csv = writer(w)\n",
        "      write_csv.writerows(obtener_datos())\n",
        "\n",
        "  # esta segundq opción es como se escribiría la matriz en\n",
        "  # forma manual\n",
        "  with open(archivo.replace(\".csv\", \".manual.csv\"), \"wt\") as w:\n",
        "      data = obtener_datos()\n",
        "      for row in data:\n",
        "          line = \"\"\n",
        "          for cell in row:\n",
        "              if ',' in cell:\n",
        "                  line += f'\"{cell}\",'\n",
        "              else:\n",
        "                  line += f'{cell},'\n",
        "          w.write(line[:-1] + os.linesep)\n"
      ],
      "metadata": {
        "id": "Ox_4ck3zdJuJ"
      },
      "execution_count": 4,
      "outputs": []
    },
    {
      "cell_type": "markdown",
      "source": [
        "## Lectura\n",
        "\n",
        "Vamos a crear una función para leer el archivo."
      ],
      "metadata": {
        "id": "yFJR7v_LjLfC"
      }
    },
    {
      "cell_type": "code",
      "source": [
        "def leer_archivo(archivo:str):\n",
        "  \"\"\" Función que lee un archio.\n",
        "\n",
        "  Args:\n",
        "    archivo (str): Carpeta y nombre del arhivo que deseamos escribir.\n",
        "  \"\"\"\n",
        "  with open(archivo) as r:\n",
        "      read_csv = reader(r)\n",
        "      # se obtiene una matriz de listas con los datos\n",
        "      for line in read_csv:\n",
        "          print(line)\n",
        "\n",
        "  print(f\"{os.linesep}Contenido del archivo\")\n",
        "  with open(archivo) as r:\n",
        "      print(r.read())\n",
        "\n",
        "  print(f\"{os.linesep}Contenido del archivo manual\")\n",
        "  with open(archivo.replace(\".csv\", \".manual.csv\")) as r:\n",
        "      print(r.read())"
      ],
      "metadata": {
        "id": "3d1iSexjjSz5"
      },
      "execution_count": 5,
      "outputs": []
    },
    {
      "cell_type": "markdown",
      "source": [
        "## Ejecución"
      ],
      "metadata": {
        "id": "vmdizVRojkEs"
      }
    },
    {
      "cell_type": "code",
      "source": [
        "# escritura\n",
        "escribir_archivo(archivo=archivo)"
      ],
      "metadata": {
        "id": "BVAO7m_xjnHX"
      },
      "execution_count": 6,
      "outputs": []
    },
    {
      "cell_type": "code",
      "source": [
        "# lectura\n",
        "leer_archivo(archivo=archivo)"
      ],
      "metadata": {
        "id": "CUYRp5ndj8r9",
        "colab": {
          "base_uri": "https://localhost:8080/"
        },
        "outputId": "04c5f29c-a1e3-4746-a9c3-6a2341c2ba8b"
      },
      "execution_count": 7,
      "outputs": [
        {
          "output_type": "stream",
          "name": "stdout",
          "text": [
            "['col_1', 'col_2', 'col_3', 'col_4', 'col_5', 'col_6']\n",
            "['A', 'B', 'C', 'D', 'E', 'texto,']\n",
            "['F', 'G', 'H', 'I', 'J', 'texto,']\n",
            "['K', 'L', 'M', 'N', 'O', 'texto,']\n",
            "['P', 'Q', 'R', 'S', 'T', 'texto,']\n",
            "['U', 'V', 'W', 'X', 'Y', 'texto,']\n",
            "\n",
            "Contenido del archivo\n",
            "col_1,col_2,col_3,col_4,col_5,col_6\n",
            "A,B,C,D,E,\"texto,\"\n",
            "F,G,H,I,J,\"texto,\"\n",
            "K,L,M,N,O,\"texto,\"\n",
            "P,Q,R,S,T,\"texto,\"\n",
            "U,V,W,X,Y,\"texto,\"\n",
            "\n",
            "\n",
            "Contenido del archivo manual\n",
            "col_1,col_2,col_3,col_4,col_5,col_6\n",
            "A,B,C,D,E,\"texto,\"\n",
            "F,G,H,I,J,\"texto,\"\n",
            "K,L,M,N,O,\"texto,\"\n",
            "P,Q,R,S,T,\"texto,\"\n",
            "U,V,W,X,Y,\"texto,\"\n",
            "\n"
          ]
        }
      ]
    }
  ]
}