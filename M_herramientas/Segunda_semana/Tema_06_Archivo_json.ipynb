{
  "nbformat": 4,
  "nbformat_minor": 0,
  "metadata": {
    "colab": {
      "provenance": [],
      "include_colab_link": true
    },
    "kernelspec": {
      "name": "python3",
      "display_name": "Python 3"
    },
    "language_info": {
      "name": "python"
    }
  },
  "cells": [
    {
      "cell_type": "markdown",
      "metadata": {
        "id": "view-in-github",
        "colab_type": "text"
      },
      "source": [
        "<a href=\"https://colab.research.google.com/github/Danangellotti/Ciencia_de_Datos_UGR_24/blob/main/Tema_06_Archivo_json.ipynb\" target=\"_parent\"><img src=\"https://colab.research.google.com/assets/colab-badge.svg\" alt=\"Open In Colab\"/></a>"
      ]
    },
    {
      "cell_type": "markdown",
      "source": [
        "# Archivo json\n",
        "\n",
        "Sigue la notación javascript para objetos, se utiliza para el intercambio de información. Se sencillo de leer y comprender. Es una alternativa a los archivos xml.\n",
        "\n",
        "Donde más se ve su utilización es en la comucicación con las API's desde los frontends."
      ],
      "metadata": {
        "id": "gvE1m6x1bPI7"
      }
    },
    {
      "cell_type": "markdown",
      "source": [
        "## Estructura esperada\n",
        "\n",
        "```javascript\n",
        "{\n",
        "    \"datos\": [\n",
        "        {\n",
        "            \"pais\": {\n",
        "                \"nombre\": \"Uruguay\",\n",
        "                \"anio\": 2008,\n",
        "                \"vecinos\": [\n",
        "                    {\n",
        "                        \"nombre\": \"Argentina\",\n",
        "                        \"direccion\": \"Oeste\"\n",
        "                    },\n",
        "                    {\n",
        "                        \"nombre\": \"Brazil\",\n",
        "                        \"direccion\": \"Norte\"\n",
        "                    }\n",
        "                ]\n",
        "            }\n",
        "        },\n",
        "        {\n",
        "            \"pais\": {\n",
        "                \"nombre\": \"Honduras\",\n",
        "                \"anio\": 2011,\n",
        "                \"vecinos\": [\n",
        "                    {\n",
        "                        \"nombre\": \"Guatemala\",\n",
        "                        \"direccion\": \"Norte\"\n",
        "                    },\n",
        "                    {\n",
        "                        \"nombre\": \"Nicaragua\",\n",
        "                        \"direccion\": \"Sur\"\n",
        "                    }\n",
        "                ]\n",
        "            }\n",
        "        }\n",
        "    ]\n",
        "}\n",
        "```\n"
      ],
      "metadata": {
        "id": "--AUfU_k0aiy"
      }
    },
    {
      "cell_type": "markdown",
      "source": [
        "# Importaciones"
      ],
      "metadata": {
        "id": "w85-p4xwdeN9"
      }
    },
    {
      "cell_type": "code",
      "source": [
        "from json import dump, dumps, load\n",
        "from typing import Dict"
      ],
      "metadata": {
        "id": "d78ElDlYdUKT"
      },
      "execution_count": 3,
      "outputs": []
    },
    {
      "cell_type": "code",
      "source": [
        "#@title Definición de variables\n",
        "\n",
        "archivo = \"./31_archivo.json\" #@param {type:\"string\"}"
      ],
      "metadata": {
        "cellView": "form",
        "id": "UkHYBsFvgslI"
      },
      "execution_count": 4,
      "outputs": []
    },
    {
      "cell_type": "markdown",
      "source": [
        "## Dato\n",
        "\n",
        "Vamos a definir una función que me devuelva el contenido que deseamos guardar en el archivo.\n"
      ],
      "metadata": {
        "id": "8cPwMIGxcJM5"
      }
    },
    {
      "cell_type": "code",
      "source": [
        "def obtener_datos() -> Dict:\n",
        "  \"\"\" Función que retorna el contenido que será guardado en un archivo.\n",
        "\n",
        "  Returns:\n",
        "      Dict: Retorna un diccionario o mapa.\n",
        "  \"\"\"\n",
        "  dato = {\n",
        "      \"datos\": [{\n",
        "          \"pais\": {\n",
        "              \"nombre\":\n",
        "              \"Uruguay\",\n",
        "              \"año\":\n",
        "              2008,\n",
        "              \"vecinos\": [{\n",
        "                  \"nombre\": \"Argentina\",\n",
        "                  \"direccion\": \"Oeste\"\n",
        "              }, {\n",
        "                  \"nombre\": \"Brazil\",\n",
        "                  \"direccion\": \"Norte\"\n",
        "              }]\n",
        "          }\n",
        "      }, {\n",
        "          \"pais\": {\n",
        "              \"nombre\":\n",
        "              \"Honduras\",\n",
        "              \"year\":\n",
        "              2011,\n",
        "              \"vecinos\": [{\n",
        "                  \"nombre\": \"Guatemala\",\n",
        "                  \"direccion\": \"Norte\"\n",
        "              }, {\n",
        "                  \"nombre\": \"Nicaragua\",\n",
        "                  \"direccion\": \"Sur\"\n",
        "              }]\n",
        "          }\n",
        "      }]\n",
        "  }\n",
        "  return dato"
      ],
      "metadata": {
        "id": "VOXa_p4QcW0B"
      },
      "execution_count": 5,
      "outputs": []
    },
    {
      "cell_type": "markdown",
      "source": [
        "## Escritura\n",
        "\n",
        "Vamos a escribir una función para guardar crear el archivo."
      ],
      "metadata": {
        "id": "fCBWdWAhc3co"
      }
    },
    {
      "cell_type": "code",
      "source": [
        "def escribir_archivo(archivo:str):\n",
        "  \"\"\" Función que escribe un archivo.\n",
        "\n",
        "  Args:\n",
        "    archivo (str): Carpeta y nombre del arhivo que deseamos escribir.\n",
        "  \"\"\"\n",
        "  with open(archivo, \"wt\") as w:\n",
        "      # escribe el xml en formato de texto\n",
        "      dump(obtener_datos(), w, indent=4)\n"
      ],
      "metadata": {
        "id": "Ox_4ck3zdJuJ"
      },
      "execution_count": 6,
      "outputs": []
    },
    {
      "cell_type": "markdown",
      "source": [
        "## Lectura\n",
        "\n",
        "Vamos a crear una función para leer el archivo."
      ],
      "metadata": {
        "id": "yFJR7v_LjLfC"
      }
    },
    {
      "cell_type": "code",
      "source": [
        "def leer_archivo(archivo:str):\n",
        "  \"\"\" Función que lee un archio.\n",
        "\n",
        "  Args:\n",
        "    archivo (str): Carpeta y nombre del arhivo que deseamos escribir.\n",
        "  \"\"\"\n",
        "  with open(archivo) as r:\n",
        "    dato = load(r)\n",
        "  # a esta altura la variable data es un diccionario, pero para\n",
        "  # mostrarlo de una forma más visual, lo paso nuevamente por\n",
        "  # una transformación de json\n",
        "  print(dumps(dato, indent=4))\n",
        "\n"
      ],
      "metadata": {
        "id": "3d1iSexjjSz5"
      },
      "execution_count": 7,
      "outputs": []
    },
    {
      "cell_type": "markdown",
      "source": [
        "## Ejecución"
      ],
      "metadata": {
        "id": "vmdizVRojkEs"
      }
    },
    {
      "cell_type": "code",
      "source": [
        "# escritura\n",
        "escribir_archivo(archivo=archivo)"
      ],
      "metadata": {
        "id": "BVAO7m_xjnHX"
      },
      "execution_count": 8,
      "outputs": []
    },
    {
      "cell_type": "code",
      "source": [
        "# lectura\n",
        "leer_archivo(archivo=archivo)"
      ],
      "metadata": {
        "id": "CUYRp5ndj8r9",
        "colab": {
          "base_uri": "https://localhost:8080/"
        },
        "outputId": "729892ce-1011-4921-f744-24cd342f9e21"
      },
      "execution_count": 9,
      "outputs": [
        {
          "output_type": "stream",
          "name": "stdout",
          "text": [
            "{\n",
            "    \"datos\": [\n",
            "        {\n",
            "            \"pais\": {\n",
            "                \"nombre\": \"Uruguay\",\n",
            "                \"a\\u00f1o\": 2008,\n",
            "                \"vecinos\": [\n",
            "                    {\n",
            "                        \"nombre\": \"Argentina\",\n",
            "                        \"direccion\": \"Oeste\"\n",
            "                    },\n",
            "                    {\n",
            "                        \"nombre\": \"Brazil\",\n",
            "                        \"direccion\": \"Norte\"\n",
            "                    }\n",
            "                ]\n",
            "            }\n",
            "        },\n",
            "        {\n",
            "            \"pais\": {\n",
            "                \"nombre\": \"Honduras\",\n",
            "                \"year\": 2011,\n",
            "                \"vecinos\": [\n",
            "                    {\n",
            "                        \"nombre\": \"Guatemala\",\n",
            "                        \"direccion\": \"Norte\"\n",
            "                    },\n",
            "                    {\n",
            "                        \"nombre\": \"Nicaragua\",\n",
            "                        \"direccion\": \"Sur\"\n",
            "                    }\n",
            "                ]\n",
            "            }\n",
            "        }\n",
            "    ]\n",
            "}\n"
          ]
        }
      ]
    }
  ]
}