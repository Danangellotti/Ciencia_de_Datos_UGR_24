{
  "nbformat": 4,
  "nbformat_minor": 0,
  "metadata": {
    "colab": {
      "provenance": [],
      "include_colab_link": true
    },
    "kernelspec": {
      "name": "python3",
      "display_name": "Python 3"
    },
    "language_info": {
      "name": "python"
    }
  },
  "cells": [
    {
      "cell_type": "markdown",
      "metadata": {
        "id": "view-in-github",
        "colab_type": "text"
      },
      "source": [
        "<a href=\"https://colab.research.google.com/github/Danangellotti/Ciencia_de_Datos_UGR_24/blob/main/Tema_03_Archivo_yaml.ipynb\" target=\"_parent\"><img src=\"https://colab.research.google.com/assets/colab-badge.svg\" alt=\"Open In Colab\"/></a>"
      ]
    },
    {
      "cell_type": "markdown",
      "source": [
        "# Archivo yaml\n",
        "\n",
        "Es un lenguaje de serialización de datos y comúnmente se utiliza para configuración de programas o en aplicaciones donde se almacenan y transmiten datos.\n",
        "\n"
      ],
      "metadata": {
        "id": "gvE1m6x1bPI7"
      }
    },
    {
      "cell_type": "markdown",
      "source": [
        "## Estructura esperada\n",
        "\n",
        "```yaml\n",
        "datos:\n",
        "  - pais:\n",
        "      anio: 2008\n",
        "      nombre: Uruguay\n",
        "      vecinos:\n",
        "        - direccion: Oeste\n",
        "          nombre: Argentina\n",
        "        - direccion: Norte\n",
        "          nombre: Brazil\n",
        "  - pais:\n",
        "      anio: 2011\n",
        "      nombre: Honduras\n",
        "      vecinos:\n",
        "        - direccion: Norte\n",
        "          nombre: Guatemala\n",
        "        - direccion: Sur\n",
        "          nombre: Nicaragua\n",
        "\n",
        "```\n"
      ],
      "metadata": {
        "id": "2IExMzxgzT0M"
      }
    },
    {
      "cell_type": "markdown",
      "source": [
        "## Instalación"
      ],
      "metadata": {
        "id": "5OsBvMCqvH6Y"
      }
    },
    {
      "cell_type": "code",
      "source": [
        "!pip install pyyaml"
      ],
      "metadata": {
        "id": "0beqVP7EvKRo",
        "colab": {
          "base_uri": "https://localhost:8080/"
        },
        "outputId": "0931922e-186b-41be-c6be-c22c7f9fd915"
      },
      "execution_count": 1,
      "outputs": [
        {
          "output_type": "stream",
          "name": "stdout",
          "text": [
            "Requirement already satisfied: pyyaml in /usr/local/lib/python3.10/dist-packages (6.0.2)\n"
          ]
        }
      ]
    },
    {
      "cell_type": "markdown",
      "source": [
        "# Importaciones"
      ],
      "metadata": {
        "id": "w85-p4xwdeN9"
      }
    },
    {
      "cell_type": "code",
      "source": [
        "from typing import Dict\n",
        "from yaml import dump, safe_load"
      ],
      "metadata": {
        "id": "d78ElDlYdUKT"
      },
      "execution_count": 2,
      "outputs": []
    },
    {
      "cell_type": "code",
      "source": [
        "#@title Definición de variables\n",
        "\n",
        "archivo = \"./28_archivo.yaml\" #@param {type:\"string\"}"
      ],
      "metadata": {
        "cellView": "form",
        "id": "UkHYBsFvgslI"
      },
      "execution_count": 3,
      "outputs": []
    },
    {
      "cell_type": "markdown",
      "source": [
        "## Dato\n",
        "\n",
        "Vamos a definir una función que me devuelva el contenido que deseamos guardar en el archivo.\n"
      ],
      "metadata": {
        "id": "8cPwMIGxcJM5"
      }
    },
    {
      "cell_type": "code",
      "source": [
        "def obtener_datos() -> Dict:\n",
        "  \"\"\" Función que retorna el contenido que será guardado en un archivo.\n",
        "\n",
        "  Returns:\n",
        "      Dict: Retorna un diccionario con la estructura del yaml.\n",
        "  \"\"\"\n",
        "  dato = {\n",
        "      \"datos\": [{\n",
        "          \"pais\": {\n",
        "              \"nombre\": \"Uruguay\",\n",
        "              \"anio\": 2008,\n",
        "              \"vecinos\": [{\n",
        "                  \"nombre\": \"Argentina\",\n",
        "                  \"direccion\": \"Oeste\"\n",
        "              }, {\n",
        "                  \"nombre\": \"Brazil\",\n",
        "                  \"direccion\": \"Norte\"\n",
        "              }]\n",
        "          }\n",
        "      }, {\n",
        "          \"pais\": {\n",
        "              \"nombre\": \"Honduras\",\n",
        "              \"anio\": 2011,\n",
        "              \"vecinos\": [{\n",
        "                  \"nombre\": \"Guatemala\",\n",
        "                  \"direccion\": \"Norte\"\n",
        "              }, {\n",
        "                  \"nombre\": \"Nicaragua\",\n",
        "                  \"direccion\": \"Sur\"\n",
        "              }]\n",
        "          }\n",
        "      }]\n",
        "  }\n",
        "  return dato"
      ],
      "metadata": {
        "id": "VOXa_p4QcW0B"
      },
      "execution_count": 4,
      "outputs": []
    },
    {
      "cell_type": "markdown",
      "source": [
        "## Escritura\n",
        "\n",
        "Vamos a escribir una función para guardar crear el archivo."
      ],
      "metadata": {
        "id": "fCBWdWAhc3co"
      }
    },
    {
      "cell_type": "code",
      "source": [
        "def escribir_archivo(archivo:str):\n",
        "  \"\"\" Función que escribe un archivo.\n",
        "\n",
        "  Args:\n",
        "    archivo (str): Carpeta y nombre del arhivo que deseamos escribir.\n",
        "  \"\"\"\n",
        "  with open(archivo, \"wt\") as w:\n",
        "      # escribe el yaml en formato de texto\n",
        "      dump(obtener_datos(), w)\n"
      ],
      "metadata": {
        "id": "Ox_4ck3zdJuJ"
      },
      "execution_count": 5,
      "outputs": []
    },
    {
      "cell_type": "markdown",
      "source": [
        "## Lectura\n",
        "\n",
        "Vamos a crear una función para leer el archivo."
      ],
      "metadata": {
        "id": "yFJR7v_LjLfC"
      }
    },
    {
      "cell_type": "code",
      "source": [
        "def leer_archivo(archivo:str):\n",
        "  \"\"\" Función que lee un archio.\n",
        "\n",
        "  Args:\n",
        "    archivo (str): Carpeta y nombre del arhivo que deseamos escribir.\n",
        "  \"\"\"\n",
        "  with open(archivo) as r:\n",
        "      dato = safe_load(r)\n",
        "  print(dump(dato))"
      ],
      "metadata": {
        "id": "3d1iSexjjSz5"
      },
      "execution_count": 6,
      "outputs": []
    },
    {
      "cell_type": "markdown",
      "source": [
        "## Ejecución"
      ],
      "metadata": {
        "id": "vmdizVRojkEs"
      }
    },
    {
      "cell_type": "code",
      "source": [
        "# escritura\n",
        "escribir_archivo(archivo=archivo)"
      ],
      "metadata": {
        "id": "BVAO7m_xjnHX"
      },
      "execution_count": 7,
      "outputs": []
    },
    {
      "cell_type": "code",
      "source": [
        "# lectura\n",
        "leer_archivo(archivo=archivo)"
      ],
      "metadata": {
        "id": "CUYRp5ndj8r9",
        "colab": {
          "base_uri": "https://localhost:8080/"
        },
        "outputId": "e27e284a-bfdc-4355-c6c4-95004dc23dae"
      },
      "execution_count": 8,
      "outputs": [
        {
          "output_type": "stream",
          "name": "stdout",
          "text": [
            "datos:\n",
            "- pais:\n",
            "    anio: 2008\n",
            "    nombre: Uruguay\n",
            "    vecinos:\n",
            "    - direccion: Oeste\n",
            "      nombre: Argentina\n",
            "    - direccion: Norte\n",
            "      nombre: Brazil\n",
            "- pais:\n",
            "    anio: 2011\n",
            "    nombre: Honduras\n",
            "    vecinos:\n",
            "    - direccion: Norte\n",
            "      nombre: Guatemala\n",
            "    - direccion: Sur\n",
            "      nombre: Nicaragua\n",
            "\n"
          ]
        }
      ]
    }
  ]
}