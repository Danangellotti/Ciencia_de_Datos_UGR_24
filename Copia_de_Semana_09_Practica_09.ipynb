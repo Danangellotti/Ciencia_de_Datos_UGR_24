{
  "nbformat": 4,
  "nbformat_minor": 0,
  "metadata": {
    "colab": {
      "provenance": [],
      "include_colab_link": true
    },
    "kernelspec": {
      "name": "python3",
      "display_name": "Python 3"
    },
    "language_info": {
      "name": "python"
    }
  },
  "cells": [
    {
      "cell_type": "markdown",
      "metadata": {
        "id": "view-in-github",
        "colab_type": "text"
      },
      "source": [
        "<a href=\"https://colab.research.google.com/github/Danangellotti/Ciencia_de_Datos_UGR_24/blob/main/Copia_de_Semana_09_Practica_09.ipynb\" target=\"_parent\"><img src=\"https://colab.research.google.com/assets/colab-badge.svg\" alt=\"Open In Colab\"/></a>"
      ]
    },
    {
      "cell_type": "markdown",
      "source": [
        "# Práctica 009\n",
        "\n",
        "DVC."
      ],
      "metadata": {
        "id": "Tzen0CM6-IeB"
      }
    },
    {
      "cell_type": "markdown",
      "source": [
        "# Ejercicio 01\n",
        "\n",
        "Crear un repositorio en github llamado `semana_09_practica`. Al crear el repositorio crearlo con el archivo `README.md` y el archivo `.gitignore` debe ser para los proyecto `python`.\n",
        "\n",
        "Luego realizar el clone del repositorio.\n",
        "`IMPORTANTE: recuerden crear el token de acceso.`"
      ],
      "metadata": {
        "id": "FYehCoBkFALp"
      }
    },
    {
      "cell_type": "code",
      "source": [],
      "metadata": {
        "id": "Ybyh5f1VMFhR"
      },
      "execution_count": null,
      "outputs": []
    },
    {
      "cell_type": "markdown",
      "source": [
        "# Ejercicio 02\n",
        "\n",
        "Para almacenar los archivos de DVC vamos a crear un directorio llamado `/content/dvc_repository`.\n",
        "\n",
        "Inicializar DVC, agregar al remote el directorio que creamos y hacer los pasos necesarios para que quede todo traceado en git y dvc.\n",
        "\n",
        "Realizar el push de dvc y git.\n"
      ],
      "metadata": {
        "id": "S3smhUQ6e9ZH"
      }
    },
    {
      "cell_type": "code",
      "source": [],
      "metadata": {
        "id": "E9KR2yOmMGo9"
      },
      "execution_count": null,
      "outputs": []
    },
    {
      "cell_type": "markdown",
      "source": [
        "# Ejercicio 03\n",
        "\n",
        "Descargar el dataset de la práctica 5\n",
        "https://projects.fivethirtyeight.com/soccer-api/international/2022/wc_matches.csv.\n",
        "\n",
        "Hacer los pasos necesarios para que quede traceado por dvc y git, realizar los pushes necesarios."
      ],
      "metadata": {
        "id": "bwyGCzBjzVCf"
      }
    },
    {
      "cell_type": "code",
      "source": [],
      "metadata": {
        "id": "OHsham20MHgA"
      },
      "execution_count": null,
      "outputs": []
    },
    {
      "cell_type": "markdown",
      "source": [
        "# Ejercicio 04\n",
        "\n",
        "Leer el dataset con padas y a partir de la columna `date` crear 3 nuevas columnas `yea`, `month` y `day` con los valores correspondiente al año, mes y día de la fecha del partido. Sobreescribir el dataset actual.\n",
        "\n",
        "Hacer los pasos necesarios para que quede traceado por dvc y git, realizar los pushes necesarios."
      ],
      "metadata": {
        "id": "mm9EypMF4WYr"
      }
    },
    {
      "cell_type": "code",
      "source": [],
      "metadata": {
        "id": "ebqYPsn9MKDC"
      },
      "execution_count": null,
      "outputs": []
    },
    {
      "cell_type": "markdown",
      "source": [
        "# Ejercicio 05\n",
        "\n",
        "Leer el dataset con padas y crear la columna total_score que sale de sumar las columnas score1, score2. Sobreescribir el dataset actual.\n",
        "\n",
        "Hacer los pasos necesarios para que quede traceado por dvc y git, realizar los pushes necesarios."
      ],
      "metadata": {
        "id": "5zucJFR9ZS5L"
      }
    },
    {
      "cell_type": "code",
      "source": [],
      "metadata": {
        "id": "t9hnl9qWMMiG"
      },
      "execution_count": null,
      "outputs": []
    },
    {
      "cell_type": "markdown",
      "source": [
        "## Ejercicio 06\n",
        "\n",
        "Deshacer el último cambio del ejercicio 05.\n",
        "\n",
        "Hacer los pasos necesarios para que quede traceado por dvc y git, realizar los pushes necesarios."
      ],
      "metadata": {
        "id": "xw3coqD0uiUR"
      }
    },
    {
      "cell_type": "code",
      "source": [],
      "metadata": {
        "id": "GLZEZ-MJL124"
      },
      "execution_count": null,
      "outputs": []
    }
  ]
}