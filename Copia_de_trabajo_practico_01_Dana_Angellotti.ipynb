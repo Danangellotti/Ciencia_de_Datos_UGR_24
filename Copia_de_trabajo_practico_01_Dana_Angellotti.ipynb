{
  "nbformat": 4,
  "nbformat_minor": 0,
  "metadata": {
    "colab": {
      "provenance": [],
      "include_colab_link": true
    },
    "kernelspec": {
      "name": "python3",
      "display_name": "Python 3"
    },
    "language_info": {
      "name": "python"
    }
  },
  "cells": [
    {
      "cell_type": "markdown",
      "metadata": {
        "id": "view-in-github",
        "colab_type": "text"
      },
      "source": [
        "<a href=\"https://colab.research.google.com/github/Danangellotti/Ciencia_de_Datos_UGR_24/blob/main/Copia_de_trabajo_practico_01_Dana_Angellotti.ipynb\" target=\"_parent\"><img src=\"https://colab.research.google.com/assets/colab-badge.svg\" alt=\"Open In Colab\"/></a>"
      ]
    },
    {
      "cell_type": "markdown",
      "source": [
        "# Ejercicio 01\n",
        "\n",
        "Crear un script que muestre por pantalla el siguiente texto con el mismo formato.\n",
        "\n",
        "```txt\n",
        "Bienvenidos a la\n",
        "\tmateria metodología\n",
        "\t\tde la programación\n",
        "\t\t\tpara la carrera\n",
        "\t\t\t  licenciatura en\n",
        "\t\t\t\t  ciencias de datos!\n",
        "```"
      ],
      "metadata": {
        "id": "8DeZ7SXu0vfR"
      }
    },
    {
      "cell_type": "code",
      "source": [
        "def imprimir_mensaje():\n",
        "    mensaje = \"\"\"\n",
        "Bienvenidos a la\n",
        "\n",
        "    materia metodología\n",
        "\n",
        "        de la programación\n",
        "\n",
        "            para la carrera\n",
        "\n",
        "              licenciatura en\n",
        "\n",
        "                  ciencias de datos!\n",
        "    \"\"\"\n",
        "    print(mensaje)\n",
        "\n",
        "imprimir_mensaje()"
      ],
      "metadata": {
        "id": "Gx_cZMosughc",
        "colab": {
          "base_uri": "https://localhost:8080/"
        },
        "outputId": "bd4793f2-1ad1-4633-e5a1-1fb605fc784c"
      },
      "execution_count": null,
      "outputs": [
        {
          "output_type": "stream",
          "name": "stdout",
          "text": [
            "\n",
            "Bienvenidos a la\n",
            "\n",
            "    materia metodología\n",
            "\n",
            "        de la programación\n",
            "\n",
            "            para la carrera\n",
            "\n",
            "              licenciatura en\n",
            "              \n",
            "                  ciencias de datos!\n",
            "    \n"
          ]
        }
      ]
    },
    {
      "cell_type": "markdown",
      "source": [
        "# Ejercicio 02\n",
        "\n",
        "Crear un script para calcular la hipotenusa de un triángulo rectangulo utilizando el teorema de Pitágoras.\n",
        "\n",
        "Se debe utilizar un formulario para ingresar la longitud de los lados a y b.\n",
        "\n",
        "Validas que los lados sean mayores a 0.\n",
        "\n",
        "![image.png](data:image/png;base64,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)\n",
        "\n"
      ],
      "metadata": {
        "id": "pGtbL9dk2JSp"
      }
    },
    {
      "cell_type": "code",
      "source": [
        "import math # Importamos el módulo math para usar la función sqrt (raíz cuadrada)\n",
        "\n",
        "def obtener_lado(prompt):\n",
        "    \"\"\"\n",
        "    Solicita al usuario que ingrese la longitud de un lado del triángulo rectángulo.\n",
        "    Valida que el valor sea un número mayor a cero.\n",
        "\n",
        "    Args:\n",
        "        prompt (str): El mensaje que se muestra al usuario.\n",
        "\n",
        "    Returns:\n",
        "        float: El valor del lado ingresado y validado.\n",
        "    \"\"\"\n",
        "    while True:\n",
        "        try:\n",
        "            lado = float(input(prompt))\n",
        "            if lado <= 0:\n",
        "                print(\"Error: El lado debe ser mayor a 0.\")\n",
        "                continue  # Si el valor no es mayor a 0, se continúa con la siguiente iteración del ciclo.\n",
        "            else:\n",
        "                break  # Si el valor es válido, se rompe el ciclo.\n",
        "        except ValueError: # Captura errores si el usuario ingresa un valor no numérico.\n",
        "            print(\"Error: Por favor, ingrese un valor numérico.\")\n",
        "            continue  # Si hay un error en la conversión, se continúa pidiendo la entrada.\n",
        "\n",
        "    return lado  # Una vez fuera del ciclo, se retorna el valor válido.\n",
        "\n",
        "def calcular_hipotenusa(a, b):\n",
        "    \"\"\"\n",
        "    Calcula la hipotenusa de un triángulo rectángulo utilizando el teorema de Pitágoras.\n",
        "\n",
        "    Args:\n",
        "        a (float): Longitud del lado a.\n",
        "        b (float): Longitud del lado b.\n",
        "\n",
        "    Returns:\n",
        "        float: La longitud de la hipotenusa.\n",
        "    \"\"\"\n",
        "    return math.sqrt(a**2 + b**2)\n",
        "\n",
        "def mostrar_resultado(hipotenusa):\n",
        "    \"\"\"\n",
        "    Muestra el resultado de la hipotenusa con un formato personalizado.\n",
        "\n",
        "    Args:\n",
        "        hipotenusa (float): El valor de la hipotenusa calculada.\n",
        "    \"\"\"\n",
        "    print(f\"\\nLa hipotenusa es: {hipotenusa:.2f}\")\n",
        "\n",
        "def main():\n",
        "    \"\"\"\n",
        "    Función principal que coordina el flujo del programa para calcular la hipotenusa.\n",
        "    \"\"\"\n",
        "    print(\"Calculadora de Hipotenusa\")\n",
        "    print(\"---------------------------\")\n",
        "\n",
        "    lado_a = obtener_lado(\"Ingrese la longitud del lado a: \")\n",
        "    lado_b = obtener_lado(\"Ingrese la longitud del lado b: \")\n",
        "\n",
        "    hipotenusa = calcular_hipotenusa(lado_a, lado_b)\n",
        "\n",
        "    mostrar_resultado(hipotenusa)\n",
        "\n",
        "if __name__ == \"__main__\":\n",
        "    main()"
      ],
      "metadata": {
        "id": "FaW-686rR4_B",
        "colab": {
          "base_uri": "https://localhost:8080/"
        },
        "outputId": "df72772e-abca-492e-c251-93abf65544b9"
      },
      "execution_count": null,
      "outputs": [
        {
          "output_type": "stream",
          "name": "stdout",
          "text": [
            "Calculadora de Hipotenusa\n",
            "---------------------------\n",
            "Ingrese la longitud del lado a: 3\n",
            "Ingrese la longitud del lado b: 4\n",
            "\n",
            "La hipotenusa es: 5.00\n"
          ]
        }
      ]
    },
    {
      "cell_type": "markdown",
      "source": [
        "# Ejercicio 03\n",
        "\n",
        "Dado el siguiente arreglo calcular el promedio de los valores y mostrarlo por pantalla."
      ],
      "metadata": {
        "id": "uYVQb-wjuQe-"
      }
    },
    {
      "cell_type": "code",
      "source": [
        "arreglo = [pow(10,float(f\"{i}.{i}\")) for i in range(0, 10)]"
      ],
      "metadata": {
        "id": "LOV03dr7ujXO"
      },
      "execution_count": null,
      "outputs": []
    },
    {
      "cell_type": "code",
      "source": [
        "# Importamos la biblioteca NumPy\n",
        "import numpy as np\n",
        "\n",
        "arreglo = np.array([pow(10,float(f\"{i}.{i}\")) for i in range(0, 10)])\n",
        "# Calculamos el promedio de los valores en el arreglo usando la función mean() de NumPy\n",
        "promedio = np.mean(arreglo)\n",
        "\n",
        "print(\"El arreglo es:\", arreglo)\n",
        "print(\"El promedio de los valores es:\", promedio)"
      ],
      "metadata": {
        "colab": {
          "base_uri": "https://localhost:8080/"
        },
        "id": "0vFChXsX9gFF",
        "outputId": "b868deaf-8d39-4446-ae0b-98ae2e13f04c"
      },
      "execution_count": null,
      "outputs": [
        {
          "output_type": "stream",
          "name": "stdout",
          "text": [
            "El arreglo es: [1.00000000e+00 1.25892541e+01 1.58489319e+02 1.99526231e+03\n",
            " 2.51188643e+04 3.16227766e+05 3.98107171e+06 5.01187234e+07\n",
            " 6.30957344e+08 7.94328235e+09]\n",
            "El promedio de los valores es: 862868300.0762498\n"
          ]
        }
      ]
    },
    {
      "cell_type": "markdown",
      "source": [
        "## Ejercicio 04\n",
        "\n",
        "Crear un script que solicite los lados de un triángulo y que verfique si las medidas corresponden a los lados de un triángulo.\n",
        "\n",
        "El script se debe mostrar el cartel de si desea continuar verificando triángulos SI o NO, en caso de que se ingrese NO el script debe finalizar.\n",
        "\n",
        "Para verificar si las medidas corresponden a un triángulo de lado_a, lado_b, lado_c debo verificar que la suma de 2 de sus lados no sa mayor al lado restante. Es decir, lado_a+lado_b>lado_c y lado_a+lado_c>lado_b y lado_b+lado_c>lado_a."
      ],
      "metadata": {
        "id": "_fmZcP_2Bcv1"
      }
    },
    {
      "cell_type": "code",
      "source": [
        "# Función para obtener y validar un lado del triángulo\n",
        "def obtener_lado(prompt):\n",
        "    while True:\n",
        "        try:\n",
        "            lado = float(input(prompt))\n",
        "            if lado <= 0:\n",
        "                print(\"Error: Un lado de un triángulo debe ser mayor que 0.\")\n",
        "            else:\n",
        "                return lado\n",
        "        except ValueError:\n",
        "            print(\"Error: Por favor, ingrese un valor numérico.\")\n",
        "\n",
        "# Función para verificar si tres lados forman un triángulo válido\n",
        "def es_triangulo_valido(a, b, c):\n",
        "    # Verifica si la suma de dos lados es mayor que el tercer lado\n",
        "    return (a + b > c) and (a + c > b) and (b + c > a)\n",
        "\n",
        "# Función principal\n",
        "def main():\n",
        "    while True:\n",
        "        # Obtener los lados del triángulo\n",
        "        lado_a = obtener_lado(\"Ingrese la longitud del lado a: \")\n",
        "        lado_b = obtener_lado(\"Ingrese la longitud del lado b: \")\n",
        "        lado_c = obtener_lado(\"Ingrese la longitud del lado c: \")\n",
        "\n",
        "        # Verificar si los lados forman un triángulo válido\n",
        "        if es_triangulo_valido(lado_a, lado_b, lado_c):\n",
        "            print(f\"Los lados {lado_a}, {lado_b} y {lado_c} forman un triángulo válido.\")\n",
        "        else:\n",
        "            print(f\"Los lados {lado_a}, {lado_b} y {lado_c} NO forman un triángulo válido.\")\n",
        "\n",
        "        # Preguntar si desea continuar\n",
        "        respuesta = input(\"¿Desea verificar otro triángulo? (SI/NO): \").upper()\n",
        "\n",
        "        # Salir del programa si la respuesta es NO\n",
        "        if respuesta != \"SI\":\n",
        "            print(\"Gracias por usar el verificador de triángulos.\")\n",
        "            break\n",
        "\n",
        "if __name__ == \"__main__\":\n",
        "    main()\n"
      ],
      "metadata": {
        "id": "cZYk8issCuof",
        "colab": {
          "base_uri": "https://localhost:8080/"
        },
        "outputId": "1f45b30b-5aa3-4a37-8c1d-de65f9839bbf"
      },
      "execution_count": null,
      "outputs": [
        {
          "output_type": "stream",
          "name": "stdout",
          "text": [
            "Ingrese la longitud del lado a: 5\n",
            "Ingrese la longitud del lado b: 6\n",
            "Ingrese la longitud del lado c: 7\n",
            "Los lados 5.0, 6.0 y 7.0 forman un triángulo válido.\n",
            "¿Desea verificar otro triángulo? (SI/NO): no\n",
            "Gracias por usar el verificador de triángulos.\n"
          ]
        }
      ]
    },
    {
      "cell_type": "markdown",
      "source": [
        "# Ejercicio 05\n",
        "\n",
        "Crear un script para contar la cantidad de palabras repetidas hay en el texto. La verificación se debe hacer con un texto key-insensitive osea que no diferencia mayúsculas de minúsculas. Se debe mostrar la **palabra** y la **cantidad de veces que aparece en el texto**.\n",
        "\n",
        "```\n",
        "Lorem ipsum dolor sit amet, consectetur adipiscing elit. Duis porta sem ut ipsum pretium, ac venenatis purus consequat. Etiam orci nisi, scelerisque quis vulputate eu, aliquet eu sapien. Nullam eget neque sed nunc suscipit mattis eu ac turpis. Etiam felis dolor, luctus id eros eu, feugiat tempus est. Aenean quis metus ligula. Suspendisse sit amet laoreet nisi. Morbi molestie dapibus libero eu eleifend. Quisque condimentum maximus sem eu molestie. Fusce fringilla augue nec mauris porttitor, non elementum nisi consectetur.\n",
        "\n",
        "Aliquam a nibh nec libero rutrum consequat. Maecenas facilisis, dui quis tempor viverra, magna urna pharetra dolor, sed venenatis velit tellus et libero. Ut massa ante, laoreet quis ipsum sit amet, tincidunt finibus metus. Vivamus nec lobortis neque, quis tincidunt libero. Sed pretium maximus malesuada. Aliquam erat volutpat. Nulla id risus enim. Fusce et dui at nisl vestibulum bibendum. Vestibulum sed metus fringilla, lobortis augue et, interdum nisi. Aliquam erat volutpat. Quisque diam dolor, gravida a felis ac, feugiat efficitur orci. Curabitur sed nisi odio. Mauris iaculis tortor non justo commodo vulputate. Mauris et viverra eros. Donec tincidunt libero non accumsan dignissim. Mauris in felis vitae ligula dictum consequat sit amet in enim.\n",
        "\n",
        "Quisque ut neque a nisl rhoncus pretium sed at justo. Phasellus dapibus fringilla risus, ut eleifend nisi porttitor eget. Proin id nibh non lorem sollicitudin mattis vel vel risus. Duis quis tincidunt risus, sit amet efficitur tortor. Vestibulum molestie orci ac ligula finibus dapibus. Nullam vehicula convallis vulputate. Phasellus consectetur metus a augue pharetra ornare. Etiam ultricies tellus eu risus commodo efficitur. Mauris ullamcorper metus odio, ac dapibus quam venenatis nec. Etiam vel augue non felis tempor aliquam non nec tortor. Sed mauris elit, lacinia vitae ipsum et, consequat euismod neque. Etiam et nulla a nunc mattis tempus vel nec tellus. Aliquam a ipsum nec erat congue aliquam. Etiam maximus cursus efficitur. Lorem ipsum dolor sit amet, consectetur adipiscing elit. Mauris vestibulum enim sit amet posuere interdum.\n",
        "\n",
        "Nunc placerat, enim nec luctus auctor, diam purus bibendum mi, laoreet sagittis elit tellus in enim. Pellentesque lectus mauris, dictum nec felis id, semper molestie nisi. Sed viverra auctor nisl sed molestie. Pellentesque eu elementum dui. Aenean iaculis, nisi id maximus eleifend, purus justo consectetur orci, ac ornare urna lorem quis arcu. Fusce libero magna, suscipit id euismod vitae, fermentum non elit. Suspendisse maximus, ipsum ac vestibulum efficitur, purus leo elementum ipsum, pulvinar tincidunt tortor dui vel sapien. Ut felis erat, mollis at convallis id, eleifend in turpis. Aliquam erat tortor, placerat non finibus id, blandit facilisis nulla. Nullam diam libero, varius posuere lectus quis, facilisis euismod mi. Suspendisse blandit tempus elit in vulputate. Aliquam non malesuada odio. Vivamus nec magna vel ante maximus bibendum.\n",
        "\n",
        "Quisque urna ex, mollis at aliquet vitae, ultrices sed dui. Nullam id mi vulputate, viverra ante nec, lobortis metus. Aenean suscipit sagittis nibh nec rhoncus. Sed interdum eget odio ut posuere. Ut auctor, quam vel malesuada pulvinar, sem tellus commodo lorem, ac laoreet diam erat at massa. Nulla faucibus dui tortor, in pharetra nunc imperdiet vitae. Cras et pellentesque arcu. In ac hendrerit orci. Class aptent taciti sociosqu ad litora torquent per conubia nostra, per inceptos himenaeos. Vestibulum id dapibus risus. Etiam vitae dui cursus nisi pretium condimentum id vitae sem. Maecenas vel placerat felis. Vivamus lacus velit, venenatis non risus tincidunt, egestas iaculis tellus.\n",
        "```"
      ],
      "metadata": {
        "id": "NctoAFVc391b"
      }
    },
    {
      "cell_type": "code",
      "source": [
        "import re\n",
        "from collections import Counter\n",
        "\n",
        "# Texto proporcionado\n",
        "texto = \"\"\"Lorem ipsum dolor sit amet, consectetur adipiscing elit. Duis porta sem ut ipsum pretium, ac venenatis purus consequat. Etiam orci nisi, scelerisque quis vulputate eu, aliquet eu sapien. Nullam eget neque sed nunc suscipit mattis eu ac turpis. Etiam felis dolor, luctus id eros eu, feugiat tempus est. Aenean quis metus ligula. Suspendisse sit amet laoreet nisi. Morbi molestie dapibus libero eu eleifend. Quisque condimentum maximus sem eu molestie. Fusce fringilla augue nec mauris porttitor, non elementum nisi consectetur.\n",
        "\n",
        "Aliquam a nibh nec libero rutrum consequat. Maecenas facilisis, dui quis tempor viverra, magna urna pharetra dolor, sed venenatis velit tellus et libero. Ut massa ante, laoreet quis ipsum sit amet, tincidunt finibus metus. Vivamus nec lobortis neque, quis tincidunt libero. Sed pretium maximus malesuada. Aliquam erat volutpat. Nulla id risus enim. Fusce et dui at nisl vestibulum bibendum. Vestibulum sed metus fringilla, lobortis augue et, interdum nisi. Aliquam erat volutpat. Quisque diam dolor, gravida a felis ac, feugiat efficitur orci. Curabitur sed nisi odio. Mauris iaculis tortor non justo commodo vulputate. Mauris et viverra eros. Donec tincidunt libero non accumsan dignissim. Mauris in felis vitae ligula dictum consequat sit amet in enim.\n",
        "\n",
        "Quisque ut neque a nisl rhoncus pretium sed at justo. Phasellus dapibus fringilla risus, ut eleifend nisi porttitor eget. Proin id nibh non lorem sollicitudin mattis vel vel risus. Duis quis tincidunt risus, sit amet efficitur tortor. Vestibulum molestie orci ac ligula finibus dapibus. Nullam vehicula convallis vulputate. Phasellus consectetur metus a augue pharetra ornare. Etiam ultricies tellus eu risus commodo efficitur. Mauris ullamcorper metus odio, ac dapibus quam venenatis nec. Etiam vel augue non felis tempor aliquam non nec tortor. Sed mauris elit, lacinia vitae ipsum et, consequat euismod neque. Etiam et nulla a nunc mattis tempus vel nec tellus. Aliquam a ipsum nec erat congue aliquam. Etiam maximus cursus efficitur. Lorem ipsum dolor sit amet, consectetur adipiscing elit. Mauris vestibulum enim sit amet posuere interdum.\n",
        "\n",
        "Nunc placerat, enim nec luctus auctor, diam purus bibendum mi, laoreet sagittis elit tellus in enim. Pellentesque lectus mauris, dictum nec felis id, semper molestie nisi. Sed viverra auctor nisl sed molestie. Pellentesque eu elementum dui. Aenean iaculis, nisi id maximus eleifend, purus justo consectetur orci, ac ornare urna lorem quis arcu. Fusce libero magna, suscipit id euismod vitae, fermentum non elit. Suspendisse maximus, ipsum ac vestibulum efficitur, purus leo elementum ipsum, pulvinar tincidunt tortor dui vel sapien. Ut felis erat, mollis at convallis id, eleifend in turpis. Aliquam erat tortor, placerat non finibus id, blandit facilisis nulla. Nullam diam libero, varius posuere lectus quis, facilisis euismod mi. Suspendisse blandit tempus elit in vulputate. Aliquam non malesuada odio. Vivamus nec magna vel ante maximus bibendum.\n",
        "\n",
        "Quisque urna ex, mollis at aliquet vitae, ultrices sed dui. Nullam id mi vulputate, viverra ante nec, lobortis metus. Aenean suscipit sagittis nibh nec rhoncus. Sed interdum eget odio ut posuere. Ut auctor, quam vel malesuada pulvinar, sem tellus commodo lorem, ac laoreet diam erat at massa. Nulla faucibus dui tortor, in pharetra nunc imperdiet vitae. Cras et pellentesque arcu. In ac hendrerit orci. Class aptent taciti sociosqu ad litora torquent per conubia nostra, per inceptos himenaeos. Vestibulum id dapibus risus. Etiam vitae dui cursus nisi pretium condimentum id vitae sem. Maecenas vel placerat felis. Vivamus lacus velit, venenatis non risus tincidunt, egestas iaculis tellus.\"\"\"\n",
        "\n",
        "# Convertimos el texto a minúsculas y eliminamos puntuación\n",
        "texto_limpiar = re.sub(r'[^\\w\\s]', '', texto.lower())\n",
        "\n",
        "# Dividimos el texto en palabras\n",
        "palabras = texto_limpiar.split()\n",
        "\n",
        "# Contamos la frecuencia de cada palabra\n",
        "frecuencia_palabras = Counter(palabras)\n",
        "\n",
        "# Mostramos las palabras repetidas junto con su frecuencia\n",
        "for palabra, frecuencia in frecuencia_palabras.items():\n",
        "    if frecuencia > 1:\n",
        "        print(f\"{palabra}: aparece {frecuencia} veces\")\n"
      ],
      "metadata": {
        "colab": {
          "base_uri": "https://localhost:8080/",
          "height": 0
        },
        "id": "Ofl2VknD7L9Z",
        "outputId": "3e5ab78c-0df2-4986-d4e9-6f89d0581058"
      },
      "execution_count": 1,
      "outputs": [
        {
          "output_type": "stream",
          "name": "stdout",
          "text": [
            "lorem: aparece 5 veces\n",
            "ipsum: aparece 8 veces\n",
            "dolor: aparece 5 veces\n",
            "sit: aparece 7 veces\n",
            "amet: aparece 7 veces\n",
            "consectetur: aparece 5 veces\n",
            "adipiscing: aparece 2 veces\n",
            "elit: aparece 6 veces\n",
            "duis: aparece 2 veces\n",
            "sem: aparece 4 veces\n",
            "ut: aparece 7 veces\n",
            "pretium: aparece 4 veces\n",
            "ac: aparece 9 veces\n",
            "venenatis: aparece 4 veces\n",
            "purus: aparece 4 veces\n",
            "consequat: aparece 4 veces\n",
            "etiam: aparece 7 veces\n",
            "orci: aparece 5 veces\n",
            "nisi: aparece 9 veces\n",
            "quis: aparece 8 veces\n",
            "vulputate: aparece 5 veces\n",
            "eu: aparece 8 veces\n",
            "aliquet: aparece 2 veces\n",
            "sapien: aparece 2 veces\n",
            "nullam: aparece 4 veces\n",
            "eget: aparece 3 veces\n",
            "neque: aparece 4 veces\n",
            "sed: aparece 11 veces\n",
            "nunc: aparece 4 veces\n",
            "suscipit: aparece 3 veces\n",
            "mattis: aparece 3 veces\n",
            "turpis: aparece 2 veces\n",
            "felis: aparece 7 veces\n",
            "luctus: aparece 2 veces\n",
            "id: aparece 11 veces\n",
            "eros: aparece 2 veces\n",
            "feugiat: aparece 2 veces\n",
            "tempus: aparece 3 veces\n",
            "aenean: aparece 3 veces\n",
            "metus: aparece 6 veces\n",
            "ligula: aparece 3 veces\n",
            "suspendisse: aparece 3 veces\n",
            "laoreet: aparece 4 veces\n",
            "molestie: aparece 5 veces\n",
            "dapibus: aparece 5 veces\n",
            "libero: aparece 7 veces\n",
            "eleifend: aparece 4 veces\n",
            "quisque: aparece 4 veces\n",
            "condimentum: aparece 2 veces\n",
            "maximus: aparece 6 veces\n",
            "fusce: aparece 3 veces\n",
            "fringilla: aparece 3 veces\n",
            "augue: aparece 4 veces\n",
            "nec: aparece 12 veces\n",
            "mauris: aparece 8 veces\n",
            "porttitor: aparece 2 veces\n",
            "non: aparece 10 veces\n",
            "elementum: aparece 3 veces\n",
            "aliquam: aparece 8 veces\n",
            "a: aparece 6 veces\n",
            "nibh: aparece 3 veces\n",
            "maecenas: aparece 2 veces\n",
            "facilisis: aparece 3 veces\n",
            "dui: aparece 7 veces\n",
            "tempor: aparece 2 veces\n",
            "viverra: aparece 4 veces\n",
            "magna: aparece 3 veces\n",
            "urna: aparece 3 veces\n",
            "pharetra: aparece 3 veces\n",
            "velit: aparece 2 veces\n",
            "tellus: aparece 6 veces\n",
            "et: aparece 7 veces\n",
            "massa: aparece 2 veces\n",
            "ante: aparece 3 veces\n",
            "tincidunt: aparece 6 veces\n",
            "finibus: aparece 3 veces\n",
            "vivamus: aparece 3 veces\n",
            "lobortis: aparece 3 veces\n",
            "malesuada: aparece 3 veces\n",
            "erat: aparece 6 veces\n",
            "volutpat: aparece 2 veces\n",
            "nulla: aparece 4 veces\n",
            "risus: aparece 7 veces\n",
            "enim: aparece 5 veces\n",
            "at: aparece 5 veces\n",
            "nisl: aparece 3 veces\n",
            "vestibulum: aparece 6 veces\n",
            "bibendum: aparece 3 veces\n",
            "interdum: aparece 3 veces\n",
            "diam: aparece 4 veces\n",
            "efficitur: aparece 5 veces\n",
            "odio: aparece 4 veces\n",
            "iaculis: aparece 3 veces\n",
            "tortor: aparece 6 veces\n",
            "justo: aparece 3 veces\n",
            "commodo: aparece 3 veces\n",
            "in: aparece 7 veces\n",
            "vitae: aparece 7 veces\n",
            "dictum: aparece 2 veces\n",
            "rhoncus: aparece 2 veces\n",
            "phasellus: aparece 2 veces\n",
            "vel: aparece 8 veces\n",
            "convallis: aparece 2 veces\n",
            "ornare: aparece 2 veces\n",
            "quam: aparece 2 veces\n",
            "euismod: aparece 3 veces\n",
            "cursus: aparece 2 veces\n",
            "posuere: aparece 3 veces\n",
            "placerat: aparece 3 veces\n",
            "auctor: aparece 3 veces\n",
            "mi: aparece 3 veces\n",
            "sagittis: aparece 2 veces\n",
            "pellentesque: aparece 3 veces\n",
            "lectus: aparece 2 veces\n",
            "arcu: aparece 2 veces\n",
            "pulvinar: aparece 2 veces\n",
            "mollis: aparece 2 veces\n",
            "blandit: aparece 2 veces\n",
            "per: aparece 2 veces\n"
          ]
        }
      ]
    },
    {
      "cell_type": "code",
      "source": [
        "texto = \"\"\"\n",
        "Lorem ipsum dolor sit amet, consectetur adipiscing elit. Duis porta sem ut ipsum pretium, ac venenatis purus consequat. Etiam orci nisi, scelerisque quis vulputate eu, aliquet eu sapien. Nullam eget neque sed nunc suscipit mattis eu ac turpis. Etiam felis dolor, luctus id eros eu, feugiat tempus est. Aenean quis metus ligula. Suspendisse sit amet laoreet nisi. Morbi molestie dapibus libero eu eleifend. Quisque condimentum maximus sem eu molestie. Fusce fringilla augue nec mauris porttitor, non elementum nisi consectetur.\n",
        "\n",
        "Aliquam a nibh nec libero rutrum consequat. Maecenas facilisis, dui quis tempor viverra, magna urna pharetra dolor, sed venenatis velit tellus et libero. Ut massa ante, laoreet quis ipsum sit amet, tincidunt finibus metus. Vivamus nec lobortis neque, quis tincidunt libero. Sed pretium maximus malesuada. Aliquam erat volutpat. Nulla id risus enim. Fusce et dui at nisl vestibulum bibendum. Vestibulum sed metus fringilla, lobortis augue et, interdum nisi. Aliquam erat volutpat. Quisque diam dolor, gravida a felis ac, feugiat efficitur orci. Curabitur sed nisi odio. Mauris iaculis tortor non justo commodo vulputate. Mauris et viverra eros. Donec tincidunt libero non accumsan dignissim. Mauris in felis vitae ligula dictum consequat sit amet in enim.\n",
        "\n",
        "Quisque ut neque a nisl rhoncus pretium sed at justo. Phasellus dapibus fringilla risus, ut eleifend nisi porttitor eget. Proin id nibh non lorem sollicitudin mattis vel vel risus. Duis quis tincidunt risus, sit amet efficitur tortor. Vestibulum molestie orci ac ligula finibus dapibus. Nullam vehicula convallis vulputate. Phasellus consectetur metus a augue pharetra ornare. Etiam ultricies tellus eu risus commodo efficitur. Mauris ullamcorper metus odio, ac dapibus quam venenatis nec. Etiam vel augue non felis tempor aliquam non nec tortor. Sed mauris elit, lacinia vitae ipsum et, consequat euismod neque. Etiam et nulla a nunc mattis tempus vel nec tellus. Aliquam a ipsum nec erat congue aliquam. Etiam maximus cursus efficitur. Lorem ipsum dolor sit amet, consectetur adipiscing elit. Mauris vestibulum enim sit amet posuere interdum.\n",
        "\n",
        "Nunc placerat, enim nec luctus auctor, diam purus bibendum mi, laoreet sagittis elit tellus in enim. Pellentesque lectus mauris, dictum nec felis id, semper molestie nisi. Sed viverra auctor nisl sed molestie. Pellentesque eu elementum dui. Aenean iaculis, nisi id maximus eleifend, purus justo consectetur orci, ac ornare urna lorem quis arcu. Fusce libero magna, suscipit id euismod vitae, fermentum non elit. Suspendisse maximus, ipsum ac vestibulum efficitur, purus leo elementum ipsum, pulvinar tincidunt tortor dui vel sapien. Ut felis erat, mollis at convallis id, eleifend in turpis. Aliquam erat tortor, placerat non finibus id, blandit facilisis nulla. Nullam diam libero, varius posuere lectus quis, facilisis euismod mi. Suspendisse blandit tempus elit in vulputate. Aliquam non malesuada odio. Vivamus nec magna vel ante maximus bibendum.\n",
        "\n",
        "Quisque urna ex, mollis at aliquet vitae, ultrices sed dui. Nullam id mi vulputate, viverra ante nec, lobortis metus. Aenean suscipit sagittis nibh nec rhoncus. Sed interdum eget odio ut posuere. Ut auctor, quam vel malesuada pulvinar, sem tellus commodo lorem, ac laoreet diam erat at massa. Nulla faucibus dui tortor, in pharetra nunc imperdiet vitae. Cras et pellentesque arcu. In ac hendrerit orci. Class aptent taciti sociosqu ad litora torquent per conubia nostra, per inceptos himenaeos. Vestibulum id dapibus risus. Etiam vitae dui cursus nisi pretium condimentum id vitae sem. Maecenas vel placerat felis. Vivamus lacus velit, venenatis non risus tincidunt, egestas iaculis tellus.\n",
        "\"\"\"\n",
        "\n"
      ],
      "metadata": {
        "id": "TJnk6mqV0fdw"
      },
      "execution_count": null,
      "outputs": []
    },
    {
      "cell_type": "markdown",
      "source": [
        "# Ejercicio 06\n",
        "\n",
        "Crear un script que tome el texto del `ejercicio 05` y cuente los siguientes caracteres:\n",
        "- comas\n",
        "- puntos\n",
        "- espacios"
      ],
      "metadata": {
        "id": "RqHGu4c87TDZ"
      }
    },
    {
      "cell_type": "code",
      "source": [
        "texto = \"\"\"\n",
        "Lorem ipsum dolor sit amet, consectetur adipiscing elit. Duis porta sem ut ipsum pretium, ac venenatis purus consequat. Etiam orci nisi, scelerisque quis vulputate eu, aliquet eu sapien. Nullam eget neque sed nunc suscipit mattis eu ac turpis. Etiam felis dolor, luctus id eros eu, feugiat tempus est. Aenean quis metus ligula. Suspendisse sit amet laoreet nisi. Morbi molestie dapibus libero eu eleifend. Quisque condimentum maximus sem eu molestie. Fusce fringilla augue nec mauris porttitor, non elementum nisi consectetur.\n",
        "\n",
        "Aliquam a nibh nec libero rutrum consequat. Maecenas facilisis, dui quis tempor viverra, magna urna pharetra dolor, sed venenatis velit tellus et libero. Ut massa ante, laoreet quis ipsum sit amet, tincidunt finibus metus. Vivamus nec lobortis neque, quis tincidunt libero. Sed pretium maximus malesuada. Aliquam erat volutpat. Nulla id risus enim. Fusce et dui at nisl vestibulum bibendum. Vestibulum sed metus fringilla, lobortis augue et, interdum nisi. Aliquam erat volutpat. Quisque diam dolor, gravida a felis ac, feugiat efficitur orci. Curabitur sed nisi odio. Mauris iaculis tortor non justo commodo vulputate. Mauris et viverra eros. Donec tincidunt libero non accumsan dignissim. Mauris in felis vitae ligula dictum consequat sit amet in enim.\n",
        "\n",
        "Quisque ut neque a nisl rhoncus pretium sed at justo. Phasellus dapibus fringilla risus, ut eleifend nisi porttitor eget. Proin id nibh non lorem sollicitudin mattis vel vel risus. Duis quis tincidunt risus, sit amet efficitur tortor. Vestibulum molestie orci ac ligula finibus dapibus. Nullam vehicula convallis vulputate. Phasellus consectetur metus a augue pharetra ornare. Etiam ultricies tellus eu risus commodo efficitur. Mauris ullamcorper metus odio, ac dapibus quam venenatis nec. Etiam vel augue non felis tempor aliquam non nec tortor. Sed mauris elit, lacinia vitae ipsum et, consequat euismod neque. Etiam et nulla a nunc mattis tempus vel nec tellus. Aliquam a ipsum nec erat congue aliquam. Etiam maximus cursus efficitur. Lorem ipsum dolor sit amet, consectetur adipiscing elit. Mauris vestibulum enim sit amet posuere interdum.\n",
        "\n",
        "Nunc placerat, enim nec luctus auctor, diam purus bibendum mi, laoreet sagittis elit tellus in enim. Pellentesque lectus mauris, dictum nec felis id, semper molestie nisi. Sed viverra auctor nisl sed molestie. Pellentesque eu elementum dui. Aenean iaculis, nisi id maximus eleifend, purus justo consectetur orci, ac ornare urna lorem quis arcu. Fusce libero magna, suscipit id euismod vitae, fermentum non elit. Suspendisse maximus, ipsum ac vestibulum efficitur, purus leo elementum ipsum, pulvinar tincidunt tortor dui vel sapien. Ut felis erat, mollis at convallis id, eleifend in turpis. Aliquam erat tortor, placerat non finibus id, blandit facilisis nulla. Nullam diam libero, varius posuere lectus quis, facilisis euismod mi. Suspendisse blandit tempus elit in vulputate. Aliquam non malesuada odio. Vivamus nec magna vel ante maximus bibendum.\n",
        "\n",
        "Quisque urna ex, mollis at aliquet vitae, ultrices sed dui. Nullam id mi vulputate, viverra ante nec, lobortis metus. Aenean suscipit sagittis nibh nec rhoncus. Sed interdum eget odio ut posuere. Ut auctor, quam vel malesuada pulvinar, sem tellus commodo lorem, ac laoreet diam erat at massa. Nulla faucibus dui tortor, in pharetra nunc imperdiet vitae. Cras et pellentesque arcu. In ac hendrerit orci. Class aptent taciti sociosqu ad litora torquent per conubia nostra, per inceptos himenaeos. Vestibulum id dapibus risus. Etiam vitae dui cursus nisi pretium condimentum id vitae sem. Maecenas vel placerat felis. Vivamus lacus velit, venenatis non risus tincidunt, egestas iaculis tellus.\n",
        "\"\"\"\n"
      ],
      "metadata": {
        "id": "5etLuX2J5TSj"
      },
      "execution_count": null,
      "outputs": []
    },
    {
      "cell_type": "code",
      "source": [
        "import re\n",
        "\n",
        "def contar_caracteres(texto):\n",
        "    # Contar comas\n",
        "    comas = len(re.findall(r',', texto))\n",
        "\n",
        "    # Contar puntos\n",
        "    puntos = len(re.findall(r'\\.', texto))\n",
        "\n",
        "    # Contar espacios\n",
        "    espacios = len(re.findall(r'\\s', texto))\n",
        "\n",
        "    return comas, puntos, espacios\n",
        "\n",
        "# Ejemplo de uso\n",
        "texto = \"\"\"\n",
        "Lorem ipsum dolor sit amet, consectetur adipiscing elit. Duis porta sem ut ipsum pretium, ac venenatis purus consequat. Etiam orci nisi, scelerisque quis vulputate eu, aliquet eu sapien. Nullam eget neque sed nunc suscipit mattis eu ac turpis. Etiam felis dolor, luctus id eros eu, feugiat tempus est. Aenean quis metus ligula. Suspendisse sit amet laoreet nisi. Morbi molestie dapibus libero eu eleifend. Quisque condimentum maximus sem eu molestie. Fusce fringilla augue nec mauris porttitor, non elementum nisi consectetur.\n",
        "\n",
        "Aliquam a nibh nec libero rutrum consequat. Maecenas facilisis, dui quis tempor viverra, magna urna pharetra dolor, sed venenatis velit tellus et libero. Ut massa ante, laoreet quis ipsum sit amet, tincidunt finibus metus. Vivamus nec lobortis neque, quis tincidunt libero. Sed pretium maximus malesuada. Aliquam erat volutpat. Nulla id risus enim. Fusce et dui at nisl vestibulum bibendum. Vestibulum sed metus fringilla, lobortis augue et, interdum nisi. Aliquam erat volutpat. Quisque diam dolor, gravida a felis ac, feugiat efficitur orci. Curabitur sed nisi odio. Mauris iaculis tortor non justo commodo vulputate. Mauris et viverra eros. Donec tincidunt libero non accumsan dignissim. Mauris in felis vitae ligula dictum consequat sit amet in enim.\n",
        "\n",
        "Quisque ut neque a nisl rhoncus pretium sed at justo. Phasellus dapibus fringilla risus, ut eleifend nisi porttitor eget. Proin id nibh non lorem sollicitudin mattis vel vel risus. Duis quis tincidunt risus, sit amet efficitur tortor. Vestibulum molestie orci ac ligula finibus dapibus. Nullam vehicula convallis vulputate. Phasellus consectetur metus a augue pharetra ornare. Etiam ultricies tellus eu risus commodo efficitur. Mauris ullamcorper metus odio, ac dapibus quam venenatis nec. Etiam vel augue non felis tempor aliquam non nec tortor. Sed mauris elit, lacinia vitae ipsum et, consequat euismod neque. Etiam et nulla a nunc mattis tempus vel nec tellus. Aliquam a ipsum nec erat congue aliquam. Etiam maximus cursus efficitur. Lorem ipsum dolor sit amet, consectetur adipiscing elit. Mauris vestibulum enim sit amet posuere interdum.\n",
        "\n",
        "Nunc placerat, enim nec luctus auctor, diam purus bibendum mi, laoreet sagittis elit tellus in enim. Pellentesque lectus mauris, dictum nec felis id, semper molestie nisi. Sed viverra auctor nisl sed molestie. Pellentesque eu elementum dui. Aenean iaculis, nisi id maximus eleifend, purus justo consectetur orci, ac ornare urna lorem quis arcu. Fusce libero magna, suscipit id euismod vitae, fermentum non elit. Suspendisse maximus, ipsum ac vestibulum efficitur, purus leo elementum ipsum, pulvinar tincidunt tortor dui vel sapien. Ut felis erat, mollis at convallis id, eleifend in turpis. Aliquam erat tortor, placerat non finibus id, blandit facilisis nulla. Nullam diam libero, varius posuere lectus quis, facilisis euismod mi. Suspendisse blandit tempus elit in vulputate. Aliquam non malesuada odio. Vivamus nec magna vel ante maximus bibendum.\n",
        "\n",
        "Quisque urna ex, mollis at aliquet vitae, ultrices sed dui. Nullam id mi vulputate, viverra ante nec, lobortis metus. Aenean suscipit sagittis nibh nec rhoncus. Sed interdum eget odio ut posuere. Ut auctor, quam vel malesuada pulvinar, sem tellus commodo lorem, ac laoreet diam erat at massa. Nulla faucibus dui tortor, in pharetra nunc imperdiet vitae. Cras et pellentesque arcu. In ac hendrerit orci. Class aptent taciti sociosqu ad litora torquent per conubia nostra, per inceptos himenaeos. Vestibulum id dapibus risus. Etiam vitae dui cursus nisi pretium condimentum id vitae sem. Maecenas vel placerat felis. Vivamus lacus velit, venenatis non risus tincidunt, egestas iaculis tellus.\n",
        "\"\"\"\n",
        "\n",
        "comas, puntos, espacios = contar_caracteres(texto)\n",
        "\n",
        "print(f\"Comas: {comas}\")\n",
        "print(f\"Puntos: {puntos}\")\n",
        "print(f\"Espacios: {espacios}\")"
      ],
      "metadata": {
        "colab": {
          "base_uri": "https://localhost:8080/",
          "height": 0
        },
        "id": "5a33eayW8o19",
        "outputId": "aaeb1565-fffa-4dc9-c271-cdfe244e55ae"
      },
      "execution_count": 2,
      "outputs": [
        {
          "output_type": "stream",
          "name": "stdout",
          "text": [
            "Comas: 53\n",
            "Puntos: 68\n",
            "Espacios: 554\n"
          ]
        }
      ]
    }
  ]
}