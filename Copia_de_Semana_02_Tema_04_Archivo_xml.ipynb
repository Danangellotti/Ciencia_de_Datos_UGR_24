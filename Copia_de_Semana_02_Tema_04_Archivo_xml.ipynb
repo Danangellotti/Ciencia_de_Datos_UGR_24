{
  "nbformat": 4,
  "nbformat_minor": 0,
  "metadata": {
    "colab": {
      "provenance": [],
      "include_colab_link": true
    },
    "kernelspec": {
      "name": "python3",
      "display_name": "Python 3"
    },
    "language_info": {
      "name": "python"
    }
  },
  "cells": [
    {
      "cell_type": "markdown",
      "metadata": {
        "id": "view-in-github",
        "colab_type": "text"
      },
      "source": [
        "<a href=\"https://colab.research.google.com/github/Danangellotti/Ciencia_de_Datos_UGR_24/blob/main/Copia_de_Semana_02_Tema_04_Archivo_xml.ipynb\" target=\"_parent\"><img src=\"https://colab.research.google.com/assets/colab-badge.svg\" alt=\"Open In Colab\"/></a>"
      ]
    },
    {
      "cell_type": "markdown",
      "source": [
        "# Archivo xml\n",
        "\n",
        "Es un lenguaje de marcado extensible y se utiliza para el almacenamiento, transmición y reconstrucción de datos. Es facil de leer y comprender.\n",
        "\n",
        "Donde más se ve su utilización es en la comucicación con las API's."
      ],
      "metadata": {
        "id": "gvE1m6x1bPI7"
      }
    },
    {
      "cell_type": "markdown",
      "source": [
        "## Estructura esperada\n",
        "\n",
        "```xml\n",
        "<?xml version=\"1.0\" ?>\n",
        "<datos>\n",
        "\t<pais nombre=\"Uruguay\">\n",
        "\t\t<anio>2008</anio>\n",
        "\t\t<vecinos>\n",
        "\t\t\t<vecino nombre=\"Argentina\" direccion=\"Oeste\"/>\n",
        "\t\t\t<vecino nombre=\"Brazil\" direccion=\"Norte\"/>\n",
        "\t\t</vecinos>\n",
        "\t</pais>\n",
        "\t<pais nombre=\"Honduras\">\n",
        "\t\t<anio>2011</anio>\n",
        "\t\t<vecinos>\n",
        "\t\t\t<vecino nombre=\"Guatemala\" direccion=\"Norte\"/>\n",
        "\t\t\t<vecino nombre=\"Nicaragua\" direccion=\"Sur\"/>\n",
        "\t\t</vecinos>\n",
        "\t</pais>\n",
        "</datos>\n",
        "```"
      ],
      "metadata": {
        "id": "lBhWcLUrznV0"
      }
    },
    {
      "cell_type": "markdown",
      "source": [
        "# Importaciones"
      ],
      "metadata": {
        "id": "w85-p4xwdeN9"
      }
    },
    {
      "cell_type": "code",
      "source": [
        "from typing import List\n",
        "import xml.etree.ElementTree as ET\n",
        "from xml.dom.minidom import parseString as minidom_parseString, parse as minidom_parse"
      ],
      "metadata": {
        "id": "d78ElDlYdUKT"
      },
      "execution_count": 1,
      "outputs": []
    },
    {
      "cell_type": "code",
      "source": [
        "#@title Definición de variables\n",
        "\n",
        "archivo = \"./29_archivo.xml\" #@param {type:\"string\"}"
      ],
      "metadata": {
        "cellView": "form",
        "id": "UkHYBsFvgslI"
      },
      "execution_count": 2,
      "outputs": []
    },
    {
      "cell_type": "markdown",
      "source": [
        "## Dato\n",
        "\n",
        "Vamos a definir una función que me devuelva el contenido que deseamos guardar en el archivo.\n"
      ],
      "metadata": {
        "id": "8cPwMIGxcJM5"
      }
    },
    {
      "cell_type": "code",
      "source": [
        "def _crear_datos_pais(nombre: str, anio: int, vecinos: List) -> ET.Element:\n",
        "  \"\"\" Función que crea el elemento country\n",
        "\n",
        "  Args:\n",
        "      nombra (str): Nombre.\n",
        "      anio (str): Año.\n",
        "      vecinos (list): Lista de paises vecinos. La primera posición es\n",
        "          el nombre del país y la segunda es la dirección según los\n",
        "          puntos cardinales.\n",
        "\n",
        "  Returns:\n",
        "      ET.Element: Retorna un elemento del tipo Element.\n",
        "  \"\"\"\n",
        "  pais = ET.Element(\"pais\", {\"nombre\": nombre})\n",
        "  anio_ = ET.SubElement(pais, \"anio\")\n",
        "  anio_.text = str(anio)\n",
        "  vecinos_et = ET.SubElement(pais, \"vecinos\")\n",
        "  for vecino in vecinos:\n",
        "      ET.SubElement(vecinos_et, \"vecino\", {\n",
        "          \"nombre\": vecino[0],\n",
        "          \"direccion\": vecino[1]\n",
        "      })\n",
        "\n",
        "  return pais\n",
        "\n",
        "def obtener_datos() -> ET.Element:\n",
        "  \"\"\" Función que retorna el contenido que será guardado en un archivo.\n",
        "\n",
        "  Returns:\n",
        "    ET.Element: Retorna un elemento del tipo Element.\n",
        "  \"\"\"\n",
        "  dato = ET.Element(\"datos\")\n",
        "  dato.append(\n",
        "        _crear_datos_pais(nombre=\"Uruguay\",\n",
        "                            anio=2008,\n",
        "                            vecinos=[[\"Argentina\", \"Oeste\"],\n",
        "                                     [\"Brazil\", \"Norte\"]]))\n",
        "  dato.append(\n",
        "        _crear_datos_pais(nombre=\"Honduras\",\n",
        "                            anio=2011,\n",
        "                            vecinos=[[\"Guatemala\", \"Norte\"],\n",
        "                                     [\"Nicaragua\", \"Sur\"]]))\n",
        "  return dato"
      ],
      "metadata": {
        "id": "VOXa_p4QcW0B"
      },
      "execution_count": 3,
      "outputs": []
    },
    {
      "cell_type": "markdown",
      "source": [
        "## Escritura\n",
        "\n",
        "Vamos a escribir una función para guardar crear el archivo."
      ],
      "metadata": {
        "id": "fCBWdWAhc3co"
      }
    },
    {
      "cell_type": "code",
      "source": [
        "def escribir_archivo(archivo:str):\n",
        "  \"\"\" Función que escribe un archivo.\n",
        "\n",
        "  Args:\n",
        "    archivo (str): Carpeta y nombre del arhivo que deseamos escribir.\n",
        "  \"\"\"\n",
        "  with open(archivo, \"wt\") as w:\n",
        "      # escribe el xml en formato de texto\n",
        "      w.write(\n",
        "          minidom_parseString(ET.tostring(obtener_datos())).toprettyxml())\n"
      ],
      "metadata": {
        "id": "Ox_4ck3zdJuJ"
      },
      "execution_count": 4,
      "outputs": []
    },
    {
      "cell_type": "markdown",
      "source": [
        "## Lectura\n",
        "\n",
        "Vamos a crear una función para leer el archivo."
      ],
      "metadata": {
        "id": "yFJR7v_LjLfC"
      }
    },
    {
      "cell_type": "code",
      "source": [
        "def leer_archivo(archivo:str):\n",
        "  \"\"\" Función que lee un archio.\n",
        "\n",
        "  Args:\n",
        "    archivo (str): Carpeta y nombre del arhivo que deseamos escribir.\n",
        "  \"\"\"\n",
        "  # lee el archivo\n",
        "  dato = minidom_parse(archivo)\n",
        "  if dato:\n",
        "      # en la variable data tengo un string con el contenido xml,\n",
        "      # entonces lo formateo com la función [toprettyxml]. Esta función\n",
        "      # agrega enter's por como esta escrito el archivo, entonces\n",
        "      # lo separo por enter [split('\\n')] y luego verifico si la línea\n",
        "      # está vacia no la agrego al resultado [if line.strip()]. Por\n",
        "      # último uno la lista resultante con un enter ['\\n'.join()]\n",
        "      dato = '\\n'.join(\n",
        "          [line for line in dato.toprettyxml().split('\\n') if line.strip()])\n",
        "  else:\n",
        "      dato = \"Archivo vacio\"\n",
        "  print(dato)\n"
      ],
      "metadata": {
        "id": "3d1iSexjjSz5"
      },
      "execution_count": 5,
      "outputs": []
    },
    {
      "cell_type": "markdown",
      "source": [
        "## Ejecución"
      ],
      "metadata": {
        "id": "vmdizVRojkEs"
      }
    },
    {
      "cell_type": "code",
      "source": [
        "# escritura\n",
        "escribir_archivo(archivo=archivo)"
      ],
      "metadata": {
        "id": "BVAO7m_xjnHX"
      },
      "execution_count": 6,
      "outputs": []
    },
    {
      "cell_type": "code",
      "source": [
        "# lectura\n",
        "leer_archivo(archivo=archivo)"
      ],
      "metadata": {
        "id": "CUYRp5ndj8r9",
        "colab": {
          "base_uri": "https://localhost:8080/"
        },
        "outputId": "043f0d1c-b1a9-4ae5-846f-e87d420aee44"
      },
      "execution_count": 7,
      "outputs": [
        {
          "output_type": "stream",
          "name": "stdout",
          "text": [
            "<?xml version=\"1.0\" ?>\n",
            "<datos>\n",
            "\t<pais nombre=\"Uruguay\">\n",
            "\t\t<anio>2008</anio>\n",
            "\t\t<vecinos>\n",
            "\t\t\t<vecino nombre=\"Argentina\" direccion=\"Oeste\"/>\n",
            "\t\t\t<vecino nombre=\"Brazil\" direccion=\"Norte\"/>\n",
            "\t\t</vecinos>\n",
            "\t</pais>\n",
            "\t<pais nombre=\"Honduras\">\n",
            "\t\t<anio>2011</anio>\n",
            "\t\t<vecinos>\n",
            "\t\t\t<vecino nombre=\"Guatemala\" direccion=\"Norte\"/>\n",
            "\t\t\t<vecino nombre=\"Nicaragua\" direccion=\"Sur\"/>\n",
            "\t\t</vecinos>\n",
            "\t</pais>\n",
            "</datos>\n"
          ]
        }
      ]
    }
  ]
}