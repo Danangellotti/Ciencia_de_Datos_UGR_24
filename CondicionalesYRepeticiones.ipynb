{
  "nbformat": 4,
  "nbformat_minor": 0,
  "metadata": {
    "colab": {
      "provenance": [],
      "authorship_tag": "ABX9TyPKtU2Dgyby9KlIqK8D40jm",
      "include_colab_link": true
    },
    "kernelspec": {
      "name": "python3",
      "display_name": "Python 3"
    },
    "language_info": {
      "name": "python"
    }
  },
  "cells": [
    {
      "cell_type": "markdown",
      "metadata": {
        "id": "view-in-github",
        "colab_type": "text"
      },
      "source": [
        "<a href=\"https://colab.research.google.com/github/Danangellotti/Ciencia_de_Datos_UGR_24/blob/main/CondicionalesYRepeticiones.ipynb\" target=\"_parent\"><img src=\"https://colab.research.google.com/assets/colab-badge.svg\" alt=\"Open In Colab\"/></a>"
      ]
    },
    {
      "cell_type": "markdown",
      "source": [
        "# if\n",
        "\n",
        "## Condición simple\n",
        "\n",
        "```\n",
        "if condición booleana (True o False):\n",
        "  # Ejecución de sentencias por condición verdadera\n",
        "else:\n",
        "  # Ejecución de sentencias por condición false\n",
        "```\n",
        "## Condición múltiple\n",
        "\n",
        "* Opción if anidado\n",
        "\n",
        "```\n",
        "if condición booleana (True o False):\n",
        "  # Ejecución de sentencias por condición verdadera\n",
        "else:\n",
        "    if condición booleana (True o False):\n",
        "      # Ejecución de sentencias por condición verdadera\n",
        "    else:\n",
        "      if condición booleana (True o False):\n",
        "        # Ejecución de sentencias por condición verdadera\n",
        "      else:\n",
        "        # Ejecución de sentencias por condición falsa\n",
        "```\n",
        "* Opción else if\n",
        "\n",
        "```\n",
        "if condición booleana (True o False):\n",
        "  # Ejecución de sentencias por condición verdadera\n",
        "else if condición booleana (True o False):\n",
        "  # Ejecución de sentencias por condición verdadera\n",
        "else if condición booleana (True o False):\n",
        "  # Ejecución de sentencias por condición verdadera\n",
        "else:\n",
        "  # Ejecución de sentencias por condición falsa\n",
        "```\n",
        "\n",
        "* Opción elif\n",
        "\n",
        "```\n",
        "if condición booleana (True o False):\n",
        "  # Ejecución de sentencias por condición verdadera\n",
        "elif condición booleana (True o False):\n",
        "  # Ejecución de sentencias por condición verdadera\n",
        "elif condición booleana (True o False):\n",
        "  # Ejecución de sentencias por condición verdadera\n",
        "else:\n",
        "  # Ejecución de sentencias por condición falsa\n",
        "```\n",
        "\n",
        "## Condición asignación\n",
        "\n",
        " ```\n",
        " <valor_verdadero> if condición booleana (True o False) else <valor_false>\n",
        " ```\n"
      ],
      "metadata": {
        "id": "QVPVO3V11xif"
      }
    },
    {
      "cell_type": "code",
      "execution_count": null,
      "metadata": {
        "id": "YVZtcxKe0oyR"
      },
      "outputs": [],
      "source": []
    }
  ]
}