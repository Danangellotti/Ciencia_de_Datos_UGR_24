{
  "nbformat": 4,
  "nbformat_minor": 0,
  "metadata": {
    "colab": {
      "provenance": [],
      "mount_file_id": "1D8kWRq4cwCF8ImveXLANEibWorg0pKSn",
      "authorship_tag": "ABX9TyMZ6VQti6sIQ82woKiwdkxJ",
      "include_colab_link": true
    },
    "kernelspec": {
      "name": "python3",
      "display_name": "Python 3"
    },
    "language_info": {
      "name": "python"
    }
  },
  "cells": [
    {
      "cell_type": "markdown",
      "metadata": {
        "id": "view-in-github",
        "colab_type": "text"
      },
      "source": [
        "<a href=\"https://colab.research.google.com/github/Danangellotti/Ciencia_de_Datos_UGR_24/blob/main/ejercicio1_dana_angellotti.ipynb\" target=\"_parent\"><img src=\"https://colab.research.google.com/assets/colab-badge.svg\" alt=\"Open In Colab\"/></a>"
      ]
    },
    {
      "cell_type": "code",
      "execution_count": null,
      "metadata": {
        "id": "HSum9dyOZH8u"
      },
      "outputs": [],
      "source": []
    },
    {
      "cell_type": "markdown",
      "source": [
        "# Explicación del Código en Python\n",
        "Este documento explica un código escrito en Python utilizando la biblioteca Pandas para manipular y analizar datos."
      ],
      "metadata": {
        "id": "W63DBFE8c4cQ"
      }
    },
    {
      "cell_type": "markdown",
      "source": [
        "## Código\n"
      ],
      "metadata": {
        "id": "CTP5L3UugTT0"
      }
    },
    {
      "cell_type": "code",
      "source": [
        "# Importar la biblioteca Pandas\n",
        "import pandas as pd\n",
        "# Crear un marco de datos de personas\n",
        "# Aquí se crea un diccionario llamado 'data' con la información de varias personas,\n",
        "# que incluye su 'Nombre', 'Edad', 'Género' y 'Ciudad'. Luego, se convierte este\n",
        "# diccionario en un DataFrame de Pandas, que es una estructura de datos tabular.\n",
        "\n",
        "data = {'Nombre': ['Juan', 'Laura', 'Sara', 'Antonio', 'Luisa'],\n",
        "        'Edad': [25, 36, 40, 41, 29],\n",
        "        'Género': ['M', 'F', 'F', 'M', 'F'],\n",
        "        'Ciudad': ['Rosario', 'Rosario', 'Funes', 'Roldán', 'Rosario']}\n",
        "\n",
        "df = pd.DataFrame(data)\n",
        "\n",
        "# Contar los valores únicos de la columna \"Género\"\n",
        "# Se utiliza la función value_counts() para contar cuántas veces aparece cada valor\n",
        "# único en la columna 'Género'. Esto permite ver cuántos hombres (M) y cuántas mujeres (F)\n",
        "# hay en el conjunto de datos.\n",
        "conteo_genero = df['Género'].value_counts()\n",
        "\n",
        "# Agrupar los datos por la columna \"Ciudad\"\n",
        "# Aquí se agrupan los datos del DataFrame según los valores en la columna 'Ciudad'.\n",
        "# Esto permite realizar operaciones estadísticas sobre grupos específicos, como calcular\n",
        "# la media de la edad para cada ciudad.\n",
        "\n",
        "agrupado_ciudad = df.groupby('Ciudad')\n",
        "\n",
        "# Mostrar los resultados\n",
        "# Finalmente, se imprimen los resultados: el DataFrame original, el conteo de los géneros,\n",
        "# y la media de las edades agrupadas por ciudad.\n",
        "\n",
        "print(\"Datos categóricos:\")\n",
        "print(df)\n",
        "print(\"\\nConteo de género:\")\n",
        "print(conteo_genero)\n",
        "print(\"\\nAgrupado por ciudad:\")\n",
        "print(agrupado_ciudad[\"Edad\"].mean())\n"
      ],
      "metadata": {
        "id": "1gqGSeawdmmz"
      },
      "execution_count": null,
      "outputs": []
    },
    {
      "cell_type": "markdown",
      "source": [
        "## Utilidad del Código\n",
        "\n",
        "Este código es útil para **analizar** y **entender mejor** la distribución de datos categóricos y numéricos en un conjunto de datos. Por ejemplo:\n",
        "\n",
        "- **Conteo de valores en la columna 'Género':** Permite ver la proporción de hombres y mujeres en el conjunto de datos.\n",
        "- **Agrupación por ciudad:** Muestra la edad promedio en cada localidad, lo cual puede ser útil para estudios demográficos o análisis de mercado.\n"
      ],
      "metadata": {
        "id": "hPJfHnRlgksu"
      }
    }
  ]
}