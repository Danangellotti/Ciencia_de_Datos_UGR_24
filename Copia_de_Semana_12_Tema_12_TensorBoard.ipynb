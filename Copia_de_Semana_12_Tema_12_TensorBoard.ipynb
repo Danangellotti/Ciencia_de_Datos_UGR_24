{
  "nbformat": 4,
  "nbformat_minor": 0,
  "metadata": {
    "colab": {
      "provenance": [],
      "gpuType": "T4",
      "include_colab_link": true
    },
    "kernelspec": {
      "name": "python3",
      "display_name": "Python 3"
    },
    "language_info": {
      "name": "python"
    }
  },
  "cells": [
    {
      "cell_type": "markdown",
      "metadata": {
        "id": "view-in-github",
        "colab_type": "text"
      },
      "source": [
        "<a href=\"https://colab.research.google.com/github/Danangellotti/Ciencia_de_Datos_UGR_24/blob/main/Copia_de_Semana_12_Tema_12_TensorBoard.ipynb\" target=\"_parent\"><img src=\"https://colab.research.google.com/assets/colab-badge.svg\" alt=\"Open In Colab\"/></a>"
      ]
    },
    {
      "cell_type": "markdown",
      "metadata": {
        "id": "HEYuO5NFwDK9"
      },
      "source": [
        "# TensorBoard"
      ]
    },
    {
      "cell_type": "markdown",
      "metadata": {
        "id": "56V5oun18ZdZ"
      },
      "source": [
        "En el aprendizaje automático, para mejorar algo, a menudo es necesario poder medirlo. TensorBoard es una herramienta para proporcionar las medidas y visualizaciones necesarias durante el flujo de trabajo de aprendizaje automático. Permite rastrear métricas de experimentos como pérdida y precisión, visualizar el gráfico del modelo, proyectar vectores o embedding en un espacio dimensional inferior y mucho más.\n",
        "\n",
        "Esta herramienta ejecuta un servidor local que muestra una página web. Los datos son almacenados de forma local, esto implica que no debemos subir nuestros datos a servidores en la nube.\n",
        "\n",
        "Es importante mencionar que se debe tener en cuenta que hay 2 argumentos importantes para las funciones:\n",
        "\n",
        "- tag: Bajo que nombre voy a escribir los datos\n",
        "- global_step: Paso en el que estoy escribiendo los datos\n",
        "\n",
        "`IMPORTATE: vamos a ver puntos que a lo mejor hoy no se comprendan o se hayan dado y los cuales no se van a profundizar porque son temas de otras materias.`"
      ]
    },
    {
      "cell_type": "markdown",
      "source": [
        "`EJECUTAR CELDA POR CELDA NO TODO JUNTO!!!`"
      ],
      "metadata": {
        "id": "7AhjF0OtYT2S"
      }
    },
    {
      "cell_type": "markdown",
      "source": [
        "## Instalación"
      ],
      "metadata": {
        "id": "8poO2mTvj0dL"
      }
    },
    {
      "cell_type": "code",
      "source": [
        "!pip install -q tensorboard"
      ],
      "metadata": {
        "id": "uez_viYej3_E"
      },
      "execution_count": null,
      "outputs": []
    },
    {
      "cell_type": "markdown",
      "source": [
        "## Versión"
      ],
      "metadata": {
        "id": "K0OmIYFsj8zE"
      }
    },
    {
      "cell_type": "code",
      "source": [
        "import tensorflow as tf\n",
        "tf.__version__"
      ],
      "metadata": {
        "colab": {
          "base_uri": "https://localhost:8080/",
          "height": 35
        },
        "id": "EXR93jL-j_Ci",
        "outputId": "82bbe618-00d3-449d-af5d-b3086641673a"
      },
      "execution_count": null,
      "outputs": [
        {
          "output_type": "execute_result",
          "data": {
            "text/plain": [
              "'2.12.0'"
            ],
            "application/vnd.google.colaboratory.intrinsic+json": {
              "type": "string"
            }
          },
          "metadata": {},
          "execution_count": 2
        }
      ]
    },
    {
      "cell_type": "code",
      "execution_count": null,
      "metadata": {
        "id": "6B95Hb6YVgPZ",
        "colab": {
          "base_uri": "https://localhost:8080/"
        },
        "outputId": "5ec5f21c-402b-48d4-dc71-3d38d394d1b9"
      },
      "outputs": [
        {
          "output_type": "stream",
          "name": "stdout",
          "text": [
            "The tensorboard extension is already loaded. To reload it, use:\n",
            "  %reload_ext tensorboard\n"
          ]
        }
      ],
      "source": [
        "# Levantamos la extensión para notebook\n",
        "%load_ext tensorboard"
      ]
    },
    {
      "cell_type": "markdown",
      "source": [
        "## Modelo\n",
        "\n",
        "Vamos a ejecutar el modelo que creamos en la práctica 11."
      ],
      "metadata": {
        "id": "_wqSAZExy6xV"
      }
    },
    {
      "cell_type": "code",
      "source": [
        "import torch\n",
        "from torch import nn\n",
        "from torch.utils.data import DataLoader\n",
        "from torchvision import datasets\n",
        "from torchvision.transforms import ToTensor\n",
        "\n",
        "# nombre con el que vamos a guardar el modelo\n",
        "model_filename = 'model_FashionMNIST.pth'\n",
        "\n",
        "# Este es el conjunto de etiquetas (labels) del dataset FashionMNIST\n",
        "labels_map = {\n",
        "    0: \"T-Shirt\",\n",
        "    1: \"Trouser\",\n",
        "    2: \"Pullover\",\n",
        "    3: \"Dress\",\n",
        "    4: \"Coat\",\n",
        "    5: \"Sandal\",\n",
        "    6: \"Shirt\",\n",
        "    7: \"Sneaker\",\n",
        "    8: \"Bag\",\n",
        "    9: \"Ankle Boot\",\n",
        "}\n",
        "\n",
        "# descargamos el dataset de entrenamiento\n",
        "training_data = datasets.FashionMNIST(\n",
        "    root=\"data\",\n",
        "    train=True,\n",
        "    download=True,\n",
        "    transform=ToTensor(),\n",
        ")\n",
        "# descargamos el dataset de test\n",
        "test_data = datasets.FashionMNIST(\n",
        "    root=\"data\",\n",
        "    train=False,\n",
        "    download=True,\n",
        "    transform=ToTensor(),\n",
        ")\n",
        "# Creamos los DataLoades desde los dataset de training_data y test_data, a su\n",
        "# vez le decimos que queremos minibatches de 64 elementos y que cada minibatch\n",
        "# se mescle.\n",
        "train_dataloader = DataLoader(training_data, batch_size=64, shuffle=True)\n",
        "test_dataloader = DataLoader(test_data, batch_size=64, shuffle=True)\n",
        "\n",
        "# Definimos nuestro modelo\n",
        "class NeuralNetwork(nn.Module):\n",
        "  def __init__(self):\n",
        "    \"\"\" Inicializamos la red. Esto quiere decir que vamos a crear todos los\n",
        "        objetos que necesitaremos utilizar en nuestra red.\n",
        "    \"\"\"\n",
        "    super().__init__()\n",
        "    # Reduce las dimensiones de un tensor (vector listos para\n",
        "    # trabajar en cpu/gpu)\n",
        "    self.flatten = nn.Flatten()\n",
        "    # Vamos a definir una secuencia de pasos que debe ejecutar nuestra red neuronal\n",
        "    self.linear_relu_stack = nn.Sequential(\n",
        "      # Esta capa como entrada un tensor de 28x28 (o 784 posiciones,\n",
        "      # osea nuestra imagen) y la salida o predicción va a ser un tensor de\n",
        "      # 512 posiciones\n",
        "      nn.Linear(28*28, 512),\n",
        "      # Es un capa que toma los siguientes valores max(0,x), es decir,\n",
        "      # si el valor es menor a 0 entonces retorna 0, en caso contrario\n",
        "      # retorna el valor.\n",
        "      nn.ReLU(),\n",
        "      nn.Linear(512, 512),\n",
        "      nn.ReLU(),\n",
        "      # Al final creamos otra transformación lineal que recibe un tensor con 512\n",
        "      # posiciones y va a salir un tensor de 10 posiciones que son las etiquetas\n",
        "      # o tipos de prendas del dataset FashionMNIST\n",
        "      nn.Linear(512, 10)\n",
        "    )\n",
        "\n",
        "  def forward(self, x):\n",
        "    \"\"\" Especificamos como se va a trabajar con los datos para entrenar el red neuronal\n",
        "\n",
        "    Args:\n",
        "      x (Tensor): Tensor con los valores de la imágen, en nuestro caso, recibimos\n",
        "                    una matriz de 28*28.\n",
        "    \"\"\"\n",
        "    # Realizamos el Flatten\n",
        "    x_flatten = self.flatten(x)\n",
        "    # Aplicamos la secuencia y obtenemos las probabilidades de que sea cada una\n",
        "    # de las etiquetas o tipos de prendas del datasetFashionMNIST\n",
        "    logits = self.linear_relu_stack(x_flatten)\n",
        "\n",
        "    # Retornamos las probabilidades\n",
        "    return logits\n",
        "\n",
        "# Verificamos que dispositivo tenemos disponible para entrenar\n",
        "device = (\n",
        "    \"cuda\"\n",
        "    if torch.cuda.is_available()\n",
        "    else \"cpu\"\n",
        ")\n",
        "# Recuerden que en colab, desde el menú de (Runtime -> Change runtime type)\n",
        "# podemos cambiar el tipo de procesasor que vamos a utilizar, por ejemplo:\n",
        "# cpu o cuda o tpu\n",
        "print(f\"Utilizaremos el dispositivo: {device}\")\n",
        "\n",
        "# Creamos nuestra clase\n",
        "model = NeuralNetwork().to(device)\n",
        "\n",
        "# tasa de aprendisaje\n",
        "learning_rate = 1e-2\n",
        "# tamaño del lote\n",
        "batch_size = 64\n",
        "# número de epocas\n",
        "epochs = 10"
      ],
      "metadata": {
        "colab": {
          "base_uri": "https://localhost:8080/"
        },
        "id": "rKslHQqamQtM",
        "outputId": "6233737d-2669-4146-9d87-8fd9fdec28ba"
      },
      "execution_count": null,
      "outputs": [
        {
          "output_type": "stream",
          "name": "stdout",
          "text": [
            "Downloading http://fashion-mnist.s3-website.eu-central-1.amazonaws.com/train-images-idx3-ubyte.gz\n",
            "Downloading http://fashion-mnist.s3-website.eu-central-1.amazonaws.com/train-images-idx3-ubyte.gz to data/FashionMNIST/raw/train-images-idx3-ubyte.gz\n"
          ]
        },
        {
          "output_type": "stream",
          "name": "stderr",
          "text": [
            "100%|██████████| 26421880/26421880 [00:14<00:00, 1803753.84it/s]\n"
          ]
        },
        {
          "output_type": "stream",
          "name": "stdout",
          "text": [
            "Extracting data/FashionMNIST/raw/train-images-idx3-ubyte.gz to data/FashionMNIST/raw\n",
            "\n",
            "Downloading http://fashion-mnist.s3-website.eu-central-1.amazonaws.com/train-labels-idx1-ubyte.gz\n",
            "Downloading http://fashion-mnist.s3-website.eu-central-1.amazonaws.com/train-labels-idx1-ubyte.gz to data/FashionMNIST/raw/train-labels-idx1-ubyte.gz\n"
          ]
        },
        {
          "output_type": "stream",
          "name": "stderr",
          "text": [
            "100%|██████████| 29515/29515 [00:00<00:00, 116365.63it/s]\n"
          ]
        },
        {
          "output_type": "stream",
          "name": "stdout",
          "text": [
            "Extracting data/FashionMNIST/raw/train-labels-idx1-ubyte.gz to data/FashionMNIST/raw\n",
            "\n",
            "Downloading http://fashion-mnist.s3-website.eu-central-1.amazonaws.com/t10k-images-idx3-ubyte.gz\n",
            "Downloading http://fashion-mnist.s3-website.eu-central-1.amazonaws.com/t10k-images-idx3-ubyte.gz to data/FashionMNIST/raw/t10k-images-idx3-ubyte.gz\n"
          ]
        },
        {
          "output_type": "stream",
          "name": "stderr",
          "text": [
            "100%|██████████| 4422102/4422102 [00:02<00:00, 2190935.97it/s]\n"
          ]
        },
        {
          "output_type": "stream",
          "name": "stdout",
          "text": [
            "Extracting data/FashionMNIST/raw/t10k-images-idx3-ubyte.gz to data/FashionMNIST/raw\n",
            "\n",
            "Downloading http://fashion-mnist.s3-website.eu-central-1.amazonaws.com/t10k-labels-idx1-ubyte.gz\n",
            "Downloading http://fashion-mnist.s3-website.eu-central-1.amazonaws.com/t10k-labels-idx1-ubyte.gz to data/FashionMNIST/raw/t10k-labels-idx1-ubyte.gz\n"
          ]
        },
        {
          "output_type": "stream",
          "name": "stderr",
          "text": [
            "100%|██████████| 5148/5148 [00:00<00:00, 24676887.99it/s]"
          ]
        },
        {
          "output_type": "stream",
          "name": "stdout",
          "text": [
            "Extracting data/FashionMNIST/raw/t10k-labels-idx1-ubyte.gz to data/FashionMNIST/raw\n",
            "\n",
            "Utilizaremos el dispositivo: cpu\n"
          ]
        },
        {
          "output_type": "stream",
          "name": "stderr",
          "text": [
            "\n"
          ]
        }
      ]
    },
    {
      "cell_type": "markdown",
      "source": [
        "## [SummaryWrite](https://pytorch.org/docs/stable/tensorboard.html)\n",
        "\n",
        "Para trabajar con tensorboard desde pytorch vamos a utilizar la clase SummaryWriter."
      ],
      "metadata": {
        "id": "-hg7Vz3DpfMk"
      }
    },
    {
      "cell_type": "code",
      "source": [
        "from torch.utils.tensorboard import SummaryWriter"
      ],
      "metadata": {
        "id": "GFpw-Iw9peLP"
      },
      "execution_count": null,
      "outputs": []
    },
    {
      "cell_type": "code",
      "execution_count": null,
      "metadata": {
        "id": "Ao7fJW1Pyiza"
      },
      "outputs": [],
      "source": [
        "# Directorio donde vamos a guardar los archivos que necesita tensorboard\n",
        "tensorboard_logs_folder = \"/content/tensorboard_logs/\""
      ]
    },
    {
      "cell_type": "markdown",
      "source": [
        "Cada vez que ejecutemos un script debemos volver a la celda de abajo y presionar el botón de refrescar que se encuentra arriba a la derecha\n",
        "![image.png](data:image/png;base64,iVBORw0KGgoAAAANSUhEUgAAACIAAAAiCAIAAAC1JZyVAAAACXBIWXMAAA7EAAAOxAGVKw4bAAABf0lEQVRIie3VPVKDQBQH8P8CIYkVlFYuN5ALKPEItBYkuUJKdZKMtWcguUD0BIFcQLzBUtqFxo8JXxbrR0YhIMY44/BKeOxvebx9kIdz7CCEXSA1UzOQCjOIQiXdEjRD1Iw08GPmpks/8qZp4PME2bRXs17BIpvPTaMzbJyMvl5PAz+6nYTOWDZtSe8+XpDqTLPviJoBIJyPEn8RM5coVNQMohx8sguZ3KJJepdXaTXrxcz9eAlvAiDxF82+s3np9chuAaJQ2bQBrBvrIepWeSOXkXQLQORNMg3+PbbAEJUCSNhiKwbyWqA9YEShT1fae9f+MP50CiRLH4Cg0l9mmIsS7SSb9t5l2ugMKzKRN8Xb0cl7kiiU9wJPrsLwU8n3mykRhbYHDEA4H5VpE/HsKPtGcn9HVCpqhqR3iUpJS02fA9JSxP1DSbeapzcAYuaurguG5uu2qo1OAOF8FDrjMkYxA4CPS0E75tVLln7C3PJAWWYr8b9+0jVTMzXz/XgBITKX/16CPBcAAAAASUVORK5CYII=)\n",
        "\n",
        "**Es muy importarte segir los instrucciones de cada script**"
      ],
      "metadata": {
        "id": "AvuhWdaXuefq"
      }
    },
    {
      "cell_type": "code",
      "source": [
        "# Matamos el proceso actual de tensorboard\n",
        "!kill $(ps ax | grep tensorboard_logs | awk '{ if ($5 ~ /logdir/ || $6 ~ /logdir/ || $7 ~ /logdir/) print $1}')\n",
        "# Vamos a limpiar el directorio de trabajo\n",
        "!rm -rf {tensorboard_logs_folder}\n",
        "# Ejecutamos la extensión para colab, le pasamos el direcorio que definimos anteriormente\n",
        "%tensorboard --logdir {tensorboard_logs_folder}\n",
        "# EL REFRESCO DE LOS DATOS NO ES INSTANTANEO, A VECES DEBEMOS PRESIONAR VARIAS\n",
        "# VECES EL BOTÓN DE REFRESCAR"
      ],
      "metadata": {
        "colab": {
          "base_uri": "https://localhost:8080/",
          "height": 821
        },
        "id": "li4XFbUurnlD",
        "outputId": "6cf1cb63-6a71-4f26-cc81-e1509ec63598"
      },
      "execution_count": null,
      "outputs": [
        {
          "output_type": "display_data",
          "data": {
            "text/plain": [
              "<IPython.core.display.Javascript object>"
            ],
            "application/javascript": [
              "\n",
              "        (async () => {\n",
              "            const url = new URL(await google.colab.kernel.proxyPort(6006, {'cache': true}));\n",
              "            url.searchParams.set('tensorboardColab', 'true');\n",
              "            const iframe = document.createElement('iframe');\n",
              "            iframe.src = url;\n",
              "            iframe.setAttribute('width', '100%');\n",
              "            iframe.setAttribute('height', '800');\n",
              "            iframe.setAttribute('frameborder', 0);\n",
              "            document.body.appendChild(iframe);\n",
              "        })();\n",
              "    "
            ]
          },
          "metadata": {}
        }
      ]
    },
    {
      "cell_type": "markdown",
      "source": [
        "## Escalares\n",
        "\n",
        "Agregamos valores númericos para cada step o un diccionario con números para comparar gráficas en cada step."
      ],
      "metadata": {
        "id": "uk9MA7Kkh8UD"
      }
    },
    {
      "cell_type": "code",
      "source": [
        "# Matamos el proceso actual de tensorboard\n",
        "!kill $(ps ax | grep tensorboard_logs | awk '{ if ($5 ~ /logdir/ || $6 ~ /logdir/ || $7 ~ /logdir/) print $1}')\n",
        "# Vamos a limpiar el directorio de trabajo\n",
        "!rm -rf {tensorboard_logs_folder}"
      ],
      "metadata": {
        "id": "LJgiEyiZh8UU"
      },
      "execution_count": null,
      "outputs": []
    },
    {
      "cell_type": "code",
      "source": [
        "import math\n",
        "# Inicializamos el objeto SummaryWrite y le pasamos el argumento con el\n",
        "# directorio de trabajo\n",
        "summary_writer = SummaryWriter(log_dir=tensorboard_logs_folder)\n",
        "for i in range(1,10):\n",
        "  # Dibujamos las gráficas de los logaritmos\n",
        "  summary_writer.add_scalar(tag=\"Logaritmo\", scalar_value=math.log(i),  global_step=i)\n",
        "  summary_writer.add_scalar(tag=\"Logaritmo 2\", scalar_value=math.log2(i),  global_step=i)\n",
        "  summary_writer.add_scalar(tag=\"Logaritmo 10\", scalar_value=math.log10(i),  global_step=i)\n",
        "  # Agregamos los 3 valores dentro de 1 sola gráfica para compararlos\n",
        "  summary_writer.add_scalars(main_tag=\"LOGARTIMOS\",\n",
        "                             tag_scalar_dict={\"log\":math.log(i),\n",
        "                                              \"log2\":math.log2(i),\n",
        "                                              \"log10\":math.log10(i),},\n",
        "                              global_step=i)\n",
        "\n",
        "# Cerramos la escritura\n",
        "summary_writer.close()"
      ],
      "metadata": {
        "id": "wA0-03yKh8UV"
      },
      "execution_count": null,
      "outputs": []
    },
    {
      "cell_type": "markdown",
      "source": [
        "Ver el tab `SCALARS` o\n",
        "\n",
        "![image.png](data:image/png;base64,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)"
      ],
      "metadata": {
        "id": "lizaLoDOkYSA"
      }
    },
    {
      "cell_type": "code",
      "source": [
        "# Ejecutamos la extensión para colab, le pasamos el direcorio que definimos anteriormente\n",
        "%tensorboard --logdir {tensorboard_logs_folder}"
      ],
      "metadata": {
        "id": "k3hWn67Uh8UV",
        "colab": {
          "base_uri": "https://localhost:8080/",
          "height": 821
        },
        "outputId": "ed132fab-9d59-41f1-b240-67bc06777be3"
      },
      "execution_count": null,
      "outputs": [
        {
          "output_type": "display_data",
          "data": {
            "text/plain": [
              "<IPython.core.display.Javascript object>"
            ],
            "application/javascript": [
              "\n",
              "        (async () => {\n",
              "            const url = new URL(await google.colab.kernel.proxyPort(6006, {'cache': true}));\n",
              "            url.searchParams.set('tensorboardColab', 'true');\n",
              "            const iframe = document.createElement('iframe');\n",
              "            iframe.src = url;\n",
              "            iframe.setAttribute('width', '100%');\n",
              "            iframe.setAttribute('height', '800');\n",
              "            iframe.setAttribute('frameborder', 0);\n",
              "            document.body.appendChild(iframe);\n",
              "        })();\n",
              "    "
            ]
          },
          "metadata": {}
        }
      ]
    },
    {
      "cell_type": "markdown",
      "source": [
        "## Textos"
      ],
      "metadata": {
        "id": "AX6417YNlA3B"
      }
    },
    {
      "cell_type": "code",
      "source": [
        "# Matamos el proceso actual de tensorboard\n",
        "!kill $(ps ax | grep tensorboard_logs | awk '{ if ($5 ~ /logdir/ || $6 ~ /logdir/ || $7 ~ /logdir/) print $1}')\n",
        "# Vamos a limpiar el directorio de trabajo\n",
        "!rm -rf {tensorboard_logs_folder}"
      ],
      "metadata": {
        "id": "9HlzmrnVlA3C"
      },
      "execution_count": null,
      "outputs": []
    },
    {
      "cell_type": "code",
      "source": [
        "import math\n",
        "# Inicializamos el objeto SummaryWrite y le pasamos el argumento con el\n",
        "# directorio de trabajo\n",
        "summary_writer = SummaryWriter(log_dir=tensorboard_logs_folder)\n",
        "# Dibujamos las gráficas de los logaritmos\n",
        "summary_writer.add_text(tag=\"Readme\",\n",
        "                        text_string=\n",
        "\"\"\"In egestas non tortor at tempor. Nullam maximus mi ac pharetra dictum. Sed\n",
        "condimentum diam orci, eget condimentum ipsum convallis quis. Sed ut\n",
        "perspiciatis, unde omnis iste natus error sit voluptatem accusantium doloremque\n",
        "laudantium, totam rem aperiam eaque ipsa, quae ab illo inventore veritatis et\n",
        "quasi architecto beatae vitae dicta sunt, explicabo.\n",
        "\n",
        "Nullam maximus mi ac pharetra dictum. Sed condimentum diam orci, eget\n",
        "condimentum ipsum convallis quis. Sed ut perspiciatis, unde omnis iste natus\n",
        "error sit voluptatem accusantium doloremque laudantium, totam rem aperiam eaque\n",
        "ipsa, quae ab illo inventore veritatis et quasi architecto beatae vitae dicta\n",
        "sunt, explicabo. Nemo enim ipsam voluptatem, quia voluptas sit, aspernatur aut\n",
        "odit aut fugit, sed quia consequuntur magni dolores eos, qui ratione voluptatem\n",
        "sequi nesciunt, neque porro quisquam est, qui dolorem ipsum, quia dolor sit amet\n",
        "consectetur adipiscing velit, sed quia non numquam do eius modi tempora\n",
        "inci[di]dunt, ut labore et dolore magnam aliquam quaerat voluptatem.\"\"\",\n",
        "                        global_step=0)\n",
        "\n",
        "summary_writer.add_text(tag=\"Recomendation\",\n",
        "                        text_string=\n",
        "\"\"\"Duis a arcu convallis, gravida purus eget, mollis diam. Praesent non urna\n",
        "non mauris laoreet ultricies eget at enim. Phasellus lacus odio, ullamcorper ac\n",
        "ipsum in, tincidunt tincidunt massa. Suspendisse ut malesuada sapien, vitae\n",
        "mollis diam.\n",
        "\n",
        "Praesent non urna non mauris laoreet ultricies eget at enim. Phasellus lacus\n",
        "odio, ullamcorper ac ipsum in, tincidunt tincidunt massa. Suspendisse ut\n",
        "malesuada sapien, vitae mollis diam. Suspendisse tristique et ex non faucibus.\"\"\",\n",
        "                        global_step=0)\n",
        "\n",
        "# Cerramos la escritura\n",
        "summary_writer.close()"
      ],
      "metadata": {
        "id": "6J-Y4a_YlA3D"
      },
      "execution_count": null,
      "outputs": []
    },
    {
      "cell_type": "markdown",
      "source": [
        "Ver el tab `TEXT` o\n",
        "\n",
        "![image.png](data:image/png;base64,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)\n"
      ],
      "metadata": {
        "id": "cXBTRfEO4Zr8"
      }
    },
    {
      "cell_type": "code",
      "source": [
        "# Ejecutamos la extensión para colab, le pasamos el direcorio que definimos anteriormente\n",
        "%tensorboard --logdir {tensorboard_logs_folder}"
      ],
      "metadata": {
        "id": "AmxuQTD9lA3D",
        "colab": {
          "base_uri": "https://localhost:8080/",
          "height": 821
        },
        "outputId": "8ae9f1ab-72ca-4d7d-cb45-f222156279bc"
      },
      "execution_count": null,
      "outputs": [
        {
          "output_type": "display_data",
          "data": {
            "text/plain": [
              "<IPython.core.display.Javascript object>"
            ],
            "application/javascript": [
              "\n",
              "        (async () => {\n",
              "            const url = new URL(await google.colab.kernel.proxyPort(6006, {'cache': true}));\n",
              "            url.searchParams.set('tensorboardColab', 'true');\n",
              "            const iframe = document.createElement('iframe');\n",
              "            iframe.src = url;\n",
              "            iframe.setAttribute('width', '100%');\n",
              "            iframe.setAttribute('height', '800');\n",
              "            iframe.setAttribute('frameborder', 0);\n",
              "            document.body.appendChild(iframe);\n",
              "        })();\n",
              "    "
            ]
          },
          "metadata": {}
        }
      ]
    },
    {
      "cell_type": "markdown",
      "source": [
        "## Imagenes del dataset y grafo"
      ],
      "metadata": {
        "id": "FivZaNmdK1xI"
      }
    },
    {
      "cell_type": "code",
      "source": [
        "# Matamos el proceso actual de tensorboard\n",
        "!kill $(ps ax | grep tensorboard_logs | awk '{ if ($5 ~ /logdir/ || $6 ~ /logdir/ || $7 ~ /logdir/) print $1}')\n",
        "# Vamos a limpiar el directorio de trabajo\n",
        "!rm -rf {tensorboard_logs_folder}"
      ],
      "metadata": {
        "id": "oEnhZfg4qdZY"
      },
      "execution_count": null,
      "outputs": []
    },
    {
      "cell_type": "code",
      "source": [
        "import torchvision\n",
        "# Inicializamos el objeto SummaryWrite y le pasamos el argumento con el\n",
        "# directorio de trabajo\n",
        "summary_writer = SummaryWriter(log_dir=tensorboard_logs_folder)\n",
        "# Instanciamos el modelo\n",
        "model = NeuralNetwork()\n",
        "# TRAIN\n",
        "# Creamos un iterador sobre el dataloader del dataset de train\n",
        "iter_train_dataloader = iter(train_dataloader)\n",
        "images, labels = next(iter_train_dataloader)\n",
        "# Agegamos las imágenes a una grilla\n",
        "grid = torchvision.utils.make_grid(images)\n",
        "# Escribimos la imagen\n",
        "summary_writer.add_image(\"Imágenes del dataset de train\", grid, global_step=0)\n",
        "images, labels = next(iter_train_dataloader)\n",
        "grid = torchvision.utils.make_grid(images)\n",
        "summary_writer.add_image(\"Imágenes del dataset de train\", grid, global_step=1)\n",
        "# Generamos un grafo del modelo\n",
        "summary_writer.add_graph(model, images)\n",
        "# TEST\n",
        "# Creamos un iterador sobre el dataloader del dataset de train\n",
        "iter_test_dataloader = iter(test_dataloader)\n",
        "images, labels = next(iter_test_dataloader)\n",
        "# Agegamos las imágenes a una grilla\n",
        "grid = torchvision.utils.make_grid(images)\n",
        "# Escribimos la imagen\n",
        "summary_writer.add_image(\"Imágenes del dataset de test\", grid, global_step=0)\n",
        "images, labels = next(iter_test_dataloader)\n",
        "grid = torchvision.utils.make_grid(images)\n",
        "summary_writer.add_image(\"Imágenes del dataset de test\", grid, global_step=1)\n",
        "# Generamos un grafo del modelo\n",
        "summary_writer.add_graph(model, images)\n",
        "# Cerramos la escritura\n",
        "summary_writer.close()"
      ],
      "metadata": {
        "id": "41fo7xdtzGxt"
      },
      "execution_count": null,
      "outputs": []
    },
    {
      "cell_type": "markdown",
      "source": [
        "Ver el tab `IMAGES` o\n",
        "\n",
        "![image.png](data:image/png;base64,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)"
      ],
      "metadata": {
        "id": "sjkcjJR67ADF"
      }
    },
    {
      "cell_type": "markdown",
      "source": [
        "Ver el tab `graphs` o\n",
        "\n",
        "![image.png](data:image/png;base64,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)"
      ],
      "metadata": {
        "id": "2RmQ_jWL7VLL"
      }
    },
    {
      "cell_type": "markdown",
      "source": [
        "```txt\n",
        "VER LOS TABS IMAGES Y GRAPHS\n",
        "Images, muestra las imágenes de los dataset que cargamos con los títulos\n",
        "Graphs, muestra el grafo del modelo y si le hacemos zoom (con la rueda del\n",
        "moues) podemos ver como son las entradas (64x1x28x28) y las salidas (64x10).\n",
        "```\n",
        "\n",
        "Utilizar el slider para ver los steps (pasos)\n",
        "\n",
        "![image.png](data:image/png;base64,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)"
      ],
      "metadata": {
        "id": "CscvQ45i1Oyh"
      }
    },
    {
      "cell_type": "code",
      "source": [
        "# Ejecutamos la extensión para colab, le pasamos el direcorio que definimos anteriormente\n",
        "%tensorboard --logdir {tensorboard_logs_folder}"
      ],
      "metadata": {
        "id": "Vwy7bwVzGZz8",
        "colab": {
          "base_uri": "https://localhost:8080/",
          "height": 821
        },
        "outputId": "21a06aa6-875f-4cf4-bbbd-115ddf13bf64"
      },
      "execution_count": null,
      "outputs": [
        {
          "output_type": "display_data",
          "data": {
            "text/plain": [
              "<IPython.core.display.Javascript object>"
            ],
            "application/javascript": [
              "\n",
              "        (async () => {\n",
              "            const url = new URL(await google.colab.kernel.proxyPort(6006, {'cache': true}));\n",
              "            url.searchParams.set('tensorboardColab', 'true');\n",
              "            const iframe = document.createElement('iframe');\n",
              "            iframe.src = url;\n",
              "            iframe.setAttribute('width', '100%');\n",
              "            iframe.setAttribute('height', '800');\n",
              "            iframe.setAttribute('frameborder', 0);\n",
              "            document.body.appendChild(iframe);\n",
              "        })();\n",
              "    "
            ]
          },
          "metadata": {}
        }
      ]
    },
    {
      "cell_type": "markdown",
      "source": [
        "## Embeddings\n",
        "\n",
        "Vamos a mostar los embeddings de las imágenes y de esta forma visualizar algún tipo de patrón."
      ],
      "metadata": {
        "id": "zDWbK4AqLBXD"
      }
    },
    {
      "cell_type": "code",
      "source": [
        "# Matamos el proceso actual de tensorboard\n",
        "!kill $(ps ax | grep tensorboard_logs | awk '{ if ($5 ~ /logdir/ || $6 ~ /logdir/ || $7 ~ /logdir/) print $1}')\n",
        "# Vamos a limpiar el directorio de trabajo\n",
        "!rm -rf {tensorboard_logs_folder}"
      ],
      "metadata": {
        "id": "7Oa91GnsLBXE"
      },
      "execution_count": null,
      "outputs": []
    },
    {
      "cell_type": "code",
      "source": [
        "import torchvision\n",
        "# Inicializamos el objeto SummaryWrite y le pasamos el argumento con el\n",
        "# directorio de trabajo\n",
        "summary_writer = SummaryWriter(log_dir=tensorboard_logs_folder)\n",
        "# Etiquetas que queremos mostrar\n",
        "labels=[]\n",
        "# Imágenes\n",
        "images=[]\n",
        "emb_by_label = {}\n",
        "# Iteramos todas las imágenes del dataset de train\n",
        "for pos, emb in enumerate(iter(test_data)):\n",
        "  # Agregamos el embedding, en la posición 0 tenemos el vector y en la posición\n",
        "  # 1 tenemos el id de la etiqueta\n",
        "  l = labels_map[emb[1]]\n",
        "  labels.append(l)\n",
        "  # debemos agregar 1 vector por lo tanto hacemos un flatten para aplanarlo\n",
        "  e = emb[0].squeeze().flatten()\n",
        "  images.append(e)\n",
        "  if l not in emb_by_label:\n",
        "    emb_by_label[l] = []\n",
        "  emb_by_label[l].append(e)\n",
        "\n",
        "  if pos == 1000:\n",
        "    # Cortamos a los 1000 embeddings\n",
        "    break\n",
        "# Agregamos una proyección para todas las imágenes\n",
        "summary_writer.add_embedding(torch.stack(images), global_step=0, metadata=labels, tag=\"ALL\")\n",
        "# Agregamos una proyección por label\n",
        "for k,v in emb_by_label.items():\n",
        "  summary_writer.add_embedding(torch.stack(v), global_step=0, tag=k)\n",
        "\n",
        "# Cerramos la escritura\n",
        "summary_writer.close()"
      ],
      "metadata": {
        "id": "uBTj9zSHLBXE"
      },
      "execution_count": null,
      "outputs": []
    },
    {
      "cell_type": "markdown",
      "source": [
        "Ver el tab `Porjector`\n",
        "\n",
        "![image.png](data:image/png;base64,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)"
      ],
      "metadata": {
        "id": "lvIVOeWfTSF1"
      }
    },
    {
      "cell_type": "code",
      "source": [
        "# Ejecutamos la extensión para colab, le pasamos el direcorio que definimos anteriormente\n",
        "%tensorboard --logdir {tensorboard_logs_folder}"
      ],
      "metadata": {
        "id": "imUfg4X5LBXE",
        "colab": {
          "base_uri": "https://localhost:8080/",
          "height": 821
        },
        "outputId": "e1d396a4-2aa0-46fc-b407-8c3f264d72cb"
      },
      "execution_count": null,
      "outputs": [
        {
          "output_type": "display_data",
          "data": {
            "text/plain": [
              "<IPython.core.display.Javascript object>"
            ],
            "application/javascript": [
              "\n",
              "        (async () => {\n",
              "            const url = new URL(await google.colab.kernel.proxyPort(6006, {'cache': true}));\n",
              "            url.searchParams.set('tensorboardColab', 'true');\n",
              "            const iframe = document.createElement('iframe');\n",
              "            iframe.src = url;\n",
              "            iframe.setAttribute('width', '100%');\n",
              "            iframe.setAttribute('height', '800');\n",
              "            iframe.setAttribute('frameborder', 0);\n",
              "            document.body.appendChild(iframe);\n",
              "        })();\n",
              "    "
            ]
          },
          "metadata": {}
        }
      ]
    },
    {
      "cell_type": "markdown",
      "source": [
        "## Metricas del entrenamiento\n",
        "\n",
        "Vamos a modificar un poco las funciones originales `train_loop` y `test_loop` para agregar el`summary_writer`."
      ],
      "metadata": {
        "id": "jQWIS7TtMjZS"
      }
    },
    {
      "cell_type": "code",
      "source": [
        "# Matamos el proceso actual de tensorboard\n",
        "!kill $(ps ax | grep tensorboard_logs | awk '{ if ($5 ~ /logdir/ || $6 ~ /logdir/ || $7 ~ /logdir/) print $1}')\n",
        "# Vamos a limpiar el directorio de trabajo\n",
        "!rm -rf {tensorboard_logs_folder}"
      ],
      "metadata": {
        "id": "h7y482ZiMjZT"
      },
      "execution_count": null,
      "outputs": []
    },
    {
      "cell_type": "code",
      "source": [
        "import torchvision\n",
        "import statistics\n",
        "# Inicializamos el objeto SummaryWrite y le pasamos el argumento con el\n",
        "# directorio de trabajo\n",
        "summary_writer = SummaryWriter(log_dir=tensorboard_logs_folder)\n",
        "# Instanciamos el modelo\n",
        "model = NeuralNetwork()\n",
        "\n",
        "\n",
        "# Bucle de entrenamiento\n",
        "def train_loop(dataloader: DataLoader,\n",
        "              model: NeuralNetwork,\n",
        "              loss_fn: nn.CrossEntropyLoss,\n",
        "              optimizer: torch.optim.SGD) -> tuple:\n",
        "  \"\"\" Bucle de entrenamiento\n",
        "\n",
        "  Args:\n",
        "    dataloader (DataLoader): Dataloader\n",
        "    model (NeuralNetwork): Modelo\n",
        "    loss_fn (nn.CrossEntropyLoss): Función de loss\n",
        "    optimizer (torch.optim.SGD): Optimizador\n",
        "\n",
        "  Returns:\n",
        "    (loss, total_correct): Retorna el loss promedio y el promedio de las\n",
        "      predicciones correctas\n",
        "  \"\"\"\n",
        "  # Tamaño del dataset\n",
        "  size = len(dataloader.dataset)\n",
        "  # Iterador sobre los batch\n",
        "  avg_loss = []\n",
        "  avg_total_correct = []\n",
        "  for batch, (X, y) in enumerate(dataloader):\n",
        "    # Pasamos los tensores a un device\n",
        "    X = X.to(device)\n",
        "    y = y.to(device)\n",
        "    # Calculo de la predicción\n",
        "    pred = model(X)\n",
        "    pred.to(device)\n",
        "    # Calculo el loss\n",
        "    loss = loss_fn(pred, y)\n",
        "\n",
        "    # SE AGEGÓ UN LISTA PARA SUMAR LOS VALORES Y OBTENER EL PROMEDIO\n",
        "    avg_loss.append(loss.item())\n",
        "    avg_total_correct.append((pred.argmax(1) == y).type(torch.float).sum().item())\n",
        "\n",
        "    # Backpropagation\n",
        "    loss.backward()\n",
        "    # Hago la optimización del paso\n",
        "    optimizer.step()\n",
        "    # Reestablesco los gradientes a 0\n",
        "    optimizer.zero_grad()\n",
        "\n",
        "    if batch % 100 == 0:\n",
        "      # Si el batch es múltiplo de 100 muestro los datos\n",
        "      loss, current = loss.item(), (batch + 1) * len(X)\n",
        "      print(f\"loss: {loss:>7f}  [{current:>5d}/{size:>5d}]\")\n",
        "  # SE AGREGÓ QUE RETORNE EL LOSS Y LAS PREDICCIONES CORRECTAR\n",
        "  return statistics.mean(avg_loss), statistics.mean(avg_total_correct)\n",
        "\n",
        "# Bucle para testear\n",
        "def test_loop(dataloader: DataLoader,\n",
        "              model: NeuralNetwork,\n",
        "              loss_fn: nn.CrossEntropyLoss) -> tuple:\n",
        "  \"\"\" Bucle de entrenamiento\n",
        "\n",
        "  Args:\n",
        "    dataloader (DataLoader): Dataloader\n",
        "    model (NeuralNetwork): Modelo\n",
        "    loss_fn (nn.CrossEntropyLoss): Función de loss\n",
        "\n",
        "  Returns:\n",
        "    (test_loss, correct, test_labels, test_precisions): Retorna el loss\n",
        "      promedio, el promedio de las predicciones correctas, una lista con las\n",
        "      etiquetas y una lista con las etiquetas predecidas.\n",
        "  \"\"\"\n",
        "  # Tamaño del dataset\n",
        "  size = len(dataloader.dataset)\n",
        "  num_batches = len(dataloader)\n",
        "  test_loss, correct = 0, 0\n",
        "  test_labels, test_predictions = [],[]\n",
        "  # Desactivo los gradientes\n",
        "  with torch.no_grad():\n",
        "    # Itero el dataloader\n",
        "    for X, y in dataloader:\n",
        "      # Pasamos los tensores a un device\n",
        "      X = X.to(device)\n",
        "      y = y.to(device)\n",
        "\n",
        "      # Realizó la predicción\n",
        "      pred = model(X)\n",
        "\n",
        "      # Acumulo las etiquetas\n",
        "      test_labels.extend(y.tolist())\n",
        "      # Acumulo las etiquetas predecidas\n",
        "      test_predictions.extend(pred.clone().argmax(1).tolist())\n",
        "\n",
        "      # Calculo el loss\n",
        "      test_loss += loss_fn(pred, y).item()\n",
        "      # Calculo cuantas predicciones son correctas\n",
        "      correct += (pred.argmax(1) == y).type(torch.float).sum().item()\n",
        "  # Divido el loss por la cantidad de batchs, esto me da el loss promedio de\n",
        "  # los batchs\n",
        "  test_loss /= num_batches\n",
        "  # Divido los correctos por la cantidad de imágenes, lo que me da el porcentaje\n",
        "  # de predicciones correctas\n",
        "  correct /= size\n",
        "  print(f\"Errores en Test: \\n\\tAccuracy: {(100*correct):>0.1f}% \\n\\tAvg loss: {test_loss:>8f} \\n\")\n",
        "  # SE AGREGÓ QUE RETORNE EL LOSS Y LAS PREDICCIONES CORRECTAR\n",
        "  return test_loss, correct, test_labels, test_predictions\n",
        "\n",
        "\n",
        "\n",
        "def train_model(epochs:int = 10, model_filename:str = model_filename):\n",
        "  \"\"\" Entrena y guarda el modelo.\n",
        "\n",
        "  Args:\n",
        "    epochs (int): Cantidad de epocas que se debe entrenar.\n",
        "    model_filename (str): Nombre del modelo que se guarda.\n",
        "  \"\"\"\n",
        "  linear_dimensions = [\"linear_784x512\",\n",
        "                       \"relu_1\",  # no contiene parametros\n",
        "                       \"linear_512x512\",\n",
        "                       \"relu_2\", # no contiene parametros\n",
        "                       \"linear_512x10\"]\n",
        "  # Comienzo las iteraciones\n",
        "  for epoch in range(epochs):\n",
        "      print(f\"Epoca {epoch+1}\")\n",
        "      print(\"-\"*80)\n",
        "      train_loss, train_total_correct = train_loop(train_dataloader, model, loss_fn, optimizer)\n",
        "      # La función test_loop ahora retorna el loss y las predicciones correctas,\n",
        "      # entonces puedo crear un gráfico del loss, de las predicciones correctas,\n",
        "      # y del accuracy\n",
        "      summary_writer.add_scalar(\n",
        "          tag=\"train_loss\", scalar_value=train_loss, global_step=epoch)\n",
        "      summary_writer.add_scalar(\n",
        "          tag=\"train_correct\", scalar_value=train_total_correct, global_step=epoch)\n",
        "      summary_writer.add_scalar(\n",
        "          tag=\"train_accuracy\",\n",
        "          scalar_value=train_total_correct/ len(train_dataloader),\n",
        "          global_step=epoch)\n",
        "      print()\n",
        "\n",
        "      test_loss, test_total_correct, test_labels, test_predictions = test_loop(test_dataloader, model, loss_fn)\n",
        "      # La función test_loop ahora retorna el loss y las predicciones correctas,\n",
        "      # entonces puedo crear un gráfico del loss, de las predicciones correctas,\n",
        "      # y del accuracy\n",
        "      summary_writer.add_scalar(\n",
        "          tag=\"test_loss\", scalar_value=test_loss, global_step=epoch)\n",
        "      summary_writer.add_scalar(\n",
        "          tag=\"test_correct\", scalar_value=test_total_correct, global_step=epoch)\n",
        "      summary_writer.add_scalar(\n",
        "          tag=\"test_accuracy\",\n",
        "          scalar_value=test_total_correct/ len(test_dataloader),\n",
        "          global_step=epoch)\n",
        "\n",
        "      summary_writer.add_pr_curve(tag=\"precision_recall_curve\",\n",
        "                              labels=torch.as_tensor(test_labels),\n",
        "                              predictions=torch.as_tensor(test_predictions),\n",
        "                              global_step=epoch)\n",
        "\n",
        "      linear_id = 0\n",
        "      # Vamos a crear un histograma para ver como fueron cambiando los parámetros\n",
        "      # y el bais de cada Linear\n",
        "      for p,l in enumerate(model.linear_relu_stack):\n",
        "        for k,v in l._parameters.items():\n",
        "          if k == \"weight\":\n",
        "            # Agregamos los pesos de cada una de las capas\n",
        "            summary_writer.add_histogram(\n",
        "                tag=f\"layer_{linear_dimensions[linear_id]}.weight\",\n",
        "                values=v,\n",
        "                global_step=epoch)\n",
        "          elif k == \"bias\":\n",
        "            # Agregamos los bias de cada una de las capas\n",
        "            summary_writer.add_histogram(\n",
        "                tag=f\"layer_{linear_dimensions[linear_id]}.bias\",\n",
        "                values=v,\n",
        "                global_step=epoch)\n",
        "        linear_id +=1\n",
        "\n",
        "\n",
        "\n",
        "  # Vamos aguardar los hiperparámetros del modelo\n",
        "  # tasa de aprendisaje\n",
        "  summary_writer.add_hparams(\n",
        "            {\n",
        "                \"learning_rate\": learning_rate,\n",
        "                \"batch_size\": batch_size,\n",
        "                \"epochs\": epochs\n",
        "            },\n",
        "            {\n",
        "                \"train_accuracy\": train_total_correct/ len(train_dataloader),\n",
        "                \"train_loss\": train_loss,\n",
        "                \"test_accuracy\": test_total_correct/ len(test_dataloader),\n",
        "                \"test_loss\": test_loss,\n",
        "            },\n",
        "        )\n",
        "  print(\"Fin!\")\n",
        "\n",
        "# Inicializamos la función de loss\n",
        "loss_fn = nn.CrossEntropyLoss()\n",
        "# Inicializamos el optimizador\n",
        "optimizer = torch.optim.SGD(model.parameters(), lr=learning_rate)\n",
        "\n",
        "train_model(epochs)\n",
        "# Cerramos la escritura\n",
        "summary_writer.close()"
      ],
      "metadata": {
        "id": "_yjjjf7oMjZT",
        "colab": {
          "base_uri": "https://localhost:8080/"
        },
        "outputId": "57134a9e-fdd9-4256-df7a-2c5c6bc1c062"
      },
      "execution_count": null,
      "outputs": [
        {
          "output_type": "stream",
          "name": "stdout",
          "text": [
            "Epoca 1\n",
            "--------------------------------------------------------------------------------\n",
            "loss: 2.299226  [   64/60000]\n",
            "loss: 2.171101  [ 6464/60000]\n",
            "loss: 1.872361  [12864/60000]\n",
            "loss: 1.568659  [19264/60000]\n",
            "loss: 1.228794  [25664/60000]\n",
            "loss: 1.010094  [32064/60000]\n",
            "loss: 0.983158  [38464/60000]\n",
            "loss: 0.849760  [44864/60000]\n",
            "loss: 0.858105  [51264/60000]\n",
            "loss: 0.989198  [57664/60000]\n",
            "\n",
            "Errores en Test: \n",
            "\tAccuracy: 70.7% \n",
            "\tAvg loss: 0.794598 \n",
            "\n",
            "Epoca 2\n",
            "--------------------------------------------------------------------------------\n",
            "loss: 0.826157  [   64/60000]\n",
            "loss: 0.887275  [ 6464/60000]\n",
            "loss: 0.841008  [12864/60000]\n",
            "loss: 0.727651  [19264/60000]\n",
            "loss: 0.728766  [25664/60000]\n",
            "loss: 0.620034  [32064/60000]\n",
            "loss: 0.844132  [38464/60000]\n",
            "loss: 0.626571  [44864/60000]\n",
            "loss: 0.531136  [51264/60000]\n",
            "loss: 0.630583  [57664/60000]\n",
            "\n",
            "Errores en Test: \n",
            "\tAccuracy: 77.3% \n",
            "\tAvg loss: 0.636224 \n",
            "\n",
            "Epoca 3\n",
            "--------------------------------------------------------------------------------\n",
            "loss: 0.777239  [   64/60000]\n",
            "loss: 0.621484  [ 6464/60000]\n",
            "loss: 0.534406  [12864/60000]\n",
            "loss: 0.671557  [19264/60000]\n",
            "loss: 0.454998  [25664/60000]\n",
            "loss: 0.761886  [32064/60000]\n",
            "loss: 0.735260  [38464/60000]\n",
            "loss: 0.463563  [44864/60000]\n",
            "loss: 0.479330  [51264/60000]\n",
            "loss: 0.497112  [57664/60000]\n",
            "\n",
            "Errores en Test: \n",
            "\tAccuracy: 80.1% \n",
            "\tAvg loss: 0.574402 \n",
            "\n",
            "Epoca 4\n",
            "--------------------------------------------------------------------------------\n",
            "loss: 0.494999  [   64/60000]\n",
            "loss: 0.446834  [ 6464/60000]\n",
            "loss: 0.459961  [12864/60000]\n",
            "loss: 0.612700  [19264/60000]\n",
            "loss: 0.526115  [25664/60000]\n",
            "loss: 0.600495  [32064/60000]\n",
            "loss: 0.505809  [38464/60000]\n",
            "loss: 0.559527  [44864/60000]\n",
            "loss: 0.559935  [51264/60000]\n",
            "loss: 0.530588  [57664/60000]\n",
            "\n",
            "Errores en Test: \n",
            "\tAccuracy: 81.7% \n",
            "\tAvg loss: 0.523665 \n",
            "\n",
            "Epoca 5\n",
            "--------------------------------------------------------------------------------\n",
            "loss: 0.371237  [   64/60000]\n",
            "loss: 0.497171  [ 6464/60000]\n",
            "loss: 0.538163  [12864/60000]\n",
            "loss: 0.510652  [19264/60000]\n",
            "loss: 0.469616  [25664/60000]\n",
            "loss: 0.511820  [32064/60000]\n",
            "loss: 0.418788  [38464/60000]\n",
            "loss: 0.615454  [44864/60000]\n",
            "loss: 0.588785  [51264/60000]\n",
            "loss: 0.566135  [57664/60000]\n",
            "\n",
            "Errores en Test: \n",
            "\tAccuracy: 81.3% \n",
            "\tAvg loss: 0.516324 \n",
            "\n",
            "Epoca 6\n",
            "--------------------------------------------------------------------------------\n",
            "loss: 0.441051  [   64/60000]\n",
            "loss: 0.481500  [ 6464/60000]\n",
            "loss: 0.649655  [12864/60000]\n",
            "loss: 0.518432  [19264/60000]\n",
            "loss: 0.414226  [25664/60000]\n",
            "loss: 0.465051  [32064/60000]\n",
            "loss: 0.455967  [38464/60000]\n",
            "loss: 0.408214  [44864/60000]\n",
            "loss: 0.484991  [51264/60000]\n",
            "loss: 0.368517  [57664/60000]\n",
            "\n",
            "Errores en Test: \n",
            "\tAccuracy: 82.8% \n",
            "\tAvg loss: 0.483637 \n",
            "\n",
            "Epoca 7\n",
            "--------------------------------------------------------------------------------\n",
            "loss: 0.409406  [   64/60000]\n",
            "loss: 0.351665  [ 6464/60000]\n",
            "loss: 0.311402  [12864/60000]\n",
            "loss: 0.246881  [19264/60000]\n",
            "loss: 0.587898  [25664/60000]\n",
            "loss: 0.537336  [32064/60000]\n",
            "loss: 0.426870  [38464/60000]\n",
            "loss: 0.385788  [44864/60000]\n",
            "loss: 0.348384  [51264/60000]\n",
            "loss: 0.449666  [57664/60000]\n",
            "\n",
            "Errores en Test: \n",
            "\tAccuracy: 83.4% \n",
            "\tAvg loss: 0.467423 \n",
            "\n",
            "Epoca 8\n",
            "--------------------------------------------------------------------------------\n",
            "loss: 0.509155  [   64/60000]\n",
            "loss: 0.602272  [ 6464/60000]\n",
            "loss: 0.434710  [12864/60000]\n",
            "loss: 0.426012  [19264/60000]\n",
            "loss: 0.356079  [25664/60000]\n",
            "loss: 0.395323  [32064/60000]\n",
            "loss: 0.432761  [38464/60000]\n",
            "loss: 0.470974  [44864/60000]\n",
            "loss: 0.342352  [51264/60000]\n",
            "loss: 0.418777  [57664/60000]\n",
            "\n",
            "Errores en Test: \n",
            "\tAccuracy: 83.0% \n",
            "\tAvg loss: 0.479074 \n",
            "\n",
            "Epoca 9\n",
            "--------------------------------------------------------------------------------\n",
            "loss: 0.591736  [   64/60000]\n",
            "loss: 0.378616  [ 6464/60000]\n",
            "loss: 0.564767  [12864/60000]\n",
            "loss: 0.381369  [19264/60000]\n",
            "loss: 0.505246  [25664/60000]\n",
            "loss: 0.511460  [32064/60000]\n",
            "loss: 0.276364  [38464/60000]\n",
            "loss: 0.453807  [44864/60000]\n",
            "loss: 0.516497  [51264/60000]\n",
            "loss: 0.265385  [57664/60000]\n",
            "\n",
            "Errores en Test: \n",
            "\tAccuracy: 84.0% \n",
            "\tAvg loss: 0.450748 \n",
            "\n",
            "Epoca 10\n",
            "--------------------------------------------------------------------------------\n",
            "loss: 0.646142  [   64/60000]\n",
            "loss: 0.443808  [ 6464/60000]\n",
            "loss: 0.434736  [12864/60000]\n",
            "loss: 0.487162  [19264/60000]\n",
            "loss: 0.541222  [25664/60000]\n",
            "loss: 0.421892  [32064/60000]\n",
            "loss: 0.392377  [38464/60000]\n",
            "loss: 0.382159  [44864/60000]\n",
            "loss: 0.337906  [51264/60000]\n",
            "loss: 0.368536  [57664/60000]\n",
            "\n",
            "Errores en Test: \n",
            "\tAccuracy: 84.2% \n",
            "\tAvg loss: 0.440770 \n",
            "\n",
            "Fin!\n"
          ]
        }
      ]
    },
    {
      "cell_type": "markdown",
      "source": [
        "Ver el tab `SCALARS` o\n",
        "\n",
        "![image.png](data:image/png;base64,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)"
      ],
      "metadata": {
        "id": "6Qn-HWz1JNKc"
      }
    },
    {
      "cell_type": "markdown",
      "source": [
        "Ver el tab `DISTRIBUTIONS` o\n",
        "\n",
        "![image.png](data:image/png;base64,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)"
      ],
      "metadata": {
        "id": "P0HLnOsuJUxU"
      }
    },
    {
      "cell_type": "markdown",
      "source": [
        "Ver el tab `HISTOGRAMS` o\n",
        "\n",
        "![image.png](data:image/png;base64,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)\n"
      ],
      "metadata": {
        "id": "PsomJG8PJU2y"
      }
    },
    {
      "cell_type": "markdown",
      "source": [
        "Ver el tab `HPARAMS` o\n",
        "\n",
        "![image.png](data:image/png;base64,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)"
      ],
      "metadata": {
        "id": "Lxg7hjAUTty0"
      }
    },
    {
      "cell_type": "markdown",
      "source": [
        "Ver el tab `PR CURVES` o\n",
        "\n",
        "![image.png](data:image/png;base64,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)"
      ],
      "metadata": {
        "id": "7V82BHXmdku4"
      }
    },
    {
      "cell_type": "code",
      "source": [
        "# Ejecutamos la extensión para colab, le pasamos el direcorio que definimos anteriormente\n",
        "!kill 1764\n",
        "%tensorboard --logdir {tensorboard_logs_folder}"
      ],
      "metadata": {
        "id": "AKt5mB7jMjZU",
        "colab": {
          "base_uri": "https://localhost:8080/",
          "height": 821
        },
        "outputId": "36e5ca68-fcbb-44fe-debd-31cd3edaa2c2"
      },
      "execution_count": null,
      "outputs": [
        {
          "output_type": "display_data",
          "data": {
            "text/plain": [
              "<IPython.core.display.Javascript object>"
            ],
            "application/javascript": [
              "\n",
              "        (async () => {\n",
              "            const url = new URL(await google.colab.kernel.proxyPort(6006, {'cache': true}));\n",
              "            url.searchParams.set('tensorboardColab', 'true');\n",
              "            const iframe = document.createElement('iframe');\n",
              "            iframe.src = url;\n",
              "            iframe.setAttribute('width', '100%');\n",
              "            iframe.setAttribute('height', '800');\n",
              "            iframe.setAttribute('frameborder', 0);\n",
              "            document.body.appendChild(iframe);\n",
              "        })();\n",
              "    "
            ]
          },
          "metadata": {}
        }
      ]
    }
  ]
}