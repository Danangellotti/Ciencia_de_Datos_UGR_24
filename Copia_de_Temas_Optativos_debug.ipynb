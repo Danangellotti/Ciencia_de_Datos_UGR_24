{
  "cells": [
    {
      "cell_type": "markdown",
      "metadata": {
        "id": "view-in-github",
        "colab_type": "text"
      },
      "source": [
        "<a href=\"https://colab.research.google.com/github/Danangellotti/Ciencia_de_Datos_UGR_24/blob/main/Copia_de_Temas_Optativos_debug.ipynb\" target=\"_parent\"><img src=\"https://colab.research.google.com/assets/colab-badge.svg\" alt=\"Open In Colab\"/></a>"
      ]
    },
    {
      "cell_type": "markdown",
      "metadata": {
        "id": "pJZ7ZgLXNl15"
      },
      "source": [
        "# [Debug](https://docs.python.org/3/library/pdb.html)\n",
        "\n",
        "Para poder realizar un debug del código dentro de un script o de un notebook debemos importar el módulo `import pdb`.\n",
        "\n",
        "Para hacer una pausa de la ejecución podemos invocar a la función `pdb.set_trace()` o la función `breakpoint()`.\n",
        "\n",
        "`IMPORTANTE:`\n",
        "Tener en cuenta que cuando se hace el import de `pdb` se pasa a una línea de comando de pdb y debemos ejecutar comandos propios de dicha consola.\n",
        "\n",
        "Ejemplo de utilización:\n",
        "\n",
        "| Comando | Descripción |\n",
        "| --- | --- |\n",
        "| p valor | Muestra el contenido de la variable `valor` |\n",
        "| n | Saltar a la siguiente línea |\n",
        "| p tipo | Muestra el contenido de la variable `tipo` |\n",
        "| c | Ejecuta el código hasta el final de programa |"
      ]
    },
    {
      "cell_type": "code",
      "execution_count": null,
      "metadata": {
        "id": "JZFmfT13Nx42"
      },
      "outputs": [],
      "source": [
        "import pdb\n",
        "\n",
        "def funcion_a (valor):\n",
        "  breakpoint()\n",
        "  tipo = type(valor)\n",
        "  print(f'Tipo de la variable valor es: {tipo}')\n",
        "\n",
        "funcion_a(valor=10)"
      ]
    },
    {
      "cell_type": "markdown",
      "source": [
        "## [Comandos útiles](https://docs.python.org/3/library/pdb.html#debugger-commands)\n",
        "\n",
        "* help/h: muestra todos los comandos o la ayuda de un comando específico.\n",
        "\n",
        "* where/w: muestra la traza del programa línea por línea.\n",
        "\n",
        "* step/s: entra a una subrutina o función.\n",
        "\n",
        "* next/n: pasa a la siguiente línea de ejecución.\n",
        "\n",
        "* list: Show the current location in the file\n",
        "\n",
        "* quit/q: sale del debugger pdb.\n",
        "\n",
        "* continue/c: continua hasta el próximo break o finaliza el programa.\n",
        "\n",
        "* print/p: muestra el nombre de una variable.\n",
        "\n",
        "* return/r: continua la ejecución hasta el return de la función.\n",
        "\n",
        "\n",
        "\n"
      ],
      "metadata": {
        "id": "lyEa4KccxoQi"
      }
    },
    {
      "cell_type": "markdown",
      "source": [
        "Vamos definir unas funciones de prueba y vamos a ejecutar unas listas de comandos."
      ],
      "metadata": {
        "id": "PPiESI1k0wrT"
      }
    },
    {
      "cell_type": "code",
      "source": [
        "def valor_potencia(valor: float, potencia: int) -> float:\n",
        "  \"\"\" El el valor a la potencia.\n",
        "\n",
        "  Args:\n",
        "    valor (float): Valor.\n",
        "    potencia (int): Potencia a la que se eleva el valor.\n",
        "\n",
        "  Returns:\n",
        "    float: Retorna el valor de elevar el valor a la potencia.\n",
        "  \"\"\"\n",
        "  respuesta = valor ** potencia\n",
        "  return respuesta\n",
        "\n",
        "def suma_valores(valor_1: float, valor_2: float, potencia: int) -> float:\n",
        "  \"\"\" Suma el primer valor más el segundo elevado a la potencia.\n",
        "\n",
        "  Args:\n",
        "    valor_1 (float): Valor 1.\n",
        "    valor_2 (float): Valor 2.\n",
        "    potencia (int): Potencia a la que se eleva el valor 2.\n",
        "\n",
        "  Returns:\n",
        "    float: Retorna el valor de sumar el primer valor más el\n",
        "      segundo valor elevado a la potencia.\n",
        "  \"\"\"\n",
        "  breakpoint() # PUNTO DE PARADA O STOP\n",
        "  respuesta = valor_1 + valor_potencia(valor=valor_2, potencia=potencia)\n",
        "  return respuesta"
      ],
      "metadata": {
        "id": "tnqhZPaH1TP2"
      },
      "execution_count": null,
      "outputs": []
    },
    {
      "cell_type": "markdown",
      "source": [
        "Celda que contiene el código para hacer distintas pruebas de ejecución."
      ],
      "metadata": {
        "id": "Ti8DayCf5qNW"
      }
    },
    {
      "cell_type": "code",
      "source": [
        "import pdb\n",
        "\n",
        "valor_1 = 2\n",
        "valor_2 = 3\n",
        "potencia = 4\n",
        "\n",
        "respuesta = suma_valores(valor_1=valor_1, valor_2=valor_2, potencia=potencia)\n",
        "\n",
        "print(f'El resultado final es: {respuesta}')"
      ],
      "metadata": {
        "id": "nfjFX-vp0oSv"
      },
      "execution_count": null,
      "outputs": []
    },
    {
      "cell_type": "markdown",
      "source": [
        "### Lista de comandos básica:\n",
        "\n",
        "__El valor de respuesta esperado es 83__\n",
        "\n",
        "| Comando | Descripción |\n",
        "| --- | --- |\n",
        "| p valor_1 | Muestra el contenido de la variable `valor_1` |\n",
        "| p valor_2 | Muestra el contenido de la variable `valor_2` |\n",
        "| p potencia | Muestra el contenido de la variable `potencia` |\n",
        "| n | Saltar a la siguiente línea (línea return)|\n",
        "| p respuesta | Muestra el contenido de la variable `respuesta` dentro de la función suma_valores |\n",
        "| n | Saltar a la siguiente línea (ejecuta el return) |\n",
        "| n | Saltar a la siguiente línea (sale de la función suma_valores) |\n",
        "| c | Ejecuta el código hasta el final de programa |\n"
      ],
      "metadata": {
        "id": "NjYNwkpQ04WD"
      }
    },
    {
      "cell_type": "markdown",
      "source": [
        "### Lista de comandos entrar a funciones:\n",
        "\n",
        "__El valor de respuesta esperado es 83__\n",
        "\n",
        "| Comando | Descripción |\n",
        "| --- | --- |\n",
        "| p valor_1 | Muestra el contenido de la variable `valor_1` |\n",
        "| p valor_2 | Muestra el contenido de la variable `valor_2` |\n",
        "| p potencia | Muestra el contenido de la variable `potencia` |\n",
        "| s | Entra a la función valor_potencia |\n",
        "| n | Saltar a la siguiente línea |\n",
        "| p valor | Muestra el contenido de la variable `valor` |\n",
        "| p potencia | Muestra el contenido de la variable `potencia` |\n",
        "| n | Saltar a la siguiente línea (línea return) |\n",
        "| p respuesta | Muestra el contenido de la variable `respuesta` dentro de la función valor_potencia |\n",
        "| n | Saltar a la siguiente línea (ejecuta el return) |\n",
        "| n | Saltar a la siguiente línea (sale de la función valor_potencia) |\n",
        "| p respuesta | Muestra el contenido de la variable `respuesta` dentro de la función suma_valores |\n",
        "| c | Ejecuta el código hasta el final de programa |"
      ],
      "metadata": {
        "id": "Svrg9VGM72wS"
      }
    },
    {
      "cell_type": "markdown",
      "source": [
        "### Lista de comandos cambio de valores:\n",
        "\n",
        "__El valor de respuesta esperado es 2__\n",
        "\n",
        "| Comando | Descripción |\n",
        "| --- | --- |\n",
        "| p valor_1 | Muestra el contenido de la variable `valor_1` |\n",
        "| p valor_2 | Muestra el contenido de la variable `valor_2` |\n",
        "| p potencia | Muestra el contenido de la variable `potencia` |\n",
        "| s | Entra a la función valor_potencia |\n",
        "| n | Saltar a la siguiente línea |\n",
        "| p valor | Muestra el contenido de la variable `valor` |\n",
        "| p potencia | Muestra el contenido de la variable `potencia` |\n",
        "| n | Saltar a la siguiente línea (línea return) |\n",
        "| p respuesta | Muestra el contenido de la variable `respuesta` dentro de la función valor_potencia |\n",
        "| respuesta=2 | Cambio el contenido de la variable `respuesta` dentro de la función valor_potencia |\n",
        "| p respuesta | Muestra el contenido de la variable `respuesta` dentro de la función valor_potencia |\n",
        "| n | Saltar a la siguiente línea (ejecuta el return) |\n",
        "| n | Saltar a la siguiente línea (sale de la función valor_potencia) |\n",
        "| p respuesta | Muestra el contenido de la variable `respuesta` dentro de la función suma_valores |\n",
        "| c | Ejecuta el código hasta el final de programa |"
      ],
      "metadata": {
        "id": "g1jzuktp8D1w"
      }
    },
    {
      "cell_type": "code",
      "source": [],
      "metadata": {
        "id": "aWAtPT3E2k78"
      },
      "execution_count": null,
      "outputs": []
    }
  ],
  "metadata": {
    "colab": {
      "provenance": [],
      "include_colab_link": true
    },
    "kernelspec": {
      "display_name": "Python 3",
      "name": "python3"
    },
    "language_info": {
      "name": "python"
    }
  },
  "nbformat": 4,
  "nbformat_minor": 0
}