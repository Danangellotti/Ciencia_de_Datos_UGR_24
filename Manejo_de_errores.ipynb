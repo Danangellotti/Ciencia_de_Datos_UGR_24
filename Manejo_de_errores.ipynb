{
  "nbformat": 4,
  "nbformat_minor": 0,
  "metadata": {
    "colab": {
      "provenance": [],
      "authorship_tag": "ABX9TyPVWwA6Q9ax7OmGL8g9jBuY",
      "include_colab_link": true
    },
    "kernelspec": {
      "name": "python3",
      "display_name": "Python 3"
    },
    "language_info": {
      "name": "python"
    }
  },
  "cells": [
    {
      "cell_type": "markdown",
      "metadata": {
        "id": "view-in-github",
        "colab_type": "text"
      },
      "source": [
        "<a href=\"https://colab.research.google.com/github/Danangellotti/Ciencia_de_Datos_UGR_24/blob/main/Manejo_de_errores.ipynb\" target=\"_parent\"><img src=\"https://colab.research.google.com/assets/colab-badge.svg\" alt=\"Open In Colab\"/></a>"
      ]
    },
    {
      "cell_type": "markdown",
      "source": [
        "# Manejo de errores\n",
        "\n",
        "```python\n",
        "# utlizamos la sentencias\n",
        "try:\n",
        "  # Sentencias\n",
        "except Exception as e:\n",
        "  # Sentencias\n",
        "finally:\n",
        "  # Sentencias\n",
        "```"
      ],
      "metadata": {
        "id": "wwB4KwXEQ5N_"
      }
    },
    {
      "cell_type": "code",
      "source": [
        "valor:int = 1\n",
        "muestra:str = \"valor: \" + valor\n",
        "print(muestra)"
      ],
      "metadata": {
        "colab": {
          "base_uri": "https://localhost:8080/",
          "height": 176
        },
        "id": "mwBL91SURX53",
        "outputId": "39f42143-9119-4365-a550-dc4e8893995d"
      },
      "execution_count": null,
      "outputs": [
        {
          "output_type": "error",
          "ename": "TypeError",
          "evalue": "can only concatenate str (not \"int\") to str",
          "traceback": [
            "\u001b[0;31m---------------------------------------------------------------------------\u001b[0m",
            "\u001b[0;31mTypeError\u001b[0m                                 Traceback (most recent call last)",
            "\u001b[0;32m<ipython-input-1-c09e3b157868>\u001b[0m in \u001b[0;36m<cell line: 2>\u001b[0;34m()\u001b[0m\n\u001b[1;32m      1\u001b[0m \u001b[0mvalor\u001b[0m\u001b[0;34m:\u001b[0m\u001b[0mint\u001b[0m \u001b[0;34m=\u001b[0m \u001b[0;36m1\u001b[0m\u001b[0;34m\u001b[0m\u001b[0;34m\u001b[0m\u001b[0m\n\u001b[0;32m----> 2\u001b[0;31m \u001b[0mmuestra\u001b[0m\u001b[0;34m:\u001b[0m\u001b[0mstr\u001b[0m \u001b[0;34m=\u001b[0m \u001b[0;34m\"valor: \"\u001b[0m \u001b[0;34m+\u001b[0m \u001b[0mvalor\u001b[0m\u001b[0;34m\u001b[0m\u001b[0;34m\u001b[0m\u001b[0m\n\u001b[0m\u001b[1;32m      3\u001b[0m \u001b[0mprint\u001b[0m\u001b[0;34m(\u001b[0m\u001b[0mmuestra\u001b[0m\u001b[0;34m)\u001b[0m\u001b[0;34m\u001b[0m\u001b[0;34m\u001b[0m\u001b[0m\n",
            "\u001b[0;31mTypeError\u001b[0m: can only concatenate str (not \"int\") to str"
          ]
        }
      ]
    },
    {
      "cell_type": "code",
      "source": [
        "valor:int = 1\n",
        "try:\n",
        "  muestra:str = \"valor: \" + valor\n",
        "except TypeError as e:\n",
        "  print(\"No se puede concatenar un string y un entero.\")\n",
        "  print(\"Conversión automática del valor.\")\n",
        "  muestra:str = \"valor: \" + str(valor)\n",
        "print(muestra)"
      ],
      "metadata": {
        "colab": {
          "base_uri": "https://localhost:8080/"
        },
        "id": "PQ2CCu7LReSz",
        "outputId": "6a4eceb1-e4fe-4bc5-8cb6-aa46f3407c80"
      },
      "execution_count": null,
      "outputs": [
        {
          "output_type": "stream",
          "name": "stdout",
          "text": [
            "No se puede concatenar un string y un entero.\n",
            "Conversión automática del valor.\n",
            "valor: 1\n"
          ]
        }
      ]
    },
    {
      "cell_type": "code",
      "execution_count": null,
      "metadata": {
        "colab": {
          "base_uri": "https://localhost:8080/"
        },
        "id": "opsds3D2QtXW",
        "outputId": "8e68f43c-13ca-4912-b06c-92b2e73d963d"
      },
      "outputs": [
        {
          "output_type": "stream",
          "name": "stdout",
          "text": [
            "valor: \n"
          ]
        }
      ],
      "source": [
        "valor:int = 1\n",
        "muestra:str = \"valor: \"\n",
        "try:\n",
        "  muestra += valor\n",
        "except TypeError as e:\n",
        "  pass # es como una linea en blanco\n",
        "print(muestra)"
      ]
    },
    {
      "cell_type": "code",
      "source": [
        "valor:int = 1\n",
        "muestra:str = \"valor: \"\n",
        "try:\n",
        "  muestra += \"try\"\n",
        "  muestra += valor\n",
        "except TypeError as e:\n",
        "  muestra += \"_except\"\n",
        "finally:\n",
        "  muestra += \"!\"\n",
        "print(muestra)"
      ],
      "metadata": {
        "colab": {
          "base_uri": "https://localhost:8080/"
        },
        "id": "nVUq-_ZARo2W",
        "outputId": "0aaf0be8-d423-40e6-827d-b0792fde8976"
      },
      "execution_count": null,
      "outputs": [
        {
          "output_type": "stream",
          "name": "stdout",
          "text": [
            "valor: try_except!\n"
          ]
        }
      ]
    },
    {
      "cell_type": "code",
      "source": [
        "valor:int = 1\n",
        "muestra:str = \"valor: \"\n",
        "if isinstance(valor, int):\n",
        "  raise TypeError(100, \"El valor no puede ser entero.\")\n",
        "try:\n",
        "  muestra += valor\n",
        "except TypeError as e:\n",
        "  pass\n",
        "finally:\n",
        "  muestra += \"!\"\n",
        "print(muestra)"
      ],
      "metadata": {
        "colab": {
          "base_uri": "https://localhost:8080/",
          "height": 211
        },
        "id": "1MMdryeRRtBB",
        "outputId": "6263d15b-c1ac-496a-e0a7-b08314d49221"
      },
      "execution_count": null,
      "outputs": [
        {
          "output_type": "error",
          "ename": "TypeError",
          "evalue": "(100, 'El valor no puede ser entero.')",
          "traceback": [
            "\u001b[0;31m---------------------------------------------------------------------------\u001b[0m",
            "\u001b[0;31mTypeError\u001b[0m                                 Traceback (most recent call last)",
            "\u001b[0;32m<ipython-input-5-70947b0b3295>\u001b[0m in \u001b[0;36m<cell line: 3>\u001b[0;34m()\u001b[0m\n\u001b[1;32m      2\u001b[0m \u001b[0mmuestra\u001b[0m\u001b[0;34m:\u001b[0m\u001b[0mstr\u001b[0m \u001b[0;34m=\u001b[0m \u001b[0;34m\"valor: \"\u001b[0m\u001b[0;34m\u001b[0m\u001b[0;34m\u001b[0m\u001b[0m\n\u001b[1;32m      3\u001b[0m \u001b[0;32mif\u001b[0m \u001b[0misinstance\u001b[0m\u001b[0;34m(\u001b[0m\u001b[0mvalor\u001b[0m\u001b[0;34m,\u001b[0m \u001b[0mint\u001b[0m\u001b[0;34m)\u001b[0m\u001b[0;34m:\u001b[0m\u001b[0;34m\u001b[0m\u001b[0;34m\u001b[0m\u001b[0m\n\u001b[0;32m----> 4\u001b[0;31m   \u001b[0;32mraise\u001b[0m \u001b[0mTypeError\u001b[0m\u001b[0;34m(\u001b[0m\u001b[0;36m100\u001b[0m\u001b[0;34m,\u001b[0m \u001b[0;34m\"El valor no puede ser entero.\"\u001b[0m\u001b[0;34m)\u001b[0m\u001b[0;34m\u001b[0m\u001b[0;34m\u001b[0m\u001b[0m\n\u001b[0m\u001b[1;32m      5\u001b[0m \u001b[0;32mtry\u001b[0m\u001b[0;34m:\u001b[0m\u001b[0;34m\u001b[0m\u001b[0;34m\u001b[0m\u001b[0m\n\u001b[1;32m      6\u001b[0m   \u001b[0mmuestra\u001b[0m \u001b[0;34m+=\u001b[0m \u001b[0mvalor\u001b[0m\u001b[0;34m\u001b[0m\u001b[0;34m\u001b[0m\u001b[0m\n",
            "\u001b[0;31mTypeError\u001b[0m: (100, 'El valor no puede ser entero.')"
          ]
        }
      ]
    }
  ]
}